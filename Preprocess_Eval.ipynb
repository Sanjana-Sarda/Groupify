{
 "cells": [
  {
   "cell_type": "code",
   "execution_count": 1,
   "metadata": {},
   "outputs": [
    {
     "name": "stdout",
     "output_type": "stream",
     "text": [
      "Requirement already satisfied: Spotipy in c:\\users\\sarda\\anaconda3\\lib\\site-packages (2.19.0)\n",
      "Requirement already satisfied: six>=1.15.0 in c:\\users\\sarda\\anaconda3\\lib\\site-packages (from Spotipy) (1.15.0)\n",
      "Requirement already satisfied: requests>=2.25.0 in c:\\users\\sarda\\anaconda3\\lib\\site-packages (from Spotipy) (2.25.1)\n",
      "Requirement already satisfied: urllib3>=1.26.0 in c:\\users\\sarda\\anaconda3\\lib\\site-packages (from Spotipy) (1.26.4)\n",
      "Requirement already satisfied: chardet<5,>=3.0.2 in c:\\users\\sarda\\anaconda3\\lib\\site-packages (from requests>=2.25.0->Spotipy) (4.0.0)\n",
      "Requirement already satisfied: certifi>=2017.4.17 in c:\\users\\sarda\\anaconda3\\lib\\site-packages (from requests>=2.25.0->Spotipy) (2020.12.5)\n",
      "Requirement already satisfied: idna<3,>=2.5 in c:\\users\\sarda\\anaconda3\\lib\\site-packages (from requests>=2.25.0->Spotipy) (2.10)\n"
     ]
    }
   ],
   "source": [
    "!pip install Spotipy"
   ]
  },
  {
   "cell_type": "code",
   "execution_count": 2,
   "metadata": {},
   "outputs": [],
   "source": [
    "import os\n",
    "import pandas as pd\n",
    "import numpy as np\n",
    "import json\n",
    "import matplotlib.pyplot as plt\n",
    "import seaborn as sns\n",
    "%config InlineBackend.figure_format ='retina'\n",
    "import spotipy\n",
    "import spotipy.util as util\n",
    "from spotipy.oauth2 import SpotifyClientCredentials\n",
    "from spotipy import oauth2\n",
    "import random\n",
    "from functools import reduce"
   ]
  },
  {
   "cell_type": "code",
   "execution_count": 4,
   "metadata": {},
   "outputs": [
    {
     "name": "stdout",
     "output_type": "stream",
     "text": [
      "Requirement already satisfied: flask in c:\\users\\sarda\\anaconda3\\lib\\site-packages (from -r requirements.txt (line 1)) (1.1.2)\n",
      "Collecting gunicorn\n",
      "  Downloading gunicorn-20.1.0-py3-none-any.whl (79 kB)\n",
      "Collecting flask-socketio==4.3.2\n",
      "  Downloading Flask_SocketIO-4.3.2-py2.py3-none-any.whl (15 kB)\n",
      "Collecting eventlet\n",
      "  Downloading eventlet-0.33.0-py2.py3-none-any.whl (226 kB)\n",
      "Requirement already satisfied: requests in c:\\users\\sarda\\anaconda3\\lib\\site-packages (from -r requirements.txt (line 5)) (2.25.1)\n",
      "Collecting gevent-websocket\n",
      "  Downloading gevent_websocket-0.10.1-py3-none-any.whl (22 kB)\n",
      "Collecting python-socketio<5,>=4.3.0\n",
      "  Downloading python_socketio-4.6.1-py2.py3-none-any.whl (51 kB)\n",
      "Requirement already satisfied: Werkzeug>=0.15 in c:\\users\\sarda\\anaconda3\\lib\\site-packages (from flask->-r requirements.txt (line 1)) (1.0.1)\n",
      "Requirement already satisfied: click>=5.1 in c:\\users\\sarda\\anaconda3\\lib\\site-packages (from flask->-r requirements.txt (line 1)) (7.1.2)\n",
      "Requirement already satisfied: itsdangerous>=0.24 in c:\\users\\sarda\\anaconda3\\lib\\site-packages (from flask->-r requirements.txt (line 1)) (1.1.0)\n",
      "Requirement already satisfied: Jinja2>=2.10.1 in c:\\users\\sarda\\anaconda3\\lib\\site-packages (from flask->-r requirements.txt (line 1)) (2.11.3)\n",
      "Requirement already satisfied: MarkupSafe>=0.23 in c:\\users\\sarda\\anaconda3\\lib\\site-packages (from Jinja2>=2.10.1->flask->-r requirements.txt (line 1)) (1.1.1)\n",
      "Collecting python-engineio<4,>=3.13.0\n",
      "  Downloading python_engineio-3.14.2-py2.py3-none-any.whl (51 kB)\n",
      "Requirement already satisfied: six>=1.9.0 in c:\\users\\sarda\\anaconda3\\lib\\site-packages (from python-socketio<5,>=4.3.0->flask-socketio==4.3.2->-r requirements.txt (line 3)) (1.15.0)\n",
      "Requirement already satisfied: greenlet>=0.3 in c:\\users\\sarda\\anaconda3\\lib\\site-packages (from eventlet->-r requirements.txt (line 4)) (1.0.0)\n",
      "Collecting dnspython>=1.15.0\n",
      "  Downloading dnspython-2.2.0-py3-none-any.whl (266 kB)\n",
      "Requirement already satisfied: gevent in c:\\users\\sarda\\anaconda3\\lib\\site-packages (from gevent-websocket->-r requirements.txt (line 6)) (21.1.2)\n",
      "Requirement already satisfied: setuptools>=3.0 in c:\\users\\sarda\\anaconda3\\lib\\site-packages (from gunicorn->-r requirements.txt (line 2)) (52.0.0.post20210125)\n",
      "Requirement already satisfied: certifi>=2017.4.17 in c:\\users\\sarda\\anaconda3\\lib\\site-packages (from requests->-r requirements.txt (line 5)) (2020.12.5)\n",
      "Requirement already satisfied: chardet<5,>=3.0.2 in c:\\users\\sarda\\anaconda3\\lib\\site-packages (from requests->-r requirements.txt (line 5)) (4.0.0)\n",
      "Requirement already satisfied: urllib3<1.27,>=1.21.1 in c:\\users\\sarda\\anaconda3\\lib\\site-packages (from requests->-r requirements.txt (line 5)) (1.26.4)\n",
      "Requirement already satisfied: idna<3,>=2.5 in c:\\users\\sarda\\anaconda3\\lib\\site-packages (from requests->-r requirements.txt (line 5)) (2.10)\n",
      "Requirement already satisfied: zope.event in c:\\users\\sarda\\anaconda3\\lib\\site-packages (from gevent->gevent-websocket->-r requirements.txt (line 6)) (4.5.0)\n",
      "Requirement already satisfied: cffi>=1.12.2 in c:\\users\\sarda\\anaconda3\\lib\\site-packages (from gevent->gevent-websocket->-r requirements.txt (line 6)) (1.14.5)\n",
      "Requirement already satisfied: zope.interface in c:\\users\\sarda\\anaconda3\\lib\\site-packages (from gevent->gevent-websocket->-r requirements.txt (line 6)) (5.3.0)\n",
      "Requirement already satisfied: pycparser in c:\\users\\sarda\\anaconda3\\lib\\site-packages (from cffi>=1.12.2->gevent->gevent-websocket->-r requirements.txt (line 6)) (2.20)\n",
      "Installing collected packages: python-engineio, python-socketio, dnspython, gunicorn, gevent-websocket, flask-socketio, eventlet\n",
      "Successfully installed dnspython-2.2.0 eventlet-0.33.0 flask-socketio-4.3.2 gevent-websocket-0.10.1 gunicorn-20.1.0 python-engineio-3.14.2 python-socketio-4.6.1\n"
     ]
    }
   ],
   "source": [
    "!pip install -r requirements.txt"
   ]
  },
  {
   "cell_type": "code",
   "execution_count": 337,
   "metadata": {},
   "outputs": [],
   "source": [
    "import spotipy\n",
    "from spotipy.oauth2 import SpotifyClientCredentials\n",
    "import spotipy.util as util\n",
    "\n",
    "\n",
    "cid ='' # Client ID; copy this from your app created on beta.developer.spotify.com\n",
    "secret = '' # Client Secret; copy this from your app\n",
    "username = 'sanjsarda' # Your Spotify username\n",
    "redirect_uri = 'https://example.com'\n",
    "\n",
    "# Once the Authorisation is complete, we just need to `sp` to call the APIs\n",
    "scope = 'user-top-read user-read-recently-played user-follow-read playlist-modify-public user-library-read playlist-read-collaborative'\n",
    "token = util.prompt_for_user_token(username, scope, client_id=cid, client_secret=secret, redirect_uri=redirect_uri)\n",
    "\n",
    "if token:\n",
    "    sp = spotipy.Spotify(auth=token)\n",
    "else:\n",
    "    print(\"Can't get token for\", username)"
   ]
  },
  {
   "cell_type": "code",
   "execution_count": 338,
   "metadata": {},
   "outputs": [],
   "source": [
    "def get_tracks (sp,genre,popularity=50,limit=100):\n",
    "    recos=sp.recommendations(seed_genres=genre,limit=limit, min_popularity=popularity)\n",
    "    track_ids=[]\n",
    "    for track in recos['tracks']:\n",
    "        album_id=track['album']['id']\n",
    "        album_tracks=sp.album_tracks(album_id)\n",
    "        for track in album_tracks['items']:\n",
    "            track_ids.append(track['id'])\n",
    "    return track_ids"
   ]
  },
  {
   "cell_type": "code",
   "execution_count": 339,
   "metadata": {},
   "outputs": [],
   "source": [
    "x=get_tracks(sp,['acoustic'])"
   ]
  },
  {
   "cell_type": "code",
   "execution_count": 340,
   "metadata": {},
   "outputs": [
    {
     "data": {
      "text/plain": [
       "1192"
      ]
     },
     "execution_count": 340,
     "metadata": {},
     "output_type": "execute_result"
    }
   ],
   "source": [
    "len(x)"
   ]
  },
  {
   "cell_type": "code",
   "execution_count": 9,
   "metadata": {},
   "outputs": [],
   "source": [
    "def get_user_profile(sp):\n",
    "    results_favorite= sp.current_user_top_tracks(limit=25, offset=0,time_range='medium_term')\n",
    "    results_recents= sp.current_user_recently_played(limit=25)\n",
    "    \n",
    "    track_name = []\n",
    "    track_id = []\n",
    "    artist = []\n",
    "    artist_id = []\n",
    "    album = []\n",
    "    duration = []\n",
    "    popularity = []\n",
    "    genres= set()\n",
    "    \n",
    "    for i, items in enumerate(results_favorite['items']):\n",
    "        track_name.append(items['name'])\n",
    "        track_id.append(items['id'])\n",
    "        artist.append(items[\"artists\"][0][\"name\"])\n",
    "        artist_id.append(items[\"artists\"][0][\"id\"])\n",
    "        genres.update(sp.artist(items[\"artists\"][0][\"id\"])['genres'])\n",
    "        duration.append(items[\"duration_ms\"])\n",
    "        album.append(items[\"album\"][\"name\"])\n",
    "        popularity.append(items[\"popularity\"])\n",
    "        \n",
    "    for i, items in enumerate(results_recents['items']):\n",
    "        track_name.append(items['track']['name'])\n",
    "        track_id.append(items['track']['id'])\n",
    "        artist.append(items['track'][\"artists\"][0][\"name\"])\n",
    "        artist_id.append(items['track'][\"artists\"][0][\"id\"])\n",
    "        genres.update(sp.artist(items['track'][\"artists\"][0][\"id\"])['genres'])\n",
    "        duration.append(items['track'][\"duration_ms\"])\n",
    "        album.append(items['track'][\"album\"][\"name\"])\n",
    "        popularity.append(items['track'][\"popularity\"])\n",
    "        \n",
    "        \n",
    "    df_user = pd.DataFrame({ \"track_name\": track_name, \n",
    "                             \"album\": album, \n",
    "                             \"track_id\": track_id,\n",
    "                             \"artist\": artist, \n",
    "                             \"artist_id\": artist_id,\n",
    "                             \"duration\": duration, \n",
    "                             \"popularity\": popularity})\n",
    "    \n",
    "    df_user.drop_duplicates(keep='first',inplace=True)\n",
    "    return df_user, genres"
   ]
  },
  {
   "cell_type": "code",
   "execution_count": 10,
   "metadata": {},
   "outputs": [],
   "source": [
    "user_profile, user_genres=get_user_profile(sp)"
   ]
  },
  {
   "cell_type": "code",
   "execution_count": 11,
   "metadata": {},
   "outputs": [
    {
     "data": {
      "text/html": [
       "<div>\n",
       "<style scoped>\n",
       "    .dataframe tbody tr th:only-of-type {\n",
       "        vertical-align: middle;\n",
       "    }\n",
       "\n",
       "    .dataframe tbody tr th {\n",
       "        vertical-align: top;\n",
       "    }\n",
       "\n",
       "    .dataframe thead th {\n",
       "        text-align: right;\n",
       "    }\n",
       "</style>\n",
       "<table border=\"1\" class=\"dataframe\">\n",
       "  <thead>\n",
       "    <tr style=\"text-align: right;\">\n",
       "      <th></th>\n",
       "      <th>track_name</th>\n",
       "      <th>album</th>\n",
       "      <th>track_id</th>\n",
       "      <th>artist</th>\n",
       "      <th>artist_id</th>\n",
       "      <th>duration</th>\n",
       "      <th>popularity</th>\n",
       "    </tr>\n",
       "  </thead>\n",
       "  <tbody>\n",
       "    <tr>\n",
       "      <th>0</th>\n",
       "      <td>Knew You</td>\n",
       "      <td>Here In Your Bedroom</td>\n",
       "      <td>0WfV9XwpkldKdjzw4qoyAd</td>\n",
       "      <td>Kailee Morgue</td>\n",
       "      <td>245PKF3hKjtxJKIG153kF0</td>\n",
       "      <td>185408</td>\n",
       "      <td>40</td>\n",
       "    </tr>\n",
       "    <tr>\n",
       "      <th>1</th>\n",
       "      <td>Flower Shops (feat. Morgan Wallen)</td>\n",
       "      <td>Flower Shops (feat. Morgan Wallen)</td>\n",
       "      <td>2ccuOtUjIyx3tPcsnpeBzJ</td>\n",
       "      <td>ERNEST</td>\n",
       "      <td>4GGfAshSkqoxpZdoaHm7ky</td>\n",
       "      <td>214405</td>\n",
       "      <td>80</td>\n",
       "    </tr>\n",
       "    <tr>\n",
       "      <th>2</th>\n",
       "      <td>Backseat (Kiss Me)</td>\n",
       "      <td>Backseat (Kiss Me)</td>\n",
       "      <td>7dbnw3cDgeDxOxJJ7QiAiD</td>\n",
       "      <td>Jutes</td>\n",
       "      <td>53fzjsJnjEKkA6TdncuIM4</td>\n",
       "      <td>166060</td>\n",
       "      <td>54</td>\n",
       "    </tr>\n",
       "    <tr>\n",
       "      <th>3</th>\n",
       "      <td>He Went To Jared (HARDY feat. Morgan Wallen)</td>\n",
       "      <td>He Went To Jared (HARDY feat. Morgan Wallen)</td>\n",
       "      <td>25uzAwyPekZtWzlLVvUYNS</td>\n",
       "      <td>HARDY</td>\n",
       "      <td>5QNm7E7RU2m64l6Gliu8Oy</td>\n",
       "      <td>213693</td>\n",
       "      <td>51</td>\n",
       "    </tr>\n",
       "    <tr>\n",
       "      <th>4</th>\n",
       "      <td>lie to me</td>\n",
       "      <td>lie to me</td>\n",
       "      <td>4f9IfFvBFm7Gsf1IVEudyf</td>\n",
       "      <td>Tate McRae</td>\n",
       "      <td>45dkTj5sMRSjrmBSBeiHym</td>\n",
       "      <td>177440</td>\n",
       "      <td>71</td>\n",
       "    </tr>\n",
       "    <tr>\n",
       "      <th>5</th>\n",
       "      <td>Taste of You</td>\n",
       "      <td>Taste of You</td>\n",
       "      <td>655sojH8GGEteZTBJOFyy7</td>\n",
       "      <td>Rezz</td>\n",
       "      <td>4aKdmOXdUKX07HVd3sGgzw</td>\n",
       "      <td>167606</td>\n",
       "      <td>64</td>\n",
       "    </tr>\n",
       "    <tr>\n",
       "      <th>6</th>\n",
       "      <td>One of Them Nights</td>\n",
       "      <td>One of Them Nights</td>\n",
       "      <td>4ks4jp4jGsmffhbUegLG6S</td>\n",
       "      <td>Chris Young</td>\n",
       "      <td>4BYxqVkZyFjtik7crYLg5Q</td>\n",
       "      <td>162520</td>\n",
       "      <td>38</td>\n",
       "    </tr>\n",
       "    <tr>\n",
       "      <th>7</th>\n",
       "      <td>Beggin'</td>\n",
       "      <td>Conquest</td>\n",
       "      <td>4YeKAwFn69ehnciOfi7Sbf</td>\n",
       "      <td>Madcon</td>\n",
       "      <td>6c4sUNBgdonFJz8Kx2VsGz</td>\n",
       "      <td>218706</td>\n",
       "      <td>65</td>\n",
       "    </tr>\n",
       "    <tr>\n",
       "      <th>8</th>\n",
       "      <td>come over</td>\n",
       "      <td>After Midnight</td>\n",
       "      <td>6PGJZEvtlf2EJPu9VLqI3q</td>\n",
       "      <td>12AM</td>\n",
       "      <td>4FHtVj8v4il9h5HRQ4Ib3n</td>\n",
       "      <td>126087</td>\n",
       "      <td>15</td>\n",
       "    </tr>\n",
       "    <tr>\n",
       "      <th>9</th>\n",
       "      <td>The Reason</td>\n",
       "      <td>The Reason (15th Anniversary Deluxe)</td>\n",
       "      <td>77loZpT5Y5PRP1S451P9Yz</td>\n",
       "      <td>Hoobastank</td>\n",
       "      <td>2MqhkhX4npxDZ62ObR5ELO</td>\n",
       "      <td>232800</td>\n",
       "      <td>83</td>\n",
       "    </tr>\n",
       "    <tr>\n",
       "      <th>10</th>\n",
       "      <td>Machine</td>\n",
       "      <td>Machine</td>\n",
       "      <td>2qPesmvW3Ybks41YWlstf1</td>\n",
       "      <td>Miquela</td>\n",
       "      <td>7licaqhcEBQUzz9FownRaJ</td>\n",
       "      <td>219824</td>\n",
       "      <td>41</td>\n",
       "    </tr>\n",
       "    <tr>\n",
       "      <th>11</th>\n",
       "      <td>Three Feet Away</td>\n",
       "      <td>Three Feet Away</td>\n",
       "      <td>41OtlB4xN40fRSpq6b4QNS</td>\n",
       "      <td>Vanglowe</td>\n",
       "      <td>7jUAn5ijg8rI670EtbHfbJ</td>\n",
       "      <td>198367</td>\n",
       "      <td>44</td>\n",
       "    </tr>\n",
       "    <tr>\n",
       "      <th>12</th>\n",
       "      <td>Down On Me</td>\n",
       "      <td>All About You</td>\n",
       "      <td>0x3TibRgnSqzkcwrqBd4iX</td>\n",
       "      <td>Jeremih</td>\n",
       "      <td>3KV3p5EY4AvKxOlhGHORLg</td>\n",
       "      <td>228453</td>\n",
       "      <td>76</td>\n",
       "    </tr>\n",
       "    <tr>\n",
       "      <th>13</th>\n",
       "      <td>Kiss Me More (feat. SZA)</td>\n",
       "      <td>Kiss Me More (feat. SZA)</td>\n",
       "      <td>748mdHapucXQri7IAO8yFK</td>\n",
       "      <td>Doja Cat</td>\n",
       "      <td>5cj0lLjcoR7YOSnhnX0Po5</td>\n",
       "      <td>208866</td>\n",
       "      <td>89</td>\n",
       "    </tr>\n",
       "    <tr>\n",
       "      <th>14</th>\n",
       "      <td>Girl Next Door (Remix) [feat. Wiz Khalifa, DVBBS]</td>\n",
       "      <td>Girl Next Door (Remix) [feat. Wiz Khalifa, DVBBS]</td>\n",
       "      <td>6ip4lEjzq1GQHIuikQBiZa</td>\n",
       "      <td>SK8</td>\n",
       "      <td>4YqctGfuLnSvjjlFQvNish</td>\n",
       "      <td>215841</td>\n",
       "      <td>44</td>\n",
       "    </tr>\n",
       "    <tr>\n",
       "      <th>15</th>\n",
       "      <td>Stop Draggin' Your Boots</td>\n",
       "      <td>Stop Draggin' Your Boots</td>\n",
       "      <td>0ODaBMQ3tbTefbmbMWTwdT</td>\n",
       "      <td>Danielle Bradbery</td>\n",
       "      <td>5iqStkZi6QmG8sgQZQrfGN</td>\n",
       "      <td>164347</td>\n",
       "      <td>75</td>\n",
       "    </tr>\n",
       "    <tr>\n",
       "      <th>16</th>\n",
       "      <td>U Remind Me</td>\n",
       "      <td>U Remind Me</td>\n",
       "      <td>0gMfgLE3milkpO6Umr3aAC</td>\n",
       "      <td>Zolita</td>\n",
       "      <td>7nnTzZ5tZrPx14iDnmjksU</td>\n",
       "      <td>177383</td>\n",
       "      <td>44</td>\n",
       "    </tr>\n",
       "    <tr>\n",
       "      <th>17</th>\n",
       "      <td>rock bottom (feat. nothing,nowhere.)</td>\n",
       "      <td>joke's on you</td>\n",
       "      <td>5d1OeQBC6zyHO8jc2svOZz</td>\n",
       "      <td>guccihighwaters</td>\n",
       "      <td>7EIOmfcBRSR63ZaUptkD09</td>\n",
       "      <td>165424</td>\n",
       "      <td>60</td>\n",
       "    </tr>\n",
       "    <tr>\n",
       "      <th>18</th>\n",
       "      <td>Lips Of An Angel</td>\n",
       "      <td>Extreme Behavior</td>\n",
       "      <td>40LQiUUUKXVGyNs09lHVjW</td>\n",
       "      <td>Hinder</td>\n",
       "      <td>6BMhCQJYHxxKAeqYS1p5rY</td>\n",
       "      <td>261853</td>\n",
       "      <td>76</td>\n",
       "    </tr>\n",
       "    <tr>\n",
       "      <th>19</th>\n",
       "      <td>MONOPOLY (with Victoria Monét)</td>\n",
       "      <td>MONOPOLY</td>\n",
       "      <td>6tsOcBnaKgzK22yEiqRh8P</td>\n",
       "      <td>Ariana Grande</td>\n",
       "      <td>66CXWjxzNUsdJxJ2JdwvnR</td>\n",
       "      <td>158586</td>\n",
       "      <td>68</td>\n",
       "    </tr>\n",
       "    <tr>\n",
       "      <th>20</th>\n",
       "      <td>E-GIRLS ARE RUINING MY LIFE!</td>\n",
       "      <td>E-GIRLS ARE RUINING MY LIFE!</td>\n",
       "      <td>7bCfHiRcfUjG0YVVNUL7Ve</td>\n",
       "      <td>CORPSE</td>\n",
       "      <td>7yntSJ6uojO3z6GFUVwhAW</td>\n",
       "      <td>105176</td>\n",
       "      <td>78</td>\n",
       "    </tr>\n",
       "    <tr>\n",
       "      <th>21</th>\n",
       "      <td>D.R.E.A.M.</td>\n",
       "      <td>Find Your Home</td>\n",
       "      <td>1nFwdOtgSlwlauOjoWX5qv</td>\n",
       "      <td>Jonny Craig</td>\n",
       "      <td>46MmlFKM8ivDsUnGOejvSM</td>\n",
       "      <td>203050</td>\n",
       "      <td>49</td>\n",
       "    </tr>\n",
       "    <tr>\n",
       "      <th>22</th>\n",
       "      <td>Baby, I'm Jealous (feat. Doja Cat)</td>\n",
       "      <td>Baby, I'm Jealous (feat. Doja Cat)</td>\n",
       "      <td>2fTdRdN73RgIgcUZN33dvt</td>\n",
       "      <td>Bebe Rexha</td>\n",
       "      <td>64M6ah0SkkRsnPGtGiRAbb</td>\n",
       "      <td>175873</td>\n",
       "      <td>69</td>\n",
       "    </tr>\n",
       "    <tr>\n",
       "      <th>23</th>\n",
       "      <td>Polite - Mura Masa Remix</td>\n",
       "      <td>Polite (Mura Masa Remix)</td>\n",
       "      <td>1p9rgYTrfwr2vfSlHXHOyn</td>\n",
       "      <td>Erika de Casier</td>\n",
       "      <td>1nIJEqPyIj5qutlgWNmQB0</td>\n",
       "      <td>230273</td>\n",
       "      <td>50</td>\n",
       "    </tr>\n",
       "    <tr>\n",
       "      <th>24</th>\n",
       "      <td>Again (feat. XXXTENTACION)</td>\n",
       "      <td>Again (feat. XXXTENTACION)</td>\n",
       "      <td>2S2od3hT7ceytw7d1pTRuE</td>\n",
       "      <td>Noah Cyrus</td>\n",
       "      <td>55fhWPvDiMpLnE4ZzNXZyW</td>\n",
       "      <td>193961</td>\n",
       "      <td>72</td>\n",
       "    </tr>\n",
       "    <tr>\n",
       "      <th>25</th>\n",
       "      <td>Set Me Free</td>\n",
       "      <td>Diamonds in the Rough</td>\n",
       "      <td>0ZvKcvzELuiKb85hQIbkNb</td>\n",
       "      <td>Avenged Sevenfold</td>\n",
       "      <td>0nmQIMXWTXfhgOBdNzhGOs</td>\n",
       "      <td>381200</td>\n",
       "      <td>50</td>\n",
       "    </tr>\n",
       "    <tr>\n",
       "      <th>26</th>\n",
       "      <td>Let It Go</td>\n",
       "      <td>Thank You,</td>\n",
       "      <td>4Zm0cTwEMly3aCgPdyqIQz</td>\n",
       "      <td>The Neighbourhood</td>\n",
       "      <td>77SW9BnxLY8rJ0RciFqkHh</td>\n",
       "      <td>197266</td>\n",
       "      <td>43</td>\n",
       "    </tr>\n",
       "    <tr>\n",
       "      <th>27</th>\n",
       "      <td>Sunshine Of Your Love</td>\n",
       "      <td>Disraeli Gears (Deluxe Edition)</td>\n",
       "      <td>2K2M0TcglCRLLpFOzKeFZA</td>\n",
       "      <td>Cream</td>\n",
       "      <td>74oJ4qxwOZvX6oSsu1DGnw</td>\n",
       "      <td>250400</td>\n",
       "      <td>72</td>\n",
       "    </tr>\n",
       "    <tr>\n",
       "      <th>28</th>\n",
       "      <td>Time of the Season - Mono Version</td>\n",
       "      <td>Odessey and Oracle</td>\n",
       "      <td>5AJrhrwz4oSZX2PwwV4qrN</td>\n",
       "      <td>The Zombies</td>\n",
       "      <td>2jgPkn6LuUazBoBk6vvjh5</td>\n",
       "      <td>214026</td>\n",
       "      <td>71</td>\n",
       "    </tr>\n",
       "    <tr>\n",
       "      <th>29</th>\n",
       "      <td>I Hate Myself for Loving You</td>\n",
       "      <td>Up Your Alley</td>\n",
       "      <td>2HXixVqzzm9rEUIMAWzshl</td>\n",
       "      <td>Joan Jett &amp; The Blackhearts</td>\n",
       "      <td>1Fmb52lZ6Jv7FMWXXTPO3K</td>\n",
       "      <td>246800</td>\n",
       "      <td>71</td>\n",
       "    </tr>\n",
       "    <tr>\n",
       "      <th>30</th>\n",
       "      <td>Into It</td>\n",
       "      <td>Chase Atlantic</td>\n",
       "      <td>4HwDCXsMBC7SUdp2WT4MZP</td>\n",
       "      <td>Chase Atlantic</td>\n",
       "      <td>7cYEt1pqMgXJdq00hAwVpT</td>\n",
       "      <td>196767</td>\n",
       "      <td>83</td>\n",
       "    </tr>\n",
       "    <tr>\n",
       "      <th>31</th>\n",
       "      <td>Trampoline (feat. Missy Elliott, BIA and Doechii)</td>\n",
       "      <td>Trampoline (feat. Missy Elliott, BIA and Doechii)</td>\n",
       "      <td>0gIVNoo3H05GyR4ExxmQOa</td>\n",
       "      <td>David Guetta</td>\n",
       "      <td>1Cs0zKBU1kc0i8ypK3B9ai</td>\n",
       "      <td>144796</td>\n",
       "      <td>54</td>\n",
       "    </tr>\n",
       "    <tr>\n",
       "      <th>32</th>\n",
       "      <td>Jab Saiyaan (From \"Gangubai Kathiawadi\")</td>\n",
       "      <td>Jab Saiyaan (From \"Gangubai Kathiawadi\") - Single</td>\n",
       "      <td>4VdgJO1wxgcykHYmXSZxcR</td>\n",
       "      <td>Shreya Ghoshal</td>\n",
       "      <td>0oOet2f43PA68X5RxKobEy</td>\n",
       "      <td>247784</td>\n",
       "      <td>47</td>\n",
       "    </tr>\n",
       "    <tr>\n",
       "      <th>33</th>\n",
       "      <td>Woman Up (And Take It Like A Man)</td>\n",
       "      <td>Run, Rose, Run</td>\n",
       "      <td>4ed8tSfo4yU778D2mzIptV</td>\n",
       "      <td>Dolly Parton</td>\n",
       "      <td>32vWCbZh0xZ4o9gkz4PsEU</td>\n",
       "      <td>147506</td>\n",
       "      <td>15</td>\n",
       "    </tr>\n",
       "    <tr>\n",
       "      <th>34</th>\n",
       "      <td>Punjabiyan Di Dhee</td>\n",
       "      <td>Punjabiyan Di Dhee</td>\n",
       "      <td>541oF6e3e6P38aDIqQXxU7</td>\n",
       "      <td>Guru Randhawa</td>\n",
       "      <td>5rQoBDKFnd1n6BkdbgVaRL</td>\n",
       "      <td>193067</td>\n",
       "      <td>48</td>\n",
       "    </tr>\n",
       "    <tr>\n",
       "      <th>35</th>\n",
       "      <td>Still D.R.E.</td>\n",
       "      <td>2001</td>\n",
       "      <td>503OTo2dSqe7qk76rgsbep</td>\n",
       "      <td>Dr. Dre</td>\n",
       "      <td>6DPYiyq5kWVQS4RGwxzPC7</td>\n",
       "      <td>270586</td>\n",
       "      <td>90</td>\n",
       "    </tr>\n",
       "    <tr>\n",
       "      <th>36</th>\n",
       "      <td>Night Vision</td>\n",
       "      <td>Night Vision</td>\n",
       "      <td>1AlsstnhmK0Of1G8iQQYsJ</td>\n",
       "      <td>Drives the Common Man</td>\n",
       "      <td>2wcZTsK9T9ANPCLWDHtFIZ</td>\n",
       "      <td>187354</td>\n",
       "      <td>46</td>\n",
       "    </tr>\n",
       "    <tr>\n",
       "      <th>37</th>\n",
       "      <td>Under Pressure - Remastered 2011</td>\n",
       "      <td>Hot Space (Deluxe Remastered Version)</td>\n",
       "      <td>11IzgLRXV7Cgek3tEgGgjw</td>\n",
       "      <td>Queen</td>\n",
       "      <td>1dfeR4HaWDbWqFHLkxsg1d</td>\n",
       "      <td>248440</td>\n",
       "      <td>73</td>\n",
       "    </tr>\n",
       "    <tr>\n",
       "      <th>38</th>\n",
       "      <td>LIGHT BLUE</td>\n",
       "      <td>Light Blue</td>\n",
       "      <td>6M9LJbieGsjcJvdgOyjYVl</td>\n",
       "      <td>Ryahn</td>\n",
       "      <td>5Jy9GTHj3hkaEhsJQfCVAX</td>\n",
       "      <td>309433</td>\n",
       "      <td>33</td>\n",
       "    </tr>\n",
       "    <tr>\n",
       "      <th>39</th>\n",
       "      <td>As Hell</td>\n",
       "      <td>Angel</td>\n",
       "      <td>0RnLy1kEoGVcNTcA9qWRut</td>\n",
       "      <td>CHANMINA</td>\n",
       "      <td>2vjeuQwzSP5ErC1S41gONX</td>\n",
       "      <td>169266</td>\n",
       "      <td>42</td>\n",
       "    </tr>\n",
       "    <tr>\n",
       "      <th>40</th>\n",
       "      <td>Patterns</td>\n",
       "      <td>Patterns</td>\n",
       "      <td>43o1Irj3t3XrH7jkzjp5H3</td>\n",
       "      <td>Always Never</td>\n",
       "      <td>0iiDqBBNToKJG4YoyESrBf</td>\n",
       "      <td>143571</td>\n",
       "      <td>51</td>\n",
       "    </tr>\n",
       "    <tr>\n",
       "      <th>41</th>\n",
       "      <td>Dancing With The Devil</td>\n",
       "      <td>Dancing With The Devil…The Art of Starting Ove...</td>\n",
       "      <td>0VQ3GSPdl4njPOr3lyaoaD</td>\n",
       "      <td>Demi Lovato</td>\n",
       "      <td>6S2OmqARrzebs0tKUEyXyp</td>\n",
       "      <td>243992</td>\n",
       "      <td>58</td>\n",
       "    </tr>\n",
       "    <tr>\n",
       "      <th>42</th>\n",
       "      <td>Dancing Slow</td>\n",
       "      <td>Dancing Slow</td>\n",
       "      <td>0CIxOoxye5HUWA23ofjbpJ</td>\n",
       "      <td>Jewel</td>\n",
       "      <td>6FbDoZnMBTdhhhLuJBOOqP</td>\n",
       "      <td>200173</td>\n",
       "      <td>53</td>\n",
       "    </tr>\n",
       "    <tr>\n",
       "      <th>43</th>\n",
       "      <td>GET IT</td>\n",
       "      <td>GET IT</td>\n",
       "      <td>1jtdHYkk7RZNSeGWLxXwrS</td>\n",
       "      <td>keshi</td>\n",
       "      <td>3pc0bOVB5whxmD50W79wwO</td>\n",
       "      <td>151301</td>\n",
       "      <td>40</td>\n",
       "    </tr>\n",
       "    <tr>\n",
       "      <th>44</th>\n",
       "      <td>Love's Train</td>\n",
       "      <td>Love's Train</td>\n",
       "      <td>60gTdTwaNtGAzIxKfeGVfJ</td>\n",
       "      <td>Bruno Mars</td>\n",
       "      <td>0du5cEVh5yTK9QJze8zA0C</td>\n",
       "      <td>307014</td>\n",
       "      <td>80</td>\n",
       "    </tr>\n",
       "    <tr>\n",
       "      <th>45</th>\n",
       "      <td>Tried To Set Me Up</td>\n",
       "      <td>Tried To Set Me Up</td>\n",
       "      <td>44qwisVhZQnIWh3yOoJJho</td>\n",
       "      <td>Robbie Coupe III</td>\n",
       "      <td>3mdX79oFaDTzmrQ3YNlglp</td>\n",
       "      <td>125427</td>\n",
       "      <td>41</td>\n",
       "    </tr>\n",
       "    <tr>\n",
       "      <th>46</th>\n",
       "      <td>String Quartet No. 13 in B-Flat Major, Op. 130...</td>\n",
       "      <td>Beethoven: String Quartet, Op. 130 / Grosse Fu...</td>\n",
       "      <td>2ZjhhB3kZP6Zufmjuv2TWC</td>\n",
       "      <td>Ludwig van Beethoven</td>\n",
       "      <td>2wOqMjp9TyABvtHdOSOTUS</td>\n",
       "      <td>123773</td>\n",
       "      <td>55</td>\n",
       "    </tr>\n",
       "    <tr>\n",
       "      <th>47</th>\n",
       "      <td>Symphony No. 5 in C Minor, Op. 67: III. Allegro</td>\n",
       "      <td>Beethoven: Symphonies Nos.5 &amp; 7</td>\n",
       "      <td>7ojkji0OYCOpl3UMy92gEf</td>\n",
       "      <td>Ludwig van Beethoven</td>\n",
       "      <td>2wOqMjp9TyABvtHdOSOTUS</td>\n",
       "      <td>309466</td>\n",
       "      <td>43</td>\n",
       "    </tr>\n",
       "    <tr>\n",
       "      <th>48</th>\n",
       "      <td>Piano Concerto No. 2 in B-Flat Major, Op. 19: ...</td>\n",
       "      <td>Beethoven: Piano Concertos Nos. 2 and 5</td>\n",
       "      <td>2lYWgS1Qk3cgfdK2DD5Apr</td>\n",
       "      <td>Ludwig van Beethoven</td>\n",
       "      <td>2wOqMjp9TyABvtHdOSOTUS</td>\n",
       "      <td>363000</td>\n",
       "      <td>40</td>\n",
       "    </tr>\n",
       "  </tbody>\n",
       "</table>\n",
       "</div>"
      ],
      "text/plain": [
       "                                           track_name  \\\n",
       "0                                            Knew You   \n",
       "1                  Flower Shops (feat. Morgan Wallen)   \n",
       "2                                  Backseat (Kiss Me)   \n",
       "3        He Went To Jared (HARDY feat. Morgan Wallen)   \n",
       "4                                           lie to me   \n",
       "5                                        Taste of You   \n",
       "6                                  One of Them Nights   \n",
       "7                                             Beggin'   \n",
       "8                                           come over   \n",
       "9                                          The Reason   \n",
       "10                                            Machine   \n",
       "11                                    Three Feet Away   \n",
       "12                                         Down On Me   \n",
       "13                           Kiss Me More (feat. SZA)   \n",
       "14  Girl Next Door (Remix) [feat. Wiz Khalifa, DVBBS]   \n",
       "15                           Stop Draggin' Your Boots   \n",
       "16                                        U Remind Me   \n",
       "17               rock bottom (feat. nothing,nowhere.)   \n",
       "18                                   Lips Of An Angel   \n",
       "19                     MONOPOLY (with Victoria Monét)   \n",
       "20                       E-GIRLS ARE RUINING MY LIFE!   \n",
       "21                                         D.R.E.A.M.   \n",
       "22                 Baby, I'm Jealous (feat. Doja Cat)   \n",
       "23                           Polite - Mura Masa Remix   \n",
       "24                         Again (feat. XXXTENTACION)   \n",
       "25                                        Set Me Free   \n",
       "26                                          Let It Go   \n",
       "27                              Sunshine Of Your Love   \n",
       "28                  Time of the Season - Mono Version   \n",
       "29                       I Hate Myself for Loving You   \n",
       "30                                            Into It   \n",
       "31  Trampoline (feat. Missy Elliott, BIA and Doechii)   \n",
       "32           Jab Saiyaan (From \"Gangubai Kathiawadi\")   \n",
       "33                  Woman Up (And Take It Like A Man)   \n",
       "34                                 Punjabiyan Di Dhee   \n",
       "35                                       Still D.R.E.   \n",
       "36                                       Night Vision   \n",
       "37                   Under Pressure - Remastered 2011   \n",
       "38                                         LIGHT BLUE   \n",
       "39                                            As Hell   \n",
       "40                                           Patterns   \n",
       "41                             Dancing With The Devil   \n",
       "42                                       Dancing Slow   \n",
       "43                                             GET IT   \n",
       "44                                       Love's Train   \n",
       "45                                 Tried To Set Me Up   \n",
       "46  String Quartet No. 13 in B-Flat Major, Op. 130...   \n",
       "47    Symphony No. 5 in C Minor, Op. 67: III. Allegro   \n",
       "48  Piano Concerto No. 2 in B-Flat Major, Op. 19: ...   \n",
       "\n",
       "                                                album                track_id  \\\n",
       "0                                Here In Your Bedroom  0WfV9XwpkldKdjzw4qoyAd   \n",
       "1                  Flower Shops (feat. Morgan Wallen)  2ccuOtUjIyx3tPcsnpeBzJ   \n",
       "2                                  Backseat (Kiss Me)  7dbnw3cDgeDxOxJJ7QiAiD   \n",
       "3        He Went To Jared (HARDY feat. Morgan Wallen)  25uzAwyPekZtWzlLVvUYNS   \n",
       "4                                           lie to me  4f9IfFvBFm7Gsf1IVEudyf   \n",
       "5                                        Taste of You  655sojH8GGEteZTBJOFyy7   \n",
       "6                                  One of Them Nights  4ks4jp4jGsmffhbUegLG6S   \n",
       "7                                            Conquest  4YeKAwFn69ehnciOfi7Sbf   \n",
       "8                                      After Midnight  6PGJZEvtlf2EJPu9VLqI3q   \n",
       "9                The Reason (15th Anniversary Deluxe)  77loZpT5Y5PRP1S451P9Yz   \n",
       "10                                            Machine  2qPesmvW3Ybks41YWlstf1   \n",
       "11                                    Three Feet Away  41OtlB4xN40fRSpq6b4QNS   \n",
       "12                                      All About You  0x3TibRgnSqzkcwrqBd4iX   \n",
       "13                           Kiss Me More (feat. SZA)  748mdHapucXQri7IAO8yFK   \n",
       "14  Girl Next Door (Remix) [feat. Wiz Khalifa, DVBBS]  6ip4lEjzq1GQHIuikQBiZa   \n",
       "15                           Stop Draggin' Your Boots  0ODaBMQ3tbTefbmbMWTwdT   \n",
       "16                                        U Remind Me  0gMfgLE3milkpO6Umr3aAC   \n",
       "17                                      joke's on you  5d1OeQBC6zyHO8jc2svOZz   \n",
       "18                                   Extreme Behavior  40LQiUUUKXVGyNs09lHVjW   \n",
       "19                                           MONOPOLY  6tsOcBnaKgzK22yEiqRh8P   \n",
       "20                       E-GIRLS ARE RUINING MY LIFE!  7bCfHiRcfUjG0YVVNUL7Ve   \n",
       "21                                     Find Your Home  1nFwdOtgSlwlauOjoWX5qv   \n",
       "22                 Baby, I'm Jealous (feat. Doja Cat)  2fTdRdN73RgIgcUZN33dvt   \n",
       "23                           Polite (Mura Masa Remix)  1p9rgYTrfwr2vfSlHXHOyn   \n",
       "24                         Again (feat. XXXTENTACION)  2S2od3hT7ceytw7d1pTRuE   \n",
       "25                              Diamonds in the Rough  0ZvKcvzELuiKb85hQIbkNb   \n",
       "26                                         Thank You,  4Zm0cTwEMly3aCgPdyqIQz   \n",
       "27                    Disraeli Gears (Deluxe Edition)  2K2M0TcglCRLLpFOzKeFZA   \n",
       "28                                 Odessey and Oracle  5AJrhrwz4oSZX2PwwV4qrN   \n",
       "29                                      Up Your Alley  2HXixVqzzm9rEUIMAWzshl   \n",
       "30                                     Chase Atlantic  4HwDCXsMBC7SUdp2WT4MZP   \n",
       "31  Trampoline (feat. Missy Elliott, BIA and Doechii)  0gIVNoo3H05GyR4ExxmQOa   \n",
       "32  Jab Saiyaan (From \"Gangubai Kathiawadi\") - Single  4VdgJO1wxgcykHYmXSZxcR   \n",
       "33                                     Run, Rose, Run  4ed8tSfo4yU778D2mzIptV   \n",
       "34                                 Punjabiyan Di Dhee  541oF6e3e6P38aDIqQXxU7   \n",
       "35                                               2001  503OTo2dSqe7qk76rgsbep   \n",
       "36                                       Night Vision  1AlsstnhmK0Of1G8iQQYsJ   \n",
       "37              Hot Space (Deluxe Remastered Version)  11IzgLRXV7Cgek3tEgGgjw   \n",
       "38                                         Light Blue  6M9LJbieGsjcJvdgOyjYVl   \n",
       "39                                              Angel  0RnLy1kEoGVcNTcA9qWRut   \n",
       "40                                           Patterns  43o1Irj3t3XrH7jkzjp5H3   \n",
       "41  Dancing With The Devil…The Art of Starting Ove...  0VQ3GSPdl4njPOr3lyaoaD   \n",
       "42                                       Dancing Slow  0CIxOoxye5HUWA23ofjbpJ   \n",
       "43                                             GET IT  1jtdHYkk7RZNSeGWLxXwrS   \n",
       "44                                       Love's Train  60gTdTwaNtGAzIxKfeGVfJ   \n",
       "45                                 Tried To Set Me Up  44qwisVhZQnIWh3yOoJJho   \n",
       "46  Beethoven: String Quartet, Op. 130 / Grosse Fu...  2ZjhhB3kZP6Zufmjuv2TWC   \n",
       "47                    Beethoven: Symphonies Nos.5 & 7  7ojkji0OYCOpl3UMy92gEf   \n",
       "48            Beethoven: Piano Concertos Nos. 2 and 5  2lYWgS1Qk3cgfdK2DD5Apr   \n",
       "\n",
       "                         artist               artist_id  duration  popularity  \n",
       "0                 Kailee Morgue  245PKF3hKjtxJKIG153kF0    185408          40  \n",
       "1                        ERNEST  4GGfAshSkqoxpZdoaHm7ky    214405          80  \n",
       "2                         Jutes  53fzjsJnjEKkA6TdncuIM4    166060          54  \n",
       "3                         HARDY  5QNm7E7RU2m64l6Gliu8Oy    213693          51  \n",
       "4                    Tate McRae  45dkTj5sMRSjrmBSBeiHym    177440          71  \n",
       "5                          Rezz  4aKdmOXdUKX07HVd3sGgzw    167606          64  \n",
       "6                   Chris Young  4BYxqVkZyFjtik7crYLg5Q    162520          38  \n",
       "7                        Madcon  6c4sUNBgdonFJz8Kx2VsGz    218706          65  \n",
       "8                          12AM  4FHtVj8v4il9h5HRQ4Ib3n    126087          15  \n",
       "9                    Hoobastank  2MqhkhX4npxDZ62ObR5ELO    232800          83  \n",
       "10                      Miquela  7licaqhcEBQUzz9FownRaJ    219824          41  \n",
       "11                     Vanglowe  7jUAn5ijg8rI670EtbHfbJ    198367          44  \n",
       "12                      Jeremih  3KV3p5EY4AvKxOlhGHORLg    228453          76  \n",
       "13                     Doja Cat  5cj0lLjcoR7YOSnhnX0Po5    208866          89  \n",
       "14                          SK8  4YqctGfuLnSvjjlFQvNish    215841          44  \n",
       "15            Danielle Bradbery  5iqStkZi6QmG8sgQZQrfGN    164347          75  \n",
       "16                       Zolita  7nnTzZ5tZrPx14iDnmjksU    177383          44  \n",
       "17              guccihighwaters  7EIOmfcBRSR63ZaUptkD09    165424          60  \n",
       "18                       Hinder  6BMhCQJYHxxKAeqYS1p5rY    261853          76  \n",
       "19                Ariana Grande  66CXWjxzNUsdJxJ2JdwvnR    158586          68  \n",
       "20                       CORPSE  7yntSJ6uojO3z6GFUVwhAW    105176          78  \n",
       "21                  Jonny Craig  46MmlFKM8ivDsUnGOejvSM    203050          49  \n",
       "22                   Bebe Rexha  64M6ah0SkkRsnPGtGiRAbb    175873          69  \n",
       "23              Erika de Casier  1nIJEqPyIj5qutlgWNmQB0    230273          50  \n",
       "24                   Noah Cyrus  55fhWPvDiMpLnE4ZzNXZyW    193961          72  \n",
       "25            Avenged Sevenfold  0nmQIMXWTXfhgOBdNzhGOs    381200          50  \n",
       "26            The Neighbourhood  77SW9BnxLY8rJ0RciFqkHh    197266          43  \n",
       "27                        Cream  74oJ4qxwOZvX6oSsu1DGnw    250400          72  \n",
       "28                  The Zombies  2jgPkn6LuUazBoBk6vvjh5    214026          71  \n",
       "29  Joan Jett & The Blackhearts  1Fmb52lZ6Jv7FMWXXTPO3K    246800          71  \n",
       "30               Chase Atlantic  7cYEt1pqMgXJdq00hAwVpT    196767          83  \n",
       "31                 David Guetta  1Cs0zKBU1kc0i8ypK3B9ai    144796          54  \n",
       "32               Shreya Ghoshal  0oOet2f43PA68X5RxKobEy    247784          47  \n",
       "33                 Dolly Parton  32vWCbZh0xZ4o9gkz4PsEU    147506          15  \n",
       "34                Guru Randhawa  5rQoBDKFnd1n6BkdbgVaRL    193067          48  \n",
       "35                      Dr. Dre  6DPYiyq5kWVQS4RGwxzPC7    270586          90  \n",
       "36        Drives the Common Man  2wcZTsK9T9ANPCLWDHtFIZ    187354          46  \n",
       "37                        Queen  1dfeR4HaWDbWqFHLkxsg1d    248440          73  \n",
       "38                        Ryahn  5Jy9GTHj3hkaEhsJQfCVAX    309433          33  \n",
       "39                     CHANMINA  2vjeuQwzSP5ErC1S41gONX    169266          42  \n",
       "40                 Always Never  0iiDqBBNToKJG4YoyESrBf    143571          51  \n",
       "41                  Demi Lovato  6S2OmqARrzebs0tKUEyXyp    243992          58  \n",
       "42                        Jewel  6FbDoZnMBTdhhhLuJBOOqP    200173          53  \n",
       "43                        keshi  3pc0bOVB5whxmD50W79wwO    151301          40  \n",
       "44                   Bruno Mars  0du5cEVh5yTK9QJze8zA0C    307014          80  \n",
       "45             Robbie Coupe III  3mdX79oFaDTzmrQ3YNlglp    125427          41  \n",
       "46         Ludwig van Beethoven  2wOqMjp9TyABvtHdOSOTUS    123773          55  \n",
       "47         Ludwig van Beethoven  2wOqMjp9TyABvtHdOSOTUS    309466          43  \n",
       "48         Ludwig van Beethoven  2wOqMjp9TyABvtHdOSOTUS    363000          40  "
      ]
     },
     "execution_count": 11,
     "metadata": {},
     "output_type": "execute_result"
    }
   ],
   "source": [
    "user_profile"
   ]
  },
  {
   "cell_type": "code",
   "execution_count": 12,
   "metadata": {},
   "outputs": [
    {
     "data": {
      "text/plain": [
       "89"
      ]
     },
     "execution_count": 12,
     "metadata": {},
     "output_type": "execute_result"
    }
   ],
   "source": [
    "len(user_genres)"
   ]
  },
  {
   "cell_type": "code",
   "execution_count": 13,
   "metadata": {},
   "outputs": [],
   "source": [
    "def get_genres(sp, track_ids):\n",
    "    genres= set()\n",
    "    for track_id in track_ids:\n",
    "        genres.update(sp.artist(track_id)['genres'])\n",
    "    return genres  "
   ]
  },
  {
   "cell_type": "code",
   "execution_count": 14,
   "metadata": {},
   "outputs": [],
   "source": [
    "def genre_consistency(sp,predicted_playlist_genres,user_genres):\n",
    "    genre_consistency= len(predicted_playlist_genres.intersection(user_genres))/len(predicted_playlist_genres)\n",
    "    return genre_consistency"
   ]
  },
  {
   "cell_type": "code",
   "execution_count": 15,
   "metadata": {},
   "outputs": [],
   "source": [
    "def get_recently_played_track_ids(sp):\n",
    "    results_recents= sp.current_user_recently_played(limit=50)\n",
    "    track_id = []\n",
    "    for i, items in enumerate(results_recents['items']):\n",
    "        track_id.append(items['track']['id'])\n",
    "    return track_id"
   ]
  },
  {
   "cell_type": "code",
   "execution_count": 16,
   "metadata": {},
   "outputs": [],
   "source": [
    "def song_newness(sp, predicted_playlist):\n",
    "    number_of_new_tracks=0\n",
    "    for track in predicted_playlist:\n",
    "        if not sp.current_user_saved_tracks_contains([track]) and track not in get_recently_played_track_ids(sp):\n",
    "            number_of_new_tracks+=1\n",
    "    return number_of_new_tracks*100/len(predicted_playlist)"
   ]
  },
  {
   "cell_type": "code",
   "execution_count": 17,
   "metadata": {},
   "outputs": [
    {
     "data": {
      "text/plain": [
       "1.0"
      ]
     },
     "execution_count": 17,
     "metadata": {},
     "output_type": "execute_result"
    }
   ],
   "source": [
    "genre_consistency(sp,user_genres,user_genres)"
   ]
  },
  {
   "cell_type": "code",
   "execution_count": 18,
   "metadata": {},
   "outputs": [
    {
     "data": {
      "text/plain": [
       "0.0"
      ]
     },
     "execution_count": 18,
     "metadata": {},
     "output_type": "execute_result"
    }
   ],
   "source": [
    "song_newness(sp,user_profile['track_id'])"
   ]
  },
  {
   "cell_type": "markdown",
   "metadata": {},
   "source": [
    "## Encoding Audio Features"
   ]
  },
  {
   "cell_type": "code",
   "execution_count": 20,
   "metadata": {},
   "outputs": [],
   "source": [
    "def fetch_audio_features(sp, df):\n",
    "    playlist = df[['track_id','track_name', 'artist_id']] \n",
    "    index = 0\n",
    "    audio_features = []\n",
    "    genres = []\n",
    "    \n",
    "    # Make the API request\n",
    "    while index < playlist.shape[0]:\n",
    "        audio_features += sp.audio_features(playlist.iloc[index:index + 50, 0])\n",
    "        index += 50\n",
    "        \n",
    "    index = 0\n",
    "    while index < playlist.shape[0]:\n",
    "        genres += [sp.artist('spotify:artist:'+ playlist.iloc[index, 2])['genres']]\n",
    "        index += 1\n",
    "    \n",
    "    # Create an empty list to feed in different charactieritcs of the tracks\n",
    "    features_list = []\n",
    "    #Create keys-values of empty lists inside nested dictionary for album\n",
    "    for features in audio_features:\n",
    "        features_list.append([features['danceability'],\n",
    "                              features['acousticness'],\n",
    "                              features['energy'], \n",
    "                              features['tempo'],\n",
    "                              features['instrumentalness'], \n",
    "                              features['loudness'],\n",
    "                              features['liveness'],\n",
    "                              features['duration_ms'],\n",
    "                              features['key'],\n",
    "                              features['valence'],\n",
    "                              features['speechiness'],\n",
    "                              features['mode']\n",
    "                             ])\n",
    "    \n",
    "    df_audio_features = pd.DataFrame(features_list, columns=['danceability', 'acousticness', 'energy','tempo', \n",
    "                                                             'instrumentalness', 'loudness', 'liveness','duration_ms', 'key',\n",
    "                                                             'valence', 'speechiness', 'mode',])\n",
    "    df_audio_features['genres'] = genres\n",
    "    \n",
    "    # Create the final df, using the 'track_id' as index for future reference\n",
    "    df_playlist_audio_features = pd.concat([playlist, df_audio_features], axis=1)\n",
    "    df_playlist_audio_features.set_index('track_name', inplace=True, drop=True)\n",
    "    return df_playlist_audio_features"
   ]
  },
  {
   "cell_type": "code",
   "execution_count": 21,
   "metadata": {},
   "outputs": [],
   "source": [
    "audio_features=fetch_audio_features(sp,user_profile)"
   ]
  },
  {
   "cell_type": "code",
   "execution_count": 22,
   "metadata": {},
   "outputs": [
    {
     "data": {
      "text/html": [
       "<div>\n",
       "<style scoped>\n",
       "    .dataframe tbody tr th:only-of-type {\n",
       "        vertical-align: middle;\n",
       "    }\n",
       "\n",
       "    .dataframe tbody tr th {\n",
       "        vertical-align: top;\n",
       "    }\n",
       "\n",
       "    .dataframe thead th {\n",
       "        text-align: right;\n",
       "    }\n",
       "</style>\n",
       "<table border=\"1\" class=\"dataframe\">\n",
       "  <thead>\n",
       "    <tr style=\"text-align: right;\">\n",
       "      <th></th>\n",
       "      <th>track_id</th>\n",
       "      <th>artist_id</th>\n",
       "      <th>danceability</th>\n",
       "      <th>acousticness</th>\n",
       "      <th>energy</th>\n",
       "      <th>tempo</th>\n",
       "      <th>instrumentalness</th>\n",
       "      <th>loudness</th>\n",
       "      <th>liveness</th>\n",
       "      <th>duration_ms</th>\n",
       "      <th>key</th>\n",
       "      <th>valence</th>\n",
       "      <th>speechiness</th>\n",
       "      <th>mode</th>\n",
       "      <th>genres</th>\n",
       "    </tr>\n",
       "    <tr>\n",
       "      <th>track_name</th>\n",
       "      <th></th>\n",
       "      <th></th>\n",
       "      <th></th>\n",
       "      <th></th>\n",
       "      <th></th>\n",
       "      <th></th>\n",
       "      <th></th>\n",
       "      <th></th>\n",
       "      <th></th>\n",
       "      <th></th>\n",
       "      <th></th>\n",
       "      <th></th>\n",
       "      <th></th>\n",
       "      <th></th>\n",
       "      <th></th>\n",
       "    </tr>\n",
       "  </thead>\n",
       "  <tbody>\n",
       "    <tr>\n",
       "      <th>Knew You</th>\n",
       "      <td>0WfV9XwpkldKdjzw4qoyAd</td>\n",
       "      <td>245PKF3hKjtxJKIG153kF0</td>\n",
       "      <td>0.624</td>\n",
       "      <td>0.007250</td>\n",
       "      <td>0.5620</td>\n",
       "      <td>109.958</td>\n",
       "      <td>0.000003</td>\n",
       "      <td>-6.455</td>\n",
       "      <td>0.0937</td>\n",
       "      <td>185409</td>\n",
       "      <td>0</td>\n",
       "      <td>0.4780</td>\n",
       "      <td>0.0285</td>\n",
       "      <td>1</td>\n",
       "      <td>[alt z, dark pop, electropop, indie electropop...</td>\n",
       "    </tr>\n",
       "    <tr>\n",
       "      <th>Flower Shops (feat. Morgan Wallen)</th>\n",
       "      <td>2ccuOtUjIyx3tPcsnpeBzJ</td>\n",
       "      <td>4GGfAshSkqoxpZdoaHm7ky</td>\n",
       "      <td>0.527</td>\n",
       "      <td>0.118000</td>\n",
       "      <td>0.4610</td>\n",
       "      <td>128.153</td>\n",
       "      <td>0.000000</td>\n",
       "      <td>-5.908</td>\n",
       "      <td>0.0831</td>\n",
       "      <td>214405</td>\n",
       "      <td>7</td>\n",
       "      <td>0.2270</td>\n",
       "      <td>0.0269</td>\n",
       "      <td>1</td>\n",
       "      <td>[]</td>\n",
       "    </tr>\n",
       "    <tr>\n",
       "      <th>Backseat (Kiss Me)</th>\n",
       "      <td>7dbnw3cDgeDxOxJJ7QiAiD</td>\n",
       "      <td>53fzjsJnjEKkA6TdncuIM4</td>\n",
       "      <td>0.750</td>\n",
       "      <td>0.111000</td>\n",
       "      <td>0.5480</td>\n",
       "      <td>101.031</td>\n",
       "      <td>0.000000</td>\n",
       "      <td>-7.704</td>\n",
       "      <td>0.0633</td>\n",
       "      <td>166061</td>\n",
       "      <td>2</td>\n",
       "      <td>0.4970</td>\n",
       "      <td>0.0492</td>\n",
       "      <td>1</td>\n",
       "      <td>[emo rap, sad rap, trap soul]</td>\n",
       "    </tr>\n",
       "    <tr>\n",
       "      <th>He Went To Jared (HARDY feat. Morgan Wallen)</th>\n",
       "      <td>25uzAwyPekZtWzlLVvUYNS</td>\n",
       "      <td>5QNm7E7RU2m64l6Gliu8Oy</td>\n",
       "      <td>0.565</td>\n",
       "      <td>0.054000</td>\n",
       "      <td>0.8060</td>\n",
       "      <td>140.084</td>\n",
       "      <td>0.000008</td>\n",
       "      <td>-5.110</td>\n",
       "      <td>0.2040</td>\n",
       "      <td>213693</td>\n",
       "      <td>9</td>\n",
       "      <td>0.6830</td>\n",
       "      <td>0.0482</td>\n",
       "      <td>0</td>\n",
       "      <td>[contemporary country]</td>\n",
       "    </tr>\n",
       "    <tr>\n",
       "      <th>lie to me</th>\n",
       "      <td>4f9IfFvBFm7Gsf1IVEudyf</td>\n",
       "      <td>45dkTj5sMRSjrmBSBeiHym</td>\n",
       "      <td>0.642</td>\n",
       "      <td>0.015100</td>\n",
       "      <td>0.3920</td>\n",
       "      <td>138.065</td>\n",
       "      <td>0.000000</td>\n",
       "      <td>-7.846</td>\n",
       "      <td>0.3520</td>\n",
       "      <td>177440</td>\n",
       "      <td>4</td>\n",
       "      <td>0.0479</td>\n",
       "      <td>0.0372</td>\n",
       "      <td>0</td>\n",
       "      <td>[alt z, pop, post-teen pop]</td>\n",
       "    </tr>\n",
       "    <tr>\n",
       "      <th>Taste of You</th>\n",
       "      <td>655sojH8GGEteZTBJOFyy7</td>\n",
       "      <td>4aKdmOXdUKX07HVd3sGgzw</td>\n",
       "      <td>0.667</td>\n",
       "      <td>0.006400</td>\n",
       "      <td>0.6790</td>\n",
       "      <td>100.054</td>\n",
       "      <td>0.000053</td>\n",
       "      <td>-6.616</td>\n",
       "      <td>0.1700</td>\n",
       "      <td>167606</td>\n",
       "      <td>0</td>\n",
       "      <td>0.3200</td>\n",
       "      <td>0.0475</td>\n",
       "      <td>1</td>\n",
       "      <td>[canadian electronic, edm, electra, electro ho...</td>\n",
       "    </tr>\n",
       "    <tr>\n",
       "      <th>One of Them Nights</th>\n",
       "      <td>4ks4jp4jGsmffhbUegLG6S</td>\n",
       "      <td>4BYxqVkZyFjtik7crYLg5Q</td>\n",
       "      <td>0.521</td>\n",
       "      <td>0.042200</td>\n",
       "      <td>0.8830</td>\n",
       "      <td>80.982</td>\n",
       "      <td>0.000000</td>\n",
       "      <td>-3.807</td>\n",
       "      <td>0.1050</td>\n",
       "      <td>162520</td>\n",
       "      <td>1</td>\n",
       "      <td>0.8050</td>\n",
       "      <td>0.0616</td>\n",
       "      <td>1</td>\n",
       "      <td>[contemporary country, country, country road, ...</td>\n",
       "    </tr>\n",
       "    <tr>\n",
       "      <th>Beggin'</th>\n",
       "      <td>4YeKAwFn69ehnciOfi7Sbf</td>\n",
       "      <td>6c4sUNBgdonFJz8Kx2VsGz</td>\n",
       "      <td>0.715</td>\n",
       "      <td>0.028400</td>\n",
       "      <td>0.7960</td>\n",
       "      <td>129.040</td>\n",
       "      <td>0.000000</td>\n",
       "      <td>-4.889</td>\n",
       "      <td>0.0658</td>\n",
       "      <td>218707</td>\n",
       "      <td>4</td>\n",
       "      <td>0.4310</td>\n",
       "      <td>0.0534</td>\n",
       "      <td>0</td>\n",
       "      <td>[dance pop, norwegian hip hop, pop rap]</td>\n",
       "    </tr>\n",
       "    <tr>\n",
       "      <th>come over</th>\n",
       "      <td>6PGJZEvtlf2EJPu9VLqI3q</td>\n",
       "      <td>4FHtVj8v4il9h5HRQ4Ib3n</td>\n",
       "      <td>0.865</td>\n",
       "      <td>0.289000</td>\n",
       "      <td>0.4980</td>\n",
       "      <td>108.062</td>\n",
       "      <td>0.000001</td>\n",
       "      <td>-8.311</td>\n",
       "      <td>0.6900</td>\n",
       "      <td>126088</td>\n",
       "      <td>7</td>\n",
       "      <td>0.8080</td>\n",
       "      <td>0.2880</td>\n",
       "      <td>0</td>\n",
       "      <td>[canadian contemporary r&amp;b, sad rap, trap soul]</td>\n",
       "    </tr>\n",
       "    <tr>\n",
       "      <th>The Reason</th>\n",
       "      <td>77loZpT5Y5PRP1S451P9Yz</td>\n",
       "      <td>2MqhkhX4npxDZ62ObR5ELO</td>\n",
       "      <td>0.472</td>\n",
       "      <td>0.012900</td>\n",
       "      <td>0.6710</td>\n",
       "      <td>82.952</td>\n",
       "      <td>0.000000</td>\n",
       "      <td>-4.649</td>\n",
       "      <td>0.1590</td>\n",
       "      <td>232800</td>\n",
       "      <td>4</td>\n",
       "      <td>0.0681</td>\n",
       "      <td>0.0290</td>\n",
       "      <td>1</td>\n",
       "      <td>[alternative metal, funk metal, nu metal, pop ...</td>\n",
       "    </tr>\n",
       "    <tr>\n",
       "      <th>Machine</th>\n",
       "      <td>2qPesmvW3Ybks41YWlstf1</td>\n",
       "      <td>7licaqhcEBQUzz9FownRaJ</td>\n",
       "      <td>0.860</td>\n",
       "      <td>0.589000</td>\n",
       "      <td>0.5000</td>\n",
       "      <td>129.071</td>\n",
       "      <td>0.000002</td>\n",
       "      <td>-8.149</td>\n",
       "      <td>0.1110</td>\n",
       "      <td>219824</td>\n",
       "      <td>10</td>\n",
       "      <td>0.5510</td>\n",
       "      <td>0.0454</td>\n",
       "      <td>1</td>\n",
       "      <td>[ai, la pop]</td>\n",
       "    </tr>\n",
       "    <tr>\n",
       "      <th>Three Feet Away</th>\n",
       "      <td>41OtlB4xN40fRSpq6b4QNS</td>\n",
       "      <td>7jUAn5ijg8rI670EtbHfbJ</td>\n",
       "      <td>0.495</td>\n",
       "      <td>0.491000</td>\n",
       "      <td>0.5500</td>\n",
       "      <td>98.162</td>\n",
       "      <td>0.000075</td>\n",
       "      <td>-8.417</td>\n",
       "      <td>0.2160</td>\n",
       "      <td>198367</td>\n",
       "      <td>2</td>\n",
       "      <td>0.0500</td>\n",
       "      <td>0.0785</td>\n",
       "      <td>1</td>\n",
       "      <td>[]</td>\n",
       "    </tr>\n",
       "    <tr>\n",
       "      <th>Down On Me</th>\n",
       "      <td>0x3TibRgnSqzkcwrqBd4iX</td>\n",
       "      <td>3KV3p5EY4AvKxOlhGHORLg</td>\n",
       "      <td>0.700</td>\n",
       "      <td>0.036900</td>\n",
       "      <td>0.5980</td>\n",
       "      <td>160.041</td>\n",
       "      <td>0.000000</td>\n",
       "      <td>-7.783</td>\n",
       "      <td>0.1110</td>\n",
       "      <td>228453</td>\n",
       "      <td>2</td>\n",
       "      <td>0.5940</td>\n",
       "      <td>0.1140</td>\n",
       "      <td>1</td>\n",
       "      <td>[chicago rap, dance pop, pop, pop rap, r&amp;b, so...</td>\n",
       "    </tr>\n",
       "    <tr>\n",
       "      <th>Kiss Me More (feat. SZA)</th>\n",
       "      <td>748mdHapucXQri7IAO8yFK</td>\n",
       "      <td>5cj0lLjcoR7YOSnhnX0Po5</td>\n",
       "      <td>0.762</td>\n",
       "      <td>0.235000</td>\n",
       "      <td>0.7010</td>\n",
       "      <td>110.968</td>\n",
       "      <td>0.000158</td>\n",
       "      <td>-3.541</td>\n",
       "      <td>0.1230</td>\n",
       "      <td>208867</td>\n",
       "      <td>8</td>\n",
       "      <td>0.7420</td>\n",
       "      <td>0.0286</td>\n",
       "      <td>1</td>\n",
       "      <td>[dance pop, pop]</td>\n",
       "    </tr>\n",
       "    <tr>\n",
       "      <th>Girl Next Door (Remix) [feat. Wiz Khalifa, DVBBS]</th>\n",
       "      <td>6ip4lEjzq1GQHIuikQBiZa</td>\n",
       "      <td>4YqctGfuLnSvjjlFQvNish</td>\n",
       "      <td>0.644</td>\n",
       "      <td>0.002680</td>\n",
       "      <td>0.8660</td>\n",
       "      <td>124.992</td>\n",
       "      <td>0.000004</td>\n",
       "      <td>-5.386</td>\n",
       "      <td>0.0850</td>\n",
       "      <td>215841</td>\n",
       "      <td>5</td>\n",
       "      <td>0.5490</td>\n",
       "      <td>0.0418</td>\n",
       "      <td>0</td>\n",
       "      <td>[teen pop]</td>\n",
       "    </tr>\n",
       "    <tr>\n",
       "      <th>Stop Draggin' Your Boots</th>\n",
       "      <td>0ODaBMQ3tbTefbmbMWTwdT</td>\n",
       "      <td>5iqStkZi6QmG8sgQZQrfGN</td>\n",
       "      <td>0.463</td>\n",
       "      <td>0.037900</td>\n",
       "      <td>0.7600</td>\n",
       "      <td>123.899</td>\n",
       "      <td>0.000000</td>\n",
       "      <td>-5.958</td>\n",
       "      <td>0.1150</td>\n",
       "      <td>164347</td>\n",
       "      <td>2</td>\n",
       "      <td>0.6500</td>\n",
       "      <td>0.1100</td>\n",
       "      <td>1</td>\n",
       "      <td>[contemporary country, country, country pop]</td>\n",
       "    </tr>\n",
       "    <tr>\n",
       "      <th>U Remind Me</th>\n",
       "      <td>0gMfgLE3milkpO6Umr3aAC</td>\n",
       "      <td>7nnTzZ5tZrPx14iDnmjksU</td>\n",
       "      <td>0.762</td>\n",
       "      <td>0.009650</td>\n",
       "      <td>0.5520</td>\n",
       "      <td>98.014</td>\n",
       "      <td>0.000000</td>\n",
       "      <td>-6.714</td>\n",
       "      <td>0.1250</td>\n",
       "      <td>177383</td>\n",
       "      <td>11</td>\n",
       "      <td>0.7340</td>\n",
       "      <td>0.0549</td>\n",
       "      <td>0</td>\n",
       "      <td>[alt z, electropop, indie poptimism, pop]</td>\n",
       "    </tr>\n",
       "    <tr>\n",
       "      <th>rock bottom (feat. nothing,nowhere.)</th>\n",
       "      <td>5d1OeQBC6zyHO8jc2svOZz</td>\n",
       "      <td>7EIOmfcBRSR63ZaUptkD09</td>\n",
       "      <td>0.562</td>\n",
       "      <td>0.002730</td>\n",
       "      <td>0.7030</td>\n",
       "      <td>145.058</td>\n",
       "      <td>0.000000</td>\n",
       "      <td>-6.134</td>\n",
       "      <td>0.3400</td>\n",
       "      <td>165425</td>\n",
       "      <td>2</td>\n",
       "      <td>0.3130</td>\n",
       "      <td>0.0416</td>\n",
       "      <td>0</td>\n",
       "      <td>[emo rap, sad lo-fi, sad rap]</td>\n",
       "    </tr>\n",
       "    <tr>\n",
       "      <th>Lips Of An Angel</th>\n",
       "      <td>40LQiUUUKXVGyNs09lHVjW</td>\n",
       "      <td>6BMhCQJYHxxKAeqYS1p5rY</td>\n",
       "      <td>0.476</td>\n",
       "      <td>0.021700</td>\n",
       "      <td>0.7360</td>\n",
       "      <td>129.084</td>\n",
       "      <td>0.000001</td>\n",
       "      <td>-5.380</td>\n",
       "      <td>0.2030</td>\n",
       "      <td>261853</td>\n",
       "      <td>2</td>\n",
       "      <td>0.2510</td>\n",
       "      <td>0.0343</td>\n",
       "      <td>1</td>\n",
       "      <td>[alternative metal, nu metal, pop rock, post-g...</td>\n",
       "    </tr>\n",
       "    <tr>\n",
       "      <th>MONOPOLY (with Victoria Monét)</th>\n",
       "      <td>6tsOcBnaKgzK22yEiqRh8P</td>\n",
       "      <td>66CXWjxzNUsdJxJ2JdwvnR</td>\n",
       "      <td>0.892</td>\n",
       "      <td>0.704000</td>\n",
       "      <td>0.5070</td>\n",
       "      <td>143.960</td>\n",
       "      <td>0.000031</td>\n",
       "      <td>-8.282</td>\n",
       "      <td>0.1090</td>\n",
       "      <td>158587</td>\n",
       "      <td>0</td>\n",
       "      <td>0.6950</td>\n",
       "      <td>0.3780</td>\n",
       "      <td>1</td>\n",
       "      <td>[dance pop, pop]</td>\n",
       "    </tr>\n",
       "    <tr>\n",
       "      <th>E-GIRLS ARE RUINING MY LIFE!</th>\n",
       "      <td>7bCfHiRcfUjG0YVVNUL7Ve</td>\n",
       "      <td>7yntSJ6uojO3z6GFUVwhAW</td>\n",
       "      <td>0.614</td>\n",
       "      <td>0.001610</td>\n",
       "      <td>0.9370</td>\n",
       "      <td>84.980</td>\n",
       "      <td>0.001360</td>\n",
       "      <td>-7.443</td>\n",
       "      <td>0.1030</td>\n",
       "      <td>105176</td>\n",
       "      <td>1</td>\n",
       "      <td>0.3860</td>\n",
       "      <td>0.1150</td>\n",
       "      <td>1</td>\n",
       "      <td>[dream smp, viral rap]</td>\n",
       "    </tr>\n",
       "    <tr>\n",
       "      <th>D.R.E.A.M.</th>\n",
       "      <td>1nFwdOtgSlwlauOjoWX5qv</td>\n",
       "      <td>46MmlFKM8ivDsUnGOejvSM</td>\n",
       "      <td>0.560</td>\n",
       "      <td>0.359000</td>\n",
       "      <td>0.7380</td>\n",
       "      <td>143.093</td>\n",
       "      <td>0.000000</td>\n",
       "      <td>-6.505</td>\n",
       "      <td>0.1850</td>\n",
       "      <td>203051</td>\n",
       "      <td>0</td>\n",
       "      <td>0.2540</td>\n",
       "      <td>0.0630</td>\n",
       "      <td>1</td>\n",
       "      <td>[metalcore, progressive post-hardcore, screamo]</td>\n",
       "    </tr>\n",
       "    <tr>\n",
       "      <th>Baby, I'm Jealous (feat. Doja Cat)</th>\n",
       "      <td>2fTdRdN73RgIgcUZN33dvt</td>\n",
       "      <td>64M6ah0SkkRsnPGtGiRAbb</td>\n",
       "      <td>0.737</td>\n",
       "      <td>0.039800</td>\n",
       "      <td>0.8670</td>\n",
       "      <td>98.050</td>\n",
       "      <td>0.000000</td>\n",
       "      <td>-2.259</td>\n",
       "      <td>0.3200</td>\n",
       "      <td>175873</td>\n",
       "      <td>11</td>\n",
       "      <td>0.5060</td>\n",
       "      <td>0.0458</td>\n",
       "      <td>0</td>\n",
       "      <td>[dance pop, edm, electropop, pop, post-teen pop]</td>\n",
       "    </tr>\n",
       "    <tr>\n",
       "      <th>Polite - Mura Masa Remix</th>\n",
       "      <td>1p9rgYTrfwr2vfSlHXHOyn</td>\n",
       "      <td>1nIJEqPyIj5qutlgWNmQB0</td>\n",
       "      <td>0.783</td>\n",
       "      <td>0.273000</td>\n",
       "      <td>0.7590</td>\n",
       "      <td>110.055</td>\n",
       "      <td>0.081700</td>\n",
       "      <td>-8.463</td>\n",
       "      <td>0.0998</td>\n",
       "      <td>230273</td>\n",
       "      <td>10</td>\n",
       "      <td>0.4880</td>\n",
       "      <td>0.2750</td>\n",
       "      <td>0</td>\n",
       "      <td>[art pop, electropop, escape room, scandinavia...</td>\n",
       "    </tr>\n",
       "    <tr>\n",
       "      <th>Again (feat. XXXTENTACION)</th>\n",
       "      <td>2S2od3hT7ceytw7d1pTRuE</td>\n",
       "      <td>55fhWPvDiMpLnE4ZzNXZyW</td>\n",
       "      <td>0.664</td>\n",
       "      <td>0.188000</td>\n",
       "      <td>0.7380</td>\n",
       "      <td>119.973</td>\n",
       "      <td>0.000058</td>\n",
       "      <td>-4.095</td>\n",
       "      <td>0.1350</td>\n",
       "      <td>193962</td>\n",
       "      <td>9</td>\n",
       "      <td>0.2030</td>\n",
       "      <td>0.0338</td>\n",
       "      <td>0</td>\n",
       "      <td>[dance pop, pop, post-teen pop]</td>\n",
       "    </tr>\n",
       "    <tr>\n",
       "      <th>Set Me Free</th>\n",
       "      <td>0ZvKcvzELuiKb85hQIbkNb</td>\n",
       "      <td>0nmQIMXWTXfhgOBdNzhGOs</td>\n",
       "      <td>0.448</td>\n",
       "      <td>0.000415</td>\n",
       "      <td>0.6610</td>\n",
       "      <td>139.983</td>\n",
       "      <td>0.000064</td>\n",
       "      <td>-7.293</td>\n",
       "      <td>0.0499</td>\n",
       "      <td>381201</td>\n",
       "      <td>6</td>\n",
       "      <td>0.2130</td>\n",
       "      <td>0.0311</td>\n",
       "      <td>1</td>\n",
       "      <td>[alternative metal, nu metal]</td>\n",
       "    </tr>\n",
       "    <tr>\n",
       "      <th>Let It Go</th>\n",
       "      <td>4Zm0cTwEMly3aCgPdyqIQz</td>\n",
       "      <td>77SW9BnxLY8rJ0RciFqkHh</td>\n",
       "      <td>0.490</td>\n",
       "      <td>0.015600</td>\n",
       "      <td>0.7900</td>\n",
       "      <td>149.903</td>\n",
       "      <td>0.001180</td>\n",
       "      <td>-4.833</td>\n",
       "      <td>0.2190</td>\n",
       "      <td>197267</td>\n",
       "      <td>5</td>\n",
       "      <td>0.2850</td>\n",
       "      <td>0.0699</td>\n",
       "      <td>0</td>\n",
       "      <td>[modern alternative rock, modern rock, pop]</td>\n",
       "    </tr>\n",
       "    <tr>\n",
       "      <th>Sunshine Of Your Love</th>\n",
       "      <td>2K2M0TcglCRLLpFOzKeFZA</td>\n",
       "      <td>74oJ4qxwOZvX6oSsu1DGnw</td>\n",
       "      <td>0.683</td>\n",
       "      <td>0.385000</td>\n",
       "      <td>0.5940</td>\n",
       "      <td>115.099</td>\n",
       "      <td>0.000086</td>\n",
       "      <td>-8.289</td>\n",
       "      <td>0.1210</td>\n",
       "      <td>250400</td>\n",
       "      <td>2</td>\n",
       "      <td>0.7340</td>\n",
       "      <td>0.0347</td>\n",
       "      <td>1</td>\n",
       "      <td>[album rock, art rock, blues rock, classic roc...</td>\n",
       "    </tr>\n",
       "    <tr>\n",
       "      <th>Time of the Season - Mono Version</th>\n",
       "      <td>5AJrhrwz4oSZX2PwwV4qrN</td>\n",
       "      <td>2jgPkn6LuUazBoBk6vvjh5</td>\n",
       "      <td>0.537</td>\n",
       "      <td>0.142000</td>\n",
       "      <td>0.7000</td>\n",
       "      <td>117.111</td>\n",
       "      <td>0.000002</td>\n",
       "      <td>-6.852</td>\n",
       "      <td>0.3830</td>\n",
       "      <td>214027</td>\n",
       "      <td>4</td>\n",
       "      <td>0.6950</td>\n",
       "      <td>0.0366</td>\n",
       "      <td>0</td>\n",
       "      <td>[art rock, baroque pop, brill building pop, br...</td>\n",
       "    </tr>\n",
       "    <tr>\n",
       "      <th>I Hate Myself for Loving You</th>\n",
       "      <td>2HXixVqzzm9rEUIMAWzshl</td>\n",
       "      <td>1Fmb52lZ6Jv7FMWXXTPO3K</td>\n",
       "      <td>0.611</td>\n",
       "      <td>0.084600</td>\n",
       "      <td>0.8830</td>\n",
       "      <td>117.928</td>\n",
       "      <td>0.000001</td>\n",
       "      <td>-11.225</td>\n",
       "      <td>0.1920</td>\n",
       "      <td>246800</td>\n",
       "      <td>9</td>\n",
       "      <td>0.6040</td>\n",
       "      <td>0.0539</td>\n",
       "      <td>1</td>\n",
       "      <td>[glam punk, rock]</td>\n",
       "    </tr>\n",
       "    <tr>\n",
       "      <th>Into It</th>\n",
       "      <td>4HwDCXsMBC7SUdp2WT4MZP</td>\n",
       "      <td>7cYEt1pqMgXJdq00hAwVpT</td>\n",
       "      <td>0.518</td>\n",
       "      <td>0.050300</td>\n",
       "      <td>0.5720</td>\n",
       "      <td>130.053</td>\n",
       "      <td>0.000024</td>\n",
       "      <td>-6.706</td>\n",
       "      <td>0.1290</td>\n",
       "      <td>196767</td>\n",
       "      <td>10</td>\n",
       "      <td>0.2910</td>\n",
       "      <td>0.0416</td>\n",
       "      <td>0</td>\n",
       "      <td>[pop]</td>\n",
       "    </tr>\n",
       "    <tr>\n",
       "      <th>Trampoline (feat. Missy Elliott, BIA and Doechii)</th>\n",
       "      <td>0gIVNoo3H05GyR4ExxmQOa</td>\n",
       "      <td>1Cs0zKBU1kc0i8ypK3B9ai</td>\n",
       "      <td>0.911</td>\n",
       "      <td>0.018600</td>\n",
       "      <td>0.5130</td>\n",
       "      <td>103.998</td>\n",
       "      <td>0.000000</td>\n",
       "      <td>-4.968</td>\n",
       "      <td>0.1090</td>\n",
       "      <td>144796</td>\n",
       "      <td>8</td>\n",
       "      <td>0.1560</td>\n",
       "      <td>0.1510</td>\n",
       "      <td>0</td>\n",
       "      <td>[big room, dance pop, edm, pop, pop dance, pop...</td>\n",
       "    </tr>\n",
       "    <tr>\n",
       "      <th>Jab Saiyaan (From \"Gangubai Kathiawadi\")</th>\n",
       "      <td>4VdgJO1wxgcykHYmXSZxcR</td>\n",
       "      <td>0oOet2f43PA68X5RxKobEy</td>\n",
       "      <td>0.622</td>\n",
       "      <td>0.682000</td>\n",
       "      <td>0.5910</td>\n",
       "      <td>77.963</td>\n",
       "      <td>0.000000</td>\n",
       "      <td>-6.983</td>\n",
       "      <td>0.2130</td>\n",
       "      <td>247785</td>\n",
       "      <td>5</td>\n",
       "      <td>0.5820</td>\n",
       "      <td>0.0612</td>\n",
       "      <td>1</td>\n",
       "      <td>[desi pop, filmi, modern bollywood]</td>\n",
       "    </tr>\n",
       "    <tr>\n",
       "      <th>Woman Up (And Take It Like A Man)</th>\n",
       "      <td>4ed8tSfo4yU778D2mzIptV</td>\n",
       "      <td>32vWCbZh0xZ4o9gkz4PsEU</td>\n",
       "      <td>0.681</td>\n",
       "      <td>0.383000</td>\n",
       "      <td>0.7590</td>\n",
       "      <td>98.038</td>\n",
       "      <td>0.000000</td>\n",
       "      <td>-5.602</td>\n",
       "      <td>0.0974</td>\n",
       "      <td>147507</td>\n",
       "      <td>0</td>\n",
       "      <td>0.6140</td>\n",
       "      <td>0.0982</td>\n",
       "      <td>1</td>\n",
       "      <td>[classic country pop, country, country dawn]</td>\n",
       "    </tr>\n",
       "    <tr>\n",
       "      <th>Punjabiyan Di Dhee</th>\n",
       "      <td>541oF6e3e6P38aDIqQXxU7</td>\n",
       "      <td>5rQoBDKFnd1n6BkdbgVaRL</td>\n",
       "      <td>0.610</td>\n",
       "      <td>0.380000</td>\n",
       "      <td>0.7220</td>\n",
       "      <td>185.779</td>\n",
       "      <td>0.000000</td>\n",
       "      <td>-3.112</td>\n",
       "      <td>0.4820</td>\n",
       "      <td>193067</td>\n",
       "      <td>2</td>\n",
       "      <td>0.4230</td>\n",
       "      <td>0.2230</td>\n",
       "      <td>1</td>\n",
       "      <td>[desi hip hop, desi pop, modern bollywood]</td>\n",
       "    </tr>\n",
       "    <tr>\n",
       "      <th>Still D.R.E.</th>\n",
       "      <td>503OTo2dSqe7qk76rgsbep</td>\n",
       "      <td>6DPYiyq5kWVQS4RGwxzPC7</td>\n",
       "      <td>0.816</td>\n",
       "      <td>0.160000</td>\n",
       "      <td>0.7750</td>\n",
       "      <td>93.431</td>\n",
       "      <td>0.000310</td>\n",
       "      <td>-3.323</td>\n",
       "      <td>0.0543</td>\n",
       "      <td>270587</td>\n",
       "      <td>11</td>\n",
       "      <td>0.5270</td>\n",
       "      <td>0.2340</td>\n",
       "      <td>1</td>\n",
       "      <td>[g funk, gangster rap, hip hop, rap, west coas...</td>\n",
       "    </tr>\n",
       "    <tr>\n",
       "      <th>Night Vision</th>\n",
       "      <td>1AlsstnhmK0Of1G8iQQYsJ</td>\n",
       "      <td>2wcZTsK9T9ANPCLWDHtFIZ</td>\n",
       "      <td>0.653</td>\n",
       "      <td>0.066500</td>\n",
       "      <td>0.9140</td>\n",
       "      <td>92.457</td>\n",
       "      <td>0.000008</td>\n",
       "      <td>-8.927</td>\n",
       "      <td>0.0952</td>\n",
       "      <td>187355</td>\n",
       "      <td>1</td>\n",
       "      <td>0.7320</td>\n",
       "      <td>0.1030</td>\n",
       "      <td>1</td>\n",
       "      <td>[]</td>\n",
       "    </tr>\n",
       "    <tr>\n",
       "      <th>Under Pressure - Remastered 2011</th>\n",
       "      <td>11IzgLRXV7Cgek3tEgGgjw</td>\n",
       "      <td>1dfeR4HaWDbWqFHLkxsg1d</td>\n",
       "      <td>0.671</td>\n",
       "      <td>0.422000</td>\n",
       "      <td>0.7110</td>\n",
       "      <td>113.809</td>\n",
       "      <td>0.000000</td>\n",
       "      <td>-7.813</td>\n",
       "      <td>0.1040</td>\n",
       "      <td>248440</td>\n",
       "      <td>2</td>\n",
       "      <td>0.4660</td>\n",
       "      <td>0.0478</td>\n",
       "      <td>1</td>\n",
       "      <td>[classic rock, glam rock, rock]</td>\n",
       "    </tr>\n",
       "    <tr>\n",
       "      <th>LIGHT BLUE</th>\n",
       "      <td>6M9LJbieGsjcJvdgOyjYVl</td>\n",
       "      <td>5Jy9GTHj3hkaEhsJQfCVAX</td>\n",
       "      <td>0.476</td>\n",
       "      <td>0.218000</td>\n",
       "      <td>0.3900</td>\n",
       "      <td>121.013</td>\n",
       "      <td>0.000000</td>\n",
       "      <td>-9.283</td>\n",
       "      <td>0.1550</td>\n",
       "      <td>309434</td>\n",
       "      <td>6</td>\n",
       "      <td>0.1670</td>\n",
       "      <td>0.0518</td>\n",
       "      <td>0</td>\n",
       "      <td>[alternative r&amp;b]</td>\n",
       "    </tr>\n",
       "    <tr>\n",
       "      <th>As Hell</th>\n",
       "      <td>0RnLy1kEoGVcNTcA9qWRut</td>\n",
       "      <td>2vjeuQwzSP5ErC1S41gONX</td>\n",
       "      <td>0.699</td>\n",
       "      <td>0.061600</td>\n",
       "      <td>0.5530</td>\n",
       "      <td>127.992</td>\n",
       "      <td>0.000170</td>\n",
       "      <td>-7.628</td>\n",
       "      <td>0.1150</td>\n",
       "      <td>169267</td>\n",
       "      <td>9</td>\n",
       "      <td>0.4620</td>\n",
       "      <td>0.0657</td>\n",
       "      <td>0</td>\n",
       "      <td>[j-rap]</td>\n",
       "    </tr>\n",
       "    <tr>\n",
       "      <th>Patterns</th>\n",
       "      <td>43o1Irj3t3XrH7jkzjp5H3</td>\n",
       "      <td>0iiDqBBNToKJG4YoyESrBf</td>\n",
       "      <td>0.420</td>\n",
       "      <td>0.431000</td>\n",
       "      <td>0.6330</td>\n",
       "      <td>83.814</td>\n",
       "      <td>0.000000</td>\n",
       "      <td>-7.434</td>\n",
       "      <td>0.1010</td>\n",
       "      <td>143571</td>\n",
       "      <td>3</td>\n",
       "      <td>0.1950</td>\n",
       "      <td>0.0362</td>\n",
       "      <td>0</td>\n",
       "      <td>[canadian contemporary r&amp;b, trap soul]</td>\n",
       "    </tr>\n",
       "    <tr>\n",
       "      <th>Dancing With The Devil</th>\n",
       "      <td>0VQ3GSPdl4njPOr3lyaoaD</td>\n",
       "      <td>6S2OmqARrzebs0tKUEyXyp</td>\n",
       "      <td>0.413</td>\n",
       "      <td>0.273000</td>\n",
       "      <td>0.6400</td>\n",
       "      <td>75.245</td>\n",
       "      <td>0.000000</td>\n",
       "      <td>-5.811</td>\n",
       "      <td>0.1100</td>\n",
       "      <td>243992</td>\n",
       "      <td>8</td>\n",
       "      <td>0.1490</td>\n",
       "      <td>0.0427</td>\n",
       "      <td>1</td>\n",
       "      <td>[dance pop, pop, post-teen pop]</td>\n",
       "    </tr>\n",
       "    <tr>\n",
       "      <th>Dancing Slow</th>\n",
       "      <td>0CIxOoxye5HUWA23ofjbpJ</td>\n",
       "      <td>6FbDoZnMBTdhhhLuJBOOqP</td>\n",
       "      <td>0.731</td>\n",
       "      <td>0.338000</td>\n",
       "      <td>0.6200</td>\n",
       "      <td>92.490</td>\n",
       "      <td>0.000001</td>\n",
       "      <td>-6.334</td>\n",
       "      <td>0.1110</td>\n",
       "      <td>200173</td>\n",
       "      <td>0</td>\n",
       "      <td>0.5120</td>\n",
       "      <td>0.0503</td>\n",
       "      <td>1</td>\n",
       "      <td>[alaska indie, lilith, permanent wave, pop roc...</td>\n",
       "    </tr>\n",
       "    <tr>\n",
       "      <th>GET IT</th>\n",
       "      <td>1jtdHYkk7RZNSeGWLxXwrS</td>\n",
       "      <td>3pc0bOVB5whxmD50W79wwO</td>\n",
       "      <td>0.619</td>\n",
       "      <td>0.224000</td>\n",
       "      <td>0.7100</td>\n",
       "      <td>170.119</td>\n",
       "      <td>0.000395</td>\n",
       "      <td>-7.661</td>\n",
       "      <td>0.2180</td>\n",
       "      <td>151302</td>\n",
       "      <td>4</td>\n",
       "      <td>0.3130</td>\n",
       "      <td>0.0686</td>\n",
       "      <td>0</td>\n",
       "      <td>[chill r&amp;b, pop]</td>\n",
       "    </tr>\n",
       "    <tr>\n",
       "      <th>Love's Train</th>\n",
       "      <td>60gTdTwaNtGAzIxKfeGVfJ</td>\n",
       "      <td>0du5cEVh5yTK9QJze8zA0C</td>\n",
       "      <td>0.711</td>\n",
       "      <td>0.039600</td>\n",
       "      <td>0.6050</td>\n",
       "      <td>140.981</td>\n",
       "      <td>0.000023</td>\n",
       "      <td>-9.801</td>\n",
       "      <td>0.1040</td>\n",
       "      <td>307014</td>\n",
       "      <td>6</td>\n",
       "      <td>0.8070</td>\n",
       "      <td>0.0310</td>\n",
       "      <td>0</td>\n",
       "      <td>[dance pop, pop]</td>\n",
       "    </tr>\n",
       "    <tr>\n",
       "      <th>Tried To Set Me Up</th>\n",
       "      <td>44qwisVhZQnIWh3yOoJJho</td>\n",
       "      <td>3mdX79oFaDTzmrQ3YNlglp</td>\n",
       "      <td>0.821</td>\n",
       "      <td>0.031000</td>\n",
       "      <td>0.5070</td>\n",
       "      <td>137.848</td>\n",
       "      <td>0.000964</td>\n",
       "      <td>-7.755</td>\n",
       "      <td>0.0969</td>\n",
       "      <td>125428</td>\n",
       "      <td>11</td>\n",
       "      <td>0.5470</td>\n",
       "      <td>0.1080</td>\n",
       "      <td>0</td>\n",
       "      <td>[]</td>\n",
       "    </tr>\n",
       "    <tr>\n",
       "      <th>String Quartet No. 13 in B-Flat Major, Op. 130: II. Presto</th>\n",
       "      <td>2ZjhhB3kZP6Zufmjuv2TWC</td>\n",
       "      <td>2wOqMjp9TyABvtHdOSOTUS</td>\n",
       "      <td>0.367</td>\n",
       "      <td>0.913000</td>\n",
       "      <td>0.0814</td>\n",
       "      <td>161.580</td>\n",
       "      <td>0.931000</td>\n",
       "      <td>-23.788</td>\n",
       "      <td>0.1050</td>\n",
       "      <td>123773</td>\n",
       "      <td>10</td>\n",
       "      <td>0.6200</td>\n",
       "      <td>0.0439</td>\n",
       "      <td>0</td>\n",
       "      <td>[classical, classical era, early romantic era,...</td>\n",
       "    </tr>\n",
       "    <tr>\n",
       "      <th>Symphony No. 5 in C Minor, Op. 67: III. Allegro</th>\n",
       "      <td>7ojkji0OYCOpl3UMy92gEf</td>\n",
       "      <td>2wOqMjp9TyABvtHdOSOTUS</td>\n",
       "      <td>0.279</td>\n",
       "      <td>0.935000</td>\n",
       "      <td>0.0837</td>\n",
       "      <td>81.506</td>\n",
       "      <td>0.521000</td>\n",
       "      <td>-20.421</td>\n",
       "      <td>0.2500</td>\n",
       "      <td>309467</td>\n",
       "      <td>1</td>\n",
       "      <td>0.1970</td>\n",
       "      <td>0.0442</td>\n",
       "      <td>1</td>\n",
       "      <td>[classical, classical era, early romantic era,...</td>\n",
       "    </tr>\n",
       "    <tr>\n",
       "      <th>Piano Concerto No. 2 in B-Flat Major, Op. 19: III. Rondo: Molto allegro</th>\n",
       "      <td>2lYWgS1Qk3cgfdK2DD5Apr</td>\n",
       "      <td>2wOqMjp9TyABvtHdOSOTUS</td>\n",
       "      <td>0.354</td>\n",
       "      <td>0.991000</td>\n",
       "      <td>0.1480</td>\n",
       "      <td>175.001</td>\n",
       "      <td>0.925000</td>\n",
       "      <td>-21.075</td>\n",
       "      <td>0.0984</td>\n",
       "      <td>363000</td>\n",
       "      <td>10</td>\n",
       "      <td>0.3560</td>\n",
       "      <td>0.0440</td>\n",
       "      <td>1</td>\n",
       "      <td>[classical, classical era, early romantic era,...</td>\n",
       "    </tr>\n",
       "  </tbody>\n",
       "</table>\n",
       "</div>"
      ],
      "text/plain": [
       "                                                                  track_id  \\\n",
       "track_name                                                                   \n",
       "Knew You                                            0WfV9XwpkldKdjzw4qoyAd   \n",
       "Flower Shops (feat. Morgan Wallen)                  2ccuOtUjIyx3tPcsnpeBzJ   \n",
       "Backseat (Kiss Me)                                  7dbnw3cDgeDxOxJJ7QiAiD   \n",
       "He Went To Jared (HARDY feat. Morgan Wallen)        25uzAwyPekZtWzlLVvUYNS   \n",
       "lie to me                                           4f9IfFvBFm7Gsf1IVEudyf   \n",
       "Taste of You                                        655sojH8GGEteZTBJOFyy7   \n",
       "One of Them Nights                                  4ks4jp4jGsmffhbUegLG6S   \n",
       "Beggin'                                             4YeKAwFn69ehnciOfi7Sbf   \n",
       "come over                                           6PGJZEvtlf2EJPu9VLqI3q   \n",
       "The Reason                                          77loZpT5Y5PRP1S451P9Yz   \n",
       "Machine                                             2qPesmvW3Ybks41YWlstf1   \n",
       "Three Feet Away                                     41OtlB4xN40fRSpq6b4QNS   \n",
       "Down On Me                                          0x3TibRgnSqzkcwrqBd4iX   \n",
       "Kiss Me More (feat. SZA)                            748mdHapucXQri7IAO8yFK   \n",
       "Girl Next Door (Remix) [feat. Wiz Khalifa, DVBBS]   6ip4lEjzq1GQHIuikQBiZa   \n",
       "Stop Draggin' Your Boots                            0ODaBMQ3tbTefbmbMWTwdT   \n",
       "U Remind Me                                         0gMfgLE3milkpO6Umr3aAC   \n",
       "rock bottom (feat. nothing,nowhere.)                5d1OeQBC6zyHO8jc2svOZz   \n",
       "Lips Of An Angel                                    40LQiUUUKXVGyNs09lHVjW   \n",
       "MONOPOLY (with Victoria Monét)                      6tsOcBnaKgzK22yEiqRh8P   \n",
       "E-GIRLS ARE RUINING MY LIFE!                        7bCfHiRcfUjG0YVVNUL7Ve   \n",
       "D.R.E.A.M.                                          1nFwdOtgSlwlauOjoWX5qv   \n",
       "Baby, I'm Jealous (feat. Doja Cat)                  2fTdRdN73RgIgcUZN33dvt   \n",
       "Polite - Mura Masa Remix                            1p9rgYTrfwr2vfSlHXHOyn   \n",
       "Again (feat. XXXTENTACION)                          2S2od3hT7ceytw7d1pTRuE   \n",
       "Set Me Free                                         0ZvKcvzELuiKb85hQIbkNb   \n",
       "Let It Go                                           4Zm0cTwEMly3aCgPdyqIQz   \n",
       "Sunshine Of Your Love                               2K2M0TcglCRLLpFOzKeFZA   \n",
       "Time of the Season - Mono Version                   5AJrhrwz4oSZX2PwwV4qrN   \n",
       "I Hate Myself for Loving You                        2HXixVqzzm9rEUIMAWzshl   \n",
       "Into It                                             4HwDCXsMBC7SUdp2WT4MZP   \n",
       "Trampoline (feat. Missy Elliott, BIA and Doechii)   0gIVNoo3H05GyR4ExxmQOa   \n",
       "Jab Saiyaan (From \"Gangubai Kathiawadi\")            4VdgJO1wxgcykHYmXSZxcR   \n",
       "Woman Up (And Take It Like A Man)                   4ed8tSfo4yU778D2mzIptV   \n",
       "Punjabiyan Di Dhee                                  541oF6e3e6P38aDIqQXxU7   \n",
       "Still D.R.E.                                        503OTo2dSqe7qk76rgsbep   \n",
       "Night Vision                                        1AlsstnhmK0Of1G8iQQYsJ   \n",
       "Under Pressure - Remastered 2011                    11IzgLRXV7Cgek3tEgGgjw   \n",
       "LIGHT BLUE                                          6M9LJbieGsjcJvdgOyjYVl   \n",
       "As Hell                                             0RnLy1kEoGVcNTcA9qWRut   \n",
       "Patterns                                            43o1Irj3t3XrH7jkzjp5H3   \n",
       "Dancing With The Devil                              0VQ3GSPdl4njPOr3lyaoaD   \n",
       "Dancing Slow                                        0CIxOoxye5HUWA23ofjbpJ   \n",
       "GET IT                                              1jtdHYkk7RZNSeGWLxXwrS   \n",
       "Love's Train                                        60gTdTwaNtGAzIxKfeGVfJ   \n",
       "Tried To Set Me Up                                  44qwisVhZQnIWh3yOoJJho   \n",
       "String Quartet No. 13 in B-Flat Major, Op. 130:...  2ZjhhB3kZP6Zufmjuv2TWC   \n",
       "Symphony No. 5 in C Minor, Op. 67: III. Allegro     7ojkji0OYCOpl3UMy92gEf   \n",
       "Piano Concerto No. 2 in B-Flat Major, Op. 19: I...  2lYWgS1Qk3cgfdK2DD5Apr   \n",
       "\n",
       "                                                                 artist_id  \\\n",
       "track_name                                                                   \n",
       "Knew You                                            245PKF3hKjtxJKIG153kF0   \n",
       "Flower Shops (feat. Morgan Wallen)                  4GGfAshSkqoxpZdoaHm7ky   \n",
       "Backseat (Kiss Me)                                  53fzjsJnjEKkA6TdncuIM4   \n",
       "He Went To Jared (HARDY feat. Morgan Wallen)        5QNm7E7RU2m64l6Gliu8Oy   \n",
       "lie to me                                           45dkTj5sMRSjrmBSBeiHym   \n",
       "Taste of You                                        4aKdmOXdUKX07HVd3sGgzw   \n",
       "One of Them Nights                                  4BYxqVkZyFjtik7crYLg5Q   \n",
       "Beggin'                                             6c4sUNBgdonFJz8Kx2VsGz   \n",
       "come over                                           4FHtVj8v4il9h5HRQ4Ib3n   \n",
       "The Reason                                          2MqhkhX4npxDZ62ObR5ELO   \n",
       "Machine                                             7licaqhcEBQUzz9FownRaJ   \n",
       "Three Feet Away                                     7jUAn5ijg8rI670EtbHfbJ   \n",
       "Down On Me                                          3KV3p5EY4AvKxOlhGHORLg   \n",
       "Kiss Me More (feat. SZA)                            5cj0lLjcoR7YOSnhnX0Po5   \n",
       "Girl Next Door (Remix) [feat. Wiz Khalifa, DVBBS]   4YqctGfuLnSvjjlFQvNish   \n",
       "Stop Draggin' Your Boots                            5iqStkZi6QmG8sgQZQrfGN   \n",
       "U Remind Me                                         7nnTzZ5tZrPx14iDnmjksU   \n",
       "rock bottom (feat. nothing,nowhere.)                7EIOmfcBRSR63ZaUptkD09   \n",
       "Lips Of An Angel                                    6BMhCQJYHxxKAeqYS1p5rY   \n",
       "MONOPOLY (with Victoria Monét)                      66CXWjxzNUsdJxJ2JdwvnR   \n",
       "E-GIRLS ARE RUINING MY LIFE!                        7yntSJ6uojO3z6GFUVwhAW   \n",
       "D.R.E.A.M.                                          46MmlFKM8ivDsUnGOejvSM   \n",
       "Baby, I'm Jealous (feat. Doja Cat)                  64M6ah0SkkRsnPGtGiRAbb   \n",
       "Polite - Mura Masa Remix                            1nIJEqPyIj5qutlgWNmQB0   \n",
       "Again (feat. XXXTENTACION)                          55fhWPvDiMpLnE4ZzNXZyW   \n",
       "Set Me Free                                         0nmQIMXWTXfhgOBdNzhGOs   \n",
       "Let It Go                                           77SW9BnxLY8rJ0RciFqkHh   \n",
       "Sunshine Of Your Love                               74oJ4qxwOZvX6oSsu1DGnw   \n",
       "Time of the Season - Mono Version                   2jgPkn6LuUazBoBk6vvjh5   \n",
       "I Hate Myself for Loving You                        1Fmb52lZ6Jv7FMWXXTPO3K   \n",
       "Into It                                             7cYEt1pqMgXJdq00hAwVpT   \n",
       "Trampoline (feat. Missy Elliott, BIA and Doechii)   1Cs0zKBU1kc0i8ypK3B9ai   \n",
       "Jab Saiyaan (From \"Gangubai Kathiawadi\")            0oOet2f43PA68X5RxKobEy   \n",
       "Woman Up (And Take It Like A Man)                   32vWCbZh0xZ4o9gkz4PsEU   \n",
       "Punjabiyan Di Dhee                                  5rQoBDKFnd1n6BkdbgVaRL   \n",
       "Still D.R.E.                                        6DPYiyq5kWVQS4RGwxzPC7   \n",
       "Night Vision                                        2wcZTsK9T9ANPCLWDHtFIZ   \n",
       "Under Pressure - Remastered 2011                    1dfeR4HaWDbWqFHLkxsg1d   \n",
       "LIGHT BLUE                                          5Jy9GTHj3hkaEhsJQfCVAX   \n",
       "As Hell                                             2vjeuQwzSP5ErC1S41gONX   \n",
       "Patterns                                            0iiDqBBNToKJG4YoyESrBf   \n",
       "Dancing With The Devil                              6S2OmqARrzebs0tKUEyXyp   \n",
       "Dancing Slow                                        6FbDoZnMBTdhhhLuJBOOqP   \n",
       "GET IT                                              3pc0bOVB5whxmD50W79wwO   \n",
       "Love's Train                                        0du5cEVh5yTK9QJze8zA0C   \n",
       "Tried To Set Me Up                                  3mdX79oFaDTzmrQ3YNlglp   \n",
       "String Quartet No. 13 in B-Flat Major, Op. 130:...  2wOqMjp9TyABvtHdOSOTUS   \n",
       "Symphony No. 5 in C Minor, Op. 67: III. Allegro     2wOqMjp9TyABvtHdOSOTUS   \n",
       "Piano Concerto No. 2 in B-Flat Major, Op. 19: I...  2wOqMjp9TyABvtHdOSOTUS   \n",
       "\n",
       "                                                    danceability  \\\n",
       "track_name                                                         \n",
       "Knew You                                                   0.624   \n",
       "Flower Shops (feat. Morgan Wallen)                         0.527   \n",
       "Backseat (Kiss Me)                                         0.750   \n",
       "He Went To Jared (HARDY feat. Morgan Wallen)               0.565   \n",
       "lie to me                                                  0.642   \n",
       "Taste of You                                               0.667   \n",
       "One of Them Nights                                         0.521   \n",
       "Beggin'                                                    0.715   \n",
       "come over                                                  0.865   \n",
       "The Reason                                                 0.472   \n",
       "Machine                                                    0.860   \n",
       "Three Feet Away                                            0.495   \n",
       "Down On Me                                                 0.700   \n",
       "Kiss Me More (feat. SZA)                                   0.762   \n",
       "Girl Next Door (Remix) [feat. Wiz Khalifa, DVBBS]          0.644   \n",
       "Stop Draggin' Your Boots                                   0.463   \n",
       "U Remind Me                                                0.762   \n",
       "rock bottom (feat. nothing,nowhere.)                       0.562   \n",
       "Lips Of An Angel                                           0.476   \n",
       "MONOPOLY (with Victoria Monét)                             0.892   \n",
       "E-GIRLS ARE RUINING MY LIFE!                               0.614   \n",
       "D.R.E.A.M.                                                 0.560   \n",
       "Baby, I'm Jealous (feat. Doja Cat)                         0.737   \n",
       "Polite - Mura Masa Remix                                   0.783   \n",
       "Again (feat. XXXTENTACION)                                 0.664   \n",
       "Set Me Free                                                0.448   \n",
       "Let It Go                                                  0.490   \n",
       "Sunshine Of Your Love                                      0.683   \n",
       "Time of the Season - Mono Version                          0.537   \n",
       "I Hate Myself for Loving You                               0.611   \n",
       "Into It                                                    0.518   \n",
       "Trampoline (feat. Missy Elliott, BIA and Doechii)          0.911   \n",
       "Jab Saiyaan (From \"Gangubai Kathiawadi\")                   0.622   \n",
       "Woman Up (And Take It Like A Man)                          0.681   \n",
       "Punjabiyan Di Dhee                                         0.610   \n",
       "Still D.R.E.                                               0.816   \n",
       "Night Vision                                               0.653   \n",
       "Under Pressure - Remastered 2011                           0.671   \n",
       "LIGHT BLUE                                                 0.476   \n",
       "As Hell                                                    0.699   \n",
       "Patterns                                                   0.420   \n",
       "Dancing With The Devil                                     0.413   \n",
       "Dancing Slow                                               0.731   \n",
       "GET IT                                                     0.619   \n",
       "Love's Train                                               0.711   \n",
       "Tried To Set Me Up                                         0.821   \n",
       "String Quartet No. 13 in B-Flat Major, Op. 130:...         0.367   \n",
       "Symphony No. 5 in C Minor, Op. 67: III. Allegro            0.279   \n",
       "Piano Concerto No. 2 in B-Flat Major, Op. 19: I...         0.354   \n",
       "\n",
       "                                                    acousticness  energy  \\\n",
       "track_name                                                                 \n",
       "Knew You                                                0.007250  0.5620   \n",
       "Flower Shops (feat. Morgan Wallen)                      0.118000  0.4610   \n",
       "Backseat (Kiss Me)                                      0.111000  0.5480   \n",
       "He Went To Jared (HARDY feat. Morgan Wallen)            0.054000  0.8060   \n",
       "lie to me                                               0.015100  0.3920   \n",
       "Taste of You                                            0.006400  0.6790   \n",
       "One of Them Nights                                      0.042200  0.8830   \n",
       "Beggin'                                                 0.028400  0.7960   \n",
       "come over                                               0.289000  0.4980   \n",
       "The Reason                                              0.012900  0.6710   \n",
       "Machine                                                 0.589000  0.5000   \n",
       "Three Feet Away                                         0.491000  0.5500   \n",
       "Down On Me                                              0.036900  0.5980   \n",
       "Kiss Me More (feat. SZA)                                0.235000  0.7010   \n",
       "Girl Next Door (Remix) [feat. Wiz Khalifa, DVBBS]       0.002680  0.8660   \n",
       "Stop Draggin' Your Boots                                0.037900  0.7600   \n",
       "U Remind Me                                             0.009650  0.5520   \n",
       "rock bottom (feat. nothing,nowhere.)                    0.002730  0.7030   \n",
       "Lips Of An Angel                                        0.021700  0.7360   \n",
       "MONOPOLY (with Victoria Monét)                          0.704000  0.5070   \n",
       "E-GIRLS ARE RUINING MY LIFE!                            0.001610  0.9370   \n",
       "D.R.E.A.M.                                              0.359000  0.7380   \n",
       "Baby, I'm Jealous (feat. Doja Cat)                      0.039800  0.8670   \n",
       "Polite - Mura Masa Remix                                0.273000  0.7590   \n",
       "Again (feat. XXXTENTACION)                              0.188000  0.7380   \n",
       "Set Me Free                                             0.000415  0.6610   \n",
       "Let It Go                                               0.015600  0.7900   \n",
       "Sunshine Of Your Love                                   0.385000  0.5940   \n",
       "Time of the Season - Mono Version                       0.142000  0.7000   \n",
       "I Hate Myself for Loving You                            0.084600  0.8830   \n",
       "Into It                                                 0.050300  0.5720   \n",
       "Trampoline (feat. Missy Elliott, BIA and Doechii)       0.018600  0.5130   \n",
       "Jab Saiyaan (From \"Gangubai Kathiawadi\")                0.682000  0.5910   \n",
       "Woman Up (And Take It Like A Man)                       0.383000  0.7590   \n",
       "Punjabiyan Di Dhee                                      0.380000  0.7220   \n",
       "Still D.R.E.                                            0.160000  0.7750   \n",
       "Night Vision                                            0.066500  0.9140   \n",
       "Under Pressure - Remastered 2011                        0.422000  0.7110   \n",
       "LIGHT BLUE                                              0.218000  0.3900   \n",
       "As Hell                                                 0.061600  0.5530   \n",
       "Patterns                                                0.431000  0.6330   \n",
       "Dancing With The Devil                                  0.273000  0.6400   \n",
       "Dancing Slow                                            0.338000  0.6200   \n",
       "GET IT                                                  0.224000  0.7100   \n",
       "Love's Train                                            0.039600  0.6050   \n",
       "Tried To Set Me Up                                      0.031000  0.5070   \n",
       "String Quartet No. 13 in B-Flat Major, Op. 130:...      0.913000  0.0814   \n",
       "Symphony No. 5 in C Minor, Op. 67: III. Allegro         0.935000  0.0837   \n",
       "Piano Concerto No. 2 in B-Flat Major, Op. 19: I...      0.991000  0.1480   \n",
       "\n",
       "                                                      tempo  instrumentalness  \\\n",
       "track_name                                                                      \n",
       "Knew You                                            109.958          0.000003   \n",
       "Flower Shops (feat. Morgan Wallen)                  128.153          0.000000   \n",
       "Backseat (Kiss Me)                                  101.031          0.000000   \n",
       "He Went To Jared (HARDY feat. Morgan Wallen)        140.084          0.000008   \n",
       "lie to me                                           138.065          0.000000   \n",
       "Taste of You                                        100.054          0.000053   \n",
       "One of Them Nights                                   80.982          0.000000   \n",
       "Beggin'                                             129.040          0.000000   \n",
       "come over                                           108.062          0.000001   \n",
       "The Reason                                           82.952          0.000000   \n",
       "Machine                                             129.071          0.000002   \n",
       "Three Feet Away                                      98.162          0.000075   \n",
       "Down On Me                                          160.041          0.000000   \n",
       "Kiss Me More (feat. SZA)                            110.968          0.000158   \n",
       "Girl Next Door (Remix) [feat. Wiz Khalifa, DVBBS]   124.992          0.000004   \n",
       "Stop Draggin' Your Boots                            123.899          0.000000   \n",
       "U Remind Me                                          98.014          0.000000   \n",
       "rock bottom (feat. nothing,nowhere.)                145.058          0.000000   \n",
       "Lips Of An Angel                                    129.084          0.000001   \n",
       "MONOPOLY (with Victoria Monét)                      143.960          0.000031   \n",
       "E-GIRLS ARE RUINING MY LIFE!                         84.980          0.001360   \n",
       "D.R.E.A.M.                                          143.093          0.000000   \n",
       "Baby, I'm Jealous (feat. Doja Cat)                   98.050          0.000000   \n",
       "Polite - Mura Masa Remix                            110.055          0.081700   \n",
       "Again (feat. XXXTENTACION)                          119.973          0.000058   \n",
       "Set Me Free                                         139.983          0.000064   \n",
       "Let It Go                                           149.903          0.001180   \n",
       "Sunshine Of Your Love                               115.099          0.000086   \n",
       "Time of the Season - Mono Version                   117.111          0.000002   \n",
       "I Hate Myself for Loving You                        117.928          0.000001   \n",
       "Into It                                             130.053          0.000024   \n",
       "Trampoline (feat. Missy Elliott, BIA and Doechii)   103.998          0.000000   \n",
       "Jab Saiyaan (From \"Gangubai Kathiawadi\")             77.963          0.000000   \n",
       "Woman Up (And Take It Like A Man)                    98.038          0.000000   \n",
       "Punjabiyan Di Dhee                                  185.779          0.000000   \n",
       "Still D.R.E.                                         93.431          0.000310   \n",
       "Night Vision                                         92.457          0.000008   \n",
       "Under Pressure - Remastered 2011                    113.809          0.000000   \n",
       "LIGHT BLUE                                          121.013          0.000000   \n",
       "As Hell                                             127.992          0.000170   \n",
       "Patterns                                             83.814          0.000000   \n",
       "Dancing With The Devil                               75.245          0.000000   \n",
       "Dancing Slow                                         92.490          0.000001   \n",
       "GET IT                                              170.119          0.000395   \n",
       "Love's Train                                        140.981          0.000023   \n",
       "Tried To Set Me Up                                  137.848          0.000964   \n",
       "String Quartet No. 13 in B-Flat Major, Op. 130:...  161.580          0.931000   \n",
       "Symphony No. 5 in C Minor, Op. 67: III. Allegro      81.506          0.521000   \n",
       "Piano Concerto No. 2 in B-Flat Major, Op. 19: I...  175.001          0.925000   \n",
       "\n",
       "                                                    loudness  liveness  \\\n",
       "track_name                                                               \n",
       "Knew You                                              -6.455    0.0937   \n",
       "Flower Shops (feat. Morgan Wallen)                    -5.908    0.0831   \n",
       "Backseat (Kiss Me)                                    -7.704    0.0633   \n",
       "He Went To Jared (HARDY feat. Morgan Wallen)          -5.110    0.2040   \n",
       "lie to me                                             -7.846    0.3520   \n",
       "Taste of You                                          -6.616    0.1700   \n",
       "One of Them Nights                                    -3.807    0.1050   \n",
       "Beggin'                                               -4.889    0.0658   \n",
       "come over                                             -8.311    0.6900   \n",
       "The Reason                                            -4.649    0.1590   \n",
       "Machine                                               -8.149    0.1110   \n",
       "Three Feet Away                                       -8.417    0.2160   \n",
       "Down On Me                                            -7.783    0.1110   \n",
       "Kiss Me More (feat. SZA)                              -3.541    0.1230   \n",
       "Girl Next Door (Remix) [feat. Wiz Khalifa, DVBBS]     -5.386    0.0850   \n",
       "Stop Draggin' Your Boots                              -5.958    0.1150   \n",
       "U Remind Me                                           -6.714    0.1250   \n",
       "rock bottom (feat. nothing,nowhere.)                  -6.134    0.3400   \n",
       "Lips Of An Angel                                      -5.380    0.2030   \n",
       "MONOPOLY (with Victoria Monét)                        -8.282    0.1090   \n",
       "E-GIRLS ARE RUINING MY LIFE!                          -7.443    0.1030   \n",
       "D.R.E.A.M.                                            -6.505    0.1850   \n",
       "Baby, I'm Jealous (feat. Doja Cat)                    -2.259    0.3200   \n",
       "Polite - Mura Masa Remix                              -8.463    0.0998   \n",
       "Again (feat. XXXTENTACION)                            -4.095    0.1350   \n",
       "Set Me Free                                           -7.293    0.0499   \n",
       "Let It Go                                             -4.833    0.2190   \n",
       "Sunshine Of Your Love                                 -8.289    0.1210   \n",
       "Time of the Season - Mono Version                     -6.852    0.3830   \n",
       "I Hate Myself for Loving You                         -11.225    0.1920   \n",
       "Into It                                               -6.706    0.1290   \n",
       "Trampoline (feat. Missy Elliott, BIA and Doechii)     -4.968    0.1090   \n",
       "Jab Saiyaan (From \"Gangubai Kathiawadi\")              -6.983    0.2130   \n",
       "Woman Up (And Take It Like A Man)                     -5.602    0.0974   \n",
       "Punjabiyan Di Dhee                                    -3.112    0.4820   \n",
       "Still D.R.E.                                          -3.323    0.0543   \n",
       "Night Vision                                          -8.927    0.0952   \n",
       "Under Pressure - Remastered 2011                      -7.813    0.1040   \n",
       "LIGHT BLUE                                            -9.283    0.1550   \n",
       "As Hell                                               -7.628    0.1150   \n",
       "Patterns                                              -7.434    0.1010   \n",
       "Dancing With The Devil                                -5.811    0.1100   \n",
       "Dancing Slow                                          -6.334    0.1110   \n",
       "GET IT                                                -7.661    0.2180   \n",
       "Love's Train                                          -9.801    0.1040   \n",
       "Tried To Set Me Up                                    -7.755    0.0969   \n",
       "String Quartet No. 13 in B-Flat Major, Op. 130:...   -23.788    0.1050   \n",
       "Symphony No. 5 in C Minor, Op. 67: III. Allegro      -20.421    0.2500   \n",
       "Piano Concerto No. 2 in B-Flat Major, Op. 19: I...   -21.075    0.0984   \n",
       "\n",
       "                                                    duration_ms  key  valence  \\\n",
       "track_name                                                                      \n",
       "Knew You                                                 185409    0   0.4780   \n",
       "Flower Shops (feat. Morgan Wallen)                       214405    7   0.2270   \n",
       "Backseat (Kiss Me)                                       166061    2   0.4970   \n",
       "He Went To Jared (HARDY feat. Morgan Wallen)             213693    9   0.6830   \n",
       "lie to me                                                177440    4   0.0479   \n",
       "Taste of You                                             167606    0   0.3200   \n",
       "One of Them Nights                                       162520    1   0.8050   \n",
       "Beggin'                                                  218707    4   0.4310   \n",
       "come over                                                126088    7   0.8080   \n",
       "The Reason                                               232800    4   0.0681   \n",
       "Machine                                                  219824   10   0.5510   \n",
       "Three Feet Away                                          198367    2   0.0500   \n",
       "Down On Me                                               228453    2   0.5940   \n",
       "Kiss Me More (feat. SZA)                                 208867    8   0.7420   \n",
       "Girl Next Door (Remix) [feat. Wiz Khalifa, DVBBS]        215841    5   0.5490   \n",
       "Stop Draggin' Your Boots                                 164347    2   0.6500   \n",
       "U Remind Me                                              177383   11   0.7340   \n",
       "rock bottom (feat. nothing,nowhere.)                     165425    2   0.3130   \n",
       "Lips Of An Angel                                         261853    2   0.2510   \n",
       "MONOPOLY (with Victoria Monét)                           158587    0   0.6950   \n",
       "E-GIRLS ARE RUINING MY LIFE!                             105176    1   0.3860   \n",
       "D.R.E.A.M.                                               203051    0   0.2540   \n",
       "Baby, I'm Jealous (feat. Doja Cat)                       175873   11   0.5060   \n",
       "Polite - Mura Masa Remix                                 230273   10   0.4880   \n",
       "Again (feat. XXXTENTACION)                               193962    9   0.2030   \n",
       "Set Me Free                                              381201    6   0.2130   \n",
       "Let It Go                                                197267    5   0.2850   \n",
       "Sunshine Of Your Love                                    250400    2   0.7340   \n",
       "Time of the Season - Mono Version                        214027    4   0.6950   \n",
       "I Hate Myself for Loving You                             246800    9   0.6040   \n",
       "Into It                                                  196767   10   0.2910   \n",
       "Trampoline (feat. Missy Elliott, BIA and Doechii)        144796    8   0.1560   \n",
       "Jab Saiyaan (From \"Gangubai Kathiawadi\")                 247785    5   0.5820   \n",
       "Woman Up (And Take It Like A Man)                        147507    0   0.6140   \n",
       "Punjabiyan Di Dhee                                       193067    2   0.4230   \n",
       "Still D.R.E.                                             270587   11   0.5270   \n",
       "Night Vision                                             187355    1   0.7320   \n",
       "Under Pressure - Remastered 2011                         248440    2   0.4660   \n",
       "LIGHT BLUE                                               309434    6   0.1670   \n",
       "As Hell                                                  169267    9   0.4620   \n",
       "Patterns                                                 143571    3   0.1950   \n",
       "Dancing With The Devil                                   243992    8   0.1490   \n",
       "Dancing Slow                                             200173    0   0.5120   \n",
       "GET IT                                                   151302    4   0.3130   \n",
       "Love's Train                                             307014    6   0.8070   \n",
       "Tried To Set Me Up                                       125428   11   0.5470   \n",
       "String Quartet No. 13 in B-Flat Major, Op. 130:...       123773   10   0.6200   \n",
       "Symphony No. 5 in C Minor, Op. 67: III. Allegro          309467    1   0.1970   \n",
       "Piano Concerto No. 2 in B-Flat Major, Op. 19: I...       363000   10   0.3560   \n",
       "\n",
       "                                                    speechiness  mode  \\\n",
       "track_name                                                              \n",
       "Knew You                                                 0.0285     1   \n",
       "Flower Shops (feat. Morgan Wallen)                       0.0269     1   \n",
       "Backseat (Kiss Me)                                       0.0492     1   \n",
       "He Went To Jared (HARDY feat. Morgan Wallen)             0.0482     0   \n",
       "lie to me                                                0.0372     0   \n",
       "Taste of You                                             0.0475     1   \n",
       "One of Them Nights                                       0.0616     1   \n",
       "Beggin'                                                  0.0534     0   \n",
       "come over                                                0.2880     0   \n",
       "The Reason                                               0.0290     1   \n",
       "Machine                                                  0.0454     1   \n",
       "Three Feet Away                                          0.0785     1   \n",
       "Down On Me                                               0.1140     1   \n",
       "Kiss Me More (feat. SZA)                                 0.0286     1   \n",
       "Girl Next Door (Remix) [feat. Wiz Khalifa, DVBBS]        0.0418     0   \n",
       "Stop Draggin' Your Boots                                 0.1100     1   \n",
       "U Remind Me                                              0.0549     0   \n",
       "rock bottom (feat. nothing,nowhere.)                     0.0416     0   \n",
       "Lips Of An Angel                                         0.0343     1   \n",
       "MONOPOLY (with Victoria Monét)                           0.3780     1   \n",
       "E-GIRLS ARE RUINING MY LIFE!                             0.1150     1   \n",
       "D.R.E.A.M.                                               0.0630     1   \n",
       "Baby, I'm Jealous (feat. Doja Cat)                       0.0458     0   \n",
       "Polite - Mura Masa Remix                                 0.2750     0   \n",
       "Again (feat. XXXTENTACION)                               0.0338     0   \n",
       "Set Me Free                                              0.0311     1   \n",
       "Let It Go                                                0.0699     0   \n",
       "Sunshine Of Your Love                                    0.0347     1   \n",
       "Time of the Season - Mono Version                        0.0366     0   \n",
       "I Hate Myself for Loving You                             0.0539     1   \n",
       "Into It                                                  0.0416     0   \n",
       "Trampoline (feat. Missy Elliott, BIA and Doechii)        0.1510     0   \n",
       "Jab Saiyaan (From \"Gangubai Kathiawadi\")                 0.0612     1   \n",
       "Woman Up (And Take It Like A Man)                        0.0982     1   \n",
       "Punjabiyan Di Dhee                                       0.2230     1   \n",
       "Still D.R.E.                                             0.2340     1   \n",
       "Night Vision                                             0.1030     1   \n",
       "Under Pressure - Remastered 2011                         0.0478     1   \n",
       "LIGHT BLUE                                               0.0518     0   \n",
       "As Hell                                                  0.0657     0   \n",
       "Patterns                                                 0.0362     0   \n",
       "Dancing With The Devil                                   0.0427     1   \n",
       "Dancing Slow                                             0.0503     1   \n",
       "GET IT                                                   0.0686     0   \n",
       "Love's Train                                             0.0310     0   \n",
       "Tried To Set Me Up                                       0.1080     0   \n",
       "String Quartet No. 13 in B-Flat Major, Op. 130:...       0.0439     0   \n",
       "Symphony No. 5 in C Minor, Op. 67: III. Allegro          0.0442     1   \n",
       "Piano Concerto No. 2 in B-Flat Major, Op. 19: I...       0.0440     1   \n",
       "\n",
       "                                                                                               genres  \n",
       "track_name                                                                                             \n",
       "Knew You                                            [alt z, dark pop, electropop, indie electropop...  \n",
       "Flower Shops (feat. Morgan Wallen)                                                                 []  \n",
       "Backseat (Kiss Me)                                                      [emo rap, sad rap, trap soul]  \n",
       "He Went To Jared (HARDY feat. Morgan Wallen)                                   [contemporary country]  \n",
       "lie to me                                                                 [alt z, pop, post-teen pop]  \n",
       "Taste of You                                        [canadian electronic, edm, electra, electro ho...  \n",
       "One of Them Nights                                  [contemporary country, country, country road, ...  \n",
       "Beggin'                                                       [dance pop, norwegian hip hop, pop rap]  \n",
       "come over                                             [canadian contemporary r&b, sad rap, trap soul]  \n",
       "The Reason                                          [alternative metal, funk metal, nu metal, pop ...  \n",
       "Machine                                                                                  [ai, la pop]  \n",
       "Three Feet Away                                                                                    []  \n",
       "Down On Me                                          [chicago rap, dance pop, pop, pop rap, r&b, so...  \n",
       "Kiss Me More (feat. SZA)                                                             [dance pop, pop]  \n",
       "Girl Next Door (Remix) [feat. Wiz Khalifa, DVBBS]                                          [teen pop]  \n",
       "Stop Draggin' Your Boots                                 [contemporary country, country, country pop]  \n",
       "U Remind Me                                                 [alt z, electropop, indie poptimism, pop]  \n",
       "rock bottom (feat. nothing,nowhere.)                                    [emo rap, sad lo-fi, sad rap]  \n",
       "Lips Of An Angel                                    [alternative metal, nu metal, pop rock, post-g...  \n",
       "MONOPOLY (with Victoria Monét)                                                       [dance pop, pop]  \n",
       "E-GIRLS ARE RUINING MY LIFE!                                                   [dream smp, viral rap]  \n",
       "D.R.E.A.M.                                            [metalcore, progressive post-hardcore, screamo]  \n",
       "Baby, I'm Jealous (feat. Doja Cat)                   [dance pop, edm, electropop, pop, post-teen pop]  \n",
       "Polite - Mura Masa Remix                            [art pop, electropop, escape room, scandinavia...  \n",
       "Again (feat. XXXTENTACION)                                            [dance pop, pop, post-teen pop]  \n",
       "Set Me Free                                                             [alternative metal, nu metal]  \n",
       "Let It Go                                                 [modern alternative rock, modern rock, pop]  \n",
       "Sunshine Of Your Love                               [album rock, art rock, blues rock, classic roc...  \n",
       "Time of the Season - Mono Version                   [art rock, baroque pop, brill building pop, br...  \n",
       "I Hate Myself for Loving You                                                        [glam punk, rock]  \n",
       "Into It                                                                                         [pop]  \n",
       "Trampoline (feat. Missy Elliott, BIA and Doechii)   [big room, dance pop, edm, pop, pop dance, pop...  \n",
       "Jab Saiyaan (From \"Gangubai Kathiawadi\")                          [desi pop, filmi, modern bollywood]  \n",
       "Woman Up (And Take It Like A Man)                        [classic country pop, country, country dawn]  \n",
       "Punjabiyan Di Dhee                                         [desi hip hop, desi pop, modern bollywood]  \n",
       "Still D.R.E.                                        [g funk, gangster rap, hip hop, rap, west coas...  \n",
       "Night Vision                                                                                       []  \n",
       "Under Pressure - Remastered 2011                                      [classic rock, glam rock, rock]  \n",
       "LIGHT BLUE                                                                          [alternative r&b]  \n",
       "As Hell                                                                                       [j-rap]  \n",
       "Patterns                                                       [canadian contemporary r&b, trap soul]  \n",
       "Dancing With The Devil                                                [dance pop, pop, post-teen pop]  \n",
       "Dancing Slow                                        [alaska indie, lilith, permanent wave, pop roc...  \n",
       "GET IT                                                                               [chill r&b, pop]  \n",
       "Love's Train                                                                         [dance pop, pop]  \n",
       "Tried To Set Me Up                                                                                 []  \n",
       "String Quartet No. 13 in B-Flat Major, Op. 130:...  [classical, classical era, early romantic era,...  \n",
       "Symphony No. 5 in C Minor, Op. 67: III. Allegro     [classical, classical era, early romantic era,...  \n",
       "Piano Concerto No. 2 in B-Flat Major, Op. 19: I...  [classical, classical era, early romantic era,...  "
      ]
     },
     "execution_count": 22,
     "metadata": {},
     "output_type": "execute_result"
    }
   ],
   "source": [
    "audio_features"
   ]
  },
  {
   "cell_type": "code",
   "execution_count": 23,
   "metadata": {},
   "outputs": [
    {
     "name": "stdout",
     "output_type": "stream",
     "text": [
      "<class 'pandas.core.frame.DataFrame'>\n",
      "Index: 49 entries, Knew You to Piano Concerto No. 2 in B-Flat Major, Op. 19: III. Rondo: Molto allegro\n",
      "Data columns (total 15 columns):\n",
      " #   Column            Non-Null Count  Dtype  \n",
      "---  ------            --------------  -----  \n",
      " 0   track_id          49 non-null     object \n",
      " 1   artist_id         49 non-null     object \n",
      " 2   danceability      49 non-null     float64\n",
      " 3   acousticness      49 non-null     float64\n",
      " 4   energy            49 non-null     float64\n",
      " 5   tempo             49 non-null     float64\n",
      " 6   instrumentalness  49 non-null     float64\n",
      " 7   loudness          49 non-null     float64\n",
      " 8   liveness          49 non-null     float64\n",
      " 9   duration_ms       49 non-null     int64  \n",
      " 10  key               49 non-null     int64  \n",
      " 11  valence           49 non-null     float64\n",
      " 12  speechiness       49 non-null     float64\n",
      " 13  mode              49 non-null     int64  \n",
      " 14  genres            49 non-null     object \n",
      "dtypes: float64(9), int64(3), object(3)\n",
      "memory usage: 6.1+ KB\n"
     ]
    }
   ],
   "source": [
    "audio_features.info()"
   ]
  },
  {
   "cell_type": "code",
   "execution_count": 24,
   "metadata": {},
   "outputs": [
    {
     "data": {
      "image/png": "[encoded data removed]",
      "text/plain": [
       "<Figure size 3240x2520 with 12 Axes>"
      ]
     },
     "metadata": {
      "image/png": {
       "height": 2511,
       "width": 3232
      },
      "needs_background": "light"
     },
     "output_type": "display_data"
    }
   ],
   "source": [
    "audio_features.hist(figsize=(45,35)) \n",
    "plt.tight_layout()\n",
    "plt.show()"
   ]
  },
  {
   "cell_type": "code",
   "execution_count": 25,
   "metadata": {},
   "outputs": [
    {
     "data": {
      "text/plain": [
       "<AxesSubplot:>"
      ]
     },
     "execution_count": 25,
     "metadata": {},
     "output_type": "execute_result"
    },
    {
     "data": {
      "image/png": "[encoded data removed]",
      "text/plain": [
       "<Figure size 432x288 with 1 Axes>"
      ]
     },
     "metadata": {
      "image/png": {
       "height": 250,
       "width": 368
      },
      "needs_background": "light"
     },
     "output_type": "display_data"
    }
   ],
   "source": [
    "audio_features['acousticness'].hist() "
   ]
  },
  {
   "cell_type": "code",
   "execution_count": 26,
   "metadata": {},
   "outputs": [
    {
     "data": {
      "text/plain": [
       "6.42e-05"
      ]
     },
     "execution_count": 26,
     "metadata": {},
     "output_type": "execute_result"
    }
   ],
   "source": [
    "audio_features['instrumentalness'].iloc[25]"
   ]
  },
  {
   "cell_type": "code",
   "execution_count": 27,
   "metadata": {},
   "outputs": [
    {
     "data": {
      "text/plain": [
       "[<matplotlib.lines.Line2D at 0x27b429c9490>]"
      ]
     },
     "execution_count": 27,
     "metadata": {},
     "output_type": "execute_result"
    },
    {
     "data": {
      "image/png": "[encoded data removed]",
      "text/plain": [
       "<Figure size 432x288 with 1 Axes>"
      ]
     },
     "metadata": {
      "image/png": {
       "height": 258,
       "width": 388
      },
      "needs_background": "light"
     },
     "output_type": "display_data"
    }
   ],
   "source": [
    "plt.plot(audio_features.head()['instrumentalness'])"
   ]
  },
  {
   "cell_type": "markdown",
   "metadata": {},
   "source": [
    "## Features to encode\n",
    "\n",
    "danceability\n",
    "acousticness\n",
    "energy\n",
    "tempo\n",
    "instrumentalness\n",
    "loudness\n",
    "liveness\n",
    "duration_ms  \n",
    "key\n",
    "valence\n",
    "speechiness\n",
    "genres"
   ]
  },
  {
   "cell_type": "code",
   "execution_count": 28,
   "metadata": {},
   "outputs": [],
   "source": [
    "from nltk.tokenize import RegexpTokenizer\n",
    "from sklearn.feature_extraction.text import TfidfVectorizer\n",
    "from scipy.sparse import hstack\n",
    "from sklearn import preprocessing"
   ]
  },
  {
   "cell_type": "code",
   "execution_count": 34,
   "metadata": {},
   "outputs": [],
   "source": [
    "df = audio_features\n",
    "#Selecting numerical variables\n",
    "nds = df.select_dtypes(include=['float64',\"int64\"])\n",
    "numerical_features = ['danceability', 'acousticness', 'energy', 'instrumentalness','liveness','valence','mode']\n",
    "\n",
    "##Features to scale\n",
    "#features_to_be_scaled=nds.drop(columns=['danceability', 'acousticness', 'energy', 'instrumentalness','liveness','valence','mode'])\n",
    "features_to_be_scaled=nds.drop(columns=numerical_features)\n",
    "\n",
    "\n",
    "#Scaling Numerical variables\n",
    "scaler = preprocessing.MinMaxScaler(feature_range=(0, 1))\n",
    "\n",
    "#Applying scaler on our data and converting i into a data frame\n",
    "ndsmx = pd.DataFrame((scaler.fit_transform(features_to_be_scaled)))\n",
    "ndsmx.columns=features_to_be_scaled.columns \n",
    "normalized_data_set=pd.concat([df[numerical_features].reset_index(drop=True),ndsmx.reset_index(drop=True)],axis=1)\n",
    "normalized_data_set.set_index(df.index)\n",
    "normalized_data_set['instrumentalness'] = np.where((normalized_data_set.instrumentalness <(10**(-3))), 0, normalized_data_set.instrumentalness)"
   ]
  },
  {
   "cell_type": "code",
   "execution_count": 35,
   "metadata": {},
   "outputs": [
    {
     "data": {
      "text/html": [
       "<div>\n",
       "<style scoped>\n",
       "    .dataframe tbody tr th:only-of-type {\n",
       "        vertical-align: middle;\n",
       "    }\n",
       "\n",
       "    .dataframe tbody tr th {\n",
       "        vertical-align: top;\n",
       "    }\n",
       "\n",
       "    .dataframe thead th {\n",
       "        text-align: right;\n",
       "    }\n",
       "</style>\n",
       "<table border=\"1\" class=\"dataframe\">\n",
       "  <thead>\n",
       "    <tr style=\"text-align: right;\">\n",
       "      <th></th>\n",
       "      <th>danceability</th>\n",
       "      <th>acousticness</th>\n",
       "      <th>energy</th>\n",
       "      <th>instrumentalness</th>\n",
       "      <th>liveness</th>\n",
       "      <th>valence</th>\n",
       "      <th>mode</th>\n",
       "      <th>tempo</th>\n",
       "      <th>loudness</th>\n",
       "      <th>duration_ms</th>\n",
       "      <th>key</th>\n",
       "      <th>speechiness</th>\n",
       "    </tr>\n",
       "  </thead>\n",
       "  <tbody>\n",
       "    <tr>\n",
       "      <th>0</th>\n",
       "      <td>0.624</td>\n",
       "      <td>0.007250</td>\n",
       "      <td>0.5620</td>\n",
       "      <td>0.00000</td>\n",
       "      <td>0.0937</td>\n",
       "      <td>0.4780</td>\n",
       "      <td>1</td>\n",
       "      <td>0.314048</td>\n",
       "      <td>0.805100</td>\n",
       "      <td>0.290673</td>\n",
       "      <td>0.000000</td>\n",
       "      <td>0.004557</td>\n",
       "    </tr>\n",
       "    <tr>\n",
       "      <th>1</th>\n",
       "      <td>0.527</td>\n",
       "      <td>0.118000</td>\n",
       "      <td>0.4610</td>\n",
       "      <td>0.00000</td>\n",
       "      <td>0.0831</td>\n",
       "      <td>0.2270</td>\n",
       "      <td>1</td>\n",
       "      <td>0.478658</td>\n",
       "      <td>0.830508</td>\n",
       "      <td>0.395721</td>\n",
       "      <td>0.636364</td>\n",
       "      <td>0.000000</td>\n",
       "    </tr>\n",
       "    <tr>\n",
       "      <th>2</th>\n",
       "      <td>0.750</td>\n",
       "      <td>0.111000</td>\n",
       "      <td>0.5480</td>\n",
       "      <td>0.00000</td>\n",
       "      <td>0.0633</td>\n",
       "      <td>0.4970</td>\n",
       "      <td>1</td>\n",
       "      <td>0.233286</td>\n",
       "      <td>0.747085</td>\n",
       "      <td>0.220578</td>\n",
       "      <td>0.181818</td>\n",
       "      <td>0.063515</td>\n",
       "    </tr>\n",
       "    <tr>\n",
       "      <th>3</th>\n",
       "      <td>0.565</td>\n",
       "      <td>0.054000</td>\n",
       "      <td>0.8060</td>\n",
       "      <td>0.00000</td>\n",
       "      <td>0.2040</td>\n",
       "      <td>0.6830</td>\n",
       "      <td>0</td>\n",
       "      <td>0.586598</td>\n",
       "      <td>0.867574</td>\n",
       "      <td>0.393142</td>\n",
       "      <td>0.818182</td>\n",
       "      <td>0.060666</td>\n",
       "    </tr>\n",
       "    <tr>\n",
       "      <th>4</th>\n",
       "      <td>0.642</td>\n",
       "      <td>0.015100</td>\n",
       "      <td>0.3920</td>\n",
       "      <td>0.00000</td>\n",
       "      <td>0.3520</td>\n",
       "      <td>0.0479</td>\n",
       "      <td>0</td>\n",
       "      <td>0.568332</td>\n",
       "      <td>0.740490</td>\n",
       "      <td>0.261802</td>\n",
       "      <td>0.363636</td>\n",
       "      <td>0.029336</td>\n",
       "    </tr>\n",
       "    <tr>\n",
       "      <th>5</th>\n",
       "      <td>0.667</td>\n",
       "      <td>0.006400</td>\n",
       "      <td>0.6790</td>\n",
       "      <td>0.00000</td>\n",
       "      <td>0.1700</td>\n",
       "      <td>0.3200</td>\n",
       "      <td>1</td>\n",
       "      <td>0.224447</td>\n",
       "      <td>0.797622</td>\n",
       "      <td>0.226175</td>\n",
       "      <td>0.000000</td>\n",
       "      <td>0.058673</td>\n",
       "    </tr>\n",
       "    <tr>\n",
       "      <th>6</th>\n",
       "      <td>0.521</td>\n",
       "      <td>0.042200</td>\n",
       "      <td>0.8830</td>\n",
       "      <td>0.00000</td>\n",
       "      <td>0.1050</td>\n",
       "      <td>0.8050</td>\n",
       "      <td>1</td>\n",
       "      <td>0.051903</td>\n",
       "      <td>0.928097</td>\n",
       "      <td>0.207749</td>\n",
       "      <td>0.090909</td>\n",
       "      <td>0.098832</td>\n",
       "    </tr>\n",
       "    <tr>\n",
       "      <th>7</th>\n",
       "      <td>0.715</td>\n",
       "      <td>0.028400</td>\n",
       "      <td>0.7960</td>\n",
       "      <td>0.00000</td>\n",
       "      <td>0.0658</td>\n",
       "      <td>0.4310</td>\n",
       "      <td>0</td>\n",
       "      <td>0.486683</td>\n",
       "      <td>0.877839</td>\n",
       "      <td>0.411307</td>\n",
       "      <td>0.363636</td>\n",
       "      <td>0.075477</td>\n",
       "    </tr>\n",
       "    <tr>\n",
       "      <th>8</th>\n",
       "      <td>0.865</td>\n",
       "      <td>0.289000</td>\n",
       "      <td>0.4980</td>\n",
       "      <td>0.00000</td>\n",
       "      <td>0.6900</td>\n",
       "      <td>0.8080</td>\n",
       "      <td>0</td>\n",
       "      <td>0.296895</td>\n",
       "      <td>0.718891</td>\n",
       "      <td>0.075761</td>\n",
       "      <td>0.636364</td>\n",
       "      <td>0.743663</td>\n",
       "    </tr>\n",
       "    <tr>\n",
       "      <th>9</th>\n",
       "      <td>0.472</td>\n",
       "      <td>0.012900</td>\n",
       "      <td>0.6710</td>\n",
       "      <td>0.00000</td>\n",
       "      <td>0.1590</td>\n",
       "      <td>0.0681</td>\n",
       "      <td>1</td>\n",
       "      <td>0.069725</td>\n",
       "      <td>0.888987</td>\n",
       "      <td>0.462364</td>\n",
       "      <td>0.363636</td>\n",
       "      <td>0.005981</td>\n",
       "    </tr>\n",
       "    <tr>\n",
       "      <th>10</th>\n",
       "      <td>0.860</td>\n",
       "      <td>0.589000</td>\n",
       "      <td>0.5000</td>\n",
       "      <td>0.00000</td>\n",
       "      <td>0.1110</td>\n",
       "      <td>0.5510</td>\n",
       "      <td>1</td>\n",
       "      <td>0.486963</td>\n",
       "      <td>0.726416</td>\n",
       "      <td>0.415354</td>\n",
       "      <td>0.909091</td>\n",
       "      <td>0.052692</td>\n",
       "    </tr>\n",
       "    <tr>\n",
       "      <th>11</th>\n",
       "      <td>0.495</td>\n",
       "      <td>0.491000</td>\n",
       "      <td>0.5500</td>\n",
       "      <td>0.00000</td>\n",
       "      <td>0.2160</td>\n",
       "      <td>0.0500</td>\n",
       "      <td>1</td>\n",
       "      <td>0.207330</td>\n",
       "      <td>0.713967</td>\n",
       "      <td>0.337618</td>\n",
       "      <td>0.181818</td>\n",
       "      <td>0.146967</td>\n",
       "    </tr>\n",
       "    <tr>\n",
       "      <th>12</th>\n",
       "      <td>0.700</td>\n",
       "      <td>0.036900</td>\n",
       "      <td>0.5980</td>\n",
       "      <td>0.00000</td>\n",
       "      <td>0.1110</td>\n",
       "      <td>0.5940</td>\n",
       "      <td>1</td>\n",
       "      <td>0.767149</td>\n",
       "      <td>0.743416</td>\n",
       "      <td>0.446615</td>\n",
       "      <td>0.181818</td>\n",
       "      <td>0.248077</td>\n",
       "    </tr>\n",
       "    <tr>\n",
       "      <th>13</th>\n",
       "      <td>0.762</td>\n",
       "      <td>0.235000</td>\n",
       "      <td>0.7010</td>\n",
       "      <td>0.00000</td>\n",
       "      <td>0.1230</td>\n",
       "      <td>0.7420</td>\n",
       "      <td>1</td>\n",
       "      <td>0.323186</td>\n",
       "      <td>0.940452</td>\n",
       "      <td>0.375658</td>\n",
       "      <td>0.727273</td>\n",
       "      <td>0.004842</td>\n",
       "    </tr>\n",
       "    <tr>\n",
       "      <th>14</th>\n",
       "      <td>0.644</td>\n",
       "      <td>0.002680</td>\n",
       "      <td>0.8660</td>\n",
       "      <td>0.00000</td>\n",
       "      <td>0.0850</td>\n",
       "      <td>0.5490</td>\n",
       "      <td>0</td>\n",
       "      <td>0.450061</td>\n",
       "      <td>0.854754</td>\n",
       "      <td>0.400924</td>\n",
       "      <td>0.454545</td>\n",
       "      <td>0.042438</td>\n",
       "    </tr>\n",
       "    <tr>\n",
       "      <th>15</th>\n",
       "      <td>0.463</td>\n",
       "      <td>0.037900</td>\n",
       "      <td>0.7600</td>\n",
       "      <td>0.00000</td>\n",
       "      <td>0.1150</td>\n",
       "      <td>0.6500</td>\n",
       "      <td>1</td>\n",
       "      <td>0.440172</td>\n",
       "      <td>0.828185</td>\n",
       "      <td>0.214368</td>\n",
       "      <td>0.181818</td>\n",
       "      <td>0.236685</td>\n",
       "    </tr>\n",
       "    <tr>\n",
       "      <th>16</th>\n",
       "      <td>0.762</td>\n",
       "      <td>0.009650</td>\n",
       "      <td>0.5520</td>\n",
       "      <td>0.00000</td>\n",
       "      <td>0.1250</td>\n",
       "      <td>0.7340</td>\n",
       "      <td>0</td>\n",
       "      <td>0.205991</td>\n",
       "      <td>0.793070</td>\n",
       "      <td>0.261596</td>\n",
       "      <td>1.000000</td>\n",
       "      <td>0.079749</td>\n",
       "    </tr>\n",
       "    <tr>\n",
       "      <th>17</th>\n",
       "      <td>0.562</td>\n",
       "      <td>0.002730</td>\n",
       "      <td>0.7030</td>\n",
       "      <td>0.00000</td>\n",
       "      <td>0.3400</td>\n",
       "      <td>0.3130</td>\n",
       "      <td>0</td>\n",
       "      <td>0.631598</td>\n",
       "      <td>0.820010</td>\n",
       "      <td>0.218274</td>\n",
       "      <td>0.181818</td>\n",
       "      <td>0.041868</td>\n",
       "    </tr>\n",
       "    <tr>\n",
       "      <th>18</th>\n",
       "      <td>0.476</td>\n",
       "      <td>0.021700</td>\n",
       "      <td>0.7360</td>\n",
       "      <td>0.00000</td>\n",
       "      <td>0.2030</td>\n",
       "      <td>0.2510</td>\n",
       "      <td>1</td>\n",
       "      <td>0.487081</td>\n",
       "      <td>0.855033</td>\n",
       "      <td>0.567619</td>\n",
       "      <td>0.181818</td>\n",
       "      <td>0.021077</td>\n",
       "    </tr>\n",
       "    <tr>\n",
       "      <th>19</th>\n",
       "      <td>0.892</td>\n",
       "      <td>0.704000</td>\n",
       "      <td>0.5070</td>\n",
       "      <td>0.00000</td>\n",
       "      <td>0.1090</td>\n",
       "      <td>0.6950</td>\n",
       "      <td>1</td>\n",
       "      <td>0.621664</td>\n",
       "      <td>0.720238</td>\n",
       "      <td>0.193501</td>\n",
       "      <td>0.000000</td>\n",
       "      <td>1.000000</td>\n",
       "    </tr>\n",
       "    <tr>\n",
       "      <th>20</th>\n",
       "      <td>0.614</td>\n",
       "      <td>0.001610</td>\n",
       "      <td>0.9370</td>\n",
       "      <td>0.00136</td>\n",
       "      <td>0.1030</td>\n",
       "      <td>0.3860</td>\n",
       "      <td>1</td>\n",
       "      <td>0.088072</td>\n",
       "      <td>0.759209</td>\n",
       "      <td>0.000000</td>\n",
       "      <td>0.090909</td>\n",
       "      <td>0.250926</td>\n",
       "    </tr>\n",
       "    <tr>\n",
       "      <th>21</th>\n",
       "      <td>0.560</td>\n",
       "      <td>0.359000</td>\n",
       "      <td>0.7380</td>\n",
       "      <td>0.00000</td>\n",
       "      <td>0.1850</td>\n",
       "      <td>0.2540</td>\n",
       "      <td>1</td>\n",
       "      <td>0.613820</td>\n",
       "      <td>0.802778</td>\n",
       "      <td>0.354587</td>\n",
       "      <td>0.000000</td>\n",
       "      <td>0.102820</td>\n",
       "    </tr>\n",
       "    <tr>\n",
       "      <th>22</th>\n",
       "      <td>0.737</td>\n",
       "      <td>0.039800</td>\n",
       "      <td>0.8670</td>\n",
       "      <td>0.00000</td>\n",
       "      <td>0.3200</td>\n",
       "      <td>0.5060</td>\n",
       "      <td>0</td>\n",
       "      <td>0.206317</td>\n",
       "      <td>1.000000</td>\n",
       "      <td>0.256125</td>\n",
       "      <td>1.000000</td>\n",
       "      <td>0.053831</td>\n",
       "    </tr>\n",
       "    <tr>\n",
       "      <th>23</th>\n",
       "      <td>0.783</td>\n",
       "      <td>0.273000</td>\n",
       "      <td>0.7590</td>\n",
       "      <td>0.08170</td>\n",
       "      <td>0.0998</td>\n",
       "      <td>0.4880</td>\n",
       "      <td>0</td>\n",
       "      <td>0.314926</td>\n",
       "      <td>0.711831</td>\n",
       "      <td>0.453209</td>\n",
       "      <td>0.909091</td>\n",
       "      <td>0.706636</td>\n",
       "    </tr>\n",
       "    <tr>\n",
       "      <th>24</th>\n",
       "      <td>0.664</td>\n",
       "      <td>0.188000</td>\n",
       "      <td>0.7380</td>\n",
       "      <td>0.00000</td>\n",
       "      <td>0.1350</td>\n",
       "      <td>0.2030</td>\n",
       "      <td>0</td>\n",
       "      <td>0.404654</td>\n",
       "      <td>0.914720</td>\n",
       "      <td>0.321659</td>\n",
       "      <td>0.818182</td>\n",
       "      <td>0.019653</td>\n",
       "    </tr>\n",
       "    <tr>\n",
       "      <th>25</th>\n",
       "      <td>0.448</td>\n",
       "      <td>0.000415</td>\n",
       "      <td>0.6610</td>\n",
       "      <td>0.00000</td>\n",
       "      <td>0.0499</td>\n",
       "      <td>0.2130</td>\n",
       "      <td>1</td>\n",
       "      <td>0.585684</td>\n",
       "      <td>0.766176</td>\n",
       "      <td>1.000000</td>\n",
       "      <td>0.545455</td>\n",
       "      <td>0.011962</td>\n",
       "    </tr>\n",
       "    <tr>\n",
       "      <th>26</th>\n",
       "      <td>0.490</td>\n",
       "      <td>0.015600</td>\n",
       "      <td>0.7900</td>\n",
       "      <td>0.00118</td>\n",
       "      <td>0.2190</td>\n",
       "      <td>0.2850</td>\n",
       "      <td>0</td>\n",
       "      <td>0.675430</td>\n",
       "      <td>0.880440</td>\n",
       "      <td>0.333633</td>\n",
       "      <td>0.454545</td>\n",
       "      <td>0.122472</td>\n",
       "    </tr>\n",
       "    <tr>\n",
       "      <th>27</th>\n",
       "      <td>0.683</td>\n",
       "      <td>0.385000</td>\n",
       "      <td>0.5940</td>\n",
       "      <td>0.00000</td>\n",
       "      <td>0.1210</td>\n",
       "      <td>0.7340</td>\n",
       "      <td>1</td>\n",
       "      <td>0.360559</td>\n",
       "      <td>0.719913</td>\n",
       "      <td>0.526126</td>\n",
       "      <td>0.181818</td>\n",
       "      <td>0.022216</td>\n",
       "    </tr>\n",
       "    <tr>\n",
       "      <th>28</th>\n",
       "      <td>0.537</td>\n",
       "      <td>0.142000</td>\n",
       "      <td>0.7000</td>\n",
       "      <td>0.00000</td>\n",
       "      <td>0.3830</td>\n",
       "      <td>0.6950</td>\n",
       "      <td>0</td>\n",
       "      <td>0.378761</td>\n",
       "      <td>0.786660</td>\n",
       "      <td>0.394352</td>\n",
       "      <td>0.363636</td>\n",
       "      <td>0.027627</td>\n",
       "    </tr>\n",
       "    <tr>\n",
       "      <th>29</th>\n",
       "      <td>0.611</td>\n",
       "      <td>0.084600</td>\n",
       "      <td>0.8830</td>\n",
       "      <td>0.00000</td>\n",
       "      <td>0.1920</td>\n",
       "      <td>0.6040</td>\n",
       "      <td>1</td>\n",
       "      <td>0.386153</td>\n",
       "      <td>0.583538</td>\n",
       "      <td>0.513084</td>\n",
       "      <td>0.818182</td>\n",
       "      <td>0.076901</td>\n",
       "    </tr>\n",
       "    <tr>\n",
       "      <th>30</th>\n",
       "      <td>0.518</td>\n",
       "      <td>0.050300</td>\n",
       "      <td>0.5720</td>\n",
       "      <td>0.00000</td>\n",
       "      <td>0.1290</td>\n",
       "      <td>0.2910</td>\n",
       "      <td>0</td>\n",
       "      <td>0.495847</td>\n",
       "      <td>0.793441</td>\n",
       "      <td>0.331821</td>\n",
       "      <td>0.909091</td>\n",
       "      <td>0.041868</td>\n",
       "    </tr>\n",
       "    <tr>\n",
       "      <th>31</th>\n",
       "      <td>0.911</td>\n",
       "      <td>0.018600</td>\n",
       "      <td>0.5130</td>\n",
       "      <td>0.00000</td>\n",
       "      <td>0.1090</td>\n",
       "      <td>0.1560</td>\n",
       "      <td>0</td>\n",
       "      <td>0.260128</td>\n",
       "      <td>0.874170</td>\n",
       "      <td>0.143538</td>\n",
       "      <td>0.727273</td>\n",
       "      <td>0.353461</td>\n",
       "    </tr>\n",
       "    <tr>\n",
       "      <th>32</th>\n",
       "      <td>0.622</td>\n",
       "      <td>0.682000</td>\n",
       "      <td>0.5910</td>\n",
       "      <td>0.00000</td>\n",
       "      <td>0.2130</td>\n",
       "      <td>0.5820</td>\n",
       "      <td>1</td>\n",
       "      <td>0.024590</td>\n",
       "      <td>0.780575</td>\n",
       "      <td>0.516652</td>\n",
       "      <td>0.454545</td>\n",
       "      <td>0.097693</td>\n",
       "    </tr>\n",
       "    <tr>\n",
       "      <th>33</th>\n",
       "      <td>0.681</td>\n",
       "      <td>0.383000</td>\n",
       "      <td>0.7590</td>\n",
       "      <td>0.00000</td>\n",
       "      <td>0.0974</td>\n",
       "      <td>0.6140</td>\n",
       "      <td>1</td>\n",
       "      <td>0.206208</td>\n",
       "      <td>0.844721</td>\n",
       "      <td>0.153359</td>\n",
       "      <td>0.000000</td>\n",
       "      <td>0.203076</td>\n",
       "    </tr>\n",
       "    <tr>\n",
       "      <th>34</th>\n",
       "      <td>0.610</td>\n",
       "      <td>0.380000</td>\n",
       "      <td>0.7220</td>\n",
       "      <td>0.00000</td>\n",
       "      <td>0.4820</td>\n",
       "      <td>0.4230</td>\n",
       "      <td>1</td>\n",
       "      <td>1.000000</td>\n",
       "      <td>0.960379</td>\n",
       "      <td>0.318417</td>\n",
       "      <td>0.181818</td>\n",
       "      <td>0.558530</td>\n",
       "    </tr>\n",
       "    <tr>\n",
       "      <th>35</th>\n",
       "      <td>0.816</td>\n",
       "      <td>0.160000</td>\n",
       "      <td>0.7750</td>\n",
       "      <td>0.00000</td>\n",
       "      <td>0.0543</td>\n",
       "      <td>0.5270</td>\n",
       "      <td>1</td>\n",
       "      <td>0.164529</td>\n",
       "      <td>0.950578</td>\n",
       "      <td>0.599261</td>\n",
       "      <td>1.000000</td>\n",
       "      <td>0.589860</td>\n",
       "    </tr>\n",
       "    <tr>\n",
       "      <th>36</th>\n",
       "      <td>0.653</td>\n",
       "      <td>0.066500</td>\n",
       "      <td>0.9140</td>\n",
       "      <td>0.00000</td>\n",
       "      <td>0.0952</td>\n",
       "      <td>0.7320</td>\n",
       "      <td>1</td>\n",
       "      <td>0.155717</td>\n",
       "      <td>0.690278</td>\n",
       "      <td>0.297723</td>\n",
       "      <td>0.090909</td>\n",
       "      <td>0.216747</td>\n",
       "    </tr>\n",
       "    <tr>\n",
       "      <th>37</th>\n",
       "      <td>0.671</td>\n",
       "      <td>0.422000</td>\n",
       "      <td>0.7110</td>\n",
       "      <td>0.00000</td>\n",
       "      <td>0.1040</td>\n",
       "      <td>0.4660</td>\n",
       "      <td>1</td>\n",
       "      <td>0.348888</td>\n",
       "      <td>0.742022</td>\n",
       "      <td>0.519025</td>\n",
       "      <td>0.181818</td>\n",
       "      <td>0.059527</td>\n",
       "    </tr>\n",
       "    <tr>\n",
       "      <th>38</th>\n",
       "      <td>0.476</td>\n",
       "      <td>0.218000</td>\n",
       "      <td>0.3900</td>\n",
       "      <td>0.00000</td>\n",
       "      <td>0.1550</td>\n",
       "      <td>0.1670</td>\n",
       "      <td>0</td>\n",
       "      <td>0.414063</td>\n",
       "      <td>0.673742</td>\n",
       "      <td>0.739998</td>\n",
       "      <td>0.545455</td>\n",
       "      <td>0.070920</td>\n",
       "    </tr>\n",
       "    <tr>\n",
       "      <th>39</th>\n",
       "      <td>0.699</td>\n",
       "      <td>0.061600</td>\n",
       "      <td>0.5530</td>\n",
       "      <td>0.00000</td>\n",
       "      <td>0.1150</td>\n",
       "      <td>0.4620</td>\n",
       "      <td>0</td>\n",
       "      <td>0.477202</td>\n",
       "      <td>0.750615</td>\n",
       "      <td>0.232193</td>\n",
       "      <td>0.818182</td>\n",
       "      <td>0.110510</td>\n",
       "    </tr>\n",
       "    <tr>\n",
       "      <th>40</th>\n",
       "      <td>0.420</td>\n",
       "      <td>0.431000</td>\n",
       "      <td>0.6330</td>\n",
       "      <td>0.00000</td>\n",
       "      <td>0.1010</td>\n",
       "      <td>0.1950</td>\n",
       "      <td>0</td>\n",
       "      <td>0.077524</td>\n",
       "      <td>0.759627</td>\n",
       "      <td>0.139100</td>\n",
       "      <td>0.272727</td>\n",
       "      <td>0.026488</td>\n",
       "    </tr>\n",
       "    <tr>\n",
       "      <th>41</th>\n",
       "      <td>0.413</td>\n",
       "      <td>0.273000</td>\n",
       "      <td>0.6400</td>\n",
       "      <td>0.00000</td>\n",
       "      <td>0.1100</td>\n",
       "      <td>0.1490</td>\n",
       "      <td>1</td>\n",
       "      <td>0.000000</td>\n",
       "      <td>0.835013</td>\n",
       "      <td>0.502911</td>\n",
       "      <td>0.727273</td>\n",
       "      <td>0.045001</td>\n",
       "    </tr>\n",
       "    <tr>\n",
       "      <th>42</th>\n",
       "      <td>0.731</td>\n",
       "      <td>0.338000</td>\n",
       "      <td>0.6200</td>\n",
       "      <td>0.00000</td>\n",
       "      <td>0.1110</td>\n",
       "      <td>0.5120</td>\n",
       "      <td>1</td>\n",
       "      <td>0.156015</td>\n",
       "      <td>0.810720</td>\n",
       "      <td>0.344161</td>\n",
       "      <td>0.000000</td>\n",
       "      <td>0.066648</td>\n",
       "    </tr>\n",
       "    <tr>\n",
       "      <th>43</th>\n",
       "      <td>0.619</td>\n",
       "      <td>0.224000</td>\n",
       "      <td>0.7100</td>\n",
       "      <td>0.00000</td>\n",
       "      <td>0.2180</td>\n",
       "      <td>0.3130</td>\n",
       "      <td>0</td>\n",
       "      <td>0.858324</td>\n",
       "      <td>0.749083</td>\n",
       "      <td>0.167108</td>\n",
       "      <td>0.363636</td>\n",
       "      <td>0.118770</td>\n",
       "    </tr>\n",
       "    <tr>\n",
       "      <th>44</th>\n",
       "      <td>0.711</td>\n",
       "      <td>0.039600</td>\n",
       "      <td>0.6050</td>\n",
       "      <td>0.00000</td>\n",
       "      <td>0.1040</td>\n",
       "      <td>0.8070</td>\n",
       "      <td>0</td>\n",
       "      <td>0.594713</td>\n",
       "      <td>0.649682</td>\n",
       "      <td>0.731231</td>\n",
       "      <td>0.545455</td>\n",
       "      <td>0.011678</td>\n",
       "    </tr>\n",
       "    <tr>\n",
       "      <th>45</th>\n",
       "      <td>0.821</td>\n",
       "      <td>0.031000</td>\n",
       "      <td>0.5070</td>\n",
       "      <td>0.00000</td>\n",
       "      <td>0.0969</td>\n",
       "      <td>0.5470</td>\n",
       "      <td>0</td>\n",
       "      <td>0.566369</td>\n",
       "      <td>0.744716</td>\n",
       "      <td>0.073370</td>\n",
       "      <td>1.000000</td>\n",
       "      <td>0.230988</td>\n",
       "    </tr>\n",
       "    <tr>\n",
       "      <th>46</th>\n",
       "      <td>0.367</td>\n",
       "      <td>0.913000</td>\n",
       "      <td>0.0814</td>\n",
       "      <td>0.93100</td>\n",
       "      <td>0.1050</td>\n",
       "      <td>0.6200</td>\n",
       "      <td>0</td>\n",
       "      <td>0.781072</td>\n",
       "      <td>0.000000</td>\n",
       "      <td>0.067374</td>\n",
       "      <td>0.909091</td>\n",
       "      <td>0.048419</td>\n",
       "    </tr>\n",
       "    <tr>\n",
       "      <th>47</th>\n",
       "      <td>0.279</td>\n",
       "      <td>0.935000</td>\n",
       "      <td>0.0837</td>\n",
       "      <td>0.52100</td>\n",
       "      <td>0.2500</td>\n",
       "      <td>0.1970</td>\n",
       "      <td>1</td>\n",
       "      <td>0.056643</td>\n",
       "      <td>0.156394</td>\n",
       "      <td>0.740118</td>\n",
       "      <td>0.090909</td>\n",
       "      <td>0.049274</td>\n",
       "    </tr>\n",
       "    <tr>\n",
       "      <th>48</th>\n",
       "      <td>0.354</td>\n",
       "      <td>0.991000</td>\n",
       "      <td>0.1480</td>\n",
       "      <td>0.92500</td>\n",
       "      <td>0.0984</td>\n",
       "      <td>0.3560</td>\n",
       "      <td>1</td>\n",
       "      <td>0.902492</td>\n",
       "      <td>0.126016</td>\n",
       "      <td>0.934060</td>\n",
       "      <td>0.909091</td>\n",
       "      <td>0.048704</td>\n",
       "    </tr>\n",
       "  </tbody>\n",
       "</table>\n",
       "</div>"
      ],
      "text/plain": [
       "    danceability  acousticness  energy  instrumentalness  liveness  valence  \\\n",
       "0          0.624      0.007250  0.5620           0.00000    0.0937   0.4780   \n",
       "1          0.527      0.118000  0.4610           0.00000    0.0831   0.2270   \n",
       "2          0.750      0.111000  0.5480           0.00000    0.0633   0.4970   \n",
       "3          0.565      0.054000  0.8060           0.00000    0.2040   0.6830   \n",
       "4          0.642      0.015100  0.3920           0.00000    0.3520   0.0479   \n",
       "5          0.667      0.006400  0.6790           0.00000    0.1700   0.3200   \n",
       "6          0.521      0.042200  0.8830           0.00000    0.1050   0.8050   \n",
       "7          0.715      0.028400  0.7960           0.00000    0.0658   0.4310   \n",
       "8          0.865      0.289000  0.4980           0.00000    0.6900   0.8080   \n",
       "9          0.472      0.012900  0.6710           0.00000    0.1590   0.0681   \n",
       "10         0.860      0.589000  0.5000           0.00000    0.1110   0.5510   \n",
       "11         0.495      0.491000  0.5500           0.00000    0.2160   0.0500   \n",
       "12         0.700      0.036900  0.5980           0.00000    0.1110   0.5940   \n",
       "13         0.762      0.235000  0.7010           0.00000    0.1230   0.7420   \n",
       "14         0.644      0.002680  0.8660           0.00000    0.0850   0.5490   \n",
       "15         0.463      0.037900  0.7600           0.00000    0.1150   0.6500   \n",
       "16         0.762      0.009650  0.5520           0.00000    0.1250   0.7340   \n",
       "17         0.562      0.002730  0.7030           0.00000    0.3400   0.3130   \n",
       "18         0.476      0.021700  0.7360           0.00000    0.2030   0.2510   \n",
       "19         0.892      0.704000  0.5070           0.00000    0.1090   0.6950   \n",
       "20         0.614      0.001610  0.9370           0.00136    0.1030   0.3860   \n",
       "21         0.560      0.359000  0.7380           0.00000    0.1850   0.2540   \n",
       "22         0.737      0.039800  0.8670           0.00000    0.3200   0.5060   \n",
       "23         0.783      0.273000  0.7590           0.08170    0.0998   0.4880   \n",
       "24         0.664      0.188000  0.7380           0.00000    0.1350   0.2030   \n",
       "25         0.448      0.000415  0.6610           0.00000    0.0499   0.2130   \n",
       "26         0.490      0.015600  0.7900           0.00118    0.2190   0.2850   \n",
       "27         0.683      0.385000  0.5940           0.00000    0.1210   0.7340   \n",
       "28         0.537      0.142000  0.7000           0.00000    0.3830   0.6950   \n",
       "29         0.611      0.084600  0.8830           0.00000    0.1920   0.6040   \n",
       "30         0.518      0.050300  0.5720           0.00000    0.1290   0.2910   \n",
       "31         0.911      0.018600  0.5130           0.00000    0.1090   0.1560   \n",
       "32         0.622      0.682000  0.5910           0.00000    0.2130   0.5820   \n",
       "33         0.681      0.383000  0.7590           0.00000    0.0974   0.6140   \n",
       "34         0.610      0.380000  0.7220           0.00000    0.4820   0.4230   \n",
       "35         0.816      0.160000  0.7750           0.00000    0.0543   0.5270   \n",
       "36         0.653      0.066500  0.9140           0.00000    0.0952   0.7320   \n",
       "37         0.671      0.422000  0.7110           0.00000    0.1040   0.4660   \n",
       "38         0.476      0.218000  0.3900           0.00000    0.1550   0.1670   \n",
       "39         0.699      0.061600  0.5530           0.00000    0.1150   0.4620   \n",
       "40         0.420      0.431000  0.6330           0.00000    0.1010   0.1950   \n",
       "41         0.413      0.273000  0.6400           0.00000    0.1100   0.1490   \n",
       "42         0.731      0.338000  0.6200           0.00000    0.1110   0.5120   \n",
       "43         0.619      0.224000  0.7100           0.00000    0.2180   0.3130   \n",
       "44         0.711      0.039600  0.6050           0.00000    0.1040   0.8070   \n",
       "45         0.821      0.031000  0.5070           0.00000    0.0969   0.5470   \n",
       "46         0.367      0.913000  0.0814           0.93100    0.1050   0.6200   \n",
       "47         0.279      0.935000  0.0837           0.52100    0.2500   0.1970   \n",
       "48         0.354      0.991000  0.1480           0.92500    0.0984   0.3560   \n",
       "\n",
       "    mode     tempo  loudness  duration_ms       key  speechiness  \n",
       "0      1  0.314048  0.805100     0.290673  0.000000     0.004557  \n",
       "1      1  0.478658  0.830508     0.395721  0.636364     0.000000  \n",
       "2      1  0.233286  0.747085     0.220578  0.181818     0.063515  \n",
       "3      0  0.586598  0.867574     0.393142  0.818182     0.060666  \n",
       "4      0  0.568332  0.740490     0.261802  0.363636     0.029336  \n",
       "5      1  0.224447  0.797622     0.226175  0.000000     0.058673  \n",
       "6      1  0.051903  0.928097     0.207749  0.090909     0.098832  \n",
       "7      0  0.486683  0.877839     0.411307  0.363636     0.075477  \n",
       "8      0  0.296895  0.718891     0.075761  0.636364     0.743663  \n",
       "9      1  0.069725  0.888987     0.462364  0.363636     0.005981  \n",
       "10     1  0.486963  0.726416     0.415354  0.909091     0.052692  \n",
       "11     1  0.207330  0.713967     0.337618  0.181818     0.146967  \n",
       "12     1  0.767149  0.743416     0.446615  0.181818     0.248077  \n",
       "13     1  0.323186  0.940452     0.375658  0.727273     0.004842  \n",
       "14     0  0.450061  0.854754     0.400924  0.454545     0.042438  \n",
       "15     1  0.440172  0.828185     0.214368  0.181818     0.236685  \n",
       "16     0  0.205991  0.793070     0.261596  1.000000     0.079749  \n",
       "17     0  0.631598  0.820010     0.218274  0.181818     0.041868  \n",
       "18     1  0.487081  0.855033     0.567619  0.181818     0.021077  \n",
       "19     1  0.621664  0.720238     0.193501  0.000000     1.000000  \n",
       "20     1  0.088072  0.759209     0.000000  0.090909     0.250926  \n",
       "21     1  0.613820  0.802778     0.354587  0.000000     0.102820  \n",
       "22     0  0.206317  1.000000     0.256125  1.000000     0.053831  \n",
       "23     0  0.314926  0.711831     0.453209  0.909091     0.706636  \n",
       "24     0  0.404654  0.914720     0.321659  0.818182     0.019653  \n",
       "25     1  0.585684  0.766176     1.000000  0.545455     0.011962  \n",
       "26     0  0.675430  0.880440     0.333633  0.454545     0.122472  \n",
       "27     1  0.360559  0.719913     0.526126  0.181818     0.022216  \n",
       "28     0  0.378761  0.786660     0.394352  0.363636     0.027627  \n",
       "29     1  0.386153  0.583538     0.513084  0.818182     0.076901  \n",
       "30     0  0.495847  0.793441     0.331821  0.909091     0.041868  \n",
       "31     0  0.260128  0.874170     0.143538  0.727273     0.353461  \n",
       "32     1  0.024590  0.780575     0.516652  0.454545     0.097693  \n",
       "33     1  0.206208  0.844721     0.153359  0.000000     0.203076  \n",
       "34     1  1.000000  0.960379     0.318417  0.181818     0.558530  \n",
       "35     1  0.164529  0.950578     0.599261  1.000000     0.589860  \n",
       "36     1  0.155717  0.690278     0.297723  0.090909     0.216747  \n",
       "37     1  0.348888  0.742022     0.519025  0.181818     0.059527  \n",
       "38     0  0.414063  0.673742     0.739998  0.545455     0.070920  \n",
       "39     0  0.477202  0.750615     0.232193  0.818182     0.110510  \n",
       "40     0  0.077524  0.759627     0.139100  0.272727     0.026488  \n",
       "41     1  0.000000  0.835013     0.502911  0.727273     0.045001  \n",
       "42     1  0.156015  0.810720     0.344161  0.000000     0.066648  \n",
       "43     0  0.858324  0.749083     0.167108  0.363636     0.118770  \n",
       "44     0  0.594713  0.649682     0.731231  0.545455     0.011678  \n",
       "45     0  0.566369  0.744716     0.073370  1.000000     0.230988  \n",
       "46     0  0.781072  0.000000     0.067374  0.909091     0.048419  \n",
       "47     1  0.056643  0.156394     0.740118  0.090909     0.049274  \n",
       "48     1  0.902492  0.126016     0.934060  0.909091     0.048704  "
      ]
     },
     "execution_count": 35,
     "metadata": {},
     "output_type": "execute_result"
    }
   ],
   "source": [
    "normalized_data_set"
   ]
  },
  {
   "cell_type": "code",
   "execution_count": 520,
   "metadata": {},
   "outputs": [
    {
     "name": "stdout",
     "output_type": "stream",
     "text": [
      "<bound method NDFrame.head of                         danceability  acousticness  energy  instrumentalness  \\\n",
      "track_id                                                                       \n",
      "7my1wrfnHqssb3mtHEPWrI         0.652      0.029100   0.715           0.00000   \n",
      "1LKaiZTkocUx2oAKfm4Jk0         0.673      0.492000   0.367           0.00000   \n",
      "3TCauNPqFiniaYHBvEVoHG         0.456      0.578000   0.573           0.00000   \n",
      "1HR2CTi0ytRJIcik1QKdOa         0.727      0.251000   0.696           0.00000   \n",
      "4OafepJy2teCjYJbvFE60J         0.568      0.021100   0.656           0.00000   \n",
      "...                              ...           ...     ...               ...   \n",
      "0L7zm6afBEtrNKo6C6Gj08         0.679      0.003760   0.866           0.00000   \n",
      "5LyRtsQLhcXmy50VXhQXXS         0.262      0.006550   0.988           0.89700   \n",
      "6fybp4N6eW3bsFAvARxyVe         0.342      0.000999   0.862           0.86200   \n",
      "1brpdmqkx3kSxyqzqXfW7J         0.309      0.015800   0.649           0.00591   \n",
      "5ZOOjqoCaUydmo8bxSdosj         0.663      0.002120   0.720           0.00000   \n",
      "\n",
      "                        liveness  valence  duration  popularity     tempo  \\\n",
      "track_id                                                                    \n",
      "7my1wrfnHqssb3mtHEPWrI    0.1560   0.6180  0.115695    0.072917  0.295924   \n",
      "1LKaiZTkocUx2oAKfm4Jk0    0.3680   0.4810  0.130165    0.447917  0.596600   \n",
      "3TCauNPqFiniaYHBvEVoHG    0.1140   0.0992  0.149844    0.770833  0.170132   \n",
      "1HR2CTi0ytRJIcik1QKdOa    0.0726   0.4670  0.260691    0.770833  0.492750   \n",
      "4OafepJy2teCjYJbvFE60J    0.2130   0.3640  0.120814    0.791667  0.307862   \n",
      "...                          ...      ...       ...         ...       ...   \n",
      "0L7zm6afBEtrNKo6C6Gj08    0.3120   0.7850  0.241290    0.708333  0.447994   \n",
      "5LyRtsQLhcXmy50VXhQXXS    0.1320   0.2270  0.260529    0.718750  0.257467   \n",
      "6fybp4N6eW3bsFAvARxyVe    0.3610   0.5910  0.142112    0.729167  0.573902   \n",
      "1brpdmqkx3kSxyqzqXfW7J    0.3670   0.3120  0.123142    0.729167  0.693858   \n",
      "5ZOOjqoCaUydmo8bxSdosj    0.3580   0.6080  0.187007    0.572917  0.511597   \n",
      "\n",
      "                        loudness  speechiness                    user_id  \n",
      "track_id                                                                  \n",
      "7my1wrfnHqssb3mtHEPWrI  0.792864     0.017395                  sanjsarda  \n",
      "1LKaiZTkocUx2oAKfm4Jk0  0.632300     0.222792                  sanjsarda  \n",
      "3TCauNPqFiniaYHBvEVoHG  0.849473     0.004795                  sanjsarda  \n",
      "1HR2CTi0ytRJIcik1QKdOa  0.832763     0.052855                  sanjsarda  \n",
      "4OafepJy2teCjYJbvFE60J  0.806816     0.022413                  sanjsarda  \n",
      "...                          ...          ...                        ...  \n",
      "0L7zm6afBEtrNKo6C6Gj08  0.789169     0.044938  5bc0pbn945ysud6gky5r0uic9  \n",
      "5LyRtsQLhcXmy50VXhQXXS  0.820355     0.256244  5bc0pbn945ysud6gky5r0uic9  \n",
      "6fybp4N6eW3bsFAvARxyVe  0.584818     0.014273  5bc0pbn945ysud6gky5r0uic9  \n",
      "1brpdmqkx3kSxyqzqXfW7J  0.708074     0.013158  5bc0pbn945ysud6gky5r0uic9  \n",
      "5ZOOjqoCaUydmo8bxSdosj  0.804500     0.011039  5bc0pbn945ysud6gky5r0uic9  \n",
      "\n",
      "[5184 rows x 12 columns]>\n"
     ]
    },
    {
     "data": {
      "image/png": "[encoded data removed]",
      "text/plain": [
       "<Figure size 720x576 with 1 Axes>"
      ]
     },
     "metadata": {
      "image/png": {
       "height": 494,
       "width": 618
      },
      "needs_background": "light"
     },
     "output_type": "display_data"
    }
   ],
   "source": [
    "df1 = pd.read_csv('test.csv', index_col=0)\n",
    "df1 = df1.drop_duplicates()\n",
    "df1 = df1.dropna()\n",
    "print (df1.head)\n",
    "df = df1.iloc[: , :-1]\n",
    "#df = normalized_data_set\n",
    "plt.figure(figsize=(10, 8))\n",
    "from sklearn.cluster import KMeans\n",
    "wcss = []\n",
    "for i in range(1, 11):\n",
    "    kmeans = KMeans(n_clusters = i, init = 'k-means++', random_state = 42)\n",
    "    kmeans.fit(df)\n",
    "    wcss.append(kmeans.inertia_)\n",
    "plt.plot(range(1, 11), wcss)\n",
    "plt.title('The Elbow Method')\n",
    "plt.xlabel('Number of clusters')\n",
    "plt.ylabel('WCSS')\n",
    "plt.show()"
   ]
  },
  {
   "cell_type": "code",
   "execution_count": 521,
   "metadata": {},
   "outputs": [
    {
     "data": {
      "image/png": "[encoded data removed]",
      "text/plain": [
       "<Figure size 432x288 with 1 Axes>"
      ]
     },
     "metadata": {
      "image/png": {
       "height": 277,
       "width": 391
      },
      "needs_background": "light"
     },
     "output_type": "display_data"
    }
   ],
   "source": [
    "from sklearn.metrics import silhouette_score\n",
    "silhouette_avg = []\n",
    "for num_clusters in range(2, 11):\n",
    " \n",
    " # initialise kmeans\n",
    "    kmeans = KMeans(n_clusters=num_clusters)\n",
    "    kmeans.fit(df)\n",
    "    cluster_labels = kmeans.labels_\n",
    " \n",
    " # silhouette score\n",
    "    silhouette_avg.append(silhouette_score(df, cluster_labels))\n",
    "n_clusters = np.argmax(silhouette_avg)+2\n",
    "plt.plot(range(2, 11),silhouette_avg,'bx-')\n",
    "plt.xlabel('Values of K') \n",
    "plt.ylabel('Silhouette score') \n",
    "plt.title('Silhouette analysis For Optimal k')\n",
    "plt.show()"
   ]
  },
  {
   "cell_type": "code",
   "execution_count": 522,
   "metadata": {},
   "outputs": [
    {
     "data": {
      "text/html": [
       "<div>\n",
       "<style scoped>\n",
       "    .dataframe tbody tr th:only-of-type {\n",
       "        vertical-align: middle;\n",
       "    }\n",
       "\n",
       "    .dataframe tbody tr th {\n",
       "        vertical-align: top;\n",
       "    }\n",
       "\n",
       "    .dataframe thead th {\n",
       "        text-align: right;\n",
       "    }\n",
       "</style>\n",
       "<table border=\"1\" class=\"dataframe\">\n",
       "  <thead>\n",
       "    <tr style=\"text-align: right;\">\n",
       "      <th></th>\n",
       "      <th>danceability</th>\n",
       "      <th>acousticness</th>\n",
       "      <th>energy</th>\n",
       "      <th>instrumentalness</th>\n",
       "      <th>liveness</th>\n",
       "      <th>valence</th>\n",
       "      <th>duration</th>\n",
       "      <th>popularity</th>\n",
       "      <th>tempo</th>\n",
       "      <th>loudness</th>\n",
       "      <th>speechiness</th>\n",
       "    </tr>\n",
       "    <tr>\n",
       "      <th>cluster</th>\n",
       "      <th></th>\n",
       "      <th></th>\n",
       "      <th></th>\n",
       "      <th></th>\n",
       "      <th></th>\n",
       "      <th></th>\n",
       "      <th></th>\n",
       "      <th></th>\n",
       "      <th></th>\n",
       "      <th></th>\n",
       "      <th></th>\n",
       "    </tr>\n",
       "  </thead>\n",
       "  <tbody>\n",
       "    <tr>\n",
       "      <th>1</th>\n",
       "      <td>0.5</td>\n",
       "      <td>0.6</td>\n",
       "      <td>0.4</td>\n",
       "      <td>0.1</td>\n",
       "      <td>0.2</td>\n",
       "      <td>0.4</td>\n",
       "      <td>0.1</td>\n",
       "      <td>0.4</td>\n",
       "      <td>0.4</td>\n",
       "      <td>0.7</td>\n",
       "      <td>0.0</td>\n",
       "    </tr>\n",
       "    <tr>\n",
       "      <th>2</th>\n",
       "      <td>0.6</td>\n",
       "      <td>0.1</td>\n",
       "      <td>0.8</td>\n",
       "      <td>0.0</td>\n",
       "      <td>0.2</td>\n",
       "      <td>0.5</td>\n",
       "      <td>0.2</td>\n",
       "      <td>0.5</td>\n",
       "      <td>0.4</td>\n",
       "      <td>0.8</td>\n",
       "      <td>0.1</td>\n",
       "    </tr>\n",
       "  </tbody>\n",
       "</table>\n",
       "</div>"
      ],
      "text/plain": [
       "         danceability  acousticness  energy  instrumentalness  liveness  \\\n",
       "cluster                                                                   \n",
       "1                 0.5           0.6     0.4               0.1       0.2   \n",
       "2                 0.6           0.1     0.8               0.0       0.2   \n",
       "\n",
       "         valence  duration  popularity  tempo  loudness  speechiness  \n",
       "cluster                                                               \n",
       "1            0.4       0.1         0.4    0.4       0.7          0.0  \n",
       "2            0.5       0.2         0.5    0.4       0.8          0.1  "
      ]
     },
     "execution_count": 522,
     "metadata": {},
     "output_type": "execute_result"
    }
   ],
   "source": [
    "# Fitting K-Means to the dataset\n",
    "kmeans = KMeans(n_clusters = n_clusters, init = 'k-means++', random_state = 42)\n",
    "y_kmeans = kmeans.fit_predict(df)\n",
    "#beginning of  the cluster numbering with 1 instead of 0\n",
    "y_kmeans1=y_kmeans+1\n",
    "# New Dataframe called cluster\n",
    "#cluster = pd.DataFrame(y_kmeans1)\n",
    "# Adding cluster to the Dataset1\n",
    "df['cluster'] = y_kmeans1\n",
    "#Mean of clusters\n",
    "kmeans_mean_cluster = pd.DataFrame(round(df.groupby('cluster').mean(),1))\n",
    "kmeans_mean_cluster"
   ]
  },
  {
   "cell_type": "code",
   "execution_count": 523,
   "metadata": {
    "scrolled": true
   },
   "outputs": [
    {
     "name": "stdout",
     "output_type": "stream",
     "text": [
      "<bound method NDFrame.head of                         danceability  acousticness  energy  instrumentalness  \\\n",
      "track_id                                                                       \n",
      "7my1wrfnHqssb3mtHEPWrI         0.652      0.029100   0.715           0.00000   \n",
      "1LKaiZTkocUx2oAKfm4Jk0         0.673      0.492000   0.367           0.00000   \n",
      "3TCauNPqFiniaYHBvEVoHG         0.456      0.578000   0.573           0.00000   \n",
      "1HR2CTi0ytRJIcik1QKdOa         0.727      0.251000   0.696           0.00000   \n",
      "4OafepJy2teCjYJbvFE60J         0.568      0.021100   0.656           0.00000   \n",
      "...                              ...           ...     ...               ...   \n",
      "0L7zm6afBEtrNKo6C6Gj08         0.679      0.003760   0.866           0.00000   \n",
      "5LyRtsQLhcXmy50VXhQXXS         0.262      0.006550   0.988           0.89700   \n",
      "6fybp4N6eW3bsFAvARxyVe         0.342      0.000999   0.862           0.86200   \n",
      "1brpdmqkx3kSxyqzqXfW7J         0.309      0.015800   0.649           0.00591   \n",
      "5ZOOjqoCaUydmo8bxSdosj         0.663      0.002120   0.720           0.00000   \n",
      "\n",
      "                        liveness  valence  duration  popularity     tempo  \\\n",
      "track_id                                                                    \n",
      "7my1wrfnHqssb3mtHEPWrI    0.1560   0.6180  0.115695    0.072917  0.295924   \n",
      "1LKaiZTkocUx2oAKfm4Jk0    0.3680   0.4810  0.130165    0.447917  0.596600   \n",
      "3TCauNPqFiniaYHBvEVoHG    0.1140   0.0992  0.149844    0.770833  0.170132   \n",
      "1HR2CTi0ytRJIcik1QKdOa    0.0726   0.4670  0.260691    0.770833  0.492750   \n",
      "4OafepJy2teCjYJbvFE60J    0.2130   0.3640  0.120814    0.791667  0.307862   \n",
      "...                          ...      ...       ...         ...       ...   \n",
      "0L7zm6afBEtrNKo6C6Gj08    0.3120   0.7850  0.241290    0.708333  0.447994   \n",
      "5LyRtsQLhcXmy50VXhQXXS    0.1320   0.2270  0.260529    0.718750  0.257467   \n",
      "6fybp4N6eW3bsFAvARxyVe    0.3610   0.5910  0.142112    0.729167  0.573902   \n",
      "1brpdmqkx3kSxyqzqXfW7J    0.3670   0.3120  0.123142    0.729167  0.693858   \n",
      "5ZOOjqoCaUydmo8bxSdosj    0.3580   0.6080  0.187007    0.572917  0.511597   \n",
      "\n",
      "                        loudness  speechiness  cluster  \n",
      "track_id                                                \n",
      "7my1wrfnHqssb3mtHEPWrI  0.792864     0.017395        2  \n",
      "1LKaiZTkocUx2oAKfm4Jk0  0.632300     0.222792        1  \n",
      "3TCauNPqFiniaYHBvEVoHG  0.849473     0.004795        1  \n",
      "1HR2CTi0ytRJIcik1QKdOa  0.832763     0.052855        2  \n",
      "4OafepJy2teCjYJbvFE60J  0.806816     0.022413        2  \n",
      "...                          ...          ...      ...  \n",
      "0L7zm6afBEtrNKo6C6Gj08  0.789169     0.044938        2  \n",
      "5LyRtsQLhcXmy50VXhQXXS  0.820355     0.256244        2  \n",
      "6fybp4N6eW3bsFAvARxyVe  0.584818     0.014273        2  \n",
      "1brpdmqkx3kSxyqzqXfW7J  0.708074     0.013158        2  \n",
      "5ZOOjqoCaUydmo8bxSdosj  0.804500     0.011039        2  \n",
      "\n",
      "[5184 rows x 12 columns]>\n"
     ]
    }
   ],
   "source": [
    "print (df.head)"
   ]
  },
  {
   "cell_type": "code",
   "execution_count": 349,
   "metadata": {
    "scrolled": true
   },
   "outputs": [],
   "source": [
    "#plotX is a DataFrame containing 5000 values sampled randomly from X\n",
    "plotX = pd.DataFrame(np.array(df.sample(49)))\n",
    "\n",
    "#Rename plotX's columns since it was briefly converted to an np.array above\n",
    "plotX.columns = df.columns"
   ]
  },
  {
   "cell_type": "code",
   "execution_count": 420,
   "metadata": {},
   "outputs": [],
   "source": [
    "from sklearn.decomposition import PCA #Principal Component Analysis\n",
    "from sklearn.manifold import TSNE #T-Distributed Stochastic Neighbor Embedding\n",
    "\n",
    "#PCA with one principal component\n",
    "pca_1d = PCA(n_components=1)\n",
    "\n",
    "#PCA with two principal components\n",
    "pca_2d = PCA(n_components=2)\n",
    "\n",
    "#PCA with three principal components\n",
    "pca_3d = PCA(n_components=3)"
   ]
  },
  {
   "cell_type": "code",
   "execution_count": 421,
   "metadata": {},
   "outputs": [],
   "source": [
    "#This DataFrame holds that single principal component mentioned above\n",
    "PCs_1d = pd.DataFrame(pca_1d.fit_transform(plotX.drop([\"cluster\"], axis=1)))\n",
    "\n",
    "#This DataFrame contains the two principal components that will be used\n",
    "#for the 2-D visualization mentioned above\n",
    "PCs_2d = pd.DataFrame(pca_2d.fit_transform(plotX.drop([\"cluster\"], axis=1)))\n",
    "\n",
    "#And this DataFrame contains three principal components that will aid us\n",
    "#in visualizing our clusters in 3-D\n",
    "PCs_3d = pd.DataFrame(pca_3d.fit_transform(plotX.drop([\"cluster\"], axis=1)))"
   ]
  },
  {
   "cell_type": "code",
   "execution_count": 422,
   "metadata": {},
   "outputs": [],
   "source": [
    "PCs_1d.columns = [\"PC1_1d\"]\n",
    "\n",
    "#\"PC1_2d\" means: 'The first principal component of the components created for 2-D visualization, by PCA.'\n",
    "#And \"PC2_2d\" means: 'The second principal component of the components created for 2-D visualization, by PCA.'\n",
    "PCs_2d.columns = [\"PC1_2d\", \"PC2_2d\"]\n",
    "\n",
    "PCs_3d.columns = [\"PC1_3d\", \"PC2_3d\", \"PC3_3d\"]"
   ]
  },
  {
   "cell_type": "code",
   "execution_count": 423,
   "metadata": {},
   "outputs": [],
   "source": [
    "plotX = pd.concat([plotX,PCs_1d,PCs_2d,PCs_3d], axis=1, join='inner')"
   ]
  },
  {
   "cell_type": "code",
   "execution_count": 424,
   "metadata": {},
   "outputs": [],
   "source": [
    "plotX[\"dummy\"] = 0"
   ]
  },
  {
   "cell_type": "code",
   "execution_count": 425,
   "metadata": {},
   "outputs": [],
   "source": [
    "#Note that all of the DataFrames below are sub-DataFrames of 'plotX'.\n",
    "#This is because we intend to plot the values contained within each of these DataFrames.\n",
    "\n",
    "cluster0 = plotX[plotX[\"cluster\"] == 1]\n",
    "cluster1 = plotX[plotX[\"cluster\"] == 2]\n",
    "cluster2 = plotX[plotX[\"cluster\"] == 3]\n",
    "cluster3 = plotX[plotX[\"cluster\"] == 4]\n",
    "cluster4 = plotX[plotX[\"cluster\"] == 5]"
   ]
  },
  {
   "cell_type": "code",
   "execution_count": 426,
   "metadata": {},
   "outputs": [
    {
     "data": {
      "text/html": [
       "        <script type=\"text/javascript\">\n",
       "        window.PlotlyConfig = {MathJaxConfig: 'local'};\n",
       "        if (window.MathJax) {MathJax.Hub.Config({SVG: {font: \"STIX-Web\"}});}\n",
       "        if (typeof require !== 'undefined') {\n",
       "        require.undef(\"plotly\");\n",
       "        requirejs.config({\n",
       "            paths: {\n",
       "                'plotly': ['https://cdn.plot.ly/plotly-2.9.0.min']\n",
       "            }\n",
       "        });\n",
       "        require(['plotly'], function(Plotly) {\n",
       "            window._Plotly = Plotly;\n",
       "        });\n",
       "        }\n",
       "        </script>\n",
       "        "
      ]
     },
     "metadata": {},
     "output_type": "display_data"
    }
   ],
   "source": [
    "#!pip install plotly\n",
    "from plotly.offline import download_plotlyjs, init_notebook_mode, plot, iplot\n",
    "import plotly as py\n",
    "import plotly.graph_objs as go\n",
    "\n",
    "\n",
    "#This is needed so we can display plotly plots properly\n",
    "init_notebook_mode(connected=True)"
   ]
  },
  {
   "cell_type": "code",
   "execution_count": 427,
   "metadata": {},
   "outputs": [
    {
     "data": {
      "application/vnd.plotly.v1+json": {
       "config": {
        "linkText": "Export to plot.ly",
        "plotlyServerURL": "https://plot.ly",
        "showLink": false
       },
       "data": [
        {
         "marker": {
          "color": "rgba(255, 128, 255, 0.8)"
         },
         "mode": "markers",
         "name": "Cluster 0",
         "type": "scatter",
         "x": [
          -0.03935618769496996,
          0.15262039159294521
         ],
         "y": [
          0,
          0
         ]
        },
        {
         "marker": {
          "color": "rgba(255, 128, 2, 0.8)"
         },
         "mode": "markers",
         "name": "Cluster 1",
         "type": "scatter",
         "x": [
          -0.11971312530012981,
          -0.3972623077939996,
          -0.13888122003036493,
          -0.06352964877373483,
          0.10227451780730833,
          -0.5528356790464748,
          -0.29815685761662203,
          -0.3999146144782051,
          -0.45979944406496714,
          -0.214639369964421,
          -0.011758632874117207,
          -0.11424312271234965,
          -0.19833853230449966,
          -0.1762804221968812,
          -0.362393361578296,
          -0.2680109499755354
         ],
         "y": [
          0,
          0,
          0,
          0,
          0,
          0,
          0,
          0,
          0,
          0,
          0,
          0,
          0,
          0,
          0,
          0
         ]
        },
        {
         "marker": {
          "color": "rgba(0, 255, 200, 0.8)"
         },
         "mode": "markers",
         "name": "Cluster 2",
         "type": "scatter",
         "x": [
          0.40092550185337533,
          0.18478691457054353,
          0.23489517366680768,
          0.19848403344954163,
          0.1841306441221843,
          0.3473111224222567,
          0.1731873966202282,
          0.29286108797646165,
          0.08758716599529046,
          0.3739202145431162,
          0.4080388064330847,
          0.4974084929109766,
          0.4648671513893237,
          0.3105766019267525,
          0.23300822940112942,
          0.17298544869215832,
          0.5961687077702613
         ],
         "y": [
          0,
          0,
          0,
          0,
          0,
          0,
          0,
          0,
          0,
          0,
          0,
          0,
          0,
          0,
          0,
          0,
          0
         ]
        },
        {
         "marker": {
          "color": "rgba(0, 255, 200, 0.8)"
         },
         "mode": "markers",
         "name": "Cluster 3",
         "type": "scatter",
         "x": [
          -0.5357785892771905,
          -0.5439192781731045,
          -0.5212262592878829
         ],
         "y": [
          0,
          0,
          0
         ]
        },
        {
         "marker": {
          "color": "rgba(0, 255, 200, 0.8)"
         },
         "mode": "markers",
         "name": "Cluster 4",
         "type": "scatter",
         "x": [],
         "y": []
        }
       ],
       "layout": {
        "template": {
         "data": {
          "bar": [
           {
            "error_x": {
             "color": "#2a3f5f"
            },
            "error_y": {
             "color": "#2a3f5f"
            },
            "marker": {
             "line": {
              "color": "#E5ECF6",
              "width": 0.5
             },
             "pattern": {
              "fillmode": "overlay",
              "size": 10,
              "solidity": 0.2
             }
            },
            "type": "bar"
           }
          ],
          "barpolar": [
           {
            "marker": {
             "line": {
              "color": "#E5ECF6",
              "width": 0.5
             },
             "pattern": {
              "fillmode": "overlay",
              "size": 10,
              "solidity": 0.2
             }
            },
            "type": "barpolar"
           }
          ],
          "carpet": [
           {
            "aaxis": {
             "endlinecolor": "#2a3f5f",
             "gridcolor": "white",
             "linecolor": "white",
             "minorgridcolor": "white",
             "startlinecolor": "#2a3f5f"
            },
            "baxis": {
             "endlinecolor": "#2a3f5f",
             "gridcolor": "white",
             "linecolor": "white",
             "minorgridcolor": "white",
             "startlinecolor": "#2a3f5f"
            },
            "type": "carpet"
           }
          ],
          "choropleth": [
           {
            "colorbar": {
             "outlinewidth": 0,
             "ticks": ""
            },
            "type": "choropleth"
           }
          ],
          "contour": [
           {
            "colorbar": {
             "outlinewidth": 0,
             "ticks": ""
            },
            "colorscale": [
             [
              0,
              "#0d0887"
             ],
             [
              0.1111111111111111,
              "#46039f"
             ],
             [
              0.2222222222222222,
              "#7201a8"
             ],
             [
              0.3333333333333333,
              "#9c179e"
             ],
             [
              0.4444444444444444,
              "#bd3786"
             ],
             [
              0.5555555555555556,
              "#d8576b"
             ],
             [
              0.6666666666666666,
              "#ed7953"
             ],
             [
              0.7777777777777778,
              "#fb9f3a"
             ],
             [
              0.8888888888888888,
              "#fdca26"
             ],
             [
              1,
              "#f0f921"
             ]
            ],
            "type": "contour"
           }
          ],
          "contourcarpet": [
           {
            "colorbar": {
             "outlinewidth": 0,
             "ticks": ""
            },
            "type": "contourcarpet"
           }
          ],
          "heatmap": [
           {
            "colorbar": {
             "outlinewidth": 0,
             "ticks": ""
            },
            "colorscale": [
             [
              0,
              "#0d0887"
             ],
             [
              0.1111111111111111,
              "#46039f"
             ],
             [
              0.2222222222222222,
              "#7201a8"
             ],
             [
              0.3333333333333333,
              "#9c179e"
             ],
             [
              0.4444444444444444,
              "#bd3786"
             ],
             [
              0.5555555555555556,
              "#d8576b"
             ],
             [
              0.6666666666666666,
              "#ed7953"
             ],
             [
              0.7777777777777778,
              "#fb9f3a"
             ],
             [
              0.8888888888888888,
              "#fdca26"
             ],
             [
              1,
              "#f0f921"
             ]
            ],
            "type": "heatmap"
           }
          ],
          "heatmapgl": [
           {
            "colorbar": {
             "outlinewidth": 0,
             "ticks": ""
            },
            "colorscale": [
             [
              0,
              "#0d0887"
             ],
             [
              0.1111111111111111,
              "#46039f"
             ],
             [
              0.2222222222222222,
              "#7201a8"
             ],
             [
              0.3333333333333333,
              "#9c179e"
             ],
             [
              0.4444444444444444,
              "#bd3786"
             ],
             [
              0.5555555555555556,
              "#d8576b"
             ],
             [
              0.6666666666666666,
              "#ed7953"
             ],
             [
              0.7777777777777778,
              "#fb9f3a"
             ],
             [
              0.8888888888888888,
              "#fdca26"
             ],
             [
              1,
              "#f0f921"
             ]
            ],
            "type": "heatmapgl"
           }
          ],
          "histogram": [
           {
            "marker": {
             "pattern": {
              "fillmode": "overlay",
              "size": 10,
              "solidity": 0.2
             }
            },
            "type": "histogram"
           }
          ],
          "histogram2d": [
           {
            "colorbar": {
             "outlinewidth": 0,
             "ticks": ""
            },
            "colorscale": [
             [
              0,
              "#0d0887"
             ],
             [
              0.1111111111111111,
              "#46039f"
             ],
             [
              0.2222222222222222,
              "#7201a8"
             ],
             [
              0.3333333333333333,
              "#9c179e"
             ],
             [
              0.4444444444444444,
              "#bd3786"
             ],
             [
              0.5555555555555556,
              "#d8576b"
             ],
             [
              0.6666666666666666,
              "#ed7953"
             ],
             [
              0.7777777777777778,
              "#fb9f3a"
             ],
             [
              0.8888888888888888,
              "#fdca26"
             ],
             [
              1,
              "#f0f921"
             ]
            ],
            "type": "histogram2d"
           }
          ],
          "histogram2dcontour": [
           {
            "colorbar": {
             "outlinewidth": 0,
             "ticks": ""
            },
            "colorscale": [
             [
              0,
              "#0d0887"
             ],
             [
              0.1111111111111111,
              "#46039f"
             ],
             [
              0.2222222222222222,
              "#7201a8"
             ],
             [
              0.3333333333333333,
              "#9c179e"
             ],
             [
              0.4444444444444444,
              "#bd3786"
             ],
             [
              0.5555555555555556,
              "#d8576b"
             ],
             [
              0.6666666666666666,
              "#ed7953"
             ],
             [
              0.7777777777777778,
              "#fb9f3a"
             ],
             [
              0.8888888888888888,
              "#fdca26"
             ],
             [
              1,
              "#f0f921"
             ]
            ],
            "type": "histogram2dcontour"
           }
          ],
          "mesh3d": [
           {
            "colorbar": {
             "outlinewidth": 0,
             "ticks": ""
            },
            "type": "mesh3d"
           }
          ],
          "parcoords": [
           {
            "line": {
             "colorbar": {
              "outlinewidth": 0,
              "ticks": ""
             }
            },
            "type": "parcoords"
           }
          ],
          "pie": [
           {
            "automargin": true,
            "type": "pie"
           }
          ],
          "scatter": [
           {
            "marker": {
             "colorbar": {
              "outlinewidth": 0,
              "ticks": ""
             }
            },
            "type": "scatter"
           }
          ],
          "scatter3d": [
           {
            "line": {
             "colorbar": {
              "outlinewidth": 0,
              "ticks": ""
             }
            },
            "marker": {
             "colorbar": {
              "outlinewidth": 0,
              "ticks": ""
             }
            },
            "type": "scatter3d"
           }
          ],
          "scattercarpet": [
           {
            "marker": {
             "colorbar": {
              "outlinewidth": 0,
              "ticks": ""
             }
            },
            "type": "scattercarpet"
           }
          ],
          "scattergeo": [
           {
            "marker": {
             "colorbar": {
              "outlinewidth": 0,
              "ticks": ""
             }
            },
            "type": "scattergeo"
           }
          ],
          "scattergl": [
           {
            "marker": {
             "colorbar": {
              "outlinewidth": 0,
              "ticks": ""
             }
            },
            "type": "scattergl"
           }
          ],
          "scattermapbox": [
           {
            "marker": {
             "colorbar": {
              "outlinewidth": 0,
              "ticks": ""
             }
            },
            "type": "scattermapbox"
           }
          ],
          "scatterpolar": [
           {
            "marker": {
             "colorbar": {
              "outlinewidth": 0,
              "ticks": ""
             }
            },
            "type": "scatterpolar"
           }
          ],
          "scatterpolargl": [
           {
            "marker": {
             "colorbar": {
              "outlinewidth": 0,
              "ticks": ""
             }
            },
            "type": "scatterpolargl"
           }
          ],
          "scatterternary": [
           {
            "marker": {
             "colorbar": {
              "outlinewidth": 0,
              "ticks": ""
             }
            },
            "type": "scatterternary"
           }
          ],
          "surface": [
           {
            "colorbar": {
             "outlinewidth": 0,
             "ticks": ""
            },
            "colorscale": [
             [
              0,
              "#0d0887"
             ],
             [
              0.1111111111111111,
              "#46039f"
             ],
             [
              0.2222222222222222,
              "#7201a8"
             ],
             [
              0.3333333333333333,
              "#9c179e"
             ],
             [
              0.4444444444444444,
              "#bd3786"
             ],
             [
              0.5555555555555556,
              "#d8576b"
             ],
             [
              0.6666666666666666,
              "#ed7953"
             ],
             [
              0.7777777777777778,
              "#fb9f3a"
             ],
             [
              0.8888888888888888,
              "#fdca26"
             ],
             [
              1,
              "#f0f921"
             ]
            ],
            "type": "surface"
           }
          ],
          "table": [
           {
            "cells": {
             "fill": {
              "color": "#EBF0F8"
             },
             "line": {
              "color": "white"
             }
            },
            "header": {
             "fill": {
              "color": "#C8D4E3"
             },
             "line": {
              "color": "white"
             }
            },
            "type": "table"
           }
          ]
         },
         "layout": {
          "annotationdefaults": {
           "arrowcolor": "#2a3f5f",
           "arrowhead": 0,
           "arrowwidth": 1
          },
          "autotypenumbers": "strict",
          "coloraxis": {
           "colorbar": {
            "outlinewidth": 0,
            "ticks": ""
           }
          },
          "colorscale": {
           "diverging": [
            [
             0,
             "#8e0152"
            ],
            [
             0.1,
             "#c51b7d"
            ],
            [
             0.2,
             "#de77ae"
            ],
            [
             0.3,
             "#f1b6da"
            ],
            [
             0.4,
             "#fde0ef"
            ],
            [
             0.5,
             "#f7f7f7"
            ],
            [
             0.6,
             "#e6f5d0"
            ],
            [
             0.7,
             "#b8e186"
            ],
            [
             0.8,
             "#7fbc41"
            ],
            [
             0.9,
             "#4d9221"
            ],
            [
             1,
             "#276419"
            ]
           ],
           "sequential": [
            [
             0,
             "#0d0887"
            ],
            [
             0.1111111111111111,
             "#46039f"
            ],
            [
             0.2222222222222222,
             "#7201a8"
            ],
            [
             0.3333333333333333,
             "#9c179e"
            ],
            [
             0.4444444444444444,
             "#bd3786"
            ],
            [
             0.5555555555555556,
             "#d8576b"
            ],
            [
             0.6666666666666666,
             "#ed7953"
            ],
            [
             0.7777777777777778,
             "#fb9f3a"
            ],
            [
             0.8888888888888888,
             "#fdca26"
            ],
            [
             1,
             "#f0f921"
            ]
           ],
           "sequentialminus": [
            [
             0,
             "#0d0887"
            ],
            [
             0.1111111111111111,
             "#46039f"
            ],
            [
             0.2222222222222222,
             "#7201a8"
            ],
            [
             0.3333333333333333,
             "#9c179e"
            ],
            [
             0.4444444444444444,
             "#bd3786"
            ],
            [
             0.5555555555555556,
             "#d8576b"
            ],
            [
             0.6666666666666666,
             "#ed7953"
            ],
            [
             0.7777777777777778,
             "#fb9f3a"
            ],
            [
             0.8888888888888888,
             "#fdca26"
            ],
            [
             1,
             "#f0f921"
            ]
           ]
          },
          "colorway": [
           "#636efa",
           "#EF553B",
           "#00cc96",
           "#ab63fa",
           "#FFA15A",
           "#19d3f3",
           "#FF6692",
           "#B6E880",
           "#FF97FF",
           "#FECB52"
          ],
          "font": {
           "color": "#2a3f5f"
          },
          "geo": {
           "bgcolor": "white",
           "lakecolor": "white",
           "landcolor": "#E5ECF6",
           "showlakes": true,
           "showland": true,
           "subunitcolor": "white"
          },
          "hoverlabel": {
           "align": "left"
          },
          "hovermode": "closest",
          "mapbox": {
           "style": "light"
          },
          "paper_bgcolor": "white",
          "plot_bgcolor": "#E5ECF6",
          "polar": {
           "angularaxis": {
            "gridcolor": "white",
            "linecolor": "white",
            "ticks": ""
           },
           "bgcolor": "#E5ECF6",
           "radialaxis": {
            "gridcolor": "white",
            "linecolor": "white",
            "ticks": ""
           }
          },
          "scene": {
           "xaxis": {
            "backgroundcolor": "#E5ECF6",
            "gridcolor": "white",
            "gridwidth": 2,
            "linecolor": "white",
            "showbackground": true,
            "ticks": "",
            "zerolinecolor": "white"
           },
           "yaxis": {
            "backgroundcolor": "#E5ECF6",
            "gridcolor": "white",
            "gridwidth": 2,
            "linecolor": "white",
            "showbackground": true,
            "ticks": "",
            "zerolinecolor": "white"
           },
           "zaxis": {
            "backgroundcolor": "#E5ECF6",
            "gridcolor": "white",
            "gridwidth": 2,
            "linecolor": "white",
            "showbackground": true,
            "ticks": "",
            "zerolinecolor": "white"
           }
          },
          "shapedefaults": {
           "line": {
            "color": "#2a3f5f"
           }
          },
          "ternary": {
           "aaxis": {
            "gridcolor": "white",
            "linecolor": "white",
            "ticks": ""
           },
           "baxis": {
            "gridcolor": "white",
            "linecolor": "white",
            "ticks": ""
           },
           "bgcolor": "#E5ECF6",
           "caxis": {
            "gridcolor": "white",
            "linecolor": "white",
            "ticks": ""
           }
          },
          "title": {
           "x": 0.05
          },
          "xaxis": {
           "automargin": true,
           "gridcolor": "white",
           "linecolor": "white",
           "ticks": "",
           "title": {
            "standoff": 15
           },
           "zerolinecolor": "white",
           "zerolinewidth": 2
          },
          "yaxis": {
           "automargin": true,
           "gridcolor": "white",
           "linecolor": "white",
           "ticks": "",
           "title": {
            "standoff": 15
           },
           "zerolinecolor": "white",
           "zerolinewidth": 2
          }
         }
        },
        "title": {
         "text": "Visualizing Clusters in One Dimension Using PCA"
        },
        "xaxis": {
         "ticklen": 5,
         "title": {
          "text": "PC1"
         },
         "zeroline": false
        },
        "yaxis": {
         "ticklen": 5,
         "title": {
          "text": ""
         },
         "zeroline": false
        }
       }
      },
      "text/html": [
       "<div>                            <div id=\"adea6f8f-a4d3-44e9-986c-50e962a6a3b5\" class=\"plotly-graph-div\" style=\"height:525px; width:100%;\"></div>            <script type=\"text/javascript\">                require([\"plotly\"], function(Plotly) {                    window.PLOTLYENV=window.PLOTLYENV || {};                                    if (document.getElementById(\"adea6f8f-a4d3-44e9-986c-50e962a6a3b5\")) {                    Plotly.newPlot(                        \"adea6f8f-a4d3-44e9-986c-50e962a6a3b5\",                        [{\"marker\":{\"color\":\"rgba(255, 128, 255, 0.8)\"},\"mode\":\"markers\",\"name\":\"Cluster 0\",\"x\":[-0.03935618769496996,0.15262039159294521],\"y\":[0,0],\"type\":\"scatter\"},{\"marker\":{\"color\":\"rgba(255, 128, 2, 0.8)\"},\"mode\":\"markers\",\"name\":\"Cluster 1\",\"x\":[-0.11971312530012981,-0.3972623077939996,-0.13888122003036493,-0.06352964877373483,0.10227451780730833,-0.5528356790464748,-0.29815685761662203,-0.3999146144782051,-0.45979944406496714,-0.214639369964421,-0.011758632874117207,-0.11424312271234965,-0.19833853230449966,-0.1762804221968812,-0.362393361578296,-0.2680109499755354],\"y\":[0,0,0,0,0,0,0,0,0,0,0,0,0,0,0,0],\"type\":\"scatter\"},{\"marker\":{\"color\":\"rgba(0, 255, 200, 0.8)\"},\"mode\":\"markers\",\"name\":\"Cluster 2\",\"x\":[0.40092550185337533,0.18478691457054353,0.23489517366680768,0.19848403344954163,0.1841306441221843,0.3473111224222567,0.1731873966202282,0.29286108797646165,0.08758716599529046,0.3739202145431162,0.4080388064330847,0.4974084929109766,0.4648671513893237,0.3105766019267525,0.23300822940112942,0.17298544869215832,0.5961687077702613],\"y\":[0,0,0,0,0,0,0,0,0,0,0,0,0,0,0,0,0],\"type\":\"scatter\"},{\"marker\":{\"color\":\"rgba(0, 255, 200, 0.8)\"},\"mode\":\"markers\",\"name\":\"Cluster 3\",\"x\":[-0.5357785892771905,-0.5439192781731045,-0.5212262592878829],\"y\":[0,0,0],\"type\":\"scatter\"},{\"marker\":{\"color\":\"rgba(0, 255, 200, 0.8)\"},\"mode\":\"markers\",\"name\":\"Cluster 4\",\"x\":[],\"y\":[],\"type\":\"scatter\"}],                        {\"template\":{\"data\":{\"barpolar\":[{\"marker\":{\"line\":{\"color\":\"#E5ECF6\",\"width\":0.5},\"pattern\":{\"fillmode\":\"overlay\",\"size\":10,\"solidity\":0.2}},\"type\":\"barpolar\"}],\"bar\":[{\"error_x\":{\"color\":\"#2a3f5f\"},\"error_y\":{\"color\":\"#2a3f5f\"},\"marker\":{\"line\":{\"color\":\"#E5ECF6\",\"width\":0.5},\"pattern\":{\"fillmode\":\"overlay\",\"size\":10,\"solidity\":0.2}},\"type\":\"bar\"}],\"carpet\":[{\"aaxis\":{\"endlinecolor\":\"#2a3f5f\",\"gridcolor\":\"white\",\"linecolor\":\"white\",\"minorgridcolor\":\"white\",\"startlinecolor\":\"#2a3f5f\"},\"baxis\":{\"endlinecolor\":\"#2a3f5f\",\"gridcolor\":\"white\",\"linecolor\":\"white\",\"minorgridcolor\":\"white\",\"startlinecolor\":\"#2a3f5f\"},\"type\":\"carpet\"}],\"choropleth\":[{\"colorbar\":{\"outlinewidth\":0,\"ticks\":\"\"},\"type\":\"choropleth\"}],\"contourcarpet\":[{\"colorbar\":{\"outlinewidth\":0,\"ticks\":\"\"},\"type\":\"contourcarpet\"}],\"contour\":[{\"colorbar\":{\"outlinewidth\":0,\"ticks\":\"\"},\"colorscale\":[[0.0,\"#0d0887\"],[0.1111111111111111,\"#46039f\"],[0.2222222222222222,\"#7201a8\"],[0.3333333333333333,\"#9c179e\"],[0.4444444444444444,\"#bd3786\"],[0.5555555555555556,\"#d8576b\"],[0.6666666666666666,\"#ed7953\"],[0.7777777777777778,\"#fb9f3a\"],[0.8888888888888888,\"#fdca26\"],[1.0,\"#f0f921\"]],\"type\":\"contour\"}],\"heatmapgl\":[{\"colorbar\":{\"outlinewidth\":0,\"ticks\":\"\"},\"colorscale\":[[0.0,\"#0d0887\"],[0.1111111111111111,\"#46039f\"],[0.2222222222222222,\"#7201a8\"],[0.3333333333333333,\"#9c179e\"],[0.4444444444444444,\"#bd3786\"],[0.5555555555555556,\"#d8576b\"],[0.6666666666666666,\"#ed7953\"],[0.7777777777777778,\"#fb9f3a\"],[0.8888888888888888,\"#fdca26\"],[1.0,\"#f0f921\"]],\"type\":\"heatmapgl\"}],\"heatmap\":[{\"colorbar\":{\"outlinewidth\":0,\"ticks\":\"\"},\"colorscale\":[[0.0,\"#0d0887\"],[0.1111111111111111,\"#46039f\"],[0.2222222222222222,\"#7201a8\"],[0.3333333333333333,\"#9c179e\"],[0.4444444444444444,\"#bd3786\"],[0.5555555555555556,\"#d8576b\"],[0.6666666666666666,\"#ed7953\"],[0.7777777777777778,\"#fb9f3a\"],[0.8888888888888888,\"#fdca26\"],[1.0,\"#f0f921\"]],\"type\":\"heatmap\"}],\"histogram2dcontour\":[{\"colorbar\":{\"outlinewidth\":0,\"ticks\":\"\"},\"colorscale\":[[0.0,\"#0d0887\"],[0.1111111111111111,\"#46039f\"],[0.2222222222222222,\"#7201a8\"],[0.3333333333333333,\"#9c179e\"],[0.4444444444444444,\"#bd3786\"],[0.5555555555555556,\"#d8576b\"],[0.6666666666666666,\"#ed7953\"],[0.7777777777777778,\"#fb9f3a\"],[0.8888888888888888,\"#fdca26\"],[1.0,\"#f0f921\"]],\"type\":\"histogram2dcontour\"}],\"histogram2d\":[{\"colorbar\":{\"outlinewidth\":0,\"ticks\":\"\"},\"colorscale\":[[0.0,\"#0d0887\"],[0.1111111111111111,\"#46039f\"],[0.2222222222222222,\"#7201a8\"],[0.3333333333333333,\"#9c179e\"],[0.4444444444444444,\"#bd3786\"],[0.5555555555555556,\"#d8576b\"],[0.6666666666666666,\"#ed7953\"],[0.7777777777777778,\"#fb9f3a\"],[0.8888888888888888,\"#fdca26\"],[1.0,\"#f0f921\"]],\"type\":\"histogram2d\"}],\"histogram\":[{\"marker\":{\"pattern\":{\"fillmode\":\"overlay\",\"size\":10,\"solidity\":0.2}},\"type\":\"histogram\"}],\"mesh3d\":[{\"colorbar\":{\"outlinewidth\":0,\"ticks\":\"\"},\"type\":\"mesh3d\"}],\"parcoords\":[{\"line\":{\"colorbar\":{\"outlinewidth\":0,\"ticks\":\"\"}},\"type\":\"parcoords\"}],\"pie\":[{\"automargin\":true,\"type\":\"pie\"}],\"scatter3d\":[{\"line\":{\"colorbar\":{\"outlinewidth\":0,\"ticks\":\"\"}},\"marker\":{\"colorbar\":{\"outlinewidth\":0,\"ticks\":\"\"}},\"type\":\"scatter3d\"}],\"scattercarpet\":[{\"marker\":{\"colorbar\":{\"outlinewidth\":0,\"ticks\":\"\"}},\"type\":\"scattercarpet\"}],\"scattergeo\":[{\"marker\":{\"colorbar\":{\"outlinewidth\":0,\"ticks\":\"\"}},\"type\":\"scattergeo\"}],\"scattergl\":[{\"marker\":{\"colorbar\":{\"outlinewidth\":0,\"ticks\":\"\"}},\"type\":\"scattergl\"}],\"scattermapbox\":[{\"marker\":{\"colorbar\":{\"outlinewidth\":0,\"ticks\":\"\"}},\"type\":\"scattermapbox\"}],\"scatterpolargl\":[{\"marker\":{\"colorbar\":{\"outlinewidth\":0,\"ticks\":\"\"}},\"type\":\"scatterpolargl\"}],\"scatterpolar\":[{\"marker\":{\"colorbar\":{\"outlinewidth\":0,\"ticks\":\"\"}},\"type\":\"scatterpolar\"}],\"scatter\":[{\"marker\":{\"colorbar\":{\"outlinewidth\":0,\"ticks\":\"\"}},\"type\":\"scatter\"}],\"scatterternary\":[{\"marker\":{\"colorbar\":{\"outlinewidth\":0,\"ticks\":\"\"}},\"type\":\"scatterternary\"}],\"surface\":[{\"colorbar\":{\"outlinewidth\":0,\"ticks\":\"\"},\"colorscale\":[[0.0,\"#0d0887\"],[0.1111111111111111,\"#46039f\"],[0.2222222222222222,\"#7201a8\"],[0.3333333333333333,\"#9c179e\"],[0.4444444444444444,\"#bd3786\"],[0.5555555555555556,\"#d8576b\"],[0.6666666666666666,\"#ed7953\"],[0.7777777777777778,\"#fb9f3a\"],[0.8888888888888888,\"#fdca26\"],[1.0,\"#f0f921\"]],\"type\":\"surface\"}],\"table\":[{\"cells\":{\"fill\":{\"color\":\"#EBF0F8\"},\"line\":{\"color\":\"white\"}},\"header\":{\"fill\":{\"color\":\"#C8D4E3\"},\"line\":{\"color\":\"white\"}},\"type\":\"table\"}]},\"layout\":{\"annotationdefaults\":{\"arrowcolor\":\"#2a3f5f\",\"arrowhead\":0,\"arrowwidth\":1},\"autotypenumbers\":\"strict\",\"coloraxis\":{\"colorbar\":{\"outlinewidth\":0,\"ticks\":\"\"}},\"colorscale\":{\"diverging\":[[0,\"#8e0152\"],[0.1,\"#c51b7d\"],[0.2,\"#de77ae\"],[0.3,\"#f1b6da\"],[0.4,\"#fde0ef\"],[0.5,\"#f7f7f7\"],[0.6,\"#e6f5d0\"],[0.7,\"#b8e186\"],[0.8,\"#7fbc41\"],[0.9,\"#4d9221\"],[1,\"#276419\"]],\"sequential\":[[0.0,\"#0d0887\"],[0.1111111111111111,\"#46039f\"],[0.2222222222222222,\"#7201a8\"],[0.3333333333333333,\"#9c179e\"],[0.4444444444444444,\"#bd3786\"],[0.5555555555555556,\"#d8576b\"],[0.6666666666666666,\"#ed7953\"],[0.7777777777777778,\"#fb9f3a\"],[0.8888888888888888,\"#fdca26\"],[1.0,\"#f0f921\"]],\"sequentialminus\":[[0.0,\"#0d0887\"],[0.1111111111111111,\"#46039f\"],[0.2222222222222222,\"#7201a8\"],[0.3333333333333333,\"#9c179e\"],[0.4444444444444444,\"#bd3786\"],[0.5555555555555556,\"#d8576b\"],[0.6666666666666666,\"#ed7953\"],[0.7777777777777778,\"#fb9f3a\"],[0.8888888888888888,\"#fdca26\"],[1.0,\"#f0f921\"]]},\"colorway\":[\"#636efa\",\"#EF553B\",\"#00cc96\",\"#ab63fa\",\"#FFA15A\",\"#19d3f3\",\"#FF6692\",\"#B6E880\",\"#FF97FF\",\"#FECB52\"],\"font\":{\"color\":\"#2a3f5f\"},\"geo\":{\"bgcolor\":\"white\",\"lakecolor\":\"white\",\"landcolor\":\"#E5ECF6\",\"showlakes\":true,\"showland\":true,\"subunitcolor\":\"white\"},\"hoverlabel\":{\"align\":\"left\"},\"hovermode\":\"closest\",\"mapbox\":{\"style\":\"light\"},\"paper_bgcolor\":\"white\",\"plot_bgcolor\":\"#E5ECF6\",\"polar\":{\"angularaxis\":{\"gridcolor\":\"white\",\"linecolor\":\"white\",\"ticks\":\"\"},\"bgcolor\":\"#E5ECF6\",\"radialaxis\":{\"gridcolor\":\"white\",\"linecolor\":\"white\",\"ticks\":\"\"}},\"scene\":{\"xaxis\":{\"backgroundcolor\":\"#E5ECF6\",\"gridcolor\":\"white\",\"gridwidth\":2,\"linecolor\":\"white\",\"showbackground\":true,\"ticks\":\"\",\"zerolinecolor\":\"white\"},\"yaxis\":{\"backgroundcolor\":\"#E5ECF6\",\"gridcolor\":\"white\",\"gridwidth\":2,\"linecolor\":\"white\",\"showbackground\":true,\"ticks\":\"\",\"zerolinecolor\":\"white\"},\"zaxis\":{\"backgroundcolor\":\"#E5ECF6\",\"gridcolor\":\"white\",\"gridwidth\":2,\"linecolor\":\"white\",\"showbackground\":true,\"ticks\":\"\",\"zerolinecolor\":\"white\"}},\"shapedefaults\":{\"line\":{\"color\":\"#2a3f5f\"}},\"ternary\":{\"aaxis\":{\"gridcolor\":\"white\",\"linecolor\":\"white\",\"ticks\":\"\"},\"baxis\":{\"gridcolor\":\"white\",\"linecolor\":\"white\",\"ticks\":\"\"},\"bgcolor\":\"#E5ECF6\",\"caxis\":{\"gridcolor\":\"white\",\"linecolor\":\"white\",\"ticks\":\"\"}},\"title\":{\"x\":0.05},\"xaxis\":{\"automargin\":true,\"gridcolor\":\"white\",\"linecolor\":\"white\",\"ticks\":\"\",\"title\":{\"standoff\":15},\"zerolinecolor\":\"white\",\"zerolinewidth\":2},\"yaxis\":{\"automargin\":true,\"gridcolor\":\"white\",\"linecolor\":\"white\",\"ticks\":\"\",\"title\":{\"standoff\":15},\"zerolinecolor\":\"white\",\"zerolinewidth\":2}}},\"title\":{\"text\":\"Visualizing Clusters in One Dimension Using PCA\"},\"xaxis\":{\"ticklen\":5,\"title\":{\"text\":\"PC1\"},\"zeroline\":false},\"yaxis\":{\"ticklen\":5,\"title\":{\"text\":\"\"},\"zeroline\":false}},                        {\"responsive\": true}                    ).then(function(){\n",
       "                            \n",
       "var gd = document.getElementById('adea6f8f-a4d3-44e9-986c-50e962a6a3b5');\n",
       "var x = new MutationObserver(function (mutations, observer) {{\n",
       "        var display = window.getComputedStyle(gd).display;\n",
       "        if (!display || display === 'none') {{\n",
       "            console.log([gd, 'removed!']);\n",
       "            Plotly.purge(gd);\n",
       "            observer.disconnect();\n",
       "        }}\n",
       "}});\n",
       "\n",
       "// Listen for the removal of the full notebook cells\n",
       "var notebookContainer = gd.closest('#notebook-container');\n",
       "if (notebookContainer) {{\n",
       "    x.observe(notebookContainer, {childList: true});\n",
       "}}\n",
       "\n",
       "// Listen for the clearing of the current output cell\n",
       "var outputEl = gd.closest('.output');\n",
       "if (outputEl) {{\n",
       "    x.observe(outputEl, {childList: true});\n",
       "}}\n",
       "\n",
       "                        })                };                });            </script>        </div>"
      ]
     },
     "metadata": {},
     "output_type": "display_data"
    }
   ],
   "source": [
    "#Instructions for building the 1-D plot\n",
    "\n",
    "#trace1 is for 'Cluster 0'\n",
    "trace1 = go.Scatter(\n",
    "                    x = cluster0[\"PC1_1d\"],\n",
    "                    y = cluster0[\"dummy\"],\n",
    "                    mode = \"markers\",\n",
    "                    name = \"Cluster 0\",\n",
    "                    marker = dict(color = 'rgba(255, 128, 255, 0.8)'),\n",
    "                    text = None)\n",
    "\n",
    "#trace2 is for 'Cluster 1'\n",
    "trace2 = go.Scatter(\n",
    "                    x = cluster1[\"PC1_1d\"],\n",
    "                    y = cluster1[\"dummy\"],\n",
    "                    mode = \"markers\",\n",
    "                    name = \"Cluster 1\",\n",
    "                    marker = dict(color = 'rgba(255, 128, 2, 0.8)'),\n",
    "                    text = None)\n",
    "\n",
    "#trace3 is for 'Cluster 2'\n",
    "trace3 = go.Scatter(\n",
    "                    x = cluster2[\"PC1_1d\"],\n",
    "                    y = cluster2[\"dummy\"],\n",
    "                    mode = \"markers\",\n",
    "                    name = \"Cluster 2\",\n",
    "                    marker = dict(color = 'rgba(0, 255, 200, 0.8)'),\n",
    "                    text = None)\n",
    "\n",
    "#trace4 is for 'Cluster 3'\n",
    "trace4 = go.Scatter(\n",
    "                    x = cluster3[\"PC1_1d\"],\n",
    "                    y = cluster3[\"dummy\"],\n",
    "                    mode = \"markers\",\n",
    "                    name = \"Cluster 3\",\n",
    "                    marker = dict(color = 'rgba(0, 255, 200, 0.8)'),\n",
    "                    text = None)\n",
    "\n",
    "#trace5 is for 'Cluster 4'\n",
    "trace5 = go.Scatter(\n",
    "                    x = cluster4[\"PC1_1d\"],\n",
    "                    y = cluster4[\"dummy\"],\n",
    "                    mode = \"markers\",\n",
    "                    name = \"Cluster 4\",\n",
    "                    marker = dict(color = 'rgba(0, 255, 200, 0.8)'),\n",
    "                    text = None)\n",
    "\n",
    "data = [trace1, trace2, trace3, trace4, trace5]\n",
    "\n",
    "title = \"Visualizing Clusters in One Dimension Using PCA\"\n",
    "\n",
    "layout = dict(title = title,\n",
    "              xaxis= dict(title= 'PC1',ticklen= 5,zeroline= False),\n",
    "              yaxis= dict(title= '',ticklen= 5,zeroline= False)\n",
    "             )\n",
    "\n",
    "fig = dict(data = data, layout = layout)\n",
    "\n",
    "iplot(fig)"
   ]
  },
  {
   "cell_type": "code",
   "execution_count": 428,
   "metadata": {},
   "outputs": [
    {
     "data": {
      "application/vnd.plotly.v1+json": {
       "config": {
        "linkText": "Export to plot.ly",
        "plotlyServerURL": "https://plot.ly",
        "showLink": false
       },
       "data": [
        {
         "marker": {
          "color": "rgba(255, 128, 255, 0.8)"
         },
         "mode": "markers",
         "name": "Cluster 0",
         "type": "scatter",
         "x": [
          -0.03935618769496996,
          0.15262039159294521
         ],
         "y": [
          0.7465452660711566,
          0.48712544237216426
         ]
        },
        {
         "marker": {
          "color": "rgba(255, 128, 2, 0.8)"
         },
         "mode": "markers",
         "name": "Cluster 1",
         "type": "scatter",
         "x": [
          -0.11971312530012981,
          -0.3972623077939996,
          -0.13888122003036493,
          -0.06352964877373483,
          0.10227451780730833,
          -0.5528356790464748,
          -0.29815685761662203,
          -0.3999146144782051,
          -0.45979944406496714,
          -0.214639369964421,
          -0.011758632874117207,
          -0.11424312271234965,
          -0.19833853230449966,
          -0.1762804221968812,
          -0.362393361578296,
          -0.2680109499755354
         ],
         "y": [
          0.3790431466872036,
          -0.0028718212766930917,
          0.14411478357806665,
          -0.1126766197017394,
          -0.09379048513031467,
          -0.028509108789949316,
          0.06311173098454725,
          0.18041992482293534,
          -0.054334647197179245,
          0.11589971043777737,
          0.02640113082773599,
          0.045865139668696216,
          0.049374935314795164,
          -0.1416362786800227,
          0.34686920538510657,
          0.03940533143174142
         ]
        },
        {
         "marker": {
          "color": "rgba(0, 255, 200, 0.8)"
         },
         "mode": "markers",
         "name": "Cluster 2",
         "type": "scatter",
         "x": [
          0.40092550185337533,
          0.18478691457054353,
          0.23489517366680768,
          0.19848403344954163,
          0.1841306441221843,
          0.3473111224222567,
          0.1731873966202282,
          0.29286108797646165,
          0.08758716599529046,
          0.3739202145431162,
          0.4080388064330847,
          0.4974084929109766,
          0.4648671513893237,
          0.3105766019267525,
          0.23300822940112942,
          0.17298544869215832,
          0.5961687077702613
         ],
         "y": [
          0.08637671968022688,
          -0.06968759347393012,
          0.008488988177291438,
          0.29721401336091824,
          -0.1069862710075179,
          0.07065622146204466,
          0.0747009847918163,
          -0.110184007973978,
          -0.023190207794859318,
          -0.2310888001946307,
          -0.34411456299434473,
          -0.013300917086531838,
          -0.2059032869885154,
          -0.04280674279680613,
          -0.20774814837779554,
          -0.06546753989666491,
          -0.11672551257353718
         ]
        },
        {
         "marker": {
          "color": "rgba(0, 255, 200, 0.8)"
         },
         "mode": "markers",
         "name": "Cluster 3",
         "type": "scatter",
         "x": [
          -0.5357785892771905,
          -0.5439192781731045,
          -0.5212262592878829
         ],
         "y": [
          -0.2466144859232943,
          -0.2141167721649281,
          -0.7298588650309891
         ]
        },
        {
         "marker": {
          "color": "rgba(0, 255, 200, 0.8)"
         },
         "mode": "markers",
         "name": "Cluster 4",
         "type": "scatter",
         "x": [],
         "y": []
        }
       ],
       "layout": {
        "template": {
         "data": {
          "bar": [
           {
            "error_x": {
             "color": "#2a3f5f"
            },
            "error_y": {
             "color": "#2a3f5f"
            },
            "marker": {
             "line": {
              "color": "#E5ECF6",
              "width": 0.5
             },
             "pattern": {
              "fillmode": "overlay",
              "size": 10,
              "solidity": 0.2
             }
            },
            "type": "bar"
           }
          ],
          "barpolar": [
           {
            "marker": {
             "line": {
              "color": "#E5ECF6",
              "width": 0.5
             },
             "pattern": {
              "fillmode": "overlay",
              "size": 10,
              "solidity": 0.2
             }
            },
            "type": "barpolar"
           }
          ],
          "carpet": [
           {
            "aaxis": {
             "endlinecolor": "#2a3f5f",
             "gridcolor": "white",
             "linecolor": "white",
             "minorgridcolor": "white",
             "startlinecolor": "#2a3f5f"
            },
            "baxis": {
             "endlinecolor": "#2a3f5f",
             "gridcolor": "white",
             "linecolor": "white",
             "minorgridcolor": "white",
             "startlinecolor": "#2a3f5f"
            },
            "type": "carpet"
           }
          ],
          "choropleth": [
           {
            "colorbar": {
             "outlinewidth": 0,
             "ticks": ""
            },
            "type": "choropleth"
           }
          ],
          "contour": [
           {
            "colorbar": {
             "outlinewidth": 0,
             "ticks": ""
            },
            "colorscale": [
             [
              0,
              "#0d0887"
             ],
             [
              0.1111111111111111,
              "#46039f"
             ],
             [
              0.2222222222222222,
              "#7201a8"
             ],
             [
              0.3333333333333333,
              "#9c179e"
             ],
             [
              0.4444444444444444,
              "#bd3786"
             ],
             [
              0.5555555555555556,
              "#d8576b"
             ],
             [
              0.6666666666666666,
              "#ed7953"
             ],
             [
              0.7777777777777778,
              "#fb9f3a"
             ],
             [
              0.8888888888888888,
              "#fdca26"
             ],
             [
              1,
              "#f0f921"
             ]
            ],
            "type": "contour"
           }
          ],
          "contourcarpet": [
           {
            "colorbar": {
             "outlinewidth": 0,
             "ticks": ""
            },
            "type": "contourcarpet"
           }
          ],
          "heatmap": [
           {
            "colorbar": {
             "outlinewidth": 0,
             "ticks": ""
            },
            "colorscale": [
             [
              0,
              "#0d0887"
             ],
             [
              0.1111111111111111,
              "#46039f"
             ],
             [
              0.2222222222222222,
              "#7201a8"
             ],
             [
              0.3333333333333333,
              "#9c179e"
             ],
             [
              0.4444444444444444,
              "#bd3786"
             ],
             [
              0.5555555555555556,
              "#d8576b"
             ],
             [
              0.6666666666666666,
              "#ed7953"
             ],
             [
              0.7777777777777778,
              "#fb9f3a"
             ],
             [
              0.8888888888888888,
              "#fdca26"
             ],
             [
              1,
              "#f0f921"
             ]
            ],
            "type": "heatmap"
           }
          ],
          "heatmapgl": [
           {
            "colorbar": {
             "outlinewidth": 0,
             "ticks": ""
            },
            "colorscale": [
             [
              0,
              "#0d0887"
             ],
             [
              0.1111111111111111,
              "#46039f"
             ],
             [
              0.2222222222222222,
              "#7201a8"
             ],
             [
              0.3333333333333333,
              "#9c179e"
             ],
             [
              0.4444444444444444,
              "#bd3786"
             ],
             [
              0.5555555555555556,
              "#d8576b"
             ],
             [
              0.6666666666666666,
              "#ed7953"
             ],
             [
              0.7777777777777778,
              "#fb9f3a"
             ],
             [
              0.8888888888888888,
              "#fdca26"
             ],
             [
              1,
              "#f0f921"
             ]
            ],
            "type": "heatmapgl"
           }
          ],
          "histogram": [
           {
            "marker": {
             "pattern": {
              "fillmode": "overlay",
              "size": 10,
              "solidity": 0.2
             }
            },
            "type": "histogram"
           }
          ],
          "histogram2d": [
           {
            "colorbar": {
             "outlinewidth": 0,
             "ticks": ""
            },
            "colorscale": [
             [
              0,
              "#0d0887"
             ],
             [
              0.1111111111111111,
              "#46039f"
             ],
             [
              0.2222222222222222,
              "#7201a8"
             ],
             [
              0.3333333333333333,
              "#9c179e"
             ],
             [
              0.4444444444444444,
              "#bd3786"
             ],
             [
              0.5555555555555556,
              "#d8576b"
             ],
             [
              0.6666666666666666,
              "#ed7953"
             ],
             [
              0.7777777777777778,
              "#fb9f3a"
             ],
             [
              0.8888888888888888,
              "#fdca26"
             ],
             [
              1,
              "#f0f921"
             ]
            ],
            "type": "histogram2d"
           }
          ],
          "histogram2dcontour": [
           {
            "colorbar": {
             "outlinewidth": 0,
             "ticks": ""
            },
            "colorscale": [
             [
              0,
              "#0d0887"
             ],
             [
              0.1111111111111111,
              "#46039f"
             ],
             [
              0.2222222222222222,
              "#7201a8"
             ],
             [
              0.3333333333333333,
              "#9c179e"
             ],
             [
              0.4444444444444444,
              "#bd3786"
             ],
             [
              0.5555555555555556,
              "#d8576b"
             ],
             [
              0.6666666666666666,
              "#ed7953"
             ],
             [
              0.7777777777777778,
              "#fb9f3a"
             ],
             [
              0.8888888888888888,
              "#fdca26"
             ],
             [
              1,
              "#f0f921"
             ]
            ],
            "type": "histogram2dcontour"
           }
          ],
          "mesh3d": [
           {
            "colorbar": {
             "outlinewidth": 0,
             "ticks": ""
            },
            "type": "mesh3d"
           }
          ],
          "parcoords": [
           {
            "line": {
             "colorbar": {
              "outlinewidth": 0,
              "ticks": ""
             }
            },
            "type": "parcoords"
           }
          ],
          "pie": [
           {
            "automargin": true,
            "type": "pie"
           }
          ],
          "scatter": [
           {
            "marker": {
             "colorbar": {
              "outlinewidth": 0,
              "ticks": ""
             }
            },
            "type": "scatter"
           }
          ],
          "scatter3d": [
           {
            "line": {
             "colorbar": {
              "outlinewidth": 0,
              "ticks": ""
             }
            },
            "marker": {
             "colorbar": {
              "outlinewidth": 0,
              "ticks": ""
             }
            },
            "type": "scatter3d"
           }
          ],
          "scattercarpet": [
           {
            "marker": {
             "colorbar": {
              "outlinewidth": 0,
              "ticks": ""
             }
            },
            "type": "scattercarpet"
           }
          ],
          "scattergeo": [
           {
            "marker": {
             "colorbar": {
              "outlinewidth": 0,
              "ticks": ""
             }
            },
            "type": "scattergeo"
           }
          ],
          "scattergl": [
           {
            "marker": {
             "colorbar": {
              "outlinewidth": 0,
              "ticks": ""
             }
            },
            "type": "scattergl"
           }
          ],
          "scattermapbox": [
           {
            "marker": {
             "colorbar": {
              "outlinewidth": 0,
              "ticks": ""
             }
            },
            "type": "scattermapbox"
           }
          ],
          "scatterpolar": [
           {
            "marker": {
             "colorbar": {
              "outlinewidth": 0,
              "ticks": ""
             }
            },
            "type": "scatterpolar"
           }
          ],
          "scatterpolargl": [
           {
            "marker": {
             "colorbar": {
              "outlinewidth": 0,
              "ticks": ""
             }
            },
            "type": "scatterpolargl"
           }
          ],
          "scatterternary": [
           {
            "marker": {
             "colorbar": {
              "outlinewidth": 0,
              "ticks": ""
             }
            },
            "type": "scatterternary"
           }
          ],
          "surface": [
           {
            "colorbar": {
             "outlinewidth": 0,
             "ticks": ""
            },
            "colorscale": [
             [
              0,
              "#0d0887"
             ],
             [
              0.1111111111111111,
              "#46039f"
             ],
             [
              0.2222222222222222,
              "#7201a8"
             ],
             [
              0.3333333333333333,
              "#9c179e"
             ],
             [
              0.4444444444444444,
              "#bd3786"
             ],
             [
              0.5555555555555556,
              "#d8576b"
             ],
             [
              0.6666666666666666,
              "#ed7953"
             ],
             [
              0.7777777777777778,
              "#fb9f3a"
             ],
             [
              0.8888888888888888,
              "#fdca26"
             ],
             [
              1,
              "#f0f921"
             ]
            ],
            "type": "surface"
           }
          ],
          "table": [
           {
            "cells": {
             "fill": {
              "color": "#EBF0F8"
             },
             "line": {
              "color": "white"
             }
            },
            "header": {
             "fill": {
              "color": "#C8D4E3"
             },
             "line": {
              "color": "white"
             }
            },
            "type": "table"
           }
          ]
         },
         "layout": {
          "annotationdefaults": {
           "arrowcolor": "#2a3f5f",
           "arrowhead": 0,
           "arrowwidth": 1
          },
          "autotypenumbers": "strict",
          "coloraxis": {
           "colorbar": {
            "outlinewidth": 0,
            "ticks": ""
           }
          },
          "colorscale": {
           "diverging": [
            [
             0,
             "#8e0152"
            ],
            [
             0.1,
             "#c51b7d"
            ],
            [
             0.2,
             "#de77ae"
            ],
            [
             0.3,
             "#f1b6da"
            ],
            [
             0.4,
             "#fde0ef"
            ],
            [
             0.5,
             "#f7f7f7"
            ],
            [
             0.6,
             "#e6f5d0"
            ],
            [
             0.7,
             "#b8e186"
            ],
            [
             0.8,
             "#7fbc41"
            ],
            [
             0.9,
             "#4d9221"
            ],
            [
             1,
             "#276419"
            ]
           ],
           "sequential": [
            [
             0,
             "#0d0887"
            ],
            [
             0.1111111111111111,
             "#46039f"
            ],
            [
             0.2222222222222222,
             "#7201a8"
            ],
            [
             0.3333333333333333,
             "#9c179e"
            ],
            [
             0.4444444444444444,
             "#bd3786"
            ],
            [
             0.5555555555555556,
             "#d8576b"
            ],
            [
             0.6666666666666666,
             "#ed7953"
            ],
            [
             0.7777777777777778,
             "#fb9f3a"
            ],
            [
             0.8888888888888888,
             "#fdca26"
            ],
            [
             1,
             "#f0f921"
            ]
           ],
           "sequentialminus": [
            [
             0,
             "#0d0887"
            ],
            [
             0.1111111111111111,
             "#46039f"
            ],
            [
             0.2222222222222222,
             "#7201a8"
            ],
            [
             0.3333333333333333,
             "#9c179e"
            ],
            [
             0.4444444444444444,
             "#bd3786"
            ],
            [
             0.5555555555555556,
             "#d8576b"
            ],
            [
             0.6666666666666666,
             "#ed7953"
            ],
            [
             0.7777777777777778,
             "#fb9f3a"
            ],
            [
             0.8888888888888888,
             "#fdca26"
            ],
            [
             1,
             "#f0f921"
            ]
           ]
          },
          "colorway": [
           "#636efa",
           "#EF553B",
           "#00cc96",
           "#ab63fa",
           "#FFA15A",
           "#19d3f3",
           "#FF6692",
           "#B6E880",
           "#FF97FF",
           "#FECB52"
          ],
          "font": {
           "color": "#2a3f5f"
          },
          "geo": {
           "bgcolor": "white",
           "lakecolor": "white",
           "landcolor": "#E5ECF6",
           "showlakes": true,
           "showland": true,
           "subunitcolor": "white"
          },
          "hoverlabel": {
           "align": "left"
          },
          "hovermode": "closest",
          "mapbox": {
           "style": "light"
          },
          "paper_bgcolor": "white",
          "plot_bgcolor": "#E5ECF6",
          "polar": {
           "angularaxis": {
            "gridcolor": "white",
            "linecolor": "white",
            "ticks": ""
           },
           "bgcolor": "#E5ECF6",
           "radialaxis": {
            "gridcolor": "white",
            "linecolor": "white",
            "ticks": ""
           }
          },
          "scene": {
           "xaxis": {
            "backgroundcolor": "#E5ECF6",
            "gridcolor": "white",
            "gridwidth": 2,
            "linecolor": "white",
            "showbackground": true,
            "ticks": "",
            "zerolinecolor": "white"
           },
           "yaxis": {
            "backgroundcolor": "#E5ECF6",
            "gridcolor": "white",
            "gridwidth": 2,
            "linecolor": "white",
            "showbackground": true,
            "ticks": "",
            "zerolinecolor": "white"
           },
           "zaxis": {
            "backgroundcolor": "#E5ECF6",
            "gridcolor": "white",
            "gridwidth": 2,
            "linecolor": "white",
            "showbackground": true,
            "ticks": "",
            "zerolinecolor": "white"
           }
          },
          "shapedefaults": {
           "line": {
            "color": "#2a3f5f"
           }
          },
          "ternary": {
           "aaxis": {
            "gridcolor": "white",
            "linecolor": "white",
            "ticks": ""
           },
           "baxis": {
            "gridcolor": "white",
            "linecolor": "white",
            "ticks": ""
           },
           "bgcolor": "#E5ECF6",
           "caxis": {
            "gridcolor": "white",
            "linecolor": "white",
            "ticks": ""
           }
          },
          "title": {
           "x": 0.05
          },
          "xaxis": {
           "automargin": true,
           "gridcolor": "white",
           "linecolor": "white",
           "ticks": "",
           "title": {
            "standoff": 15
           },
           "zerolinecolor": "white",
           "zerolinewidth": 2
          },
          "yaxis": {
           "automargin": true,
           "gridcolor": "white",
           "linecolor": "white",
           "ticks": "",
           "title": {
            "standoff": 15
           },
           "zerolinecolor": "white",
           "zerolinewidth": 2
          }
         }
        },
        "title": {
         "text": "Visualizing Clusters in Two Dimensions Using PCA"
        },
        "xaxis": {
         "ticklen": 5,
         "title": {
          "text": "PC1"
         },
         "zeroline": false
        },
        "yaxis": {
         "ticklen": 5,
         "title": {
          "text": "PC2"
         },
         "zeroline": false
        }
       }
      },
      "text/html": [
       "<div>                            <div id=\"1feae73b-180f-40b1-847f-abcf880d24f2\" class=\"plotly-graph-div\" style=\"height:525px; width:100%;\"></div>            <script type=\"text/javascript\">                require([\"plotly\"], function(Plotly) {                    window.PLOTLYENV=window.PLOTLYENV || {};                                    if (document.getElementById(\"1feae73b-180f-40b1-847f-abcf880d24f2\")) {                    Plotly.newPlot(                        \"1feae73b-180f-40b1-847f-abcf880d24f2\",                        [{\"marker\":{\"color\":\"rgba(255, 128, 255, 0.8)\"},\"mode\":\"markers\",\"name\":\"Cluster 0\",\"x\":[-0.03935618769496996,0.15262039159294521],\"y\":[0.7465452660711566,0.48712544237216426],\"type\":\"scatter\"},{\"marker\":{\"color\":\"rgba(255, 128, 2, 0.8)\"},\"mode\":\"markers\",\"name\":\"Cluster 1\",\"x\":[-0.11971312530012981,-0.3972623077939996,-0.13888122003036493,-0.06352964877373483,0.10227451780730833,-0.5528356790464748,-0.29815685761662203,-0.3999146144782051,-0.45979944406496714,-0.214639369964421,-0.011758632874117207,-0.11424312271234965,-0.19833853230449966,-0.1762804221968812,-0.362393361578296,-0.2680109499755354],\"y\":[0.3790431466872036,-0.0028718212766930917,0.14411478357806665,-0.1126766197017394,-0.09379048513031467,-0.028509108789949316,0.06311173098454725,0.18041992482293534,-0.054334647197179245,0.11589971043777737,0.02640113082773599,0.045865139668696216,0.049374935314795164,-0.1416362786800227,0.34686920538510657,0.03940533143174142],\"type\":\"scatter\"},{\"marker\":{\"color\":\"rgba(0, 255, 200, 0.8)\"},\"mode\":\"markers\",\"name\":\"Cluster 2\",\"x\":[0.40092550185337533,0.18478691457054353,0.23489517366680768,0.19848403344954163,0.1841306441221843,0.3473111224222567,0.1731873966202282,0.29286108797646165,0.08758716599529046,0.3739202145431162,0.4080388064330847,0.4974084929109766,0.4648671513893237,0.3105766019267525,0.23300822940112942,0.17298544869215832,0.5961687077702613],\"y\":[0.08637671968022688,-0.06968759347393012,0.008488988177291438,0.29721401336091824,-0.1069862710075179,0.07065622146204466,0.0747009847918163,-0.110184007973978,-0.023190207794859318,-0.2310888001946307,-0.34411456299434473,-0.013300917086531838,-0.2059032869885154,-0.04280674279680613,-0.20774814837779554,-0.06546753989666491,-0.11672551257353718],\"type\":\"scatter\"},{\"marker\":{\"color\":\"rgba(0, 255, 200, 0.8)\"},\"mode\":\"markers\",\"name\":\"Cluster 3\",\"x\":[-0.5357785892771905,-0.5439192781731045,-0.5212262592878829],\"y\":[-0.2466144859232943,-0.2141167721649281,-0.7298588650309891],\"type\":\"scatter\"},{\"marker\":{\"color\":\"rgba(0, 255, 200, 0.8)\"},\"mode\":\"markers\",\"name\":\"Cluster 4\",\"x\":[],\"y\":[],\"type\":\"scatter\"}],                        {\"template\":{\"data\":{\"barpolar\":[{\"marker\":{\"line\":{\"color\":\"#E5ECF6\",\"width\":0.5},\"pattern\":{\"fillmode\":\"overlay\",\"size\":10,\"solidity\":0.2}},\"type\":\"barpolar\"}],\"bar\":[{\"error_x\":{\"color\":\"#2a3f5f\"},\"error_y\":{\"color\":\"#2a3f5f\"},\"marker\":{\"line\":{\"color\":\"#E5ECF6\",\"width\":0.5},\"pattern\":{\"fillmode\":\"overlay\",\"size\":10,\"solidity\":0.2}},\"type\":\"bar\"}],\"carpet\":[{\"aaxis\":{\"endlinecolor\":\"#2a3f5f\",\"gridcolor\":\"white\",\"linecolor\":\"white\",\"minorgridcolor\":\"white\",\"startlinecolor\":\"#2a3f5f\"},\"baxis\":{\"endlinecolor\":\"#2a3f5f\",\"gridcolor\":\"white\",\"linecolor\":\"white\",\"minorgridcolor\":\"white\",\"startlinecolor\":\"#2a3f5f\"},\"type\":\"carpet\"}],\"choropleth\":[{\"colorbar\":{\"outlinewidth\":0,\"ticks\":\"\"},\"type\":\"choropleth\"}],\"contourcarpet\":[{\"colorbar\":{\"outlinewidth\":0,\"ticks\":\"\"},\"type\":\"contourcarpet\"}],\"contour\":[{\"colorbar\":{\"outlinewidth\":0,\"ticks\":\"\"},\"colorscale\":[[0.0,\"#0d0887\"],[0.1111111111111111,\"#46039f\"],[0.2222222222222222,\"#7201a8\"],[0.3333333333333333,\"#9c179e\"],[0.4444444444444444,\"#bd3786\"],[0.5555555555555556,\"#d8576b\"],[0.6666666666666666,\"#ed7953\"],[0.7777777777777778,\"#fb9f3a\"],[0.8888888888888888,\"#fdca26\"],[1.0,\"#f0f921\"]],\"type\":\"contour\"}],\"heatmapgl\":[{\"colorbar\":{\"outlinewidth\":0,\"ticks\":\"\"},\"colorscale\":[[0.0,\"#0d0887\"],[0.1111111111111111,\"#46039f\"],[0.2222222222222222,\"#7201a8\"],[0.3333333333333333,\"#9c179e\"],[0.4444444444444444,\"#bd3786\"],[0.5555555555555556,\"#d8576b\"],[0.6666666666666666,\"#ed7953\"],[0.7777777777777778,\"#fb9f3a\"],[0.8888888888888888,\"#fdca26\"],[1.0,\"#f0f921\"]],\"type\":\"heatmapgl\"}],\"heatmap\":[{\"colorbar\":{\"outlinewidth\":0,\"ticks\":\"\"},\"colorscale\":[[0.0,\"#0d0887\"],[0.1111111111111111,\"#46039f\"],[0.2222222222222222,\"#7201a8\"],[0.3333333333333333,\"#9c179e\"],[0.4444444444444444,\"#bd3786\"],[0.5555555555555556,\"#d8576b\"],[0.6666666666666666,\"#ed7953\"],[0.7777777777777778,\"#fb9f3a\"],[0.8888888888888888,\"#fdca26\"],[1.0,\"#f0f921\"]],\"type\":\"heatmap\"}],\"histogram2dcontour\":[{\"colorbar\":{\"outlinewidth\":0,\"ticks\":\"\"},\"colorscale\":[[0.0,\"#0d0887\"],[0.1111111111111111,\"#46039f\"],[0.2222222222222222,\"#7201a8\"],[0.3333333333333333,\"#9c179e\"],[0.4444444444444444,\"#bd3786\"],[0.5555555555555556,\"#d8576b\"],[0.6666666666666666,\"#ed7953\"],[0.7777777777777778,\"#fb9f3a\"],[0.8888888888888888,\"#fdca26\"],[1.0,\"#f0f921\"]],\"type\":\"histogram2dcontour\"}],\"histogram2d\":[{\"colorbar\":{\"outlinewidth\":0,\"ticks\":\"\"},\"colorscale\":[[0.0,\"#0d0887\"],[0.1111111111111111,\"#46039f\"],[0.2222222222222222,\"#7201a8\"],[0.3333333333333333,\"#9c179e\"],[0.4444444444444444,\"#bd3786\"],[0.5555555555555556,\"#d8576b\"],[0.6666666666666666,\"#ed7953\"],[0.7777777777777778,\"#fb9f3a\"],[0.8888888888888888,\"#fdca26\"],[1.0,\"#f0f921\"]],\"type\":\"histogram2d\"}],\"histogram\":[{\"marker\":{\"pattern\":{\"fillmode\":\"overlay\",\"size\":10,\"solidity\":0.2}},\"type\":\"histogram\"}],\"mesh3d\":[{\"colorbar\":{\"outlinewidth\":0,\"ticks\":\"\"},\"type\":\"mesh3d\"}],\"parcoords\":[{\"line\":{\"colorbar\":{\"outlinewidth\":0,\"ticks\":\"\"}},\"type\":\"parcoords\"}],\"pie\":[{\"automargin\":true,\"type\":\"pie\"}],\"scatter3d\":[{\"line\":{\"colorbar\":{\"outlinewidth\":0,\"ticks\":\"\"}},\"marker\":{\"colorbar\":{\"outlinewidth\":0,\"ticks\":\"\"}},\"type\":\"scatter3d\"}],\"scattercarpet\":[{\"marker\":{\"colorbar\":{\"outlinewidth\":0,\"ticks\":\"\"}},\"type\":\"scattercarpet\"}],\"scattergeo\":[{\"marker\":{\"colorbar\":{\"outlinewidth\":0,\"ticks\":\"\"}},\"type\":\"scattergeo\"}],\"scattergl\":[{\"marker\":{\"colorbar\":{\"outlinewidth\":0,\"ticks\":\"\"}},\"type\":\"scattergl\"}],\"scattermapbox\":[{\"marker\":{\"colorbar\":{\"outlinewidth\":0,\"ticks\":\"\"}},\"type\":\"scattermapbox\"}],\"scatterpolargl\":[{\"marker\":{\"colorbar\":{\"outlinewidth\":0,\"ticks\":\"\"}},\"type\":\"scatterpolargl\"}],\"scatterpolar\":[{\"marker\":{\"colorbar\":{\"outlinewidth\":0,\"ticks\":\"\"}},\"type\":\"scatterpolar\"}],\"scatter\":[{\"marker\":{\"colorbar\":{\"outlinewidth\":0,\"ticks\":\"\"}},\"type\":\"scatter\"}],\"scatterternary\":[{\"marker\":{\"colorbar\":{\"outlinewidth\":0,\"ticks\":\"\"}},\"type\":\"scatterternary\"}],\"surface\":[{\"colorbar\":{\"outlinewidth\":0,\"ticks\":\"\"},\"colorscale\":[[0.0,\"#0d0887\"],[0.1111111111111111,\"#46039f\"],[0.2222222222222222,\"#7201a8\"],[0.3333333333333333,\"#9c179e\"],[0.4444444444444444,\"#bd3786\"],[0.5555555555555556,\"#d8576b\"],[0.6666666666666666,\"#ed7953\"],[0.7777777777777778,\"#fb9f3a\"],[0.8888888888888888,\"#fdca26\"],[1.0,\"#f0f921\"]],\"type\":\"surface\"}],\"table\":[{\"cells\":{\"fill\":{\"color\":\"#EBF0F8\"},\"line\":{\"color\":\"white\"}},\"header\":{\"fill\":{\"color\":\"#C8D4E3\"},\"line\":{\"color\":\"white\"}},\"type\":\"table\"}]},\"layout\":{\"annotationdefaults\":{\"arrowcolor\":\"#2a3f5f\",\"arrowhead\":0,\"arrowwidth\":1},\"autotypenumbers\":\"strict\",\"coloraxis\":{\"colorbar\":{\"outlinewidth\":0,\"ticks\":\"\"}},\"colorscale\":{\"diverging\":[[0,\"#8e0152\"],[0.1,\"#c51b7d\"],[0.2,\"#de77ae\"],[0.3,\"#f1b6da\"],[0.4,\"#fde0ef\"],[0.5,\"#f7f7f7\"],[0.6,\"#e6f5d0\"],[0.7,\"#b8e186\"],[0.8,\"#7fbc41\"],[0.9,\"#4d9221\"],[1,\"#276419\"]],\"sequential\":[[0.0,\"#0d0887\"],[0.1111111111111111,\"#46039f\"],[0.2222222222222222,\"#7201a8\"],[0.3333333333333333,\"#9c179e\"],[0.4444444444444444,\"#bd3786\"],[0.5555555555555556,\"#d8576b\"],[0.6666666666666666,\"#ed7953\"],[0.7777777777777778,\"#fb9f3a\"],[0.8888888888888888,\"#fdca26\"],[1.0,\"#f0f921\"]],\"sequentialminus\":[[0.0,\"#0d0887\"],[0.1111111111111111,\"#46039f\"],[0.2222222222222222,\"#7201a8\"],[0.3333333333333333,\"#9c179e\"],[0.4444444444444444,\"#bd3786\"],[0.5555555555555556,\"#d8576b\"],[0.6666666666666666,\"#ed7953\"],[0.7777777777777778,\"#fb9f3a\"],[0.8888888888888888,\"#fdca26\"],[1.0,\"#f0f921\"]]},\"colorway\":[\"#636efa\",\"#EF553B\",\"#00cc96\",\"#ab63fa\",\"#FFA15A\",\"#19d3f3\",\"#FF6692\",\"#B6E880\",\"#FF97FF\",\"#FECB52\"],\"font\":{\"color\":\"#2a3f5f\"},\"geo\":{\"bgcolor\":\"white\",\"lakecolor\":\"white\",\"landcolor\":\"#E5ECF6\",\"showlakes\":true,\"showland\":true,\"subunitcolor\":\"white\"},\"hoverlabel\":{\"align\":\"left\"},\"hovermode\":\"closest\",\"mapbox\":{\"style\":\"light\"},\"paper_bgcolor\":\"white\",\"plot_bgcolor\":\"#E5ECF6\",\"polar\":{\"angularaxis\":{\"gridcolor\":\"white\",\"linecolor\":\"white\",\"ticks\":\"\"},\"bgcolor\":\"#E5ECF6\",\"radialaxis\":{\"gridcolor\":\"white\",\"linecolor\":\"white\",\"ticks\":\"\"}},\"scene\":{\"xaxis\":{\"backgroundcolor\":\"#E5ECF6\",\"gridcolor\":\"white\",\"gridwidth\":2,\"linecolor\":\"white\",\"showbackground\":true,\"ticks\":\"\",\"zerolinecolor\":\"white\"},\"yaxis\":{\"backgroundcolor\":\"#E5ECF6\",\"gridcolor\":\"white\",\"gridwidth\":2,\"linecolor\":\"white\",\"showbackground\":true,\"ticks\":\"\",\"zerolinecolor\":\"white\"},\"zaxis\":{\"backgroundcolor\":\"#E5ECF6\",\"gridcolor\":\"white\",\"gridwidth\":2,\"linecolor\":\"white\",\"showbackground\":true,\"ticks\":\"\",\"zerolinecolor\":\"white\"}},\"shapedefaults\":{\"line\":{\"color\":\"#2a3f5f\"}},\"ternary\":{\"aaxis\":{\"gridcolor\":\"white\",\"linecolor\":\"white\",\"ticks\":\"\"},\"baxis\":{\"gridcolor\":\"white\",\"linecolor\":\"white\",\"ticks\":\"\"},\"bgcolor\":\"#E5ECF6\",\"caxis\":{\"gridcolor\":\"white\",\"linecolor\":\"white\",\"ticks\":\"\"}},\"title\":{\"x\":0.05},\"xaxis\":{\"automargin\":true,\"gridcolor\":\"white\",\"linecolor\":\"white\",\"ticks\":\"\",\"title\":{\"standoff\":15},\"zerolinecolor\":\"white\",\"zerolinewidth\":2},\"yaxis\":{\"automargin\":true,\"gridcolor\":\"white\",\"linecolor\":\"white\",\"ticks\":\"\",\"title\":{\"standoff\":15},\"zerolinecolor\":\"white\",\"zerolinewidth\":2}}},\"title\":{\"text\":\"Visualizing Clusters in Two Dimensions Using PCA\"},\"xaxis\":{\"ticklen\":5,\"title\":{\"text\":\"PC1\"},\"zeroline\":false},\"yaxis\":{\"ticklen\":5,\"title\":{\"text\":\"PC2\"},\"zeroline\":false}},                        {\"responsive\": true}                    ).then(function(){\n",
       "                            \n",
       "var gd = document.getElementById('1feae73b-180f-40b1-847f-abcf880d24f2');\n",
       "var x = new MutationObserver(function (mutations, observer) {{\n",
       "        var display = window.getComputedStyle(gd).display;\n",
       "        if (!display || display === 'none') {{\n",
       "            console.log([gd, 'removed!']);\n",
       "            Plotly.purge(gd);\n",
       "            observer.disconnect();\n",
       "        }}\n",
       "}});\n",
       "\n",
       "// Listen for the removal of the full notebook cells\n",
       "var notebookContainer = gd.closest('#notebook-container');\n",
       "if (notebookContainer) {{\n",
       "    x.observe(notebookContainer, {childList: true});\n",
       "}}\n",
       "\n",
       "// Listen for the clearing of the current output cell\n",
       "var outputEl = gd.closest('.output');\n",
       "if (outputEl) {{\n",
       "    x.observe(outputEl, {childList: true});\n",
       "}}\n",
       "\n",
       "                        })                };                });            </script>        </div>"
      ]
     },
     "metadata": {},
     "output_type": "display_data"
    }
   ],
   "source": [
    "#Instructions for building the 2-D plot\n",
    "\n",
    "#trace1 is for 'Cluster 0'\n",
    "trace1 = go.Scatter(\n",
    "                    x = cluster0[\"PC1_2d\"],\n",
    "                    y = cluster0[\"PC2_2d\"],\n",
    "                    mode = \"markers\",\n",
    "                    name = \"Cluster 0\",\n",
    "                    marker = dict(color = 'rgba(255, 128, 255, 0.8)'),\n",
    "                    text = None)\n",
    "\n",
    "#trace2 is for 'Cluster 1'\n",
    "trace2 = go.Scatter(\n",
    "                    x = cluster1[\"PC1_2d\"],\n",
    "                    y = cluster1[\"PC2_2d\"],\n",
    "                    mode = \"markers\",\n",
    "                    name = \"Cluster 1\",\n",
    "                    marker = dict(color = 'rgba(255, 128, 2, 0.8)'),\n",
    "                    text = None)\n",
    "\n",
    "#trace3 is for 'Cluster 2'\n",
    "trace3 = go.Scatter(\n",
    "                    x = cluster2[\"PC1_2d\"],\n",
    "                    y = cluster2[\"PC2_2d\"],\n",
    "                    mode = \"markers\",\n",
    "                    name = \"Cluster 2\",\n",
    "                    marker = dict(color = 'rgba(0, 255, 200, 0.8)'),\n",
    "                    text = None)\n",
    "\n",
    "#trace3 is for 'Cluster 3'\n",
    "trace4 = go.Scatter(\n",
    "                    x = cluster3[\"PC1_2d\"],\n",
    "                    y = cluster3[\"PC2_2d\"],\n",
    "                    mode = \"markers\",\n",
    "                    name = \"Cluster 3\",\n",
    "                    marker = dict(color = 'rgba(0, 255, 200, 0.8)'),\n",
    "                    text = None)\n",
    "\n",
    "#trace3 is for 'Cluster 4'\n",
    "trace5 = go.Scatter(\n",
    "                    x = cluster4[\"PC1_2d\"],\n",
    "                    y = cluster4[\"PC2_2d\"],\n",
    "                    mode = \"markers\",\n",
    "                    name = \"Cluster 4\",\n",
    "                    marker = dict(color = 'rgba(0, 255, 200, 0.8)'),\n",
    "                    text = None)\n",
    "\n",
    "data = [trace1, trace2, trace3, trace4, trace5]\n",
    "\n",
    "title = \"Visualizing Clusters in Two Dimensions Using PCA\"\n",
    "\n",
    "layout = dict(title = title,\n",
    "              xaxis= dict(title= 'PC1',ticklen= 5,zeroline= False),\n",
    "              yaxis= dict(title= 'PC2',ticklen= 5,zeroline= False)\n",
    "             )\n",
    "\n",
    "fig = dict(data = data, layout = layout)\n",
    "\n",
    "iplot(fig)"
   ]
  },
  {
   "cell_type": "code",
   "execution_count": 429,
   "metadata": {},
   "outputs": [
    {
     "data": {
      "application/vnd.plotly.v1+json": {
       "config": {
        "linkText": "Export to plot.ly",
        "plotlyServerURL": "https://plot.ly",
        "showLink": false
       },
       "data": [
        {
         "marker": {
          "color": "rgba(255, 128, 255, 0.8)"
         },
         "mode": "markers",
         "name": "Cluster 0",
         "type": "scatter3d",
         "x": [
          -0.03935618769496996,
          0.15262039159294521
         ],
         "y": [
          0.7465452660711566,
          0.48712544237216426
         ],
         "z": [
          0.17007920565103118,
          0.4532921458570997
         ]
        },
        {
         "marker": {
          "color": "rgba(255, 128, 2, 0.8)"
         },
         "mode": "markers",
         "name": "Cluster 1",
         "type": "scatter3d",
         "x": [
          -0.11971312530012981,
          -0.3972623077939996,
          -0.13888122003036493,
          -0.06352964877373483,
          0.10227451780730833,
          -0.5528356790464748,
          -0.29815685761662203,
          -0.3999146144782051,
          -0.45979944406496714,
          -0.214639369964421,
          -0.011758632874117207,
          -0.11424312271234965,
          -0.19833853230449966,
          -0.1762804221968812,
          -0.362393361578296,
          -0.2680109499755354
         ],
         "y": [
          0.3790431466872036,
          -0.0028718212766930917,
          0.14411478357806665,
          -0.1126766197017394,
          -0.09379048513031467,
          -0.028509108789949316,
          0.06311173098454725,
          0.18041992482293534,
          -0.054334647197179245,
          0.11589971043777737,
          0.02640113082773599,
          0.045865139668696216,
          0.049374935314795164,
          -0.1416362786800227,
          0.34686920538510657,
          0.03940533143174142
         ],
         "z": [
          0.007012367208201098,
          -0.07322901552121609,
          0.1754341330082529,
          -0.03428808395321083,
          -0.529690163303677,
          -0.10550099963526706,
          -0.16901154107582653,
          -0.16088172044228058,
          -0.1551526348602045,
          -0.23648371428550818,
          -0.13296639813397498,
          -0.1256412602159474,
          -0.14371231664983752,
          -0.38408163057085687,
          0.08431824721069793,
          -0.09661221136797796
         ]
        },
        {
         "marker": {
          "color": "rgba(0, 255, 200, 0.8)"
         },
         "mode": "markers",
         "name": "Cluster 2",
         "type": "scatter3d",
         "x": [
          0.40092550185337533,
          0.18478691457054353,
          0.23489517366680768,
          0.19848403344954163,
          0.1841306441221843,
          0.3473111224222567,
          0.1731873966202282,
          0.29286108797646165,
          0.08758716599529046,
          0.3739202145431162,
          0.4080388064330847,
          0.4974084929109766,
          0.4648671513893237,
          0.3105766019267525,
          0.23300822940112942,
          0.17298544869215832,
          0.5961687077702613
         ],
         "y": [
          0.08637671968022688,
          -0.06968759347393012,
          0.008488988177291438,
          0.29721401336091824,
          -0.1069862710075179,
          0.07065622146204466,
          0.0747009847918163,
          -0.110184007973978,
          -0.023190207794859318,
          -0.2310888001946307,
          -0.34411456299434473,
          -0.013300917086531838,
          -0.2059032869885154,
          -0.04280674279680613,
          -0.20774814837779554,
          -0.06546753989666491,
          -0.11672551257353718
         ],
         "z": [
          -0.059902354542212446,
          -0.029702374999257174,
          0.13476795901412275,
          -0.02053206522403956,
          0.1204325589897398,
          -0.10031184037065287,
          0.09201734302868017,
          -0.07988759797611124,
          -0.12468724016675836,
          0.1430733109452493,
          0.05173292438588907,
          0.09149576476403956,
          -0.21918325981941103,
          -0.13863239526352403,
          0.4893266774246405,
          -0.17054022465612825,
          0.2133662375902593
         ]
        },
        {
         "marker": {
          "color": "rgba(0, 255, 200, 0.8)"
         },
         "mode": "markers",
         "name": "Cluster 3",
         "type": "scatter3d",
         "x": [
          -0.5357785892771905,
          -0.5439192781731045,
          -0.5212262592878829
         ],
         "y": [
          -0.2466144859232943,
          -0.2141167721649281,
          -0.7298588650309891
         ],
         "z": [
          0.6394807410235954,
          0.30314978417769084,
          0.12165164275468962
         ]
        },
        {
         "marker": {
          "color": "rgba(0, 255, 200, 0.8)"
         },
         "mode": "markers",
         "name": "Cluster 4",
         "type": "scatter3d",
         "x": [],
         "y": [],
         "z": []
        }
       ],
       "layout": {
        "template": {
         "data": {
          "bar": [
           {
            "error_x": {
             "color": "#2a3f5f"
            },
            "error_y": {
             "color": "#2a3f5f"
            },
            "marker": {
             "line": {
              "color": "#E5ECF6",
              "width": 0.5
             },
             "pattern": {
              "fillmode": "overlay",
              "size": 10,
              "solidity": 0.2
             }
            },
            "type": "bar"
           }
          ],
          "barpolar": [
           {
            "marker": {
             "line": {
              "color": "#E5ECF6",
              "width": 0.5
             },
             "pattern": {
              "fillmode": "overlay",
              "size": 10,
              "solidity": 0.2
             }
            },
            "type": "barpolar"
           }
          ],
          "carpet": [
           {
            "aaxis": {
             "endlinecolor": "#2a3f5f",
             "gridcolor": "white",
             "linecolor": "white",
             "minorgridcolor": "white",
             "startlinecolor": "#2a3f5f"
            },
            "baxis": {
             "endlinecolor": "#2a3f5f",
             "gridcolor": "white",
             "linecolor": "white",
             "minorgridcolor": "white",
             "startlinecolor": "#2a3f5f"
            },
            "type": "carpet"
           }
          ],
          "choropleth": [
           {
            "colorbar": {
             "outlinewidth": 0,
             "ticks": ""
            },
            "type": "choropleth"
           }
          ],
          "contour": [
           {
            "colorbar": {
             "outlinewidth": 0,
             "ticks": ""
            },
            "colorscale": [
             [
              0,
              "#0d0887"
             ],
             [
              0.1111111111111111,
              "#46039f"
             ],
             [
              0.2222222222222222,
              "#7201a8"
             ],
             [
              0.3333333333333333,
              "#9c179e"
             ],
             [
              0.4444444444444444,
              "#bd3786"
             ],
             [
              0.5555555555555556,
              "#d8576b"
             ],
             [
              0.6666666666666666,
              "#ed7953"
             ],
             [
              0.7777777777777778,
              "#fb9f3a"
             ],
             [
              0.8888888888888888,
              "#fdca26"
             ],
             [
              1,
              "#f0f921"
             ]
            ],
            "type": "contour"
           }
          ],
          "contourcarpet": [
           {
            "colorbar": {
             "outlinewidth": 0,
             "ticks": ""
            },
            "type": "contourcarpet"
           }
          ],
          "heatmap": [
           {
            "colorbar": {
             "outlinewidth": 0,
             "ticks": ""
            },
            "colorscale": [
             [
              0,
              "#0d0887"
             ],
             [
              0.1111111111111111,
              "#46039f"
             ],
             [
              0.2222222222222222,
              "#7201a8"
             ],
             [
              0.3333333333333333,
              "#9c179e"
             ],
             [
              0.4444444444444444,
              "#bd3786"
             ],
             [
              0.5555555555555556,
              "#d8576b"
             ],
             [
              0.6666666666666666,
              "#ed7953"
             ],
             [
              0.7777777777777778,
              "#fb9f3a"
             ],
             [
              0.8888888888888888,
              "#fdca26"
             ],
             [
              1,
              "#f0f921"
             ]
            ],
            "type": "heatmap"
           }
          ],
          "heatmapgl": [
           {
            "colorbar": {
             "outlinewidth": 0,
             "ticks": ""
            },
            "colorscale": [
             [
              0,
              "#0d0887"
             ],
             [
              0.1111111111111111,
              "#46039f"
             ],
             [
              0.2222222222222222,
              "#7201a8"
             ],
             [
              0.3333333333333333,
              "#9c179e"
             ],
             [
              0.4444444444444444,
              "#bd3786"
             ],
             [
              0.5555555555555556,
              "#d8576b"
             ],
             [
              0.6666666666666666,
              "#ed7953"
             ],
             [
              0.7777777777777778,
              "#fb9f3a"
             ],
             [
              0.8888888888888888,
              "#fdca26"
             ],
             [
              1,
              "#f0f921"
             ]
            ],
            "type": "heatmapgl"
           }
          ],
          "histogram": [
           {
            "marker": {
             "pattern": {
              "fillmode": "overlay",
              "size": 10,
              "solidity": 0.2
             }
            },
            "type": "histogram"
           }
          ],
          "histogram2d": [
           {
            "colorbar": {
             "outlinewidth": 0,
             "ticks": ""
            },
            "colorscale": [
             [
              0,
              "#0d0887"
             ],
             [
              0.1111111111111111,
              "#46039f"
             ],
             [
              0.2222222222222222,
              "#7201a8"
             ],
             [
              0.3333333333333333,
              "#9c179e"
             ],
             [
              0.4444444444444444,
              "#bd3786"
             ],
             [
              0.5555555555555556,
              "#d8576b"
             ],
             [
              0.6666666666666666,
              "#ed7953"
             ],
             [
              0.7777777777777778,
              "#fb9f3a"
             ],
             [
              0.8888888888888888,
              "#fdca26"
             ],
             [
              1,
              "#f0f921"
             ]
            ],
            "type": "histogram2d"
           }
          ],
          "histogram2dcontour": [
           {
            "colorbar": {
             "outlinewidth": 0,
             "ticks": ""
            },
            "colorscale": [
             [
              0,
              "#0d0887"
             ],
             [
              0.1111111111111111,
              "#46039f"
             ],
             [
              0.2222222222222222,
              "#7201a8"
             ],
             [
              0.3333333333333333,
              "#9c179e"
             ],
             [
              0.4444444444444444,
              "#bd3786"
             ],
             [
              0.5555555555555556,
              "#d8576b"
             ],
             [
              0.6666666666666666,
              "#ed7953"
             ],
             [
              0.7777777777777778,
              "#fb9f3a"
             ],
             [
              0.8888888888888888,
              "#fdca26"
             ],
             [
              1,
              "#f0f921"
             ]
            ],
            "type": "histogram2dcontour"
           }
          ],
          "mesh3d": [
           {
            "colorbar": {
             "outlinewidth": 0,
             "ticks": ""
            },
            "type": "mesh3d"
           }
          ],
          "parcoords": [
           {
            "line": {
             "colorbar": {
              "outlinewidth": 0,
              "ticks": ""
             }
            },
            "type": "parcoords"
           }
          ],
          "pie": [
           {
            "automargin": true,
            "type": "pie"
           }
          ],
          "scatter": [
           {
            "marker": {
             "colorbar": {
              "outlinewidth": 0,
              "ticks": ""
             }
            },
            "type": "scatter"
           }
          ],
          "scatter3d": [
           {
            "line": {
             "colorbar": {
              "outlinewidth": 0,
              "ticks": ""
             }
            },
            "marker": {
             "colorbar": {
              "outlinewidth": 0,
              "ticks": ""
             }
            },
            "type": "scatter3d"
           }
          ],
          "scattercarpet": [
           {
            "marker": {
             "colorbar": {
              "outlinewidth": 0,
              "ticks": ""
             }
            },
            "type": "scattercarpet"
           }
          ],
          "scattergeo": [
           {
            "marker": {
             "colorbar": {
              "outlinewidth": 0,
              "ticks": ""
             }
            },
            "type": "scattergeo"
           }
          ],
          "scattergl": [
           {
            "marker": {
             "colorbar": {
              "outlinewidth": 0,
              "ticks": ""
             }
            },
            "type": "scattergl"
           }
          ],
          "scattermapbox": [
           {
            "marker": {
             "colorbar": {
              "outlinewidth": 0,
              "ticks": ""
             }
            },
            "type": "scattermapbox"
           }
          ],
          "scatterpolar": [
           {
            "marker": {
             "colorbar": {
              "outlinewidth": 0,
              "ticks": ""
             }
            },
            "type": "scatterpolar"
           }
          ],
          "scatterpolargl": [
           {
            "marker": {
             "colorbar": {
              "outlinewidth": 0,
              "ticks": ""
             }
            },
            "type": "scatterpolargl"
           }
          ],
          "scatterternary": [
           {
            "marker": {
             "colorbar": {
              "outlinewidth": 0,
              "ticks": ""
             }
            },
            "type": "scatterternary"
           }
          ],
          "surface": [
           {
            "colorbar": {
             "outlinewidth": 0,
             "ticks": ""
            },
            "colorscale": [
             [
              0,
              "#0d0887"
             ],
             [
              0.1111111111111111,
              "#46039f"
             ],
             [
              0.2222222222222222,
              "#7201a8"
             ],
             [
              0.3333333333333333,
              "#9c179e"
             ],
             [
              0.4444444444444444,
              "#bd3786"
             ],
             [
              0.5555555555555556,
              "#d8576b"
             ],
             [
              0.6666666666666666,
              "#ed7953"
             ],
             [
              0.7777777777777778,
              "#fb9f3a"
             ],
             [
              0.8888888888888888,
              "#fdca26"
             ],
             [
              1,
              "#f0f921"
             ]
            ],
            "type": "surface"
           }
          ],
          "table": [
           {
            "cells": {
             "fill": {
              "color": "#EBF0F8"
             },
             "line": {
              "color": "white"
             }
            },
            "header": {
             "fill": {
              "color": "#C8D4E3"
             },
             "line": {
              "color": "white"
             }
            },
            "type": "table"
           }
          ]
         },
         "layout": {
          "annotationdefaults": {
           "arrowcolor": "#2a3f5f",
           "arrowhead": 0,
           "arrowwidth": 1
          },
          "autotypenumbers": "strict",
          "coloraxis": {
           "colorbar": {
            "outlinewidth": 0,
            "ticks": ""
           }
          },
          "colorscale": {
           "diverging": [
            [
             0,
             "#8e0152"
            ],
            [
             0.1,
             "#c51b7d"
            ],
            [
             0.2,
             "#de77ae"
            ],
            [
             0.3,
             "#f1b6da"
            ],
            [
             0.4,
             "#fde0ef"
            ],
            [
             0.5,
             "#f7f7f7"
            ],
            [
             0.6,
             "#e6f5d0"
            ],
            [
             0.7,
             "#b8e186"
            ],
            [
             0.8,
             "#7fbc41"
            ],
            [
             0.9,
             "#4d9221"
            ],
            [
             1,
             "#276419"
            ]
           ],
           "sequential": [
            [
             0,
             "#0d0887"
            ],
            [
             0.1111111111111111,
             "#46039f"
            ],
            [
             0.2222222222222222,
             "#7201a8"
            ],
            [
             0.3333333333333333,
             "#9c179e"
            ],
            [
             0.4444444444444444,
             "#bd3786"
            ],
            [
             0.5555555555555556,
             "#d8576b"
            ],
            [
             0.6666666666666666,
             "#ed7953"
            ],
            [
             0.7777777777777778,
             "#fb9f3a"
            ],
            [
             0.8888888888888888,
             "#fdca26"
            ],
            [
             1,
             "#f0f921"
            ]
           ],
           "sequentialminus": [
            [
             0,
             "#0d0887"
            ],
            [
             0.1111111111111111,
             "#46039f"
            ],
            [
             0.2222222222222222,
             "#7201a8"
            ],
            [
             0.3333333333333333,
             "#9c179e"
            ],
            [
             0.4444444444444444,
             "#bd3786"
            ],
            [
             0.5555555555555556,
             "#d8576b"
            ],
            [
             0.6666666666666666,
             "#ed7953"
            ],
            [
             0.7777777777777778,
             "#fb9f3a"
            ],
            [
             0.8888888888888888,
             "#fdca26"
            ],
            [
             1,
             "#f0f921"
            ]
           ]
          },
          "colorway": [
           "#636efa",
           "#EF553B",
           "#00cc96",
           "#ab63fa",
           "#FFA15A",
           "#19d3f3",
           "#FF6692",
           "#B6E880",
           "#FF97FF",
           "#FECB52"
          ],
          "font": {
           "color": "#2a3f5f"
          },
          "geo": {
           "bgcolor": "white",
           "lakecolor": "white",
           "landcolor": "#E5ECF6",
           "showlakes": true,
           "showland": true,
           "subunitcolor": "white"
          },
          "hoverlabel": {
           "align": "left"
          },
          "hovermode": "closest",
          "mapbox": {
           "style": "light"
          },
          "paper_bgcolor": "white",
          "plot_bgcolor": "#E5ECF6",
          "polar": {
           "angularaxis": {
            "gridcolor": "white",
            "linecolor": "white",
            "ticks": ""
           },
           "bgcolor": "#E5ECF6",
           "radialaxis": {
            "gridcolor": "white",
            "linecolor": "white",
            "ticks": ""
           }
          },
          "scene": {
           "xaxis": {
            "backgroundcolor": "#E5ECF6",
            "gridcolor": "white",
            "gridwidth": 2,
            "linecolor": "white",
            "showbackground": true,
            "ticks": "",
            "zerolinecolor": "white"
           },
           "yaxis": {
            "backgroundcolor": "#E5ECF6",
            "gridcolor": "white",
            "gridwidth": 2,
            "linecolor": "white",
            "showbackground": true,
            "ticks": "",
            "zerolinecolor": "white"
           },
           "zaxis": {
            "backgroundcolor": "#E5ECF6",
            "gridcolor": "white",
            "gridwidth": 2,
            "linecolor": "white",
            "showbackground": true,
            "ticks": "",
            "zerolinecolor": "white"
           }
          },
          "shapedefaults": {
           "line": {
            "color": "#2a3f5f"
           }
          },
          "ternary": {
           "aaxis": {
            "gridcolor": "white",
            "linecolor": "white",
            "ticks": ""
           },
           "baxis": {
            "gridcolor": "white",
            "linecolor": "white",
            "ticks": ""
           },
           "bgcolor": "#E5ECF6",
           "caxis": {
            "gridcolor": "white",
            "linecolor": "white",
            "ticks": ""
           }
          },
          "title": {
           "x": 0.05
          },
          "xaxis": {
           "automargin": true,
           "gridcolor": "white",
           "linecolor": "white",
           "ticks": "",
           "title": {
            "standoff": 15
           },
           "zerolinecolor": "white",
           "zerolinewidth": 2
          },
          "yaxis": {
           "automargin": true,
           "gridcolor": "white",
           "linecolor": "white",
           "ticks": "",
           "title": {
            "standoff": 15
           },
           "zerolinecolor": "white",
           "zerolinewidth": 2
          }
         }
        },
        "title": {
         "text": "Visualizing Clusters in Three Dimensions Using PCA"
        },
        "xaxis": {
         "ticklen": 5,
         "title": {
          "text": "PC1"
         },
         "zeroline": false
        },
        "yaxis": {
         "ticklen": 5,
         "title": {
          "text": "PC2"
         },
         "zeroline": false
        }
       }
      },
      "text/html": [
       "<div>                            <div id=\"e99931d7-f085-4c95-9920-bfb32813895c\" class=\"plotly-graph-div\" style=\"height:525px; width:100%;\"></div>            <script type=\"text/javascript\">                require([\"plotly\"], function(Plotly) {                    window.PLOTLYENV=window.PLOTLYENV || {};                                    if (document.getElementById(\"e99931d7-f085-4c95-9920-bfb32813895c\")) {                    Plotly.newPlot(                        \"e99931d7-f085-4c95-9920-bfb32813895c\",                        [{\"marker\":{\"color\":\"rgba(255, 128, 255, 0.8)\"},\"mode\":\"markers\",\"name\":\"Cluster 0\",\"x\":[-0.03935618769496996,0.15262039159294521],\"y\":[0.7465452660711566,0.48712544237216426],\"z\":[0.17007920565103118,0.4532921458570997],\"type\":\"scatter3d\"},{\"marker\":{\"color\":\"rgba(255, 128, 2, 0.8)\"},\"mode\":\"markers\",\"name\":\"Cluster 1\",\"x\":[-0.11971312530012981,-0.3972623077939996,-0.13888122003036493,-0.06352964877373483,0.10227451780730833,-0.5528356790464748,-0.29815685761662203,-0.3999146144782051,-0.45979944406496714,-0.214639369964421,-0.011758632874117207,-0.11424312271234965,-0.19833853230449966,-0.1762804221968812,-0.362393361578296,-0.2680109499755354],\"y\":[0.3790431466872036,-0.0028718212766930917,0.14411478357806665,-0.1126766197017394,-0.09379048513031467,-0.028509108789949316,0.06311173098454725,0.18041992482293534,-0.054334647197179245,0.11589971043777737,0.02640113082773599,0.045865139668696216,0.049374935314795164,-0.1416362786800227,0.34686920538510657,0.03940533143174142],\"z\":[0.007012367208201098,-0.07322901552121609,0.1754341330082529,-0.03428808395321083,-0.529690163303677,-0.10550099963526706,-0.16901154107582653,-0.16088172044228058,-0.1551526348602045,-0.23648371428550818,-0.13296639813397498,-0.1256412602159474,-0.14371231664983752,-0.38408163057085687,0.08431824721069793,-0.09661221136797796],\"type\":\"scatter3d\"},{\"marker\":{\"color\":\"rgba(0, 255, 200, 0.8)\"},\"mode\":\"markers\",\"name\":\"Cluster 2\",\"x\":[0.40092550185337533,0.18478691457054353,0.23489517366680768,0.19848403344954163,0.1841306441221843,0.3473111224222567,0.1731873966202282,0.29286108797646165,0.08758716599529046,0.3739202145431162,0.4080388064330847,0.4974084929109766,0.4648671513893237,0.3105766019267525,0.23300822940112942,0.17298544869215832,0.5961687077702613],\"y\":[0.08637671968022688,-0.06968759347393012,0.008488988177291438,0.29721401336091824,-0.1069862710075179,0.07065622146204466,0.0747009847918163,-0.110184007973978,-0.023190207794859318,-0.2310888001946307,-0.34411456299434473,-0.013300917086531838,-0.2059032869885154,-0.04280674279680613,-0.20774814837779554,-0.06546753989666491,-0.11672551257353718],\"z\":[-0.059902354542212446,-0.029702374999257174,0.13476795901412275,-0.02053206522403956,0.1204325589897398,-0.10031184037065287,0.09201734302868017,-0.07988759797611124,-0.12468724016675836,0.1430733109452493,0.05173292438588907,0.09149576476403956,-0.21918325981941103,-0.13863239526352403,0.4893266774246405,-0.17054022465612825,0.2133662375902593],\"type\":\"scatter3d\"},{\"marker\":{\"color\":\"rgba(0, 255, 200, 0.8)\"},\"mode\":\"markers\",\"name\":\"Cluster 3\",\"x\":[-0.5357785892771905,-0.5439192781731045,-0.5212262592878829],\"y\":[-0.2466144859232943,-0.2141167721649281,-0.7298588650309891],\"z\":[0.6394807410235954,0.30314978417769084,0.12165164275468962],\"type\":\"scatter3d\"},{\"marker\":{\"color\":\"rgba(0, 255, 200, 0.8)\"},\"mode\":\"markers\",\"name\":\"Cluster 4\",\"x\":[],\"y\":[],\"z\":[],\"type\":\"scatter3d\"}],                        {\"template\":{\"data\":{\"barpolar\":[{\"marker\":{\"line\":{\"color\":\"#E5ECF6\",\"width\":0.5},\"pattern\":{\"fillmode\":\"overlay\",\"size\":10,\"solidity\":0.2}},\"type\":\"barpolar\"}],\"bar\":[{\"error_x\":{\"color\":\"#2a3f5f\"},\"error_y\":{\"color\":\"#2a3f5f\"},\"marker\":{\"line\":{\"color\":\"#E5ECF6\",\"width\":0.5},\"pattern\":{\"fillmode\":\"overlay\",\"size\":10,\"solidity\":0.2}},\"type\":\"bar\"}],\"carpet\":[{\"aaxis\":{\"endlinecolor\":\"#2a3f5f\",\"gridcolor\":\"white\",\"linecolor\":\"white\",\"minorgridcolor\":\"white\",\"startlinecolor\":\"#2a3f5f\"},\"baxis\":{\"endlinecolor\":\"#2a3f5f\",\"gridcolor\":\"white\",\"linecolor\":\"white\",\"minorgridcolor\":\"white\",\"startlinecolor\":\"#2a3f5f\"},\"type\":\"carpet\"}],\"choropleth\":[{\"colorbar\":{\"outlinewidth\":0,\"ticks\":\"\"},\"type\":\"choropleth\"}],\"contourcarpet\":[{\"colorbar\":{\"outlinewidth\":0,\"ticks\":\"\"},\"type\":\"contourcarpet\"}],\"contour\":[{\"colorbar\":{\"outlinewidth\":0,\"ticks\":\"\"},\"colorscale\":[[0.0,\"#0d0887\"],[0.1111111111111111,\"#46039f\"],[0.2222222222222222,\"#7201a8\"],[0.3333333333333333,\"#9c179e\"],[0.4444444444444444,\"#bd3786\"],[0.5555555555555556,\"#d8576b\"],[0.6666666666666666,\"#ed7953\"],[0.7777777777777778,\"#fb9f3a\"],[0.8888888888888888,\"#fdca26\"],[1.0,\"#f0f921\"]],\"type\":\"contour\"}],\"heatmapgl\":[{\"colorbar\":{\"outlinewidth\":0,\"ticks\":\"\"},\"colorscale\":[[0.0,\"#0d0887\"],[0.1111111111111111,\"#46039f\"],[0.2222222222222222,\"#7201a8\"],[0.3333333333333333,\"#9c179e\"],[0.4444444444444444,\"#bd3786\"],[0.5555555555555556,\"#d8576b\"],[0.6666666666666666,\"#ed7953\"],[0.7777777777777778,\"#fb9f3a\"],[0.8888888888888888,\"#fdca26\"],[1.0,\"#f0f921\"]],\"type\":\"heatmapgl\"}],\"heatmap\":[{\"colorbar\":{\"outlinewidth\":0,\"ticks\":\"\"},\"colorscale\":[[0.0,\"#0d0887\"],[0.1111111111111111,\"#46039f\"],[0.2222222222222222,\"#7201a8\"],[0.3333333333333333,\"#9c179e\"],[0.4444444444444444,\"#bd3786\"],[0.5555555555555556,\"#d8576b\"],[0.6666666666666666,\"#ed7953\"],[0.7777777777777778,\"#fb9f3a\"],[0.8888888888888888,\"#fdca26\"],[1.0,\"#f0f921\"]],\"type\":\"heatmap\"}],\"histogram2dcontour\":[{\"colorbar\":{\"outlinewidth\":0,\"ticks\":\"\"},\"colorscale\":[[0.0,\"#0d0887\"],[0.1111111111111111,\"#46039f\"],[0.2222222222222222,\"#7201a8\"],[0.3333333333333333,\"#9c179e\"],[0.4444444444444444,\"#bd3786\"],[0.5555555555555556,\"#d8576b\"],[0.6666666666666666,\"#ed7953\"],[0.7777777777777778,\"#fb9f3a\"],[0.8888888888888888,\"#fdca26\"],[1.0,\"#f0f921\"]],\"type\":\"histogram2dcontour\"}],\"histogram2d\":[{\"colorbar\":{\"outlinewidth\":0,\"ticks\":\"\"},\"colorscale\":[[0.0,\"#0d0887\"],[0.1111111111111111,\"#46039f\"],[0.2222222222222222,\"#7201a8\"],[0.3333333333333333,\"#9c179e\"],[0.4444444444444444,\"#bd3786\"],[0.5555555555555556,\"#d8576b\"],[0.6666666666666666,\"#ed7953\"],[0.7777777777777778,\"#fb9f3a\"],[0.8888888888888888,\"#fdca26\"],[1.0,\"#f0f921\"]],\"type\":\"histogram2d\"}],\"histogram\":[{\"marker\":{\"pattern\":{\"fillmode\":\"overlay\",\"size\":10,\"solidity\":0.2}},\"type\":\"histogram\"}],\"mesh3d\":[{\"colorbar\":{\"outlinewidth\":0,\"ticks\":\"\"},\"type\":\"mesh3d\"}],\"parcoords\":[{\"line\":{\"colorbar\":{\"outlinewidth\":0,\"ticks\":\"\"}},\"type\":\"parcoords\"}],\"pie\":[{\"automargin\":true,\"type\":\"pie\"}],\"scatter3d\":[{\"line\":{\"colorbar\":{\"outlinewidth\":0,\"ticks\":\"\"}},\"marker\":{\"colorbar\":{\"outlinewidth\":0,\"ticks\":\"\"}},\"type\":\"scatter3d\"}],\"scattercarpet\":[{\"marker\":{\"colorbar\":{\"outlinewidth\":0,\"ticks\":\"\"}},\"type\":\"scattercarpet\"}],\"scattergeo\":[{\"marker\":{\"colorbar\":{\"outlinewidth\":0,\"ticks\":\"\"}},\"type\":\"scattergeo\"}],\"scattergl\":[{\"marker\":{\"colorbar\":{\"outlinewidth\":0,\"ticks\":\"\"}},\"type\":\"scattergl\"}],\"scattermapbox\":[{\"marker\":{\"colorbar\":{\"outlinewidth\":0,\"ticks\":\"\"}},\"type\":\"scattermapbox\"}],\"scatterpolargl\":[{\"marker\":{\"colorbar\":{\"outlinewidth\":0,\"ticks\":\"\"}},\"type\":\"scatterpolargl\"}],\"scatterpolar\":[{\"marker\":{\"colorbar\":{\"outlinewidth\":0,\"ticks\":\"\"}},\"type\":\"scatterpolar\"}],\"scatter\":[{\"marker\":{\"colorbar\":{\"outlinewidth\":0,\"ticks\":\"\"}},\"type\":\"scatter\"}],\"scatterternary\":[{\"marker\":{\"colorbar\":{\"outlinewidth\":0,\"ticks\":\"\"}},\"type\":\"scatterternary\"}],\"surface\":[{\"colorbar\":{\"outlinewidth\":0,\"ticks\":\"\"},\"colorscale\":[[0.0,\"#0d0887\"],[0.1111111111111111,\"#46039f\"],[0.2222222222222222,\"#7201a8\"],[0.3333333333333333,\"#9c179e\"],[0.4444444444444444,\"#bd3786\"],[0.5555555555555556,\"#d8576b\"],[0.6666666666666666,\"#ed7953\"],[0.7777777777777778,\"#fb9f3a\"],[0.8888888888888888,\"#fdca26\"],[1.0,\"#f0f921\"]],\"type\":\"surface\"}],\"table\":[{\"cells\":{\"fill\":{\"color\":\"#EBF0F8\"},\"line\":{\"color\":\"white\"}},\"header\":{\"fill\":{\"color\":\"#C8D4E3\"},\"line\":{\"color\":\"white\"}},\"type\":\"table\"}]},\"layout\":{\"annotationdefaults\":{\"arrowcolor\":\"#2a3f5f\",\"arrowhead\":0,\"arrowwidth\":1},\"autotypenumbers\":\"strict\",\"coloraxis\":{\"colorbar\":{\"outlinewidth\":0,\"ticks\":\"\"}},\"colorscale\":{\"diverging\":[[0,\"#8e0152\"],[0.1,\"#c51b7d\"],[0.2,\"#de77ae\"],[0.3,\"#f1b6da\"],[0.4,\"#fde0ef\"],[0.5,\"#f7f7f7\"],[0.6,\"#e6f5d0\"],[0.7,\"#b8e186\"],[0.8,\"#7fbc41\"],[0.9,\"#4d9221\"],[1,\"#276419\"]],\"sequential\":[[0.0,\"#0d0887\"],[0.1111111111111111,\"#46039f\"],[0.2222222222222222,\"#7201a8\"],[0.3333333333333333,\"#9c179e\"],[0.4444444444444444,\"#bd3786\"],[0.5555555555555556,\"#d8576b\"],[0.6666666666666666,\"#ed7953\"],[0.7777777777777778,\"#fb9f3a\"],[0.8888888888888888,\"#fdca26\"],[1.0,\"#f0f921\"]],\"sequentialminus\":[[0.0,\"#0d0887\"],[0.1111111111111111,\"#46039f\"],[0.2222222222222222,\"#7201a8\"],[0.3333333333333333,\"#9c179e\"],[0.4444444444444444,\"#bd3786\"],[0.5555555555555556,\"#d8576b\"],[0.6666666666666666,\"#ed7953\"],[0.7777777777777778,\"#fb9f3a\"],[0.8888888888888888,\"#fdca26\"],[1.0,\"#f0f921\"]]},\"colorway\":[\"#636efa\",\"#EF553B\",\"#00cc96\",\"#ab63fa\",\"#FFA15A\",\"#19d3f3\",\"#FF6692\",\"#B6E880\",\"#FF97FF\",\"#FECB52\"],\"font\":{\"color\":\"#2a3f5f\"},\"geo\":{\"bgcolor\":\"white\",\"lakecolor\":\"white\",\"landcolor\":\"#E5ECF6\",\"showlakes\":true,\"showland\":true,\"subunitcolor\":\"white\"},\"hoverlabel\":{\"align\":\"left\"},\"hovermode\":\"closest\",\"mapbox\":{\"style\":\"light\"},\"paper_bgcolor\":\"white\",\"plot_bgcolor\":\"#E5ECF6\",\"polar\":{\"angularaxis\":{\"gridcolor\":\"white\",\"linecolor\":\"white\",\"ticks\":\"\"},\"bgcolor\":\"#E5ECF6\",\"radialaxis\":{\"gridcolor\":\"white\",\"linecolor\":\"white\",\"ticks\":\"\"}},\"scene\":{\"xaxis\":{\"backgroundcolor\":\"#E5ECF6\",\"gridcolor\":\"white\",\"gridwidth\":2,\"linecolor\":\"white\",\"showbackground\":true,\"ticks\":\"\",\"zerolinecolor\":\"white\"},\"yaxis\":{\"backgroundcolor\":\"#E5ECF6\",\"gridcolor\":\"white\",\"gridwidth\":2,\"linecolor\":\"white\",\"showbackground\":true,\"ticks\":\"\",\"zerolinecolor\":\"white\"},\"zaxis\":{\"backgroundcolor\":\"#E5ECF6\",\"gridcolor\":\"white\",\"gridwidth\":2,\"linecolor\":\"white\",\"showbackground\":true,\"ticks\":\"\",\"zerolinecolor\":\"white\"}},\"shapedefaults\":{\"line\":{\"color\":\"#2a3f5f\"}},\"ternary\":{\"aaxis\":{\"gridcolor\":\"white\",\"linecolor\":\"white\",\"ticks\":\"\"},\"baxis\":{\"gridcolor\":\"white\",\"linecolor\":\"white\",\"ticks\":\"\"},\"bgcolor\":\"#E5ECF6\",\"caxis\":{\"gridcolor\":\"white\",\"linecolor\":\"white\",\"ticks\":\"\"}},\"title\":{\"x\":0.05},\"xaxis\":{\"automargin\":true,\"gridcolor\":\"white\",\"linecolor\":\"white\",\"ticks\":\"\",\"title\":{\"standoff\":15},\"zerolinecolor\":\"white\",\"zerolinewidth\":2},\"yaxis\":{\"automargin\":true,\"gridcolor\":\"white\",\"linecolor\":\"white\",\"ticks\":\"\",\"title\":{\"standoff\":15},\"zerolinecolor\":\"white\",\"zerolinewidth\":2}}},\"title\":{\"text\":\"Visualizing Clusters in Three Dimensions Using PCA\"},\"xaxis\":{\"ticklen\":5,\"title\":{\"text\":\"PC1\"},\"zeroline\":false},\"yaxis\":{\"ticklen\":5,\"title\":{\"text\":\"PC2\"},\"zeroline\":false}},                        {\"responsive\": true}                    ).then(function(){\n",
       "                            \n",
       "var gd = document.getElementById('e99931d7-f085-4c95-9920-bfb32813895c');\n",
       "var x = new MutationObserver(function (mutations, observer) {{\n",
       "        var display = window.getComputedStyle(gd).display;\n",
       "        if (!display || display === 'none') {{\n",
       "            console.log([gd, 'removed!']);\n",
       "            Plotly.purge(gd);\n",
       "            observer.disconnect();\n",
       "        }}\n",
       "}});\n",
       "\n",
       "// Listen for the removal of the full notebook cells\n",
       "var notebookContainer = gd.closest('#notebook-container');\n",
       "if (notebookContainer) {{\n",
       "    x.observe(notebookContainer, {childList: true});\n",
       "}}\n",
       "\n",
       "// Listen for the clearing of the current output cell\n",
       "var outputEl = gd.closest('.output');\n",
       "if (outputEl) {{\n",
       "    x.observe(outputEl, {childList: true});\n",
       "}}\n",
       "\n",
       "                        })                };                });            </script>        </div>"
      ]
     },
     "metadata": {},
     "output_type": "display_data"
    }
   ],
   "source": [
    "#Instructions for building the 3-D plot\n",
    "\n",
    "#trace1 is for 'Cluster 0'\n",
    "trace1 = go.Scatter3d(\n",
    "                    x = cluster0[\"PC1_3d\"],\n",
    "                    y = cluster0[\"PC2_3d\"],\n",
    "                    z = cluster0[\"PC3_3d\"],\n",
    "                    mode = \"markers\",\n",
    "                    name = \"Cluster 0\",\n",
    "                    marker = dict(color = 'rgba(255, 128, 255, 0.8)'),\n",
    "                    text = None)\n",
    "\n",
    "#trace2 is for 'Cluster 1'\n",
    "trace2 = go.Scatter3d(\n",
    "                    x = cluster1[\"PC1_3d\"],\n",
    "                    y = cluster1[\"PC2_3d\"],\n",
    "                    z = cluster1[\"PC3_3d\"],\n",
    "                    mode = \"markers\",\n",
    "                    name = \"Cluster 1\",\n",
    "                    marker = dict(color = 'rgba(255, 128, 2, 0.8)'),\n",
    "                    text = None)\n",
    "\n",
    "#trace3 is for 'Cluster 2'\n",
    "trace3 = go.Scatter3d(\n",
    "                    x = cluster2[\"PC1_3d\"],\n",
    "                    y = cluster2[\"PC2_3d\"],\n",
    "                    z = cluster2[\"PC3_3d\"],\n",
    "                    mode = \"markers\",\n",
    "                    name = \"Cluster 2\",\n",
    "                    marker = dict(color = 'rgba(0, 255, 200, 0.8)'),\n",
    "                    text = None)\n",
    "\n",
    "#trace3 is for 'Cluster 2'\n",
    "trace4 = go.Scatter3d(\n",
    "                    x = cluster3[\"PC1_3d\"],\n",
    "                    y = cluster3[\"PC2_3d\"],\n",
    "                    z = cluster3[\"PC3_3d\"],\n",
    "                    mode = \"markers\",\n",
    "                    name = \"Cluster 3\",\n",
    "                    marker = dict(color = 'rgba(0, 255, 200, 0.8)'),\n",
    "                    text = None)\n",
    "\n",
    "#trace3 is for 'Cluster 2'\n",
    "trace5 = go.Scatter3d(\n",
    "                    x = cluster4[\"PC1_3d\"],\n",
    "                    y = cluster4[\"PC2_3d\"],\n",
    "                    z = cluster4[\"PC3_3d\"],\n",
    "                    mode = \"markers\",\n",
    "                    name = \"Cluster 4\",\n",
    "                    marker = dict(color = 'rgba(0, 255, 200, 0.8)'),\n",
    "                    text = None)\n",
    "\n",
    "data = [trace1, trace2, trace3, trace4, trace5]\n",
    "\n",
    "title = \"Visualizing Clusters in Three Dimensions Using PCA\"\n",
    "\n",
    "layout = dict(title = title,\n",
    "              xaxis= dict(title= 'PC1',ticklen= 5,zeroline= False),\n",
    "              yaxis= dict(title= 'PC2',ticklen= 5,zeroline= False)\n",
    "             )\n",
    "\n",
    "fig = dict(data = data, layout = layout)\n",
    "\n",
    "iplot(fig)"
   ]
  },
  {
   "cell_type": "code",
   "execution_count": 524,
   "metadata": {},
   "outputs": [],
   "source": [
    "#for cluster in range(n_clusters):\n",
    "df2 = df.loc[df['cluster'] == 1]"
   ]
  },
  {
   "cell_type": "code",
   "execution_count": 530,
   "metadata": {},
   "outputs": [
    {
     "data": {
      "text/html": [
       "<div>\n",
       "<style scoped>\n",
       "    .dataframe tbody tr th:only-of-type {\n",
       "        vertical-align: middle;\n",
       "    }\n",
       "\n",
       "    .dataframe tbody tr th {\n",
       "        vertical-align: top;\n",
       "    }\n",
       "\n",
       "    .dataframe thead th {\n",
       "        text-align: right;\n",
       "    }\n",
       "</style>\n",
       "<table border=\"1\" class=\"dataframe\">\n",
       "  <thead>\n",
       "    <tr style=\"text-align: right;\">\n",
       "      <th></th>\n",
       "      <th>danceability</th>\n",
       "      <th>acousticness</th>\n",
       "      <th>energy</th>\n",
       "      <th>instrumentalness</th>\n",
       "      <th>liveness</th>\n",
       "      <th>valence</th>\n",
       "      <th>duration</th>\n",
       "      <th>popularity</th>\n",
       "      <th>tempo</th>\n",
       "      <th>loudness</th>\n",
       "      <th>speechiness</th>\n",
       "      <th>cluster</th>\n",
       "    </tr>\n",
       "    <tr>\n",
       "      <th>track_id</th>\n",
       "      <th></th>\n",
       "      <th></th>\n",
       "      <th></th>\n",
       "      <th></th>\n",
       "      <th></th>\n",
       "      <th></th>\n",
       "      <th></th>\n",
       "      <th></th>\n",
       "      <th></th>\n",
       "      <th></th>\n",
       "      <th></th>\n",
       "      <th></th>\n",
       "    </tr>\n",
       "  </thead>\n",
       "  <tbody>\n",
       "    <tr>\n",
       "      <th>1LKaiZTkocUx2oAKfm4Jk0</th>\n",
       "      <td>0.673</td>\n",
       "      <td>0.4920</td>\n",
       "      <td>0.367</td>\n",
       "      <td>0.0000</td>\n",
       "      <td>0.3680</td>\n",
       "      <td>0.4810</td>\n",
       "      <td>0.130165</td>\n",
       "      <td>0.447917</td>\n",
       "      <td>0.596600</td>\n",
       "      <td>0.632300</td>\n",
       "      <td>0.222792</td>\n",
       "      <td>1</td>\n",
       "    </tr>\n",
       "    <tr>\n",
       "      <th>3TCauNPqFiniaYHBvEVoHG</th>\n",
       "      <td>0.456</td>\n",
       "      <td>0.5780</td>\n",
       "      <td>0.573</td>\n",
       "      <td>0.0000</td>\n",
       "      <td>0.1140</td>\n",
       "      <td>0.0992</td>\n",
       "      <td>0.149844</td>\n",
       "      <td>0.770833</td>\n",
       "      <td>0.170132</td>\n",
       "      <td>0.849473</td>\n",
       "      <td>0.004795</td>\n",
       "      <td>1</td>\n",
       "    </tr>\n",
       "    <tr>\n",
       "      <th>02iW5boMzeBDVRI0dRE1Yw</th>\n",
       "      <td>0.693</td>\n",
       "      <td>0.6210</td>\n",
       "      <td>0.410</td>\n",
       "      <td>0.0000</td>\n",
       "      <td>0.1010</td>\n",
       "      <td>0.2810</td>\n",
       "      <td>0.081662</td>\n",
       "      <td>0.604167</td>\n",
       "      <td>0.567171</td>\n",
       "      <td>0.785584</td>\n",
       "      <td>0.021855</td>\n",
       "      <td>1</td>\n",
       "    </tr>\n",
       "    <tr>\n",
       "      <th>6CbiLNbsn99SsKx5OzMWXC</th>\n",
       "      <td>0.643</td>\n",
       "      <td>0.4940</td>\n",
       "      <td>0.473</td>\n",
       "      <td>0.0000</td>\n",
       "      <td>0.2550</td>\n",
       "      <td>0.5350</td>\n",
       "      <td>0.132340</td>\n",
       "      <td>0.333333</td>\n",
       "      <td>0.538631</td>\n",
       "      <td>0.796283</td>\n",
       "      <td>0.252899</td>\n",
       "      <td>2</td>\n",
       "    </tr>\n",
       "    <tr>\n",
       "      <th>7u6DMPznGbpziuEgCE0JGQ</th>\n",
       "      <td>0.604</td>\n",
       "      <td>0.6570</td>\n",
       "      <td>0.449</td>\n",
       "      <td>0.0000</td>\n",
       "      <td>0.0932</td>\n",
       "      <td>0.5280</td>\n",
       "      <td>0.209818</td>\n",
       "      <td>0.677083</td>\n",
       "      <td>0.309629</td>\n",
       "      <td>0.775079</td>\n",
       "      <td>0.013492</td>\n",
       "      <td>1</td>\n",
       "    </tr>\n",
       "    <tr>\n",
       "      <th>...</th>\n",
       "      <td>...</td>\n",
       "      <td>...</td>\n",
       "      <td>...</td>\n",
       "      <td>...</td>\n",
       "      <td>...</td>\n",
       "      <td>...</td>\n",
       "      <td>...</td>\n",
       "      <td>...</td>\n",
       "      <td>...</td>\n",
       "      <td>...</td>\n",
       "      <td>...</td>\n",
       "      <td>...</td>\n",
       "    </tr>\n",
       "    <tr>\n",
       "      <th>5o8OdhjVZSF2wCj7M8UpMN</th>\n",
       "      <td>0.338</td>\n",
       "      <td>0.5800</td>\n",
       "      <td>0.340</td>\n",
       "      <td>0.0032</td>\n",
       "      <td>0.1160</td>\n",
       "      <td>0.1970</td>\n",
       "      <td>0.204894</td>\n",
       "      <td>0.625000</td>\n",
       "      <td>0.206171</td>\n",
       "      <td>0.623835</td>\n",
       "      <td>0.011931</td>\n",
       "      <td>1</td>\n",
       "    </tr>\n",
       "    <tr>\n",
       "      <th>2lF8jQFhIjpmQa501sYXxR</th>\n",
       "      <td>0.697</td>\n",
       "      <td>0.4280</td>\n",
       "      <td>0.395</td>\n",
       "      <td>0.6530</td>\n",
       "      <td>0.1730</td>\n",
       "      <td>0.8760</td>\n",
       "      <td>0.256600</td>\n",
       "      <td>0.208333</td>\n",
       "      <td>0.386024</td>\n",
       "      <td>0.581619</td>\n",
       "      <td>0.005464</td>\n",
       "      <td>3</td>\n",
       "    </tr>\n",
       "    <tr>\n",
       "      <th>6PDBcqHNIg5cOojcCkhxYM</th>\n",
       "      <td>0.306</td>\n",
       "      <td>0.0857</td>\n",
       "      <td>0.398</td>\n",
       "      <td>0.0000</td>\n",
       "      <td>0.0756</td>\n",
       "      <td>0.0948</td>\n",
       "      <td>0.145504</td>\n",
       "      <td>0.552083</td>\n",
       "      <td>0.224580</td>\n",
       "      <td>0.604037</td>\n",
       "      <td>0.020071</td>\n",
       "      <td>1</td>\n",
       "    </tr>\n",
       "    <tr>\n",
       "      <th>3MODES4TNtygekLl146Dxd</th>\n",
       "      <td>0.483</td>\n",
       "      <td>0.4520</td>\n",
       "      <td>0.615</td>\n",
       "      <td>0.0000</td>\n",
       "      <td>0.0512</td>\n",
       "      <td>0.5940</td>\n",
       "      <td>0.167644</td>\n",
       "      <td>0.760417</td>\n",
       "      <td>0.195451</td>\n",
       "      <td>0.720647</td>\n",
       "      <td>0.029550</td>\n",
       "      <td>1</td>\n",
       "    </tr>\n",
       "    <tr>\n",
       "      <th>0QwZfbw26QeUoIy82Z2jYp</th>\n",
       "      <td>0.506</td>\n",
       "      <td>0.5250</td>\n",
       "      <td>0.434</td>\n",
       "      <td>0.0011</td>\n",
       "      <td>0.2340</td>\n",
       "      <td>0.4980</td>\n",
       "      <td>0.097897</td>\n",
       "      <td>0.729167</td>\n",
       "      <td>0.195145</td>\n",
       "      <td>0.576711</td>\n",
       "      <td>0.117975</td>\n",
       "      <td>1</td>\n",
       "    </tr>\n",
       "  </tbody>\n",
       "</table>\n",
       "<p>1414 rows × 12 columns</p>\n",
       "</div>"
      ],
      "text/plain": [
       "                        danceability  acousticness  energy  instrumentalness  \\\n",
       "track_id                                                                       \n",
       "1LKaiZTkocUx2oAKfm4Jk0         0.673        0.4920   0.367            0.0000   \n",
       "3TCauNPqFiniaYHBvEVoHG         0.456        0.5780   0.573            0.0000   \n",
       "02iW5boMzeBDVRI0dRE1Yw         0.693        0.6210   0.410            0.0000   \n",
       "6CbiLNbsn99SsKx5OzMWXC         0.643        0.4940   0.473            0.0000   \n",
       "7u6DMPznGbpziuEgCE0JGQ         0.604        0.6570   0.449            0.0000   \n",
       "...                              ...           ...     ...               ...   \n",
       "5o8OdhjVZSF2wCj7M8UpMN         0.338        0.5800   0.340            0.0032   \n",
       "2lF8jQFhIjpmQa501sYXxR         0.697        0.4280   0.395            0.6530   \n",
       "6PDBcqHNIg5cOojcCkhxYM         0.306        0.0857   0.398            0.0000   \n",
       "3MODES4TNtygekLl146Dxd         0.483        0.4520   0.615            0.0000   \n",
       "0QwZfbw26QeUoIy82Z2jYp         0.506        0.5250   0.434            0.0011   \n",
       "\n",
       "                        liveness  valence  duration  popularity     tempo  \\\n",
       "track_id                                                                    \n",
       "1LKaiZTkocUx2oAKfm4Jk0    0.3680   0.4810  0.130165    0.447917  0.596600   \n",
       "3TCauNPqFiniaYHBvEVoHG    0.1140   0.0992  0.149844    0.770833  0.170132   \n",
       "02iW5boMzeBDVRI0dRE1Yw    0.1010   0.2810  0.081662    0.604167  0.567171   \n",
       "6CbiLNbsn99SsKx5OzMWXC    0.2550   0.5350  0.132340    0.333333  0.538631   \n",
       "7u6DMPznGbpziuEgCE0JGQ    0.0932   0.5280  0.209818    0.677083  0.309629   \n",
       "...                          ...      ...       ...         ...       ...   \n",
       "5o8OdhjVZSF2wCj7M8UpMN    0.1160   0.1970  0.204894    0.625000  0.206171   \n",
       "2lF8jQFhIjpmQa501sYXxR    0.1730   0.8760  0.256600    0.208333  0.386024   \n",
       "6PDBcqHNIg5cOojcCkhxYM    0.0756   0.0948  0.145504    0.552083  0.224580   \n",
       "3MODES4TNtygekLl146Dxd    0.0512   0.5940  0.167644    0.760417  0.195451   \n",
       "0QwZfbw26QeUoIy82Z2jYp    0.2340   0.4980  0.097897    0.729167  0.195145   \n",
       "\n",
       "                        loudness  speechiness  cluster  \n",
       "track_id                                                \n",
       "1LKaiZTkocUx2oAKfm4Jk0  0.632300     0.222792        1  \n",
       "3TCauNPqFiniaYHBvEVoHG  0.849473     0.004795        1  \n",
       "02iW5boMzeBDVRI0dRE1Yw  0.785584     0.021855        1  \n",
       "6CbiLNbsn99SsKx5OzMWXC  0.796283     0.252899        2  \n",
       "7u6DMPznGbpziuEgCE0JGQ  0.775079     0.013492        1  \n",
       "...                          ...          ...      ...  \n",
       "5o8OdhjVZSF2wCj7M8UpMN  0.623835     0.011931        1  \n",
       "2lF8jQFhIjpmQa501sYXxR  0.581619     0.005464        3  \n",
       "6PDBcqHNIg5cOojcCkhxYM  0.604037     0.020071        1  \n",
       "3MODES4TNtygekLl146Dxd  0.720647     0.029550        1  \n",
       "0QwZfbw26QeUoIy82Z2jYp  0.576711     0.117975        1  \n",
       "\n",
       "[1414 rows x 12 columns]"
      ]
     },
     "execution_count": 530,
     "metadata": {},
     "output_type": "execute_result"
    }
   ],
   "source": [
    "df2.drop_duplicates()"
   ]
  },
  {
   "cell_type": "code",
   "execution_count": 525,
   "metadata": {},
   "outputs": [
    {
     "name": "stdout",
     "output_type": "stream",
     "text": [
      "                        danceability  acousticness  energy  instrumentalness  \\\n",
      "track_id                                                                       \n",
      "1LKaiZTkocUx2oAKfm4Jk0         0.673        0.4920   0.367            0.0000   \n",
      "3TCauNPqFiniaYHBvEVoHG         0.456        0.5780   0.573            0.0000   \n",
      "02iW5boMzeBDVRI0dRE1Yw         0.693        0.6210   0.410            0.0000   \n",
      "6CbiLNbsn99SsKx5OzMWXC         0.643        0.4940   0.473            0.0000   \n",
      "7u6DMPznGbpziuEgCE0JGQ         0.604        0.6570   0.449            0.0000   \n",
      "...                              ...           ...     ...               ...   \n",
      "5o8OdhjVZSF2wCj7M8UpMN         0.338        0.5800   0.340            0.0032   \n",
      "2lF8jQFhIjpmQa501sYXxR         0.697        0.4280   0.395            0.6530   \n",
      "6PDBcqHNIg5cOojcCkhxYM         0.306        0.0857   0.398            0.0000   \n",
      "3MODES4TNtygekLl146Dxd         0.483        0.4520   0.615            0.0000   \n",
      "0QwZfbw26QeUoIy82Z2jYp         0.506        0.5250   0.434            0.0011   \n",
      "\n",
      "                        liveness  valence  duration  popularity     tempo  \\\n",
      "track_id                                                                    \n",
      "1LKaiZTkocUx2oAKfm4Jk0    0.3680   0.4810  0.130165    0.447917  0.596600   \n",
      "3TCauNPqFiniaYHBvEVoHG    0.1140   0.0992  0.149844    0.770833  0.170132   \n",
      "02iW5boMzeBDVRI0dRE1Yw    0.1010   0.2810  0.081662    0.604167  0.567171   \n",
      "6CbiLNbsn99SsKx5OzMWXC    0.2550   0.5350  0.132340    0.333333  0.538631   \n",
      "7u6DMPznGbpziuEgCE0JGQ    0.0932   0.5280  0.209818    0.677083  0.309629   \n",
      "...                          ...      ...       ...         ...       ...   \n",
      "5o8OdhjVZSF2wCj7M8UpMN    0.1160   0.1970  0.204894    0.625000  0.206171   \n",
      "2lF8jQFhIjpmQa501sYXxR    0.1730   0.8760  0.256600    0.208333  0.386024   \n",
      "6PDBcqHNIg5cOojcCkhxYM    0.0756   0.0948  0.145504    0.552083  0.224580   \n",
      "3MODES4TNtygekLl146Dxd    0.0512   0.5940  0.167644    0.760417  0.195451   \n",
      "0QwZfbw26QeUoIy82Z2jYp    0.2340   0.4980  0.097897    0.729167  0.195145   \n",
      "\n",
      "                        loudness  speechiness  cluster  \n",
      "track_id                                                \n",
      "1LKaiZTkocUx2oAKfm4Jk0  0.632300     0.222792        1  \n",
      "3TCauNPqFiniaYHBvEVoHG  0.849473     0.004795        1  \n",
      "02iW5boMzeBDVRI0dRE1Yw  0.785584     0.021855        1  \n",
      "6CbiLNbsn99SsKx5OzMWXC  0.796283     0.252899        1  \n",
      "7u6DMPznGbpziuEgCE0JGQ  0.775079     0.013492        1  \n",
      "...                          ...          ...      ...  \n",
      "5o8OdhjVZSF2wCj7M8UpMN  0.623835     0.011931        1  \n",
      "2lF8jQFhIjpmQa501sYXxR  0.581619     0.005464        1  \n",
      "6PDBcqHNIg5cOojcCkhxYM  0.604037     0.020071        1  \n",
      "3MODES4TNtygekLl146Dxd  0.720647     0.029550        1  \n",
      "0QwZfbw26QeUoIy82Z2jYp  0.576711     0.117975        1  \n",
      "\n",
      "[1414 rows x 12 columns]\n"
     ]
    }
   ],
   "source": [
    "print (df2)"
   ]
  },
  {
   "cell_type": "code",
   "execution_count": 526,
   "metadata": {},
   "outputs": [
    {
     "data": {
      "image/png": "[encoded data removed]",
      "text/plain": [
       "<Figure size 432x288 with 1 Axes>"
      ]
     },
     "metadata": {
      "image/png": {
       "height": 277,
       "width": 391
      },
      "needs_background": "light"
     },
     "output_type": "display_data"
    }
   ],
   "source": [
    "from sklearn.metrics import silhouette_score\n",
    "silhouette_avg = []\n",
    "for num_clusters in range(2, 11):\n",
    " \n",
    " # initialise kmeans\n",
    "    kmeans = KMeans(n_clusters=num_clusters)\n",
    "    kmeans.fit(df2)\n",
    "    cluster_labels = kmeans.labels_\n",
    " \n",
    " # silhouette score\n",
    "    silhouette_avg.append(silhouette_score(df2, cluster_labels))\n",
    "n1_clusters = np.argmax(silhouette_avg)+2\n",
    "plt.plot(range(2, 11),silhouette_avg,'bx-')\n",
    "plt.xlabel('Values of K') \n",
    "plt.ylabel('Silhouette score') \n",
    "plt.title('Silhouette analysis For Optimal k')\n",
    "plt.show()"
   ]
  },
  {
   "cell_type": "code",
   "execution_count": 527,
   "metadata": {},
   "outputs": [
    {
     "name": "stderr",
     "output_type": "stream",
     "text": [
      "<ipython-input-527-bcfc03301dec>:9: SettingWithCopyWarning:\n",
      "\n",
      "\n",
      "A value is trying to be set on a copy of a slice from a DataFrame.\n",
      "Try using .loc[row_indexer,col_indexer] = value instead\n",
      "\n",
      "See the caveats in the documentation: https://pandas.pydata.org/pandas-docs/stable/user_guide/indexing.html#returning-a-view-versus-a-copy\n",
      "\n"
     ]
    },
    {
     "data": {
      "text/html": [
       "<div>\n",
       "<style scoped>\n",
       "    .dataframe tbody tr th:only-of-type {\n",
       "        vertical-align: middle;\n",
       "    }\n",
       "\n",
       "    .dataframe tbody tr th {\n",
       "        vertical-align: top;\n",
       "    }\n",
       "\n",
       "    .dataframe thead th {\n",
       "        text-align: right;\n",
       "    }\n",
       "</style>\n",
       "<table border=\"1\" class=\"dataframe\">\n",
       "  <thead>\n",
       "    <tr style=\"text-align: right;\">\n",
       "      <th></th>\n",
       "      <th>danceability</th>\n",
       "      <th>acousticness</th>\n",
       "      <th>energy</th>\n",
       "      <th>instrumentalness</th>\n",
       "      <th>liveness</th>\n",
       "      <th>valence</th>\n",
       "      <th>duration</th>\n",
       "      <th>popularity</th>\n",
       "      <th>tempo</th>\n",
       "      <th>loudness</th>\n",
       "      <th>speechiness</th>\n",
       "    </tr>\n",
       "    <tr>\n",
       "      <th>cluster</th>\n",
       "      <th></th>\n",
       "      <th></th>\n",
       "      <th></th>\n",
       "      <th></th>\n",
       "      <th></th>\n",
       "      <th></th>\n",
       "      <th></th>\n",
       "      <th></th>\n",
       "      <th></th>\n",
       "      <th></th>\n",
       "      <th></th>\n",
       "    </tr>\n",
       "  </thead>\n",
       "  <tbody>\n",
       "    <tr>\n",
       "      <th>1</th>\n",
       "      <td>0.5</td>\n",
       "      <td>0.6</td>\n",
       "      <td>0.4</td>\n",
       "      <td>0.0</td>\n",
       "      <td>0.2</td>\n",
       "      <td>0.4</td>\n",
       "      <td>0.1</td>\n",
       "      <td>0.6</td>\n",
       "      <td>0.4</td>\n",
       "      <td>0.7</td>\n",
       "      <td>0.0</td>\n",
       "    </tr>\n",
       "    <tr>\n",
       "      <th>2</th>\n",
       "      <td>0.6</td>\n",
       "      <td>0.6</td>\n",
       "      <td>0.4</td>\n",
       "      <td>0.0</td>\n",
       "      <td>0.2</td>\n",
       "      <td>0.4</td>\n",
       "      <td>0.1</td>\n",
       "      <td>0.1</td>\n",
       "      <td>0.4</td>\n",
       "      <td>0.7</td>\n",
       "      <td>0.1</td>\n",
       "    </tr>\n",
       "    <tr>\n",
       "      <th>3</th>\n",
       "      <td>0.4</td>\n",
       "      <td>0.8</td>\n",
       "      <td>0.3</td>\n",
       "      <td>0.8</td>\n",
       "      <td>0.2</td>\n",
       "      <td>0.3</td>\n",
       "      <td>0.1</td>\n",
       "      <td>0.4</td>\n",
       "      <td>0.4</td>\n",
       "      <td>0.5</td>\n",
       "      <td>0.0</td>\n",
       "    </tr>\n",
       "  </tbody>\n",
       "</table>\n",
       "</div>"
      ],
      "text/plain": [
       "         danceability  acousticness  energy  instrumentalness  liveness  \\\n",
       "cluster                                                                   \n",
       "1                 0.5           0.6     0.4               0.0       0.2   \n",
       "2                 0.6           0.6     0.4               0.0       0.2   \n",
       "3                 0.4           0.8     0.3               0.8       0.2   \n",
       "\n",
       "         valence  duration  popularity  tempo  loudness  speechiness  \n",
       "cluster                                                               \n",
       "1            0.4       0.1         0.6    0.4       0.7          0.0  \n",
       "2            0.4       0.1         0.1    0.4       0.7          0.1  \n",
       "3            0.3       0.1         0.4    0.4       0.5          0.0  "
      ]
     },
     "execution_count": 527,
     "metadata": {},
     "output_type": "execute_result"
    }
   ],
   "source": [
    "# Fitting K-Means to the dataset\n",
    "kmeans = KMeans(n_clusters = n1_clusters, init = 'k-means++', random_state = 42)\n",
    "y_kmeans = kmeans.fit_predict(df2)\n",
    "#beginning of  the cluster numbering with 1 instead of 0\n",
    "y_kmeans1=y_kmeans+1\n",
    "# New Dataframe called cluster\n",
    "#cluster = pd.DataFrame(y_kmeans1)\n",
    "# Adding cluster to the Dataset1\n",
    "df2['cluster'] = y_kmeans1\n",
    "#Mean of clusters\n",
    "kmeans_mean_cluster = pd.DataFrame(round(df2.groupby('cluster').mean(),1))\n",
    "kmeans_mean_cluster"
   ]
  },
  {
   "cell_type": "code",
   "execution_count": 528,
   "metadata": {},
   "outputs": [
    {
     "data": {
      "text/html": [
       "<div>\n",
       "<style scoped>\n",
       "    .dataframe tbody tr th:only-of-type {\n",
       "        vertical-align: middle;\n",
       "    }\n",
       "\n",
       "    .dataframe tbody tr th {\n",
       "        vertical-align: top;\n",
       "    }\n",
       "\n",
       "    .dataframe thead th {\n",
       "        text-align: right;\n",
       "    }\n",
       "</style>\n",
       "<table border=\"1\" class=\"dataframe\">\n",
       "  <thead>\n",
       "    <tr style=\"text-align: right;\">\n",
       "      <th></th>\n",
       "      <th>danceability</th>\n",
       "      <th>acousticness</th>\n",
       "      <th>energy</th>\n",
       "      <th>instrumentalness</th>\n",
       "      <th>liveness</th>\n",
       "      <th>valence</th>\n",
       "      <th>duration</th>\n",
       "      <th>popularity</th>\n",
       "      <th>tempo</th>\n",
       "      <th>loudness</th>\n",
       "      <th>speechiness</th>\n",
       "      <th>cluster</th>\n",
       "    </tr>\n",
       "    <tr>\n",
       "      <th>track_id</th>\n",
       "      <th></th>\n",
       "      <th></th>\n",
       "      <th></th>\n",
       "      <th></th>\n",
       "      <th></th>\n",
       "      <th></th>\n",
       "      <th></th>\n",
       "      <th></th>\n",
       "      <th></th>\n",
       "      <th></th>\n",
       "      <th></th>\n",
       "      <th></th>\n",
       "    </tr>\n",
       "  </thead>\n",
       "  <tbody>\n",
       "    <tr>\n",
       "      <th>1LKaiZTkocUx2oAKfm4Jk0</th>\n",
       "      <td>0.673</td>\n",
       "      <td>0.4920</td>\n",
       "      <td>0.367</td>\n",
       "      <td>0.0000</td>\n",
       "      <td>0.3680</td>\n",
       "      <td>0.4810</td>\n",
       "      <td>0.130165</td>\n",
       "      <td>0.447917</td>\n",
       "      <td>0.596600</td>\n",
       "      <td>0.632300</td>\n",
       "      <td>0.222792</td>\n",
       "      <td>1</td>\n",
       "    </tr>\n",
       "    <tr>\n",
       "      <th>3TCauNPqFiniaYHBvEVoHG</th>\n",
       "      <td>0.456</td>\n",
       "      <td>0.5780</td>\n",
       "      <td>0.573</td>\n",
       "      <td>0.0000</td>\n",
       "      <td>0.1140</td>\n",
       "      <td>0.0992</td>\n",
       "      <td>0.149844</td>\n",
       "      <td>0.770833</td>\n",
       "      <td>0.170132</td>\n",
       "      <td>0.849473</td>\n",
       "      <td>0.004795</td>\n",
       "      <td>1</td>\n",
       "    </tr>\n",
       "    <tr>\n",
       "      <th>02iW5boMzeBDVRI0dRE1Yw</th>\n",
       "      <td>0.693</td>\n",
       "      <td>0.6210</td>\n",
       "      <td>0.410</td>\n",
       "      <td>0.0000</td>\n",
       "      <td>0.1010</td>\n",
       "      <td>0.2810</td>\n",
       "      <td>0.081662</td>\n",
       "      <td>0.604167</td>\n",
       "      <td>0.567171</td>\n",
       "      <td>0.785584</td>\n",
       "      <td>0.021855</td>\n",
       "      <td>1</td>\n",
       "    </tr>\n",
       "    <tr>\n",
       "      <th>6CbiLNbsn99SsKx5OzMWXC</th>\n",
       "      <td>0.643</td>\n",
       "      <td>0.4940</td>\n",
       "      <td>0.473</td>\n",
       "      <td>0.0000</td>\n",
       "      <td>0.2550</td>\n",
       "      <td>0.5350</td>\n",
       "      <td>0.132340</td>\n",
       "      <td>0.333333</td>\n",
       "      <td>0.538631</td>\n",
       "      <td>0.796283</td>\n",
       "      <td>0.252899</td>\n",
       "      <td>2</td>\n",
       "    </tr>\n",
       "    <tr>\n",
       "      <th>7u6DMPznGbpziuEgCE0JGQ</th>\n",
       "      <td>0.604</td>\n",
       "      <td>0.6570</td>\n",
       "      <td>0.449</td>\n",
       "      <td>0.0000</td>\n",
       "      <td>0.0932</td>\n",
       "      <td>0.5280</td>\n",
       "      <td>0.209818</td>\n",
       "      <td>0.677083</td>\n",
       "      <td>0.309629</td>\n",
       "      <td>0.775079</td>\n",
       "      <td>0.013492</td>\n",
       "      <td>1</td>\n",
       "    </tr>\n",
       "    <tr>\n",
       "      <th>...</th>\n",
       "      <td>...</td>\n",
       "      <td>...</td>\n",
       "      <td>...</td>\n",
       "      <td>...</td>\n",
       "      <td>...</td>\n",
       "      <td>...</td>\n",
       "      <td>...</td>\n",
       "      <td>...</td>\n",
       "      <td>...</td>\n",
       "      <td>...</td>\n",
       "      <td>...</td>\n",
       "      <td>...</td>\n",
       "    </tr>\n",
       "    <tr>\n",
       "      <th>5o8OdhjVZSF2wCj7M8UpMN</th>\n",
       "      <td>0.338</td>\n",
       "      <td>0.5800</td>\n",
       "      <td>0.340</td>\n",
       "      <td>0.0032</td>\n",
       "      <td>0.1160</td>\n",
       "      <td>0.1970</td>\n",
       "      <td>0.204894</td>\n",
       "      <td>0.625000</td>\n",
       "      <td>0.206171</td>\n",
       "      <td>0.623835</td>\n",
       "      <td>0.011931</td>\n",
       "      <td>1</td>\n",
       "    </tr>\n",
       "    <tr>\n",
       "      <th>2lF8jQFhIjpmQa501sYXxR</th>\n",
       "      <td>0.697</td>\n",
       "      <td>0.4280</td>\n",
       "      <td>0.395</td>\n",
       "      <td>0.6530</td>\n",
       "      <td>0.1730</td>\n",
       "      <td>0.8760</td>\n",
       "      <td>0.256600</td>\n",
       "      <td>0.208333</td>\n",
       "      <td>0.386024</td>\n",
       "      <td>0.581619</td>\n",
       "      <td>0.005464</td>\n",
       "      <td>3</td>\n",
       "    </tr>\n",
       "    <tr>\n",
       "      <th>6PDBcqHNIg5cOojcCkhxYM</th>\n",
       "      <td>0.306</td>\n",
       "      <td>0.0857</td>\n",
       "      <td>0.398</td>\n",
       "      <td>0.0000</td>\n",
       "      <td>0.0756</td>\n",
       "      <td>0.0948</td>\n",
       "      <td>0.145504</td>\n",
       "      <td>0.552083</td>\n",
       "      <td>0.224580</td>\n",
       "      <td>0.604037</td>\n",
       "      <td>0.020071</td>\n",
       "      <td>1</td>\n",
       "    </tr>\n",
       "    <tr>\n",
       "      <th>3MODES4TNtygekLl146Dxd</th>\n",
       "      <td>0.483</td>\n",
       "      <td>0.4520</td>\n",
       "      <td>0.615</td>\n",
       "      <td>0.0000</td>\n",
       "      <td>0.0512</td>\n",
       "      <td>0.5940</td>\n",
       "      <td>0.167644</td>\n",
       "      <td>0.760417</td>\n",
       "      <td>0.195451</td>\n",
       "      <td>0.720647</td>\n",
       "      <td>0.029550</td>\n",
       "      <td>1</td>\n",
       "    </tr>\n",
       "    <tr>\n",
       "      <th>0QwZfbw26QeUoIy82Z2jYp</th>\n",
       "      <td>0.506</td>\n",
       "      <td>0.5250</td>\n",
       "      <td>0.434</td>\n",
       "      <td>0.0011</td>\n",
       "      <td>0.2340</td>\n",
       "      <td>0.4980</td>\n",
       "      <td>0.097897</td>\n",
       "      <td>0.729167</td>\n",
       "      <td>0.195145</td>\n",
       "      <td>0.576711</td>\n",
       "      <td>0.117975</td>\n",
       "      <td>1</td>\n",
       "    </tr>\n",
       "  </tbody>\n",
       "</table>\n",
       "<p>1414 rows × 12 columns</p>\n",
       "</div>"
      ],
      "text/plain": [
       "                        danceability  acousticness  energy  instrumentalness  \\\n",
       "track_id                                                                       \n",
       "1LKaiZTkocUx2oAKfm4Jk0         0.673        0.4920   0.367            0.0000   \n",
       "3TCauNPqFiniaYHBvEVoHG         0.456        0.5780   0.573            0.0000   \n",
       "02iW5boMzeBDVRI0dRE1Yw         0.693        0.6210   0.410            0.0000   \n",
       "6CbiLNbsn99SsKx5OzMWXC         0.643        0.4940   0.473            0.0000   \n",
       "7u6DMPznGbpziuEgCE0JGQ         0.604        0.6570   0.449            0.0000   \n",
       "...                              ...           ...     ...               ...   \n",
       "5o8OdhjVZSF2wCj7M8UpMN         0.338        0.5800   0.340            0.0032   \n",
       "2lF8jQFhIjpmQa501sYXxR         0.697        0.4280   0.395            0.6530   \n",
       "6PDBcqHNIg5cOojcCkhxYM         0.306        0.0857   0.398            0.0000   \n",
       "3MODES4TNtygekLl146Dxd         0.483        0.4520   0.615            0.0000   \n",
       "0QwZfbw26QeUoIy82Z2jYp         0.506        0.5250   0.434            0.0011   \n",
       "\n",
       "                        liveness  valence  duration  popularity     tempo  \\\n",
       "track_id                                                                    \n",
       "1LKaiZTkocUx2oAKfm4Jk0    0.3680   0.4810  0.130165    0.447917  0.596600   \n",
       "3TCauNPqFiniaYHBvEVoHG    0.1140   0.0992  0.149844    0.770833  0.170132   \n",
       "02iW5boMzeBDVRI0dRE1Yw    0.1010   0.2810  0.081662    0.604167  0.567171   \n",
       "6CbiLNbsn99SsKx5OzMWXC    0.2550   0.5350  0.132340    0.333333  0.538631   \n",
       "7u6DMPznGbpziuEgCE0JGQ    0.0932   0.5280  0.209818    0.677083  0.309629   \n",
       "...                          ...      ...       ...         ...       ...   \n",
       "5o8OdhjVZSF2wCj7M8UpMN    0.1160   0.1970  0.204894    0.625000  0.206171   \n",
       "2lF8jQFhIjpmQa501sYXxR    0.1730   0.8760  0.256600    0.208333  0.386024   \n",
       "6PDBcqHNIg5cOojcCkhxYM    0.0756   0.0948  0.145504    0.552083  0.224580   \n",
       "3MODES4TNtygekLl146Dxd    0.0512   0.5940  0.167644    0.760417  0.195451   \n",
       "0QwZfbw26QeUoIy82Z2jYp    0.2340   0.4980  0.097897    0.729167  0.195145   \n",
       "\n",
       "                        loudness  speechiness  cluster  \n",
       "track_id                                                \n",
       "1LKaiZTkocUx2oAKfm4Jk0  0.632300     0.222792        1  \n",
       "3TCauNPqFiniaYHBvEVoHG  0.849473     0.004795        1  \n",
       "02iW5boMzeBDVRI0dRE1Yw  0.785584     0.021855        1  \n",
       "6CbiLNbsn99SsKx5OzMWXC  0.796283     0.252899        2  \n",
       "7u6DMPznGbpziuEgCE0JGQ  0.775079     0.013492        1  \n",
       "...                          ...          ...      ...  \n",
       "5o8OdhjVZSF2wCj7M8UpMN  0.623835     0.011931        1  \n",
       "2lF8jQFhIjpmQa501sYXxR  0.581619     0.005464        3  \n",
       "6PDBcqHNIg5cOojcCkhxYM  0.604037     0.020071        1  \n",
       "3MODES4TNtygekLl146Dxd  0.720647     0.029550        1  \n",
       "0QwZfbw26QeUoIy82Z2jYp  0.576711     0.117975        1  \n",
       "\n",
       "[1414 rows x 12 columns]"
      ]
     },
     "execution_count": 528,
     "metadata": {},
     "output_type": "execute_result"
    }
   ],
   "source": [
    "df2"
   ]
  },
  {
   "cell_type": "code",
   "execution_count": 516,
   "metadata": {},
   "outputs": [],
   "source": [
    "#plotX is a DataFrame containing 5000 values sampled randomly from X\n",
    "plotX = pd.DataFrame(np.array(df2.sample(len(df2))))\n",
    "\n",
    "#Rename plotX's columns since it was briefly converted to an np.array above\n",
    "plotX.columns = df2.columns"
   ]
  },
  {
   "cell_type": "code",
   "execution_count": 531,
   "metadata": {
    "scrolled": true
   },
   "outputs": [
    {
     "ename": "ValueError",
     "evalue": "Length of values (1476) does not match length of index (1414)",
     "output_type": "error",
     "traceback": [
      "\u001b[1;31m---------------------------------------------------------------------------\u001b[0m",
      "\u001b[1;31mValueError\u001b[0m                                Traceback (most recent call last)",
      "\u001b[1;32m<ipython-input-531-0d5b955316e6>\u001b[0m in \u001b[0;36m<module>\u001b[1;34m\u001b[0m\n\u001b[1;32m----> 1\u001b[1;33m \u001b[0mdf2\u001b[0m\u001b[1;33m[\u001b[0m\u001b[1;34m'user_id'\u001b[0m\u001b[1;33m]\u001b[0m\u001b[1;33m=\u001b[0m \u001b[0mdf1\u001b[0m\u001b[1;33m.\u001b[0m\u001b[0mloc\u001b[0m\u001b[1;33m[\u001b[0m\u001b[0mdf2\u001b[0m\u001b[1;33m.\u001b[0m\u001b[0mindex\u001b[0m\u001b[1;33m.\u001b[0m\u001b[0mvalues\u001b[0m\u001b[1;33m]\u001b[0m\u001b[1;33m[\u001b[0m\u001b[1;34m'user_id'\u001b[0m\u001b[1;33m]\u001b[0m\u001b[1;33m.\u001b[0m\u001b[0mvalues\u001b[0m\u001b[1;33m\u001b[0m\u001b[1;33m\u001b[0m\u001b[0m\n\u001b[0m",
      "\u001b[1;32m~\\anaconda3\\lib\\site-packages\\pandas\\core\\frame.py\u001b[0m in \u001b[0;36m__setitem__\u001b[1;34m(self, key, value)\u001b[0m\n\u001b[0;32m   3161\u001b[0m         \u001b[1;32melse\u001b[0m\u001b[1;33m:\u001b[0m\u001b[1;33m\u001b[0m\u001b[1;33m\u001b[0m\u001b[0m\n\u001b[0;32m   3162\u001b[0m             \u001b[1;31m# set column\u001b[0m\u001b[1;33m\u001b[0m\u001b[1;33m\u001b[0m\u001b[1;33m\u001b[0m\u001b[0m\n\u001b[1;32m-> 3163\u001b[1;33m             \u001b[0mself\u001b[0m\u001b[1;33m.\u001b[0m\u001b[0m_set_item\u001b[0m\u001b[1;33m(\u001b[0m\u001b[0mkey\u001b[0m\u001b[1;33m,\u001b[0m \u001b[0mvalue\u001b[0m\u001b[1;33m)\u001b[0m\u001b[1;33m\u001b[0m\u001b[1;33m\u001b[0m\u001b[0m\n\u001b[0m\u001b[0;32m   3164\u001b[0m \u001b[1;33m\u001b[0m\u001b[0m\n\u001b[0;32m   3165\u001b[0m     \u001b[1;32mdef\u001b[0m \u001b[0m_setitem_slice\u001b[0m\u001b[1;33m(\u001b[0m\u001b[0mself\u001b[0m\u001b[1;33m,\u001b[0m \u001b[0mkey\u001b[0m\u001b[1;33m:\u001b[0m \u001b[0mslice\u001b[0m\u001b[1;33m,\u001b[0m \u001b[0mvalue\u001b[0m\u001b[1;33m)\u001b[0m\u001b[1;33m:\u001b[0m\u001b[1;33m\u001b[0m\u001b[1;33m\u001b[0m\u001b[0m\n",
      "\u001b[1;32m~\\anaconda3\\lib\\site-packages\\pandas\\core\\frame.py\u001b[0m in \u001b[0;36m_set_item\u001b[1;34m(self, key, value)\u001b[0m\n\u001b[0;32m   3240\u001b[0m         \"\"\"\n\u001b[0;32m   3241\u001b[0m         \u001b[0mself\u001b[0m\u001b[1;33m.\u001b[0m\u001b[0m_ensure_valid_index\u001b[0m\u001b[1;33m(\u001b[0m\u001b[0mvalue\u001b[0m\u001b[1;33m)\u001b[0m\u001b[1;33m\u001b[0m\u001b[1;33m\u001b[0m\u001b[0m\n\u001b[1;32m-> 3242\u001b[1;33m         \u001b[0mvalue\u001b[0m \u001b[1;33m=\u001b[0m \u001b[0mself\u001b[0m\u001b[1;33m.\u001b[0m\u001b[0m_sanitize_column\u001b[0m\u001b[1;33m(\u001b[0m\u001b[0mkey\u001b[0m\u001b[1;33m,\u001b[0m \u001b[0mvalue\u001b[0m\u001b[1;33m)\u001b[0m\u001b[1;33m\u001b[0m\u001b[1;33m\u001b[0m\u001b[0m\n\u001b[0m\u001b[0;32m   3243\u001b[0m         \u001b[0mNDFrame\u001b[0m\u001b[1;33m.\u001b[0m\u001b[0m_set_item\u001b[0m\u001b[1;33m(\u001b[0m\u001b[0mself\u001b[0m\u001b[1;33m,\u001b[0m \u001b[0mkey\u001b[0m\u001b[1;33m,\u001b[0m \u001b[0mvalue\u001b[0m\u001b[1;33m)\u001b[0m\u001b[1;33m\u001b[0m\u001b[1;33m\u001b[0m\u001b[0m\n\u001b[0;32m   3244\u001b[0m \u001b[1;33m\u001b[0m\u001b[0m\n",
      "\u001b[1;32m~\\anaconda3\\lib\\site-packages\\pandas\\core\\frame.py\u001b[0m in \u001b[0;36m_sanitize_column\u001b[1;34m(self, key, value, broadcast)\u001b[0m\n\u001b[0;32m   3897\u001b[0m \u001b[1;33m\u001b[0m\u001b[0m\n\u001b[0;32m   3898\u001b[0m             \u001b[1;31m# turn me into an ndarray\u001b[0m\u001b[1;33m\u001b[0m\u001b[1;33m\u001b[0m\u001b[1;33m\u001b[0m\u001b[0m\n\u001b[1;32m-> 3899\u001b[1;33m             \u001b[0mvalue\u001b[0m \u001b[1;33m=\u001b[0m \u001b[0msanitize_index\u001b[0m\u001b[1;33m(\u001b[0m\u001b[0mvalue\u001b[0m\u001b[1;33m,\u001b[0m \u001b[0mself\u001b[0m\u001b[1;33m.\u001b[0m\u001b[0mindex\u001b[0m\u001b[1;33m)\u001b[0m\u001b[1;33m\u001b[0m\u001b[1;33m\u001b[0m\u001b[0m\n\u001b[0m\u001b[0;32m   3900\u001b[0m             \u001b[1;32mif\u001b[0m \u001b[1;32mnot\u001b[0m \u001b[0misinstance\u001b[0m\u001b[1;33m(\u001b[0m\u001b[0mvalue\u001b[0m\u001b[1;33m,\u001b[0m \u001b[1;33m(\u001b[0m\u001b[0mnp\u001b[0m\u001b[1;33m.\u001b[0m\u001b[0mndarray\u001b[0m\u001b[1;33m,\u001b[0m \u001b[0mIndex\u001b[0m\u001b[1;33m)\u001b[0m\u001b[1;33m)\u001b[0m\u001b[1;33m:\u001b[0m\u001b[1;33m\u001b[0m\u001b[1;33m\u001b[0m\u001b[0m\n\u001b[0;32m   3901\u001b[0m                 \u001b[1;32mif\u001b[0m \u001b[0misinstance\u001b[0m\u001b[1;33m(\u001b[0m\u001b[0mvalue\u001b[0m\u001b[1;33m,\u001b[0m \u001b[0mlist\u001b[0m\u001b[1;33m)\u001b[0m \u001b[1;32mand\u001b[0m \u001b[0mlen\u001b[0m\u001b[1;33m(\u001b[0m\u001b[0mvalue\u001b[0m\u001b[1;33m)\u001b[0m \u001b[1;33m>\u001b[0m \u001b[1;36m0\u001b[0m\u001b[1;33m:\u001b[0m\u001b[1;33m\u001b[0m\u001b[1;33m\u001b[0m\u001b[0m\n",
      "\u001b[1;32m~\\anaconda3\\lib\\site-packages\\pandas\\core\\internals\\construction.py\u001b[0m in \u001b[0;36msanitize_index\u001b[1;34m(data, index)\u001b[0m\n\u001b[0;32m    749\u001b[0m     \"\"\"\n\u001b[0;32m    750\u001b[0m     \u001b[1;32mif\u001b[0m \u001b[0mlen\u001b[0m\u001b[1;33m(\u001b[0m\u001b[0mdata\u001b[0m\u001b[1;33m)\u001b[0m \u001b[1;33m!=\u001b[0m \u001b[0mlen\u001b[0m\u001b[1;33m(\u001b[0m\u001b[0mindex\u001b[0m\u001b[1;33m)\u001b[0m\u001b[1;33m:\u001b[0m\u001b[1;33m\u001b[0m\u001b[1;33m\u001b[0m\u001b[0m\n\u001b[1;32m--> 751\u001b[1;33m         raise ValueError(\n\u001b[0m\u001b[0;32m    752\u001b[0m             \u001b[1;34m\"Length of values \"\u001b[0m\u001b[1;33m\u001b[0m\u001b[1;33m\u001b[0m\u001b[0m\n\u001b[0;32m    753\u001b[0m             \u001b[1;34mf\"({len(data)}) \"\u001b[0m\u001b[1;33m\u001b[0m\u001b[1;33m\u001b[0m\u001b[0m\n",
      "\u001b[1;31mValueError\u001b[0m: Length of values (1476) does not match length of index (1414)"
     ]
    }
   ],
   "source": [
    "df2['user_id']= df1.loc[df2.index.values]['user_id'].values"
   ]
  },
  {
   "cell_type": "code",
   "execution_count": 463,
   "metadata": {},
   "outputs": [],
   "source": [
    "p = 1\n",
    "for cluster in range(n1_clusters):\n",
    "    val =  df2[df2['cluster']==cluster+1]['user_id'].value_counts(normalize=True)[0]\n",
    "    if (val<p):\n",
    "        p = val\n",
    "        o = cluster+1"
   ]
  },
  {
   "cell_type": "code",
   "execution_count": 532,
   "metadata": {},
   "outputs": [
    {
     "data": {
      "text/html": [
       "<div>\n",
       "<style scoped>\n",
       "    .dataframe tbody tr th:only-of-type {\n",
       "        vertical-align: middle;\n",
       "    }\n",
       "\n",
       "    .dataframe tbody tr th {\n",
       "        vertical-align: top;\n",
       "    }\n",
       "\n",
       "    .dataframe thead th {\n",
       "        text-align: right;\n",
       "    }\n",
       "</style>\n",
       "<table border=\"1\" class=\"dataframe\">\n",
       "  <thead>\n",
       "    <tr style=\"text-align: right;\">\n",
       "      <th></th>\n",
       "      <th>danceability</th>\n",
       "      <th>acousticness</th>\n",
       "      <th>energy</th>\n",
       "      <th>instrumentalness</th>\n",
       "      <th>liveness</th>\n",
       "      <th>valence</th>\n",
       "      <th>duration</th>\n",
       "      <th>popularity</th>\n",
       "      <th>tempo</th>\n",
       "      <th>loudness</th>\n",
       "      <th>speechiness</th>\n",
       "      <th>user_id</th>\n",
       "    </tr>\n",
       "    <tr>\n",
       "      <th>track_id</th>\n",
       "      <th></th>\n",
       "      <th></th>\n",
       "      <th></th>\n",
       "      <th></th>\n",
       "      <th></th>\n",
       "      <th></th>\n",
       "      <th></th>\n",
       "      <th></th>\n",
       "      <th></th>\n",
       "      <th></th>\n",
       "      <th></th>\n",
       "      <th></th>\n",
       "    </tr>\n",
       "  </thead>\n",
       "  <tbody>\n",
       "    <tr>\n",
       "      <th>1LKaiZTkocUx2oAKfm4Jk0</th>\n",
       "      <td>0.673</td>\n",
       "      <td>0.4920</td>\n",
       "      <td>0.367</td>\n",
       "      <td>0.0000</td>\n",
       "      <td>0.3680</td>\n",
       "      <td>0.4810</td>\n",
       "      <td>0.130165</td>\n",
       "      <td>0.447917</td>\n",
       "      <td>0.596600</td>\n",
       "      <td>0.632300</td>\n",
       "      <td>0.222792</td>\n",
       "      <td>sanjsarda</td>\n",
       "    </tr>\n",
       "    <tr>\n",
       "      <th>3TCauNPqFiniaYHBvEVoHG</th>\n",
       "      <td>0.456</td>\n",
       "      <td>0.5780</td>\n",
       "      <td>0.573</td>\n",
       "      <td>0.0000</td>\n",
       "      <td>0.1140</td>\n",
       "      <td>0.0992</td>\n",
       "      <td>0.149844</td>\n",
       "      <td>0.770833</td>\n",
       "      <td>0.170132</td>\n",
       "      <td>0.849473</td>\n",
       "      <td>0.004795</td>\n",
       "      <td>sanjsarda</td>\n",
       "    </tr>\n",
       "    <tr>\n",
       "      <th>02iW5boMzeBDVRI0dRE1Yw</th>\n",
       "      <td>0.693</td>\n",
       "      <td>0.6210</td>\n",
       "      <td>0.410</td>\n",
       "      <td>0.0000</td>\n",
       "      <td>0.1010</td>\n",
       "      <td>0.2810</td>\n",
       "      <td>0.081662</td>\n",
       "      <td>0.604167</td>\n",
       "      <td>0.567171</td>\n",
       "      <td>0.785584</td>\n",
       "      <td>0.021855</td>\n",
       "      <td>sanjsarda</td>\n",
       "    </tr>\n",
       "    <tr>\n",
       "      <th>6CbiLNbsn99SsKx5OzMWXC</th>\n",
       "      <td>0.643</td>\n",
       "      <td>0.4940</td>\n",
       "      <td>0.473</td>\n",
       "      <td>0.0000</td>\n",
       "      <td>0.2550</td>\n",
       "      <td>0.5350</td>\n",
       "      <td>0.132340</td>\n",
       "      <td>0.333333</td>\n",
       "      <td>0.538631</td>\n",
       "      <td>0.796283</td>\n",
       "      <td>0.252899</td>\n",
       "      <td>sanjsarda</td>\n",
       "    </tr>\n",
       "    <tr>\n",
       "      <th>7u6DMPznGbpziuEgCE0JGQ</th>\n",
       "      <td>0.604</td>\n",
       "      <td>0.6570</td>\n",
       "      <td>0.449</td>\n",
       "      <td>0.0000</td>\n",
       "      <td>0.0932</td>\n",
       "      <td>0.5280</td>\n",
       "      <td>0.209818</td>\n",
       "      <td>0.677083</td>\n",
       "      <td>0.309629</td>\n",
       "      <td>0.775079</td>\n",
       "      <td>0.013492</td>\n",
       "      <td>sanjsarda</td>\n",
       "    </tr>\n",
       "    <tr>\n",
       "      <th>...</th>\n",
       "      <td>...</td>\n",
       "      <td>...</td>\n",
       "      <td>...</td>\n",
       "      <td>...</td>\n",
       "      <td>...</td>\n",
       "      <td>...</td>\n",
       "      <td>...</td>\n",
       "      <td>...</td>\n",
       "      <td>...</td>\n",
       "      <td>...</td>\n",
       "      <td>...</td>\n",
       "      <td>...</td>\n",
       "    </tr>\n",
       "    <tr>\n",
       "      <th>3MODES4TNtygekLl146Dxd</th>\n",
       "      <td>0.468</td>\n",
       "      <td>0.0720</td>\n",
       "      <td>0.607</td>\n",
       "      <td>0.0000</td>\n",
       "      <td>0.2250</td>\n",
       "      <td>0.8860</td>\n",
       "      <td>0.167644</td>\n",
       "      <td>0.760417</td>\n",
       "      <td>0.298511</td>\n",
       "      <td>0.642640</td>\n",
       "      <td>0.011597</td>\n",
       "      <td>5bc0pbn945ysud6gky5r0uic9</td>\n",
       "    </tr>\n",
       "    <tr>\n",
       "      <th>3MODES4TNtygekLl146Dxd</th>\n",
       "      <td>0.512</td>\n",
       "      <td>0.0278</td>\n",
       "      <td>0.840</td>\n",
       "      <td>0.1420</td>\n",
       "      <td>0.0770</td>\n",
       "      <td>0.0589</td>\n",
       "      <td>0.167644</td>\n",
       "      <td>0.760417</td>\n",
       "      <td>0.506540</td>\n",
       "      <td>0.768102</td>\n",
       "      <td>0.025870</td>\n",
       "      <td>5bc0pbn945ysud6gky5r0uic9</td>\n",
       "    </tr>\n",
       "    <tr>\n",
       "      <th>3MODES4TNtygekLl146Dxd</th>\n",
       "      <td>0.483</td>\n",
       "      <td>0.4520</td>\n",
       "      <td>0.615</td>\n",
       "      <td>0.0000</td>\n",
       "      <td>0.0512</td>\n",
       "      <td>0.5940</td>\n",
       "      <td>0.167644</td>\n",
       "      <td>0.760417</td>\n",
       "      <td>0.195451</td>\n",
       "      <td>0.720647</td>\n",
       "      <td>0.029550</td>\n",
       "      <td>5bc0pbn945ysud6gky5r0uic9</td>\n",
       "    </tr>\n",
       "    <tr>\n",
       "      <th>0QwZfbw26QeUoIy82Z2jYp</th>\n",
       "      <td>0.476</td>\n",
       "      <td>0.0382</td>\n",
       "      <td>0.717</td>\n",
       "      <td>0.0000</td>\n",
       "      <td>0.0818</td>\n",
       "      <td>0.7530</td>\n",
       "      <td>0.097897</td>\n",
       "      <td>0.729167</td>\n",
       "      <td>0.270542</td>\n",
       "      <td>0.702614</td>\n",
       "      <td>0.079951</td>\n",
       "      <td>5bc0pbn945ysud6gky5r0uic9</td>\n",
       "    </tr>\n",
       "    <tr>\n",
       "      <th>0QwZfbw26QeUoIy82Z2jYp</th>\n",
       "      <td>0.506</td>\n",
       "      <td>0.5250</td>\n",
       "      <td>0.434</td>\n",
       "      <td>0.0011</td>\n",
       "      <td>0.2340</td>\n",
       "      <td>0.4980</td>\n",
       "      <td>0.097897</td>\n",
       "      <td>0.729167</td>\n",
       "      <td>0.195145</td>\n",
       "      <td>0.576711</td>\n",
       "      <td>0.117975</td>\n",
       "      <td>5bc0pbn945ysud6gky5r0uic9</td>\n",
       "    </tr>\n",
       "  </tbody>\n",
       "</table>\n",
       "<p>1471 rows × 12 columns</p>\n",
       "</div>"
      ],
      "text/plain": [
       "                        danceability  acousticness  energy  instrumentalness  \\\n",
       "track_id                                                                       \n",
       "1LKaiZTkocUx2oAKfm4Jk0         0.673        0.4920   0.367            0.0000   \n",
       "3TCauNPqFiniaYHBvEVoHG         0.456        0.5780   0.573            0.0000   \n",
       "02iW5boMzeBDVRI0dRE1Yw         0.693        0.6210   0.410            0.0000   \n",
       "6CbiLNbsn99SsKx5OzMWXC         0.643        0.4940   0.473            0.0000   \n",
       "7u6DMPznGbpziuEgCE0JGQ         0.604        0.6570   0.449            0.0000   \n",
       "...                              ...           ...     ...               ...   \n",
       "3MODES4TNtygekLl146Dxd         0.468        0.0720   0.607            0.0000   \n",
       "3MODES4TNtygekLl146Dxd         0.512        0.0278   0.840            0.1420   \n",
       "3MODES4TNtygekLl146Dxd         0.483        0.4520   0.615            0.0000   \n",
       "0QwZfbw26QeUoIy82Z2jYp         0.476        0.0382   0.717            0.0000   \n",
       "0QwZfbw26QeUoIy82Z2jYp         0.506        0.5250   0.434            0.0011   \n",
       "\n",
       "                        liveness  valence  duration  popularity     tempo  \\\n",
       "track_id                                                                    \n",
       "1LKaiZTkocUx2oAKfm4Jk0    0.3680   0.4810  0.130165    0.447917  0.596600   \n",
       "3TCauNPqFiniaYHBvEVoHG    0.1140   0.0992  0.149844    0.770833  0.170132   \n",
       "02iW5boMzeBDVRI0dRE1Yw    0.1010   0.2810  0.081662    0.604167  0.567171   \n",
       "6CbiLNbsn99SsKx5OzMWXC    0.2550   0.5350  0.132340    0.333333  0.538631   \n",
       "7u6DMPznGbpziuEgCE0JGQ    0.0932   0.5280  0.209818    0.677083  0.309629   \n",
       "...                          ...      ...       ...         ...       ...   \n",
       "3MODES4TNtygekLl146Dxd    0.2250   0.8860  0.167644    0.760417  0.298511   \n",
       "3MODES4TNtygekLl146Dxd    0.0770   0.0589  0.167644    0.760417  0.506540   \n",
       "3MODES4TNtygekLl146Dxd    0.0512   0.5940  0.167644    0.760417  0.195451   \n",
       "0QwZfbw26QeUoIy82Z2jYp    0.0818   0.7530  0.097897    0.729167  0.270542   \n",
       "0QwZfbw26QeUoIy82Z2jYp    0.2340   0.4980  0.097897    0.729167  0.195145   \n",
       "\n",
       "                        loudness  speechiness                    user_id  \n",
       "track_id                                                                  \n",
       "1LKaiZTkocUx2oAKfm4Jk0  0.632300     0.222792                  sanjsarda  \n",
       "3TCauNPqFiniaYHBvEVoHG  0.849473     0.004795                  sanjsarda  \n",
       "02iW5boMzeBDVRI0dRE1Yw  0.785584     0.021855                  sanjsarda  \n",
       "6CbiLNbsn99SsKx5OzMWXC  0.796283     0.252899                  sanjsarda  \n",
       "7u6DMPznGbpziuEgCE0JGQ  0.775079     0.013492                  sanjsarda  \n",
       "...                          ...          ...                        ...  \n",
       "3MODES4TNtygekLl146Dxd  0.642640     0.011597  5bc0pbn945ysud6gky5r0uic9  \n",
       "3MODES4TNtygekLl146Dxd  0.768102     0.025870  5bc0pbn945ysud6gky5r0uic9  \n",
       "3MODES4TNtygekLl146Dxd  0.720647     0.029550  5bc0pbn945ysud6gky5r0uic9  \n",
       "0QwZfbw26QeUoIy82Z2jYp  0.702614     0.079951  5bc0pbn945ysud6gky5r0uic9  \n",
       "0QwZfbw26QeUoIy82Z2jYp  0.576711     0.117975  5bc0pbn945ysud6gky5r0uic9  \n",
       "\n",
       "[1471 rows x 12 columns]"
      ]
     },
     "execution_count": 532,
     "metadata": {},
     "output_type": "execute_result"
    }
   ],
   "source": [
    "df1.loc[df2.index.values].drop_duplicates()"
   ]
  },
  {
   "cell_type": "code",
   "execution_count": 392,
   "metadata": {},
   "outputs": [
    {
     "data": {
      "text/plain": [
       "Index(['0WfV9XwpkldKdjzw4qoyAd', '2ccuOtUjIyx3tPcsnpeBzJ',\n",
       "       '7dbnw3cDgeDxOxJJ7QiAiD', '25uzAwyPekZtWzlLVvUYNS',\n",
       "       '4f9IfFvBFm7Gsf1IVEudyf', '655sojH8GGEteZTBJOFyy7',\n",
       "       '4ks4jp4jGsmffhbUegLG6S', '4YeKAwFn69ehnciOfi7Sbf',\n",
       "       '6PGJZEvtlf2EJPu9VLqI3q', '77loZpT5Y5PRP1S451P9Yz',\n",
       "       '2qPesmvW3Ybks41YWlstf1', '41OtlB4xN40fRSpq6b4QNS',\n",
       "       '0x3TibRgnSqzkcwrqBd4iX', '748mdHapucXQri7IAO8yFK',\n",
       "       '6ip4lEjzq1GQHIuikQBiZa', '0ODaBMQ3tbTefbmbMWTwdT',\n",
       "       '0gMfgLE3milkpO6Umr3aAC', '5d1OeQBC6zyHO8jc2svOZz',\n",
       "       '40LQiUUUKXVGyNs09lHVjW', '6tsOcBnaKgzK22yEiqRh8P',\n",
       "       '7bCfHiRcfUjG0YVVNUL7Ve', '1nFwdOtgSlwlauOjoWX5qv',\n",
       "       '2fTdRdN73RgIgcUZN33dvt', '1p9rgYTrfwr2vfSlHXHOyn',\n",
       "       '2S2od3hT7ceytw7d1pTRuE', '25R4HkFnzQvgMA6XOJuh4K',\n",
       "       '1fTWBmJnCUXXCFvw41ZKgy', '1aBCdCoHR7AwWQbiWEHdzA',\n",
       "       '1PTQ22h4JKA2u6BTbuZ5Oc', '17zF2ISrDrQdaULA8cxReK',\n",
       "       '4VLbLC655t2SA7MvtKwYJ5', '3RqU6RJ9TiTN0AAGiaq7hR',\n",
       "       '6bBsaqsxVchRk0jCM5BAoe', '7LjEQ8GsQiUNVakV6TZI0e',\n",
       "       '1dyxS3YzBbL0t8rEVwVQ1K', '7rBJG1BewE3VE7NRbrOhFj',\n",
       "       '312yZuclsimJbgs39iY3Fh', '4KAzYqfcijCSZa2P3etHoM',\n",
       "       '4qQwGRtGT7l6ckQtdPEFd4', '7szRiHu6r91o2Po9GTPN4c',\n",
       "       '2ShzeUs9xI2LW9kB1vTwzF', '7K0lR5Ngf5jkOWt1g6ut6l',\n",
       "       '7sdQRkMRMhJJHnOWSqQ3pF', '08kQm6vfX5pUN8TQLmBSg6',\n",
       "       '0CsR9Y9SnC6ZWmekmVqSHz', '5waPZcxgliOcZxCjswryDb',\n",
       "       '6aNy9Afzm7Fi6ysMskocBf', '3QE9qyQrIgefznSchAYJPB',\n",
       "       '0kUhkfPFkj5WNkGOKjoQxb', '6cUHiQEECDl5m3WFGQ1GCR',\n",
       "       '1BLfQ6dPXmuDrFmbdfW7Jl', '4tvBoSWeIW0bjhKNre5mod',\n",
       "       '45s7brWN56HC9xzQz8hHuR', '53jogSv23P6DFcOHcZrDs9',\n",
       "       '6Nm8h73ycDG2saCnZV8poF', '10V8XpuyMoEcSMfM79WDET',\n",
       "       '7CpbhqKUedOIrcvc94p60Y', '1NbJFhkVdD47YZ2IojKkJi',\n",
       "       '4eNnMvUrSu2TRpySjVC0Pv', '3KAS4vmuvRGP2BUQcxmu5i',\n",
       "       '03VzAAMs5PrLM42XR7ijuc', '4P4V9JQhiQEP9hr4U33lEY',\n",
       "       '40rvBMQizxkIqnjPdEWY1v', '48UPSzbZjgc449aqz8bxox',\n",
       "       '2oDqmfa2g8W893LlwJG1qu', '15f16lrsDzFeNpHYBTzHLI',\n",
       "       '1G391cbiT3v3Cywg8T7DM1', '5x8YLkZvKQDmZsD4cnCO06',\n",
       "       '0xaNdYwK8ZF3cHSjraQGC0', '6KnNDix4Owr4vNmsPhLmxD',\n",
       "       '61u3kwCoVSdYc8DH7JQZlN', '6uEvFCaOqXyEidoO8BZbyh',\n",
       "       '6PDBcqHNIg5cOojcCkhxYM', '16bLaJMBNcD8LhUvMq9KuD',\n",
       "       '3b3eu3uMp1b9xPOHbfSwBi', '3ZDnQ5UGuPvRBfUUmTmwEC',\n",
       "       '6aF5JtQSrh7wNrkDE9B0My', '3ckd4YA4LcD3j50rfIVwUe',\n",
       "       '28q3cKQVV3sYeGDFrsbxbC', '7HKRWMTErKh56EIBeFcmdf',\n",
       "       '4qVZBA7jWL23SEWOfKFjiw', '372ouFqFzQKr9ZdV2HUpk2',\n",
       "       '78lgmZwycJ3nzsdgmPPGNx', '05RgAMGypEvqhNs5hPCbMS',\n",
       "       '182RMRDl88iyYlFd3cC20j', '6QDbGdbJ57Mtkflsg42WV5',\n",
       "       '5267gVdYWrLoz6ClOhlqmE', '1feSJuQ6N1fsBkKdPJByvL',\n",
       "       '3UnxD979QlhPawzTzTYwWA', '1T5E2uDpn6AXiKkmEeRiO0',\n",
       "       '7j43FohbLVulScL7S9sQZk', '24CeaRaJHiMKFAVZTCu8Y0',\n",
       "       '2qNMzM0lcu2tth4Q2vqmDs', '0uDkk9VZCBJuGwYBLI7qog',\n",
       "       '0SMzXgUFqcAt0WNCsGm3tM', '1f2V8U1BiWaC9aJWmpOARe',\n",
       "       '4VoP6Ed9b7G80QLv5nymNU', '0cOyhnhy13lc5G5nr4EF0q',\n",
       "       '7zAt4tdL44D3VuzsvM0N8n', '6Y7McYakdykRprxwZL3YXe'],\n",
       "      dtype='object', name='track_id')"
      ]
     },
     "execution_count": 392,
     "metadata": {},
     "output_type": "execute_result"
    }
   ],
   "source": [
    "df.index"
   ]
  },
  {
   "cell_type": "code",
   "execution_count": 464,
   "metadata": {},
   "outputs": [
    {
     "name": "stdout",
     "output_type": "stream",
     "text": [
      "1\n"
     ]
    }
   ],
   "source": [
    "print (o)"
   ]
  },
  {
   "cell_type": "code",
   "execution_count": 455,
   "metadata": {},
   "outputs": [
    {
     "data": {
      "text/html": [
       "<div>\n",
       "<style scoped>\n",
       "    .dataframe tbody tr th:only-of-type {\n",
       "        vertical-align: middle;\n",
       "    }\n",
       "\n",
       "    .dataframe tbody tr th {\n",
       "        vertical-align: top;\n",
       "    }\n",
       "\n",
       "    .dataframe thead th {\n",
       "        text-align: right;\n",
       "    }\n",
       "</style>\n",
       "<table border=\"1\" class=\"dataframe\">\n",
       "  <thead>\n",
       "    <tr style=\"text-align: right;\">\n",
       "      <th></th>\n",
       "      <th>danceability</th>\n",
       "      <th>acousticness</th>\n",
       "      <th>energy</th>\n",
       "      <th>instrumentalness</th>\n",
       "      <th>liveness</th>\n",
       "      <th>valence</th>\n",
       "      <th>mode</th>\n",
       "      <th>tempo</th>\n",
       "      <th>loudness</th>\n",
       "      <th>duration_ms</th>\n",
       "      <th>key</th>\n",
       "      <th>speechiness</th>\n",
       "      <th>cluster</th>\n",
       "      <th>user_id</th>\n",
       "    </tr>\n",
       "    <tr>\n",
       "      <th>track_id</th>\n",
       "      <th></th>\n",
       "      <th></th>\n",
       "      <th></th>\n",
       "      <th></th>\n",
       "      <th></th>\n",
       "      <th></th>\n",
       "      <th></th>\n",
       "      <th></th>\n",
       "      <th></th>\n",
       "      <th></th>\n",
       "      <th></th>\n",
       "      <th></th>\n",
       "      <th></th>\n",
       "      <th></th>\n",
       "    </tr>\n",
       "  </thead>\n",
       "  <tbody>\n",
       "    <tr>\n",
       "      <th>25uzAwyPekZtWzlLVvUYNS</th>\n",
       "      <td>0.565</td>\n",
       "      <td>0.054000</td>\n",
       "      <td>0.806</td>\n",
       "      <td>0.00000</td>\n",
       "      <td>0.2040</td>\n",
       "      <td>0.683</td>\n",
       "      <td>0</td>\n",
       "      <td>0.495186</td>\n",
       "      <td>0.710197</td>\n",
       "      <td>0.196832</td>\n",
       "      <td>0.818182</td>\n",
       "      <td>0.066251</td>\n",
       "      <td>2</td>\n",
       "      <td>sanjsarda</td>\n",
       "    </tr>\n",
       "    <tr>\n",
       "      <th>0gMfgLE3milkpO6Umr3aAC</th>\n",
       "      <td>0.762</td>\n",
       "      <td>0.009650</td>\n",
       "      <td>0.552</td>\n",
       "      <td>0.00000</td>\n",
       "      <td>0.1250</td>\n",
       "      <td>0.734</td>\n",
       "      <td>0</td>\n",
       "      <td>0.162330</td>\n",
       "      <td>0.566726</td>\n",
       "      <td>0.130972</td>\n",
       "      <td>1.000000</td>\n",
       "      <td>0.085221</td>\n",
       "      <td>2</td>\n",
       "      <td>sanjsarda</td>\n",
       "    </tr>\n",
       "    <tr>\n",
       "      <th>2fTdRdN73RgIgcUZN33dvt</th>\n",
       "      <td>0.737</td>\n",
       "      <td>0.039800</td>\n",
       "      <td>0.867</td>\n",
       "      <td>0.00000</td>\n",
       "      <td>0.3200</td>\n",
       "      <td>0.506</td>\n",
       "      <td>0</td>\n",
       "      <td>0.162614</td>\n",
       "      <td>0.965206</td>\n",
       "      <td>0.128233</td>\n",
       "      <td>1.000000</td>\n",
       "      <td>0.059456</td>\n",
       "      <td>2</td>\n",
       "      <td>sanjsarda</td>\n",
       "    </tr>\n",
       "    <tr>\n",
       "      <th>2S2od3hT7ceytw7d1pTRuE</th>\n",
       "      <td>0.664</td>\n",
       "      <td>0.188000</td>\n",
       "      <td>0.738</td>\n",
       "      <td>0.00000</td>\n",
       "      <td>0.1350</td>\n",
       "      <td>0.203</td>\n",
       "      <td>0</td>\n",
       "      <td>0.336068</td>\n",
       "      <td>0.800984</td>\n",
       "      <td>0.161043</td>\n",
       "      <td>0.818182</td>\n",
       "      <td>0.025481</td>\n",
       "      <td>2</td>\n",
       "      <td>sanjsarda</td>\n",
       "    </tr>\n",
       "    <tr>\n",
       "      <th>1fTWBmJnCUXXCFvw41ZKgy</th>\n",
       "      <td>0.730</td>\n",
       "      <td>0.015800</td>\n",
       "      <td>0.704</td>\n",
       "      <td>0.00000</td>\n",
       "      <td>0.0515</td>\n",
       "      <td>0.898</td>\n",
       "      <td>0</td>\n",
       "      <td>0.573593</td>\n",
       "      <td>0.557066</td>\n",
       "      <td>0.221332</td>\n",
       "      <td>0.909091</td>\n",
       "      <td>0.095696</td>\n",
       "      <td>2</td>\n",
       "      <td>sanjsarda</td>\n",
       "    </tr>\n",
       "    <tr>\n",
       "      <th>17zF2ISrDrQdaULA8cxReK</th>\n",
       "      <td>0.693</td>\n",
       "      <td>0.049600</td>\n",
       "      <td>0.813</td>\n",
       "      <td>0.00000</td>\n",
       "      <td>0.2890</td>\n",
       "      <td>0.515</td>\n",
       "      <td>0</td>\n",
       "      <td>0.098986</td>\n",
       "      <td>0.777191</td>\n",
       "      <td>0.243557</td>\n",
       "      <td>0.636364</td>\n",
       "      <td>0.116648</td>\n",
       "      <td>2</td>\n",
       "      <td>sanjsarda</td>\n",
       "    </tr>\n",
       "    <tr>\n",
       "      <th>3RqU6RJ9TiTN0AAGiaq7hR</th>\n",
       "      <td>0.722</td>\n",
       "      <td>0.196000</td>\n",
       "      <td>0.699</td>\n",
       "      <td>0.00462</td>\n",
       "      <td>0.1110</td>\n",
       "      <td>0.613</td>\n",
       "      <td>0</td>\n",
       "      <td>0.273247</td>\n",
       "      <td>0.794365</td>\n",
       "      <td>0.250379</td>\n",
       "      <td>0.727273</td>\n",
       "      <td>0.007361</td>\n",
       "      <td>2</td>\n",
       "      <td>sanjsarda</td>\n",
       "    </tr>\n",
       "    <tr>\n",
       "      <th>6bBsaqsxVchRk0jCM5BAoe</th>\n",
       "      <td>0.626</td>\n",
       "      <td>0.117000</td>\n",
       "      <td>0.840</td>\n",
       "      <td>0.00000</td>\n",
       "      <td>0.2160</td>\n",
       "      <td>0.737</td>\n",
       "      <td>0</td>\n",
       "      <td>0.526857</td>\n",
       "      <td>0.546064</td>\n",
       "      <td>0.199203</td>\n",
       "      <td>0.909091</td>\n",
       "      <td>0.080691</td>\n",
       "      <td>2</td>\n",
       "      <td>sanjsarda</td>\n",
       "    </tr>\n",
       "    <tr>\n",
       "      <th>7szRiHu6r91o2Po9GTPN4c</th>\n",
       "      <td>0.702</td>\n",
       "      <td>0.568000</td>\n",
       "      <td>0.711</td>\n",
       "      <td>0.00000</td>\n",
       "      <td>0.1040</td>\n",
       "      <td>0.498</td>\n",
       "      <td>0</td>\n",
       "      <td>0.177948</td>\n",
       "      <td>0.568247</td>\n",
       "      <td>0.211682</td>\n",
       "      <td>0.545455</td>\n",
       "      <td>0.000000</td>\n",
       "      <td>2</td>\n",
       "      <td>sanjsarda</td>\n",
       "    </tr>\n",
       "    <tr>\n",
       "      <th>10V8XpuyMoEcSMfM79WDET</th>\n",
       "      <td>0.518</td>\n",
       "      <td>0.005040</td>\n",
       "      <td>0.948</td>\n",
       "      <td>0.10400</td>\n",
       "      <td>0.2280</td>\n",
       "      <td>0.550</td>\n",
       "      <td>0</td>\n",
       "      <td>0.201976</td>\n",
       "      <td>0.668157</td>\n",
       "      <td>0.174535</td>\n",
       "      <td>0.545455</td>\n",
       "      <td>0.123160</td>\n",
       "      <td>2</td>\n",
       "      <td>5bc0pbn945ysud6gky5r0uic9</td>\n",
       "    </tr>\n",
       "    <tr>\n",
       "      <th>40rvBMQizxkIqnjPdEWY1v</th>\n",
       "      <td>0.695</td>\n",
       "      <td>0.000996</td>\n",
       "      <td>0.876</td>\n",
       "      <td>0.00000</td>\n",
       "      <td>0.1060</td>\n",
       "      <td>0.941</td>\n",
       "      <td>0</td>\n",
       "      <td>0.098559</td>\n",
       "      <td>0.786047</td>\n",
       "      <td>0.315675</td>\n",
       "      <td>0.272727</td>\n",
       "      <td>0.086353</td>\n",
       "      <td>2</td>\n",
       "      <td>5bc0pbn945ysud6gky5r0uic9</td>\n",
       "    </tr>\n",
       "    <tr>\n",
       "      <th>48UPSzbZjgc449aqz8bxox</th>\n",
       "      <td>0.592</td>\n",
       "      <td>0.002100</td>\n",
       "      <td>0.767</td>\n",
       "      <td>0.00165</td>\n",
       "      <td>0.1270</td>\n",
       "      <td>0.328</td>\n",
       "      <td>0</td>\n",
       "      <td>0.150216</td>\n",
       "      <td>0.917889</td>\n",
       "      <td>0.407310</td>\n",
       "      <td>0.818182</td>\n",
       "      <td>0.006229</td>\n",
       "      <td>2</td>\n",
       "      <td>5bc0pbn945ysud6gky5r0uic9</td>\n",
       "    </tr>\n",
       "    <tr>\n",
       "      <th>2oDqmfa2g8W893LlwJG1qu</th>\n",
       "      <td>0.547</td>\n",
       "      <td>0.000242</td>\n",
       "      <td>0.714</td>\n",
       "      <td>0.63600</td>\n",
       "      <td>0.1220</td>\n",
       "      <td>0.541</td>\n",
       "      <td>0</td>\n",
       "      <td>0.098892</td>\n",
       "      <td>0.395528</td>\n",
       "      <td>0.485789</td>\n",
       "      <td>0.909091</td>\n",
       "      <td>0.054360</td>\n",
       "      <td>2</td>\n",
       "      <td>5bc0pbn945ysud6gky5r0uic9</td>\n",
       "    </tr>\n",
       "    <tr>\n",
       "      <th>6uEvFCaOqXyEidoO8BZbyh</th>\n",
       "      <td>0.640</td>\n",
       "      <td>0.003690</td>\n",
       "      <td>0.922</td>\n",
       "      <td>0.05500</td>\n",
       "      <td>0.3320</td>\n",
       "      <td>0.716</td>\n",
       "      <td>0</td>\n",
       "      <td>0.376672</td>\n",
       "      <td>0.605277</td>\n",
       "      <td>0.234078</td>\n",
       "      <td>0.818182</td>\n",
       "      <td>0.038788</td>\n",
       "      <td>2</td>\n",
       "      <td>5bc0pbn945ysud6gky5r0uic9</td>\n",
       "    </tr>\n",
       "    <tr>\n",
       "      <th>372ouFqFzQKr9ZdV2HUpk2</th>\n",
       "      <td>0.533</td>\n",
       "      <td>0.000077</td>\n",
       "      <td>0.939</td>\n",
       "      <td>0.00000</td>\n",
       "      <td>0.3200</td>\n",
       "      <td>0.647</td>\n",
       "      <td>0</td>\n",
       "      <td>0.415552</td>\n",
       "      <td>1.000000</td>\n",
       "      <td>0.111364</td>\n",
       "      <td>0.818182</td>\n",
       "      <td>0.044734</td>\n",
       "      <td>2</td>\n",
       "      <td>5bc0pbn945ysud6gky5r0uic9</td>\n",
       "    </tr>\n",
       "    <tr>\n",
       "      <th>0SMzXgUFqcAt0WNCsGm3tM</th>\n",
       "      <td>0.670</td>\n",
       "      <td>0.137000</td>\n",
       "      <td>0.750</td>\n",
       "      <td>0.00000</td>\n",
       "      <td>0.1970</td>\n",
       "      <td>0.880</td>\n",
       "      <td>0</td>\n",
       "      <td>0.035952</td>\n",
       "      <td>0.675134</td>\n",
       "      <td>0.177315</td>\n",
       "      <td>0.545455</td>\n",
       "      <td>0.094847</td>\n",
       "      <td>2</td>\n",
       "      <td>5bc0pbn945ysud6gky5r0uic9</td>\n",
       "    </tr>\n",
       "  </tbody>\n",
       "</table>\n",
       "</div>"
      ],
      "text/plain": [
       "                        danceability  acousticness  energy  instrumentalness  \\\n",
       "track_id                                                                       \n",
       "25uzAwyPekZtWzlLVvUYNS         0.565      0.054000   0.806           0.00000   \n",
       "0gMfgLE3milkpO6Umr3aAC         0.762      0.009650   0.552           0.00000   \n",
       "2fTdRdN73RgIgcUZN33dvt         0.737      0.039800   0.867           0.00000   \n",
       "2S2od3hT7ceytw7d1pTRuE         0.664      0.188000   0.738           0.00000   \n",
       "1fTWBmJnCUXXCFvw41ZKgy         0.730      0.015800   0.704           0.00000   \n",
       "17zF2ISrDrQdaULA8cxReK         0.693      0.049600   0.813           0.00000   \n",
       "3RqU6RJ9TiTN0AAGiaq7hR         0.722      0.196000   0.699           0.00462   \n",
       "6bBsaqsxVchRk0jCM5BAoe         0.626      0.117000   0.840           0.00000   \n",
       "7szRiHu6r91o2Po9GTPN4c         0.702      0.568000   0.711           0.00000   \n",
       "10V8XpuyMoEcSMfM79WDET         0.518      0.005040   0.948           0.10400   \n",
       "40rvBMQizxkIqnjPdEWY1v         0.695      0.000996   0.876           0.00000   \n",
       "48UPSzbZjgc449aqz8bxox         0.592      0.002100   0.767           0.00165   \n",
       "2oDqmfa2g8W893LlwJG1qu         0.547      0.000242   0.714           0.63600   \n",
       "6uEvFCaOqXyEidoO8BZbyh         0.640      0.003690   0.922           0.05500   \n",
       "372ouFqFzQKr9ZdV2HUpk2         0.533      0.000077   0.939           0.00000   \n",
       "0SMzXgUFqcAt0WNCsGm3tM         0.670      0.137000   0.750           0.00000   \n",
       "\n",
       "                        liveness  valence  mode     tempo  loudness  \\\n",
       "track_id                                                              \n",
       "25uzAwyPekZtWzlLVvUYNS    0.2040    0.683     0  0.495186  0.710197   \n",
       "0gMfgLE3milkpO6Umr3aAC    0.1250    0.734     0  0.162330  0.566726   \n",
       "2fTdRdN73RgIgcUZN33dvt    0.3200    0.506     0  0.162614  0.965206   \n",
       "2S2od3hT7ceytw7d1pTRuE    0.1350    0.203     0  0.336068  0.800984   \n",
       "1fTWBmJnCUXXCFvw41ZKgy    0.0515    0.898     0  0.573593  0.557066   \n",
       "17zF2ISrDrQdaULA8cxReK    0.2890    0.515     0  0.098986  0.777191   \n",
       "3RqU6RJ9TiTN0AAGiaq7hR    0.1110    0.613     0  0.273247  0.794365   \n",
       "6bBsaqsxVchRk0jCM5BAoe    0.2160    0.737     0  0.526857  0.546064   \n",
       "7szRiHu6r91o2Po9GTPN4c    0.1040    0.498     0  0.177948  0.568247   \n",
       "10V8XpuyMoEcSMfM79WDET    0.2280    0.550     0  0.201976  0.668157   \n",
       "40rvBMQizxkIqnjPdEWY1v    0.1060    0.941     0  0.098559  0.786047   \n",
       "48UPSzbZjgc449aqz8bxox    0.1270    0.328     0  0.150216  0.917889   \n",
       "2oDqmfa2g8W893LlwJG1qu    0.1220    0.541     0  0.098892  0.395528   \n",
       "6uEvFCaOqXyEidoO8BZbyh    0.3320    0.716     0  0.376672  0.605277   \n",
       "372ouFqFzQKr9ZdV2HUpk2    0.3200    0.647     0  0.415552  1.000000   \n",
       "0SMzXgUFqcAt0WNCsGm3tM    0.1970    0.880     0  0.035952  0.675134   \n",
       "\n",
       "                        duration_ms       key  speechiness  cluster  \\\n",
       "track_id                                                              \n",
       "25uzAwyPekZtWzlLVvUYNS     0.196832  0.818182     0.066251        2   \n",
       "0gMfgLE3milkpO6Umr3aAC     0.130972  1.000000     0.085221        2   \n",
       "2fTdRdN73RgIgcUZN33dvt     0.128233  1.000000     0.059456        2   \n",
       "2S2od3hT7ceytw7d1pTRuE     0.161043  0.818182     0.025481        2   \n",
       "1fTWBmJnCUXXCFvw41ZKgy     0.221332  0.909091     0.095696        2   \n",
       "17zF2ISrDrQdaULA8cxReK     0.243557  0.636364     0.116648        2   \n",
       "3RqU6RJ9TiTN0AAGiaq7hR     0.250379  0.727273     0.007361        2   \n",
       "6bBsaqsxVchRk0jCM5BAoe     0.199203  0.909091     0.080691        2   \n",
       "7szRiHu6r91o2Po9GTPN4c     0.211682  0.545455     0.000000        2   \n",
       "10V8XpuyMoEcSMfM79WDET     0.174535  0.545455     0.123160        2   \n",
       "40rvBMQizxkIqnjPdEWY1v     0.315675  0.272727     0.086353        2   \n",
       "48UPSzbZjgc449aqz8bxox     0.407310  0.818182     0.006229        2   \n",
       "2oDqmfa2g8W893LlwJG1qu     0.485789  0.909091     0.054360        2   \n",
       "6uEvFCaOqXyEidoO8BZbyh     0.234078  0.818182     0.038788        2   \n",
       "372ouFqFzQKr9ZdV2HUpk2     0.111364  0.818182     0.044734        2   \n",
       "0SMzXgUFqcAt0WNCsGm3tM     0.177315  0.545455     0.094847        2   \n",
       "\n",
       "                                          user_id  \n",
       "track_id                                           \n",
       "25uzAwyPekZtWzlLVvUYNS                  sanjsarda  \n",
       "0gMfgLE3milkpO6Umr3aAC                  sanjsarda  \n",
       "2fTdRdN73RgIgcUZN33dvt                  sanjsarda  \n",
       "2S2od3hT7ceytw7d1pTRuE                  sanjsarda  \n",
       "1fTWBmJnCUXXCFvw41ZKgy                  sanjsarda  \n",
       "17zF2ISrDrQdaULA8cxReK                  sanjsarda  \n",
       "3RqU6RJ9TiTN0AAGiaq7hR                  sanjsarda  \n",
       "6bBsaqsxVchRk0jCM5BAoe                  sanjsarda  \n",
       "7szRiHu6r91o2Po9GTPN4c                  sanjsarda  \n",
       "10V8XpuyMoEcSMfM79WDET  5bc0pbn945ysud6gky5r0uic9  \n",
       "40rvBMQizxkIqnjPdEWY1v  5bc0pbn945ysud6gky5r0uic9  \n",
       "48UPSzbZjgc449aqz8bxox  5bc0pbn945ysud6gky5r0uic9  \n",
       "2oDqmfa2g8W893LlwJG1qu  5bc0pbn945ysud6gky5r0uic9  \n",
       "6uEvFCaOqXyEidoO8BZbyh  5bc0pbn945ysud6gky5r0uic9  \n",
       "372ouFqFzQKr9ZdV2HUpk2  5bc0pbn945ysud6gky5r0uic9  \n",
       "0SMzXgUFqcAt0WNCsGm3tM  5bc0pbn945ysud6gky5r0uic9  "
      ]
     },
     "execution_count": 455,
     "metadata": {},
     "output_type": "execute_result"
    }
   ],
   "source": [
    "final = df2[df2['cluster']==o]\n",
    "final"
   ]
  },
  {
   "cell_type": "code",
   "execution_count": 465,
   "metadata": {},
   "outputs": [
    {
     "data": {
      "text/html": [
       "<div>\n",
       "<style scoped>\n",
       "    .dataframe tbody tr th:only-of-type {\n",
       "        vertical-align: middle;\n",
       "    }\n",
       "\n",
       "    .dataframe tbody tr th {\n",
       "        vertical-align: top;\n",
       "    }\n",
       "\n",
       "    .dataframe thead th {\n",
       "        text-align: right;\n",
       "    }\n",
       "</style>\n",
       "<table border=\"1\" class=\"dataframe\">\n",
       "  <thead>\n",
       "    <tr style=\"text-align: right;\">\n",
       "      <th></th>\n",
       "      <th>danceability</th>\n",
       "      <th>acousticness</th>\n",
       "      <th>energy</th>\n",
       "      <th>instrumentalness</th>\n",
       "      <th>liveness</th>\n",
       "      <th>valence</th>\n",
       "      <th>mode</th>\n",
       "      <th>tempo</th>\n",
       "      <th>loudness</th>\n",
       "      <th>duration_ms</th>\n",
       "      <th>key</th>\n",
       "      <th>speechiness</th>\n",
       "      <th>cluster</th>\n",
       "      <th>user_id</th>\n",
       "    </tr>\n",
       "    <tr>\n",
       "      <th>track_id</th>\n",
       "      <th></th>\n",
       "      <th></th>\n",
       "      <th></th>\n",
       "      <th></th>\n",
       "      <th></th>\n",
       "      <th></th>\n",
       "      <th></th>\n",
       "      <th></th>\n",
       "      <th></th>\n",
       "      <th></th>\n",
       "      <th></th>\n",
       "      <th></th>\n",
       "      <th></th>\n",
       "      <th></th>\n",
       "    </tr>\n",
       "  </thead>\n",
       "  <tbody>\n",
       "    <tr>\n",
       "      <th>0WfV9XwpkldKdjzw4qoyAd</th>\n",
       "      <td>0.624</td>\n",
       "      <td>0.007250</td>\n",
       "      <td>0.562</td>\n",
       "      <td>0.00000</td>\n",
       "      <td>0.0937</td>\n",
       "      <td>0.4780</td>\n",
       "      <td>1</td>\n",
       "      <td>0.256830</td>\n",
       "      <td>0.589893</td>\n",
       "      <td>0.145530</td>\n",
       "      <td>0.000000</td>\n",
       "      <td>0.010476</td>\n",
       "      <td>1</td>\n",
       "      <td>sanjsarda</td>\n",
       "    </tr>\n",
       "    <tr>\n",
       "      <th>7dbnw3cDgeDxOxJJ7QiAiD</th>\n",
       "      <td>0.750</td>\n",
       "      <td>0.111000</td>\n",
       "      <td>0.548</td>\n",
       "      <td>0.00000</td>\n",
       "      <td>0.0633</td>\n",
       "      <td>0.4970</td>\n",
       "      <td>1</td>\n",
       "      <td>0.186200</td>\n",
       "      <td>0.478175</td>\n",
       "      <td>0.110436</td>\n",
       "      <td>0.181818</td>\n",
       "      <td>0.069083</td>\n",
       "      <td>1</td>\n",
       "      <td>sanjsarda</td>\n",
       "    </tr>\n",
       "    <tr>\n",
       "      <th>655sojH8GGEteZTBJOFyy7</th>\n",
       "      <td>0.667</td>\n",
       "      <td>0.006400</td>\n",
       "      <td>0.679</td>\n",
       "      <td>0.00000</td>\n",
       "      <td>0.1700</td>\n",
       "      <td>0.3200</td>\n",
       "      <td>1</td>\n",
       "      <td>0.178470</td>\n",
       "      <td>0.575492</td>\n",
       "      <td>0.113238</td>\n",
       "      <td>0.000000</td>\n",
       "      <td>0.064270</td>\n",
       "      <td>1</td>\n",
       "      <td>sanjsarda</td>\n",
       "    </tr>\n",
       "    <tr>\n",
       "      <th>4ks4jp4jGsmffhbUegLG6S</th>\n",
       "      <td>0.521</td>\n",
       "      <td>0.042200</td>\n",
       "      <td>0.883</td>\n",
       "      <td>0.00000</td>\n",
       "      <td>0.1050</td>\n",
       "      <td>0.8050</td>\n",
       "      <td>1</td>\n",
       "      <td>0.027573</td>\n",
       "      <td>0.826744</td>\n",
       "      <td>0.104013</td>\n",
       "      <td>0.090909</td>\n",
       "      <td>0.104190</td>\n",
       "      <td>1</td>\n",
       "      <td>sanjsarda</td>\n",
       "    </tr>\n",
       "    <tr>\n",
       "      <th>77loZpT5Y5PRP1S451P9Yz</th>\n",
       "      <td>0.472</td>\n",
       "      <td>0.012900</td>\n",
       "      <td>0.671</td>\n",
       "      <td>0.00000</td>\n",
       "      <td>0.1590</td>\n",
       "      <td>0.0681</td>\n",
       "      <td>1</td>\n",
       "      <td>0.043160</td>\n",
       "      <td>0.751431</td>\n",
       "      <td>0.231489</td>\n",
       "      <td>0.363636</td>\n",
       "      <td>0.011891</td>\n",
       "      <td>1</td>\n",
       "      <td>sanjsarda</td>\n",
       "    </tr>\n",
       "    <tr>\n",
       "      <th>41OtlB4xN40fRSpq6b4QNS</th>\n",
       "      <td>0.495</td>\n",
       "      <td>0.491000</td>\n",
       "      <td>0.550</td>\n",
       "      <td>0.00000</td>\n",
       "      <td>0.2160</td>\n",
       "      <td>0.0500</td>\n",
       "      <td>1</td>\n",
       "      <td>0.163501</td>\n",
       "      <td>0.414401</td>\n",
       "      <td>0.169033</td>\n",
       "      <td>0.181818</td>\n",
       "      <td>0.152039</td>\n",
       "      <td>1</td>\n",
       "      <td>sanjsarda</td>\n",
       "    </tr>\n",
       "    <tr>\n",
       "      <th>0x3TibRgnSqzkcwrqBd4iX</th>\n",
       "      <td>0.700</td>\n",
       "      <td>0.036900</td>\n",
       "      <td>0.598</td>\n",
       "      <td>0.00000</td>\n",
       "      <td>0.1110</td>\n",
       "      <td>0.5940</td>\n",
       "      <td>1</td>\n",
       "      <td>0.653084</td>\n",
       "      <td>0.471109</td>\n",
       "      <td>0.223605</td>\n",
       "      <td>0.181818</td>\n",
       "      <td>0.252548</td>\n",
       "      <td>1</td>\n",
       "      <td>sanjsarda</td>\n",
       "    </tr>\n",
       "    <tr>\n",
       "      <th>0ODaBMQ3tbTefbmbMWTwdT</th>\n",
       "      <td>0.463</td>\n",
       "      <td>0.037900</td>\n",
       "      <td>0.760</td>\n",
       "      <td>0.00000</td>\n",
       "      <td>0.1150</td>\n",
       "      <td>0.6500</td>\n",
       "      <td>1</td>\n",
       "      <td>0.367131</td>\n",
       "      <td>0.634347</td>\n",
       "      <td>0.107327</td>\n",
       "      <td>0.181818</td>\n",
       "      <td>0.241223</td>\n",
       "      <td>1</td>\n",
       "      <td>sanjsarda</td>\n",
       "    </tr>\n",
       "    <tr>\n",
       "      <th>40LQiUUUKXVGyNs09lHVjW</th>\n",
       "      <td>0.476</td>\n",
       "      <td>0.021700</td>\n",
       "      <td>0.736</td>\n",
       "      <td>0.00000</td>\n",
       "      <td>0.2030</td>\n",
       "      <td>0.2510</td>\n",
       "      <td>1</td>\n",
       "      <td>0.408154</td>\n",
       "      <td>0.686047</td>\n",
       "      <td>0.284187</td>\n",
       "      <td>0.181818</td>\n",
       "      <td>0.026897</td>\n",
       "      <td>1</td>\n",
       "      <td>sanjsarda</td>\n",
       "    </tr>\n",
       "    <tr>\n",
       "      <th>6tsOcBnaKgzK22yEiqRh8P</th>\n",
       "      <td>0.892</td>\n",
       "      <td>0.704000</td>\n",
       "      <td>0.507</td>\n",
       "      <td>0.00000</td>\n",
       "      <td>0.1090</td>\n",
       "      <td>0.6950</td>\n",
       "      <td>1</td>\n",
       "      <td>0.525852</td>\n",
       "      <td>0.426476</td>\n",
       "      <td>0.096879</td>\n",
       "      <td>0.000000</td>\n",
       "      <td>1.000000</td>\n",
       "      <td>1</td>\n",
       "      <td>sanjsarda</td>\n",
       "    </tr>\n",
       "    <tr>\n",
       "      <th>7bCfHiRcfUjG0YVVNUL7Ve</th>\n",
       "      <td>0.614</td>\n",
       "      <td>0.001610</td>\n",
       "      <td>0.937</td>\n",
       "      <td>0.00136</td>\n",
       "      <td>0.1030</td>\n",
       "      <td>0.3860</td>\n",
       "      <td>1</td>\n",
       "      <td>0.059205</td>\n",
       "      <td>0.501521</td>\n",
       "      <td>0.000000</td>\n",
       "      <td>0.090909</td>\n",
       "      <td>0.255379</td>\n",
       "      <td>1</td>\n",
       "      <td>sanjsarda</td>\n",
       "    </tr>\n",
       "    <tr>\n",
       "      <th>1nFwdOtgSlwlauOjoWX5qv</th>\n",
       "      <td>0.560</td>\n",
       "      <td>0.359000</td>\n",
       "      <td>0.738</td>\n",
       "      <td>0.00000</td>\n",
       "      <td>0.1850</td>\n",
       "      <td>0.2540</td>\n",
       "      <td>1</td>\n",
       "      <td>0.518993</td>\n",
       "      <td>0.585420</td>\n",
       "      <td>0.177529</td>\n",
       "      <td>0.000000</td>\n",
       "      <td>0.108154</td>\n",
       "      <td>1</td>\n",
       "      <td>sanjsarda</td>\n",
       "    </tr>\n",
       "    <tr>\n",
       "      <th>25R4HkFnzQvgMA6XOJuh4K</th>\n",
       "      <td>0.737</td>\n",
       "      <td>0.030600</td>\n",
       "      <td>0.456</td>\n",
       "      <td>0.00000</td>\n",
       "      <td>0.0863</td>\n",
       "      <td>0.4200</td>\n",
       "      <td>1</td>\n",
       "      <td>0.438148</td>\n",
       "      <td>0.291503</td>\n",
       "      <td>0.164577</td>\n",
       "      <td>0.000000</td>\n",
       "      <td>0.161099</td>\n",
       "      <td>1</td>\n",
       "      <td>sanjsarda</td>\n",
       "    </tr>\n",
       "    <tr>\n",
       "      <th>7LjEQ8GsQiUNVakV6TZI0e</th>\n",
       "      <td>0.705</td>\n",
       "      <td>0.079900</td>\n",
       "      <td>0.707</td>\n",
       "      <td>0.00000</td>\n",
       "      <td>0.1490</td>\n",
       "      <td>0.4520</td>\n",
       "      <td>1</td>\n",
       "      <td>0.320252</td>\n",
       "      <td>0.704472</td>\n",
       "      <td>0.186024</td>\n",
       "      <td>0.000000</td>\n",
       "      <td>0.080974</td>\n",
       "      <td>1</td>\n",
       "      <td>sanjsarda</td>\n",
       "    </tr>\n",
       "    <tr>\n",
       "      <th>4KAzYqfcijCSZa2P3etHoM</th>\n",
       "      <td>0.623</td>\n",
       "      <td>0.646000</td>\n",
       "      <td>0.590</td>\n",
       "      <td>0.00000</td>\n",
       "      <td>0.2950</td>\n",
       "      <td>0.5790</td>\n",
       "      <td>1</td>\n",
       "      <td>0.471347</td>\n",
       "      <td>0.718784</td>\n",
       "      <td>0.179614</td>\n",
       "      <td>0.363636</td>\n",
       "      <td>0.009060</td>\n",
       "      <td>1</td>\n",
       "      <td>sanjsarda</td>\n",
       "    </tr>\n",
       "    <tr>\n",
       "      <th>4qQwGRtGT7l6ckQtdPEFd4</th>\n",
       "      <td>0.651</td>\n",
       "      <td>0.582000</td>\n",
       "      <td>0.708</td>\n",
       "      <td>0.00000</td>\n",
       "      <td>0.0796</td>\n",
       "      <td>0.5580</td>\n",
       "      <td>1</td>\n",
       "      <td>0.335997</td>\n",
       "      <td>0.738730</td>\n",
       "      <td>0.177292</td>\n",
       "      <td>0.363636</td>\n",
       "      <td>0.036240</td>\n",
       "      <td>1</td>\n",
       "      <td>sanjsarda</td>\n",
       "    </tr>\n",
       "    <tr>\n",
       "      <th>08kQm6vfX5pUN8TQLmBSg6</th>\n",
       "      <td>0.531</td>\n",
       "      <td>0.550000</td>\n",
       "      <td>0.474</td>\n",
       "      <td>0.00000</td>\n",
       "      <td>0.0487</td>\n",
       "      <td>0.3550</td>\n",
       "      <td>1</td>\n",
       "      <td>0.054600</td>\n",
       "      <td>0.571199</td>\n",
       "      <td>0.162765</td>\n",
       "      <td>0.090909</td>\n",
       "      <td>0.000849</td>\n",
       "      <td>1</td>\n",
       "      <td>sanjsarda</td>\n",
       "    </tr>\n",
       "    <tr>\n",
       "      <th>6aNy9Afzm7Fi6ysMskocBf</th>\n",
       "      <td>0.645</td>\n",
       "      <td>0.029300</td>\n",
       "      <td>0.904</td>\n",
       "      <td>0.00000</td>\n",
       "      <td>0.0834</td>\n",
       "      <td>0.6710</td>\n",
       "      <td>1</td>\n",
       "      <td>0.225277</td>\n",
       "      <td>0.761896</td>\n",
       "      <td>0.218357</td>\n",
       "      <td>0.181818</td>\n",
       "      <td>0.060589</td>\n",
       "      <td>1</td>\n",
       "      <td>sanjsarda</td>\n",
       "    </tr>\n",
       "    <tr>\n",
       "      <th>1NbJFhkVdD47YZ2IojKkJi</th>\n",
       "      <td>0.673</td>\n",
       "      <td>0.000367</td>\n",
       "      <td>0.911</td>\n",
       "      <td>0.62800</td>\n",
       "      <td>0.1010</td>\n",
       "      <td>0.5400</td>\n",
       "      <td>1</td>\n",
       "      <td>0.189650</td>\n",
       "      <td>0.565742</td>\n",
       "      <td>0.296715</td>\n",
       "      <td>0.090909</td>\n",
       "      <td>0.129955</td>\n",
       "      <td>1</td>\n",
       "      <td>5bc0pbn945ysud6gky5r0uic9</td>\n",
       "    </tr>\n",
       "    <tr>\n",
       "      <th>3KAS4vmuvRGP2BUQcxmu5i</th>\n",
       "      <td>0.730</td>\n",
       "      <td>0.000111</td>\n",
       "      <td>0.907</td>\n",
       "      <td>0.00816</td>\n",
       "      <td>0.2660</td>\n",
       "      <td>0.5730</td>\n",
       "      <td>1</td>\n",
       "      <td>0.304761</td>\n",
       "      <td>0.766726</td>\n",
       "      <td>0.105005</td>\n",
       "      <td>0.181818</td>\n",
       "      <td>0.135617</td>\n",
       "      <td>1</td>\n",
       "      <td>5bc0pbn945ysud6gky5r0uic9</td>\n",
       "    </tr>\n",
       "    <tr>\n",
       "      <th>4P4V9JQhiQEP9hr4U33lEY</th>\n",
       "      <td>0.617</td>\n",
       "      <td>0.000064</td>\n",
       "      <td>0.850</td>\n",
       "      <td>0.00000</td>\n",
       "      <td>0.4810</td>\n",
       "      <td>0.5890</td>\n",
       "      <td>1</td>\n",
       "      <td>0.376079</td>\n",
       "      <td>0.760912</td>\n",
       "      <td>0.152284</td>\n",
       "      <td>0.000000</td>\n",
       "      <td>0.021801</td>\n",
       "      <td>1</td>\n",
       "      <td>5bc0pbn945ysud6gky5r0uic9</td>\n",
       "    </tr>\n",
       "    <tr>\n",
       "      <th>1G391cbiT3v3Cywg8T7DM1</th>\n",
       "      <td>0.595</td>\n",
       "      <td>0.077900</td>\n",
       "      <td>0.717</td>\n",
       "      <td>0.00274</td>\n",
       "      <td>0.1080</td>\n",
       "      <td>0.5470</td>\n",
       "      <td>1</td>\n",
       "      <td>0.090766</td>\n",
       "      <td>0.737657</td>\n",
       "      <td>0.200848</td>\n",
       "      <td>0.000000</td>\n",
       "      <td>0.013307</td>\n",
       "      <td>1</td>\n",
       "      <td>5bc0pbn945ysud6gky5r0uic9</td>\n",
       "    </tr>\n",
       "    <tr>\n",
       "      <th>61u3kwCoVSdYc8DH7JQZlN</th>\n",
       "      <td>0.627</td>\n",
       "      <td>0.011700</td>\n",
       "      <td>0.847</td>\n",
       "      <td>0.00000</td>\n",
       "      <td>0.3170</td>\n",
       "      <td>0.6200</td>\n",
       "      <td>1</td>\n",
       "      <td>0.258135</td>\n",
       "      <td>0.765027</td>\n",
       "      <td>0.188224</td>\n",
       "      <td>0.181818</td>\n",
       "      <td>0.047282</td>\n",
       "      <td>1</td>\n",
       "      <td>5bc0pbn945ysud6gky5r0uic9</td>\n",
       "    </tr>\n",
       "    <tr>\n",
       "      <th>3b3eu3uMp1b9xPOHbfSwBi</th>\n",
       "      <td>0.605</td>\n",
       "      <td>0.061200</td>\n",
       "      <td>0.627</td>\n",
       "      <td>0.00000</td>\n",
       "      <td>0.1060</td>\n",
       "      <td>0.2430</td>\n",
       "      <td>1</td>\n",
       "      <td>0.336282</td>\n",
       "      <td>0.500537</td>\n",
       "      <td>0.367866</td>\n",
       "      <td>0.000000</td>\n",
       "      <td>0.004813</td>\n",
       "      <td>1</td>\n",
       "      <td>5bc0pbn945ysud6gky5r0uic9</td>\n",
       "    </tr>\n",
       "    <tr>\n",
       "      <th>3ZDnQ5UGuPvRBfUUmTmwEC</th>\n",
       "      <td>0.552</td>\n",
       "      <td>0.011500</td>\n",
       "      <td>0.946</td>\n",
       "      <td>0.00000</td>\n",
       "      <td>0.0801</td>\n",
       "      <td>0.2100</td>\n",
       "      <td>1</td>\n",
       "      <td>0.318504</td>\n",
       "      <td>0.803757</td>\n",
       "      <td>0.222759</td>\n",
       "      <td>0.000000</td>\n",
       "      <td>0.235561</td>\n",
       "      <td>1</td>\n",
       "      <td>5bc0pbn945ysud6gky5r0uic9</td>\n",
       "    </tr>\n",
       "    <tr>\n",
       "      <th>4qVZBA7jWL23SEWOfKFjiw</th>\n",
       "      <td>0.411</td>\n",
       "      <td>0.000026</td>\n",
       "      <td>0.954</td>\n",
       "      <td>0.33000</td>\n",
       "      <td>0.1040</td>\n",
       "      <td>0.5400</td>\n",
       "      <td>1</td>\n",
       "      <td>0.842315</td>\n",
       "      <td>0.712880</td>\n",
       "      <td>0.203797</td>\n",
       "      <td>0.090909</td>\n",
       "      <td>0.249717</td>\n",
       "      <td>1</td>\n",
       "      <td>5bc0pbn945ysud6gky5r0uic9</td>\n",
       "    </tr>\n",
       "    <tr>\n",
       "      <th>6QDbGdbJ57Mtkflsg42WV5</th>\n",
       "      <td>0.552</td>\n",
       "      <td>0.000652</td>\n",
       "      <td>0.947</td>\n",
       "      <td>0.00000</td>\n",
       "      <td>0.0637</td>\n",
       "      <td>0.4650</td>\n",
       "      <td>1</td>\n",
       "      <td>0.396658</td>\n",
       "      <td>0.749463</td>\n",
       "      <td>0.322085</td>\n",
       "      <td>0.181818</td>\n",
       "      <td>0.354473</td>\n",
       "      <td>1</td>\n",
       "      <td>5bc0pbn945ysud6gky5r0uic9</td>\n",
       "    </tr>\n",
       "    <tr>\n",
       "      <th>7j43FohbLVulScL7S9sQZk</th>\n",
       "      <td>0.681</td>\n",
       "      <td>0.000757</td>\n",
       "      <td>0.912</td>\n",
       "      <td>0.00136</td>\n",
       "      <td>0.3590</td>\n",
       "      <td>0.4790</td>\n",
       "      <td>1</td>\n",
       "      <td>0.376087</td>\n",
       "      <td>0.795259</td>\n",
       "      <td>0.229318</td>\n",
       "      <td>0.000000</td>\n",
       "      <td>0.187995</td>\n",
       "      <td>1</td>\n",
       "      <td>5bc0pbn945ysud6gky5r0uic9</td>\n",
       "    </tr>\n",
       "    <tr>\n",
       "      <th>2qNMzM0lcu2tth4Q2vqmDs</th>\n",
       "      <td>0.323</td>\n",
       "      <td>0.000077</td>\n",
       "      <td>0.926</td>\n",
       "      <td>0.04340</td>\n",
       "      <td>0.3680</td>\n",
       "      <td>0.5390</td>\n",
       "      <td>1</td>\n",
       "      <td>0.455119</td>\n",
       "      <td>0.569320</td>\n",
       "      <td>0.325617</td>\n",
       "      <td>0.272727</td>\n",
       "      <td>0.069083</td>\n",
       "      <td>1</td>\n",
       "      <td>5bc0pbn945ysud6gky5r0uic9</td>\n",
       "    </tr>\n",
       "    <tr>\n",
       "      <th>1f2V8U1BiWaC9aJWmpOARe</th>\n",
       "      <td>0.451</td>\n",
       "      <td>0.026400</td>\n",
       "      <td>0.970</td>\n",
       "      <td>0.00355</td>\n",
       "      <td>0.1020</td>\n",
       "      <td>0.1980</td>\n",
       "      <td>1</td>\n",
       "      <td>0.355619</td>\n",
       "      <td>0.725581</td>\n",
       "      <td>0.202709</td>\n",
       "      <td>0.000000</td>\n",
       "      <td>0.232729</td>\n",
       "      <td>1</td>\n",
       "      <td>5bc0pbn945ysud6gky5r0uic9</td>\n",
       "    </tr>\n",
       "    <tr>\n",
       "      <th>4VoP6Ed9b7G80QLv5nymNU</th>\n",
       "      <td>0.540</td>\n",
       "      <td>0.006250</td>\n",
       "      <td>0.850</td>\n",
       "      <td>0.00000</td>\n",
       "      <td>0.3760</td>\n",
       "      <td>0.5730</td>\n",
       "      <td>1</td>\n",
       "      <td>0.620740</td>\n",
       "      <td>0.834436</td>\n",
       "      <td>0.288903</td>\n",
       "      <td>0.181818</td>\n",
       "      <td>0.179219</td>\n",
       "      <td>1</td>\n",
       "      <td>5bc0pbn945ysud6gky5r0uic9</td>\n",
       "    </tr>\n",
       "  </tbody>\n",
       "</table>\n",
       "</div>"
      ],
      "text/plain": [
       "                        danceability  acousticness  energy  instrumentalness  \\\n",
       "track_id                                                                       \n",
       "0WfV9XwpkldKdjzw4qoyAd         0.624      0.007250   0.562           0.00000   \n",
       "7dbnw3cDgeDxOxJJ7QiAiD         0.750      0.111000   0.548           0.00000   \n",
       "655sojH8GGEteZTBJOFyy7         0.667      0.006400   0.679           0.00000   \n",
       "4ks4jp4jGsmffhbUegLG6S         0.521      0.042200   0.883           0.00000   \n",
       "77loZpT5Y5PRP1S451P9Yz         0.472      0.012900   0.671           0.00000   \n",
       "41OtlB4xN40fRSpq6b4QNS         0.495      0.491000   0.550           0.00000   \n",
       "0x3TibRgnSqzkcwrqBd4iX         0.700      0.036900   0.598           0.00000   \n",
       "0ODaBMQ3tbTefbmbMWTwdT         0.463      0.037900   0.760           0.00000   \n",
       "40LQiUUUKXVGyNs09lHVjW         0.476      0.021700   0.736           0.00000   \n",
       "6tsOcBnaKgzK22yEiqRh8P         0.892      0.704000   0.507           0.00000   \n",
       "7bCfHiRcfUjG0YVVNUL7Ve         0.614      0.001610   0.937           0.00136   \n",
       "1nFwdOtgSlwlauOjoWX5qv         0.560      0.359000   0.738           0.00000   \n",
       "25R4HkFnzQvgMA6XOJuh4K         0.737      0.030600   0.456           0.00000   \n",
       "7LjEQ8GsQiUNVakV6TZI0e         0.705      0.079900   0.707           0.00000   \n",
       "4KAzYqfcijCSZa2P3etHoM         0.623      0.646000   0.590           0.00000   \n",
       "4qQwGRtGT7l6ckQtdPEFd4         0.651      0.582000   0.708           0.00000   \n",
       "08kQm6vfX5pUN8TQLmBSg6         0.531      0.550000   0.474           0.00000   \n",
       "6aNy9Afzm7Fi6ysMskocBf         0.645      0.029300   0.904           0.00000   \n",
       "1NbJFhkVdD47YZ2IojKkJi         0.673      0.000367   0.911           0.62800   \n",
       "3KAS4vmuvRGP2BUQcxmu5i         0.730      0.000111   0.907           0.00816   \n",
       "4P4V9JQhiQEP9hr4U33lEY         0.617      0.000064   0.850           0.00000   \n",
       "1G391cbiT3v3Cywg8T7DM1         0.595      0.077900   0.717           0.00274   \n",
       "61u3kwCoVSdYc8DH7JQZlN         0.627      0.011700   0.847           0.00000   \n",
       "3b3eu3uMp1b9xPOHbfSwBi         0.605      0.061200   0.627           0.00000   \n",
       "3ZDnQ5UGuPvRBfUUmTmwEC         0.552      0.011500   0.946           0.00000   \n",
       "4qVZBA7jWL23SEWOfKFjiw         0.411      0.000026   0.954           0.33000   \n",
       "6QDbGdbJ57Mtkflsg42WV5         0.552      0.000652   0.947           0.00000   \n",
       "7j43FohbLVulScL7S9sQZk         0.681      0.000757   0.912           0.00136   \n",
       "2qNMzM0lcu2tth4Q2vqmDs         0.323      0.000077   0.926           0.04340   \n",
       "1f2V8U1BiWaC9aJWmpOARe         0.451      0.026400   0.970           0.00355   \n",
       "4VoP6Ed9b7G80QLv5nymNU         0.540      0.006250   0.850           0.00000   \n",
       "\n",
       "                        liveness  valence  mode     tempo  loudness  \\\n",
       "track_id                                                              \n",
       "0WfV9XwpkldKdjzw4qoyAd    0.0937   0.4780     1  0.256830  0.589893   \n",
       "7dbnw3cDgeDxOxJJ7QiAiD    0.0633   0.4970     1  0.186200  0.478175   \n",
       "655sojH8GGEteZTBJOFyy7    0.1700   0.3200     1  0.178470  0.575492   \n",
       "4ks4jp4jGsmffhbUegLG6S    0.1050   0.8050     1  0.027573  0.826744   \n",
       "77loZpT5Y5PRP1S451P9Yz    0.1590   0.0681     1  0.043160  0.751431   \n",
       "41OtlB4xN40fRSpq6b4QNS    0.2160   0.0500     1  0.163501  0.414401   \n",
       "0x3TibRgnSqzkcwrqBd4iX    0.1110   0.5940     1  0.653084  0.471109   \n",
       "0ODaBMQ3tbTefbmbMWTwdT    0.1150   0.6500     1  0.367131  0.634347   \n",
       "40LQiUUUKXVGyNs09lHVjW    0.2030   0.2510     1  0.408154  0.686047   \n",
       "6tsOcBnaKgzK22yEiqRh8P    0.1090   0.6950     1  0.525852  0.426476   \n",
       "7bCfHiRcfUjG0YVVNUL7Ve    0.1030   0.3860     1  0.059205  0.501521   \n",
       "1nFwdOtgSlwlauOjoWX5qv    0.1850   0.2540     1  0.518993  0.585420   \n",
       "25R4HkFnzQvgMA6XOJuh4K    0.0863   0.4200     1  0.438148  0.291503   \n",
       "7LjEQ8GsQiUNVakV6TZI0e    0.1490   0.4520     1  0.320252  0.704472   \n",
       "4KAzYqfcijCSZa2P3etHoM    0.2950   0.5790     1  0.471347  0.718784   \n",
       "4qQwGRtGT7l6ckQtdPEFd4    0.0796   0.5580     1  0.335997  0.738730   \n",
       "08kQm6vfX5pUN8TQLmBSg6    0.0487   0.3550     1  0.054600  0.571199   \n",
       "6aNy9Afzm7Fi6ysMskocBf    0.0834   0.6710     1  0.225277  0.761896   \n",
       "1NbJFhkVdD47YZ2IojKkJi    0.1010   0.5400     1  0.189650  0.565742   \n",
       "3KAS4vmuvRGP2BUQcxmu5i    0.2660   0.5730     1  0.304761  0.766726   \n",
       "4P4V9JQhiQEP9hr4U33lEY    0.4810   0.5890     1  0.376079  0.760912   \n",
       "1G391cbiT3v3Cywg8T7DM1    0.1080   0.5470     1  0.090766  0.737657   \n",
       "61u3kwCoVSdYc8DH7JQZlN    0.3170   0.6200     1  0.258135  0.765027   \n",
       "3b3eu3uMp1b9xPOHbfSwBi    0.1060   0.2430     1  0.336282  0.500537   \n",
       "3ZDnQ5UGuPvRBfUUmTmwEC    0.0801   0.2100     1  0.318504  0.803757   \n",
       "4qVZBA7jWL23SEWOfKFjiw    0.1040   0.5400     1  0.842315  0.712880   \n",
       "6QDbGdbJ57Mtkflsg42WV5    0.0637   0.4650     1  0.396658  0.749463   \n",
       "7j43FohbLVulScL7S9sQZk    0.3590   0.4790     1  0.376087  0.795259   \n",
       "2qNMzM0lcu2tth4Q2vqmDs    0.3680   0.5390     1  0.455119  0.569320   \n",
       "1f2V8U1BiWaC9aJWmpOARe    0.1020   0.1980     1  0.355619  0.725581   \n",
       "4VoP6Ed9b7G80QLv5nymNU    0.3760   0.5730     1  0.620740  0.834436   \n",
       "\n",
       "                        duration_ms       key  speechiness  cluster  \\\n",
       "track_id                                                              \n",
       "0WfV9XwpkldKdjzw4qoyAd     0.145530  0.000000     0.010476        1   \n",
       "7dbnw3cDgeDxOxJJ7QiAiD     0.110436  0.181818     0.069083        1   \n",
       "655sojH8GGEteZTBJOFyy7     0.113238  0.000000     0.064270        1   \n",
       "4ks4jp4jGsmffhbUegLG6S     0.104013  0.090909     0.104190        1   \n",
       "77loZpT5Y5PRP1S451P9Yz     0.231489  0.363636     0.011891        1   \n",
       "41OtlB4xN40fRSpq6b4QNS     0.169033  0.181818     0.152039        1   \n",
       "0x3TibRgnSqzkcwrqBd4iX     0.223605  0.181818     0.252548        1   \n",
       "0ODaBMQ3tbTefbmbMWTwdT     0.107327  0.181818     0.241223        1   \n",
       "40LQiUUUKXVGyNs09lHVjW     0.284187  0.181818     0.026897        1   \n",
       "6tsOcBnaKgzK22yEiqRh8P     0.096879  0.000000     1.000000        1   \n",
       "7bCfHiRcfUjG0YVVNUL7Ve     0.000000  0.090909     0.255379        1   \n",
       "1nFwdOtgSlwlauOjoWX5qv     0.177529  0.000000     0.108154        1   \n",
       "25R4HkFnzQvgMA6XOJuh4K     0.164577  0.000000     0.161099        1   \n",
       "7LjEQ8GsQiUNVakV6TZI0e     0.186024  0.000000     0.080974        1   \n",
       "4KAzYqfcijCSZa2P3etHoM     0.179614  0.363636     0.009060        1   \n",
       "4qQwGRtGT7l6ckQtdPEFd4     0.177292  0.363636     0.036240        1   \n",
       "08kQm6vfX5pUN8TQLmBSg6     0.162765  0.090909     0.000849        1   \n",
       "6aNy9Afzm7Fi6ysMskocBf     0.218357  0.181818     0.060589        1   \n",
       "1NbJFhkVdD47YZ2IojKkJi     0.296715  0.090909     0.129955        1   \n",
       "3KAS4vmuvRGP2BUQcxmu5i     0.105005  0.181818     0.135617        1   \n",
       "4P4V9JQhiQEP9hr4U33lEY     0.152284  0.000000     0.021801        1   \n",
       "1G391cbiT3v3Cywg8T7DM1     0.200848  0.000000     0.013307        1   \n",
       "61u3kwCoVSdYc8DH7JQZlN     0.188224  0.181818     0.047282        1   \n",
       "3b3eu3uMp1b9xPOHbfSwBi     0.367866  0.000000     0.004813        1   \n",
       "3ZDnQ5UGuPvRBfUUmTmwEC     0.222759  0.000000     0.235561        1   \n",
       "4qVZBA7jWL23SEWOfKFjiw     0.203797  0.090909     0.249717        1   \n",
       "6QDbGdbJ57Mtkflsg42WV5     0.322085  0.181818     0.354473        1   \n",
       "7j43FohbLVulScL7S9sQZk     0.229318  0.000000     0.187995        1   \n",
       "2qNMzM0lcu2tth4Q2vqmDs     0.325617  0.272727     0.069083        1   \n",
       "1f2V8U1BiWaC9aJWmpOARe     0.202709  0.000000     0.232729        1   \n",
       "4VoP6Ed9b7G80QLv5nymNU     0.288903  0.181818     0.179219        1   \n",
       "\n",
       "                                          user_id  \n",
       "track_id                                           \n",
       "0WfV9XwpkldKdjzw4qoyAd                  sanjsarda  \n",
       "7dbnw3cDgeDxOxJJ7QiAiD                  sanjsarda  \n",
       "655sojH8GGEteZTBJOFyy7                  sanjsarda  \n",
       "4ks4jp4jGsmffhbUegLG6S                  sanjsarda  \n",
       "77loZpT5Y5PRP1S451P9Yz                  sanjsarda  \n",
       "41OtlB4xN40fRSpq6b4QNS                  sanjsarda  \n",
       "0x3TibRgnSqzkcwrqBd4iX                  sanjsarda  \n",
       "0ODaBMQ3tbTefbmbMWTwdT                  sanjsarda  \n",
       "40LQiUUUKXVGyNs09lHVjW                  sanjsarda  \n",
       "6tsOcBnaKgzK22yEiqRh8P                  sanjsarda  \n",
       "7bCfHiRcfUjG0YVVNUL7Ve                  sanjsarda  \n",
       "1nFwdOtgSlwlauOjoWX5qv                  sanjsarda  \n",
       "25R4HkFnzQvgMA6XOJuh4K                  sanjsarda  \n",
       "7LjEQ8GsQiUNVakV6TZI0e                  sanjsarda  \n",
       "4KAzYqfcijCSZa2P3etHoM                  sanjsarda  \n",
       "4qQwGRtGT7l6ckQtdPEFd4                  sanjsarda  \n",
       "08kQm6vfX5pUN8TQLmBSg6                  sanjsarda  \n",
       "6aNy9Afzm7Fi6ysMskocBf                  sanjsarda  \n",
       "1NbJFhkVdD47YZ2IojKkJi  5bc0pbn945ysud6gky5r0uic9  \n",
       "3KAS4vmuvRGP2BUQcxmu5i  5bc0pbn945ysud6gky5r0uic9  \n",
       "4P4V9JQhiQEP9hr4U33lEY  5bc0pbn945ysud6gky5r0uic9  \n",
       "1G391cbiT3v3Cywg8T7DM1  5bc0pbn945ysud6gky5r0uic9  \n",
       "61u3kwCoVSdYc8DH7JQZlN  5bc0pbn945ysud6gky5r0uic9  \n",
       "3b3eu3uMp1b9xPOHbfSwBi  5bc0pbn945ysud6gky5r0uic9  \n",
       "3ZDnQ5UGuPvRBfUUmTmwEC  5bc0pbn945ysud6gky5r0uic9  \n",
       "4qVZBA7jWL23SEWOfKFjiw  5bc0pbn945ysud6gky5r0uic9  \n",
       "6QDbGdbJ57Mtkflsg42WV5  5bc0pbn945ysud6gky5r0uic9  \n",
       "7j43FohbLVulScL7S9sQZk  5bc0pbn945ysud6gky5r0uic9  \n",
       "2qNMzM0lcu2tth4Q2vqmDs  5bc0pbn945ysud6gky5r0uic9  \n",
       "1f2V8U1BiWaC9aJWmpOARe  5bc0pbn945ysud6gky5r0uic9  \n",
       "4VoP6Ed9b7G80QLv5nymNU  5bc0pbn945ysud6gky5r0uic9  "
      ]
     },
     "execution_count": 465,
     "metadata": {},
     "output_type": "execute_result"
    }
   ],
   "source": [
    "final1 = df2[df2['cluster']==o]\n",
    "final1"
   ]
  }
 ],
 "metadata": {
  "kernelspec": {
   "display_name": "Python 3",
   "language": "python",
   "name": "python3"
  },
  "language_info": {
   "codemirror_mode": {
    "name": "ipython",
    "version": 3
   },
   "file_extension": ".py",
   "mimetype": "text/x-python",
   "name": "python",
   "nbconvert_exporter": "python",
   "pygments_lexer": "ipython3",
   "version": "3.8.8"
  }
 },
 "nbformat": 4,
 "nbformat_minor": 4
}
