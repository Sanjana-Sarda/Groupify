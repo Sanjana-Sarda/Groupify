{
 "cells": [
  {
   "cell_type": "code",
   "execution_count": 5,
   "id": "c5807fca",
   "metadata": {
    "scrolled": true
   },
   "outputs": [
    {
     "name": "stdout",
     "output_type": "stream",
     "text": [
      "gs://groupify2022/spotify_million_playlist_dataset/\r\n",
      "gs://groupify2022/spotify_skip_prediction_challenge/\r\n"
     ]
    }
   ],
   "source": [
    "!gsutil ls gs://groupify2022/\n"
   ]
  },
  {
   "cell_type": "code",
   "execution_count": 6,
   "id": "c8dcdc93",
   "metadata": {},
   "outputs": [
    {
     "name": "stdout",
     "output_type": "stream",
     "text": [
      "gs://groupify2022/spotify_million_playlist_dataset/README.md\r\n",
      "gs://groupify2022/spotify_million_playlist_dataset/license.txt\r\n",
      "gs://groupify2022/spotify_million_playlist_dataset/md5sums\r\n",
      "gs://groupify2022/spotify_million_playlist_dataset/stats.txt\r\n",
      "gs://groupify2022/spotify_million_playlist_dataset/data/\r\n",
      "gs://groupify2022/spotify_million_playlist_dataset/src/\r\n"
     ]
    }
   ],
   "source": [
    "!gsutil ls gs://groupify2022/spotify_million_playlist_dataset/\n"
   ]
  },
  {
   "cell_type": "code",
   "execution_count": 7,
   "id": "4aa689c3",
   "metadata": {},
   "outputs": [
    {
     "name": "stdout",
     "output_type": "stream",
     "text": [
      "Ptest2.ipynb                 creds.json\r\n",
      "Ptest2.md                    funcs.py\r\n",
      "Ptest2.modified.ipynb        \u001b[1m\u001b[36mgroupify\u001b[m\u001b[m\r\n",
      "README.md                    \u001b[1m\u001b[36mresources\u001b[m\u001b[m\r\n",
      "app.py                       training_eval_pipeline.ipynb\r\n"
     ]
    }
   ],
   "source": [
    "!ls"
   ]
  },
  {
   "cell_type": "code",
   "execution_count": null,
   "id": "61742211",
   "metadata": {},
   "outputs": [],
   "source": []
  }
 ],
 "metadata": {
  "kernelspec": {
   "display_name": "Python 3 (ipykernel)",
   "language": "python",
   "name": "python3"
  },
  "language_info": {
   "codemirror_mode": {
    "name": "ipython",
    "version": 3
   },
   "file_extension": ".py",
   "mimetype": "text/x-python",
   "name": "python",
   "nbconvert_exporter": "python",
   "pygments_lexer": "ipython3",
   "version": "3.8.3"
  }
 },
 "nbformat": 4,
 "nbformat_minor": 5
}
