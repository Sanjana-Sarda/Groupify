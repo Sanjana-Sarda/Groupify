{
 "cells": [
  {
   "cell_type": "raw",
   "id": "83dbbd21",
   "metadata": {},
   "source": [
    "In this notebook, we engineer audio features:\n",
    "\n",
    "1. Spotify defined features per track, namely <<insert names>>\n",
    "    \n",
    "2. \n",
    "\n",
    "Part 1 \n",
    "Engineer audio features - cluster instrumentalness and mode, categorical for key. \n",
    "\n",
    "Part 2: \n",
    "Overlapping clustering + recommendations \n",
    "input: N disjoint playlists from different genres to test. \n",
    "\n",
    "Code should be extensible to multiple users each corresponding to one dataframe\n"
   ]
  },
  {
   "cell_type": "code",
   "execution_count": 6,
   "id": "dee8479a",
   "metadata": {},
   "outputs": [],
   "source": [
    "import numpy, pandas\n",
    "import os"
   ]
  },
  {
   "cell_type": "code",
   "execution_count": 7,
   "id": "e6a638e3",
   "metadata": {},
   "outputs": [],
   "source": [
    "import os\n",
    "import pandas as pd\n",
    "import numpy as np\n",
    "import json\n",
    "import matplotlib.pyplot as plt\n",
    "import seaborn as sns\n",
    "%config InlineBackend.figure_format ='retina'\n",
    "import spotipy\n",
    "import spotipy.util as util\n",
    "from spotipy.oauth2 import SpotifyClientCredentials\n",
    "from spotipy import oauth2\n",
    "import random\n",
    "from functools import reduce\n",
    "\n",
    "import json, os\n",
    "import traceback\n",
    "import matplotlib.pyplot as plt\n",
    "%matplotlib inline\n",
    "\n",
    "import wget"
   ]
  },
  {
   "cell_type": "code",
   "execution_count": 8,
   "id": "292e4c86",
   "metadata": {},
   "outputs": [],
   "source": [
    "from groupify.app.spotify_utils import *\n",
    "from groupify.app.ml_utils import *"
   ]
  },
  {
   "cell_type": "code",
   "execution_count": 9,
   "id": "cc1e2ca4",
   "metadata": {},
   "outputs": [],
   "source": [
    "redirect_uri = 'https://example.com'"
   ]
  },
  {
   "cell_type": "code",
   "execution_count": 35,
   "id": "03a79855",
   "metadata": {},
   "outputs": [],
   "source": [
    "import spotipy\n",
    "from spotipy.oauth2 import SpotifyClientCredentials\n",
    "import spotipy.util as util\n",
    "\n",
    "import groupify.app.psecrets as psecrets\n",
    "\n",
    "try: \n",
    "    cid = psecrets.client_id\n",
    "    secret = psecrets.secret\n",
    "    userdata = json.load(open('groupify/app/json/userdata.json', 'r'))\n",
    "    username = list(userdata.keys())[0]\n",
    "    scope = 'user-top-read user-read-recently-played user-follow-read playlist-modify-public user-library-read playlist-read-collaborative'\n",
    "    token = util.prompt_for_user_token(username, scope, client_id=cid, client_secret=secret, redirect_uri=redirect_uri)\n",
    "\n",
    "    if token:\n",
    "        sp = spotipy.Spotify(auth=token)\n",
    "    else:\n",
    "        print(\"Can't get token for\", username)\n",
    "except: \n",
    "    print(traceback.format_exc(5))\n"
   ]
  },
  {
   "cell_type": "code",
   "execution_count": 24,
   "id": "055616c3",
   "metadata": {},
   "outputs": [
    {
     "data": {
      "text/plain": [
       "['pop',\n",
       " 'dance pop',\n",
       " 'rap',\n",
       " 'rock',\n",
       " 'hip hop',\n",
       " 'latin',\n",
       " 'pop rap',\n",
       " 'trap latino',\n",
       " 'trap',\n",
       " 'modern rock',\n",
       " 'edm',\n",
       " 'reggaeton',\n",
       " 'pop dance',\n",
       " 'post-teen pop',\n",
       " 'latin pop',\n",
       " 'electropop',\n",
       " 'pop rock',\n",
       " 'classic rock',\n",
       " 'tropical house',\n",
       " 'r&b',\n",
       " 'mellow gold',\n",
       " 'musica mexicana',\n",
       " 'soft rock',\n",
       " 'permanent wave',\n",
       " 'album rock',\n",
       " 'melodic rap',\n",
       " 'southern hip hop',\n",
       " 'alternative metal',\n",
       " 'k-pop',\n",
       " 'urban contemporary',\n",
       " 'canadian pop',\n",
       " 'uk pop',\n",
       " 'electro house',\n",
       " 'contemporary country',\n",
       " 'indie pop',\n",
       " 'alternative rock',\n",
       " 'alt z',\n",
       " 'gangster rap',\n",
       " 'nueva musica mexicana',\n",
       " 'hard rock',\n",
       " 'nu metal',\n",
       " 'country',\n",
       " 'ranchera',\n",
       " 'rock en espanol',\n",
       " 'tropical',\n",
       " 'latin hip hop',\n",
       " 'desi pop',\n",
       " 'art pop',\n",
       " 'neo mellow',\n",
       " 'underground hip hop',\n",
       " 'adult standards',\n",
       " 'atl hip hop',\n",
       " 'modern alternative rock',\n",
       " 'french hip hop',\n",
       " 'country road',\n",
       " 'folk rock',\n",
       " 'arrocha',\n",
       " 'chicago rap',\n",
       " 'filmi',\n",
       " 'new wave pop',\n",
       " 'pop urbaine',\n",
       " 'german hip hop',\n",
       " 'art rock',\n",
       " 'soul',\n",
       " 'country rock',\n",
       " 'latin alternative',\n",
       " 'alternative r&b',\n",
       " 'corrido',\n",
       " 'hip pop',\n",
       " 'funk carioca',\n",
       " 'mexican pop',\n",
       " 'latin rock',\n",
       " 'indie poptimism',\n",
       " 'europop',\n",
       " 'j-pop',\n",
       " 'house',\n",
       " 'modern bollywood',\n",
       " 'k-pop boy group',\n",
       " 'norteno',\n",
       " 'indie rock',\n",
       " 'sertanejo',\n",
       " 'sertanejo universitario',\n",
       " 'indie folk',\n",
       " 'reggaeton colombiano',\n",
       " 'latin arena pop',\n",
       " 'viral pop',\n",
       " 'stomp and holler',\n",
       " 'neo soul',\n",
       " 'metal',\n",
       " 'colombian pop',\n",
       " 'post-grunge',\n",
       " 'sertanejo pop',\n",
       " 'indie soul',\n",
       " 'new wave',\n",
       " 'francoton',\n",
       " 'spanish pop',\n",
       " 'pop punk',\n",
       " 'reggaeton flow',\n",
       " 'emo rap',\n",
       " 'canadian contemporary r&b',\n",
       " 'sierreno',\n",
       " 'blues rock',\n",
       " 'conscious hip hop',\n",
       " 'quiet storm',\n",
       " 'funk',\n",
       " 'east coast hip hop',\n",
       " 'miami hip hop',\n",
       " 'indietronica',\n",
       " 'canadian hip hop',\n",
       " 'russian hip hop',\n",
       " 'psychedelic rock',\n",
       " 'singer-songwriter',\n",
       " 'slap house',\n",
       " 'new romantic',\n",
       " 'motown',\n",
       " 'german pop',\n",
       " 'italian hip hop',\n",
       " 'banda',\n",
       " 'boy band',\n",
       " 'pop r&b',\n",
       " 'sad rap',\n",
       " 'west coast rap',\n",
       " 'rap metal',\n",
       " 'vapor trap',\n",
       " 'dark trap',\n",
       " 'glam rock',\n",
       " 'disco',\n",
       " 'toronto rap',\n",
       " 'rap rock',\n",
       " 'hoerspiel',\n",
       " 'progressive house',\n",
       " 'pop edm',\n",
       " 'bedroom pop',\n",
       " 'chamber pop',\n",
       " 'metropopolis',\n",
       " 'folk',\n",
       " 'chill r&b',\n",
       " 'corridos tumbados',\n",
       " 'metalcore',\n",
       " 'rap francais',\n",
       " 'brill building pop',\n",
       " 'piano rock',\n",
       " 'puerto rican pop',\n",
       " 'trap argentino',\n",
       " 'k-pop girl group',\n",
       " 'electronica',\n",
       " 'lgbtq+ hip hop',\n",
       " 'uk dance',\n",
       " 'hardcore hip hop',\n",
       " 'australian pop',\n",
       " 'roots rock',\n",
       " 'british soul',\n",
       " 'modern country rock',\n",
       " 'sad lo-fi',\n",
       " 'punk',\n",
       " 'anime',\n",
       " 'indonesian pop',\n",
       " 'turkish pop',\n",
       " 'escape room',\n",
       " 'ccm',\n",
       " 'lounge',\n",
       " 'sleep',\n",
       " 'argentine rock',\n",
       " 'detroit hip hop',\n",
       " 'alternative hip hop',\n",
       " 'dirty south rap',\n",
       " 'progressive electro house',\n",
       " 'swedish pop',\n",
       " 'italian pop',\n",
       " 'urbano espanol',\n",
       " 'social media pop',\n",
       " 'uk hip hop',\n",
       " 'alternative dance',\n",
       " 'mexican hip hop',\n",
       " 'mpb',\n",
       " 'pluggnb',\n",
       " 'vocal jazz',\n",
       " 'talent show',\n",
       " 'hollywood',\n",
       " 'punjabi pop',\n",
       " 'polish hip hop',\n",
       " 'desi hip hop',\n",
       " 'classical',\n",
       " 'christian music',\n",
       " 'synthpop',\n",
       " 'heartland rock',\n",
       " 'pagode',\n",
       " 'pop nacional',\n",
       " 'worship',\n",
       " 'opm',\n",
       " 'pop soul',\n",
       " 'italian adult pop',\n",
       " 'contemporary r&b',\n",
       " 'big room',\n",
       " 'turkish trap pop',\n",
       " 'deep house',\n",
       " 'dance rock',\n",
       " 'soundtrack',\n",
       " 'folk-pop',\n",
       " 'indie r&b',\n",
       " 'glam metal',\n",
       " 'mariachi',\n",
       " 'yacht rock',\n",
       " 'french pop',\n",
       " 'g funk',\n",
       " 'cali rap',\n",
       " 'argentine hip hop',\n",
       " 'aesthetic rap',\n",
       " 'new french touch',\n",
       " 'new americana',\n",
       " 'beatlesque',\n",
       " 'grupera',\n",
       " 'garage rock',\n",
       " 'world worship',\n",
       " 'rap conscient',\n",
       " 'british invasion',\n",
       " 'dutch pop',\n",
       " 'funk metal',\n",
       " 'cantautor',\n",
       " 'brooklyn drill',\n",
       " 'rock-and-roll',\n",
       " 'classic soul',\n",
       " 'christian alternative rock',\n",
       " 'j-rock',\n",
       " 'melodic metalcore',\n",
       " 'eurodance',\n",
       " 'russian pop',\n",
       " 'new rave',\n",
       " 'florida rap',\n",
       " 'country pop',\n",
       " 'queens hip hop',\n",
       " 'brostep',\n",
       " 'memphis hip hop',\n",
       " 'bolero',\n",
       " 'brazilian rock',\n",
       " 'bubblegum pop',\n",
       " 'trap triste',\n",
       " 'dream pop',\n",
       " 'emo',\n",
       " 'melancholia',\n",
       " 'otacore',\n",
       " 'funk ostentacao',\n",
       " 'trap queen',\n",
       " 'lo-fi chill',\n",
       " 'mexican rock',\n",
       " 'brazilian hip hop',\n",
       " 'orchestral soundtrack',\n",
       " 'forro',\n",
       " 'salsa',\n",
       " 'grunge',\n",
       " 'show tunes',\n",
       " 'acoustic pop',\n",
       " 'electronic trap',\n",
       " 'meme rap',\n",
       " 'mandopop',\n",
       " 'lo-fi beats',\n",
       " 'trance',\n",
       " 'symphonic rock',\n",
       " 'nova mpb',\n",
       " 'girl group',\n",
       " 'dutch hip hop',\n",
       " 'gen z singer-songwriter',\n",
       " 'j-poprock',\n",
       " 'kleine hoerspiel',\n",
       " 'dfw rap',\n",
       " 'german rock',\n",
       " 'funk rock',\n",
       " 'australian dance',\n",
       " 'chanson',\n",
       " 'outlaw country',\n",
       " 'bachata',\n",
       " 'vapor soul',\n",
       " 'texas country',\n",
       " 'russian trap',\n",
       " 'lilith',\n",
       " 'german trap',\n",
       " 'video game music',\n",
       " 'viral rap',\n",
       " 'north carolina hip hop',\n",
       " 'norwegian pop',\n",
       " 'la indie',\n",
       " 'latin viral pop',\n",
       " 'plugg',\n",
       " 'australian hip hop',\n",
       " 'compositional ambient',\n",
       " 'progressive rock',\n",
       " 'turkish hip hop',\n",
       " 'new orleans rap',\n",
       " 'merseybeat',\n",
       " 'classic uk pop',\n",
       " 'neo-classical',\n",
       " 'easy listening',\n",
       " 'britpop',\n",
       " 'russian alt pop',\n",
       " 'screamo',\n",
       " 'country dawn',\n",
       " 'deep german hip hop',\n",
       " 'australian rock',\n",
       " 'trap brasileiro',\n",
       " 'modern blues rock',\n",
       " 'nyc rap',\n",
       " 'power metal',\n",
       " 'anime rock',\n",
       " 'drift phonk',\n",
       " 'reggae fusion',\n",
       " 'tamil pop',\n",
       " 'french indie pop',\n",
       " 'downtempo',\n",
       " 'turkish trap',\n",
       " 'trap boricua',\n",
       " 'indiecoustica',\n",
       " 'reggae',\n",
       " 'trap italiana',\n",
       " 'pittsburgh rap',\n",
       " 'dutch edm',\n",
       " 'ohio hip hop',\n",
       " 'industrial metal',\n",
       " 'gruperas inmortales',\n",
       " 'polish trap',\n",
       " 'candy pop',\n",
       " 'rockabilly',\n",
       " 'dancehall',\n",
       " 'dream smp',\n",
       " 'philly rap',\n",
       " 'atl trap',\n",
       " 'brazilian gospel',\n",
       " 'deep groove house',\n",
       " 'neo-psychedelic',\n",
       " 'italian indie pop',\n",
       " 'barbadian pop',\n",
       " 'indie garage rock',\n",
       " 'turkish rock',\n",
       " 'nigerian pop',\n",
       " 'rain',\n",
       " 'japanese teen pop',\n",
       " 'gauze pop',\n",
       " 'axe',\n",
       " 'baroque pop',\n",
       " 'classic italian pop',\n",
       " 'german dance',\n",
       " 'dutch rap pop',\n",
       " 'canadian rock',\n",
       " \"children's music\",\n",
       " 'modern alternative pop',\n",
       " 'comic',\n",
       " 'chillhop',\n",
       " 'sophisti-pop',\n",
       " 'scorecore',\n",
       " 'tennessee hip hop',\n",
       " 'rock nacional',\n",
       " 'afropop',\n",
       " 'modern indie pop',\n",
       " 'anthem worship',\n",
       " 'adoracao',\n",
       " 'bossa nova',\n",
       " 'danish pop',\n",
       " 'skate punk',\n",
       " 'trip hop',\n",
       " 'taiwan pop',\n",
       " 'rap latina',\n",
       " 'jazz',\n",
       " 'spanish pop rock',\n",
       " 'rap calme',\n",
       " 'pop venezolano',\n",
       " 'german techno',\n",
       " 'pixie',\n",
       " 'southern soul',\n",
       " 'classic bollywood',\n",
       " 'cumbia pop',\n",
       " 'r&b en espanol',\n",
       " 'bubblegum dance',\n",
       " 'glitchcore',\n",
       " 'disco house',\n",
       " 'spanish hip hop',\n",
       " 'mexican indie',\n",
       " 'baton rouge rap',\n",
       " 'australian indie',\n",
       " 'trap soul',\n",
       " 'brooklyn indie',\n",
       " 'funk paulista',\n",
       " 'roots reggae',\n",
       " 'instrumental lullaby',\n",
       " 'bass trap',\n",
       " 'latin worship',\n",
       " 'nu jazz',\n",
       " 'dmv rap',\n",
       " 'dominican pop',\n",
       " 'gaming edm',\n",
       " 'uk contemporary r&b',\n",
       " 'christian rock',\n",
       " 'sheffield indie',\n",
       " 'swedish trap pop',\n",
       " 'bubblegrunge',\n",
       " 'chillwave',\n",
       " 'old school thrash',\n",
       " 'swedish hip hop',\n",
       " 'electric blues',\n",
       " 'redneck',\n",
       " 'brazilian edm',\n",
       " 'latin christian',\n",
       " 'cumbia villera',\n",
       " 'korean pop',\n",
       " 'samba',\n",
       " 'hip house',\n",
       " 'afrofuturism',\n",
       " 'perreo',\n",
       " 'filter house',\n",
       " 'houston rap',\n",
       " 'grime',\n",
       " 'pop argentino',\n",
       " 'ska argentino',\n",
       " 'indie pop rap',\n",
       " 'shiver pop',\n",
       " 'dreamo',\n",
       " 'la pop',\n",
       " 'partyschlager',\n",
       " 'background music',\n",
       " 'rap conciencia',\n",
       " 'vapor twitch',\n",
       " 'cancion melodica',\n",
       " 'pop reggaeton',\n",
       " 'thrash metal',\n",
       " 'tejano',\n",
       " 'rock nacional brasileiro',\n",
       " 'drill',\n",
       " 'rap espanol',\n",
       " 'pagode novo',\n",
       " 'french rock',\n",
       " 'socal pop punk',\n",
       " 'vocal house',\n",
       " 'post-disco',\n",
       " 'pop flamenco',\n",
       " 'industrial rock',\n",
       " 'arrochadeira',\n",
       " 'c-pop',\n",
       " 'lo-fi jazzhop',\n",
       " 'korean r&b',\n",
       " 'rumba',\n",
       " 'southern rock',\n",
       " 'madchester',\n",
       " 'irish rock',\n",
       " 'deep tropical house',\n",
       " 'dutch rock',\n",
       " 'cumbia sonidera',\n",
       " 'rap marseille',\n",
       " 'pop emo',\n",
       " 'uk drill',\n",
       " 'swedish electropop',\n",
       " 'post-punk',\n",
       " 'post-screamo',\n",
       " 'bass house',\n",
       " 'jazz pop',\n",
       " 'german underground rap',\n",
       " 'high vibe',\n",
       " 'swing',\n",
       " 'k-rap',\n",
       " 'shoegaze',\n",
       " 'german metal',\n",
       " 'punjabi hip hop',\n",
       " 'schlager',\n",
       " 'alternative country',\n",
       " 'scandipop',\n",
       " 'flamenco urbano',\n",
       " 'bow pop',\n",
       " 'musica popular colombiana',\n",
       " 'nz pop',\n",
       " 'bedroom soul',\n",
       " 'kentucky hip hop',\n",
       " 'punk blues',\n",
       " 'french indietronica',\n",
       " 'white noise',\n",
       " 'uk alternative pop',\n",
       " 'turkish folk',\n",
       " 'canadian trap',\n",
       " 'future bass',\n",
       " 'movie tunes',\n",
       " 'indonesian indie',\n",
       " 'turkish alt pop',\n",
       " 'meditation',\n",
       " 'norwegian indie',\n",
       " 'belgian edm',\n",
       " 'lullaby',\n",
       " 'lo-fi indie',\n",
       " 'arabesk',\n",
       " 'lo-fi product',\n",
       " 'polish pop',\n",
       " 'japanese singer-songwriter',\n",
       " 'spanish rock',\n",
       " 'bachata dominicana',\n",
       " 'neon pop punk',\n",
       " 'sufi',\n",
       " 'groove metal',\n",
       " 'russian rock',\n",
       " 'jazz blues',\n",
       " 'aussietronica',\n",
       " 'jam band',\n",
       " 'vallenato',\n",
       " 'uk alternative hip hop',\n",
       " 'contemporary vocal jazz',\n",
       " 'drill espanol',\n",
       " 'pop house',\n",
       " 'broadway',\n",
       " 'fnaf',\n",
       " 'canadian singer-songwriter',\n",
       " 'afro r&b',\n",
       " 'cantopop',\n",
       " 'pop lgbtq+ brasileira',\n",
       " 'etherpop',\n",
       " 'big beat',\n",
       " 'cumbia 420',\n",
       " 'country rap',\n",
       " 'deep new americana',\n",
       " 'anime score',\n",
       " 'weirdcore',\n",
       " 'oklahoma country',\n",
       " 'new age',\n",
       " 'japanese alternative rock',\n",
       " 'drum and bass',\n",
       " 'russian drain',\n",
       " 'classic canadian rock',\n",
       " 'funk pop',\n",
       " 'pagode baiano',\n",
       " 'shimmer pop',\n",
       " 'hyperpop',\n",
       " 'azontobeats',\n",
       " 'modern blues',\n",
       " 'electro',\n",
       " 'jazz fusion',\n",
       " 'german drill',\n",
       " 'melbourne bounce international',\n",
       " 'corridos alternativos',\n",
       " 'early music',\n",
       " 'minimal techno',\n",
       " 'uk metalcore',\n",
       " 'blues',\n",
       " 'narco rap',\n",
       " 'complextro',\n",
       " 'panamanian pop',\n",
       " 'pop peruano',\n",
       " 'anti-folk',\n",
       " 'power pop',\n",
       " 'nyc pop',\n",
       " 'thai pop',\n",
       " 'environmental',\n",
       " 'ninja',\n",
       " 'salsa puertorriquena',\n",
       " 'deep underground hip hop',\n",
       " 'kindermusik',\n",
       " 'baroque',\n",
       " 'traprun',\n",
       " 'indie anthem-folk',\n",
       " 'classic swedish pop',\n",
       " 'neo-synthpop',\n",
       " 'j-pixie',\n",
       " 'eurovision',\n",
       " 'electro latino',\n",
       " 'anime lo-fi',\n",
       " 'golden age hip hop',\n",
       " 'ska',\n",
       " 'chicago drill',\n",
       " 'crunk',\n",
       " 'dutch house',\n",
       " 'rap dominicano',\n",
       " 'uk post-punk',\n",
       " 'hamburg hip hop',\n",
       " 'tech house',\n",
       " 'german alternative rap',\n",
       " 'belgian pop',\n",
       " 'classic country pop',\n",
       " 'afro dancehall',\n",
       " 'australian psych',\n",
       " 'rap napoletano',\n",
       " 'indie surf',\n",
       " 'polish alternative rap',\n",
       " 'industrial',\n",
       " 'alternative emo',\n",
       " 'romanian pop',\n",
       " 'brazilian reggae',\n",
       " 'czsk hip hop',\n",
       " 'dubstep',\n",
       " 'post-hardcore',\n",
       " 'indie rock italiano',\n",
       " 'old school atlanta hip hop',\n",
       " 'classic j-pop',\n",
       " 'protopunk',\n",
       " 'jazz funk',\n",
       " 'modern folk rock',\n",
       " 'funk consciente',\n",
       " 'chilean rock',\n",
       " 'chicago indie',\n",
       " 'rawstyle',\n",
       " 'world',\n",
       " 'canadian metal',\n",
       " 'moombahton',\n",
       " 'early romantic era',\n",
       " 'german indie',\n",
       " 'canadian indie',\n",
       " 'memphis soul',\n",
       " 'indonesian pop rock',\n",
       " 'celtic rock',\n",
       " 'noise pop',\n",
       " 'afroswing',\n",
       " 'uplifting trance',\n",
       " 'australian electropop',\n",
       " 'new jack swing',\n",
       " 'slowed and reverb',\n",
       " 'old school hip hop',\n",
       " 'japanese vgm',\n",
       " 'christian pop',\n",
       " 'irish pop',\n",
       " 'reggae en espanol',\n",
       " 'japanese r&b',\n",
       " 'classical era',\n",
       " 'pop rap brasileiro',\n",
       " 'finnish pop',\n",
       " 'oxford indie',\n",
       " 'acoustic cover',\n",
       " 'late romantic era',\n",
       " 'pinoy rock',\n",
       " 'cuarteto',\n",
       " 'speedrun',\n",
       " 'japanese chillhop',\n",
       " 'progressive metal',\n",
       " 'finnish dance pop',\n",
       " 'nu-cumbia',\n",
       " 'nu disco',\n",
       " 'turbo folk',\n",
       " 'argentine indie',\n",
       " 'turkish alternative rock',\n",
       " 'pop rock brasileiro',\n",
       " 'canadian electronic',\n",
       " 'indie triste',\n",
       " 'tagalog rap',\n",
       " 'melodic metal',\n",
       " 'black americana',\n",
       " 'vocaloid',\n",
       " 'indian instrumental',\n",
       " 'background jazz',\n",
       " 'v-pop',\n",
       " 'oakland hip hop',\n",
       " 'modern hard rock',\n",
       " 'cumbia',\n",
       " 'london rap',\n",
       " 'deep euro house',\n",
       " 'focus beats',\n",
       " 'pinoy hip hop',\n",
       " 'reading',\n",
       " 'swedish gangsta rap',\n",
       " 'coverchill',\n",
       " 'irish singer-songwriter',\n",
       " 'italian underground hip hop',\n",
       " 'psychedelic hip hop',\n",
       " 'death metal',\n",
       " 'new york drill',\n",
       " 'epicore',\n",
       " 'bebop',\n",
       " 'neo classical metal',\n",
       " 'uk funky',\n",
       " 'post-romantic era',\n",
       " 'soul blues',\n",
       " 'torch song',\n",
       " 'neue deutsche harte',\n",
       " 'antiviral pop',\n",
       " 'progressive trance',\n",
       " 'moroccan pop',\n",
       " 'british singer-songwriter',\n",
       " 'chicano rap',\n",
       " 'deep turkish pop',\n",
       " 'political hip hop',\n",
       " 'trap mexicano',\n",
       " 'british blues',\n",
       " 'drill francais',\n",
       " 'dancefloor dnb',\n",
       " \"preschool children's music\",\n",
       " 'swedish metal',\n",
       " 'ska punk',\n",
       " 'disney',\n",
       " 'turntablism',\n",
       " 'chill drill',\n",
       " 'celtic',\n",
       " 'venezuelan hip hop',\n",
       " 'anthem emo',\n",
       " 'acid rock',\n",
       " 'pop romantico',\n",
       " 'minnesota hip hop',\n",
       " 'post-punk argentina',\n",
       " 'modern dream pop',\n",
       " 'turkish singer-songwriter',\n",
       " 'funk bh',\n",
       " 'modern salsa',\n",
       " 'spanish indie pop',\n",
       " 'russian dance',\n",
       " 'smooth jazz',\n",
       " 'turkce drill',\n",
       " 'arkansas country',\n",
       " 'sertanejo tradicional',\n",
       " 'calming instrumental',\n",
       " 'nashville sound',\n",
       " 'speed metal',\n",
       " 'cumbia chilena',\n",
       " 'trova',\n",
       " 'dub',\n",
       " 'background piano',\n",
       " 'nouvelle chanson francaise',\n",
       " 'new jersey rap',\n",
       " 'experimental pop',\n",
       " 'j-division',\n",
       " 'classic schlager',\n",
       " 'indonesian singer-songwriter',\n",
       " 'russian dance pop',\n",
       " 'operatic pop',\n",
       " 'indie electropop',\n",
       " 'classic hardstyle',\n",
       " 'instrumental worship',\n",
       " 'j-idol',\n",
       " 'nigerian hip hop',\n",
       " 'ambient pop',\n",
       " 'modern reggae',\n",
       " 'israeli pop',\n",
       " 'turkish jazz',\n",
       " 'frauenrap',\n",
       " 'christian hip hop',\n",
       " 'albanian hip hop',\n",
       " 'edmonton indie',\n",
       " 'swedish idol pop',\n",
       " 'danish hip hop',\n",
       " 'microhouse',\n",
       " 'tollywood',\n",
       " 'cartoon',\n",
       " 'stoner rock',\n",
       " 'vancouver indie',\n",
       " 'detroit trap',\n",
       " 'old school rap francais',\n",
       " 'lovers rock',\n",
       " 'german cloud rap',\n",
       " 'german baroque',\n",
       " 'rebel blues',\n",
       " 'swamp rock',\n",
       " 'latin talent show',\n",
       " 'indian indie',\n",
       " 'r&b brasileiro',\n",
       " 'progressive bluegrass',\n",
       " 'dembow',\n",
       " 'focus',\n",
       " 'trancecore',\n",
       " 'korean ost',\n",
       " 'phonk',\n",
       " 'chamber psych',\n",
       " 'rome indie',\n",
       " 'electra',\n",
       " 'south african pop',\n",
       " 'canadian punk',\n",
       " 'dance-punk',\n",
       " 'g-house',\n",
       " 'euphoric hardstyle',\n",
       " 'hardcore punk',\n",
       " 'pacific islands pop',\n",
       " 'j-rap',\n",
       " 'lo-fi rap',\n",
       " 'australian alternative rock',\n",
       " 'gymcore',\n",
       " 'anadolu rock',\n",
       " 'german soundtrack',\n",
       " 'chill pop',\n",
       " 'ambient',\n",
       " 'visual kei',\n",
       " 'nederpop',\n",
       " 'classify',\n",
       " 'zolo',\n",
       " 'belgian hip hop',\n",
       " 'champeta',\n",
       " 'japanese soundtrack',\n",
       " 'melodic dubstep',\n",
       " 'polish alternative',\n",
       " 'gothic metal',\n",
       " 'swedish trap',\n",
       " 'reggae rock',\n",
       " 'hawaiian hip hop',\n",
       " 'norteno-sax',\n",
       " 'double drumming',\n",
       " 'hi-nrg',\n",
       " 'alternative pop rock',\n",
       " 'mollywood',\n",
       " 'sunshine pop',\n",
       " 'indie game soundtrack',\n",
       " 'finnish hip hop',\n",
       " 'supergroup',\n",
       " 'indie jazz',\n",
       " 'swedish synthpop',\n",
       " 'melodic death metal',\n",
       " 'italo dance',\n",
       " 'tamil hip hop',\n",
       " 'dark clubbing',\n",
       " 'argentine telepop',\n",
       " 'south carolina hip hop',\n",
       " 'russian drill',\n",
       " 'swedish alternative rock',\n",
       " 'piano cover',\n",
       " 'musica para ninos',\n",
       " 'birmingham metal',\n",
       " 'rap canario',\n",
       " 'dark pop',\n",
       " 'folklore argentino',\n",
       " 'rkt',\n",
       " 'greek trap',\n",
       " 'danspunk',\n",
       " 'french reggae',\n",
       " 'scottish rock',\n",
       " 'roots worship',\n",
       " 'classic russian rock',\n",
       " 'jawaiian',\n",
       " 'arab pop',\n",
       " 'lo-fi cover',\n",
       " 'chinese viral pop',\n",
       " 'bossa nova cover',\n",
       " 'experimental',\n",
       " 'christian indie',\n",
       " 'canadian country',\n",
       " 'pub rock',\n",
       " 'jazz trumpet',\n",
       " 'el paso indie',\n",
       " 'melodic hardcore',\n",
       " 'argentine reggae',\n",
       " 'jazz rap',\n",
       " 'french synthpop',\n",
       " 'ambient worship',\n",
       " 'russian emo rap',\n",
       " 'deathcore',\n",
       " 'small room',\n",
       " 'classic pakistani pop',\n",
       " 'albanian pop',\n",
       " 'alabama rap',\n",
       " 'rock cristiano',\n",
       " 'trap chileno',\n",
       " 'greek pop',\n",
       " 'philly indie',\n",
       " 'uk americana',\n",
       " 'sped up',\n",
       " 'hands up',\n",
       " 'rap belge',\n",
       " 'musica de fondo',\n",
       " 'shamanic',\n",
       " 'funk viral',\n",
       " 'west coast trap',\n",
       " 'classic soundtrack',\n",
       " 'german romanticism',\n",
       " 'canadian contemporary country',\n",
       " 'suomi rock',\n",
       " 'latin jazz',\n",
       " 'dangdut',\n",
       " 'diva house',\n",
       " 'stride',\n",
       " 'ska mexicano',\n",
       " 'malaysian pop',\n",
       " 'modern power pop',\n",
       " 'sacramento indie',\n",
       " 'variete francaise',\n",
       " 'british soundtrack',\n",
       " 'piseiro',\n",
       " 'tecnobanda',\n",
       " 'boom bap espanol',\n",
       " 'spanish new wave',\n",
       " 'classic mandopop',\n",
       " 'baltimore indie',\n",
       " 'italian disco',\n",
       " 'salsa colombiana',\n",
       " 'ukrainian pop',\n",
       " 'gospel',\n",
       " 'velha guarda',\n",
       " 'russian gangster rap',\n",
       " 'dutch trance',\n",
       " 'doo-wop',\n",
       " 'rhythm and blues',\n",
       " 'nwobhm',\n",
       " 'hyphy',\n",
       " 'tekk',\n",
       " 'indie punk',\n",
       " 'intelligent dance music',\n",
       " 'detroit rock',\n",
       " 'organic house',\n",
       " 'boston rock',\n",
       " 'big band',\n",
       " 'deep ccm',\n",
       " 'drill brasileiro',\n",
       " 'jazz saxophone',\n",
       " 'rock urbano mexicano',\n",
       " 'bases de freestyle',\n",
       " 'comic metal',\n",
       " 'cool jazz',\n",
       " 'boom bap',\n",
       " 'chinese indie',\n",
       " 'milan indie',\n",
       " 'rap chileno',\n",
       " 'trap colombiano',\n",
       " 'swedish indie pop',\n",
       " 'indie hip hop',\n",
       " 'musica infantil',\n",
       " 'desi trap',\n",
       " 'northern soul',\n",
       " 'philly soul',\n",
       " 'sleaze rock',\n",
       " 'red dirt',\n",
       " 'synthwave',\n",
       " 'chicago bop',\n",
       " 'jazz piano',\n",
       " 'pakistani pop',\n",
       " 'symphonic metal',\n",
       " 'indonesian jazz',\n",
       " 'neo-singer-songwriter',\n",
       " 'cubaton',\n",
       " 'austindie',\n",
       " 'experimental hip hop',\n",
       " 'dinner jazz',\n",
       " 'classic opm',\n",
       " 'canadian pop punk',\n",
       " 'basshall',\n",
       " 'k-indie',\n",
       " 'st louis rap',\n",
       " 'trap carioca',\n",
       " 'boston hip hop',\n",
       " 'rave funk',\n",
       " 'seattle hip hop',\n",
       " 'indonesian r&b',\n",
       " 'rhode island rap',\n",
       " 'rock drums',\n",
       " 'levenslied',\n",
       " 'hard rock brasileiro',\n",
       " 'jazz boom bap',\n",
       " 'turkish alternative',\n",
       " 'minneapolis sound',\n",
       " 'mambo chileno',\n",
       " 'hardcore techno',\n",
       " 'new age piano',\n",
       " 'melbourne bounce',\n",
       " 'stoner metal',\n",
       " 'corridos clasicos',\n",
       " 'cancion infantil latinoamericana',\n",
       " 'taiwan singer-songwriter',\n",
       " 'liedermacher',\n",
       " 'rap cristiano',\n",
       " 'mississippi hip hop',\n",
       " 'cumbia peruana',\n",
       " 'modern southern rock',\n",
       " 'chilean indie',\n",
       " 'new jersey indie',\n",
       " 'pet calming',\n",
       " 'chillstep',\n",
       " 'manguebeat',\n",
       " 'afrofuturismo brasileiro',\n",
       " 'rap baiano',\n",
       " 'jazztronica',\n",
       " 'colombian hip hop',\n",
       " 'soul jazz',\n",
       " 'japanese emo',\n",
       " 'afro soul',\n",
       " 'carnaval',\n",
       " 'russelater',\n",
       " 'laiko',\n",
       " 'modern funk',\n",
       " 'trap funk',\n",
       " 'contemporary jazz',\n",
       " 'azonto',\n",
       " 'folk brasileiro',\n",
       " 'instrumental rock',\n",
       " 'post-rock',\n",
       " 'impressionism',\n",
       " 'tropicalia',\n",
       " 'british folk',\n",
       " 'greek hip hop',\n",
       " 'hindi hip hop',\n",
       " 'pop electronico',\n",
       " 'gothic symphonic metal',\n",
       " 'norwegian pop rap',\n",
       " 'russian post-punk',\n",
       " 'mainland chinese pop',\n",
       " 'christian trap',\n",
       " 'finnish metal',\n",
       " 'hard bop',\n",
       " 'water',\n",
       " 'roots americana',\n",
       " 'karadeniz turkuleri',\n",
       " 'traditional blues',\n",
       " 'pinoy indie',\n",
       " 'german hard rock',\n",
       " 'czech hip hop',\n",
       " 'vegas indie',\n",
       " 'middle earth',\n",
       " 'spanish punk',\n",
       " 'asmr',\n",
       " 'kentucky roots',\n",
       " 'happy hardcore',\n",
       " 'ambient folk',\n",
       " 'rap df',\n",
       " 'brighton indie',\n",
       " 'australian reggae fusion',\n",
       " 'japanese electropop',\n",
       " 'j-acoustic',\n",
       " 'electronic rock',\n",
       " 'tierra caliente',\n",
       " 'aussie drill',\n",
       " ...]"
      ]
     },
     "execution_count": 24,
     "metadata": {},
     "output_type": "execute_result"
    }
   ],
   "source": [
    "list_of_genres = pandas.read_html('https://everynoise.com/everynoise1d.cgi?scope=all', index_col=0)\n",
    "list_of_genres = list_of_genres[0].replace('☊', '')\n",
    "list_of_genres = list_of_genres.values.tolist()\n",
    "list_of_genres = [a[1] for a in list_of_genres]\n",
    "list_of_genres"
   ]
  },
  {
   "cell_type": "code",
   "execution_count": 25,
   "id": "81adf396",
   "metadata": {},
   "outputs": [
    {
     "name": "stdout",
     "output_type": "stream",
     "text": [
      "Generating playlists for these genres:  ['trap latino', 'trap', 'latin']\n",
      "116\n",
      "Generating playlists for these genres:  ['modern rock', 'pop', 'trap']\n",
      "76\n",
      "Generating playlists for these genres:  ['pop rap', 'trap', 'rap']\n",
      "0\n"
     ]
    }
   ],
   "source": [
    "num_playlists=3\n",
    "num_genres = 10\n",
    "genres_per_playlist = 3\n",
    "\n",
    "simulated_playlists = []\n",
    "\n",
    "for ind in range(num_playlists): \n",
    "    pl_indexes = numpy.random.choice(num_genres, genres_per_playlist, replace=False) # 3 genres per playlist\n",
    "    genres = [list_of_genres[a] for a in pl_indexes]\n",
    "    print('Generating playlists for these genres: ', genres)\n",
    "    trackids = get_recommendations_tracks_from_genre(sp, genres, limit=10)\n",
    "    print(len(trackids))\n",
    "    simulated_playlists.append(trackids)\n",
    "# print([len(a) for a in simulated_playlists])"
   ]
  },
  {
   "cell_type": "markdown",
   "id": "e79bcb55",
   "metadata": {},
   "source": [
    "## Goal: \n",
    "Given a playlist parameterized by list of track_ids, we want to \n",
    "1) generate a feature matrix of dimension num_tracks_in_playlist x num_features\n",
    "2) Perform unsupervised learning to find a latent representation that maximizes the dimensions that are common to both playlists --- baseline PCA, ideal: autoencoders. "
   ]
  },
  {
   "cell_type": "markdown",
   "id": "a1a4db78",
   "metadata": {},
   "source": [
    "## Function definitions for features extraction "
   ]
  },
  {
   "cell_type": "code",
   "execution_count": 26,
   "id": "cefab9c7",
   "metadata": {},
   "outputs": [],
   "source": [
    "def get_genre_from_track(sp, trackid, limit=1): \n",
    "    track = sp.track(trackid)\n",
    "    artist = sp.artist(track[\"artists\"][0][\"external_urls\"][\"spotify\"])\n",
    "    genres = artist[\"genres\"]\n",
    "    if len(genres): \n",
    "        return genres[0:limit]\n",
    "    else: \n",
    "        return []"
   ]
  },
  {
   "cell_type": "code",
   "execution_count": 27,
   "id": "9ac714ea",
   "metadata": {},
   "outputs": [],
   "source": [
    "def get_audio_df(sp, trackids, numerical_features, categorical_features): \n",
    "\n",
    "    feature_df = pandas.DataFrame(sp.audio_features(trackids))\n",
    "    feature_df = feature_df[numerical_features + categorical_features ]\n",
    "    feature_df[categorical_features] = feature_df[categorical_features].astype(str)\n",
    "    feature_df = pandas.get_dummies(feature_df, drop_first = True, columns = categorical_features)\n",
    "    feature_df['id'] = trackids\n",
    "    return feature_df"
   ]
  },
  {
   "cell_type": "code",
   "execution_count": 28,
   "id": "ea7aaaf1",
   "metadata": {},
   "outputs": [],
   "source": [
    "def get_stats(arr, col_prefix='', pvalues = [0, 25, 50, 75,100]): \n",
    "    assert isinstance(arr, numpy.ndarray) or isinstance(arr, list)\n",
    "    if isinstance(arr, list): \n",
    "        arr = numpy.array(arr)\n",
    "    percentiles = numpy.round(numpy.percentile(arr, pvalues, axis = 0), decimals = 2).tolist()\n",
    "    pvalues = [col_prefix + '_' + str(p) for p in pvalues]\n",
    "    d = dict(zip(pvalues, percentiles))\n",
    "    return d"
   ]
  },
  {
   "cell_type": "code",
   "execution_count": 29,
   "id": "d4900c2b",
   "metadata": {},
   "outputs": [
    {
     "data": {
      "text/plain": [
       "{'test_0': 0.01,\n",
       " 'test_25': 0.47,\n",
       " 'test_50': 0.58,\n",
       " 'test_75': 0.59,\n",
       " 'test_100': 0.92}"
      ]
     },
     "execution_count": 29,
     "metadata": {},
     "output_type": "execute_result"
    }
   ],
   "source": [
    "get_stats(numpy.random.rand(5), 'test')"
   ]
  },
  {
   "cell_type": "code",
   "execution_count": 30,
   "id": "140d8d86",
   "metadata": {},
   "outputs": [],
   "source": [
    "def get_mean_variance(arr, col_prefix=''): \n",
    "    d = {}\n",
    "    d[col_prefix + '_mean'] = numpy.round(numpy.mean(arr, axis = None), 2)\n",
    "    d[col_prefix + '_std'] = numpy.round(numpy.std(arr, axis = None), 2)\n",
    "    return d"
   ]
  },
  {
   "cell_type": "code",
   "execution_count": 31,
   "id": "247cc428",
   "metadata": {},
   "outputs": [],
   "source": [
    "from collections import Counter\n",
    "import librosa\n",
    "\n",
    "def get_extensive_audio_features(sp, sample_trackid, pvalues= [10,25,50,75,90], perform_dsp = True): \n",
    "    '''\n",
    "    Get a single track and retrieve audio features that are in addition to the basic features.\n",
    "    '''\n",
    "    pitches = 'C C# D D# E F F# G G# A A# B'.split(' ')\n",
    "    timbres = ['timbre_'+str(a) for a in range(12)]\n",
    "\n",
    "    sample_audio_analysis = sp.audio_analysis(sample_trackid)\n",
    "\n",
    "    # processing a single track \n",
    "    num_sections = len(sample_audio_analysis['sections'])\n",
    "    features = {'id': sample_trackid}\n",
    "    loudness = [sample_audio_analysis['sections'][a]['loudness'] for a in range(num_sections)]\n",
    "    tempo = [sample_audio_analysis['sections'][a]['tempo'] for a in range(num_sections)]\n",
    "    features.update(get_stats(numpy.array(loudness), 'loudness'))\n",
    "    features.update(get_stats(numpy.array(tempo), 'tempo'))\n",
    "\n",
    "    key = ['key_'+str(sample_audio_analysis['sections'][a]['key']) for a in range(num_sections)]\n",
    "    mode = ['mode_'+str(sample_audio_analysis['sections'][a]['mode']) for a in range(num_sections)]\n",
    "    key_counter = dict(Counter(key))\n",
    "    _sum = sum(key_counter.values())\n",
    "    key_counter = {a:round(b/_sum*100)/100. for a,b in key_counter.items()}\n",
    "    mode_counter = dict(Counter(mode))\n",
    "    _sum = sum(mode_counter.values())\n",
    "    mode_counter = {a:round(b/_sum*100)/100. for a,b in mode_counter.items()}\n",
    "\n",
    "    features.update(key_counter)\n",
    "    features.update(mode_counter)\n",
    "\n",
    "\n",
    "    # pitches and timbre\n",
    "    num_segments = len(sample_audio_analysis['segments'])\n",
    "    pitch_data = []\n",
    "    timbre_data = []\n",
    "    for a in range(num_segments): \n",
    "        pitch_data.append(sample_audio_analysis['segments'][a]['pitches'])\n",
    "        timbre_data.append(sample_audio_analysis['segments'][a]['timbre'])\n",
    "    pitch_df = pandas.DataFrame(data = numpy.array(pitch_data), columns = pitches)\n",
    "    timbre_df = pandas.DataFrame(data = numpy.array(timbre_data), columns = timbres)\n",
    "\n",
    "    for p in pitches: \n",
    "        features.update(get_stats(pitch_df[p].values, p, pvalues = [10,25,50,75,90]))\n",
    "    for t in timbres: \n",
    "        features.update(get_stats(timbre_df[t].values, t, pvalues = [10,25,50,75,90]))\n",
    "        \n",
    "    if perform_dsp: \n",
    "        sample_track = sp.track(sample_trackid)\n",
    "        audio_file = wget.download(sample_track['preview_url'])\n",
    "        audio, sr  = librosa.load(audio_file)\n",
    "        os.remove(audio_file)\n",
    "\n",
    "        zero_crossings = librosa.feature.zero_crossing_rate(audio)\n",
    "        spectral_centroids = librosa.feature.spectral_centroid(y=audio, sr=sr)\n",
    "        rolloff = librosa.feature.spectral_rolloff(y=audio, sr=sr)\n",
    "\n",
    "        features.update(get_mean_variance(zero_crossings, col_prefix='zero_crossings'))\n",
    "        features.update(get_mean_variance(spectral_centroids, col_prefix='spectral_centroids'))\n",
    "        features.update(get_mean_variance(rolloff, col_prefix='rolloff'))\n",
    "        \n",
    "    return features\n",
    "    \n"
   ]
  },
  {
   "cell_type": "markdown",
   "id": "54cf35d3",
   "metadata": {},
   "source": [
    "## Testing Features on a single track "
   ]
  },
  {
   "cell_type": "code",
   "execution_count": 32,
   "id": "30e7dde2",
   "metadata": {},
   "outputs": [],
   "source": [
    "trackids = get_recommendations_tracks_from_genre(sp,['classical'], limit=5)\n",
    "sample_trackid = trackids[5]"
   ]
  },
  {
   "cell_type": "code",
   "execution_count": 37,
   "id": "04b138d0",
   "metadata": {},
   "outputs": [],
   "source": [
    "# sp.audio_features(trackids)[5]"
   ]
  },
  {
   "cell_type": "code",
   "execution_count": null,
   "id": "2bd5e9b2",
   "metadata": {},
   "outputs": [],
   "source": [
    "numerical_features = ['danceability', 'energy', 'loudness', 'speechiness', 'acousticness', 'instrumentalness', 'liveness']\n",
    "numerical_features += ['valence', 'tempo', 'duration_ms']\n",
    "categorical_features = ['key', 'mode']\n",
    "feature_df = get_audio_df(sp, trackids, numerical_features, categorical_features)\n",
    "feature_df.head()"
   ]
  },
  {
   "cell_type": "code",
   "execution_count": 18,
   "id": "d375dcb9",
   "metadata": {},
   "outputs": [
    {
     "name": "stdout",
     "output_type": "stream",
     "text": [
      "\r",
      "  0% [                                                                            ]      0 / 362861\r",
      "  2% [.                                                                           ]   8192 / 362861\r",
      "  4% [...                                                                         ]  16384 / 362861\r",
      "  6% [.....                                                                       ]  24576 / 362861\r",
      "  9% [......                                                                      ]  32768 / 362861\r",
      " 11% [........                                                                    ]  40960 / 362861\r",
      " 13% [..........                                                                  ]  49152 / 362861\r",
      " 15% [............                                                                ]  57344 / 362861\r",
      " 18% [.............                                                               ]  65536 / 362861\r",
      " 20% [...............                                                             ]  73728 / 362861\r",
      " 22% [.................                                                           ]  81920 / 362861\r",
      " 24% [..................                                                          ]  90112 / 362861\r",
      " 27% [....................                                                        ]  98304 / 362861\r",
      " 29% [......................                                                      ] 106496 / 362861\r",
      " 31% [........................                                                    ] 114688 / 362861\r",
      " 33% [.........................                                                   ] 122880 / 362861\r",
      " 36% [...........................                                                 ] 131072 / 362861\r",
      " 38% [.............................                                               ] 139264 / 362861\r",
      " 40% [..............................                                              ] 147456 / 362861\r",
      " 42% [................................                                            ] 155648 / 362861\r",
      " 45% [..................................                                          ] 163840 / 362861\r",
      " 47% [....................................                                        ] 172032 / 362861\r",
      " 49% [.....................................                                       ] 180224 / 362861\r",
      " 51% [.......................................                                     ] 188416 / 362861\r",
      " 54% [.........................................                                   ] 196608 / 362861\r",
      " 56% [..........................................                                  ] 204800 / 362861\r",
      " 58% [............................................                                ] 212992 / 362861\r",
      " 60% [..............................................                              ] 221184 / 362861\r",
      " 63% [................................................                            ] 229376 / 362861\r",
      " 65% [.................................................                           ] 237568 / 362861\r",
      " 67% [...................................................                         ] 245760 / 362861\r",
      " 69% [.....................................................                       ] 253952 / 362861\r",
      " 72% [......................................................                      ] 262144 / 362861\r",
      " 74% [........................................................                    ] 270336 / 362861\r",
      " 76% [..........................................................                  ] 278528 / 362861\r",
      " 79% [............................................................                ] 286720 / 362861\r",
      " 81% [.............................................................               ] 294912 / 362861\r",
      " 83% [...............................................................             ] 303104 / 362861\r",
      " 85% [.................................................................           ] 311296 / 362861\r",
      " 88% [..................................................................          ] 319488 / 362861\r",
      " 90% [....................................................................        ] 327680 / 362861\r",
      " 92% [......................................................................      ] 335872 / 362861\r",
      " 94% [........................................................................    ] 344064 / 362861\r",
      " 97% [.........................................................................   ] 352256 / 362861\r",
      " 99% [........................................................................... ] 360448 / 362861\r",
      "100% [............................................................................] 362861 / 362861"
     ]
    },
    {
     "name": "stderr",
     "output_type": "stream",
     "text": [
      "/Users/tejasbot/anaconda3/lib/python3.8/site-packages/librosa/util/decorators.py:88: UserWarning: PySoundFile failed. Trying audioread instead.\n",
      "  return f(*args, **kwargs)\n",
      "/var/folders/x0/9kxl__ld5lg60zg21w2jnc2c0000gn/T/ipykernel_48346/3714470853.py:56: FutureWarning: Pass y=[-0.01572599 -0.03161804 -0.04182438 ... -0.0389565  -0.05666606\n",
      "  0.        ] as keyword args. From version 0.10 passing these as positional arguments will result in an error\n",
      "  spectral_centroids = librosa.feature.spectral_centroid(audio, sr=sr)\n",
      "/var/folders/x0/9kxl__ld5lg60zg21w2jnc2c0000gn/T/ipykernel_48346/3714470853.py:57: FutureWarning: Pass y=[-0.01572599 -0.03161804 -0.04182438 ... -0.0389565  -0.05666606\n",
      "  0.        ] as keyword args. From version 0.10 passing these as positional arguments will result in an error\n",
      "  rolloff = librosa.feature.spectral_rolloff(audio, sr=sr)\n"
     ]
    },
    {
     "data": {
      "text/plain": [
       "{'id': '69ai605TdgykOy3UTKuywI',\n",
       " 'loudness_0': -33.95,\n",
       " 'loudness_25': -27.29,\n",
       " 'loudness_50': -23.17,\n",
       " 'loudness_75': -19.82,\n",
       " 'loudness_100': -18.24,\n",
       " 'tempo_0': 0.0,\n",
       " 'tempo_25': 67.74,\n",
       " 'tempo_50': 81.68,\n",
       " 'tempo_75': 82.87,\n",
       " 'tempo_100': 84.57,\n",
       " 'key_8': 0.12,\n",
       " 'key_10': 0.5,\n",
       " 'key_3': 0.25,\n",
       " 'key_7': 0.12,\n",
       " 'mode_1': 0.62,\n",
       " 'mode_0': 0.38,\n",
       " 'C_10': 0.12,\n",
       " 'C_25': 0.22,\n",
       " 'C_50': 0.43,\n",
       " 'C_75': 0.7,\n",
       " 'C_90': 1.0,\n",
       " 'C#_10': 0.11,\n",
       " 'C#_25': 0.19,\n",
       " 'C#_50': 0.34,\n",
       " 'C#_75': 0.59,\n",
       " 'C#_90': 0.94,\n",
       " 'D_10': 0.1,\n",
       " 'D_25': 0.21,\n",
       " 'D_50': 0.41,\n",
       " 'D_75': 0.73,\n",
       " 'D_90': 1.0,\n",
       " 'D#_10': 0.02,\n",
       " 'D#_25': 0.06,\n",
       " 'D#_50': 0.25,\n",
       " 'D#_75': 0.59,\n",
       " 'D#_90': 0.98,\n",
       " 'E_10': 0.03,\n",
       " 'E_25': 0.07,\n",
       " 'E_50': 0.14,\n",
       " 'E_75': 0.24,\n",
       " 'E_90': 0.43,\n",
       " 'F_10': 0.08,\n",
       " 'F_25': 0.16,\n",
       " 'F_50': 0.33,\n",
       " 'F_75': 0.62,\n",
       " 'F_90': 1.0,\n",
       " 'F#_10': 0.03,\n",
       " 'F#_25': 0.06,\n",
       " 'F#_50': 0.12,\n",
       " 'F#_75': 0.26,\n",
       " 'F#_90': 0.41,\n",
       " 'G_10': 0.06,\n",
       " 'G_25': 0.14,\n",
       " 'G_50': 0.34,\n",
       " 'G_75': 0.66,\n",
       " 'G_90': 1.0,\n",
       " 'G#_10': 0.03,\n",
       " 'G#_25': 0.05,\n",
       " 'G#_50': 0.11,\n",
       " 'G#_75': 0.32,\n",
       " 'G#_90': 0.75,\n",
       " 'A_10': 0.05,\n",
       " 'A_25': 0.1,\n",
       " 'A_50': 0.19,\n",
       " 'A_75': 0.36,\n",
       " 'A_90': 0.63,\n",
       " 'A#_10': 0.09,\n",
       " 'A#_25': 0.19,\n",
       " 'A#_50': 0.45,\n",
       " 'A#_75': 0.93,\n",
       " 'A#_90': 1.0,\n",
       " 'B_10': 0.04,\n",
       " 'B_25': 0.06,\n",
       " 'B_50': 0.1,\n",
       " 'B_75': 0.16,\n",
       " 'B_90': 0.29,\n",
       " 'timbre_0_10': 29.77,\n",
       " 'timbre_0_25': 33.36,\n",
       " 'timbre_0_50': 36.42,\n",
       " 'timbre_0_75': 39.65,\n",
       " 'timbre_0_90': 41.81,\n",
       " 'timbre_1_10': -77.94,\n",
       " 'timbre_1_25': -52.58,\n",
       " 'timbre_1_50': -13.55,\n",
       " 'timbre_1_75': 16.41,\n",
       " 'timbre_1_90': 46.43,\n",
       " 'timbre_2_10': 21.09,\n",
       " 'timbre_2_25': 42.06,\n",
       " 'timbre_2_50': 63.15,\n",
       " 'timbre_2_75': 80.02,\n",
       " 'timbre_2_90': 91.48,\n",
       " 'timbre_3_10': -30.23,\n",
       " 'timbre_3_25': -17.19,\n",
       " 'timbre_3_50': -2.6,\n",
       " 'timbre_3_75': 10.4,\n",
       " 'timbre_3_90': 20.93,\n",
       " 'timbre_4_10': -11.07,\n",
       " 'timbre_4_25': 0.15,\n",
       " 'timbre_4_50': 11.64,\n",
       " 'timbre_4_75': 23.12,\n",
       " 'timbre_4_90': 34.12,\n",
       " 'timbre_5_10': -37.26,\n",
       " 'timbre_5_25': -30.94,\n",
       " 'timbre_5_50': -24.63,\n",
       " 'timbre_5_75': -19.58,\n",
       " 'timbre_5_90': -14.25,\n",
       " 'timbre_6_10': -38.2,\n",
       " 'timbre_6_25': -19.52,\n",
       " 'timbre_6_50': -3.62,\n",
       " 'timbre_6_75': 8.16,\n",
       " 'timbre_6_90': 19.18,\n",
       " 'timbre_7_10': -20.65,\n",
       " 'timbre_7_25': -10.78,\n",
       " 'timbre_7_50': -3.38,\n",
       " 'timbre_7_75': 6.64,\n",
       " 'timbre_7_90': 15.64,\n",
       " 'timbre_8_10': -29.01,\n",
       " 'timbre_8_25': -22.71,\n",
       " 'timbre_8_50': -14.51,\n",
       " 'timbre_8_75': -3.88,\n",
       " 'timbre_8_90': 5.91,\n",
       " 'timbre_9_10': -17.25,\n",
       " 'timbre_9_25': -12.38,\n",
       " 'timbre_9_50': -6.32,\n",
       " 'timbre_9_75': -1.07,\n",
       " 'timbre_9_90': 4.59,\n",
       " 'timbre_10_10': -14.31,\n",
       " 'timbre_10_25': -8.19,\n",
       " 'timbre_10_50': -1.75,\n",
       " 'timbre_10_75': 3.77,\n",
       " 'timbre_10_90': 9.64,\n",
       " 'timbre_11_10': -14.48,\n",
       " 'timbre_11_25': -8.06,\n",
       " 'timbre_11_50': -0.54,\n",
       " 'timbre_11_75': 8.51,\n",
       " 'timbre_11_90': 15.89,\n",
       " 'zero_crossings_mean': 0.08,\n",
       " 'zero_crossings_std': 0.03,\n",
       " 'spectral_centroids_mean': 1234.48,\n",
       " 'spectral_centroids_std': 222.94,\n",
       " 'rolloff_mean': 2384.13,\n",
       " 'rolloff_std': 487.11}"
      ]
     },
     "execution_count": 18,
     "metadata": {},
     "output_type": "execute_result"
    }
   ],
   "source": [
    "# extensive features for sample track \n",
    "\n",
    "get_extensive_audio_features(sp, sample_trackid, pvalues= [10,25,50,75,90], perform_dsp = True)\n"
   ]
  },
  {
   "cell_type": "code",
   "execution_count": 35,
   "id": "296c0f17",
   "metadata": {},
   "outputs": [],
   "source": [
    "def gen_extensive_audio_features(sp, trackids, pvalues= [10,25,50,75,90], perform_dsp = True): \n",
    "    features_all_tracks = []\n",
    "    for ind, t_id in enumerate(trackids): \n",
    "        print('processing track ', t_id, '{f} out of {e}'.format(f=ind, e=len(trackids)))\n",
    "        features_all_tracks.append(get_extensive_audio_features(sp, t_id, pvalues= [10,25,50,75,90], perform_dsp = True))\n",
    "\n",
    "    df_audio_extra = pandas.DataFrame(features_all_tracks)\n",
    "    return df_audio_extra"
   ]
  },
  {
   "cell_type": "code",
   "execution_count": 36,
   "id": "6c9c129f",
   "metadata": {},
   "outputs": [
    {
     "name": "stdout",
     "output_type": "stream",
     "text": [
      "processing track  1JSIWsJfxOji0FrxFcxdCK 0 out of 100\n",
      "100% [............................................................................] 362861 / 362861"
     ]
    },
    {
     "name": "stderr",
     "output_type": "stream",
     "text": [
      "/Users/tejasbot/anaconda3/lib/python3.8/site-packages/librosa/util/decorators.py:88: UserWarning: PySoundFile failed. Trying audioread instead.\n",
      "  return f(*args, **kwargs)\n",
      "/var/folders/x0/9kxl__ld5lg60zg21w2jnc2c0000gn/T/ipykernel_48346/3714470853.py:56: FutureWarning: Pass y=[-0.02529239 -0.01567331  0.01690556 ... -0.03486066 -0.11116249\n",
      "  0.        ] as keyword args. From version 0.10 passing these as positional arguments will result in an error\n",
      "  spectral_centroids = librosa.feature.spectral_centroid(audio, sr=sr)\n",
      "/var/folders/x0/9kxl__ld5lg60zg21w2jnc2c0000gn/T/ipykernel_48346/3714470853.py:57: FutureWarning: Pass y=[-0.02529239 -0.01567331  0.01690556 ... -0.03486066 -0.11116249\n",
      "  0.        ] as keyword args. From version 0.10 passing these as positional arguments will result in an error\n",
      "  rolloff = librosa.feature.spectral_rolloff(audio, sr=sr)\n"
     ]
    },
    {
     "name": "stdout",
     "output_type": "stream",
     "text": [
      "processing track  5QnJqzHud1dXiz0nohQtbv 1 out of 100\n",
      "100% [............................................................................] 361837 / 361837"
     ]
    },
    {
     "name": "stderr",
     "output_type": "stream",
     "text": [
      "/Users/tejasbot/anaconda3/lib/python3.8/site-packages/librosa/util/decorators.py:88: UserWarning: PySoundFile failed. Trying audioread instead.\n",
      "  return f(*args, **kwargs)\n",
      "/var/folders/x0/9kxl__ld5lg60zg21w2jnc2c0000gn/T/ipykernel_48346/3714470853.py:56: FutureWarning: Pass y=[-0.0111036  -0.01993817 -0.01985832 ... -0.02482001 -0.02549613\n",
      " -0.02737209] as keyword args. From version 0.10 passing these as positional arguments will result in an error\n",
      "  spectral_centroids = librosa.feature.spectral_centroid(audio, sr=sr)\n",
      "/var/folders/x0/9kxl__ld5lg60zg21w2jnc2c0000gn/T/ipykernel_48346/3714470853.py:57: FutureWarning: Pass y=[-0.0111036  -0.01993817 -0.01985832 ... -0.02482001 -0.02549613\n",
      " -0.02737209] as keyword args. From version 0.10 passing these as positional arguments will result in an error\n",
      "  rolloff = librosa.feature.spectral_rolloff(audio, sr=sr)\n"
     ]
    },
    {
     "name": "stdout",
     "output_type": "stream",
     "text": [
      "processing track  7LnCjHudaBcB7gprluL2jG 2 out of 100\n",
      "100% [............................................................................] 362861 / 362861"
     ]
    },
    {
     "name": "stderr",
     "output_type": "stream",
     "text": [
      "/Users/tejasbot/anaconda3/lib/python3.8/site-packages/librosa/util/decorators.py:88: UserWarning: PySoundFile failed. Trying audioread instead.\n",
      "  return f(*args, **kwargs)\n",
      "/var/folders/x0/9kxl__ld5lg60zg21w2jnc2c0000gn/T/ipykernel_48346/3714470853.py:56: FutureWarning: Pass y=[-0.16303751 -0.2772675  -0.2440857  ... -0.07143886 -0.15852949\n",
      "  0.        ] as keyword args. From version 0.10 passing these as positional arguments will result in an error\n",
      "  spectral_centroids = librosa.feature.spectral_centroid(audio, sr=sr)\n",
      "/var/folders/x0/9kxl__ld5lg60zg21w2jnc2c0000gn/T/ipykernel_48346/3714470853.py:57: FutureWarning: Pass y=[-0.16303751 -0.2772675  -0.2440857  ... -0.07143886 -0.15852949\n",
      "  0.        ] as keyword args. From version 0.10 passing these as positional arguments will result in an error\n",
      "  rolloff = librosa.feature.spectral_rolloff(audio, sr=sr)\n"
     ]
    },
    {
     "name": "stdout",
     "output_type": "stream",
     "text": [
      "processing track  1S1JlOrGDpkbVhWCsOjUIh 3 out of 100\n",
      "100% [............................................................................] 362861 / 362861"
     ]
    },
    {
     "name": "stderr",
     "output_type": "stream",
     "text": [
      "/Users/tejasbot/anaconda3/lib/python3.8/site-packages/librosa/util/decorators.py:88: UserWarning: PySoundFile failed. Trying audioread instead.\n",
      "  return f(*args, **kwargs)\n",
      "/var/folders/x0/9kxl__ld5lg60zg21w2jnc2c0000gn/T/ipykernel_48346/3714470853.py:56: FutureWarning: Pass y=[ 0.10899467  0.15203418  0.08801726 ... -0.23987345 -0.23869419\n",
      " -0.2569419 ] as keyword args. From version 0.10 passing these as positional arguments will result in an error\n",
      "  spectral_centroids = librosa.feature.spectral_centroid(audio, sr=sr)\n",
      "/var/folders/x0/9kxl__ld5lg60zg21w2jnc2c0000gn/T/ipykernel_48346/3714470853.py:57: FutureWarning: Pass y=[ 0.10899467  0.15203418  0.08801726 ... -0.23987345 -0.23869419\n",
      " -0.2569419 ] as keyword args. From version 0.10 passing these as positional arguments will result in an error\n",
      "  rolloff = librosa.feature.spectral_rolloff(audio, sr=sr)\n"
     ]
    },
    {
     "name": "stdout",
     "output_type": "stream",
     "text": [
      "processing track  1J8JRBcaJUPctNt6DM12iD 4 out of 100\n",
      "100% [............................................................................] 362861 / 362861"
     ]
    },
    {
     "name": "stderr",
     "output_type": "stream",
     "text": [
      "/Users/tejasbot/anaconda3/lib/python3.8/site-packages/librosa/util/decorators.py:88: UserWarning: PySoundFile failed. Trying audioread instead.\n",
      "  return f(*args, **kwargs)\n",
      "/var/folders/x0/9kxl__ld5lg60zg21w2jnc2c0000gn/T/ipykernel_48346/3714470853.py:56: FutureWarning: Pass y=[ 0.00079193 -0.0051838  -0.01384191 ...  0.0186801   0.01765953\n",
      "  0.        ] as keyword args. From version 0.10 passing these as positional arguments will result in an error\n",
      "  spectral_centroids = librosa.feature.spectral_centroid(audio, sr=sr)\n",
      "/var/folders/x0/9kxl__ld5lg60zg21w2jnc2c0000gn/T/ipykernel_48346/3714470853.py:57: FutureWarning: Pass y=[ 0.00079193 -0.0051838  -0.01384191 ...  0.0186801   0.01765953\n",
      "  0.        ] as keyword args. From version 0.10 passing these as positional arguments will result in an error\n",
      "  rolloff = librosa.feature.spectral_rolloff(audio, sr=sr)\n"
     ]
    },
    {
     "name": "stdout",
     "output_type": "stream",
     "text": [
      "processing track  69ai605TdgykOy3UTKuywI 5 out of 100\n",
      "100% [............................................................................] 362861 / 362861"
     ]
    },
    {
     "name": "stderr",
     "output_type": "stream",
     "text": [
      "/Users/tejasbot/anaconda3/lib/python3.8/site-packages/librosa/util/decorators.py:88: UserWarning: PySoundFile failed. Trying audioread instead.\n",
      "  return f(*args, **kwargs)\n",
      "/var/folders/x0/9kxl__ld5lg60zg21w2jnc2c0000gn/T/ipykernel_48346/3714470853.py:56: FutureWarning: Pass y=[-0.01572599 -0.03161804 -0.04182438 ... -0.0389565  -0.05666606\n",
      "  0.        ] as keyword args. From version 0.10 passing these as positional arguments will result in an error\n",
      "  spectral_centroids = librosa.feature.spectral_centroid(audio, sr=sr)\n",
      "/var/folders/x0/9kxl__ld5lg60zg21w2jnc2c0000gn/T/ipykernel_48346/3714470853.py:57: FutureWarning: Pass y=[-0.01572599 -0.03161804 -0.04182438 ... -0.0389565  -0.05666606\n",
      "  0.        ] as keyword args. From version 0.10 passing these as positional arguments will result in an error\n",
      "  rolloff = librosa.feature.spectral_rolloff(audio, sr=sr)\n"
     ]
    },
    {
     "name": "stdout",
     "output_type": "stream",
     "text": [
      "processing track  711sUHL5feGZQ4HZai697P 6 out of 100\n",
      "100% [............................................................................] 362861 / 362861"
     ]
    },
    {
     "name": "stderr",
     "output_type": "stream",
     "text": [
      "/Users/tejasbot/anaconda3/lib/python3.8/site-packages/librosa/util/decorators.py:88: UserWarning: PySoundFile failed. Trying audioread instead.\n",
      "  return f(*args, **kwargs)\n",
      "/var/folders/x0/9kxl__ld5lg60zg21w2jnc2c0000gn/T/ipykernel_48346/3714470853.py:56: FutureWarning: Pass y=[-0.12823674 -0.22571968 -0.19768542 ...  0.03801951  0.03911125\n",
      "  0.04057196] as keyword args. From version 0.10 passing these as positional arguments will result in an error\n",
      "  spectral_centroids = librosa.feature.spectral_centroid(audio, sr=sr)\n",
      "/var/folders/x0/9kxl__ld5lg60zg21w2jnc2c0000gn/T/ipykernel_48346/3714470853.py:57: FutureWarning: Pass y=[-0.12823674 -0.22571968 -0.19768542 ...  0.03801951  0.03911125\n",
      "  0.04057196] as keyword args. From version 0.10 passing these as positional arguments will result in an error\n",
      "  rolloff = librosa.feature.spectral_rolloff(audio, sr=sr)\n"
     ]
    },
    {
     "name": "stdout",
     "output_type": "stream",
     "text": [
      "processing track  5pLpGimrruc4qZSxHBScYz 7 out of 100\n",
      "100% [............................................................................] 362861 / 362861"
     ]
    },
    {
     "name": "stderr",
     "output_type": "stream",
     "text": [
      "/Users/tejasbot/anaconda3/lib/python3.8/site-packages/librosa/util/decorators.py:88: UserWarning: PySoundFile failed. Trying audioread instead.\n",
      "  return f(*args, **kwargs)\n",
      "/var/folders/x0/9kxl__ld5lg60zg21w2jnc2c0000gn/T/ipykernel_48346/3714470853.py:56: FutureWarning: Pass y=[0.03313733 0.06329214 0.06700635 ... 0.12138435 0.11652326 0.10089605] as keyword args. From version 0.10 passing these as positional arguments will result in an error\n",
      "  spectral_centroids = librosa.feature.spectral_centroid(audio, sr=sr)\n",
      "/var/folders/x0/9kxl__ld5lg60zg21w2jnc2c0000gn/T/ipykernel_48346/3714470853.py:57: FutureWarning: Pass y=[0.03313733 0.06329214 0.06700635 ... 0.12138435 0.11652326 0.10089605] as keyword args. From version 0.10 passing these as positional arguments will result in an error\n",
      "  rolloff = librosa.feature.spectral_rolloff(audio, sr=sr)\n"
     ]
    },
    {
     "name": "stdout",
     "output_type": "stream",
     "text": [
      "processing track  7igDc2V0gCwBYV5rBUw1g7 8 out of 100\n",
      "100% [............................................................................] 362861 / 362861"
     ]
    },
    {
     "name": "stderr",
     "output_type": "stream",
     "text": [
      "/Users/tejasbot/anaconda3/lib/python3.8/site-packages/librosa/util/decorators.py:88: UserWarning: PySoundFile failed. Trying audioread instead.\n",
      "  return f(*args, **kwargs)\n",
      "/var/folders/x0/9kxl__ld5lg60zg21w2jnc2c0000gn/T/ipykernel_48346/3714470853.py:56: FutureWarning: Pass y=[-0.00418409  0.00456911  0.02491076 ...  0.05230452  0.05176872\n",
      "  0.05457798] as keyword args. From version 0.10 passing these as positional arguments will result in an error\n",
      "  spectral_centroids = librosa.feature.spectral_centroid(audio, sr=sr)\n",
      "/var/folders/x0/9kxl__ld5lg60zg21w2jnc2c0000gn/T/ipykernel_48346/3714470853.py:57: FutureWarning: Pass y=[-0.00418409  0.00456911  0.02491076 ...  0.05230452  0.05176872\n",
      "  0.05457798] as keyword args. From version 0.10 passing these as positional arguments will result in an error\n",
      "  rolloff = librosa.feature.spectral_rolloff(audio, sr=sr)\n"
     ]
    },
    {
     "name": "stdout",
     "output_type": "stream",
     "text": [
      "processing track  777Em4kHDduR6HgVTKdwpf 9 out of 100\n",
      "100% [............................................................................] 361837 / 361837"
     ]
    },
    {
     "name": "stderr",
     "output_type": "stream",
     "text": [
      "/Users/tejasbot/anaconda3/lib/python3.8/site-packages/librosa/util/decorators.py:88: UserWarning: PySoundFile failed. Trying audioread instead.\n",
      "  return f(*args, **kwargs)\n",
      "/var/folders/x0/9kxl__ld5lg60zg21w2jnc2c0000gn/T/ipykernel_48346/3714470853.py:56: FutureWarning: Pass y=[-0.12859812 -0.18562736 -0.13504419 ... -0.05874661 -0.04723606\n",
      " -0.03010154] as keyword args. From version 0.10 passing these as positional arguments will result in an error\n",
      "  spectral_centroids = librosa.feature.spectral_centroid(audio, sr=sr)\n",
      "/var/folders/x0/9kxl__ld5lg60zg21w2jnc2c0000gn/T/ipykernel_48346/3714470853.py:57: FutureWarning: Pass y=[-0.12859812 -0.18562736 -0.13504419 ... -0.05874661 -0.04723606\n",
      " -0.03010154] as keyword args. From version 0.10 passing these as positional arguments will result in an error\n",
      "  rolloff = librosa.feature.spectral_rolloff(audio, sr=sr)\n"
     ]
    },
    {
     "name": "stdout",
     "output_type": "stream",
     "text": [
      "processing track  2vYPxe1E9uQ0XY27FFViR5 10 out of 100\n",
      "100% [............................................................................] 362861 / 362861"
     ]
    },
    {
     "name": "stderr",
     "output_type": "stream",
     "text": [
      "/Users/tejasbot/anaconda3/lib/python3.8/site-packages/librosa/util/decorators.py:88: UserWarning: PySoundFile failed. Trying audioread instead.\n",
      "  return f(*args, **kwargs)\n",
      "/var/folders/x0/9kxl__ld5lg60zg21w2jnc2c0000gn/T/ipykernel_48346/3714470853.py:56: FutureWarning: Pass y=[0.15215158 0.23164347 0.23012313 ... 0.07648722 0.06746561 0.05934777] as keyword args. From version 0.10 passing these as positional arguments will result in an error\n",
      "  spectral_centroids = librosa.feature.spectral_centroid(audio, sr=sr)\n",
      "/var/folders/x0/9kxl__ld5lg60zg21w2jnc2c0000gn/T/ipykernel_48346/3714470853.py:57: FutureWarning: Pass y=[0.15215158 0.23164347 0.23012313 ... 0.07648722 0.06746561 0.05934777] as keyword args. From version 0.10 passing these as positional arguments will result in an error\n",
      "  rolloff = librosa.feature.spectral_rolloff(audio, sr=sr)\n"
     ]
    },
    {
     "name": "stdout",
     "output_type": "stream",
     "text": [
      "processing track  5Q6Chi5OQkkYjdyuelGTbH 11 out of 100\n",
      "100% [............................................................................] 361837 / 361837"
     ]
    },
    {
     "name": "stderr",
     "output_type": "stream",
     "text": [
      "/Users/tejasbot/anaconda3/lib/python3.8/site-packages/librosa/util/decorators.py:88: UserWarning: PySoundFile failed. Trying audioread instead.\n",
      "  return f(*args, **kwargs)\n",
      "/var/folders/x0/9kxl__ld5lg60zg21w2jnc2c0000gn/T/ipykernel_48346/3714470853.py:56: FutureWarning: Pass y=[-0.01333142 -0.03370546 -0.04370847 ... -0.06151321 -0.05006428\n",
      " -0.03313618] as keyword args. From version 0.10 passing these as positional arguments will result in an error\n",
      "  spectral_centroids = librosa.feature.spectral_centroid(audio, sr=sr)\n",
      "/var/folders/x0/9kxl__ld5lg60zg21w2jnc2c0000gn/T/ipykernel_48346/3714470853.py:57: FutureWarning: Pass y=[-0.01333142 -0.03370546 -0.04370847 ... -0.06151321 -0.05006428\n",
      " -0.03313618] as keyword args. From version 0.10 passing these as positional arguments will result in an error\n",
      "  rolloff = librosa.feature.spectral_rolloff(audio, sr=sr)\n"
     ]
    },
    {
     "name": "stdout",
     "output_type": "stream",
     "text": [
      "processing track  3cwREafAVNjUEt0hdrNVkt 12 out of 100\n",
      "100% [............................................................................] 362861 / 362861"
     ]
    },
    {
     "name": "stderr",
     "output_type": "stream",
     "text": [
      "/Users/tejasbot/anaconda3/lib/python3.8/site-packages/librosa/util/decorators.py:88: UserWarning: PySoundFile failed. Trying audioread instead.\n",
      "  return f(*args, **kwargs)\n",
      "/var/folders/x0/9kxl__ld5lg60zg21w2jnc2c0000gn/T/ipykernel_48346/3714470853.py:56: FutureWarning: Pass y=[0.04225293 0.08937345 0.10024503 ... 0.01166257 0.00394632 0.        ] as keyword args. From version 0.10 passing these as positional arguments will result in an error\n",
      "  spectral_centroids = librosa.feature.spectral_centroid(audio, sr=sr)\n",
      "/var/folders/x0/9kxl__ld5lg60zg21w2jnc2c0000gn/T/ipykernel_48346/3714470853.py:57: FutureWarning: Pass y=[0.04225293 0.08937345 0.10024503 ... 0.01166257 0.00394632 0.        ] as keyword args. From version 0.10 passing these as positional arguments will result in an error\n",
      "  rolloff = librosa.feature.spectral_rolloff(audio, sr=sr)\n"
     ]
    },
    {
     "name": "stdout",
     "output_type": "stream",
     "text": [
      "processing track  07qLDO1aLSW9eSFbzuPfbp 13 out of 100\n",
      "100% [............................................................................] 362861 / 362861"
     ]
    },
    {
     "name": "stderr",
     "output_type": "stream",
     "text": [
      "/Users/tejasbot/anaconda3/lib/python3.8/site-packages/librosa/util/decorators.py:88: UserWarning: PySoundFile failed. Trying audioread instead.\n",
      "  return f(*args, **kwargs)\n",
      "/var/folders/x0/9kxl__ld5lg60zg21w2jnc2c0000gn/T/ipykernel_48346/3714470853.py:56: FutureWarning: Pass y=[-0.0098181   0.00498558  0.01437736 ... -0.0228899   0.00081647\n",
      "  0.        ] as keyword args. From version 0.10 passing these as positional arguments will result in an error\n",
      "  spectral_centroids = librosa.feature.spectral_centroid(audio, sr=sr)\n",
      "/var/folders/x0/9kxl__ld5lg60zg21w2jnc2c0000gn/T/ipykernel_48346/3714470853.py:57: FutureWarning: Pass y=[-0.0098181   0.00498558  0.01437736 ... -0.0228899   0.00081647\n",
      "  0.        ] as keyword args. From version 0.10 passing these as positional arguments will result in an error\n",
      "  rolloff = librosa.feature.spectral_rolloff(audio, sr=sr)\n"
     ]
    },
    {
     "name": "stdout",
     "output_type": "stream",
     "text": [
      "processing track  6l5gQLO52O2qh2oHoRpGNP 14 out of 100\n",
      "100% [............................................................................] 362861 / 362861"
     ]
    },
    {
     "name": "stderr",
     "output_type": "stream",
     "text": [
      "/Users/tejasbot/anaconda3/lib/python3.8/site-packages/librosa/util/decorators.py:88: UserWarning: PySoundFile failed. Trying audioread instead.\n",
      "  return f(*args, **kwargs)\n",
      "/var/folders/x0/9kxl__ld5lg60zg21w2jnc2c0000gn/T/ipykernel_48346/3714470853.py:56: FutureWarning: Pass y=[0.25282246 0.4869517  0.55490124 ... 0.03275721 0.03045525 0.02246246] as keyword args. From version 0.10 passing these as positional arguments will result in an error\n",
      "  spectral_centroids = librosa.feature.spectral_centroid(audio, sr=sr)\n",
      "/var/folders/x0/9kxl__ld5lg60zg21w2jnc2c0000gn/T/ipykernel_48346/3714470853.py:57: FutureWarning: Pass y=[0.25282246 0.4869517  0.55490124 ... 0.03275721 0.03045525 0.02246246] as keyword args. From version 0.10 passing these as positional arguments will result in an error\n",
      "  rolloff = librosa.feature.spectral_rolloff(audio, sr=sr)\n"
     ]
    },
    {
     "name": "stdout",
     "output_type": "stream",
     "text": [
      "processing track  1of6z31FFqkBzRDSE9i1La 15 out of 100\n",
      "100% [............................................................................] 362861 / 362861"
     ]
    },
    {
     "name": "stderr",
     "output_type": "stream",
     "text": [
      "/Users/tejasbot/anaconda3/lib/python3.8/site-packages/librosa/util/decorators.py:88: UserWarning: PySoundFile failed. Trying audioread instead.\n",
      "  return f(*args, **kwargs)\n",
      "/var/folders/x0/9kxl__ld5lg60zg21w2jnc2c0000gn/T/ipykernel_48346/3714470853.py:56: FutureWarning: Pass y=[0.04254388 0.07915755 0.07365561 ... 0.0426197  0.03948338 0.02974021] as keyword args. From version 0.10 passing these as positional arguments will result in an error\n",
      "  spectral_centroids = librosa.feature.spectral_centroid(audio, sr=sr)\n",
      "/var/folders/x0/9kxl__ld5lg60zg21w2jnc2c0000gn/T/ipykernel_48346/3714470853.py:57: FutureWarning: Pass y=[0.04254388 0.07915755 0.07365561 ... 0.0426197  0.03948338 0.02974021] as keyword args. From version 0.10 passing these as positional arguments will result in an error\n",
      "  rolloff = librosa.feature.spectral_rolloff(audio, sr=sr)\n"
     ]
    },
    {
     "name": "stdout",
     "output_type": "stream",
     "text": [
      "processing track  3ynqRejSij0vwlyKJ26nMr 16 out of 100\n",
      "100% [............................................................................] 362861 / 362861"
     ]
    },
    {
     "name": "stderr",
     "output_type": "stream",
     "text": [
      "/Users/tejasbot/anaconda3/lib/python3.8/site-packages/librosa/util/decorators.py:88: UserWarning: PySoundFile failed. Trying audioread instead.\n",
      "  return f(*args, **kwargs)\n",
      "/var/folders/x0/9kxl__ld5lg60zg21w2jnc2c0000gn/T/ipykernel_48346/3714470853.py:56: FutureWarning: Pass y=[-0.00386162 -0.00644703 -0.00511503 ... -0.1616876  -0.12019631\n",
      " -0.11319256] as keyword args. From version 0.10 passing these as positional arguments will result in an error\n",
      "  spectral_centroids = librosa.feature.spectral_centroid(audio, sr=sr)\n",
      "/var/folders/x0/9kxl__ld5lg60zg21w2jnc2c0000gn/T/ipykernel_48346/3714470853.py:57: FutureWarning: Pass y=[-0.00386162 -0.00644703 -0.00511503 ... -0.1616876  -0.12019631\n",
      " -0.11319256] as keyword args. From version 0.10 passing these as positional arguments will result in an error\n",
      "  rolloff = librosa.feature.spectral_rolloff(audio, sr=sr)\n"
     ]
    },
    {
     "name": "stdout",
     "output_type": "stream",
     "text": [
      "processing track  6nPyNtrzxD449lC98QsBce 17 out of 100\n",
      "100% [............................................................................] 362861 / 362861"
     ]
    },
    {
     "name": "stderr",
     "output_type": "stream",
     "text": [
      "/Users/tejasbot/anaconda3/lib/python3.8/site-packages/librosa/util/decorators.py:88: UserWarning: PySoundFile failed. Trying audioread instead.\n",
      "  return f(*args, **kwargs)\n",
      "/var/folders/x0/9kxl__ld5lg60zg21w2jnc2c0000gn/T/ipykernel_48346/3714470853.py:56: FutureWarning: Pass y=[-0.06492576 -0.10368126 -0.07418521 ... -0.05325019 -0.0546574\n",
      " -0.05837198] as keyword args. From version 0.10 passing these as positional arguments will result in an error\n",
      "  spectral_centroids = librosa.feature.spectral_centroid(audio, sr=sr)\n",
      "/var/folders/x0/9kxl__ld5lg60zg21w2jnc2c0000gn/T/ipykernel_48346/3714470853.py:57: FutureWarning: Pass y=[-0.06492576 -0.10368126 -0.07418521 ... -0.05325019 -0.0546574\n",
      " -0.05837198] as keyword args. From version 0.10 passing these as positional arguments will result in an error\n",
      "  rolloff = librosa.feature.spectral_rolloff(audio, sr=sr)\n"
     ]
    },
    {
     "name": "stdout",
     "output_type": "stream",
     "text": [
      "processing track  7tUwh1qY6yDFXDRCy8D9CH 18 out of 100\n",
      "100% [............................................................................] 362861 / 362861"
     ]
    },
    {
     "name": "stderr",
     "output_type": "stream",
     "text": [
      "/Users/tejasbot/anaconda3/lib/python3.8/site-packages/librosa/util/decorators.py:88: UserWarning: PySoundFile failed. Trying audioread instead.\n",
      "  return f(*args, **kwargs)\n",
      "/var/folders/x0/9kxl__ld5lg60zg21w2jnc2c0000gn/T/ipykernel_48346/3714470853.py:56: FutureWarning: Pass y=[0.01814192 0.03824118 0.04770851 ... 0.02264526 0.01471295 0.        ] as keyword args. From version 0.10 passing these as positional arguments will result in an error\n",
      "  spectral_centroids = librosa.feature.spectral_centroid(audio, sr=sr)\n",
      "/var/folders/x0/9kxl__ld5lg60zg21w2jnc2c0000gn/T/ipykernel_48346/3714470853.py:57: FutureWarning: Pass y=[0.01814192 0.03824118 0.04770851 ... 0.02264526 0.01471295 0.        ] as keyword args. From version 0.10 passing these as positional arguments will result in an error\n",
      "  rolloff = librosa.feature.spectral_rolloff(audio, sr=sr)\n"
     ]
    },
    {
     "name": "stdout",
     "output_type": "stream",
     "text": [
      "processing track  6PrKZUXJPmBiobMN44yR8Y 19 out of 100\n",
      "100% [............................................................................] 362861 / 362861"
     ]
    },
    {
     "name": "stderr",
     "output_type": "stream",
     "text": [
      "/Users/tejasbot/anaconda3/lib/python3.8/site-packages/librosa/util/decorators.py:88: UserWarning: PySoundFile failed. Trying audioread instead.\n",
      "  return f(*args, **kwargs)\n",
      "/var/folders/x0/9kxl__ld5lg60zg21w2jnc2c0000gn/T/ipykernel_48346/3714470853.py:56: FutureWarning: Pass y=[-0.04894732 -0.04759124  0.03629196 ... -0.00052145  0.0338317\n",
      "  0.077256  ] as keyword args. From version 0.10 passing these as positional arguments will result in an error\n",
      "  spectral_centroids = librosa.feature.spectral_centroid(audio, sr=sr)\n",
      "/var/folders/x0/9kxl__ld5lg60zg21w2jnc2c0000gn/T/ipykernel_48346/3714470853.py:57: FutureWarning: Pass y=[-0.04894732 -0.04759124  0.03629196 ... -0.00052145  0.0338317\n",
      "  0.077256  ] as keyword args. From version 0.10 passing these as positional arguments will result in an error\n",
      "  rolloff = librosa.feature.spectral_rolloff(audio, sr=sr)\n"
     ]
    },
    {
     "name": "stdout",
     "output_type": "stream",
     "text": [
      "processing track  6tGtkJtXZytZhugipYJTCj 20 out of 100\n",
      "100% [............................................................................] 362861 / 362861"
     ]
    },
    {
     "name": "stderr",
     "output_type": "stream",
     "text": [
      "/Users/tejasbot/anaconda3/lib/python3.8/site-packages/librosa/util/decorators.py:88: UserWarning: PySoundFile failed. Trying audioread instead.\n",
      "  return f(*args, **kwargs)\n",
      "/var/folders/x0/9kxl__ld5lg60zg21w2jnc2c0000gn/T/ipykernel_48346/3714470853.py:56: FutureWarning: Pass y=[ 0.00438691  0.02325799  0.03266291 ... -0.1786109  -0.15253076\n",
      " -0.10691708] as keyword args. From version 0.10 passing these as positional arguments will result in an error\n",
      "  spectral_centroids = librosa.feature.spectral_centroid(audio, sr=sr)\n",
      "/var/folders/x0/9kxl__ld5lg60zg21w2jnc2c0000gn/T/ipykernel_48346/3714470853.py:57: FutureWarning: Pass y=[ 0.00438691  0.02325799  0.03266291 ... -0.1786109  -0.15253076\n",
      " -0.10691708] as keyword args. From version 0.10 passing these as positional arguments will result in an error\n",
      "  rolloff = librosa.feature.spectral_rolloff(audio, sr=sr)\n"
     ]
    },
    {
     "name": "stdout",
     "output_type": "stream",
     "text": [
      "processing track  6wjGdF8J2bMCH4yBwmWK1i 21 out of 100\n",
      "100% [............................................................................] 363885 / 363885"
     ]
    },
    {
     "name": "stderr",
     "output_type": "stream",
     "text": [
      "/Users/tejasbot/anaconda3/lib/python3.8/site-packages/librosa/util/decorators.py:88: UserWarning: PySoundFile failed. Trying audioread instead.\n",
      "  return f(*args, **kwargs)\n",
      "/var/folders/x0/9kxl__ld5lg60zg21w2jnc2c0000gn/T/ipykernel_48346/3714470853.py:56: FutureWarning: Pass y=[0.03173646 0.04652201 0.0160198  ... 0.13340616 0.18868892 0.        ] as keyword args. From version 0.10 passing these as positional arguments will result in an error\n",
      "  spectral_centroids = librosa.feature.spectral_centroid(audio, sr=sr)\n",
      "/var/folders/x0/9kxl__ld5lg60zg21w2jnc2c0000gn/T/ipykernel_48346/3714470853.py:57: FutureWarning: Pass y=[0.03173646 0.04652201 0.0160198  ... 0.13340616 0.18868892 0.        ] as keyword args. From version 0.10 passing these as positional arguments will result in an error\n",
      "  rolloff = librosa.feature.spectral_rolloff(audio, sr=sr)\n"
     ]
    },
    {
     "name": "stdout",
     "output_type": "stream",
     "text": [
      "processing track  14orHIVAJN6F8QR9OuQKUS 22 out of 100\n",
      "100% [............................................................................] 362861 / 362861"
     ]
    },
    {
     "name": "stderr",
     "output_type": "stream",
     "text": [
      "/Users/tejasbot/anaconda3/lib/python3.8/site-packages/librosa/util/decorators.py:88: UserWarning: PySoundFile failed. Trying audioread instead.\n",
      "  return f(*args, **kwargs)\n",
      "/var/folders/x0/9kxl__ld5lg60zg21w2jnc2c0000gn/T/ipykernel_48346/3714470853.py:56: FutureWarning: Pass y=[ 0.03105112  0.0370175   0.02394905 ... -0.02881101 -0.0272786\n",
      "  0.        ] as keyword args. From version 0.10 passing these as positional arguments will result in an error\n",
      "  spectral_centroids = librosa.feature.spectral_centroid(audio, sr=sr)\n",
      "/var/folders/x0/9kxl__ld5lg60zg21w2jnc2c0000gn/T/ipykernel_48346/3714470853.py:57: FutureWarning: Pass y=[ 0.03105112  0.0370175   0.02394905 ... -0.02881101 -0.0272786\n",
      "  0.        ] as keyword args. From version 0.10 passing these as positional arguments will result in an error\n",
      "  rolloff = librosa.feature.spectral_rolloff(audio, sr=sr)\n"
     ]
    },
    {
     "name": "stdout",
     "output_type": "stream",
     "text": [
      "processing track  0Q8udHpBmrfzgFTTQld9GG 23 out of 100\n",
      "100% [............................................................................] 362861 / 362861"
     ]
    },
    {
     "name": "stderr",
     "output_type": "stream",
     "text": [
      "/Users/tejasbot/anaconda3/lib/python3.8/site-packages/librosa/util/decorators.py:88: UserWarning: PySoundFile failed. Trying audioread instead.\n",
      "  return f(*args, **kwargs)\n",
      "/var/folders/x0/9kxl__ld5lg60zg21w2jnc2c0000gn/T/ipykernel_48346/3714470853.py:56: FutureWarning: Pass y=[ 0.04344257  0.06642491  0.03109781 ... -0.00233879 -0.00123339\n",
      " -0.00146569] as keyword args. From version 0.10 passing these as positional arguments will result in an error\n",
      "  spectral_centroids = librosa.feature.spectral_centroid(audio, sr=sr)\n",
      "/var/folders/x0/9kxl__ld5lg60zg21w2jnc2c0000gn/T/ipykernel_48346/3714470853.py:57: FutureWarning: Pass y=[ 0.04344257  0.06642491  0.03109781 ... -0.00233879 -0.00123339\n",
      " -0.00146569] as keyword args. From version 0.10 passing these as positional arguments will result in an error\n",
      "  rolloff = librosa.feature.spectral_rolloff(audio, sr=sr)\n"
     ]
    },
    {
     "name": "stdout",
     "output_type": "stream",
     "text": [
      "processing track  4rl0Zp21AhOflFl6ttv6Ou 24 out of 100\n",
      "100% [............................................................................] 362861 / 362861"
     ]
    },
    {
     "name": "stderr",
     "output_type": "stream",
     "text": [
      "/Users/tejasbot/anaconda3/lib/python3.8/site-packages/librosa/util/decorators.py:88: UserWarning: PySoundFile failed. Trying audioread instead.\n",
      "  return f(*args, **kwargs)\n",
      "/var/folders/x0/9kxl__ld5lg60zg21w2jnc2c0000gn/T/ipykernel_48346/3714470853.py:56: FutureWarning: Pass y=[-0.02635042 -0.04748361 -0.05127337 ... -0.15478103 -0.16600965\n",
      "  0.        ] as keyword args. From version 0.10 passing these as positional arguments will result in an error\n",
      "  spectral_centroids = librosa.feature.spectral_centroid(audio, sr=sr)\n",
      "/var/folders/x0/9kxl__ld5lg60zg21w2jnc2c0000gn/T/ipykernel_48346/3714470853.py:57: FutureWarning: Pass y=[-0.02635042 -0.04748361 -0.05127337 ... -0.15478103 -0.16600965\n",
      "  0.        ] as keyword args. From version 0.10 passing these as positional arguments will result in an error\n",
      "  rolloff = librosa.feature.spectral_rolloff(audio, sr=sr)\n"
     ]
    },
    {
     "name": "stdout",
     "output_type": "stream",
     "text": [
      "processing track  5A99IlC4470e4X4OvUJwaF 25 out of 100\n",
      "100% [............................................................................] 362861 / 362861"
     ]
    },
    {
     "name": "stderr",
     "output_type": "stream",
     "text": [
      "/Users/tejasbot/anaconda3/lib/python3.8/site-packages/librosa/util/decorators.py:88: UserWarning: PySoundFile failed. Trying audioread instead.\n",
      "  return f(*args, **kwargs)\n",
      "/var/folders/x0/9kxl__ld5lg60zg21w2jnc2c0000gn/T/ipykernel_48346/3714470853.py:56: FutureWarning: Pass y=[ 0.02153602  0.02625142  0.00747708 ... -0.02120561 -0.01532009\n",
      " -0.01125814] as keyword args. From version 0.10 passing these as positional arguments will result in an error\n",
      "  spectral_centroids = librosa.feature.spectral_centroid(audio, sr=sr)\n",
      "/var/folders/x0/9kxl__ld5lg60zg21w2jnc2c0000gn/T/ipykernel_48346/3714470853.py:57: FutureWarning: Pass y=[ 0.02153602  0.02625142  0.00747708 ... -0.02120561 -0.01532009\n",
      " -0.01125814] as keyword args. From version 0.10 passing these as positional arguments will result in an error\n",
      "  rolloff = librosa.feature.spectral_rolloff(audio, sr=sr)\n"
     ]
    },
    {
     "name": "stdout",
     "output_type": "stream",
     "text": [
      "processing track  4trFGwjCPmZxCgoJgxaFZX 26 out of 100\n",
      "100% [............................................................................] 362861 / 362861"
     ]
    },
    {
     "name": "stderr",
     "output_type": "stream",
     "text": [
      "/Users/tejasbot/anaconda3/lib/python3.8/site-packages/librosa/util/decorators.py:88: UserWarning: PySoundFile failed. Trying audioread instead.\n",
      "  return f(*args, **kwargs)\n",
      "/var/folders/x0/9kxl__ld5lg60zg21w2jnc2c0000gn/T/ipykernel_48346/3714470853.py:56: FutureWarning: Pass y=[-0.05286258 -0.08809473 -0.07883769 ...  0.01398076  0.01352483\n",
      "  0.        ] as keyword args. From version 0.10 passing these as positional arguments will result in an error\n",
      "  spectral_centroids = librosa.feature.spectral_centroid(audio, sr=sr)\n",
      "/var/folders/x0/9kxl__ld5lg60zg21w2jnc2c0000gn/T/ipykernel_48346/3714470853.py:57: FutureWarning: Pass y=[-0.05286258 -0.08809473 -0.07883769 ...  0.01398076  0.01352483\n",
      "  0.        ] as keyword args. From version 0.10 passing these as positional arguments will result in an error\n",
      "  rolloff = librosa.feature.spectral_rolloff(audio, sr=sr)\n"
     ]
    },
    {
     "name": "stdout",
     "output_type": "stream",
     "text": [
      "processing track  7mSr5J5gNkZtZrv7mKhTvz 27 out of 100\n",
      "100% [............................................................................] 362861 / 362861"
     ]
    },
    {
     "name": "stderr",
     "output_type": "stream",
     "text": [
      "/Users/tejasbot/anaconda3/lib/python3.8/site-packages/librosa/util/decorators.py:88: UserWarning: PySoundFile failed. Trying audioread instead.\n",
      "  return f(*args, **kwargs)\n",
      "/var/folders/x0/9kxl__ld5lg60zg21w2jnc2c0000gn/T/ipykernel_48346/3714470853.py:56: FutureWarning: Pass y=[0.00044953 0.00800029 0.00847134 ... 0.10912411 0.08824696 0.08448488] as keyword args. From version 0.10 passing these as positional arguments will result in an error\n",
      "  spectral_centroids = librosa.feature.spectral_centroid(audio, sr=sr)\n",
      "/var/folders/x0/9kxl__ld5lg60zg21w2jnc2c0000gn/T/ipykernel_48346/3714470853.py:57: FutureWarning: Pass y=[0.00044953 0.00800029 0.00847134 ... 0.10912411 0.08824696 0.08448488] as keyword args. From version 0.10 passing these as positional arguments will result in an error\n",
      "  rolloff = librosa.feature.spectral_rolloff(audio, sr=sr)\n"
     ]
    },
    {
     "name": "stdout",
     "output_type": "stream",
     "text": [
      "processing track  05AHcu91xUExe03IzpOO9M 28 out of 100\n",
      "100% [............................................................................] 362861 / 362861"
     ]
    },
    {
     "name": "stderr",
     "output_type": "stream",
     "text": [
      "/Users/tejasbot/anaconda3/lib/python3.8/site-packages/librosa/util/decorators.py:88: UserWarning: PySoundFile failed. Trying audioread instead.\n",
      "  return f(*args, **kwargs)\n",
      "/var/folders/x0/9kxl__ld5lg60zg21w2jnc2c0000gn/T/ipykernel_48346/3714470853.py:56: FutureWarning: Pass y=[-0.05798667 -0.09529357 -0.06678993 ...  0.01218288  0.01813914\n",
      "  0.02598237] as keyword args. From version 0.10 passing these as positional arguments will result in an error\n",
      "  spectral_centroids = librosa.feature.spectral_centroid(audio, sr=sr)\n",
      "/var/folders/x0/9kxl__ld5lg60zg21w2jnc2c0000gn/T/ipykernel_48346/3714470853.py:57: FutureWarning: Pass y=[-0.05798667 -0.09529357 -0.06678993 ...  0.01218288  0.01813914\n",
      "  0.02598237] as keyword args. From version 0.10 passing these as positional arguments will result in an error\n",
      "  rolloff = librosa.feature.spectral_rolloff(audio, sr=sr)\n"
     ]
    },
    {
     "name": "stdout",
     "output_type": "stream",
     "text": [
      "processing track  7hLoPUlg9dcWIhmwWN8t8h 29 out of 100\n",
      "100% [............................................................................] 362861 / 362861"
     ]
    },
    {
     "name": "stderr",
     "output_type": "stream",
     "text": [
      "/Users/tejasbot/anaconda3/lib/python3.8/site-packages/librosa/util/decorators.py:88: UserWarning: PySoundFile failed. Trying audioread instead.\n",
      "  return f(*args, **kwargs)\n",
      "/var/folders/x0/9kxl__ld5lg60zg21w2jnc2c0000gn/T/ipykernel_48346/3714470853.py:56: FutureWarning: Pass y=[-0.09093911 -0.15408234 -0.13139446 ...  0.00933433  0.02023049\n",
      "  0.03447589] as keyword args. From version 0.10 passing these as positional arguments will result in an error\n",
      "  spectral_centroids = librosa.feature.spectral_centroid(audio, sr=sr)\n",
      "/var/folders/x0/9kxl__ld5lg60zg21w2jnc2c0000gn/T/ipykernel_48346/3714470853.py:57: FutureWarning: Pass y=[-0.09093911 -0.15408234 -0.13139446 ...  0.00933433  0.02023049\n",
      "  0.03447589] as keyword args. From version 0.10 passing these as positional arguments will result in an error\n",
      "  rolloff = librosa.feature.spectral_rolloff(audio, sr=sr)\n"
     ]
    },
    {
     "name": "stdout",
     "output_type": "stream",
     "text": [
      "processing track  4nK078FMP0vFdgL0s6BT7G 30 out of 100\n",
      "100% [............................................................................] 362861 / 362861"
     ]
    },
    {
     "name": "stderr",
     "output_type": "stream",
     "text": [
      "/Users/tejasbot/anaconda3/lib/python3.8/site-packages/librosa/util/decorators.py:88: UserWarning: PySoundFile failed. Trying audioread instead.\n",
      "  return f(*args, **kwargs)\n",
      "/var/folders/x0/9kxl__ld5lg60zg21w2jnc2c0000gn/T/ipykernel_48346/3714470853.py:56: FutureWarning: Pass y=[-0.01340387 -0.02704984 -0.0320758  ... -0.05127562 -0.0566951\n",
      "  0.        ] as keyword args. From version 0.10 passing these as positional arguments will result in an error\n",
      "  spectral_centroids = librosa.feature.spectral_centroid(audio, sr=sr)\n",
      "/var/folders/x0/9kxl__ld5lg60zg21w2jnc2c0000gn/T/ipykernel_48346/3714470853.py:57: FutureWarning: Pass y=[-0.01340387 -0.02704984 -0.0320758  ... -0.05127562 -0.0566951\n",
      "  0.        ] as keyword args. From version 0.10 passing these as positional arguments will result in an error\n",
      "  rolloff = librosa.feature.spectral_rolloff(audio, sr=sr)\n"
     ]
    },
    {
     "name": "stdout",
     "output_type": "stream",
     "text": [
      "processing track  5zNFFrj2TvLyfbAUBLvEgj 31 out of 100\n",
      "100% [............................................................................] 362861 / 362861"
     ]
    },
    {
     "name": "stderr",
     "output_type": "stream",
     "text": [
      "/Users/tejasbot/anaconda3/lib/python3.8/site-packages/librosa/util/decorators.py:88: UserWarning: PySoundFile failed. Trying audioread instead.\n",
      "  return f(*args, **kwargs)\n",
      "/var/folders/x0/9kxl__ld5lg60zg21w2jnc2c0000gn/T/ipykernel_48346/3714470853.py:56: FutureWarning: Pass y=[-0.00531628 -0.00864719 -0.00748169 ... -0.05355972 -0.05453296\n",
      " -0.05636973] as keyword args. From version 0.10 passing these as positional arguments will result in an error\n",
      "  spectral_centroids = librosa.feature.spectral_centroid(audio, sr=sr)\n",
      "/var/folders/x0/9kxl__ld5lg60zg21w2jnc2c0000gn/T/ipykernel_48346/3714470853.py:57: FutureWarning: Pass y=[-0.00531628 -0.00864719 -0.00748169 ... -0.05355972 -0.05453296\n",
      " -0.05636973] as keyword args. From version 0.10 passing these as positional arguments will result in an error\n",
      "  rolloff = librosa.feature.spectral_rolloff(audio, sr=sr)\n"
     ]
    },
    {
     "name": "stdout",
     "output_type": "stream",
     "text": [
      "processing track  7k6O37P7MXSRWRRbdb2v1o 32 out of 100\n",
      "100% [............................................................................] 362861 / 362861"
     ]
    },
    {
     "name": "stderr",
     "output_type": "stream",
     "text": [
      "/Users/tejasbot/anaconda3/lib/python3.8/site-packages/librosa/util/decorators.py:88: UserWarning: PySoundFile failed. Trying audioread instead.\n",
      "  return f(*args, **kwargs)\n",
      "/var/folders/x0/9kxl__ld5lg60zg21w2jnc2c0000gn/T/ipykernel_48346/3714470853.py:56: FutureWarning: Pass y=[0.02988725 0.04539654 0.03334829 ... 0.03515028 0.03366877 0.0364663 ] as keyword args. From version 0.10 passing these as positional arguments will result in an error\n",
      "  spectral_centroids = librosa.feature.spectral_centroid(audio, sr=sr)\n",
      "/var/folders/x0/9kxl__ld5lg60zg21w2jnc2c0000gn/T/ipykernel_48346/3714470853.py:57: FutureWarning: Pass y=[0.02988725 0.04539654 0.03334829 ... 0.03515028 0.03366877 0.0364663 ] as keyword args. From version 0.10 passing these as positional arguments will result in an error\n",
      "  rolloff = librosa.feature.spectral_rolloff(audio, sr=sr)\n"
     ]
    },
    {
     "name": "stdout",
     "output_type": "stream",
     "text": [
      "processing track  4RW7EZi7SHSLRwvn1Q8Mqj 33 out of 100\n",
      "100% [............................................................................] 363885 / 363885"
     ]
    },
    {
     "name": "stderr",
     "output_type": "stream",
     "text": [
      "/Users/tejasbot/anaconda3/lib/python3.8/site-packages/librosa/util/decorators.py:88: UserWarning: PySoundFile failed. Trying audioread instead.\n",
      "  return f(*args, **kwargs)\n",
      "/var/folders/x0/9kxl__ld5lg60zg21w2jnc2c0000gn/T/ipykernel_48346/3714470853.py:56: FutureWarning: Pass y=[ 0.03983417  0.06243511  0.01908198 ... -0.1113177  -0.12130059\n",
      " -0.12952738] as keyword args. From version 0.10 passing these as positional arguments will result in an error\n",
      "  spectral_centroids = librosa.feature.spectral_centroid(audio, sr=sr)\n",
      "/var/folders/x0/9kxl__ld5lg60zg21w2jnc2c0000gn/T/ipykernel_48346/3714470853.py:57: FutureWarning: Pass y=[ 0.03983417  0.06243511  0.01908198 ... -0.1113177  -0.12130059\n",
      " -0.12952738] as keyword args. From version 0.10 passing these as positional arguments will result in an error\n",
      "  rolloff = librosa.feature.spectral_rolloff(audio, sr=sr)\n"
     ]
    },
    {
     "name": "stdout",
     "output_type": "stream",
     "text": [
      "processing track  16FSqhikE6jV5jHUP5Dlth 34 out of 100\n",
      "100% [............................................................................] 362861 / 362861"
     ]
    },
    {
     "name": "stderr",
     "output_type": "stream",
     "text": [
      "/Users/tejasbot/anaconda3/lib/python3.8/site-packages/librosa/util/decorators.py:88: UserWarning: PySoundFile failed. Trying audioread instead.\n",
      "  return f(*args, **kwargs)\n",
      "/var/folders/x0/9kxl__ld5lg60zg21w2jnc2c0000gn/T/ipykernel_48346/3714470853.py:56: FutureWarning: Pass y=[0.00185423 0.00301191 0.00672783 ... 0.01186806 0.01803303 0.03558739] as keyword args. From version 0.10 passing these as positional arguments will result in an error\n",
      "  spectral_centroids = librosa.feature.spectral_centroid(audio, sr=sr)\n",
      "/var/folders/x0/9kxl__ld5lg60zg21w2jnc2c0000gn/T/ipykernel_48346/3714470853.py:57: FutureWarning: Pass y=[0.00185423 0.00301191 0.00672783 ... 0.01186806 0.01803303 0.03558739] as keyword args. From version 0.10 passing these as positional arguments will result in an error\n",
      "  rolloff = librosa.feature.spectral_rolloff(audio, sr=sr)\n"
     ]
    },
    {
     "name": "stdout",
     "output_type": "stream",
     "text": [
      "processing track  53ann6bENp7BF8uklrzQAp 35 out of 100\n",
      "100% [............................................................................] 362861 / 362861"
     ]
    },
    {
     "name": "stderr",
     "output_type": "stream",
     "text": [
      "/Users/tejasbot/anaconda3/lib/python3.8/site-packages/librosa/util/decorators.py:88: UserWarning: PySoundFile failed. Trying audioread instead.\n",
      "  return f(*args, **kwargs)\n",
      "/var/folders/x0/9kxl__ld5lg60zg21w2jnc2c0000gn/T/ipykernel_48346/3714470853.py:56: FutureWarning: Pass y=[-0.16608922 -0.24377908 -0.19367658 ... -0.20841393 -0.21657611\n",
      " -0.24415806] as keyword args. From version 0.10 passing these as positional arguments will result in an error\n",
      "  spectral_centroids = librosa.feature.spectral_centroid(audio, sr=sr)\n",
      "/var/folders/x0/9kxl__ld5lg60zg21w2jnc2c0000gn/T/ipykernel_48346/3714470853.py:57: FutureWarning: Pass y=[-0.16608922 -0.24377908 -0.19367658 ... -0.20841393 -0.21657611\n",
      " -0.24415806] as keyword args. From version 0.10 passing these as positional arguments will result in an error\n",
      "  rolloff = librosa.feature.spectral_rolloff(audio, sr=sr)\n"
     ]
    },
    {
     "name": "stdout",
     "output_type": "stream",
     "text": [
      "processing track  2z0GdC9gGyUiqiZfp7PXAR 36 out of 100\n",
      "100% [............................................................................] 361837 / 361837"
     ]
    },
    {
     "name": "stderr",
     "output_type": "stream",
     "text": [
      "/Users/tejasbot/anaconda3/lib/python3.8/site-packages/librosa/util/decorators.py:88: UserWarning: PySoundFile failed. Trying audioread instead.\n",
      "  return f(*args, **kwargs)\n",
      "/var/folders/x0/9kxl__ld5lg60zg21w2jnc2c0000gn/T/ipykernel_48346/3714470853.py:56: FutureWarning: Pass y=[ 0.03940891  0.06611899  0.06057341 ... -0.01403284 -0.00928193\n",
      " -0.0039396 ] as keyword args. From version 0.10 passing these as positional arguments will result in an error\n",
      "  spectral_centroids = librosa.feature.spectral_centroid(audio, sr=sr)\n",
      "/var/folders/x0/9kxl__ld5lg60zg21w2jnc2c0000gn/T/ipykernel_48346/3714470853.py:57: FutureWarning: Pass y=[ 0.03940891  0.06611899  0.06057341 ... -0.01403284 -0.00928193\n",
      " -0.0039396 ] as keyword args. From version 0.10 passing these as positional arguments will result in an error\n",
      "  rolloff = librosa.feature.spectral_rolloff(audio, sr=sr)\n"
     ]
    },
    {
     "name": "stdout",
     "output_type": "stream",
     "text": [
      "processing track  1daOWyjLfdaZlqHwqJ6huv 37 out of 100\n",
      "100% [............................................................................] 361837 / 361837"
     ]
    },
    {
     "name": "stderr",
     "output_type": "stream",
     "text": [
      "/Users/tejasbot/anaconda3/lib/python3.8/site-packages/librosa/util/decorators.py:88: UserWarning: PySoundFile failed. Trying audioread instead.\n",
      "  return f(*args, **kwargs)\n",
      "/var/folders/x0/9kxl__ld5lg60zg21w2jnc2c0000gn/T/ipykernel_48346/3714470853.py:56: FutureWarning: Pass y=[ 0.02345549  0.02589597 -0.00280282 ... -0.0754554  -0.07657436\n",
      " -0.08059812] as keyword args. From version 0.10 passing these as positional arguments will result in an error\n",
      "  spectral_centroids = librosa.feature.spectral_centroid(audio, sr=sr)\n",
      "/var/folders/x0/9kxl__ld5lg60zg21w2jnc2c0000gn/T/ipykernel_48346/3714470853.py:57: FutureWarning: Pass y=[ 0.02345549  0.02589597 -0.00280282 ... -0.0754554  -0.07657436\n",
      " -0.08059812] as keyword args. From version 0.10 passing these as positional arguments will result in an error\n",
      "  rolloff = librosa.feature.spectral_rolloff(audio, sr=sr)\n"
     ]
    },
    {
     "name": "stdout",
     "output_type": "stream",
     "text": [
      "processing track  1vfbLBtHk0jtbry1Pk6Hkt 38 out of 100\n",
      "100% [............................................................................] 361837 / 361837"
     ]
    },
    {
     "name": "stderr",
     "output_type": "stream",
     "text": [
      "/Users/tejasbot/anaconda3/lib/python3.8/site-packages/librosa/util/decorators.py:88: UserWarning: PySoundFile failed. Trying audioread instead.\n",
      "  return f(*args, **kwargs)\n",
      "/var/folders/x0/9kxl__ld5lg60zg21w2jnc2c0000gn/T/ipykernel_48346/3714470853.py:56: FutureWarning: Pass y=[-0.00152936 -0.00462387 -0.00641725 ...  0.03585724  0.03673947\n",
      "  0.03933626] as keyword args. From version 0.10 passing these as positional arguments will result in an error\n",
      "  spectral_centroids = librosa.feature.spectral_centroid(audio, sr=sr)\n",
      "/var/folders/x0/9kxl__ld5lg60zg21w2jnc2c0000gn/T/ipykernel_48346/3714470853.py:57: FutureWarning: Pass y=[-0.00152936 -0.00462387 -0.00641725 ...  0.03585724  0.03673947\n",
      "  0.03933626] as keyword args. From version 0.10 passing these as positional arguments will result in an error\n",
      "  rolloff = librosa.feature.spectral_rolloff(audio, sr=sr)\n"
     ]
    },
    {
     "name": "stdout",
     "output_type": "stream",
     "text": [
      "processing track  6M5oISQuYlFxJgYbvmBhBF 39 out of 100\n",
      "100% [............................................................................] 362861 / 362861"
     ]
    },
    {
     "name": "stderr",
     "output_type": "stream",
     "text": [
      "/Users/tejasbot/anaconda3/lib/python3.8/site-packages/librosa/util/decorators.py:88: UserWarning: PySoundFile failed. Trying audioread instead.\n",
      "  return f(*args, **kwargs)\n",
      "/var/folders/x0/9kxl__ld5lg60zg21w2jnc2c0000gn/T/ipykernel_48346/3714470853.py:56: FutureWarning: Pass y=[-0.02258229 -0.03056257 -0.01894729 ...  0.03598287  0.00743451\n",
      "  0.        ] as keyword args. From version 0.10 passing these as positional arguments will result in an error\n",
      "  spectral_centroids = librosa.feature.spectral_centroid(audio, sr=sr)\n",
      "/var/folders/x0/9kxl__ld5lg60zg21w2jnc2c0000gn/T/ipykernel_48346/3714470853.py:57: FutureWarning: Pass y=[-0.02258229 -0.03056257 -0.01894729 ...  0.03598287  0.00743451\n",
      "  0.        ] as keyword args. From version 0.10 passing these as positional arguments will result in an error\n",
      "  rolloff = librosa.feature.spectral_rolloff(audio, sr=sr)\n"
     ]
    },
    {
     "name": "stdout",
     "output_type": "stream",
     "text": [
      "processing track  6XrRmhRD9gFEl5QDcl7d56 40 out of 100\n",
      "100% [............................................................................] 362861 / 362861"
     ]
    },
    {
     "name": "stderr",
     "output_type": "stream",
     "text": [
      "/Users/tejasbot/anaconda3/lib/python3.8/site-packages/librosa/util/decorators.py:88: UserWarning: PySoundFile failed. Trying audioread instead.\n",
      "  return f(*args, **kwargs)\n",
      "/var/folders/x0/9kxl__ld5lg60zg21w2jnc2c0000gn/T/ipykernel_48346/3714470853.py:56: FutureWarning: Pass y=[0.0048328  0.0069118  0.00230934 ... 0.00144191 0.00257384 0.0045908 ] as keyword args. From version 0.10 passing these as positional arguments will result in an error\n",
      "  spectral_centroids = librosa.feature.spectral_centroid(audio, sr=sr)\n",
      "/var/folders/x0/9kxl__ld5lg60zg21w2jnc2c0000gn/T/ipykernel_48346/3714470853.py:57: FutureWarning: Pass y=[0.0048328  0.0069118  0.00230934 ... 0.00144191 0.00257384 0.0045908 ] as keyword args. From version 0.10 passing these as positional arguments will result in an error\n",
      "  rolloff = librosa.feature.spectral_rolloff(audio, sr=sr)\n"
     ]
    },
    {
     "name": "stdout",
     "output_type": "stream",
     "text": [
      "processing track  6PUBzTDK8uOb1rOtNZXYeG 41 out of 100\n",
      "100% [............................................................................] 363885 / 363885"
     ]
    },
    {
     "name": "stderr",
     "output_type": "stream",
     "text": [
      "/Users/tejasbot/anaconda3/lib/python3.8/site-packages/librosa/util/decorators.py:88: UserWarning: PySoundFile failed. Trying audioread instead.\n",
      "  return f(*args, **kwargs)\n",
      "/var/folders/x0/9kxl__ld5lg60zg21w2jnc2c0000gn/T/ipykernel_48346/3714470853.py:56: FutureWarning: Pass y=[-0.00446884  0.03388099  0.1004057  ... -0.00365577  0.02824174\n",
      "  0.        ] as keyword args. From version 0.10 passing these as positional arguments will result in an error\n",
      "  spectral_centroids = librosa.feature.spectral_centroid(audio, sr=sr)\n",
      "/var/folders/x0/9kxl__ld5lg60zg21w2jnc2c0000gn/T/ipykernel_48346/3714470853.py:57: FutureWarning: Pass y=[-0.00446884  0.03388099  0.1004057  ... -0.00365577  0.02824174\n",
      "  0.        ] as keyword args. From version 0.10 passing these as positional arguments will result in an error\n",
      "  rolloff = librosa.feature.spectral_rolloff(audio, sr=sr)\n"
     ]
    },
    {
     "name": "stdout",
     "output_type": "stream",
     "text": [
      "processing track  6D3hAfu68xalGAUKJRuroW 42 out of 100\n",
      "100% [............................................................................] 362861 / 362861"
     ]
    },
    {
     "name": "stderr",
     "output_type": "stream",
     "text": [
      "/Users/tejasbot/anaconda3/lib/python3.8/site-packages/librosa/util/decorators.py:88: UserWarning: PySoundFile failed. Trying audioread instead.\n",
      "  return f(*args, **kwargs)\n",
      "/var/folders/x0/9kxl__ld5lg60zg21w2jnc2c0000gn/T/ipykernel_48346/3714470853.py:56: FutureWarning: Pass y=[-0.00779977 -0.00390932  0.0099786  ... -0.05341537 -0.06681992\n",
      " -0.09192345] as keyword args. From version 0.10 passing these as positional arguments will result in an error\n",
      "  spectral_centroids = librosa.feature.spectral_centroid(audio, sr=sr)\n",
      "/var/folders/x0/9kxl__ld5lg60zg21w2jnc2c0000gn/T/ipykernel_48346/3714470853.py:57: FutureWarning: Pass y=[-0.00779977 -0.00390932  0.0099786  ... -0.05341537 -0.06681992\n",
      " -0.09192345] as keyword args. From version 0.10 passing these as positional arguments will result in an error\n",
      "  rolloff = librosa.feature.spectral_rolloff(audio, sr=sr)\n"
     ]
    },
    {
     "name": "stdout",
     "output_type": "stream",
     "text": [
      "processing track  6oxHGf1K1AMc7eNtTqssJx 43 out of 100\n",
      "100% [............................................................................] 362861 / 362861"
     ]
    },
    {
     "name": "stderr",
     "output_type": "stream",
     "text": [
      "/Users/tejasbot/anaconda3/lib/python3.8/site-packages/librosa/util/decorators.py:88: UserWarning: PySoundFile failed. Trying audioread instead.\n",
      "  return f(*args, **kwargs)\n",
      "/var/folders/x0/9kxl__ld5lg60zg21w2jnc2c0000gn/T/ipykernel_48346/3714470853.py:56: FutureWarning: Pass y=[ 0.01372873  0.0398493   0.04094484 ... -0.10532415 -0.13079323\n",
      "  0.        ] as keyword args. From version 0.10 passing these as positional arguments will result in an error\n",
      "  spectral_centroids = librosa.feature.spectral_centroid(audio, sr=sr)\n",
      "/var/folders/x0/9kxl__ld5lg60zg21w2jnc2c0000gn/T/ipykernel_48346/3714470853.py:57: FutureWarning: Pass y=[ 0.01372873  0.0398493   0.04094484 ... -0.10532415 -0.13079323\n",
      "  0.        ] as keyword args. From version 0.10 passing these as positional arguments will result in an error\n",
      "  rolloff = librosa.feature.spectral_rolloff(audio, sr=sr)\n"
     ]
    },
    {
     "name": "stdout",
     "output_type": "stream",
     "text": [
      "processing track  3xsZiFNAhVny4tPPR5Ujv8 44 out of 100\n",
      "100% [............................................................................] 362861 / 362861"
     ]
    },
    {
     "name": "stderr",
     "output_type": "stream",
     "text": [
      "/Users/tejasbot/anaconda3/lib/python3.8/site-packages/librosa/util/decorators.py:88: UserWarning: PySoundFile failed. Trying audioread instead.\n",
      "  return f(*args, **kwargs)\n",
      "/var/folders/x0/9kxl__ld5lg60zg21w2jnc2c0000gn/T/ipykernel_48346/3714470853.py:56: FutureWarning: Pass y=[0.06323849 0.11432277 0.10796653 ... 0.08847201 0.05225621 0.01142701] as keyword args. From version 0.10 passing these as positional arguments will result in an error\n",
      "  spectral_centroids = librosa.feature.spectral_centroid(audio, sr=sr)\n",
      "/var/folders/x0/9kxl__ld5lg60zg21w2jnc2c0000gn/T/ipykernel_48346/3714470853.py:57: FutureWarning: Pass y=[0.06323849 0.11432277 0.10796653 ... 0.08847201 0.05225621 0.01142701] as keyword args. From version 0.10 passing these as positional arguments will result in an error\n",
      "  rolloff = librosa.feature.spectral_rolloff(audio, sr=sr)\n"
     ]
    },
    {
     "name": "stdout",
     "output_type": "stream",
     "text": [
      "processing track  5QHQwWutocAB1brC44omm7 45 out of 100\n",
      "100% [............................................................................] 362861 / 362861"
     ]
    },
    {
     "name": "stderr",
     "output_type": "stream",
     "text": [
      "/Users/tejasbot/anaconda3/lib/python3.8/site-packages/librosa/util/decorators.py:88: UserWarning: PySoundFile failed. Trying audioread instead.\n",
      "  return f(*args, **kwargs)\n",
      "/var/folders/x0/9kxl__ld5lg60zg21w2jnc2c0000gn/T/ipykernel_48346/3714470853.py:56: FutureWarning: Pass y=[-0.07775813 -0.14643414 -0.1196864  ...  0.08168383  0.06025246\n",
      "  0.        ] as keyword args. From version 0.10 passing these as positional arguments will result in an error\n",
      "  spectral_centroids = librosa.feature.spectral_centroid(audio, sr=sr)\n",
      "/var/folders/x0/9kxl__ld5lg60zg21w2jnc2c0000gn/T/ipykernel_48346/3714470853.py:57: FutureWarning: Pass y=[-0.07775813 -0.14643414 -0.1196864  ...  0.08168383  0.06025246\n",
      "  0.        ] as keyword args. From version 0.10 passing these as positional arguments will result in an error\n",
      "  rolloff = librosa.feature.spectral_rolloff(audio, sr=sr)\n"
     ]
    },
    {
     "name": "stdout",
     "output_type": "stream",
     "text": [
      "processing track  5PK8HbGRNSzUVL80VooM9R 46 out of 100\n",
      "100% [............................................................................] 362861 / 362861"
     ]
    },
    {
     "name": "stderr",
     "output_type": "stream",
     "text": [
      "/Users/tejasbot/anaconda3/lib/python3.8/site-packages/librosa/util/decorators.py:88: UserWarning: PySoundFile failed. Trying audioread instead.\n",
      "  return f(*args, **kwargs)\n",
      "/var/folders/x0/9kxl__ld5lg60zg21w2jnc2c0000gn/T/ipykernel_48346/3714470853.py:56: FutureWarning: Pass y=[ 0.01278928  0.01921902  0.01257724 ... -0.0127101   0.00537776\n",
      "  0.        ] as keyword args. From version 0.10 passing these as positional arguments will result in an error\n",
      "  spectral_centroids = librosa.feature.spectral_centroid(audio, sr=sr)\n",
      "/var/folders/x0/9kxl__ld5lg60zg21w2jnc2c0000gn/T/ipykernel_48346/3714470853.py:57: FutureWarning: Pass y=[ 0.01278928  0.01921902  0.01257724 ... -0.0127101   0.00537776\n",
      "  0.        ] as keyword args. From version 0.10 passing these as positional arguments will result in an error\n",
      "  rolloff = librosa.feature.spectral_rolloff(audio, sr=sr)\n"
     ]
    },
    {
     "name": "stdout",
     "output_type": "stream",
     "text": [
      "processing track  0RTxXGoOILalMZT2vM80Ul 47 out of 100\n",
      "100% [............................................................................] 362861 / 362861"
     ]
    },
    {
     "name": "stderr",
     "output_type": "stream",
     "text": [
      "/Users/tejasbot/anaconda3/lib/python3.8/site-packages/librosa/util/decorators.py:88: UserWarning: PySoundFile failed. Trying audioread instead.\n",
      "  return f(*args, **kwargs)\n",
      "/var/folders/x0/9kxl__ld5lg60zg21w2jnc2c0000gn/T/ipykernel_48346/3714470853.py:56: FutureWarning: Pass y=[0.03445173 0.04615419 0.03814212 ... 0.03928538 0.03081763 0.03408078] as keyword args. From version 0.10 passing these as positional arguments will result in an error\n",
      "  spectral_centroids = librosa.feature.spectral_centroid(audio, sr=sr)\n",
      "/var/folders/x0/9kxl__ld5lg60zg21w2jnc2c0000gn/T/ipykernel_48346/3714470853.py:57: FutureWarning: Pass y=[0.03445173 0.04615419 0.03814212 ... 0.03928538 0.03081763 0.03408078] as keyword args. From version 0.10 passing these as positional arguments will result in an error\n",
      "  rolloff = librosa.feature.spectral_rolloff(audio, sr=sr)\n"
     ]
    },
    {
     "name": "stdout",
     "output_type": "stream",
     "text": [
      "processing track  40bY1ogKb5iacr3yI8gvWE 48 out of 100\n",
      "100% [............................................................................] 362861 / 362861"
     ]
    },
    {
     "name": "stderr",
     "output_type": "stream",
     "text": [
      "/Users/tejasbot/anaconda3/lib/python3.8/site-packages/librosa/util/decorators.py:88: UserWarning: PySoundFile failed. Trying audioread instead.\n",
      "  return f(*args, **kwargs)\n",
      "/var/folders/x0/9kxl__ld5lg60zg21w2jnc2c0000gn/T/ipykernel_48346/3714470853.py:56: FutureWarning: Pass y=[-0.02680629 -0.0602428  -0.07299427 ...  0.03251379  0.02549187\n",
      "  0.04923239] as keyword args. From version 0.10 passing these as positional arguments will result in an error\n",
      "  spectral_centroids = librosa.feature.spectral_centroid(audio, sr=sr)\n",
      "/var/folders/x0/9kxl__ld5lg60zg21w2jnc2c0000gn/T/ipykernel_48346/3714470853.py:57: FutureWarning: Pass y=[-0.02680629 -0.0602428  -0.07299427 ...  0.03251379  0.02549187\n",
      "  0.04923239] as keyword args. From version 0.10 passing these as positional arguments will result in an error\n",
      "  rolloff = librosa.feature.spectral_rolloff(audio, sr=sr)\n"
     ]
    },
    {
     "name": "stdout",
     "output_type": "stream",
     "text": [
      "processing track  2Yjv7MOdst5y6fFsq4cKOL 49 out of 100\n",
      "100% [............................................................................] 363885 / 363885"
     ]
    },
    {
     "name": "stderr",
     "output_type": "stream",
     "text": [
      "/Users/tejasbot/anaconda3/lib/python3.8/site-packages/librosa/util/decorators.py:88: UserWarning: PySoundFile failed. Trying audioread instead.\n",
      "  return f(*args, **kwargs)\n",
      "/var/folders/x0/9kxl__ld5lg60zg21w2jnc2c0000gn/T/ipykernel_48346/3714470853.py:56: FutureWarning: Pass y=[ 0.11669765  0.16663867  0.1488658  ... -0.17861405 -0.19289398\n",
      "  0.        ] as keyword args. From version 0.10 passing these as positional arguments will result in an error\n",
      "  spectral_centroids = librosa.feature.spectral_centroid(audio, sr=sr)\n",
      "/var/folders/x0/9kxl__ld5lg60zg21w2jnc2c0000gn/T/ipykernel_48346/3714470853.py:57: FutureWarning: Pass y=[ 0.11669765  0.16663867  0.1488658  ... -0.17861405 -0.19289398\n",
      "  0.        ] as keyword args. From version 0.10 passing these as positional arguments will result in an error\n",
      "  rolloff = librosa.feature.spectral_rolloff(audio, sr=sr)\n"
     ]
    },
    {
     "name": "stdout",
     "output_type": "stream",
     "text": [
      "processing track  3x6OMmjPcqkTk3q2Da6ixt 50 out of 100\n",
      "100% [............................................................................] 362861 / 362861"
     ]
    },
    {
     "name": "stderr",
     "output_type": "stream",
     "text": [
      "/Users/tejasbot/anaconda3/lib/python3.8/site-packages/librosa/util/decorators.py:88: UserWarning: PySoundFile failed. Trying audioread instead.\n",
      "  return f(*args, **kwargs)\n",
      "/var/folders/x0/9kxl__ld5lg60zg21w2jnc2c0000gn/T/ipykernel_48346/3714470853.py:56: FutureWarning: Pass y=[-0.00823046 -0.02237012 -0.03518762 ...  0.06203314  0.06945439\n",
      "  0.06488776] as keyword args. From version 0.10 passing these as positional arguments will result in an error\n",
      "  spectral_centroids = librosa.feature.spectral_centroid(audio, sr=sr)\n",
      "/var/folders/x0/9kxl__ld5lg60zg21w2jnc2c0000gn/T/ipykernel_48346/3714470853.py:57: FutureWarning: Pass y=[-0.00823046 -0.02237012 -0.03518762 ...  0.06203314  0.06945439\n",
      "  0.06488776] as keyword args. From version 0.10 passing these as positional arguments will result in an error\n",
      "  rolloff = librosa.feature.spectral_rolloff(audio, sr=sr)\n"
     ]
    },
    {
     "name": "stdout",
     "output_type": "stream",
     "text": [
      "processing track  2FsKjaAz59zfg3eSfx8tah 51 out of 100\n",
      "100% [............................................................................] 362861 / 362861"
     ]
    },
    {
     "name": "stderr",
     "output_type": "stream",
     "text": [
      "/Users/tejasbot/anaconda3/lib/python3.8/site-packages/librosa/util/decorators.py:88: UserWarning: PySoundFile failed. Trying audioread instead.\n",
      "  return f(*args, **kwargs)\n",
      "/var/folders/x0/9kxl__ld5lg60zg21w2jnc2c0000gn/T/ipykernel_48346/3714470853.py:56: FutureWarning: Pass y=[ 0.04314116  0.07116136  0.05692087 ... -0.01472229 -0.01442581\n",
      " -0.00684597] as keyword args. From version 0.10 passing these as positional arguments will result in an error\n",
      "  spectral_centroids = librosa.feature.spectral_centroid(audio, sr=sr)\n",
      "/var/folders/x0/9kxl__ld5lg60zg21w2jnc2c0000gn/T/ipykernel_48346/3714470853.py:57: FutureWarning: Pass y=[ 0.04314116  0.07116136  0.05692087 ... -0.01472229 -0.01442581\n",
      " -0.00684597] as keyword args. From version 0.10 passing these as positional arguments will result in an error\n",
      "  rolloff = librosa.feature.spectral_rolloff(audio, sr=sr)\n"
     ]
    },
    {
     "name": "stdout",
     "output_type": "stream",
     "text": [
      "processing track  5X9zItxq0F1rnsmcZzPQkT 52 out of 100\n",
      "100% [............................................................................] 362861 / 362861"
     ]
    },
    {
     "name": "stderr",
     "output_type": "stream",
     "text": [
      "/Users/tejasbot/anaconda3/lib/python3.8/site-packages/librosa/util/decorators.py:88: UserWarning: PySoundFile failed. Trying audioread instead.\n",
      "  return f(*args, **kwargs)\n",
      "/var/folders/x0/9kxl__ld5lg60zg21w2jnc2c0000gn/T/ipykernel_48346/3714470853.py:56: FutureWarning: Pass y=[-0.00170185 -0.00354097 -0.00465914 ...  0.02473396  0.02658466\n",
      "  0.03000036] as keyword args. From version 0.10 passing these as positional arguments will result in an error\n",
      "  spectral_centroids = librosa.feature.spectral_centroid(audio, sr=sr)\n",
      "/var/folders/x0/9kxl__ld5lg60zg21w2jnc2c0000gn/T/ipykernel_48346/3714470853.py:57: FutureWarning: Pass y=[-0.00170185 -0.00354097 -0.00465914 ...  0.02473396  0.02658466\n",
      "  0.03000036] as keyword args. From version 0.10 passing these as positional arguments will result in an error\n",
      "  rolloff = librosa.feature.spectral_rolloff(audio, sr=sr)\n"
     ]
    },
    {
     "name": "stdout",
     "output_type": "stream",
     "text": [
      "processing track  5fqw2Wa9TKBSFAcY22SVbt 53 out of 100\n",
      "100% [............................................................................] 362861 / 362861"
     ]
    },
    {
     "name": "stderr",
     "output_type": "stream",
     "text": [
      "/Users/tejasbot/anaconda3/lib/python3.8/site-packages/librosa/util/decorators.py:88: UserWarning: PySoundFile failed. Trying audioread instead.\n",
      "  return f(*args, **kwargs)\n",
      "/var/folders/x0/9kxl__ld5lg60zg21w2jnc2c0000gn/T/ipykernel_48346/3714470853.py:56: FutureWarning: Pass y=[ 0.00691864  0.005975   -0.00470192 ...  0.00320609  0.01193797\n",
      "  0.        ] as keyword args. From version 0.10 passing these as positional arguments will result in an error\n",
      "  spectral_centroids = librosa.feature.spectral_centroid(audio, sr=sr)\n",
      "/var/folders/x0/9kxl__ld5lg60zg21w2jnc2c0000gn/T/ipykernel_48346/3714470853.py:57: FutureWarning: Pass y=[ 0.00691864  0.005975   -0.00470192 ...  0.00320609  0.01193797\n",
      "  0.        ] as keyword args. From version 0.10 passing these as positional arguments will result in an error\n",
      "  rolloff = librosa.feature.spectral_rolloff(audio, sr=sr)\n"
     ]
    },
    {
     "name": "stdout",
     "output_type": "stream",
     "text": [
      "processing track  23kGXJBbWiBIzP4X5nc9OK 54 out of 100\n",
      "100% [............................................................................] 361837 / 361837"
     ]
    },
    {
     "name": "stderr",
     "output_type": "stream",
     "text": [
      "/Users/tejasbot/anaconda3/lib/python3.8/site-packages/librosa/util/decorators.py:88: UserWarning: PySoundFile failed. Trying audioread instead.\n",
      "  return f(*args, **kwargs)\n",
      "/var/folders/x0/9kxl__ld5lg60zg21w2jnc2c0000gn/T/ipykernel_48346/3714470853.py:56: FutureWarning: Pass y=[ 0.08010145  0.13544631  0.12622897 ... -0.04711148 -0.05570887\n",
      " -0.06642263] as keyword args. From version 0.10 passing these as positional arguments will result in an error\n",
      "  spectral_centroids = librosa.feature.spectral_centroid(audio, sr=sr)\n",
      "/var/folders/x0/9kxl__ld5lg60zg21w2jnc2c0000gn/T/ipykernel_48346/3714470853.py:57: FutureWarning: Pass y=[ 0.08010145  0.13544631  0.12622897 ... -0.04711148 -0.05570887\n",
      " -0.06642263] as keyword args. From version 0.10 passing these as positional arguments will result in an error\n",
      "  rolloff = librosa.feature.spectral_rolloff(audio, sr=sr)\n"
     ]
    },
    {
     "name": "stdout",
     "output_type": "stream",
     "text": [
      "processing track  6SqmBvadma2WtHayotPstW 55 out of 100\n",
      "100% [............................................................................] 362861 / 362861"
     ]
    },
    {
     "name": "stderr",
     "output_type": "stream",
     "text": [
      "/Users/tejasbot/anaconda3/lib/python3.8/site-packages/librosa/util/decorators.py:88: UserWarning: PySoundFile failed. Trying audioread instead.\n",
      "  return f(*args, **kwargs)\n",
      "/var/folders/x0/9kxl__ld5lg60zg21w2jnc2c0000gn/T/ipykernel_48346/3714470853.py:56: FutureWarning: Pass y=[-0.02956687 -0.06516586 -0.07012412 ... -0.0161353   0.00213466\n",
      "  0.        ] as keyword args. From version 0.10 passing these as positional arguments will result in an error\n",
      "  spectral_centroids = librosa.feature.spectral_centroid(audio, sr=sr)\n",
      "/var/folders/x0/9kxl__ld5lg60zg21w2jnc2c0000gn/T/ipykernel_48346/3714470853.py:57: FutureWarning: Pass y=[-0.02956687 -0.06516586 -0.07012412 ... -0.0161353   0.00213466\n",
      "  0.        ] as keyword args. From version 0.10 passing these as positional arguments will result in an error\n",
      "  rolloff = librosa.feature.spectral_rolloff(audio, sr=sr)\n"
     ]
    },
    {
     "name": "stdout",
     "output_type": "stream",
     "text": [
      "processing track  57R0alsNxKwC50KRFOE4R7 56 out of 100\n",
      "100% [............................................................................] 362861 / 362861"
     ]
    },
    {
     "name": "stderr",
     "output_type": "stream",
     "text": [
      "/Users/tejasbot/anaconda3/lib/python3.8/site-packages/librosa/util/decorators.py:88: UserWarning: PySoundFile failed. Trying audioread instead.\n",
      "  return f(*args, **kwargs)\n",
      "/var/folders/x0/9kxl__ld5lg60zg21w2jnc2c0000gn/T/ipykernel_48346/3714470853.py:56: FutureWarning: Pass y=[-0.04934088 -0.07882266 -0.07079517 ...  0.02402618  0.01986775\n",
      "  0.01479157] as keyword args. From version 0.10 passing these as positional arguments will result in an error\n",
      "  spectral_centroids = librosa.feature.spectral_centroid(audio, sr=sr)\n",
      "/var/folders/x0/9kxl__ld5lg60zg21w2jnc2c0000gn/T/ipykernel_48346/3714470853.py:57: FutureWarning: Pass y=[-0.04934088 -0.07882266 -0.07079517 ...  0.02402618  0.01986775\n",
      "  0.01479157] as keyword args. From version 0.10 passing these as positional arguments will result in an error\n",
      "  rolloff = librosa.feature.spectral_rolloff(audio, sr=sr)\n"
     ]
    },
    {
     "name": "stdout",
     "output_type": "stream",
     "text": [
      "processing track  6wv6pQWMU6vxmP2aECDg2E 57 out of 100\n",
      "100% [............................................................................] 362861 / 362861"
     ]
    },
    {
     "name": "stderr",
     "output_type": "stream",
     "text": [
      "/Users/tejasbot/anaconda3/lib/python3.8/site-packages/librosa/util/decorators.py:88: UserWarning: PySoundFile failed. Trying audioread instead.\n",
      "  return f(*args, **kwargs)\n",
      "/var/folders/x0/9kxl__ld5lg60zg21w2jnc2c0000gn/T/ipykernel_48346/3714470853.py:56: FutureWarning: Pass y=[0.00418147 0.00785879 0.00750192 ... 0.05824103 0.05766794 0.05922985] as keyword args. From version 0.10 passing these as positional arguments will result in an error\n",
      "  spectral_centroids = librosa.feature.spectral_centroid(audio, sr=sr)\n",
      "/var/folders/x0/9kxl__ld5lg60zg21w2jnc2c0000gn/T/ipykernel_48346/3714470853.py:57: FutureWarning: Pass y=[0.00418147 0.00785879 0.00750192 ... 0.05824103 0.05766794 0.05922985] as keyword args. From version 0.10 passing these as positional arguments will result in an error\n",
      "  rolloff = librosa.feature.spectral_rolloff(audio, sr=sr)\n"
     ]
    },
    {
     "name": "stdout",
     "output_type": "stream",
     "text": [
      "processing track  74xCCOC2I9UPJIIoVxd1nY 58 out of 100\n",
      "100% [............................................................................] 362861 / 362861"
     ]
    },
    {
     "name": "stderr",
     "output_type": "stream",
     "text": [
      "/Users/tejasbot/anaconda3/lib/python3.8/site-packages/librosa/util/decorators.py:88: UserWarning: PySoundFile failed. Trying audioread instead.\n",
      "  return f(*args, **kwargs)\n",
      "/var/folders/x0/9kxl__ld5lg60zg21w2jnc2c0000gn/T/ipykernel_48346/3714470853.py:56: FutureWarning: Pass y=[0.00049267 0.00516786 0.00139011 ... 0.0649921  0.07550766 0.        ] as keyword args. From version 0.10 passing these as positional arguments will result in an error\n",
      "  spectral_centroids = librosa.feature.spectral_centroid(audio, sr=sr)\n",
      "/var/folders/x0/9kxl__ld5lg60zg21w2jnc2c0000gn/T/ipykernel_48346/3714470853.py:57: FutureWarning: Pass y=[0.00049267 0.00516786 0.00139011 ... 0.0649921  0.07550766 0.        ] as keyword args. From version 0.10 passing these as positional arguments will result in an error\n",
      "  rolloff = librosa.feature.spectral_rolloff(audio, sr=sr)\n"
     ]
    },
    {
     "name": "stdout",
     "output_type": "stream",
     "text": [
      "processing track  6PbpskoxcTc8xBSf7Iqd5f 59 out of 100\n",
      "100% [............................................................................] 362861 / 362861"
     ]
    },
    {
     "name": "stderr",
     "output_type": "stream",
     "text": [
      "/Users/tejasbot/anaconda3/lib/python3.8/site-packages/librosa/util/decorators.py:88: UserWarning: PySoundFile failed. Trying audioread instead.\n",
      "  return f(*args, **kwargs)\n",
      "/var/folders/x0/9kxl__ld5lg60zg21w2jnc2c0000gn/T/ipykernel_48346/3714470853.py:56: FutureWarning: Pass y=[ 0.01656007  0.02511724  0.00305078 ... -0.00560135 -0.00455912\n",
      "  0.        ] as keyword args. From version 0.10 passing these as positional arguments will result in an error\n",
      "  spectral_centroids = librosa.feature.spectral_centroid(audio, sr=sr)\n",
      "/var/folders/x0/9kxl__ld5lg60zg21w2jnc2c0000gn/T/ipykernel_48346/3714470853.py:57: FutureWarning: Pass y=[ 0.01656007  0.02511724  0.00305078 ... -0.00560135 -0.00455912\n",
      "  0.        ] as keyword args. From version 0.10 passing these as positional arguments will result in an error\n",
      "  rolloff = librosa.feature.spectral_rolloff(audio, sr=sr)\n"
     ]
    },
    {
     "name": "stdout",
     "output_type": "stream",
     "text": [
      "processing track  7GfMa4sVDb5eDOpktiFfnj 60 out of 100\n",
      "100% [............................................................................] 362861 / 362861"
     ]
    },
    {
     "name": "stderr",
     "output_type": "stream",
     "text": [
      "/Users/tejasbot/anaconda3/lib/python3.8/site-packages/librosa/util/decorators.py:88: UserWarning: PySoundFile failed. Trying audioread instead.\n",
      "  return f(*args, **kwargs)\n",
      "/var/folders/x0/9kxl__ld5lg60zg21w2jnc2c0000gn/T/ipykernel_48346/3714470853.py:56: FutureWarning: Pass y=[ 0.02672605  0.05753703  0.06871433 ... -0.05098382 -0.05581868\n",
      " -0.05962284] as keyword args. From version 0.10 passing these as positional arguments will result in an error\n",
      "  spectral_centroids = librosa.feature.spectral_centroid(audio, sr=sr)\n",
      "/var/folders/x0/9kxl__ld5lg60zg21w2jnc2c0000gn/T/ipykernel_48346/3714470853.py:57: FutureWarning: Pass y=[ 0.02672605  0.05753703  0.06871433 ... -0.05098382 -0.05581868\n",
      " -0.05962284] as keyword args. From version 0.10 passing these as positional arguments will result in an error\n",
      "  rolloff = librosa.feature.spectral_rolloff(audio, sr=sr)\n"
     ]
    },
    {
     "name": "stdout",
     "output_type": "stream",
     "text": [
      "processing track  1iv7leCmficI7hJCwhvtFE 61 out of 100\n",
      "100% [............................................................................] 361837 / 361837"
     ]
    },
    {
     "name": "stderr",
     "output_type": "stream",
     "text": [
      "/Users/tejasbot/anaconda3/lib/python3.8/site-packages/librosa/util/decorators.py:88: UserWarning: PySoundFile failed. Trying audioread instead.\n",
      "  return f(*args, **kwargs)\n",
      "/var/folders/x0/9kxl__ld5lg60zg21w2jnc2c0000gn/T/ipykernel_48346/3714470853.py:56: FutureWarning: Pass y=[0.00036812 0.00066099 0.00068481 ... 0.02168493 0.01625523 0.01823804] as keyword args. From version 0.10 passing these as positional arguments will result in an error\n",
      "  spectral_centroids = librosa.feature.spectral_centroid(audio, sr=sr)\n",
      "/var/folders/x0/9kxl__ld5lg60zg21w2jnc2c0000gn/T/ipykernel_48346/3714470853.py:57: FutureWarning: Pass y=[0.00036812 0.00066099 0.00068481 ... 0.02168493 0.01625523 0.01823804] as keyword args. From version 0.10 passing these as positional arguments will result in an error\n",
      "  rolloff = librosa.feature.spectral_rolloff(audio, sr=sr)\n"
     ]
    },
    {
     "name": "stdout",
     "output_type": "stream",
     "text": [
      "processing track  58gq4X6RCEBf9P9Ef9F86p 62 out of 100\n",
      "100% [............................................................................] 362861 / 362861"
     ]
    },
    {
     "name": "stderr",
     "output_type": "stream",
     "text": [
      "/Users/tejasbot/anaconda3/lib/python3.8/site-packages/librosa/util/decorators.py:88: UserWarning: PySoundFile failed. Trying audioread instead.\n",
      "  return f(*args, **kwargs)\n",
      "/var/folders/x0/9kxl__ld5lg60zg21w2jnc2c0000gn/T/ipykernel_48346/3714470853.py:56: FutureWarning: Pass y=[0.00791271 0.01500628 0.01759711 ... 0.10449702 0.10293017 0.        ] as keyword args. From version 0.10 passing these as positional arguments will result in an error\n",
      "  spectral_centroids = librosa.feature.spectral_centroid(audio, sr=sr)\n",
      "/var/folders/x0/9kxl__ld5lg60zg21w2jnc2c0000gn/T/ipykernel_48346/3714470853.py:57: FutureWarning: Pass y=[0.00791271 0.01500628 0.01759711 ... 0.10449702 0.10293017 0.        ] as keyword args. From version 0.10 passing these as positional arguments will result in an error\n",
      "  rolloff = librosa.feature.spectral_rolloff(audio, sr=sr)\n"
     ]
    },
    {
     "name": "stdout",
     "output_type": "stream",
     "text": [
      "processing track  05iURKvut2OWEzPHQUhDT5 63 out of 100\n",
      "100% [............................................................................] 362861 / 362861"
     ]
    },
    {
     "name": "stderr",
     "output_type": "stream",
     "text": [
      "/Users/tejasbot/anaconda3/lib/python3.8/site-packages/librosa/util/decorators.py:88: UserWarning: PySoundFile failed. Trying audioread instead.\n",
      "  return f(*args, **kwargs)\n",
      "/var/folders/x0/9kxl__ld5lg60zg21w2jnc2c0000gn/T/ipykernel_48346/3714470853.py:56: FutureWarning: Pass y=[-0.00372745 -0.00812221 -0.00828594 ...  0.02234574  0.02701274\n",
      "  0.        ] as keyword args. From version 0.10 passing these as positional arguments will result in an error\n",
      "  spectral_centroids = librosa.feature.spectral_centroid(audio, sr=sr)\n",
      "/var/folders/x0/9kxl__ld5lg60zg21w2jnc2c0000gn/T/ipykernel_48346/3714470853.py:57: FutureWarning: Pass y=[-0.00372745 -0.00812221 -0.00828594 ...  0.02234574  0.02701274\n",
      "  0.        ] as keyword args. From version 0.10 passing these as positional arguments will result in an error\n",
      "  rolloff = librosa.feature.spectral_rolloff(audio, sr=sr)\n"
     ]
    },
    {
     "name": "stdout",
     "output_type": "stream",
     "text": [
      "processing track  2OZeNy9zRbzk6eQsO0Y0cq 64 out of 100\n",
      "100% [............................................................................] 362861 / 362861"
     ]
    },
    {
     "name": "stderr",
     "output_type": "stream",
     "text": [
      "/Users/tejasbot/anaconda3/lib/python3.8/site-packages/librosa/util/decorators.py:88: UserWarning: PySoundFile failed. Trying audioread instead.\n",
      "  return f(*args, **kwargs)\n",
      "/var/folders/x0/9kxl__ld5lg60zg21w2jnc2c0000gn/T/ipykernel_48346/3714470853.py:56: FutureWarning: Pass y=[0.03967328 0.07228584 0.06501381 ... 0.074504   0.07460823 0.07030275] as keyword args. From version 0.10 passing these as positional arguments will result in an error\n",
      "  spectral_centroids = librosa.feature.spectral_centroid(audio, sr=sr)\n",
      "/var/folders/x0/9kxl__ld5lg60zg21w2jnc2c0000gn/T/ipykernel_48346/3714470853.py:57: FutureWarning: Pass y=[0.03967328 0.07228584 0.06501381 ... 0.074504   0.07460823 0.07030275] as keyword args. From version 0.10 passing these as positional arguments will result in an error\n",
      "  rolloff = librosa.feature.spectral_rolloff(audio, sr=sr)\n"
     ]
    },
    {
     "name": "stdout",
     "output_type": "stream",
     "text": [
      "processing track  4aZWys7JSvmXOkKDGSmH7t 65 out of 100\n",
      "100% [............................................................................] 361837 / 361837"
     ]
    },
    {
     "name": "stderr",
     "output_type": "stream",
     "text": [
      "/Users/tejasbot/anaconda3/lib/python3.8/site-packages/librosa/util/decorators.py:88: UserWarning: PySoundFile failed. Trying audioread instead.\n",
      "  return f(*args, **kwargs)\n",
      "/var/folders/x0/9kxl__ld5lg60zg21w2jnc2c0000gn/T/ipykernel_48346/3714470853.py:56: FutureWarning: Pass y=[-0.00073762 -0.00271226 -0.00341767 ... -0.004747   -0.00590451\n",
      " -0.00591713] as keyword args. From version 0.10 passing these as positional arguments will result in an error\n",
      "  spectral_centroids = librosa.feature.spectral_centroid(audio, sr=sr)\n",
      "/var/folders/x0/9kxl__ld5lg60zg21w2jnc2c0000gn/T/ipykernel_48346/3714470853.py:57: FutureWarning: Pass y=[-0.00073762 -0.00271226 -0.00341767 ... -0.004747   -0.00590451\n",
      " -0.00591713] as keyword args. From version 0.10 passing these as positional arguments will result in an error\n",
      "  rolloff = librosa.feature.spectral_rolloff(audio, sr=sr)\n"
     ]
    },
    {
     "name": "stdout",
     "output_type": "stream",
     "text": [
      "processing track  7oUJCv29FnRtzcIoIqnW8c 66 out of 100\n",
      "100% [............................................................................] 363885 / 363885"
     ]
    },
    {
     "name": "stderr",
     "output_type": "stream",
     "text": [
      "/Users/tejasbot/anaconda3/lib/python3.8/site-packages/librosa/util/decorators.py:88: UserWarning: PySoundFile failed. Trying audioread instead.\n",
      "  return f(*args, **kwargs)\n",
      "/var/folders/x0/9kxl__ld5lg60zg21w2jnc2c0000gn/T/ipykernel_48346/3714470853.py:56: FutureWarning: Pass y=[-0.02777809 -0.04475303 -0.04125424 ...  0.02171809  0.00549149\n",
      " -0.00881692] as keyword args. From version 0.10 passing these as positional arguments will result in an error\n",
      "  spectral_centroids = librosa.feature.spectral_centroid(audio, sr=sr)\n",
      "/var/folders/x0/9kxl__ld5lg60zg21w2jnc2c0000gn/T/ipykernel_48346/3714470853.py:57: FutureWarning: Pass y=[-0.02777809 -0.04475303 -0.04125424 ...  0.02171809  0.00549149\n",
      " -0.00881692] as keyword args. From version 0.10 passing these as positional arguments will result in an error\n",
      "  rolloff = librosa.feature.spectral_rolloff(audio, sr=sr)\n"
     ]
    },
    {
     "name": "stdout",
     "output_type": "stream",
     "text": [
      "processing track  35H0Fk1SFBNMp8YAY9KIsn 67 out of 100\n",
      "100% [............................................................................] 362861 / 362861"
     ]
    },
    {
     "name": "stderr",
     "output_type": "stream",
     "text": [
      "/Users/tejasbot/anaconda3/lib/python3.8/site-packages/librosa/util/decorators.py:88: UserWarning: PySoundFile failed. Trying audioread instead.\n",
      "  return f(*args, **kwargs)\n",
      "/var/folders/x0/9kxl__ld5lg60zg21w2jnc2c0000gn/T/ipykernel_48346/3714470853.py:56: FutureWarning: Pass y=[-0.02083453 -0.04497837 -0.04927123 ... -0.01034514 -0.01753424\n",
      "  0.        ] as keyword args. From version 0.10 passing these as positional arguments will result in an error\n",
      "  spectral_centroids = librosa.feature.spectral_centroid(audio, sr=sr)\n",
      "/var/folders/x0/9kxl__ld5lg60zg21w2jnc2c0000gn/T/ipykernel_48346/3714470853.py:57: FutureWarning: Pass y=[-0.02083453 -0.04497837 -0.04927123 ... -0.01034514 -0.01753424\n",
      "  0.        ] as keyword args. From version 0.10 passing these as positional arguments will result in an error\n",
      "  rolloff = librosa.feature.spectral_rolloff(audio, sr=sr)\n"
     ]
    },
    {
     "name": "stdout",
     "output_type": "stream",
     "text": [
      "processing track  4zyY4J0D0RUQ79EmYHL5wU 68 out of 100\n",
      "100% [............................................................................] 362861 / 362861"
     ]
    },
    {
     "name": "stderr",
     "output_type": "stream",
     "text": [
      "/Users/tejasbot/anaconda3/lib/python3.8/site-packages/librosa/util/decorators.py:88: UserWarning: PySoundFile failed. Trying audioread instead.\n",
      "  return f(*args, **kwargs)\n",
      "/var/folders/x0/9kxl__ld5lg60zg21w2jnc2c0000gn/T/ipykernel_48346/3714470853.py:56: FutureWarning: Pass y=[-0.00013387  0.00225879  0.0084273  ...  0.04403189  0.0532477\n",
      "  0.        ] as keyword args. From version 0.10 passing these as positional arguments will result in an error\n",
      "  spectral_centroids = librosa.feature.spectral_centroid(audio, sr=sr)\n",
      "/var/folders/x0/9kxl__ld5lg60zg21w2jnc2c0000gn/T/ipykernel_48346/3714470853.py:57: FutureWarning: Pass y=[-0.00013387  0.00225879  0.0084273  ...  0.04403189  0.0532477\n",
      "  0.        ] as keyword args. From version 0.10 passing these as positional arguments will result in an error\n",
      "  rolloff = librosa.feature.spectral_rolloff(audio, sr=sr)\n"
     ]
    },
    {
     "name": "stdout",
     "output_type": "stream",
     "text": [
      "processing track  1oPIgqeUqKUxornDZeLJ8Y 69 out of 100\n",
      "100% [............................................................................] 362861 / 362861"
     ]
    },
    {
     "name": "stderr",
     "output_type": "stream",
     "text": [
      "/Users/tejasbot/anaconda3/lib/python3.8/site-packages/librosa/util/decorators.py:88: UserWarning: PySoundFile failed. Trying audioread instead.\n",
      "  return f(*args, **kwargs)\n",
      "/var/folders/x0/9kxl__ld5lg60zg21w2jnc2c0000gn/T/ipykernel_48346/3714470853.py:56: FutureWarning: Pass y=[-0.01588259 -0.02372234 -0.02341549 ...  0.01620398  0.01129428\n",
      "  0.00681434] as keyword args. From version 0.10 passing these as positional arguments will result in an error\n",
      "  spectral_centroids = librosa.feature.spectral_centroid(audio, sr=sr)\n",
      "/var/folders/x0/9kxl__ld5lg60zg21w2jnc2c0000gn/T/ipykernel_48346/3714470853.py:57: FutureWarning: Pass y=[-0.01588259 -0.02372234 -0.02341549 ...  0.01620398  0.01129428\n",
      "  0.00681434] as keyword args. From version 0.10 passing these as positional arguments will result in an error\n",
      "  rolloff = librosa.feature.spectral_rolloff(audio, sr=sr)\n"
     ]
    },
    {
     "name": "stdout",
     "output_type": "stream",
     "text": [
      "processing track  3tDAxYhHp2SiXxrpQQRohP 70 out of 100\n",
      "100% [............................................................................] 362861 / 362861"
     ]
    },
    {
     "name": "stderr",
     "output_type": "stream",
     "text": [
      "/Users/tejasbot/anaconda3/lib/python3.8/site-packages/librosa/util/decorators.py:88: UserWarning: PySoundFile failed. Trying audioread instead.\n",
      "  return f(*args, **kwargs)\n",
      "/var/folders/x0/9kxl__ld5lg60zg21w2jnc2c0000gn/T/ipykernel_48346/3714470853.py:56: FutureWarning: Pass y=[-0.02590849 -0.06584845 -0.10144043 ...  0.00631741  0.0068867\n",
      "  0.        ] as keyword args. From version 0.10 passing these as positional arguments will result in an error\n",
      "  spectral_centroids = librosa.feature.spectral_centroid(audio, sr=sr)\n",
      "/var/folders/x0/9kxl__ld5lg60zg21w2jnc2c0000gn/T/ipykernel_48346/3714470853.py:57: FutureWarning: Pass y=[-0.02590849 -0.06584845 -0.10144043 ...  0.00631741  0.0068867\n",
      "  0.        ] as keyword args. From version 0.10 passing these as positional arguments will result in an error\n",
      "  rolloff = librosa.feature.spectral_rolloff(audio, sr=sr)\n"
     ]
    },
    {
     "name": "stdout",
     "output_type": "stream",
     "text": [
      "processing track  5z6TjuPzOK6JK8z8FvQatE 71 out of 100\n",
      "100% [............................................................................] 362861 / 362861"
     ]
    },
    {
     "name": "stderr",
     "output_type": "stream",
     "text": [
      "/Users/tejasbot/anaconda3/lib/python3.8/site-packages/librosa/util/decorators.py:88: UserWarning: PySoundFile failed. Trying audioread instead.\n",
      "  return f(*args, **kwargs)\n",
      "/var/folders/x0/9kxl__ld5lg60zg21w2jnc2c0000gn/T/ipykernel_48346/3714470853.py:56: FutureWarning: Pass y=[-0.02147234 -0.01305956  0.00556521 ... -0.01549416 -0.02782696\n",
      " -0.04158952] as keyword args. From version 0.10 passing these as positional arguments will result in an error\n",
      "  spectral_centroids = librosa.feature.spectral_centroid(audio, sr=sr)\n",
      "/var/folders/x0/9kxl__ld5lg60zg21w2jnc2c0000gn/T/ipykernel_48346/3714470853.py:57: FutureWarning: Pass y=[-0.02147234 -0.01305956  0.00556521 ... -0.01549416 -0.02782696\n",
      " -0.04158952] as keyword args. From version 0.10 passing these as positional arguments will result in an error\n",
      "  rolloff = librosa.feature.spectral_rolloff(audio, sr=sr)\n"
     ]
    },
    {
     "name": "stdout",
     "output_type": "stream",
     "text": [
      "processing track  0bq1YDqSSYPqqqmjs6UBQE 72 out of 100\n",
      "100% [............................................................................] 363885 / 363885"
     ]
    },
    {
     "name": "stderr",
     "output_type": "stream",
     "text": [
      "/Users/tejasbot/anaconda3/lib/python3.8/site-packages/librosa/util/decorators.py:88: UserWarning: PySoundFile failed. Trying audioread instead.\n",
      "  return f(*args, **kwargs)\n",
      "/var/folders/x0/9kxl__ld5lg60zg21w2jnc2c0000gn/T/ipykernel_48346/3714470853.py:56: FutureWarning: Pass y=[-0.00059595 -0.00435186 -0.0167158  ... -0.01426946 -0.01520252\n",
      " -0.01679326] as keyword args. From version 0.10 passing these as positional arguments will result in an error\n",
      "  spectral_centroids = librosa.feature.spectral_centroid(audio, sr=sr)\n",
      "/var/folders/x0/9kxl__ld5lg60zg21w2jnc2c0000gn/T/ipykernel_48346/3714470853.py:57: FutureWarning: Pass y=[-0.00059595 -0.00435186 -0.0167158  ... -0.01426946 -0.01520252\n",
      " -0.01679326] as keyword args. From version 0.10 passing these as positional arguments will result in an error\n",
      "  rolloff = librosa.feature.spectral_rolloff(audio, sr=sr)\n"
     ]
    },
    {
     "name": "stdout",
     "output_type": "stream",
     "text": [
      "processing track  4S0YZny9fg8ppeuDDxyHMV 73 out of 100\n",
      "100% [............................................................................] 363885 / 363885"
     ]
    },
    {
     "name": "stderr",
     "output_type": "stream",
     "text": [
      "/Users/tejasbot/anaconda3/lib/python3.8/site-packages/librosa/util/decorators.py:88: UserWarning: PySoundFile failed. Trying audioread instead.\n",
      "  return f(*args, **kwargs)\n",
      "/var/folders/x0/9kxl__ld5lg60zg21w2jnc2c0000gn/T/ipykernel_48346/3714470853.py:56: FutureWarning: Pass y=[ 0.01552531  0.03104907  0.03768537 ... -0.00917973 -0.01395888\n",
      " -0.01268731] as keyword args. From version 0.10 passing these as positional arguments will result in an error\n",
      "  spectral_centroids = librosa.feature.spectral_centroid(audio, sr=sr)\n",
      "/var/folders/x0/9kxl__ld5lg60zg21w2jnc2c0000gn/T/ipykernel_48346/3714470853.py:57: FutureWarning: Pass y=[ 0.01552531  0.03104907  0.03768537 ... -0.00917973 -0.01395888\n",
      " -0.01268731] as keyword args. From version 0.10 passing these as positional arguments will result in an error\n",
      "  rolloff = librosa.feature.spectral_rolloff(audio, sr=sr)\n"
     ]
    },
    {
     "name": "stdout",
     "output_type": "stream",
     "text": [
      "processing track  65oi1nKE1LPyBIAeWNMiOX 74 out of 100\n",
      "100% [............................................................................] 362861 / 362861"
     ]
    },
    {
     "name": "stderr",
     "output_type": "stream",
     "text": [
      "/Users/tejasbot/anaconda3/lib/python3.8/site-packages/librosa/util/decorators.py:88: UserWarning: PySoundFile failed. Trying audioread instead.\n",
      "  return f(*args, **kwargs)\n",
      "/var/folders/x0/9kxl__ld5lg60zg21w2jnc2c0000gn/T/ipykernel_48346/3714470853.py:56: FutureWarning: Pass y=[ 0.00750981  0.01550754  0.01233735 ... -0.00026494 -0.00053095\n",
      "  0.        ] as keyword args. From version 0.10 passing these as positional arguments will result in an error\n",
      "  spectral_centroids = librosa.feature.spectral_centroid(audio, sr=sr)\n",
      "/var/folders/x0/9kxl__ld5lg60zg21w2jnc2c0000gn/T/ipykernel_48346/3714470853.py:57: FutureWarning: Pass y=[ 0.00750981  0.01550754  0.01233735 ... -0.00026494 -0.00053095\n",
      "  0.        ] as keyword args. From version 0.10 passing these as positional arguments will result in an error\n",
      "  rolloff = librosa.feature.spectral_rolloff(audio, sr=sr)\n"
     ]
    },
    {
     "name": "stdout",
     "output_type": "stream",
     "text": [
      "processing track  7BMtJmBSLxYE4VsX8iKbj6 75 out of 100\n",
      "100% [............................................................................] 362861 / 362861"
     ]
    },
    {
     "name": "stderr",
     "output_type": "stream",
     "text": [
      "/Users/tejasbot/anaconda3/lib/python3.8/site-packages/librosa/util/decorators.py:88: UserWarning: PySoundFile failed. Trying audioread instead.\n",
      "  return f(*args, **kwargs)\n",
      "/var/folders/x0/9kxl__ld5lg60zg21w2jnc2c0000gn/T/ipykernel_48346/3714470853.py:56: FutureWarning: Pass y=[0.00427087 0.01400695 0.01274943 ... 0.03246454 0.0208631  0.01426285] as keyword args. From version 0.10 passing these as positional arguments will result in an error\n",
      "  spectral_centroids = librosa.feature.spectral_centroid(audio, sr=sr)\n",
      "/var/folders/x0/9kxl__ld5lg60zg21w2jnc2c0000gn/T/ipykernel_48346/3714470853.py:57: FutureWarning: Pass y=[0.00427087 0.01400695 0.01274943 ... 0.03246454 0.0208631  0.01426285] as keyword args. From version 0.10 passing these as positional arguments will result in an error\n",
      "  rolloff = librosa.feature.spectral_rolloff(audio, sr=sr)\n"
     ]
    },
    {
     "name": "stdout",
     "output_type": "stream",
     "text": [
      "processing track  4l1PR1CemVizP45AowMDYf 76 out of 100\n",
      "100% [............................................................................] 362861 / 362861"
     ]
    },
    {
     "name": "stderr",
     "output_type": "stream",
     "text": [
      "/Users/tejasbot/anaconda3/lib/python3.8/site-packages/librosa/util/decorators.py:88: UserWarning: PySoundFile failed. Trying audioread instead.\n",
      "  return f(*args, **kwargs)\n",
      "/var/folders/x0/9kxl__ld5lg60zg21w2jnc2c0000gn/T/ipykernel_48346/3714470853.py:56: FutureWarning: Pass y=[0.01017931 0.02481305 0.03684392 ... 0.01454523 0.01658688 0.        ] as keyword args. From version 0.10 passing these as positional arguments will result in an error\n",
      "  spectral_centroids = librosa.feature.spectral_centroid(audio, sr=sr)\n",
      "/var/folders/x0/9kxl__ld5lg60zg21w2jnc2c0000gn/T/ipykernel_48346/3714470853.py:57: FutureWarning: Pass y=[0.01017931 0.02481305 0.03684392 ... 0.01454523 0.01658688 0.        ] as keyword args. From version 0.10 passing these as positional arguments will result in an error\n",
      "  rolloff = librosa.feature.spectral_rolloff(audio, sr=sr)\n"
     ]
    },
    {
     "name": "stdout",
     "output_type": "stream",
     "text": [
      "processing track  22X6a1mwne2roGdTJ5i61L 77 out of 100\n",
      "100% [............................................................................] 362861 / 362861"
     ]
    },
    {
     "name": "stderr",
     "output_type": "stream",
     "text": [
      "/Users/tejasbot/anaconda3/lib/python3.8/site-packages/librosa/util/decorators.py:88: UserWarning: PySoundFile failed. Trying audioread instead.\n",
      "  return f(*args, **kwargs)\n",
      "/var/folders/x0/9kxl__ld5lg60zg21w2jnc2c0000gn/T/ipykernel_48346/3714470853.py:56: FutureWarning: Pass y=[0.02259773 0.04181477 0.04085958 ... 0.02217999 0.02077142 0.0198981 ] as keyword args. From version 0.10 passing these as positional arguments will result in an error\n",
      "  spectral_centroids = librosa.feature.spectral_centroid(audio, sr=sr)\n",
      "/var/folders/x0/9kxl__ld5lg60zg21w2jnc2c0000gn/T/ipykernel_48346/3714470853.py:57: FutureWarning: Pass y=[0.02259773 0.04181477 0.04085958 ... 0.02217999 0.02077142 0.0198981 ] as keyword args. From version 0.10 passing these as positional arguments will result in an error\n",
      "  rolloff = librosa.feature.spectral_rolloff(audio, sr=sr)\n"
     ]
    },
    {
     "name": "stdout",
     "output_type": "stream",
     "text": [
      "processing track  4tqB8OZvbd608fBb80HIqh 78 out of 100\n",
      "100% [............................................................................] 363885 / 363885"
     ]
    },
    {
     "name": "stderr",
     "output_type": "stream",
     "text": [
      "/Users/tejasbot/anaconda3/lib/python3.8/site-packages/librosa/util/decorators.py:88: UserWarning: PySoundFile failed. Trying audioread instead.\n",
      "  return f(*args, **kwargs)\n",
      "/var/folders/x0/9kxl__ld5lg60zg21w2jnc2c0000gn/T/ipykernel_48346/3714470853.py:56: FutureWarning: Pass y=[ 0.00211275  0.00137391 -0.0024517  ... -0.02722417 -0.0237371\n",
      " -0.0190178 ] as keyword args. From version 0.10 passing these as positional arguments will result in an error\n",
      "  spectral_centroids = librosa.feature.spectral_centroid(audio, sr=sr)\n",
      "/var/folders/x0/9kxl__ld5lg60zg21w2jnc2c0000gn/T/ipykernel_48346/3714470853.py:57: FutureWarning: Pass y=[ 0.00211275  0.00137391 -0.0024517  ... -0.02722417 -0.0237371\n",
      " -0.0190178 ] as keyword args. From version 0.10 passing these as positional arguments will result in an error\n",
      "  rolloff = librosa.feature.spectral_rolloff(audio, sr=sr)\n"
     ]
    },
    {
     "name": "stdout",
     "output_type": "stream",
     "text": [
      "processing track  4YaNEoqV4eBhshEAqu0V4Z 79 out of 100\n",
      "100% [............................................................................] 362861 / 362861"
     ]
    },
    {
     "name": "stderr",
     "output_type": "stream",
     "text": [
      "/Users/tejasbot/anaconda3/lib/python3.8/site-packages/librosa/util/decorators.py:88: UserWarning: PySoundFile failed. Trying audioread instead.\n",
      "  return f(*args, **kwargs)\n",
      "/var/folders/x0/9kxl__ld5lg60zg21w2jnc2c0000gn/T/ipykernel_48346/3714470853.py:56: FutureWarning: Pass y=[-0.00035895 -0.00101688 -0.00130554 ... -0.00537639 -0.00676151\n",
      "  0.        ] as keyword args. From version 0.10 passing these as positional arguments will result in an error\n",
      "  spectral_centroids = librosa.feature.spectral_centroid(audio, sr=sr)\n",
      "/var/folders/x0/9kxl__ld5lg60zg21w2jnc2c0000gn/T/ipykernel_48346/3714470853.py:57: FutureWarning: Pass y=[-0.00035895 -0.00101688 -0.00130554 ... -0.00537639 -0.00676151\n",
      "  0.        ] as keyword args. From version 0.10 passing these as positional arguments will result in an error\n",
      "  rolloff = librosa.feature.spectral_rolloff(audio, sr=sr)\n"
     ]
    },
    {
     "name": "stdout",
     "output_type": "stream",
     "text": [
      "processing track  1OUjzOy46OhLL3M4L7Ff8m 80 out of 100\n",
      "100% [............................................................................] 362861 / 362861"
     ]
    },
    {
     "name": "stderr",
     "output_type": "stream",
     "text": [
      "/Users/tejasbot/anaconda3/lib/python3.8/site-packages/librosa/util/decorators.py:88: UserWarning: PySoundFile failed. Trying audioread instead.\n",
      "  return f(*args, **kwargs)\n",
      "/var/folders/x0/9kxl__ld5lg60zg21w2jnc2c0000gn/T/ipykernel_48346/3714470853.py:56: FutureWarning: Pass y=[0.00783038 0.01215959 0.00878678 ... 0.00670503 0.00936646 0.0116593 ] as keyword args. From version 0.10 passing these as positional arguments will result in an error\n",
      "  spectral_centroids = librosa.feature.spectral_centroid(audio, sr=sr)\n",
      "/var/folders/x0/9kxl__ld5lg60zg21w2jnc2c0000gn/T/ipykernel_48346/3714470853.py:57: FutureWarning: Pass y=[0.00783038 0.01215959 0.00878678 ... 0.00670503 0.00936646 0.0116593 ] as keyword args. From version 0.10 passing these as positional arguments will result in an error\n",
      "  rolloff = librosa.feature.spectral_rolloff(audio, sr=sr)\n"
     ]
    },
    {
     "name": "stdout",
     "output_type": "stream",
     "text": [
      "processing track  7M5MoxFMcv0IyGQcz34JPm 81 out of 100\n",
      "100% [............................................................................] 362861 / 362861"
     ]
    },
    {
     "name": "stderr",
     "output_type": "stream",
     "text": [
      "/Users/tejasbot/anaconda3/lib/python3.8/site-packages/librosa/util/decorators.py:88: UserWarning: PySoundFile failed. Trying audioread instead.\n",
      "  return f(*args, **kwargs)\n",
      "/var/folders/x0/9kxl__ld5lg60zg21w2jnc2c0000gn/T/ipykernel_48346/3714470853.py:56: FutureWarning: Pass y=[-0.06733552 -0.11494479 -0.10307264 ...  0.04406098  0.05607378\n",
      "  0.        ] as keyword args. From version 0.10 passing these as positional arguments will result in an error\n",
      "  spectral_centroids = librosa.feature.spectral_centroid(audio, sr=sr)\n",
      "/var/folders/x0/9kxl__ld5lg60zg21w2jnc2c0000gn/T/ipykernel_48346/3714470853.py:57: FutureWarning: Pass y=[-0.06733552 -0.11494479 -0.10307264 ...  0.04406098  0.05607378\n",
      "  0.        ] as keyword args. From version 0.10 passing these as positional arguments will result in an error\n",
      "  rolloff = librosa.feature.spectral_rolloff(audio, sr=sr)\n"
     ]
    },
    {
     "name": "stdout",
     "output_type": "stream",
     "text": [
      "processing track  17i5jLpzndlQhbS4SrTd0B 82 out of 100\n",
      "100% [............................................................................] 362861 / 362861"
     ]
    },
    {
     "name": "stderr",
     "output_type": "stream",
     "text": [
      "/Users/tejasbot/anaconda3/lib/python3.8/site-packages/librosa/util/decorators.py:88: UserWarning: PySoundFile failed. Trying audioread instead.\n",
      "  return f(*args, **kwargs)\n",
      "/var/folders/x0/9kxl__ld5lg60zg21w2jnc2c0000gn/T/ipykernel_48346/3714470853.py:56: FutureWarning: Pass y=[0.09828128 0.13184355 0.10802258 ... 0.01166026 0.01113698 0.008935  ] as keyword args. From version 0.10 passing these as positional arguments will result in an error\n",
      "  spectral_centroids = librosa.feature.spectral_centroid(audio, sr=sr)\n",
      "/var/folders/x0/9kxl__ld5lg60zg21w2jnc2c0000gn/T/ipykernel_48346/3714470853.py:57: FutureWarning: Pass y=[0.09828128 0.13184355 0.10802258 ... 0.01166026 0.01113698 0.008935  ] as keyword args. From version 0.10 passing these as positional arguments will result in an error\n",
      "  rolloff = librosa.feature.spectral_rolloff(audio, sr=sr)\n"
     ]
    },
    {
     "name": "stdout",
     "output_type": "stream",
     "text": [
      "processing track  69YGQcPqbb7uwqNHKZcbiE 83 out of 100\n",
      "100% [............................................................................] 362861 / 362861"
     ]
    },
    {
     "name": "stderr",
     "output_type": "stream",
     "text": [
      "/Users/tejasbot/anaconda3/lib/python3.8/site-packages/librosa/util/decorators.py:88: UserWarning: PySoundFile failed. Trying audioread instead.\n",
      "  return f(*args, **kwargs)\n",
      "/var/folders/x0/9kxl__ld5lg60zg21w2jnc2c0000gn/T/ipykernel_48346/3714470853.py:56: FutureWarning: Pass y=[-0.00104704 -0.00145117 -0.00032547 ...  0.04310301  0.04159019\n",
      "  0.04268988] as keyword args. From version 0.10 passing these as positional arguments will result in an error\n",
      "  spectral_centroids = librosa.feature.spectral_centroid(audio, sr=sr)\n",
      "/var/folders/x0/9kxl__ld5lg60zg21w2jnc2c0000gn/T/ipykernel_48346/3714470853.py:57: FutureWarning: Pass y=[-0.00104704 -0.00145117 -0.00032547 ...  0.04310301  0.04159019\n",
      "  0.04268988] as keyword args. From version 0.10 passing these as positional arguments will result in an error\n",
      "  rolloff = librosa.feature.spectral_rolloff(audio, sr=sr)\n"
     ]
    },
    {
     "name": "stdout",
     "output_type": "stream",
     "text": [
      "processing track  6iO65VrcAiAAfWa4Tbk6Db 84 out of 100\n",
      "100% [............................................................................] 362861 / 362861"
     ]
    },
    {
     "name": "stderr",
     "output_type": "stream",
     "text": [
      "/Users/tejasbot/anaconda3/lib/python3.8/site-packages/librosa/util/decorators.py:88: UserWarning: PySoundFile failed. Trying audioread instead.\n",
      "  return f(*args, **kwargs)\n",
      "/var/folders/x0/9kxl__ld5lg60zg21w2jnc2c0000gn/T/ipykernel_48346/3714470853.py:56: FutureWarning: Pass y=[-0.02451252 -0.04477092 -0.03798674 ...  0.0106692   0.01901692\n",
      "  0.03173869] as keyword args. From version 0.10 passing these as positional arguments will result in an error\n",
      "  spectral_centroids = librosa.feature.spectral_centroid(audio, sr=sr)\n",
      "/var/folders/x0/9kxl__ld5lg60zg21w2jnc2c0000gn/T/ipykernel_48346/3714470853.py:57: FutureWarning: Pass y=[-0.02451252 -0.04477092 -0.03798674 ...  0.0106692   0.01901692\n",
      "  0.03173869] as keyword args. From version 0.10 passing these as positional arguments will result in an error\n",
      "  rolloff = librosa.feature.spectral_rolloff(audio, sr=sr)\n"
     ]
    },
    {
     "name": "stdout",
     "output_type": "stream",
     "text": [
      "processing track  57vAYHrdFI7AVw8TIzKqak 85 out of 100\n",
      "100% [............................................................................] 363885 / 363885"
     ]
    },
    {
     "name": "stderr",
     "output_type": "stream",
     "text": [
      "/Users/tejasbot/anaconda3/lib/python3.8/site-packages/librosa/util/decorators.py:88: UserWarning: PySoundFile failed. Trying audioread instead.\n",
      "  return f(*args, **kwargs)\n",
      "/var/folders/x0/9kxl__ld5lg60zg21w2jnc2c0000gn/T/ipykernel_48346/3714470853.py:56: FutureWarning: Pass y=[-0.08448673 -0.14110895 -0.15338612 ... -0.04140903 -0.03645555\n",
      " -0.0350641 ] as keyword args. From version 0.10 passing these as positional arguments will result in an error\n",
      "  spectral_centroids = librosa.feature.spectral_centroid(audio, sr=sr)\n",
      "/var/folders/x0/9kxl__ld5lg60zg21w2jnc2c0000gn/T/ipykernel_48346/3714470853.py:57: FutureWarning: Pass y=[-0.08448673 -0.14110895 -0.15338612 ... -0.04140903 -0.03645555\n",
      " -0.0350641 ] as keyword args. From version 0.10 passing these as positional arguments will result in an error\n",
      "  rolloff = librosa.feature.spectral_rolloff(audio, sr=sr)\n"
     ]
    },
    {
     "name": "stdout",
     "output_type": "stream",
     "text": [
      "processing track  0g7TuAT11Xg9r8HErWW167 86 out of 100\n",
      "100% [............................................................................] 362861 / 362861"
     ]
    },
    {
     "name": "stderr",
     "output_type": "stream",
     "text": [
      "/Users/tejasbot/anaconda3/lib/python3.8/site-packages/librosa/util/decorators.py:88: UserWarning: PySoundFile failed. Trying audioread instead.\n",
      "  return f(*args, **kwargs)\n",
      "/var/folders/x0/9kxl__ld5lg60zg21w2jnc2c0000gn/T/ipykernel_48346/3714470853.py:56: FutureWarning: Pass y=[-0.0218951  -0.04233421 -0.04141963 ...  0.12710935  0.14350191\n",
      "  0.        ] as keyword args. From version 0.10 passing these as positional arguments will result in an error\n",
      "  spectral_centroids = librosa.feature.spectral_centroid(audio, sr=sr)\n",
      "/var/folders/x0/9kxl__ld5lg60zg21w2jnc2c0000gn/T/ipykernel_48346/3714470853.py:57: FutureWarning: Pass y=[-0.0218951  -0.04233421 -0.04141963 ...  0.12710935  0.14350191\n",
      "  0.        ] as keyword args. From version 0.10 passing these as positional arguments will result in an error\n",
      "  rolloff = librosa.feature.spectral_rolloff(audio, sr=sr)\n"
     ]
    },
    {
     "name": "stdout",
     "output_type": "stream",
     "text": [
      "processing track  6LiIyOazFc4iAOPbqHNnDd 87 out of 100\n",
      "100% [............................................................................] 362861 / 362861"
     ]
    },
    {
     "name": "stderr",
     "output_type": "stream",
     "text": [
      "/Users/tejasbot/anaconda3/lib/python3.8/site-packages/librosa/util/decorators.py:88: UserWarning: PySoundFile failed. Trying audioread instead.\n",
      "  return f(*args, **kwargs)\n",
      "/var/folders/x0/9kxl__ld5lg60zg21w2jnc2c0000gn/T/ipykernel_48346/3714470853.py:56: FutureWarning: Pass y=[0.02484724 0.06816367 0.08498937 ... 0.11432058 0.10100883 0.0618415 ] as keyword args. From version 0.10 passing these as positional arguments will result in an error\n",
      "  spectral_centroids = librosa.feature.spectral_centroid(audio, sr=sr)\n",
      "/var/folders/x0/9kxl__ld5lg60zg21w2jnc2c0000gn/T/ipykernel_48346/3714470853.py:57: FutureWarning: Pass y=[0.02484724 0.06816367 0.08498937 ... 0.11432058 0.10100883 0.0618415 ] as keyword args. From version 0.10 passing these as positional arguments will result in an error\n",
      "  rolloff = librosa.feature.spectral_rolloff(audio, sr=sr)\n"
     ]
    },
    {
     "name": "stdout",
     "output_type": "stream",
     "text": [
      "processing track  79kIfVc3ki3c9v9s3zHBlo 88 out of 100\n",
      "100% [............................................................................] 362861 / 362861"
     ]
    },
    {
     "name": "stderr",
     "output_type": "stream",
     "text": [
      "/Users/tejasbot/anaconda3/lib/python3.8/site-packages/librosa/util/decorators.py:88: UserWarning: PySoundFile failed. Trying audioread instead.\n",
      "  return f(*args, **kwargs)\n",
      "/var/folders/x0/9kxl__ld5lg60zg21w2jnc2c0000gn/T/ipykernel_48346/3714470853.py:56: FutureWarning: Pass y=[-0.0199031  -0.05856029 -0.08146507 ... -0.04414273 -0.05291492\n",
      "  0.        ] as keyword args. From version 0.10 passing these as positional arguments will result in an error\n",
      "  spectral_centroids = librosa.feature.spectral_centroid(audio, sr=sr)\n",
      "/var/folders/x0/9kxl__ld5lg60zg21w2jnc2c0000gn/T/ipykernel_48346/3714470853.py:57: FutureWarning: Pass y=[-0.0199031  -0.05856029 -0.08146507 ... -0.04414273 -0.05291492\n",
      "  0.        ] as keyword args. From version 0.10 passing these as positional arguments will result in an error\n",
      "  rolloff = librosa.feature.spectral_rolloff(audio, sr=sr)\n"
     ]
    },
    {
     "name": "stdout",
     "output_type": "stream",
     "text": [
      "processing track  3sdrzlJmVJxQTC5gtfs4M4 89 out of 100\n",
      "100% [............................................................................] 363885 / 363885"
     ]
    },
    {
     "name": "stderr",
     "output_type": "stream",
     "text": [
      "/Users/tejasbot/anaconda3/lib/python3.8/site-packages/librosa/util/decorators.py:88: UserWarning: PySoundFile failed. Trying audioread instead.\n",
      "  return f(*args, **kwargs)\n",
      "/var/folders/x0/9kxl__ld5lg60zg21w2jnc2c0000gn/T/ipykernel_48346/3714470853.py:56: FutureWarning: Pass y=[-0.02803533 -0.04915376 -0.04439196 ...  0.13980033  0.12854058\n",
      "  0.12280999] as keyword args. From version 0.10 passing these as positional arguments will result in an error\n",
      "  spectral_centroids = librosa.feature.spectral_centroid(audio, sr=sr)\n",
      "/var/folders/x0/9kxl__ld5lg60zg21w2jnc2c0000gn/T/ipykernel_48346/3714470853.py:57: FutureWarning: Pass y=[-0.02803533 -0.04915376 -0.04439196 ...  0.13980033  0.12854058\n",
      "  0.12280999] as keyword args. From version 0.10 passing these as positional arguments will result in an error\n",
      "  rolloff = librosa.feature.spectral_rolloff(audio, sr=sr)\n"
     ]
    },
    {
     "name": "stdout",
     "output_type": "stream",
     "text": [
      "processing track  3gJem1ky3SSSdBAkgHk5sA 90 out of 100\n",
      "100% [............................................................................] 362861 / 362861"
     ]
    },
    {
     "name": "stderr",
     "output_type": "stream",
     "text": [
      "/Users/tejasbot/anaconda3/lib/python3.8/site-packages/librosa/util/decorators.py:88: UserWarning: PySoundFile failed. Trying audioread instead.\n",
      "  return f(*args, **kwargs)\n",
      "/var/folders/x0/9kxl__ld5lg60zg21w2jnc2c0000gn/T/ipykernel_48346/3714470853.py:56: FutureWarning: Pass y=[ 0.02579104  0.05205038  0.05061195 ... -0.04667203 -0.04312395\n",
      " -0.01980267] as keyword args. From version 0.10 passing these as positional arguments will result in an error\n",
      "  spectral_centroids = librosa.feature.spectral_centroid(audio, sr=sr)\n",
      "/var/folders/x0/9kxl__ld5lg60zg21w2jnc2c0000gn/T/ipykernel_48346/3714470853.py:57: FutureWarning: Pass y=[ 0.02579104  0.05205038  0.05061195 ... -0.04667203 -0.04312395\n",
      " -0.01980267] as keyword args. From version 0.10 passing these as positional arguments will result in an error\n",
      "  rolloff = librosa.feature.spectral_rolloff(audio, sr=sr)\n"
     ]
    },
    {
     "name": "stdout",
     "output_type": "stream",
     "text": [
      "processing track  5k89hpsgTdxmt2Y5m1lWGs 91 out of 100\n",
      "100% [............................................................................] 362861 / 362861"
     ]
    },
    {
     "name": "stderr",
     "output_type": "stream",
     "text": [
      "/Users/tejasbot/anaconda3/lib/python3.8/site-packages/librosa/util/decorators.py:88: UserWarning: PySoundFile failed. Trying audioread instead.\n",
      "  return f(*args, **kwargs)\n",
      "/var/folders/x0/9kxl__ld5lg60zg21w2jnc2c0000gn/T/ipykernel_48346/3714470853.py:56: FutureWarning: Pass y=[-0.00088008  0.00302891  0.00836339 ... -0.00034269 -0.00104963\n",
      "  0.        ] as keyword args. From version 0.10 passing these as positional arguments will result in an error\n",
      "  spectral_centroids = librosa.feature.spectral_centroid(audio, sr=sr)\n",
      "/var/folders/x0/9kxl__ld5lg60zg21w2jnc2c0000gn/T/ipykernel_48346/3714470853.py:57: FutureWarning: Pass y=[-0.00088008  0.00302891  0.00836339 ... -0.00034269 -0.00104963\n",
      "  0.        ] as keyword args. From version 0.10 passing these as positional arguments will result in an error\n",
      "  rolloff = librosa.feature.spectral_rolloff(audio, sr=sr)\n"
     ]
    },
    {
     "name": "stdout",
     "output_type": "stream",
     "text": [
      "processing track  0ARbqSOdmaLUpvlY4EVIEM 92 out of 100\n",
      "100% [............................................................................] 362861 / 362861"
     ]
    },
    {
     "name": "stderr",
     "output_type": "stream",
     "text": [
      "/Users/tejasbot/anaconda3/lib/python3.8/site-packages/librosa/util/decorators.py:88: UserWarning: PySoundFile failed. Trying audioread instead.\n",
      "  return f(*args, **kwargs)\n",
      "/var/folders/x0/9kxl__ld5lg60zg21w2jnc2c0000gn/T/ipykernel_48346/3714470853.py:56: FutureWarning: Pass y=[-0.01215395 -0.01112217  0.0025631  ... -0.00456184 -0.00789475\n",
      " -0.0151431 ] as keyword args. From version 0.10 passing these as positional arguments will result in an error\n",
      "  spectral_centroids = librosa.feature.spectral_centroid(audio, sr=sr)\n",
      "/var/folders/x0/9kxl__ld5lg60zg21w2jnc2c0000gn/T/ipykernel_48346/3714470853.py:57: FutureWarning: Pass y=[-0.01215395 -0.01112217  0.0025631  ... -0.00456184 -0.00789475\n",
      " -0.0151431 ] as keyword args. From version 0.10 passing these as positional arguments will result in an error\n",
      "  rolloff = librosa.feature.spectral_rolloff(audio, sr=sr)\n"
     ]
    },
    {
     "name": "stdout",
     "output_type": "stream",
     "text": [
      "processing track  2DEuiZEDbwtG0aQSam58xG 93 out of 100\n",
      "100% [............................................................................] 362861 / 362861"
     ]
    },
    {
     "name": "stderr",
     "output_type": "stream",
     "text": [
      "/Users/tejasbot/anaconda3/lib/python3.8/site-packages/librosa/util/decorators.py:88: UserWarning: PySoundFile failed. Trying audioread instead.\n",
      "  return f(*args, **kwargs)\n",
      "/var/folders/x0/9kxl__ld5lg60zg21w2jnc2c0000gn/T/ipykernel_48346/3714470853.py:56: FutureWarning: Pass y=[-0.03284407 -0.05667915 -0.05232574 ...  0.00654817  0.00599665\n",
      "  0.0049452 ] as keyword args. From version 0.10 passing these as positional arguments will result in an error\n",
      "  spectral_centroids = librosa.feature.spectral_centroid(audio, sr=sr)\n",
      "/var/folders/x0/9kxl__ld5lg60zg21w2jnc2c0000gn/T/ipykernel_48346/3714470853.py:57: FutureWarning: Pass y=[-0.03284407 -0.05667915 -0.05232574 ...  0.00654817  0.00599665\n",
      "  0.0049452 ] as keyword args. From version 0.10 passing these as positional arguments will result in an error\n",
      "  rolloff = librosa.feature.spectral_rolloff(audio, sr=sr)\n"
     ]
    },
    {
     "name": "stdout",
     "output_type": "stream",
     "text": [
      "processing track  3xkQRO5lkQ0ObTOsnAyapU 94 out of 100\n",
      "100% [............................................................................] 362861 / 362861"
     ]
    },
    {
     "name": "stderr",
     "output_type": "stream",
     "text": [
      "/Users/tejasbot/anaconda3/lib/python3.8/site-packages/librosa/util/decorators.py:88: UserWarning: PySoundFile failed. Trying audioread instead.\n",
      "  return f(*args, **kwargs)\n",
      "/var/folders/x0/9kxl__ld5lg60zg21w2jnc2c0000gn/T/ipykernel_48346/3714470853.py:56: FutureWarning: Pass y=[-0.04315829 -0.06135469 -0.04133391 ... -0.03765159 -0.05871574\n",
      "  0.        ] as keyword args. From version 0.10 passing these as positional arguments will result in an error\n",
      "  spectral_centroids = librosa.feature.spectral_centroid(audio, sr=sr)\n",
      "/var/folders/x0/9kxl__ld5lg60zg21w2jnc2c0000gn/T/ipykernel_48346/3714470853.py:57: FutureWarning: Pass y=[-0.04315829 -0.06135469 -0.04133391 ... -0.03765159 -0.05871574\n",
      "  0.        ] as keyword args. From version 0.10 passing these as positional arguments will result in an error\n",
      "  rolloff = librosa.feature.spectral_rolloff(audio, sr=sr)\n"
     ]
    },
    {
     "name": "stdout",
     "output_type": "stream",
     "text": [
      "processing track  4YJZGxNkKEsRRsh5t1Is7p 95 out of 100\n",
      "100% [............................................................................] 362861 / 362861"
     ]
    },
    {
     "name": "stderr",
     "output_type": "stream",
     "text": [
      "/Users/tejasbot/anaconda3/lib/python3.8/site-packages/librosa/util/decorators.py:88: UserWarning: PySoundFile failed. Trying audioread instead.\n",
      "  return f(*args, **kwargs)\n",
      "/var/folders/x0/9kxl__ld5lg60zg21w2jnc2c0000gn/T/ipykernel_48346/3714470853.py:56: FutureWarning: Pass y=[0.02677732 0.03957145 0.03311888 ... 0.01831903 0.01475665 0.00891662] as keyword args. From version 0.10 passing these as positional arguments will result in an error\n",
      "  spectral_centroids = librosa.feature.spectral_centroid(audio, sr=sr)\n",
      "/var/folders/x0/9kxl__ld5lg60zg21w2jnc2c0000gn/T/ipykernel_48346/3714470853.py:57: FutureWarning: Pass y=[0.02677732 0.03957145 0.03311888 ... 0.01831903 0.01475665 0.00891662] as keyword args. From version 0.10 passing these as positional arguments will result in an error\n",
      "  rolloff = librosa.feature.spectral_rolloff(audio, sr=sr)\n"
     ]
    },
    {
     "name": "stdout",
     "output_type": "stream",
     "text": [
      "processing track  3J1pYulYoyhTav7fJvKNfM 96 out of 100\n",
      "100% [............................................................................] 362861 / 362861"
     ]
    },
    {
     "name": "stderr",
     "output_type": "stream",
     "text": [
      "/Users/tejasbot/anaconda3/lib/python3.8/site-packages/librosa/util/decorators.py:88: UserWarning: PySoundFile failed. Trying audioread instead.\n",
      "  return f(*args, **kwargs)\n",
      "/var/folders/x0/9kxl__ld5lg60zg21w2jnc2c0000gn/T/ipykernel_48346/3714470853.py:56: FutureWarning: Pass y=[-0.01258476 -0.02793927 -0.03140425 ...  0.00190304  0.00160683\n",
      "  0.00078537] as keyword args. From version 0.10 passing these as positional arguments will result in an error\n",
      "  spectral_centroids = librosa.feature.spectral_centroid(audio, sr=sr)\n",
      "/var/folders/x0/9kxl__ld5lg60zg21w2jnc2c0000gn/T/ipykernel_48346/3714470853.py:57: FutureWarning: Pass y=[-0.01258476 -0.02793927 -0.03140425 ...  0.00190304  0.00160683\n",
      "  0.00078537] as keyword args. From version 0.10 passing these as positional arguments will result in an error\n",
      "  rolloff = librosa.feature.spectral_rolloff(audio, sr=sr)\n"
     ]
    },
    {
     "name": "stdout",
     "output_type": "stream",
     "text": [
      "processing track  7l3sa6uGWYwReNrGgQoSMm 97 out of 100\n",
      "100% [............................................................................] 362861 / 362861"
     ]
    },
    {
     "name": "stderr",
     "output_type": "stream",
     "text": [
      "/Users/tejasbot/anaconda3/lib/python3.8/site-packages/librosa/util/decorators.py:88: UserWarning: PySoundFile failed. Trying audioread instead.\n",
      "  return f(*args, **kwargs)\n",
      "/var/folders/x0/9kxl__ld5lg60zg21w2jnc2c0000gn/T/ipykernel_48346/3714470853.py:56: FutureWarning: Pass y=[-0.04906115 -0.10394172 -0.12693784 ... -0.03218609 -0.01424022\n",
      "  0.        ] as keyword args. From version 0.10 passing these as positional arguments will result in an error\n",
      "  spectral_centroids = librosa.feature.spectral_centroid(audio, sr=sr)\n",
      "/var/folders/x0/9kxl__ld5lg60zg21w2jnc2c0000gn/T/ipykernel_48346/3714470853.py:57: FutureWarning: Pass y=[-0.04906115 -0.10394172 -0.12693784 ... -0.03218609 -0.01424022\n",
      "  0.        ] as keyword args. From version 0.10 passing these as positional arguments will result in an error\n",
      "  rolloff = librosa.feature.spectral_rolloff(audio, sr=sr)\n"
     ]
    },
    {
     "name": "stdout",
     "output_type": "stream",
     "text": [
      "processing track  2ddhCHZW8CT0ZVJG2lHyuM 98 out of 100\n",
      "100% [............................................................................] 362861 / 362861"
     ]
    },
    {
     "name": "stderr",
     "output_type": "stream",
     "text": [
      "/Users/tejasbot/anaconda3/lib/python3.8/site-packages/librosa/util/decorators.py:88: UserWarning: PySoundFile failed. Trying audioread instead.\n",
      "  return f(*args, **kwargs)\n",
      "/var/folders/x0/9kxl__ld5lg60zg21w2jnc2c0000gn/T/ipykernel_48346/3714470853.py:56: FutureWarning: Pass y=[0.01085229 0.02702581 0.03758576 ... 0.12922898 0.11204145 0.0869234 ] as keyword args. From version 0.10 passing these as positional arguments will result in an error\n",
      "  spectral_centroids = librosa.feature.spectral_centroid(audio, sr=sr)\n",
      "/var/folders/x0/9kxl__ld5lg60zg21w2jnc2c0000gn/T/ipykernel_48346/3714470853.py:57: FutureWarning: Pass y=[0.01085229 0.02702581 0.03758576 ... 0.12922898 0.11204145 0.0869234 ] as keyword args. From version 0.10 passing these as positional arguments will result in an error\n",
      "  rolloff = librosa.feature.spectral_rolloff(audio, sr=sr)\n"
     ]
    },
    {
     "name": "stdout",
     "output_type": "stream",
     "text": [
      "processing track  1DeWXeOfjt3Hj3usUQfMYN 99 out of 100\n",
      "100% [............................................................................] 362861 / 362861"
     ]
    },
    {
     "name": "stderr",
     "output_type": "stream",
     "text": [
      "/Users/tejasbot/anaconda3/lib/python3.8/site-packages/librosa/util/decorators.py:88: UserWarning: PySoundFile failed. Trying audioread instead.\n",
      "  return f(*args, **kwargs)\n",
      "/var/folders/x0/9kxl__ld5lg60zg21w2jnc2c0000gn/T/ipykernel_48346/3714470853.py:56: FutureWarning: Pass y=[0.02524064 0.04758297 0.05699204 ... 0.09006309 0.0926076  0.        ] as keyword args. From version 0.10 passing these as positional arguments will result in an error\n",
      "  spectral_centroids = librosa.feature.spectral_centroid(audio, sr=sr)\n",
      "/var/folders/x0/9kxl__ld5lg60zg21w2jnc2c0000gn/T/ipykernel_48346/3714470853.py:57: FutureWarning: Pass y=[0.02524064 0.04758297 0.05699204 ... 0.09006309 0.0926076  0.        ] as keyword args. From version 0.10 passing these as positional arguments will result in an error\n",
      "  rolloff = librosa.feature.spectral_rolloff(audio, sr=sr)\n"
     ]
    }
   ],
   "source": [
    "testingdf= gen_extensive_audio_features(sp, trackids, pvalues= [10,25,50,75,90], perform_dsp = True)"
   ]
  },
  {
   "cell_type": "code",
   "execution_count": 42,
   "id": "a64bce7a",
   "metadata": {},
   "outputs": [
    {
     "name": "stdout",
     "output_type": "stream",
     "text": [
      "processing track  1JSIWsJfxOji0FrxFcxdCK 0 out of 100\n",
      "100% [............................................................................] 362861 / 362861"
     ]
    },
    {
     "name": "stderr",
     "output_type": "stream",
     "text": [
      "/Users/tejasbot/anaconda3/lib/python3.8/site-packages/librosa/util/decorators.py:88: UserWarning: PySoundFile failed. Trying audioread instead.\n",
      "  return f(*args, **kwargs)\n",
      "/var/folders/x0/9kxl__ld5lg60zg21w2jnc2c0000gn/T/ipykernel_48346/3714470853.py:56: FutureWarning: Pass y=[-0.02529239 -0.01567331  0.01690556 ... -0.03486066 -0.11116249\n",
      "  0.        ] as keyword args. From version 0.10 passing these as positional arguments will result in an error\n",
      "  spectral_centroids = librosa.feature.spectral_centroid(audio, sr=sr)\n",
      "/var/folders/x0/9kxl__ld5lg60zg21w2jnc2c0000gn/T/ipykernel_48346/3714470853.py:57: FutureWarning: Pass y=[-0.02529239 -0.01567331  0.01690556 ... -0.03486066 -0.11116249\n",
      "  0.        ] as keyword args. From version 0.10 passing these as positional arguments will result in an error\n",
      "  rolloff = librosa.feature.spectral_rolloff(audio, sr=sr)\n"
     ]
    },
    {
     "name": "stdout",
     "output_type": "stream",
     "text": [
      "processing track  5QnJqzHud1dXiz0nohQtbv 1 out of 100\n",
      "100% [............................................................................] 361837 / 361837"
     ]
    },
    {
     "name": "stderr",
     "output_type": "stream",
     "text": [
      "/Users/tejasbot/anaconda3/lib/python3.8/site-packages/librosa/util/decorators.py:88: UserWarning: PySoundFile failed. Trying audioread instead.\n",
      "  return f(*args, **kwargs)\n",
      "/var/folders/x0/9kxl__ld5lg60zg21w2jnc2c0000gn/T/ipykernel_48346/3714470853.py:56: FutureWarning: Pass y=[-0.0111036  -0.01993817 -0.01985832 ... -0.02482001 -0.02549613\n",
      " -0.02737209] as keyword args. From version 0.10 passing these as positional arguments will result in an error\n",
      "  spectral_centroids = librosa.feature.spectral_centroid(audio, sr=sr)\n",
      "/var/folders/x0/9kxl__ld5lg60zg21w2jnc2c0000gn/T/ipykernel_48346/3714470853.py:57: FutureWarning: Pass y=[-0.0111036  -0.01993817 -0.01985832 ... -0.02482001 -0.02549613\n",
      " -0.02737209] as keyword args. From version 0.10 passing these as positional arguments will result in an error\n",
      "  rolloff = librosa.feature.spectral_rolloff(audio, sr=sr)\n"
     ]
    },
    {
     "name": "stdout",
     "output_type": "stream",
     "text": [
      "processing track  7LnCjHudaBcB7gprluL2jG 2 out of 100\n",
      "100% [............................................................................] 362861 / 362861"
     ]
    },
    {
     "name": "stderr",
     "output_type": "stream",
     "text": [
      "/Users/tejasbot/anaconda3/lib/python3.8/site-packages/librosa/util/decorators.py:88: UserWarning: PySoundFile failed. Trying audioread instead.\n",
      "  return f(*args, **kwargs)\n",
      "/var/folders/x0/9kxl__ld5lg60zg21w2jnc2c0000gn/T/ipykernel_48346/3714470853.py:56: FutureWarning: Pass y=[-0.16303751 -0.2772675  -0.2440857  ... -0.07143886 -0.15852949\n",
      "  0.        ] as keyword args. From version 0.10 passing these as positional arguments will result in an error\n",
      "  spectral_centroids = librosa.feature.spectral_centroid(audio, sr=sr)\n",
      "/var/folders/x0/9kxl__ld5lg60zg21w2jnc2c0000gn/T/ipykernel_48346/3714470853.py:57: FutureWarning: Pass y=[-0.16303751 -0.2772675  -0.2440857  ... -0.07143886 -0.15852949\n",
      "  0.        ] as keyword args. From version 0.10 passing these as positional arguments will result in an error\n",
      "  rolloff = librosa.feature.spectral_rolloff(audio, sr=sr)\n"
     ]
    },
    {
     "name": "stdout",
     "output_type": "stream",
     "text": [
      "processing track  1S1JlOrGDpkbVhWCsOjUIh 3 out of 100\n",
      "100% [............................................................................] 362861 / 362861"
     ]
    },
    {
     "name": "stderr",
     "output_type": "stream",
     "text": [
      "/Users/tejasbot/anaconda3/lib/python3.8/site-packages/librosa/util/decorators.py:88: UserWarning: PySoundFile failed. Trying audioread instead.\n",
      "  return f(*args, **kwargs)\n",
      "/var/folders/x0/9kxl__ld5lg60zg21w2jnc2c0000gn/T/ipykernel_48346/3714470853.py:56: FutureWarning: Pass y=[ 0.10899467  0.15203418  0.08801726 ... -0.23987345 -0.23869419\n",
      " -0.2569419 ] as keyword args. From version 0.10 passing these as positional arguments will result in an error\n",
      "  spectral_centroids = librosa.feature.spectral_centroid(audio, sr=sr)\n",
      "/var/folders/x0/9kxl__ld5lg60zg21w2jnc2c0000gn/T/ipykernel_48346/3714470853.py:57: FutureWarning: Pass y=[ 0.10899467  0.15203418  0.08801726 ... -0.23987345 -0.23869419\n",
      " -0.2569419 ] as keyword args. From version 0.10 passing these as positional arguments will result in an error\n",
      "  rolloff = librosa.feature.spectral_rolloff(audio, sr=sr)\n"
     ]
    },
    {
     "name": "stdout",
     "output_type": "stream",
     "text": [
      "processing track  1J8JRBcaJUPctNt6DM12iD 4 out of 100\n",
      "100% [............................................................................] 362861 / 362861"
     ]
    },
    {
     "name": "stderr",
     "output_type": "stream",
     "text": [
      "/Users/tejasbot/anaconda3/lib/python3.8/site-packages/librosa/util/decorators.py:88: UserWarning: PySoundFile failed. Trying audioread instead.\n",
      "  return f(*args, **kwargs)\n",
      "/var/folders/x0/9kxl__ld5lg60zg21w2jnc2c0000gn/T/ipykernel_48346/3714470853.py:56: FutureWarning: Pass y=[ 0.00079193 -0.0051838  -0.01384191 ...  0.0186801   0.01765953\n",
      "  0.        ] as keyword args. From version 0.10 passing these as positional arguments will result in an error\n",
      "  spectral_centroids = librosa.feature.spectral_centroid(audio, sr=sr)\n",
      "/var/folders/x0/9kxl__ld5lg60zg21w2jnc2c0000gn/T/ipykernel_48346/3714470853.py:57: FutureWarning: Pass y=[ 0.00079193 -0.0051838  -0.01384191 ...  0.0186801   0.01765953\n",
      "  0.        ] as keyword args. From version 0.10 passing these as positional arguments will result in an error\n",
      "  rolloff = librosa.feature.spectral_rolloff(audio, sr=sr)\n"
     ]
    },
    {
     "name": "stdout",
     "output_type": "stream",
     "text": [
      "processing track  69ai605TdgykOy3UTKuywI 5 out of 100\n",
      "100% [............................................................................] 362861 / 362861"
     ]
    },
    {
     "name": "stderr",
     "output_type": "stream",
     "text": [
      "/Users/tejasbot/anaconda3/lib/python3.8/site-packages/librosa/util/decorators.py:88: UserWarning: PySoundFile failed. Trying audioread instead.\n",
      "  return f(*args, **kwargs)\n",
      "/var/folders/x0/9kxl__ld5lg60zg21w2jnc2c0000gn/T/ipykernel_48346/3714470853.py:56: FutureWarning: Pass y=[-0.01572599 -0.03161804 -0.04182438 ... -0.0389565  -0.05666606\n",
      "  0.        ] as keyword args. From version 0.10 passing these as positional arguments will result in an error\n",
      "  spectral_centroids = librosa.feature.spectral_centroid(audio, sr=sr)\n",
      "/var/folders/x0/9kxl__ld5lg60zg21w2jnc2c0000gn/T/ipykernel_48346/3714470853.py:57: FutureWarning: Pass y=[-0.01572599 -0.03161804 -0.04182438 ... -0.0389565  -0.05666606\n",
      "  0.        ] as keyword args. From version 0.10 passing these as positional arguments will result in an error\n",
      "  rolloff = librosa.feature.spectral_rolloff(audio, sr=sr)\n"
     ]
    },
    {
     "name": "stdout",
     "output_type": "stream",
     "text": [
      "processing track  711sUHL5feGZQ4HZai697P 6 out of 100\n",
      "100% [............................................................................] 362861 / 362861"
     ]
    },
    {
     "name": "stderr",
     "output_type": "stream",
     "text": [
      "/Users/tejasbot/anaconda3/lib/python3.8/site-packages/librosa/util/decorators.py:88: UserWarning: PySoundFile failed. Trying audioread instead.\n",
      "  return f(*args, **kwargs)\n",
      "/var/folders/x0/9kxl__ld5lg60zg21w2jnc2c0000gn/T/ipykernel_48346/3714470853.py:56: FutureWarning: Pass y=[-0.12823674 -0.22571968 -0.19768542 ...  0.03801951  0.03911125\n",
      "  0.04057196] as keyword args. From version 0.10 passing these as positional arguments will result in an error\n",
      "  spectral_centroids = librosa.feature.spectral_centroid(audio, sr=sr)\n",
      "/var/folders/x0/9kxl__ld5lg60zg21w2jnc2c0000gn/T/ipykernel_48346/3714470853.py:57: FutureWarning: Pass y=[-0.12823674 -0.22571968 -0.19768542 ...  0.03801951  0.03911125\n",
      "  0.04057196] as keyword args. From version 0.10 passing these as positional arguments will result in an error\n",
      "  rolloff = librosa.feature.spectral_rolloff(audio, sr=sr)\n"
     ]
    },
    {
     "name": "stdout",
     "output_type": "stream",
     "text": [
      "processing track  5pLpGimrruc4qZSxHBScYz 7 out of 100\n",
      "100% [............................................................................] 362861 / 362861"
     ]
    },
    {
     "name": "stderr",
     "output_type": "stream",
     "text": [
      "/Users/tejasbot/anaconda3/lib/python3.8/site-packages/librosa/util/decorators.py:88: UserWarning: PySoundFile failed. Trying audioread instead.\n",
      "  return f(*args, **kwargs)\n",
      "/var/folders/x0/9kxl__ld5lg60zg21w2jnc2c0000gn/T/ipykernel_48346/3714470853.py:56: FutureWarning: Pass y=[0.03313733 0.06329214 0.06700635 ... 0.12138435 0.11652326 0.10089605] as keyword args. From version 0.10 passing these as positional arguments will result in an error\n",
      "  spectral_centroids = librosa.feature.spectral_centroid(audio, sr=sr)\n",
      "/var/folders/x0/9kxl__ld5lg60zg21w2jnc2c0000gn/T/ipykernel_48346/3714470853.py:57: FutureWarning: Pass y=[0.03313733 0.06329214 0.06700635 ... 0.12138435 0.11652326 0.10089605] as keyword args. From version 0.10 passing these as positional arguments will result in an error\n",
      "  rolloff = librosa.feature.spectral_rolloff(audio, sr=sr)\n"
     ]
    },
    {
     "name": "stdout",
     "output_type": "stream",
     "text": [
      "processing track  7igDc2V0gCwBYV5rBUw1g7 8 out of 100\n",
      "100% [............................................................................] 362861 / 362861"
     ]
    },
    {
     "name": "stderr",
     "output_type": "stream",
     "text": [
      "/Users/tejasbot/anaconda3/lib/python3.8/site-packages/librosa/util/decorators.py:88: UserWarning: PySoundFile failed. Trying audioread instead.\n",
      "  return f(*args, **kwargs)\n",
      "/var/folders/x0/9kxl__ld5lg60zg21w2jnc2c0000gn/T/ipykernel_48346/3714470853.py:56: FutureWarning: Pass y=[-0.00418409  0.00456911  0.02491076 ...  0.05230452  0.05176872\n",
      "  0.05457798] as keyword args. From version 0.10 passing these as positional arguments will result in an error\n",
      "  spectral_centroids = librosa.feature.spectral_centroid(audio, sr=sr)\n",
      "/var/folders/x0/9kxl__ld5lg60zg21w2jnc2c0000gn/T/ipykernel_48346/3714470853.py:57: FutureWarning: Pass y=[-0.00418409  0.00456911  0.02491076 ...  0.05230452  0.05176872\n",
      "  0.05457798] as keyword args. From version 0.10 passing these as positional arguments will result in an error\n",
      "  rolloff = librosa.feature.spectral_rolloff(audio, sr=sr)\n"
     ]
    },
    {
     "name": "stdout",
     "output_type": "stream",
     "text": [
      "processing track  777Em4kHDduR6HgVTKdwpf 9 out of 100\n",
      "100% [............................................................................] 361837 / 361837"
     ]
    },
    {
     "name": "stderr",
     "output_type": "stream",
     "text": [
      "/Users/tejasbot/anaconda3/lib/python3.8/site-packages/librosa/util/decorators.py:88: UserWarning: PySoundFile failed. Trying audioread instead.\n",
      "  return f(*args, **kwargs)\n",
      "/var/folders/x0/9kxl__ld5lg60zg21w2jnc2c0000gn/T/ipykernel_48346/3714470853.py:56: FutureWarning: Pass y=[-0.12859812 -0.18562736 -0.13504419 ... -0.05874661 -0.04723606\n",
      " -0.03010154] as keyword args. From version 0.10 passing these as positional arguments will result in an error\n",
      "  spectral_centroids = librosa.feature.spectral_centroid(audio, sr=sr)\n",
      "/var/folders/x0/9kxl__ld5lg60zg21w2jnc2c0000gn/T/ipykernel_48346/3714470853.py:57: FutureWarning: Pass y=[-0.12859812 -0.18562736 -0.13504419 ... -0.05874661 -0.04723606\n",
      " -0.03010154] as keyword args. From version 0.10 passing these as positional arguments will result in an error\n",
      "  rolloff = librosa.feature.spectral_rolloff(audio, sr=sr)\n"
     ]
    },
    {
     "name": "stdout",
     "output_type": "stream",
     "text": [
      "processing track  2vYPxe1E9uQ0XY27FFViR5 10 out of 100\n",
      "100% [............................................................................] 362861 / 362861"
     ]
    },
    {
     "name": "stderr",
     "output_type": "stream",
     "text": [
      "/Users/tejasbot/anaconda3/lib/python3.8/site-packages/librosa/util/decorators.py:88: UserWarning: PySoundFile failed. Trying audioread instead.\n",
      "  return f(*args, **kwargs)\n",
      "/var/folders/x0/9kxl__ld5lg60zg21w2jnc2c0000gn/T/ipykernel_48346/3714470853.py:56: FutureWarning: Pass y=[0.15215158 0.23164347 0.23012313 ... 0.07648722 0.06746561 0.05934777] as keyword args. From version 0.10 passing these as positional arguments will result in an error\n",
      "  spectral_centroids = librosa.feature.spectral_centroid(audio, sr=sr)\n",
      "/var/folders/x0/9kxl__ld5lg60zg21w2jnc2c0000gn/T/ipykernel_48346/3714470853.py:57: FutureWarning: Pass y=[0.15215158 0.23164347 0.23012313 ... 0.07648722 0.06746561 0.05934777] as keyword args. From version 0.10 passing these as positional arguments will result in an error\n",
      "  rolloff = librosa.feature.spectral_rolloff(audio, sr=sr)\n"
     ]
    },
    {
     "name": "stdout",
     "output_type": "stream",
     "text": [
      "processing track  5Q6Chi5OQkkYjdyuelGTbH 11 out of 100\n",
      "100% [............................................................................] 361837 / 361837"
     ]
    },
    {
     "name": "stderr",
     "output_type": "stream",
     "text": [
      "/Users/tejasbot/anaconda3/lib/python3.8/site-packages/librosa/util/decorators.py:88: UserWarning: PySoundFile failed. Trying audioread instead.\n",
      "  return f(*args, **kwargs)\n",
      "/var/folders/x0/9kxl__ld5lg60zg21w2jnc2c0000gn/T/ipykernel_48346/3714470853.py:56: FutureWarning: Pass y=[-0.01333142 -0.03370546 -0.04370847 ... -0.06151321 -0.05006428\n",
      " -0.03313618] as keyword args. From version 0.10 passing these as positional arguments will result in an error\n",
      "  spectral_centroids = librosa.feature.spectral_centroid(audio, sr=sr)\n",
      "/var/folders/x0/9kxl__ld5lg60zg21w2jnc2c0000gn/T/ipykernel_48346/3714470853.py:57: FutureWarning: Pass y=[-0.01333142 -0.03370546 -0.04370847 ... -0.06151321 -0.05006428\n",
      " -0.03313618] as keyword args. From version 0.10 passing these as positional arguments will result in an error\n",
      "  rolloff = librosa.feature.spectral_rolloff(audio, sr=sr)\n"
     ]
    },
    {
     "name": "stdout",
     "output_type": "stream",
     "text": [
      "processing track  3cwREafAVNjUEt0hdrNVkt 12 out of 100\n",
      "100% [............................................................................] 362861 / 362861"
     ]
    },
    {
     "name": "stderr",
     "output_type": "stream",
     "text": [
      "/Users/tejasbot/anaconda3/lib/python3.8/site-packages/librosa/util/decorators.py:88: UserWarning: PySoundFile failed. Trying audioread instead.\n",
      "  return f(*args, **kwargs)\n",
      "/var/folders/x0/9kxl__ld5lg60zg21w2jnc2c0000gn/T/ipykernel_48346/3714470853.py:56: FutureWarning: Pass y=[0.04225293 0.08937345 0.10024503 ... 0.01166257 0.00394632 0.        ] as keyword args. From version 0.10 passing these as positional arguments will result in an error\n",
      "  spectral_centroids = librosa.feature.spectral_centroid(audio, sr=sr)\n",
      "/var/folders/x0/9kxl__ld5lg60zg21w2jnc2c0000gn/T/ipykernel_48346/3714470853.py:57: FutureWarning: Pass y=[0.04225293 0.08937345 0.10024503 ... 0.01166257 0.00394632 0.        ] as keyword args. From version 0.10 passing these as positional arguments will result in an error\n",
      "  rolloff = librosa.feature.spectral_rolloff(audio, sr=sr)\n"
     ]
    },
    {
     "name": "stdout",
     "output_type": "stream",
     "text": [
      "processing track  07qLDO1aLSW9eSFbzuPfbp 13 out of 100\n",
      "100% [............................................................................] 362861 / 362861"
     ]
    },
    {
     "name": "stderr",
     "output_type": "stream",
     "text": [
      "/Users/tejasbot/anaconda3/lib/python3.8/site-packages/librosa/util/decorators.py:88: UserWarning: PySoundFile failed. Trying audioread instead.\n",
      "  return f(*args, **kwargs)\n",
      "/var/folders/x0/9kxl__ld5lg60zg21w2jnc2c0000gn/T/ipykernel_48346/3714470853.py:56: FutureWarning: Pass y=[-0.0098181   0.00498558  0.01437736 ... -0.0228899   0.00081647\n",
      "  0.        ] as keyword args. From version 0.10 passing these as positional arguments will result in an error\n",
      "  spectral_centroids = librosa.feature.spectral_centroid(audio, sr=sr)\n",
      "/var/folders/x0/9kxl__ld5lg60zg21w2jnc2c0000gn/T/ipykernel_48346/3714470853.py:57: FutureWarning: Pass y=[-0.0098181   0.00498558  0.01437736 ... -0.0228899   0.00081647\n",
      "  0.        ] as keyword args. From version 0.10 passing these as positional arguments will result in an error\n",
      "  rolloff = librosa.feature.spectral_rolloff(audio, sr=sr)\n"
     ]
    },
    {
     "name": "stdout",
     "output_type": "stream",
     "text": [
      "processing track  6l5gQLO52O2qh2oHoRpGNP 14 out of 100\n",
      "100% [............................................................................] 362861 / 362861"
     ]
    },
    {
     "name": "stderr",
     "output_type": "stream",
     "text": [
      "/Users/tejasbot/anaconda3/lib/python3.8/site-packages/librosa/util/decorators.py:88: UserWarning: PySoundFile failed. Trying audioread instead.\n",
      "  return f(*args, **kwargs)\n",
      "/var/folders/x0/9kxl__ld5lg60zg21w2jnc2c0000gn/T/ipykernel_48346/3714470853.py:56: FutureWarning: Pass y=[0.25282246 0.4869517  0.55490124 ... 0.03275721 0.03045525 0.02246246] as keyword args. From version 0.10 passing these as positional arguments will result in an error\n",
      "  spectral_centroids = librosa.feature.spectral_centroid(audio, sr=sr)\n",
      "/var/folders/x0/9kxl__ld5lg60zg21w2jnc2c0000gn/T/ipykernel_48346/3714470853.py:57: FutureWarning: Pass y=[0.25282246 0.4869517  0.55490124 ... 0.03275721 0.03045525 0.02246246] as keyword args. From version 0.10 passing these as positional arguments will result in an error\n",
      "  rolloff = librosa.feature.spectral_rolloff(audio, sr=sr)\n"
     ]
    },
    {
     "name": "stdout",
     "output_type": "stream",
     "text": [
      "processing track  1of6z31FFqkBzRDSE9i1La 15 out of 100\n",
      "100% [............................................................................] 362861 / 362861"
     ]
    },
    {
     "name": "stderr",
     "output_type": "stream",
     "text": [
      "/Users/tejasbot/anaconda3/lib/python3.8/site-packages/librosa/util/decorators.py:88: UserWarning: PySoundFile failed. Trying audioread instead.\n",
      "  return f(*args, **kwargs)\n",
      "/var/folders/x0/9kxl__ld5lg60zg21w2jnc2c0000gn/T/ipykernel_48346/3714470853.py:56: FutureWarning: Pass y=[0.04254388 0.07915755 0.07365561 ... 0.0426197  0.03948338 0.02974021] as keyword args. From version 0.10 passing these as positional arguments will result in an error\n",
      "  spectral_centroids = librosa.feature.spectral_centroid(audio, sr=sr)\n",
      "/var/folders/x0/9kxl__ld5lg60zg21w2jnc2c0000gn/T/ipykernel_48346/3714470853.py:57: FutureWarning: Pass y=[0.04254388 0.07915755 0.07365561 ... 0.0426197  0.03948338 0.02974021] as keyword args. From version 0.10 passing these as positional arguments will result in an error\n",
      "  rolloff = librosa.feature.spectral_rolloff(audio, sr=sr)\n"
     ]
    },
    {
     "name": "stdout",
     "output_type": "stream",
     "text": [
      "processing track  3ynqRejSij0vwlyKJ26nMr 16 out of 100\n",
      "100% [............................................................................] 362861 / 362861"
     ]
    },
    {
     "name": "stderr",
     "output_type": "stream",
     "text": [
      "/Users/tejasbot/anaconda3/lib/python3.8/site-packages/librosa/util/decorators.py:88: UserWarning: PySoundFile failed. Trying audioread instead.\n",
      "  return f(*args, **kwargs)\n",
      "/var/folders/x0/9kxl__ld5lg60zg21w2jnc2c0000gn/T/ipykernel_48346/3714470853.py:56: FutureWarning: Pass y=[-0.00386162 -0.00644703 -0.00511503 ... -0.1616876  -0.12019631\n",
      " -0.11319256] as keyword args. From version 0.10 passing these as positional arguments will result in an error\n",
      "  spectral_centroids = librosa.feature.spectral_centroid(audio, sr=sr)\n",
      "/var/folders/x0/9kxl__ld5lg60zg21w2jnc2c0000gn/T/ipykernel_48346/3714470853.py:57: FutureWarning: Pass y=[-0.00386162 -0.00644703 -0.00511503 ... -0.1616876  -0.12019631\n",
      " -0.11319256] as keyword args. From version 0.10 passing these as positional arguments will result in an error\n",
      "  rolloff = librosa.feature.spectral_rolloff(audio, sr=sr)\n"
     ]
    },
    {
     "name": "stdout",
     "output_type": "stream",
     "text": [
      "processing track  6nPyNtrzxD449lC98QsBce 17 out of 100\n",
      "100% [............................................................................] 362861 / 362861"
     ]
    },
    {
     "name": "stderr",
     "output_type": "stream",
     "text": [
      "/Users/tejasbot/anaconda3/lib/python3.8/site-packages/librosa/util/decorators.py:88: UserWarning: PySoundFile failed. Trying audioread instead.\n",
      "  return f(*args, **kwargs)\n",
      "/var/folders/x0/9kxl__ld5lg60zg21w2jnc2c0000gn/T/ipykernel_48346/3714470853.py:56: FutureWarning: Pass y=[-0.06492576 -0.10368126 -0.07418521 ... -0.05325019 -0.0546574\n",
      " -0.05837198] as keyword args. From version 0.10 passing these as positional arguments will result in an error\n",
      "  spectral_centroids = librosa.feature.spectral_centroid(audio, sr=sr)\n",
      "/var/folders/x0/9kxl__ld5lg60zg21w2jnc2c0000gn/T/ipykernel_48346/3714470853.py:57: FutureWarning: Pass y=[-0.06492576 -0.10368126 -0.07418521 ... -0.05325019 -0.0546574\n",
      " -0.05837198] as keyword args. From version 0.10 passing these as positional arguments will result in an error\n",
      "  rolloff = librosa.feature.spectral_rolloff(audio, sr=sr)\n"
     ]
    },
    {
     "name": "stdout",
     "output_type": "stream",
     "text": [
      "processing track  7tUwh1qY6yDFXDRCy8D9CH 18 out of 100\n",
      "100% [............................................................................] 362861 / 362861"
     ]
    },
    {
     "name": "stderr",
     "output_type": "stream",
     "text": [
      "/Users/tejasbot/anaconda3/lib/python3.8/site-packages/librosa/util/decorators.py:88: UserWarning: PySoundFile failed. Trying audioread instead.\n",
      "  return f(*args, **kwargs)\n",
      "/var/folders/x0/9kxl__ld5lg60zg21w2jnc2c0000gn/T/ipykernel_48346/3714470853.py:56: FutureWarning: Pass y=[0.01814192 0.03824118 0.04770851 ... 0.02264526 0.01471295 0.        ] as keyword args. From version 0.10 passing these as positional arguments will result in an error\n",
      "  spectral_centroids = librosa.feature.spectral_centroid(audio, sr=sr)\n",
      "/var/folders/x0/9kxl__ld5lg60zg21w2jnc2c0000gn/T/ipykernel_48346/3714470853.py:57: FutureWarning: Pass y=[0.01814192 0.03824118 0.04770851 ... 0.02264526 0.01471295 0.        ] as keyword args. From version 0.10 passing these as positional arguments will result in an error\n",
      "  rolloff = librosa.feature.spectral_rolloff(audio, sr=sr)\n"
     ]
    },
    {
     "name": "stdout",
     "output_type": "stream",
     "text": [
      "processing track  6PrKZUXJPmBiobMN44yR8Y 19 out of 100\n",
      "100% [............................................................................] 362861 / 362861"
     ]
    },
    {
     "name": "stderr",
     "output_type": "stream",
     "text": [
      "/Users/tejasbot/anaconda3/lib/python3.8/site-packages/librosa/util/decorators.py:88: UserWarning: PySoundFile failed. Trying audioread instead.\n",
      "  return f(*args, **kwargs)\n",
      "/var/folders/x0/9kxl__ld5lg60zg21w2jnc2c0000gn/T/ipykernel_48346/3714470853.py:56: FutureWarning: Pass y=[-0.04894732 -0.04759124  0.03629196 ... -0.00052145  0.0338317\n",
      "  0.077256  ] as keyword args. From version 0.10 passing these as positional arguments will result in an error\n",
      "  spectral_centroids = librosa.feature.spectral_centroid(audio, sr=sr)\n",
      "/var/folders/x0/9kxl__ld5lg60zg21w2jnc2c0000gn/T/ipykernel_48346/3714470853.py:57: FutureWarning: Pass y=[-0.04894732 -0.04759124  0.03629196 ... -0.00052145  0.0338317\n",
      "  0.077256  ] as keyword args. From version 0.10 passing these as positional arguments will result in an error\n",
      "  rolloff = librosa.feature.spectral_rolloff(audio, sr=sr)\n"
     ]
    },
    {
     "name": "stdout",
     "output_type": "stream",
     "text": [
      "processing track  6tGtkJtXZytZhugipYJTCj 20 out of 100\n",
      "100% [............................................................................] 362861 / 362861"
     ]
    },
    {
     "name": "stderr",
     "output_type": "stream",
     "text": [
      "/Users/tejasbot/anaconda3/lib/python3.8/site-packages/librosa/util/decorators.py:88: UserWarning: PySoundFile failed. Trying audioread instead.\n",
      "  return f(*args, **kwargs)\n",
      "/var/folders/x0/9kxl__ld5lg60zg21w2jnc2c0000gn/T/ipykernel_48346/3714470853.py:56: FutureWarning: Pass y=[ 0.00438691  0.02325799  0.03266291 ... -0.1786109  -0.15253076\n",
      " -0.10691708] as keyword args. From version 0.10 passing these as positional arguments will result in an error\n",
      "  spectral_centroids = librosa.feature.spectral_centroid(audio, sr=sr)\n",
      "/var/folders/x0/9kxl__ld5lg60zg21w2jnc2c0000gn/T/ipykernel_48346/3714470853.py:57: FutureWarning: Pass y=[ 0.00438691  0.02325799  0.03266291 ... -0.1786109  -0.15253076\n",
      " -0.10691708] as keyword args. From version 0.10 passing these as positional arguments will result in an error\n",
      "  rolloff = librosa.feature.spectral_rolloff(audio, sr=sr)\n"
     ]
    },
    {
     "name": "stdout",
     "output_type": "stream",
     "text": [
      "processing track  6wjGdF8J2bMCH4yBwmWK1i 21 out of 100\n",
      "100% [............................................................................] 363885 / 363885"
     ]
    },
    {
     "name": "stderr",
     "output_type": "stream",
     "text": [
      "/Users/tejasbot/anaconda3/lib/python3.8/site-packages/librosa/util/decorators.py:88: UserWarning: PySoundFile failed. Trying audioread instead.\n",
      "  return f(*args, **kwargs)\n",
      "/var/folders/x0/9kxl__ld5lg60zg21w2jnc2c0000gn/T/ipykernel_48346/3714470853.py:56: FutureWarning: Pass y=[0.03173646 0.04652201 0.0160198  ... 0.13340616 0.18868892 0.        ] as keyword args. From version 0.10 passing these as positional arguments will result in an error\n",
      "  spectral_centroids = librosa.feature.spectral_centroid(audio, sr=sr)\n",
      "/var/folders/x0/9kxl__ld5lg60zg21w2jnc2c0000gn/T/ipykernel_48346/3714470853.py:57: FutureWarning: Pass y=[0.03173646 0.04652201 0.0160198  ... 0.13340616 0.18868892 0.        ] as keyword args. From version 0.10 passing these as positional arguments will result in an error\n",
      "  rolloff = librosa.feature.spectral_rolloff(audio, sr=sr)\n"
     ]
    },
    {
     "name": "stdout",
     "output_type": "stream",
     "text": [
      "processing track  14orHIVAJN6F8QR9OuQKUS 22 out of 100\n",
      "100% [............................................................................] 362861 / 362861"
     ]
    },
    {
     "name": "stderr",
     "output_type": "stream",
     "text": [
      "/Users/tejasbot/anaconda3/lib/python3.8/site-packages/librosa/util/decorators.py:88: UserWarning: PySoundFile failed. Trying audioread instead.\n",
      "  return f(*args, **kwargs)\n",
      "/var/folders/x0/9kxl__ld5lg60zg21w2jnc2c0000gn/T/ipykernel_48346/3714470853.py:56: FutureWarning: Pass y=[ 0.03105112  0.0370175   0.02394905 ... -0.02881101 -0.0272786\n",
      "  0.        ] as keyword args. From version 0.10 passing these as positional arguments will result in an error\n",
      "  spectral_centroids = librosa.feature.spectral_centroid(audio, sr=sr)\n",
      "/var/folders/x0/9kxl__ld5lg60zg21w2jnc2c0000gn/T/ipykernel_48346/3714470853.py:57: FutureWarning: Pass y=[ 0.03105112  0.0370175   0.02394905 ... -0.02881101 -0.0272786\n",
      "  0.        ] as keyword args. From version 0.10 passing these as positional arguments will result in an error\n",
      "  rolloff = librosa.feature.spectral_rolloff(audio, sr=sr)\n"
     ]
    },
    {
     "name": "stdout",
     "output_type": "stream",
     "text": [
      "processing track  0Q8udHpBmrfzgFTTQld9GG 23 out of 100\n",
      "100% [............................................................................] 362861 / 362861"
     ]
    },
    {
     "name": "stderr",
     "output_type": "stream",
     "text": [
      "/Users/tejasbot/anaconda3/lib/python3.8/site-packages/librosa/util/decorators.py:88: UserWarning: PySoundFile failed. Trying audioread instead.\n",
      "  return f(*args, **kwargs)\n",
      "/var/folders/x0/9kxl__ld5lg60zg21w2jnc2c0000gn/T/ipykernel_48346/3714470853.py:56: FutureWarning: Pass y=[ 0.04344257  0.06642491  0.03109781 ... -0.00233879 -0.00123339\n",
      " -0.00146569] as keyword args. From version 0.10 passing these as positional arguments will result in an error\n",
      "  spectral_centroids = librosa.feature.spectral_centroid(audio, sr=sr)\n",
      "/var/folders/x0/9kxl__ld5lg60zg21w2jnc2c0000gn/T/ipykernel_48346/3714470853.py:57: FutureWarning: Pass y=[ 0.04344257  0.06642491  0.03109781 ... -0.00233879 -0.00123339\n",
      " -0.00146569] as keyword args. From version 0.10 passing these as positional arguments will result in an error\n",
      "  rolloff = librosa.feature.spectral_rolloff(audio, sr=sr)\n"
     ]
    },
    {
     "name": "stdout",
     "output_type": "stream",
     "text": [
      "processing track  4rl0Zp21AhOflFl6ttv6Ou 24 out of 100\n",
      "100% [............................................................................] 362861 / 362861"
     ]
    },
    {
     "name": "stderr",
     "output_type": "stream",
     "text": [
      "/Users/tejasbot/anaconda3/lib/python3.8/site-packages/librosa/util/decorators.py:88: UserWarning: PySoundFile failed. Trying audioread instead.\n",
      "  return f(*args, **kwargs)\n",
      "/var/folders/x0/9kxl__ld5lg60zg21w2jnc2c0000gn/T/ipykernel_48346/3714470853.py:56: FutureWarning: Pass y=[-0.02635042 -0.04748361 -0.05127337 ... -0.15478103 -0.16600965\n",
      "  0.        ] as keyword args. From version 0.10 passing these as positional arguments will result in an error\n",
      "  spectral_centroids = librosa.feature.spectral_centroid(audio, sr=sr)\n",
      "/var/folders/x0/9kxl__ld5lg60zg21w2jnc2c0000gn/T/ipykernel_48346/3714470853.py:57: FutureWarning: Pass y=[-0.02635042 -0.04748361 -0.05127337 ... -0.15478103 -0.16600965\n",
      "  0.        ] as keyword args. From version 0.10 passing these as positional arguments will result in an error\n",
      "  rolloff = librosa.feature.spectral_rolloff(audio, sr=sr)\n"
     ]
    },
    {
     "name": "stdout",
     "output_type": "stream",
     "text": [
      "processing track  5A99IlC4470e4X4OvUJwaF 25 out of 100\n",
      "100% [............................................................................] 362861 / 362861"
     ]
    },
    {
     "name": "stderr",
     "output_type": "stream",
     "text": [
      "/Users/tejasbot/anaconda3/lib/python3.8/site-packages/librosa/util/decorators.py:88: UserWarning: PySoundFile failed. Trying audioread instead.\n",
      "  return f(*args, **kwargs)\n",
      "/var/folders/x0/9kxl__ld5lg60zg21w2jnc2c0000gn/T/ipykernel_48346/3714470853.py:56: FutureWarning: Pass y=[ 0.02153602  0.02625142  0.00747708 ... -0.02120561 -0.01532009\n",
      " -0.01125814] as keyword args. From version 0.10 passing these as positional arguments will result in an error\n",
      "  spectral_centroids = librosa.feature.spectral_centroid(audio, sr=sr)\n",
      "/var/folders/x0/9kxl__ld5lg60zg21w2jnc2c0000gn/T/ipykernel_48346/3714470853.py:57: FutureWarning: Pass y=[ 0.02153602  0.02625142  0.00747708 ... -0.02120561 -0.01532009\n",
      " -0.01125814] as keyword args. From version 0.10 passing these as positional arguments will result in an error\n",
      "  rolloff = librosa.feature.spectral_rolloff(audio, sr=sr)\n"
     ]
    },
    {
     "name": "stdout",
     "output_type": "stream",
     "text": [
      "processing track  4trFGwjCPmZxCgoJgxaFZX 26 out of 100\n",
      "100% [............................................................................] 362861 / 362861"
     ]
    },
    {
     "name": "stderr",
     "output_type": "stream",
     "text": [
      "/Users/tejasbot/anaconda3/lib/python3.8/site-packages/librosa/util/decorators.py:88: UserWarning: PySoundFile failed. Trying audioread instead.\n",
      "  return f(*args, **kwargs)\n",
      "/var/folders/x0/9kxl__ld5lg60zg21w2jnc2c0000gn/T/ipykernel_48346/3714470853.py:56: FutureWarning: Pass y=[-0.05286258 -0.08809473 -0.07883769 ...  0.01398076  0.01352483\n",
      "  0.        ] as keyword args. From version 0.10 passing these as positional arguments will result in an error\n",
      "  spectral_centroids = librosa.feature.spectral_centroid(audio, sr=sr)\n",
      "/var/folders/x0/9kxl__ld5lg60zg21w2jnc2c0000gn/T/ipykernel_48346/3714470853.py:57: FutureWarning: Pass y=[-0.05286258 -0.08809473 -0.07883769 ...  0.01398076  0.01352483\n",
      "  0.        ] as keyword args. From version 0.10 passing these as positional arguments will result in an error\n",
      "  rolloff = librosa.feature.spectral_rolloff(audio, sr=sr)\n"
     ]
    },
    {
     "name": "stdout",
     "output_type": "stream",
     "text": [
      "processing track  7mSr5J5gNkZtZrv7mKhTvz 27 out of 100\n",
      "100% [............................................................................] 362861 / 362861"
     ]
    },
    {
     "name": "stderr",
     "output_type": "stream",
     "text": [
      "/Users/tejasbot/anaconda3/lib/python3.8/site-packages/librosa/util/decorators.py:88: UserWarning: PySoundFile failed. Trying audioread instead.\n",
      "  return f(*args, **kwargs)\n",
      "/var/folders/x0/9kxl__ld5lg60zg21w2jnc2c0000gn/T/ipykernel_48346/3714470853.py:56: FutureWarning: Pass y=[0.00044953 0.00800029 0.00847134 ... 0.10912411 0.08824696 0.08448488] as keyword args. From version 0.10 passing these as positional arguments will result in an error\n",
      "  spectral_centroids = librosa.feature.spectral_centroid(audio, sr=sr)\n",
      "/var/folders/x0/9kxl__ld5lg60zg21w2jnc2c0000gn/T/ipykernel_48346/3714470853.py:57: FutureWarning: Pass y=[0.00044953 0.00800029 0.00847134 ... 0.10912411 0.08824696 0.08448488] as keyword args. From version 0.10 passing these as positional arguments will result in an error\n",
      "  rolloff = librosa.feature.spectral_rolloff(audio, sr=sr)\n"
     ]
    },
    {
     "name": "stdout",
     "output_type": "stream",
     "text": [
      "processing track  05AHcu91xUExe03IzpOO9M 28 out of 100\n",
      "100% [............................................................................] 362861 / 362861"
     ]
    },
    {
     "name": "stderr",
     "output_type": "stream",
     "text": [
      "/Users/tejasbot/anaconda3/lib/python3.8/site-packages/librosa/util/decorators.py:88: UserWarning: PySoundFile failed. Trying audioread instead.\n",
      "  return f(*args, **kwargs)\n",
      "/var/folders/x0/9kxl__ld5lg60zg21w2jnc2c0000gn/T/ipykernel_48346/3714470853.py:56: FutureWarning: Pass y=[-0.05798667 -0.09529357 -0.06678993 ...  0.01218288  0.01813914\n",
      "  0.02598237] as keyword args. From version 0.10 passing these as positional arguments will result in an error\n",
      "  spectral_centroids = librosa.feature.spectral_centroid(audio, sr=sr)\n",
      "/var/folders/x0/9kxl__ld5lg60zg21w2jnc2c0000gn/T/ipykernel_48346/3714470853.py:57: FutureWarning: Pass y=[-0.05798667 -0.09529357 -0.06678993 ...  0.01218288  0.01813914\n",
      "  0.02598237] as keyword args. From version 0.10 passing these as positional arguments will result in an error\n",
      "  rolloff = librosa.feature.spectral_rolloff(audio, sr=sr)\n"
     ]
    },
    {
     "name": "stdout",
     "output_type": "stream",
     "text": [
      "processing track  7hLoPUlg9dcWIhmwWN8t8h 29 out of 100\n",
      "100% [............................................................................] 362861 / 362861"
     ]
    },
    {
     "name": "stderr",
     "output_type": "stream",
     "text": [
      "/Users/tejasbot/anaconda3/lib/python3.8/site-packages/librosa/util/decorators.py:88: UserWarning: PySoundFile failed. Trying audioread instead.\n",
      "  return f(*args, **kwargs)\n",
      "/var/folders/x0/9kxl__ld5lg60zg21w2jnc2c0000gn/T/ipykernel_48346/3714470853.py:56: FutureWarning: Pass y=[-0.09093911 -0.15408234 -0.13139446 ...  0.00933433  0.02023049\n",
      "  0.03447589] as keyword args. From version 0.10 passing these as positional arguments will result in an error\n",
      "  spectral_centroids = librosa.feature.spectral_centroid(audio, sr=sr)\n",
      "/var/folders/x0/9kxl__ld5lg60zg21w2jnc2c0000gn/T/ipykernel_48346/3714470853.py:57: FutureWarning: Pass y=[-0.09093911 -0.15408234 -0.13139446 ...  0.00933433  0.02023049\n",
      "  0.03447589] as keyword args. From version 0.10 passing these as positional arguments will result in an error\n",
      "  rolloff = librosa.feature.spectral_rolloff(audio, sr=sr)\n"
     ]
    },
    {
     "name": "stdout",
     "output_type": "stream",
     "text": [
      "processing track  4nK078FMP0vFdgL0s6BT7G 30 out of 100\n",
      "100% [............................................................................] 362861 / 362861"
     ]
    },
    {
     "name": "stderr",
     "output_type": "stream",
     "text": [
      "/Users/tejasbot/anaconda3/lib/python3.8/site-packages/librosa/util/decorators.py:88: UserWarning: PySoundFile failed. Trying audioread instead.\n",
      "  return f(*args, **kwargs)\n",
      "/var/folders/x0/9kxl__ld5lg60zg21w2jnc2c0000gn/T/ipykernel_48346/3714470853.py:56: FutureWarning: Pass y=[-0.01340387 -0.02704984 -0.0320758  ... -0.05127562 -0.0566951\n",
      "  0.        ] as keyword args. From version 0.10 passing these as positional arguments will result in an error\n",
      "  spectral_centroids = librosa.feature.spectral_centroid(audio, sr=sr)\n",
      "/var/folders/x0/9kxl__ld5lg60zg21w2jnc2c0000gn/T/ipykernel_48346/3714470853.py:57: FutureWarning: Pass y=[-0.01340387 -0.02704984 -0.0320758  ... -0.05127562 -0.0566951\n",
      "  0.        ] as keyword args. From version 0.10 passing these as positional arguments will result in an error\n",
      "  rolloff = librosa.feature.spectral_rolloff(audio, sr=sr)\n"
     ]
    },
    {
     "name": "stdout",
     "output_type": "stream",
     "text": [
      "processing track  5zNFFrj2TvLyfbAUBLvEgj 31 out of 100\n",
      "100% [............................................................................] 362861 / 362861"
     ]
    },
    {
     "name": "stderr",
     "output_type": "stream",
     "text": [
      "/Users/tejasbot/anaconda3/lib/python3.8/site-packages/librosa/util/decorators.py:88: UserWarning: PySoundFile failed. Trying audioread instead.\n",
      "  return f(*args, **kwargs)\n",
      "/var/folders/x0/9kxl__ld5lg60zg21w2jnc2c0000gn/T/ipykernel_48346/3714470853.py:56: FutureWarning: Pass y=[-0.00531628 -0.00864719 -0.00748169 ... -0.05355972 -0.05453296\n",
      " -0.05636973] as keyword args. From version 0.10 passing these as positional arguments will result in an error\n",
      "  spectral_centroids = librosa.feature.spectral_centroid(audio, sr=sr)\n",
      "/var/folders/x0/9kxl__ld5lg60zg21w2jnc2c0000gn/T/ipykernel_48346/3714470853.py:57: FutureWarning: Pass y=[-0.00531628 -0.00864719 -0.00748169 ... -0.05355972 -0.05453296\n",
      " -0.05636973] as keyword args. From version 0.10 passing these as positional arguments will result in an error\n",
      "  rolloff = librosa.feature.spectral_rolloff(audio, sr=sr)\n"
     ]
    },
    {
     "name": "stdout",
     "output_type": "stream",
     "text": [
      "processing track  7k6O37P7MXSRWRRbdb2v1o 32 out of 100\n",
      "100% [............................................................................] 362861 / 362861"
     ]
    },
    {
     "name": "stderr",
     "output_type": "stream",
     "text": [
      "/Users/tejasbot/anaconda3/lib/python3.8/site-packages/librosa/util/decorators.py:88: UserWarning: PySoundFile failed. Trying audioread instead.\n",
      "  return f(*args, **kwargs)\n",
      "/var/folders/x0/9kxl__ld5lg60zg21w2jnc2c0000gn/T/ipykernel_48346/3714470853.py:56: FutureWarning: Pass y=[0.02988725 0.04539654 0.03334829 ... 0.03515028 0.03366877 0.0364663 ] as keyword args. From version 0.10 passing these as positional arguments will result in an error\n",
      "  spectral_centroids = librosa.feature.spectral_centroid(audio, sr=sr)\n",
      "/var/folders/x0/9kxl__ld5lg60zg21w2jnc2c0000gn/T/ipykernel_48346/3714470853.py:57: FutureWarning: Pass y=[0.02988725 0.04539654 0.03334829 ... 0.03515028 0.03366877 0.0364663 ] as keyword args. From version 0.10 passing these as positional arguments will result in an error\n",
      "  rolloff = librosa.feature.spectral_rolloff(audio, sr=sr)\n"
     ]
    },
    {
     "name": "stdout",
     "output_type": "stream",
     "text": [
      "processing track  4RW7EZi7SHSLRwvn1Q8Mqj 33 out of 100\n",
      "100% [............................................................................] 363885 / 363885"
     ]
    },
    {
     "name": "stderr",
     "output_type": "stream",
     "text": [
      "/Users/tejasbot/anaconda3/lib/python3.8/site-packages/librosa/util/decorators.py:88: UserWarning: PySoundFile failed. Trying audioread instead.\n",
      "  return f(*args, **kwargs)\n"
     ]
    },
    {
     "ename": "KeyboardInterrupt",
     "evalue": "",
     "output_type": "error",
     "traceback": [
      "\u001b[0;31m---------------------------------------------------------------------------\u001b[0m",
      "\u001b[0;31mKeyboardInterrupt\u001b[0m                         Traceback (most recent call last)",
      "\u001b[0;32m/var/folders/x0/9kxl__ld5lg60zg21w2jnc2c0000gn/T/ipykernel_48346/2548429608.py\u001b[0m in \u001b[0;36m<module>\u001b[0;34m\u001b[0m\n\u001b[0;32m----> 1\u001b[0;31m \u001b[0mtestingdf_nodsp\u001b[0m\u001b[0;34m=\u001b[0m \u001b[0mgen_extensive_audio_features\u001b[0m\u001b[0;34m(\u001b[0m\u001b[0msp\u001b[0m\u001b[0;34m,\u001b[0m \u001b[0mtrackids\u001b[0m\u001b[0;34m,\u001b[0m \u001b[0mpvalues\u001b[0m\u001b[0;34m=\u001b[0m \u001b[0;34m[\u001b[0m\u001b[0;36m10\u001b[0m\u001b[0;34m,\u001b[0m\u001b[0;36m25\u001b[0m\u001b[0;34m,\u001b[0m\u001b[0;36m50\u001b[0m\u001b[0;34m,\u001b[0m\u001b[0;36m75\u001b[0m\u001b[0;34m,\u001b[0m\u001b[0;36m90\u001b[0m\u001b[0;34m]\u001b[0m\u001b[0;34m,\u001b[0m \u001b[0mperform_dsp\u001b[0m \u001b[0;34m=\u001b[0m \u001b[0;32mFalse\u001b[0m\u001b[0;34m)\u001b[0m\u001b[0;34m\u001b[0m\u001b[0;34m\u001b[0m\u001b[0m\n\u001b[0m",
      "\u001b[0;32m/var/folders/x0/9kxl__ld5lg60zg21w2jnc2c0000gn/T/ipykernel_48346/2945552236.py\u001b[0m in \u001b[0;36mgen_extensive_audio_features\u001b[0;34m(sp, trackids, pvalues, perform_dsp)\u001b[0m\n\u001b[1;32m      3\u001b[0m     \u001b[0;32mfor\u001b[0m \u001b[0mind\u001b[0m\u001b[0;34m,\u001b[0m \u001b[0mt_id\u001b[0m \u001b[0;32min\u001b[0m \u001b[0menumerate\u001b[0m\u001b[0;34m(\u001b[0m\u001b[0mtrackids\u001b[0m\u001b[0;34m)\u001b[0m\u001b[0;34m:\u001b[0m\u001b[0;34m\u001b[0m\u001b[0;34m\u001b[0m\u001b[0m\n\u001b[1;32m      4\u001b[0m         \u001b[0mprint\u001b[0m\u001b[0;34m(\u001b[0m\u001b[0;34m'processing track '\u001b[0m\u001b[0;34m,\u001b[0m \u001b[0mt_id\u001b[0m\u001b[0;34m,\u001b[0m \u001b[0;34m'{f} out of {e}'\u001b[0m\u001b[0;34m.\u001b[0m\u001b[0mformat\u001b[0m\u001b[0;34m(\u001b[0m\u001b[0mf\u001b[0m\u001b[0;34m=\u001b[0m\u001b[0mind\u001b[0m\u001b[0;34m,\u001b[0m \u001b[0me\u001b[0m\u001b[0;34m=\u001b[0m\u001b[0mlen\u001b[0m\u001b[0;34m(\u001b[0m\u001b[0mtrackids\u001b[0m\u001b[0;34m)\u001b[0m\u001b[0;34m)\u001b[0m\u001b[0;34m)\u001b[0m\u001b[0;34m\u001b[0m\u001b[0;34m\u001b[0m\u001b[0m\n\u001b[0;32m----> 5\u001b[0;31m         \u001b[0mfeatures_all_tracks\u001b[0m\u001b[0;34m.\u001b[0m\u001b[0mappend\u001b[0m\u001b[0;34m(\u001b[0m\u001b[0mget_extensive_audio_features\u001b[0m\u001b[0;34m(\u001b[0m\u001b[0msp\u001b[0m\u001b[0;34m,\u001b[0m \u001b[0mt_id\u001b[0m\u001b[0;34m,\u001b[0m \u001b[0mpvalues\u001b[0m\u001b[0;34m=\u001b[0m \u001b[0;34m[\u001b[0m\u001b[0;36m10\u001b[0m\u001b[0;34m,\u001b[0m\u001b[0;36m25\u001b[0m\u001b[0;34m,\u001b[0m\u001b[0;36m50\u001b[0m\u001b[0;34m,\u001b[0m\u001b[0;36m75\u001b[0m\u001b[0;34m,\u001b[0m\u001b[0;36m90\u001b[0m\u001b[0;34m]\u001b[0m\u001b[0;34m,\u001b[0m \u001b[0mperform_dsp\u001b[0m \u001b[0;34m=\u001b[0m \u001b[0;32mTrue\u001b[0m\u001b[0;34m)\u001b[0m\u001b[0;34m)\u001b[0m\u001b[0;34m\u001b[0m\u001b[0;34m\u001b[0m\u001b[0m\n\u001b[0m\u001b[1;32m      6\u001b[0m \u001b[0;34m\u001b[0m\u001b[0m\n\u001b[1;32m      7\u001b[0m     \u001b[0mdf_audio_extra\u001b[0m \u001b[0;34m=\u001b[0m \u001b[0mpandas\u001b[0m\u001b[0;34m.\u001b[0m\u001b[0mDataFrame\u001b[0m\u001b[0;34m(\u001b[0m\u001b[0mfeatures_all_tracks\u001b[0m\u001b[0;34m)\u001b[0m\u001b[0;34m\u001b[0m\u001b[0;34m\u001b[0m\u001b[0m\n",
      "\u001b[0;32m/var/folders/x0/9kxl__ld5lg60zg21w2jnc2c0000gn/T/ipykernel_48346/3714470853.py\u001b[0m in \u001b[0;36mget_extensive_audio_features\u001b[0;34m(sp, sample_trackid, pvalues, perform_dsp)\u001b[0m\n\u001b[1;32m     50\u001b[0m         \u001b[0msample_track\u001b[0m \u001b[0;34m=\u001b[0m \u001b[0msp\u001b[0m\u001b[0;34m.\u001b[0m\u001b[0mtrack\u001b[0m\u001b[0;34m(\u001b[0m\u001b[0msample_trackid\u001b[0m\u001b[0;34m)\u001b[0m\u001b[0;34m\u001b[0m\u001b[0;34m\u001b[0m\u001b[0m\n\u001b[1;32m     51\u001b[0m         \u001b[0maudio_file\u001b[0m \u001b[0;34m=\u001b[0m \u001b[0mwget\u001b[0m\u001b[0;34m.\u001b[0m\u001b[0mdownload\u001b[0m\u001b[0;34m(\u001b[0m\u001b[0msample_track\u001b[0m\u001b[0;34m[\u001b[0m\u001b[0;34m'preview_url'\u001b[0m\u001b[0;34m]\u001b[0m\u001b[0;34m)\u001b[0m\u001b[0;34m\u001b[0m\u001b[0;34m\u001b[0m\u001b[0m\n\u001b[0;32m---> 52\u001b[0;31m         \u001b[0maudio\u001b[0m\u001b[0;34m,\u001b[0m \u001b[0msr\u001b[0m  \u001b[0;34m=\u001b[0m \u001b[0mlibrosa\u001b[0m\u001b[0;34m.\u001b[0m\u001b[0mload\u001b[0m\u001b[0;34m(\u001b[0m\u001b[0maudio_file\u001b[0m\u001b[0;34m)\u001b[0m\u001b[0;34m\u001b[0m\u001b[0;34m\u001b[0m\u001b[0m\n\u001b[0m\u001b[1;32m     53\u001b[0m         \u001b[0mos\u001b[0m\u001b[0;34m.\u001b[0m\u001b[0mremove\u001b[0m\u001b[0;34m(\u001b[0m\u001b[0maudio_file\u001b[0m\u001b[0;34m)\u001b[0m\u001b[0;34m\u001b[0m\u001b[0;34m\u001b[0m\u001b[0m\n\u001b[1;32m     54\u001b[0m \u001b[0;34m\u001b[0m\u001b[0m\n",
      "\u001b[0;32m~/anaconda3/lib/python3.8/site-packages/librosa/util/decorators.py\u001b[0m in \u001b[0;36minner_f\u001b[0;34m(*args, **kwargs)\u001b[0m\n\u001b[1;32m     86\u001b[0m             \u001b[0mextra_args\u001b[0m \u001b[0;34m=\u001b[0m \u001b[0mlen\u001b[0m\u001b[0;34m(\u001b[0m\u001b[0margs\u001b[0m\u001b[0;34m)\u001b[0m \u001b[0;34m-\u001b[0m \u001b[0mlen\u001b[0m\u001b[0;34m(\u001b[0m\u001b[0mall_args\u001b[0m\u001b[0;34m)\u001b[0m\u001b[0;34m\u001b[0m\u001b[0;34m\u001b[0m\u001b[0m\n\u001b[1;32m     87\u001b[0m             \u001b[0;32mif\u001b[0m \u001b[0mextra_args\u001b[0m \u001b[0;34m<=\u001b[0m \u001b[0;36m0\u001b[0m\u001b[0;34m:\u001b[0m\u001b[0;34m\u001b[0m\u001b[0;34m\u001b[0m\u001b[0m\n\u001b[0;32m---> 88\u001b[0;31m                 \u001b[0;32mreturn\u001b[0m \u001b[0mf\u001b[0m\u001b[0;34m(\u001b[0m\u001b[0;34m*\u001b[0m\u001b[0margs\u001b[0m\u001b[0;34m,\u001b[0m \u001b[0;34m**\u001b[0m\u001b[0mkwargs\u001b[0m\u001b[0;34m)\u001b[0m\u001b[0;34m\u001b[0m\u001b[0;34m\u001b[0m\u001b[0m\n\u001b[0m\u001b[1;32m     89\u001b[0m \u001b[0;34m\u001b[0m\u001b[0m\n\u001b[1;32m     90\u001b[0m             \u001b[0;31m# extra_args > 0\u001b[0m\u001b[0;34m\u001b[0m\u001b[0;34m\u001b[0m\u001b[0;34m\u001b[0m\u001b[0m\n",
      "\u001b[0;32m~/anaconda3/lib/python3.8/site-packages/librosa/core/audio.py\u001b[0m in \u001b[0;36mload\u001b[0;34m(path, sr, mono, offset, duration, dtype, res_type)\u001b[0m\n\u001b[1;32m    181\u001b[0m \u001b[0;34m\u001b[0m\u001b[0m\n\u001b[1;32m    182\u001b[0m     \u001b[0;32mif\u001b[0m \u001b[0msr\u001b[0m \u001b[0;32mis\u001b[0m \u001b[0;32mnot\u001b[0m \u001b[0;32mNone\u001b[0m\u001b[0;34m:\u001b[0m\u001b[0;34m\u001b[0m\u001b[0;34m\u001b[0m\u001b[0m\n\u001b[0;32m--> 183\u001b[0;31m         \u001b[0my\u001b[0m \u001b[0;34m=\u001b[0m \u001b[0mresample\u001b[0m\u001b[0;34m(\u001b[0m\u001b[0my\u001b[0m\u001b[0;34m,\u001b[0m \u001b[0morig_sr\u001b[0m\u001b[0;34m=\u001b[0m\u001b[0msr_native\u001b[0m\u001b[0;34m,\u001b[0m \u001b[0mtarget_sr\u001b[0m\u001b[0;34m=\u001b[0m\u001b[0msr\u001b[0m\u001b[0;34m,\u001b[0m \u001b[0mres_type\u001b[0m\u001b[0;34m=\u001b[0m\u001b[0mres_type\u001b[0m\u001b[0;34m)\u001b[0m\u001b[0;34m\u001b[0m\u001b[0;34m\u001b[0m\u001b[0m\n\u001b[0m\u001b[1;32m    184\u001b[0m \u001b[0;34m\u001b[0m\u001b[0m\n\u001b[1;32m    185\u001b[0m     \u001b[0;32melse\u001b[0m\u001b[0;34m:\u001b[0m\u001b[0;34m\u001b[0m\u001b[0;34m\u001b[0m\u001b[0m\n",
      "\u001b[0;32m~/anaconda3/lib/python3.8/site-packages/librosa/util/decorators.py\u001b[0m in \u001b[0;36minner_f\u001b[0;34m(*args, **kwargs)\u001b[0m\n\u001b[1;32m     86\u001b[0m             \u001b[0mextra_args\u001b[0m \u001b[0;34m=\u001b[0m \u001b[0mlen\u001b[0m\u001b[0;34m(\u001b[0m\u001b[0margs\u001b[0m\u001b[0;34m)\u001b[0m \u001b[0;34m-\u001b[0m \u001b[0mlen\u001b[0m\u001b[0;34m(\u001b[0m\u001b[0mall_args\u001b[0m\u001b[0;34m)\u001b[0m\u001b[0;34m\u001b[0m\u001b[0;34m\u001b[0m\u001b[0m\n\u001b[1;32m     87\u001b[0m             \u001b[0;32mif\u001b[0m \u001b[0mextra_args\u001b[0m \u001b[0;34m<=\u001b[0m \u001b[0;36m0\u001b[0m\u001b[0;34m:\u001b[0m\u001b[0;34m\u001b[0m\u001b[0;34m\u001b[0m\u001b[0m\n\u001b[0;32m---> 88\u001b[0;31m                 \u001b[0;32mreturn\u001b[0m \u001b[0mf\u001b[0m\u001b[0;34m(\u001b[0m\u001b[0;34m*\u001b[0m\u001b[0margs\u001b[0m\u001b[0;34m,\u001b[0m \u001b[0;34m**\u001b[0m\u001b[0mkwargs\u001b[0m\u001b[0;34m)\u001b[0m\u001b[0;34m\u001b[0m\u001b[0;34m\u001b[0m\u001b[0m\n\u001b[0m\u001b[1;32m     89\u001b[0m \u001b[0;34m\u001b[0m\u001b[0m\n\u001b[1;32m     90\u001b[0m             \u001b[0;31m# extra_args > 0\u001b[0m\u001b[0;34m\u001b[0m\u001b[0;34m\u001b[0m\u001b[0;34m\u001b[0m\u001b[0m\n",
      "\u001b[0;32m~/anaconda3/lib/python3.8/site-packages/librosa/core/audio.py\u001b[0m in \u001b[0;36mresample\u001b[0;34m(y, orig_sr, target_sr, res_type, fix, scale, **kwargs)\u001b[0m\n\u001b[1;32m    615\u001b[0m         \u001b[0my_hat\u001b[0m \u001b[0;34m=\u001b[0m \u001b[0msoxr\u001b[0m\u001b[0;34m.\u001b[0m\u001b[0mresample\u001b[0m\u001b[0;34m(\u001b[0m\u001b[0my\u001b[0m\u001b[0;34m.\u001b[0m\u001b[0mT\u001b[0m\u001b[0;34m,\u001b[0m \u001b[0morig_sr\u001b[0m\u001b[0;34m,\u001b[0m \u001b[0mtarget_sr\u001b[0m\u001b[0;34m,\u001b[0m \u001b[0mquality\u001b[0m\u001b[0;34m=\u001b[0m\u001b[0mres_type\u001b[0m\u001b[0;34m)\u001b[0m\u001b[0;34m.\u001b[0m\u001b[0mT\u001b[0m\u001b[0;34m\u001b[0m\u001b[0;34m\u001b[0m\u001b[0m\n\u001b[1;32m    616\u001b[0m     \u001b[0;32melse\u001b[0m\u001b[0;34m:\u001b[0m\u001b[0;34m\u001b[0m\u001b[0;34m\u001b[0m\u001b[0m\n\u001b[0;32m--> 617\u001b[0;31m         \u001b[0my_hat\u001b[0m \u001b[0;34m=\u001b[0m \u001b[0mresampy\u001b[0m\u001b[0;34m.\u001b[0m\u001b[0mresample\u001b[0m\u001b[0;34m(\u001b[0m\u001b[0my\u001b[0m\u001b[0;34m,\u001b[0m \u001b[0morig_sr\u001b[0m\u001b[0;34m,\u001b[0m \u001b[0mtarget_sr\u001b[0m\u001b[0;34m,\u001b[0m \u001b[0mfilter\u001b[0m\u001b[0;34m=\u001b[0m\u001b[0mres_type\u001b[0m\u001b[0;34m,\u001b[0m \u001b[0maxis\u001b[0m\u001b[0;34m=\u001b[0m\u001b[0;34m-\u001b[0m\u001b[0;36m1\u001b[0m\u001b[0;34m)\u001b[0m\u001b[0;34m\u001b[0m\u001b[0;34m\u001b[0m\u001b[0m\n\u001b[0m\u001b[1;32m    618\u001b[0m \u001b[0;34m\u001b[0m\u001b[0m\n\u001b[1;32m    619\u001b[0m     \u001b[0;32mif\u001b[0m \u001b[0mfix\u001b[0m\u001b[0;34m:\u001b[0m\u001b[0;34m\u001b[0m\u001b[0;34m\u001b[0m\u001b[0m\n",
      "\u001b[0;32m~/anaconda3/lib/python3.8/site-packages/resampy/core.py\u001b[0m in \u001b[0;36mresample\u001b[0;34m(x, sr_orig, sr_new, axis, filter, **kwargs)\u001b[0m\n\u001b[1;32m    118\u001b[0m     \u001b[0mx_2d\u001b[0m \u001b[0;34m=\u001b[0m \u001b[0mx\u001b[0m\u001b[0;34m.\u001b[0m\u001b[0mswapaxes\u001b[0m\u001b[0;34m(\u001b[0m\u001b[0;36m0\u001b[0m\u001b[0;34m,\u001b[0m \u001b[0maxis\u001b[0m\u001b[0;34m)\u001b[0m\u001b[0;34m.\u001b[0m\u001b[0mreshape\u001b[0m\u001b[0;34m(\u001b[0m\u001b[0;34m(\u001b[0m\u001b[0mx\u001b[0m\u001b[0;34m.\u001b[0m\u001b[0mshape\u001b[0m\u001b[0;34m[\u001b[0m\u001b[0maxis\u001b[0m\u001b[0;34m]\u001b[0m\u001b[0;34m,\u001b[0m \u001b[0;34m-\u001b[0m\u001b[0;36m1\u001b[0m\u001b[0;34m)\u001b[0m\u001b[0;34m)\u001b[0m\u001b[0;34m\u001b[0m\u001b[0;34m\u001b[0m\u001b[0m\n\u001b[1;32m    119\u001b[0m     \u001b[0my_2d\u001b[0m \u001b[0;34m=\u001b[0m \u001b[0my\u001b[0m\u001b[0;34m.\u001b[0m\u001b[0mswapaxes\u001b[0m\u001b[0;34m(\u001b[0m\u001b[0;36m0\u001b[0m\u001b[0;34m,\u001b[0m \u001b[0maxis\u001b[0m\u001b[0;34m)\u001b[0m\u001b[0;34m.\u001b[0m\u001b[0mreshape\u001b[0m\u001b[0;34m(\u001b[0m\u001b[0;34m(\u001b[0m\u001b[0my\u001b[0m\u001b[0;34m.\u001b[0m\u001b[0mshape\u001b[0m\u001b[0;34m[\u001b[0m\u001b[0maxis\u001b[0m\u001b[0;34m]\u001b[0m\u001b[0;34m,\u001b[0m \u001b[0;34m-\u001b[0m\u001b[0;36m1\u001b[0m\u001b[0;34m)\u001b[0m\u001b[0;34m)\u001b[0m\u001b[0;34m\u001b[0m\u001b[0;34m\u001b[0m\u001b[0m\n\u001b[0;32m--> 120\u001b[0;31m     \u001b[0mresample_f\u001b[0m\u001b[0;34m(\u001b[0m\u001b[0mx_2d\u001b[0m\u001b[0;34m,\u001b[0m \u001b[0my_2d\u001b[0m\u001b[0;34m,\u001b[0m \u001b[0msample_ratio\u001b[0m\u001b[0;34m,\u001b[0m \u001b[0minterp_win\u001b[0m\u001b[0;34m,\u001b[0m \u001b[0minterp_delta\u001b[0m\u001b[0;34m,\u001b[0m \u001b[0mprecision\u001b[0m\u001b[0;34m)\u001b[0m\u001b[0;34m\u001b[0m\u001b[0;34m\u001b[0m\u001b[0m\n\u001b[0m\u001b[1;32m    121\u001b[0m \u001b[0;34m\u001b[0m\u001b[0m\n\u001b[1;32m    122\u001b[0m     \u001b[0;32mreturn\u001b[0m \u001b[0my\u001b[0m\u001b[0;34m\u001b[0m\u001b[0;34m\u001b[0m\u001b[0m\n",
      "\u001b[0;31mKeyboardInterrupt\u001b[0m: "
     ]
    }
   ],
   "source": [
    "testingdf_nodsp= gen_extensive_audio_features(sp, trackids, pvalues= [10,25,50,75,90], perform_dsp = False)"
   ]
  },
  {
   "cell_type": "code",
   "execution_count": 19,
   "id": "c5857546",
   "metadata": {},
   "outputs": [
    {
     "name": "stdout",
     "output_type": "stream",
     "text": [
      "processing track  1JSIWsJfxOji0FrxFcxdCK\n",
      "100% [............................................................................] 362861 / 362861"
     ]
    },
    {
     "name": "stderr",
     "output_type": "stream",
     "text": [
      "/Users/tejasbot/anaconda3/lib/python3.8/site-packages/librosa/util/decorators.py:88: UserWarning: PySoundFile failed. Trying audioread instead.\n",
      "  return f(*args, **kwargs)\n",
      "/var/folders/x0/9kxl__ld5lg60zg21w2jnc2c0000gn/T/ipykernel_48346/3714470853.py:56: FutureWarning: Pass y=[-0.02529239 -0.01567331  0.01690556 ... -0.03486066 -0.11116249\n",
      "  0.        ] as keyword args. From version 0.10 passing these as positional arguments will result in an error\n",
      "  spectral_centroids = librosa.feature.spectral_centroid(audio, sr=sr)\n",
      "/var/folders/x0/9kxl__ld5lg60zg21w2jnc2c0000gn/T/ipykernel_48346/3714470853.py:57: FutureWarning: Pass y=[-0.02529239 -0.01567331  0.01690556 ... -0.03486066 -0.11116249\n",
      "  0.        ] as keyword args. From version 0.10 passing these as positional arguments will result in an error\n",
      "  rolloff = librosa.feature.spectral_rolloff(audio, sr=sr)\n"
     ]
    },
    {
     "name": "stdout",
     "output_type": "stream",
     "text": [
      "processing track  5QnJqzHud1dXiz0nohQtbv\n",
      "100% [............................................................................] 361837 / 361837"
     ]
    },
    {
     "name": "stderr",
     "output_type": "stream",
     "text": [
      "/Users/tejasbot/anaconda3/lib/python3.8/site-packages/librosa/util/decorators.py:88: UserWarning: PySoundFile failed. Trying audioread instead.\n",
      "  return f(*args, **kwargs)\n",
      "/var/folders/x0/9kxl__ld5lg60zg21w2jnc2c0000gn/T/ipykernel_48346/3714470853.py:56: FutureWarning: Pass y=[-0.0111036  -0.01993817 -0.01985832 ... -0.02482001 -0.02549613\n",
      " -0.02737209] as keyword args. From version 0.10 passing these as positional arguments will result in an error\n",
      "  spectral_centroids = librosa.feature.spectral_centroid(audio, sr=sr)\n",
      "/var/folders/x0/9kxl__ld5lg60zg21w2jnc2c0000gn/T/ipykernel_48346/3714470853.py:57: FutureWarning: Pass y=[-0.0111036  -0.01993817 -0.01985832 ... -0.02482001 -0.02549613\n",
      " -0.02737209] as keyword args. From version 0.10 passing these as positional arguments will result in an error\n",
      "  rolloff = librosa.feature.spectral_rolloff(audio, sr=sr)\n"
     ]
    },
    {
     "name": "stdout",
     "output_type": "stream",
     "text": [
      "processing track  7LnCjHudaBcB7gprluL2jG\n",
      "100% [............................................................................] 362861 / 362861"
     ]
    },
    {
     "name": "stderr",
     "output_type": "stream",
     "text": [
      "/Users/tejasbot/anaconda3/lib/python3.8/site-packages/librosa/util/decorators.py:88: UserWarning: PySoundFile failed. Trying audioread instead.\n",
      "  return f(*args, **kwargs)\n",
      "/var/folders/x0/9kxl__ld5lg60zg21w2jnc2c0000gn/T/ipykernel_48346/3714470853.py:56: FutureWarning: Pass y=[-0.16303751 -0.2772675  -0.2440857  ... -0.07143886 -0.15852949\n",
      "  0.        ] as keyword args. From version 0.10 passing these as positional arguments will result in an error\n",
      "  spectral_centroids = librosa.feature.spectral_centroid(audio, sr=sr)\n",
      "/var/folders/x0/9kxl__ld5lg60zg21w2jnc2c0000gn/T/ipykernel_48346/3714470853.py:57: FutureWarning: Pass y=[-0.16303751 -0.2772675  -0.2440857  ... -0.07143886 -0.15852949\n",
      "  0.        ] as keyword args. From version 0.10 passing these as positional arguments will result in an error\n",
      "  rolloff = librosa.feature.spectral_rolloff(audio, sr=sr)\n"
     ]
    },
    {
     "name": "stdout",
     "output_type": "stream",
     "text": [
      "processing track  1S1JlOrGDpkbVhWCsOjUIh\n",
      "100% [............................................................................] 362861 / 362861"
     ]
    },
    {
     "name": "stderr",
     "output_type": "stream",
     "text": [
      "/Users/tejasbot/anaconda3/lib/python3.8/site-packages/librosa/util/decorators.py:88: UserWarning: PySoundFile failed. Trying audioread instead.\n",
      "  return f(*args, **kwargs)\n",
      "/var/folders/x0/9kxl__ld5lg60zg21w2jnc2c0000gn/T/ipykernel_48346/3714470853.py:56: FutureWarning: Pass y=[ 0.10899467  0.15203418  0.08801726 ... -0.23987345 -0.23869419\n",
      " -0.2569419 ] as keyword args. From version 0.10 passing these as positional arguments will result in an error\n",
      "  spectral_centroids = librosa.feature.spectral_centroid(audio, sr=sr)\n",
      "/var/folders/x0/9kxl__ld5lg60zg21w2jnc2c0000gn/T/ipykernel_48346/3714470853.py:57: FutureWarning: Pass y=[ 0.10899467  0.15203418  0.08801726 ... -0.23987345 -0.23869419\n",
      " -0.2569419 ] as keyword args. From version 0.10 passing these as positional arguments will result in an error\n",
      "  rolloff = librosa.feature.spectral_rolloff(audio, sr=sr)\n"
     ]
    },
    {
     "name": "stdout",
     "output_type": "stream",
     "text": [
      "processing track  1J8JRBcaJUPctNt6DM12iD\n",
      "100% [............................................................................] 362861 / 362861"
     ]
    },
    {
     "name": "stderr",
     "output_type": "stream",
     "text": [
      "/Users/tejasbot/anaconda3/lib/python3.8/site-packages/librosa/util/decorators.py:88: UserWarning: PySoundFile failed. Trying audioread instead.\n",
      "  return f(*args, **kwargs)\n",
      "/var/folders/x0/9kxl__ld5lg60zg21w2jnc2c0000gn/T/ipykernel_48346/3714470853.py:56: FutureWarning: Pass y=[ 0.00079193 -0.0051838  -0.01384191 ...  0.0186801   0.01765953\n",
      "  0.        ] as keyword args. From version 0.10 passing these as positional arguments will result in an error\n",
      "  spectral_centroids = librosa.feature.spectral_centroid(audio, sr=sr)\n",
      "/var/folders/x0/9kxl__ld5lg60zg21w2jnc2c0000gn/T/ipykernel_48346/3714470853.py:57: FutureWarning: Pass y=[ 0.00079193 -0.0051838  -0.01384191 ...  0.0186801   0.01765953\n",
      "  0.        ] as keyword args. From version 0.10 passing these as positional arguments will result in an error\n",
      "  rolloff = librosa.feature.spectral_rolloff(audio, sr=sr)\n"
     ]
    },
    {
     "name": "stdout",
     "output_type": "stream",
     "text": [
      "processing track  69ai605TdgykOy3UTKuywI\n",
      "100% [............................................................................] 362861 / 362861"
     ]
    },
    {
     "name": "stderr",
     "output_type": "stream",
     "text": [
      "/Users/tejasbot/anaconda3/lib/python3.8/site-packages/librosa/util/decorators.py:88: UserWarning: PySoundFile failed. Trying audioread instead.\n",
      "  return f(*args, **kwargs)\n",
      "/var/folders/x0/9kxl__ld5lg60zg21w2jnc2c0000gn/T/ipykernel_48346/3714470853.py:56: FutureWarning: Pass y=[-0.01572599 -0.03161804 -0.04182438 ... -0.0389565  -0.05666606\n",
      "  0.        ] as keyword args. From version 0.10 passing these as positional arguments will result in an error\n",
      "  spectral_centroids = librosa.feature.spectral_centroid(audio, sr=sr)\n",
      "/var/folders/x0/9kxl__ld5lg60zg21w2jnc2c0000gn/T/ipykernel_48346/3714470853.py:57: FutureWarning: Pass y=[-0.01572599 -0.03161804 -0.04182438 ... -0.0389565  -0.05666606\n",
      "  0.        ] as keyword args. From version 0.10 passing these as positional arguments will result in an error\n",
      "  rolloff = librosa.feature.spectral_rolloff(audio, sr=sr)\n"
     ]
    },
    {
     "name": "stdout",
     "output_type": "stream",
     "text": [
      "processing track  711sUHL5feGZQ4HZai697P\n",
      "100% [............................................................................] 362861 / 362861"
     ]
    },
    {
     "name": "stderr",
     "output_type": "stream",
     "text": [
      "/Users/tejasbot/anaconda3/lib/python3.8/site-packages/librosa/util/decorators.py:88: UserWarning: PySoundFile failed. Trying audioread instead.\n",
      "  return f(*args, **kwargs)\n",
      "/var/folders/x0/9kxl__ld5lg60zg21w2jnc2c0000gn/T/ipykernel_48346/3714470853.py:56: FutureWarning: Pass y=[-0.12823674 -0.22571968 -0.19768542 ...  0.03801951  0.03911125\n",
      "  0.04057196] as keyword args. From version 0.10 passing these as positional arguments will result in an error\n",
      "  spectral_centroids = librosa.feature.spectral_centroid(audio, sr=sr)\n",
      "/var/folders/x0/9kxl__ld5lg60zg21w2jnc2c0000gn/T/ipykernel_48346/3714470853.py:57: FutureWarning: Pass y=[-0.12823674 -0.22571968 -0.19768542 ...  0.03801951  0.03911125\n",
      "  0.04057196] as keyword args. From version 0.10 passing these as positional arguments will result in an error\n",
      "  rolloff = librosa.feature.spectral_rolloff(audio, sr=sr)\n"
     ]
    },
    {
     "name": "stdout",
     "output_type": "stream",
     "text": [
      "processing track  5pLpGimrruc4qZSxHBScYz\n",
      "100% [............................................................................] 362861 / 362861"
     ]
    },
    {
     "name": "stderr",
     "output_type": "stream",
     "text": [
      "/Users/tejasbot/anaconda3/lib/python3.8/site-packages/librosa/util/decorators.py:88: UserWarning: PySoundFile failed. Trying audioread instead.\n",
      "  return f(*args, **kwargs)\n",
      "/var/folders/x0/9kxl__ld5lg60zg21w2jnc2c0000gn/T/ipykernel_48346/3714470853.py:56: FutureWarning: Pass y=[0.03313733 0.06329214 0.06700635 ... 0.12138435 0.11652326 0.10089605] as keyword args. From version 0.10 passing these as positional arguments will result in an error\n",
      "  spectral_centroids = librosa.feature.spectral_centroid(audio, sr=sr)\n",
      "/var/folders/x0/9kxl__ld5lg60zg21w2jnc2c0000gn/T/ipykernel_48346/3714470853.py:57: FutureWarning: Pass y=[0.03313733 0.06329214 0.06700635 ... 0.12138435 0.11652326 0.10089605] as keyword args. From version 0.10 passing these as positional arguments will result in an error\n",
      "  rolloff = librosa.feature.spectral_rolloff(audio, sr=sr)\n"
     ]
    },
    {
     "name": "stdout",
     "output_type": "stream",
     "text": [
      "processing track  7igDc2V0gCwBYV5rBUw1g7\n",
      "100% [............................................................................] 362861 / 362861"
     ]
    },
    {
     "name": "stderr",
     "output_type": "stream",
     "text": [
      "/Users/tejasbot/anaconda3/lib/python3.8/site-packages/librosa/util/decorators.py:88: UserWarning: PySoundFile failed. Trying audioread instead.\n",
      "  return f(*args, **kwargs)\n",
      "/var/folders/x0/9kxl__ld5lg60zg21w2jnc2c0000gn/T/ipykernel_48346/3714470853.py:56: FutureWarning: Pass y=[-0.00418409  0.00456911  0.02491076 ...  0.05230452  0.05176872\n",
      "  0.05457798] as keyword args. From version 0.10 passing these as positional arguments will result in an error\n",
      "  spectral_centroids = librosa.feature.spectral_centroid(audio, sr=sr)\n",
      "/var/folders/x0/9kxl__ld5lg60zg21w2jnc2c0000gn/T/ipykernel_48346/3714470853.py:57: FutureWarning: Pass y=[-0.00418409  0.00456911  0.02491076 ...  0.05230452  0.05176872\n",
      "  0.05457798] as keyword args. From version 0.10 passing these as positional arguments will result in an error\n",
      "  rolloff = librosa.feature.spectral_rolloff(audio, sr=sr)\n"
     ]
    },
    {
     "name": "stdout",
     "output_type": "stream",
     "text": [
      "processing track  777Em4kHDduR6HgVTKdwpf\n",
      "100% [............................................................................] 361837 / 361837"
     ]
    },
    {
     "name": "stderr",
     "output_type": "stream",
     "text": [
      "/Users/tejasbot/anaconda3/lib/python3.8/site-packages/librosa/util/decorators.py:88: UserWarning: PySoundFile failed. Trying audioread instead.\n",
      "  return f(*args, **kwargs)\n",
      "/var/folders/x0/9kxl__ld5lg60zg21w2jnc2c0000gn/T/ipykernel_48346/3714470853.py:56: FutureWarning: Pass y=[-0.12859812 -0.18562736 -0.13504419 ... -0.05874661 -0.04723606\n",
      " -0.03010154] as keyword args. From version 0.10 passing these as positional arguments will result in an error\n",
      "  spectral_centroids = librosa.feature.spectral_centroid(audio, sr=sr)\n",
      "/var/folders/x0/9kxl__ld5lg60zg21w2jnc2c0000gn/T/ipykernel_48346/3714470853.py:57: FutureWarning: Pass y=[-0.12859812 -0.18562736 -0.13504419 ... -0.05874661 -0.04723606\n",
      " -0.03010154] as keyword args. From version 0.10 passing these as positional arguments will result in an error\n",
      "  rolloff = librosa.feature.spectral_rolloff(audio, sr=sr)\n"
     ]
    },
    {
     "name": "stdout",
     "output_type": "stream",
     "text": [
      "processing track  2vYPxe1E9uQ0XY27FFViR5\n",
      "100% [............................................................................] 362861 / 362861"
     ]
    },
    {
     "name": "stderr",
     "output_type": "stream",
     "text": [
      "/Users/tejasbot/anaconda3/lib/python3.8/site-packages/librosa/util/decorators.py:88: UserWarning: PySoundFile failed. Trying audioread instead.\n",
      "  return f(*args, **kwargs)\n",
      "/var/folders/x0/9kxl__ld5lg60zg21w2jnc2c0000gn/T/ipykernel_48346/3714470853.py:56: FutureWarning: Pass y=[0.15215158 0.23164347 0.23012313 ... 0.07648722 0.06746561 0.05934777] as keyword args. From version 0.10 passing these as positional arguments will result in an error\n",
      "  spectral_centroids = librosa.feature.spectral_centroid(audio, sr=sr)\n",
      "/var/folders/x0/9kxl__ld5lg60zg21w2jnc2c0000gn/T/ipykernel_48346/3714470853.py:57: FutureWarning: Pass y=[0.15215158 0.23164347 0.23012313 ... 0.07648722 0.06746561 0.05934777] as keyword args. From version 0.10 passing these as positional arguments will result in an error\n",
      "  rolloff = librosa.feature.spectral_rolloff(audio, sr=sr)\n"
     ]
    },
    {
     "name": "stdout",
     "output_type": "stream",
     "text": [
      "processing track  5Q6Chi5OQkkYjdyuelGTbH\n",
      "100% [............................................................................] 361837 / 361837"
     ]
    },
    {
     "name": "stderr",
     "output_type": "stream",
     "text": [
      "/Users/tejasbot/anaconda3/lib/python3.8/site-packages/librosa/util/decorators.py:88: UserWarning: PySoundFile failed. Trying audioread instead.\n",
      "  return f(*args, **kwargs)\n",
      "/var/folders/x0/9kxl__ld5lg60zg21w2jnc2c0000gn/T/ipykernel_48346/3714470853.py:56: FutureWarning: Pass y=[-0.01333142 -0.03370546 -0.04370847 ... -0.06151321 -0.05006428\n",
      " -0.03313618] as keyword args. From version 0.10 passing these as positional arguments will result in an error\n",
      "  spectral_centroids = librosa.feature.spectral_centroid(audio, sr=sr)\n",
      "/var/folders/x0/9kxl__ld5lg60zg21w2jnc2c0000gn/T/ipykernel_48346/3714470853.py:57: FutureWarning: Pass y=[-0.01333142 -0.03370546 -0.04370847 ... -0.06151321 -0.05006428\n",
      " -0.03313618] as keyword args. From version 0.10 passing these as positional arguments will result in an error\n",
      "  rolloff = librosa.feature.spectral_rolloff(audio, sr=sr)\n"
     ]
    },
    {
     "name": "stdout",
     "output_type": "stream",
     "text": [
      "processing track  3cwREafAVNjUEt0hdrNVkt\n",
      "100% [............................................................................] 362861 / 362861"
     ]
    },
    {
     "name": "stderr",
     "output_type": "stream",
     "text": [
      "/Users/tejasbot/anaconda3/lib/python3.8/site-packages/librosa/util/decorators.py:88: UserWarning: PySoundFile failed. Trying audioread instead.\n",
      "  return f(*args, **kwargs)\n",
      "/var/folders/x0/9kxl__ld5lg60zg21w2jnc2c0000gn/T/ipykernel_48346/3714470853.py:56: FutureWarning: Pass y=[0.04225293 0.08937345 0.10024503 ... 0.01166257 0.00394632 0.        ] as keyword args. From version 0.10 passing these as positional arguments will result in an error\n",
      "  spectral_centroids = librosa.feature.spectral_centroid(audio, sr=sr)\n",
      "/var/folders/x0/9kxl__ld5lg60zg21w2jnc2c0000gn/T/ipykernel_48346/3714470853.py:57: FutureWarning: Pass y=[0.04225293 0.08937345 0.10024503 ... 0.01166257 0.00394632 0.        ] as keyword args. From version 0.10 passing these as positional arguments will result in an error\n",
      "  rolloff = librosa.feature.spectral_rolloff(audio, sr=sr)\n"
     ]
    },
    {
     "name": "stdout",
     "output_type": "stream",
     "text": [
      "processing track  07qLDO1aLSW9eSFbzuPfbp\n",
      "100% [............................................................................] 362861 / 362861"
     ]
    },
    {
     "name": "stderr",
     "output_type": "stream",
     "text": [
      "/Users/tejasbot/anaconda3/lib/python3.8/site-packages/librosa/util/decorators.py:88: UserWarning: PySoundFile failed. Trying audioread instead.\n",
      "  return f(*args, **kwargs)\n",
      "/var/folders/x0/9kxl__ld5lg60zg21w2jnc2c0000gn/T/ipykernel_48346/3714470853.py:56: FutureWarning: Pass y=[-0.0098181   0.00498558  0.01437736 ... -0.0228899   0.00081647\n",
      "  0.        ] as keyword args. From version 0.10 passing these as positional arguments will result in an error\n",
      "  spectral_centroids = librosa.feature.spectral_centroid(audio, sr=sr)\n",
      "/var/folders/x0/9kxl__ld5lg60zg21w2jnc2c0000gn/T/ipykernel_48346/3714470853.py:57: FutureWarning: Pass y=[-0.0098181   0.00498558  0.01437736 ... -0.0228899   0.00081647\n",
      "  0.        ] as keyword args. From version 0.10 passing these as positional arguments will result in an error\n",
      "  rolloff = librosa.feature.spectral_rolloff(audio, sr=sr)\n"
     ]
    },
    {
     "name": "stdout",
     "output_type": "stream",
     "text": [
      "processing track  6l5gQLO52O2qh2oHoRpGNP\n",
      "100% [............................................................................] 362861 / 362861"
     ]
    },
    {
     "name": "stderr",
     "output_type": "stream",
     "text": [
      "/Users/tejasbot/anaconda3/lib/python3.8/site-packages/librosa/util/decorators.py:88: UserWarning: PySoundFile failed. Trying audioread instead.\n",
      "  return f(*args, **kwargs)\n",
      "/var/folders/x0/9kxl__ld5lg60zg21w2jnc2c0000gn/T/ipykernel_48346/3714470853.py:56: FutureWarning: Pass y=[0.25282246 0.4869517  0.55490124 ... 0.03275721 0.03045525 0.02246246] as keyword args. From version 0.10 passing these as positional arguments will result in an error\n",
      "  spectral_centroids = librosa.feature.spectral_centroid(audio, sr=sr)\n",
      "/var/folders/x0/9kxl__ld5lg60zg21w2jnc2c0000gn/T/ipykernel_48346/3714470853.py:57: FutureWarning: Pass y=[0.25282246 0.4869517  0.55490124 ... 0.03275721 0.03045525 0.02246246] as keyword args. From version 0.10 passing these as positional arguments will result in an error\n",
      "  rolloff = librosa.feature.spectral_rolloff(audio, sr=sr)\n"
     ]
    },
    {
     "name": "stdout",
     "output_type": "stream",
     "text": [
      "processing track  1of6z31FFqkBzRDSE9i1La\n",
      "100% [............................................................................] 362861 / 362861"
     ]
    },
    {
     "name": "stderr",
     "output_type": "stream",
     "text": [
      "/Users/tejasbot/anaconda3/lib/python3.8/site-packages/librosa/util/decorators.py:88: UserWarning: PySoundFile failed. Trying audioread instead.\n",
      "  return f(*args, **kwargs)\n",
      "/var/folders/x0/9kxl__ld5lg60zg21w2jnc2c0000gn/T/ipykernel_48346/3714470853.py:56: FutureWarning: Pass y=[0.04254388 0.07915755 0.07365561 ... 0.0426197  0.03948338 0.02974021] as keyword args. From version 0.10 passing these as positional arguments will result in an error\n",
      "  spectral_centroids = librosa.feature.spectral_centroid(audio, sr=sr)\n",
      "/var/folders/x0/9kxl__ld5lg60zg21w2jnc2c0000gn/T/ipykernel_48346/3714470853.py:57: FutureWarning: Pass y=[0.04254388 0.07915755 0.07365561 ... 0.0426197  0.03948338 0.02974021] as keyword args. From version 0.10 passing these as positional arguments will result in an error\n",
      "  rolloff = librosa.feature.spectral_rolloff(audio, sr=sr)\n"
     ]
    },
    {
     "name": "stdout",
     "output_type": "stream",
     "text": [
      "processing track  3ynqRejSij0vwlyKJ26nMr\n",
      "100% [............................................................................] 362861 / 362861"
     ]
    },
    {
     "name": "stderr",
     "output_type": "stream",
     "text": [
      "/Users/tejasbot/anaconda3/lib/python3.8/site-packages/librosa/util/decorators.py:88: UserWarning: PySoundFile failed. Trying audioread instead.\n",
      "  return f(*args, **kwargs)\n",
      "/var/folders/x0/9kxl__ld5lg60zg21w2jnc2c0000gn/T/ipykernel_48346/3714470853.py:56: FutureWarning: Pass y=[-0.00386162 -0.00644703 -0.00511503 ... -0.1616876  -0.12019631\n",
      " -0.11319256] as keyword args. From version 0.10 passing these as positional arguments will result in an error\n",
      "  spectral_centroids = librosa.feature.spectral_centroid(audio, sr=sr)\n",
      "/var/folders/x0/9kxl__ld5lg60zg21w2jnc2c0000gn/T/ipykernel_48346/3714470853.py:57: FutureWarning: Pass y=[-0.00386162 -0.00644703 -0.00511503 ... -0.1616876  -0.12019631\n",
      " -0.11319256] as keyword args. From version 0.10 passing these as positional arguments will result in an error\n",
      "  rolloff = librosa.feature.spectral_rolloff(audio, sr=sr)\n"
     ]
    },
    {
     "name": "stdout",
     "output_type": "stream",
     "text": [
      "processing track  6nPyNtrzxD449lC98QsBce\n",
      "100% [............................................................................] 362861 / 362861"
     ]
    },
    {
     "name": "stderr",
     "output_type": "stream",
     "text": [
      "/Users/tejasbot/anaconda3/lib/python3.8/site-packages/librosa/util/decorators.py:88: UserWarning: PySoundFile failed. Trying audioread instead.\n",
      "  return f(*args, **kwargs)\n",
      "/var/folders/x0/9kxl__ld5lg60zg21w2jnc2c0000gn/T/ipykernel_48346/3714470853.py:56: FutureWarning: Pass y=[-0.06492576 -0.10368126 -0.07418521 ... -0.05325019 -0.0546574\n",
      " -0.05837198] as keyword args. From version 0.10 passing these as positional arguments will result in an error\n",
      "  spectral_centroids = librosa.feature.spectral_centroid(audio, sr=sr)\n",
      "/var/folders/x0/9kxl__ld5lg60zg21w2jnc2c0000gn/T/ipykernel_48346/3714470853.py:57: FutureWarning: Pass y=[-0.06492576 -0.10368126 -0.07418521 ... -0.05325019 -0.0546574\n",
      " -0.05837198] as keyword args. From version 0.10 passing these as positional arguments will result in an error\n",
      "  rolloff = librosa.feature.spectral_rolloff(audio, sr=sr)\n"
     ]
    },
    {
     "name": "stdout",
     "output_type": "stream",
     "text": [
      "processing track  7tUwh1qY6yDFXDRCy8D9CH\n",
      "100% [............................................................................] 362861 / 362861"
     ]
    },
    {
     "name": "stderr",
     "output_type": "stream",
     "text": [
      "/Users/tejasbot/anaconda3/lib/python3.8/site-packages/librosa/util/decorators.py:88: UserWarning: PySoundFile failed. Trying audioread instead.\n",
      "  return f(*args, **kwargs)\n",
      "/var/folders/x0/9kxl__ld5lg60zg21w2jnc2c0000gn/T/ipykernel_48346/3714470853.py:56: FutureWarning: Pass y=[0.01814192 0.03824118 0.04770851 ... 0.02264526 0.01471295 0.        ] as keyword args. From version 0.10 passing these as positional arguments will result in an error\n",
      "  spectral_centroids = librosa.feature.spectral_centroid(audio, sr=sr)\n",
      "/var/folders/x0/9kxl__ld5lg60zg21w2jnc2c0000gn/T/ipykernel_48346/3714470853.py:57: FutureWarning: Pass y=[0.01814192 0.03824118 0.04770851 ... 0.02264526 0.01471295 0.        ] as keyword args. From version 0.10 passing these as positional arguments will result in an error\n",
      "  rolloff = librosa.feature.spectral_rolloff(audio, sr=sr)\n"
     ]
    },
    {
     "name": "stdout",
     "output_type": "stream",
     "text": [
      "processing track  6PrKZUXJPmBiobMN44yR8Y\n",
      "100% [............................................................................] 362861 / 362861"
     ]
    },
    {
     "name": "stderr",
     "output_type": "stream",
     "text": [
      "/Users/tejasbot/anaconda3/lib/python3.8/site-packages/librosa/util/decorators.py:88: UserWarning: PySoundFile failed. Trying audioread instead.\n",
      "  return f(*args, **kwargs)\n",
      "/var/folders/x0/9kxl__ld5lg60zg21w2jnc2c0000gn/T/ipykernel_48346/3714470853.py:56: FutureWarning: Pass y=[-0.04894732 -0.04759124  0.03629196 ... -0.00052145  0.0338317\n",
      "  0.077256  ] as keyword args. From version 0.10 passing these as positional arguments will result in an error\n",
      "  spectral_centroids = librosa.feature.spectral_centroid(audio, sr=sr)\n",
      "/var/folders/x0/9kxl__ld5lg60zg21w2jnc2c0000gn/T/ipykernel_48346/3714470853.py:57: FutureWarning: Pass y=[-0.04894732 -0.04759124  0.03629196 ... -0.00052145  0.0338317\n",
      "  0.077256  ] as keyword args. From version 0.10 passing these as positional arguments will result in an error\n",
      "  rolloff = librosa.feature.spectral_rolloff(audio, sr=sr)\n"
     ]
    },
    {
     "name": "stdout",
     "output_type": "stream",
     "text": [
      "processing track  6tGtkJtXZytZhugipYJTCj\n",
      "100% [............................................................................] 362861 / 362861"
     ]
    },
    {
     "name": "stderr",
     "output_type": "stream",
     "text": [
      "/Users/tejasbot/anaconda3/lib/python3.8/site-packages/librosa/util/decorators.py:88: UserWarning: PySoundFile failed. Trying audioread instead.\n",
      "  return f(*args, **kwargs)\n",
      "/var/folders/x0/9kxl__ld5lg60zg21w2jnc2c0000gn/T/ipykernel_48346/3714470853.py:56: FutureWarning: Pass y=[ 0.00438691  0.02325799  0.03266291 ... -0.1786109  -0.15253076\n",
      " -0.10691708] as keyword args. From version 0.10 passing these as positional arguments will result in an error\n",
      "  spectral_centroids = librosa.feature.spectral_centroid(audio, sr=sr)\n",
      "/var/folders/x0/9kxl__ld5lg60zg21w2jnc2c0000gn/T/ipykernel_48346/3714470853.py:57: FutureWarning: Pass y=[ 0.00438691  0.02325799  0.03266291 ... -0.1786109  -0.15253076\n",
      " -0.10691708] as keyword args. From version 0.10 passing these as positional arguments will result in an error\n",
      "  rolloff = librosa.feature.spectral_rolloff(audio, sr=sr)\n"
     ]
    },
    {
     "name": "stdout",
     "output_type": "stream",
     "text": [
      "processing track  6wjGdF8J2bMCH4yBwmWK1i\n",
      "100% [............................................................................] 363885 / 363885"
     ]
    },
    {
     "name": "stderr",
     "output_type": "stream",
     "text": [
      "/Users/tejasbot/anaconda3/lib/python3.8/site-packages/librosa/util/decorators.py:88: UserWarning: PySoundFile failed. Trying audioread instead.\n",
      "  return f(*args, **kwargs)\n",
      "/var/folders/x0/9kxl__ld5lg60zg21w2jnc2c0000gn/T/ipykernel_48346/3714470853.py:56: FutureWarning: Pass y=[0.03173646 0.04652201 0.0160198  ... 0.13340616 0.18868892 0.        ] as keyword args. From version 0.10 passing these as positional arguments will result in an error\n",
      "  spectral_centroids = librosa.feature.spectral_centroid(audio, sr=sr)\n",
      "/var/folders/x0/9kxl__ld5lg60zg21w2jnc2c0000gn/T/ipykernel_48346/3714470853.py:57: FutureWarning: Pass y=[0.03173646 0.04652201 0.0160198  ... 0.13340616 0.18868892 0.        ] as keyword args. From version 0.10 passing these as positional arguments will result in an error\n",
      "  rolloff = librosa.feature.spectral_rolloff(audio, sr=sr)\n"
     ]
    },
    {
     "name": "stdout",
     "output_type": "stream",
     "text": [
      "processing track  14orHIVAJN6F8QR9OuQKUS\n",
      "100% [............................................................................] 362861 / 362861"
     ]
    },
    {
     "name": "stderr",
     "output_type": "stream",
     "text": [
      "/Users/tejasbot/anaconda3/lib/python3.8/site-packages/librosa/util/decorators.py:88: UserWarning: PySoundFile failed. Trying audioread instead.\n",
      "  return f(*args, **kwargs)\n",
      "/var/folders/x0/9kxl__ld5lg60zg21w2jnc2c0000gn/T/ipykernel_48346/3714470853.py:56: FutureWarning: Pass y=[ 0.03105112  0.0370175   0.02394905 ... -0.02881101 -0.0272786\n",
      "  0.        ] as keyword args. From version 0.10 passing these as positional arguments will result in an error\n",
      "  spectral_centroids = librosa.feature.spectral_centroid(audio, sr=sr)\n",
      "/var/folders/x0/9kxl__ld5lg60zg21w2jnc2c0000gn/T/ipykernel_48346/3714470853.py:57: FutureWarning: Pass y=[ 0.03105112  0.0370175   0.02394905 ... -0.02881101 -0.0272786\n",
      "  0.        ] as keyword args. From version 0.10 passing these as positional arguments will result in an error\n",
      "  rolloff = librosa.feature.spectral_rolloff(audio, sr=sr)\n"
     ]
    },
    {
     "name": "stdout",
     "output_type": "stream",
     "text": [
      "processing track  0Q8udHpBmrfzgFTTQld9GG\n",
      "100% [............................................................................] 362861 / 362861"
     ]
    },
    {
     "name": "stderr",
     "output_type": "stream",
     "text": [
      "/Users/tejasbot/anaconda3/lib/python3.8/site-packages/librosa/util/decorators.py:88: UserWarning: PySoundFile failed. Trying audioread instead.\n",
      "  return f(*args, **kwargs)\n",
      "/var/folders/x0/9kxl__ld5lg60zg21w2jnc2c0000gn/T/ipykernel_48346/3714470853.py:56: FutureWarning: Pass y=[ 0.04344257  0.06642491  0.03109781 ... -0.00233879 -0.00123339\n",
      " -0.00146569] as keyword args. From version 0.10 passing these as positional arguments will result in an error\n",
      "  spectral_centroids = librosa.feature.spectral_centroid(audio, sr=sr)\n",
      "/var/folders/x0/9kxl__ld5lg60zg21w2jnc2c0000gn/T/ipykernel_48346/3714470853.py:57: FutureWarning: Pass y=[ 0.04344257  0.06642491  0.03109781 ... -0.00233879 -0.00123339\n",
      " -0.00146569] as keyword args. From version 0.10 passing these as positional arguments will result in an error\n",
      "  rolloff = librosa.feature.spectral_rolloff(audio, sr=sr)\n"
     ]
    },
    {
     "name": "stdout",
     "output_type": "stream",
     "text": [
      "processing track  4rl0Zp21AhOflFl6ttv6Ou\n",
      "100% [............................................................................] 362861 / 362861"
     ]
    },
    {
     "name": "stderr",
     "output_type": "stream",
     "text": [
      "/Users/tejasbot/anaconda3/lib/python3.8/site-packages/librosa/util/decorators.py:88: UserWarning: PySoundFile failed. Trying audioread instead.\n",
      "  return f(*args, **kwargs)\n",
      "/var/folders/x0/9kxl__ld5lg60zg21w2jnc2c0000gn/T/ipykernel_48346/3714470853.py:56: FutureWarning: Pass y=[-0.02635042 -0.04748361 -0.05127337 ... -0.15478103 -0.16600965\n",
      "  0.        ] as keyword args. From version 0.10 passing these as positional arguments will result in an error\n",
      "  spectral_centroids = librosa.feature.spectral_centroid(audio, sr=sr)\n",
      "/var/folders/x0/9kxl__ld5lg60zg21w2jnc2c0000gn/T/ipykernel_48346/3714470853.py:57: FutureWarning: Pass y=[-0.02635042 -0.04748361 -0.05127337 ... -0.15478103 -0.16600965\n",
      "  0.        ] as keyword args. From version 0.10 passing these as positional arguments will result in an error\n",
      "  rolloff = librosa.feature.spectral_rolloff(audio, sr=sr)\n"
     ]
    },
    {
     "name": "stdout",
     "output_type": "stream",
     "text": [
      "processing track  5A99IlC4470e4X4OvUJwaF\n",
      "100% [............................................................................] 362861 / 362861"
     ]
    },
    {
     "name": "stderr",
     "output_type": "stream",
     "text": [
      "/Users/tejasbot/anaconda3/lib/python3.8/site-packages/librosa/util/decorators.py:88: UserWarning: PySoundFile failed. Trying audioread instead.\n",
      "  return f(*args, **kwargs)\n",
      "/var/folders/x0/9kxl__ld5lg60zg21w2jnc2c0000gn/T/ipykernel_48346/3714470853.py:56: FutureWarning: Pass y=[ 0.02153602  0.02625142  0.00747708 ... -0.02120561 -0.01532009\n",
      " -0.01125814] as keyword args. From version 0.10 passing these as positional arguments will result in an error\n",
      "  spectral_centroids = librosa.feature.spectral_centroid(audio, sr=sr)\n",
      "/var/folders/x0/9kxl__ld5lg60zg21w2jnc2c0000gn/T/ipykernel_48346/3714470853.py:57: FutureWarning: Pass y=[ 0.02153602  0.02625142  0.00747708 ... -0.02120561 -0.01532009\n",
      " -0.01125814] as keyword args. From version 0.10 passing these as positional arguments will result in an error\n",
      "  rolloff = librosa.feature.spectral_rolloff(audio, sr=sr)\n"
     ]
    },
    {
     "name": "stdout",
     "output_type": "stream",
     "text": [
      "processing track  4trFGwjCPmZxCgoJgxaFZX\n",
      "100% [............................................................................] 362861 / 362861"
     ]
    },
    {
     "name": "stderr",
     "output_type": "stream",
     "text": [
      "/Users/tejasbot/anaconda3/lib/python3.8/site-packages/librosa/util/decorators.py:88: UserWarning: PySoundFile failed. Trying audioread instead.\n",
      "  return f(*args, **kwargs)\n",
      "/var/folders/x0/9kxl__ld5lg60zg21w2jnc2c0000gn/T/ipykernel_48346/3714470853.py:56: FutureWarning: Pass y=[-0.05286258 -0.08809473 -0.07883769 ...  0.01398076  0.01352483\n",
      "  0.        ] as keyword args. From version 0.10 passing these as positional arguments will result in an error\n",
      "  spectral_centroids = librosa.feature.spectral_centroid(audio, sr=sr)\n",
      "/var/folders/x0/9kxl__ld5lg60zg21w2jnc2c0000gn/T/ipykernel_48346/3714470853.py:57: FutureWarning: Pass y=[-0.05286258 -0.08809473 -0.07883769 ...  0.01398076  0.01352483\n",
      "  0.        ] as keyword args. From version 0.10 passing these as positional arguments will result in an error\n",
      "  rolloff = librosa.feature.spectral_rolloff(audio, sr=sr)\n"
     ]
    },
    {
     "name": "stdout",
     "output_type": "stream",
     "text": [
      "processing track  7mSr5J5gNkZtZrv7mKhTvz\n",
      "100% [............................................................................] 362861 / 362861"
     ]
    },
    {
     "name": "stderr",
     "output_type": "stream",
     "text": [
      "/Users/tejasbot/anaconda3/lib/python3.8/site-packages/librosa/util/decorators.py:88: UserWarning: PySoundFile failed. Trying audioread instead.\n",
      "  return f(*args, **kwargs)\n",
      "/var/folders/x0/9kxl__ld5lg60zg21w2jnc2c0000gn/T/ipykernel_48346/3714470853.py:56: FutureWarning: Pass y=[0.00044953 0.00800029 0.00847134 ... 0.10912411 0.08824696 0.08448488] as keyword args. From version 0.10 passing these as positional arguments will result in an error\n",
      "  spectral_centroids = librosa.feature.spectral_centroid(audio, sr=sr)\n",
      "/var/folders/x0/9kxl__ld5lg60zg21w2jnc2c0000gn/T/ipykernel_48346/3714470853.py:57: FutureWarning: Pass y=[0.00044953 0.00800029 0.00847134 ... 0.10912411 0.08824696 0.08448488] as keyword args. From version 0.10 passing these as positional arguments will result in an error\n",
      "  rolloff = librosa.feature.spectral_rolloff(audio, sr=sr)\n"
     ]
    },
    {
     "name": "stdout",
     "output_type": "stream",
     "text": [
      "processing track  05AHcu91xUExe03IzpOO9M\n",
      "100% [............................................................................] 362861 / 362861"
     ]
    },
    {
     "name": "stderr",
     "output_type": "stream",
     "text": [
      "/Users/tejasbot/anaconda3/lib/python3.8/site-packages/librosa/util/decorators.py:88: UserWarning: PySoundFile failed. Trying audioread instead.\n",
      "  return f(*args, **kwargs)\n",
      "/var/folders/x0/9kxl__ld5lg60zg21w2jnc2c0000gn/T/ipykernel_48346/3714470853.py:56: FutureWarning: Pass y=[-0.05798667 -0.09529357 -0.06678993 ...  0.01218288  0.01813914\n",
      "  0.02598237] as keyword args. From version 0.10 passing these as positional arguments will result in an error\n",
      "  spectral_centroids = librosa.feature.spectral_centroid(audio, sr=sr)\n",
      "/var/folders/x0/9kxl__ld5lg60zg21w2jnc2c0000gn/T/ipykernel_48346/3714470853.py:57: FutureWarning: Pass y=[-0.05798667 -0.09529357 -0.06678993 ...  0.01218288  0.01813914\n",
      "  0.02598237] as keyword args. From version 0.10 passing these as positional arguments will result in an error\n",
      "  rolloff = librosa.feature.spectral_rolloff(audio, sr=sr)\n"
     ]
    },
    {
     "name": "stdout",
     "output_type": "stream",
     "text": [
      "processing track  7hLoPUlg9dcWIhmwWN8t8h\n",
      "100% [............................................................................] 362861 / 362861"
     ]
    },
    {
     "name": "stderr",
     "output_type": "stream",
     "text": [
      "/Users/tejasbot/anaconda3/lib/python3.8/site-packages/librosa/util/decorators.py:88: UserWarning: PySoundFile failed. Trying audioread instead.\n",
      "  return f(*args, **kwargs)\n",
      "/var/folders/x0/9kxl__ld5lg60zg21w2jnc2c0000gn/T/ipykernel_48346/3714470853.py:56: FutureWarning: Pass y=[-0.09093911 -0.15408234 -0.13139446 ...  0.00933433  0.02023049\n",
      "  0.03447589] as keyword args. From version 0.10 passing these as positional arguments will result in an error\n",
      "  spectral_centroids = librosa.feature.spectral_centroid(audio, sr=sr)\n",
      "/var/folders/x0/9kxl__ld5lg60zg21w2jnc2c0000gn/T/ipykernel_48346/3714470853.py:57: FutureWarning: Pass y=[-0.09093911 -0.15408234 -0.13139446 ...  0.00933433  0.02023049\n",
      "  0.03447589] as keyword args. From version 0.10 passing these as positional arguments will result in an error\n",
      "  rolloff = librosa.feature.spectral_rolloff(audio, sr=sr)\n"
     ]
    },
    {
     "name": "stdout",
     "output_type": "stream",
     "text": [
      "processing track  4nK078FMP0vFdgL0s6BT7G\n",
      "100% [............................................................................] 362861 / 362861"
     ]
    },
    {
     "name": "stderr",
     "output_type": "stream",
     "text": [
      "/Users/tejasbot/anaconda3/lib/python3.8/site-packages/librosa/util/decorators.py:88: UserWarning: PySoundFile failed. Trying audioread instead.\n",
      "  return f(*args, **kwargs)\n",
      "/var/folders/x0/9kxl__ld5lg60zg21w2jnc2c0000gn/T/ipykernel_48346/3714470853.py:56: FutureWarning: Pass y=[-0.01340387 -0.02704984 -0.0320758  ... -0.05127562 -0.0566951\n",
      "  0.        ] as keyword args. From version 0.10 passing these as positional arguments will result in an error\n",
      "  spectral_centroids = librosa.feature.spectral_centroid(audio, sr=sr)\n",
      "/var/folders/x0/9kxl__ld5lg60zg21w2jnc2c0000gn/T/ipykernel_48346/3714470853.py:57: FutureWarning: Pass y=[-0.01340387 -0.02704984 -0.0320758  ... -0.05127562 -0.0566951\n",
      "  0.        ] as keyword args. From version 0.10 passing these as positional arguments will result in an error\n",
      "  rolloff = librosa.feature.spectral_rolloff(audio, sr=sr)\n"
     ]
    },
    {
     "name": "stdout",
     "output_type": "stream",
     "text": [
      "processing track  5zNFFrj2TvLyfbAUBLvEgj\n",
      "100% [............................................................................] 362861 / 362861"
     ]
    },
    {
     "name": "stderr",
     "output_type": "stream",
     "text": [
      "/Users/tejasbot/anaconda3/lib/python3.8/site-packages/librosa/util/decorators.py:88: UserWarning: PySoundFile failed. Trying audioread instead.\n",
      "  return f(*args, **kwargs)\n",
      "/var/folders/x0/9kxl__ld5lg60zg21w2jnc2c0000gn/T/ipykernel_48346/3714470853.py:56: FutureWarning: Pass y=[-0.00531628 -0.00864719 -0.00748169 ... -0.05355972 -0.05453296\n",
      " -0.05636973] as keyword args. From version 0.10 passing these as positional arguments will result in an error\n",
      "  spectral_centroids = librosa.feature.spectral_centroid(audio, sr=sr)\n",
      "/var/folders/x0/9kxl__ld5lg60zg21w2jnc2c0000gn/T/ipykernel_48346/3714470853.py:57: FutureWarning: Pass y=[-0.00531628 -0.00864719 -0.00748169 ... -0.05355972 -0.05453296\n",
      " -0.05636973] as keyword args. From version 0.10 passing these as positional arguments will result in an error\n",
      "  rolloff = librosa.feature.spectral_rolloff(audio, sr=sr)\n"
     ]
    },
    {
     "name": "stdout",
     "output_type": "stream",
     "text": [
      "processing track  7k6O37P7MXSRWRRbdb2v1o\n",
      "100% [............................................................................] 362861 / 362861"
     ]
    },
    {
     "name": "stderr",
     "output_type": "stream",
     "text": [
      "/Users/tejasbot/anaconda3/lib/python3.8/site-packages/librosa/util/decorators.py:88: UserWarning: PySoundFile failed. Trying audioread instead.\n",
      "  return f(*args, **kwargs)\n",
      "/var/folders/x0/9kxl__ld5lg60zg21w2jnc2c0000gn/T/ipykernel_48346/3714470853.py:56: FutureWarning: Pass y=[0.02988725 0.04539654 0.03334829 ... 0.03515028 0.03366877 0.0364663 ] as keyword args. From version 0.10 passing these as positional arguments will result in an error\n",
      "  spectral_centroids = librosa.feature.spectral_centroid(audio, sr=sr)\n",
      "/var/folders/x0/9kxl__ld5lg60zg21w2jnc2c0000gn/T/ipykernel_48346/3714470853.py:57: FutureWarning: Pass y=[0.02988725 0.04539654 0.03334829 ... 0.03515028 0.03366877 0.0364663 ] as keyword args. From version 0.10 passing these as positional arguments will result in an error\n",
      "  rolloff = librosa.feature.spectral_rolloff(audio, sr=sr)\n"
     ]
    },
    {
     "name": "stdout",
     "output_type": "stream",
     "text": [
      "processing track  4RW7EZi7SHSLRwvn1Q8Mqj\n",
      "100% [............................................................................] 363885 / 363885"
     ]
    },
    {
     "name": "stderr",
     "output_type": "stream",
     "text": [
      "/Users/tejasbot/anaconda3/lib/python3.8/site-packages/librosa/util/decorators.py:88: UserWarning: PySoundFile failed. Trying audioread instead.\n",
      "  return f(*args, **kwargs)\n",
      "/var/folders/x0/9kxl__ld5lg60zg21w2jnc2c0000gn/T/ipykernel_48346/3714470853.py:56: FutureWarning: Pass y=[ 0.03983417  0.06243511  0.01908198 ... -0.1113177  -0.12130059\n",
      " -0.12952738] as keyword args. From version 0.10 passing these as positional arguments will result in an error\n",
      "  spectral_centroids = librosa.feature.spectral_centroid(audio, sr=sr)\n",
      "/var/folders/x0/9kxl__ld5lg60zg21w2jnc2c0000gn/T/ipykernel_48346/3714470853.py:57: FutureWarning: Pass y=[ 0.03983417  0.06243511  0.01908198 ... -0.1113177  -0.12130059\n",
      " -0.12952738] as keyword args. From version 0.10 passing these as positional arguments will result in an error\n",
      "  rolloff = librosa.feature.spectral_rolloff(audio, sr=sr)\n"
     ]
    },
    {
     "name": "stdout",
     "output_type": "stream",
     "text": [
      "processing track  16FSqhikE6jV5jHUP5Dlth\n",
      "100% [............................................................................] 362861 / 362861"
     ]
    },
    {
     "name": "stderr",
     "output_type": "stream",
     "text": [
      "/Users/tejasbot/anaconda3/lib/python3.8/site-packages/librosa/util/decorators.py:88: UserWarning: PySoundFile failed. Trying audioread instead.\n",
      "  return f(*args, **kwargs)\n",
      "/var/folders/x0/9kxl__ld5lg60zg21w2jnc2c0000gn/T/ipykernel_48346/3714470853.py:56: FutureWarning: Pass y=[0.00185423 0.00301191 0.00672783 ... 0.01186806 0.01803303 0.03558739] as keyword args. From version 0.10 passing these as positional arguments will result in an error\n",
      "  spectral_centroids = librosa.feature.spectral_centroid(audio, sr=sr)\n",
      "/var/folders/x0/9kxl__ld5lg60zg21w2jnc2c0000gn/T/ipykernel_48346/3714470853.py:57: FutureWarning: Pass y=[0.00185423 0.00301191 0.00672783 ... 0.01186806 0.01803303 0.03558739] as keyword args. From version 0.10 passing these as positional arguments will result in an error\n",
      "  rolloff = librosa.feature.spectral_rolloff(audio, sr=sr)\n"
     ]
    },
    {
     "name": "stdout",
     "output_type": "stream",
     "text": [
      "processing track  53ann6bENp7BF8uklrzQAp\n",
      "100% [............................................................................] 362861 / 362861"
     ]
    },
    {
     "name": "stderr",
     "output_type": "stream",
     "text": [
      "/Users/tejasbot/anaconda3/lib/python3.8/site-packages/librosa/util/decorators.py:88: UserWarning: PySoundFile failed. Trying audioread instead.\n",
      "  return f(*args, **kwargs)\n",
      "/var/folders/x0/9kxl__ld5lg60zg21w2jnc2c0000gn/T/ipykernel_48346/3714470853.py:56: FutureWarning: Pass y=[-0.16608922 -0.24377908 -0.19367658 ... -0.20841393 -0.21657611\n",
      " -0.24415806] as keyword args. From version 0.10 passing these as positional arguments will result in an error\n",
      "  spectral_centroids = librosa.feature.spectral_centroid(audio, sr=sr)\n",
      "/var/folders/x0/9kxl__ld5lg60zg21w2jnc2c0000gn/T/ipykernel_48346/3714470853.py:57: FutureWarning: Pass y=[-0.16608922 -0.24377908 -0.19367658 ... -0.20841393 -0.21657611\n",
      " -0.24415806] as keyword args. From version 0.10 passing these as positional arguments will result in an error\n",
      "  rolloff = librosa.feature.spectral_rolloff(audio, sr=sr)\n"
     ]
    },
    {
     "name": "stdout",
     "output_type": "stream",
     "text": [
      "processing track  2z0GdC9gGyUiqiZfp7PXAR\n",
      "100% [............................................................................] 361837 / 361837"
     ]
    },
    {
     "name": "stderr",
     "output_type": "stream",
     "text": [
      "/Users/tejasbot/anaconda3/lib/python3.8/site-packages/librosa/util/decorators.py:88: UserWarning: PySoundFile failed. Trying audioread instead.\n",
      "  return f(*args, **kwargs)\n",
      "/var/folders/x0/9kxl__ld5lg60zg21w2jnc2c0000gn/T/ipykernel_48346/3714470853.py:56: FutureWarning: Pass y=[ 0.03940891  0.06611899  0.06057341 ... -0.01403284 -0.00928193\n",
      " -0.0039396 ] as keyword args. From version 0.10 passing these as positional arguments will result in an error\n",
      "  spectral_centroids = librosa.feature.spectral_centroid(audio, sr=sr)\n",
      "/var/folders/x0/9kxl__ld5lg60zg21w2jnc2c0000gn/T/ipykernel_48346/3714470853.py:57: FutureWarning: Pass y=[ 0.03940891  0.06611899  0.06057341 ... -0.01403284 -0.00928193\n",
      " -0.0039396 ] as keyword args. From version 0.10 passing these as positional arguments will result in an error\n",
      "  rolloff = librosa.feature.spectral_rolloff(audio, sr=sr)\n"
     ]
    },
    {
     "name": "stdout",
     "output_type": "stream",
     "text": [
      "processing track  1daOWyjLfdaZlqHwqJ6huv\n",
      "100% [............................................................................] 361837 / 361837"
     ]
    },
    {
     "name": "stderr",
     "output_type": "stream",
     "text": [
      "/Users/tejasbot/anaconda3/lib/python3.8/site-packages/librosa/util/decorators.py:88: UserWarning: PySoundFile failed. Trying audioread instead.\n",
      "  return f(*args, **kwargs)\n",
      "/var/folders/x0/9kxl__ld5lg60zg21w2jnc2c0000gn/T/ipykernel_48346/3714470853.py:56: FutureWarning: Pass y=[ 0.02345549  0.02589597 -0.00280282 ... -0.0754554  -0.07657436\n",
      " -0.08059812] as keyword args. From version 0.10 passing these as positional arguments will result in an error\n",
      "  spectral_centroids = librosa.feature.spectral_centroid(audio, sr=sr)\n",
      "/var/folders/x0/9kxl__ld5lg60zg21w2jnc2c0000gn/T/ipykernel_48346/3714470853.py:57: FutureWarning: Pass y=[ 0.02345549  0.02589597 -0.00280282 ... -0.0754554  -0.07657436\n",
      " -0.08059812] as keyword args. From version 0.10 passing these as positional arguments will result in an error\n",
      "  rolloff = librosa.feature.spectral_rolloff(audio, sr=sr)\n"
     ]
    },
    {
     "name": "stdout",
     "output_type": "stream",
     "text": [
      "processing track  1vfbLBtHk0jtbry1Pk6Hkt\n",
      "100% [............................................................................] 361837 / 361837"
     ]
    },
    {
     "name": "stderr",
     "output_type": "stream",
     "text": [
      "/Users/tejasbot/anaconda3/lib/python3.8/site-packages/librosa/util/decorators.py:88: UserWarning: PySoundFile failed. Trying audioread instead.\n",
      "  return f(*args, **kwargs)\n",
      "/var/folders/x0/9kxl__ld5lg60zg21w2jnc2c0000gn/T/ipykernel_48346/3714470853.py:56: FutureWarning: Pass y=[-0.00152936 -0.00462387 -0.00641725 ...  0.03585724  0.03673947\n",
      "  0.03933626] as keyword args. From version 0.10 passing these as positional arguments will result in an error\n",
      "  spectral_centroids = librosa.feature.spectral_centroid(audio, sr=sr)\n",
      "/var/folders/x0/9kxl__ld5lg60zg21w2jnc2c0000gn/T/ipykernel_48346/3714470853.py:57: FutureWarning: Pass y=[-0.00152936 -0.00462387 -0.00641725 ...  0.03585724  0.03673947\n",
      "  0.03933626] as keyword args. From version 0.10 passing these as positional arguments will result in an error\n",
      "  rolloff = librosa.feature.spectral_rolloff(audio, sr=sr)\n"
     ]
    },
    {
     "name": "stdout",
     "output_type": "stream",
     "text": [
      "processing track  6M5oISQuYlFxJgYbvmBhBF\n",
      "100% [............................................................................] 362861 / 362861"
     ]
    },
    {
     "name": "stderr",
     "output_type": "stream",
     "text": [
      "/Users/tejasbot/anaconda3/lib/python3.8/site-packages/librosa/util/decorators.py:88: UserWarning: PySoundFile failed. Trying audioread instead.\n",
      "  return f(*args, **kwargs)\n",
      "/var/folders/x0/9kxl__ld5lg60zg21w2jnc2c0000gn/T/ipykernel_48346/3714470853.py:56: FutureWarning: Pass y=[-0.02258229 -0.03056257 -0.01894729 ...  0.03598287  0.00743451\n",
      "  0.        ] as keyword args. From version 0.10 passing these as positional arguments will result in an error\n",
      "  spectral_centroids = librosa.feature.spectral_centroid(audio, sr=sr)\n",
      "/var/folders/x0/9kxl__ld5lg60zg21w2jnc2c0000gn/T/ipykernel_48346/3714470853.py:57: FutureWarning: Pass y=[-0.02258229 -0.03056257 -0.01894729 ...  0.03598287  0.00743451\n",
      "  0.        ] as keyword args. From version 0.10 passing these as positional arguments will result in an error\n",
      "  rolloff = librosa.feature.spectral_rolloff(audio, sr=sr)\n"
     ]
    },
    {
     "name": "stdout",
     "output_type": "stream",
     "text": [
      "processing track  6XrRmhRD9gFEl5QDcl7d56\n",
      "100% [............................................................................] 362861 / 362861"
     ]
    },
    {
     "name": "stderr",
     "output_type": "stream",
     "text": [
      "/Users/tejasbot/anaconda3/lib/python3.8/site-packages/librosa/util/decorators.py:88: UserWarning: PySoundFile failed. Trying audioread instead.\n",
      "  return f(*args, **kwargs)\n",
      "/var/folders/x0/9kxl__ld5lg60zg21w2jnc2c0000gn/T/ipykernel_48346/3714470853.py:56: FutureWarning: Pass y=[0.0048328  0.0069118  0.00230934 ... 0.00144191 0.00257384 0.0045908 ] as keyword args. From version 0.10 passing these as positional arguments will result in an error\n",
      "  spectral_centroids = librosa.feature.spectral_centroid(audio, sr=sr)\n",
      "/var/folders/x0/9kxl__ld5lg60zg21w2jnc2c0000gn/T/ipykernel_48346/3714470853.py:57: FutureWarning: Pass y=[0.0048328  0.0069118  0.00230934 ... 0.00144191 0.00257384 0.0045908 ] as keyword args. From version 0.10 passing these as positional arguments will result in an error\n",
      "  rolloff = librosa.feature.spectral_rolloff(audio, sr=sr)\n"
     ]
    },
    {
     "name": "stdout",
     "output_type": "stream",
     "text": [
      "processing track  6PUBzTDK8uOb1rOtNZXYeG\n",
      "100% [............................................................................] 363885 / 363885"
     ]
    },
    {
     "name": "stderr",
     "output_type": "stream",
     "text": [
      "/Users/tejasbot/anaconda3/lib/python3.8/site-packages/librosa/util/decorators.py:88: UserWarning: PySoundFile failed. Trying audioread instead.\n",
      "  return f(*args, **kwargs)\n",
      "/var/folders/x0/9kxl__ld5lg60zg21w2jnc2c0000gn/T/ipykernel_48346/3714470853.py:56: FutureWarning: Pass y=[-0.00446884  0.03388099  0.1004057  ... -0.00365577  0.02824174\n",
      "  0.        ] as keyword args. From version 0.10 passing these as positional arguments will result in an error\n",
      "  spectral_centroids = librosa.feature.spectral_centroid(audio, sr=sr)\n",
      "/var/folders/x0/9kxl__ld5lg60zg21w2jnc2c0000gn/T/ipykernel_48346/3714470853.py:57: FutureWarning: Pass y=[-0.00446884  0.03388099  0.1004057  ... -0.00365577  0.02824174\n",
      "  0.        ] as keyword args. From version 0.10 passing these as positional arguments will result in an error\n",
      "  rolloff = librosa.feature.spectral_rolloff(audio, sr=sr)\n"
     ]
    },
    {
     "name": "stdout",
     "output_type": "stream",
     "text": [
      "processing track  6D3hAfu68xalGAUKJRuroW\n",
      "100% [............................................................................] 362861 / 362861"
     ]
    },
    {
     "name": "stderr",
     "output_type": "stream",
     "text": [
      "/Users/tejasbot/anaconda3/lib/python3.8/site-packages/librosa/util/decorators.py:88: UserWarning: PySoundFile failed. Trying audioread instead.\n",
      "  return f(*args, **kwargs)\n",
      "/var/folders/x0/9kxl__ld5lg60zg21w2jnc2c0000gn/T/ipykernel_48346/3714470853.py:56: FutureWarning: Pass y=[-0.00779977 -0.00390932  0.0099786  ... -0.05341537 -0.06681992\n",
      " -0.09192345] as keyword args. From version 0.10 passing these as positional arguments will result in an error\n",
      "  spectral_centroids = librosa.feature.spectral_centroid(audio, sr=sr)\n",
      "/var/folders/x0/9kxl__ld5lg60zg21w2jnc2c0000gn/T/ipykernel_48346/3714470853.py:57: FutureWarning: Pass y=[-0.00779977 -0.00390932  0.0099786  ... -0.05341537 -0.06681992\n",
      " -0.09192345] as keyword args. From version 0.10 passing these as positional arguments will result in an error\n",
      "  rolloff = librosa.feature.spectral_rolloff(audio, sr=sr)\n"
     ]
    },
    {
     "name": "stdout",
     "output_type": "stream",
     "text": [
      "processing track  6oxHGf1K1AMc7eNtTqssJx\n",
      "100% [............................................................................] 362861 / 362861"
     ]
    },
    {
     "name": "stderr",
     "output_type": "stream",
     "text": [
      "/Users/tejasbot/anaconda3/lib/python3.8/site-packages/librosa/util/decorators.py:88: UserWarning: PySoundFile failed. Trying audioread instead.\n",
      "  return f(*args, **kwargs)\n",
      "/var/folders/x0/9kxl__ld5lg60zg21w2jnc2c0000gn/T/ipykernel_48346/3714470853.py:56: FutureWarning: Pass y=[ 0.01372873  0.0398493   0.04094484 ... -0.10532415 -0.13079323\n",
      "  0.        ] as keyword args. From version 0.10 passing these as positional arguments will result in an error\n",
      "  spectral_centroids = librosa.feature.spectral_centroid(audio, sr=sr)\n",
      "/var/folders/x0/9kxl__ld5lg60zg21w2jnc2c0000gn/T/ipykernel_48346/3714470853.py:57: FutureWarning: Pass y=[ 0.01372873  0.0398493   0.04094484 ... -0.10532415 -0.13079323\n",
      "  0.        ] as keyword args. From version 0.10 passing these as positional arguments will result in an error\n",
      "  rolloff = librosa.feature.spectral_rolloff(audio, sr=sr)\n"
     ]
    },
    {
     "name": "stdout",
     "output_type": "stream",
     "text": [
      "processing track  3xsZiFNAhVny4tPPR5Ujv8\n",
      "100% [............................................................................] 362861 / 362861"
     ]
    },
    {
     "name": "stderr",
     "output_type": "stream",
     "text": [
      "/Users/tejasbot/anaconda3/lib/python3.8/site-packages/librosa/util/decorators.py:88: UserWarning: PySoundFile failed. Trying audioread instead.\n",
      "  return f(*args, **kwargs)\n",
      "/var/folders/x0/9kxl__ld5lg60zg21w2jnc2c0000gn/T/ipykernel_48346/3714470853.py:56: FutureWarning: Pass y=[0.06323849 0.11432277 0.10796653 ... 0.08847201 0.05225621 0.01142701] as keyword args. From version 0.10 passing these as positional arguments will result in an error\n",
      "  spectral_centroids = librosa.feature.spectral_centroid(audio, sr=sr)\n",
      "/var/folders/x0/9kxl__ld5lg60zg21w2jnc2c0000gn/T/ipykernel_48346/3714470853.py:57: FutureWarning: Pass y=[0.06323849 0.11432277 0.10796653 ... 0.08847201 0.05225621 0.01142701] as keyword args. From version 0.10 passing these as positional arguments will result in an error\n",
      "  rolloff = librosa.feature.spectral_rolloff(audio, sr=sr)\n"
     ]
    },
    {
     "name": "stdout",
     "output_type": "stream",
     "text": [
      "processing track  5QHQwWutocAB1brC44omm7\n",
      "100% [............................................................................] 362861 / 362861"
     ]
    },
    {
     "name": "stderr",
     "output_type": "stream",
     "text": [
      "/Users/tejasbot/anaconda3/lib/python3.8/site-packages/librosa/util/decorators.py:88: UserWarning: PySoundFile failed. Trying audioread instead.\n",
      "  return f(*args, **kwargs)\n",
      "/var/folders/x0/9kxl__ld5lg60zg21w2jnc2c0000gn/T/ipykernel_48346/3714470853.py:56: FutureWarning: Pass y=[-0.07775813 -0.14643414 -0.1196864  ...  0.08168383  0.06025246\n",
      "  0.        ] as keyword args. From version 0.10 passing these as positional arguments will result in an error\n",
      "  spectral_centroids = librosa.feature.spectral_centroid(audio, sr=sr)\n",
      "/var/folders/x0/9kxl__ld5lg60zg21w2jnc2c0000gn/T/ipykernel_48346/3714470853.py:57: FutureWarning: Pass y=[-0.07775813 -0.14643414 -0.1196864  ...  0.08168383  0.06025246\n",
      "  0.        ] as keyword args. From version 0.10 passing these as positional arguments will result in an error\n",
      "  rolloff = librosa.feature.spectral_rolloff(audio, sr=sr)\n"
     ]
    },
    {
     "name": "stdout",
     "output_type": "stream",
     "text": [
      "processing track  5PK8HbGRNSzUVL80VooM9R\n",
      "100% [............................................................................] 362861 / 362861"
     ]
    },
    {
     "name": "stderr",
     "output_type": "stream",
     "text": [
      "/Users/tejasbot/anaconda3/lib/python3.8/site-packages/librosa/util/decorators.py:88: UserWarning: PySoundFile failed. Trying audioread instead.\n",
      "  return f(*args, **kwargs)\n",
      "/var/folders/x0/9kxl__ld5lg60zg21w2jnc2c0000gn/T/ipykernel_48346/3714470853.py:56: FutureWarning: Pass y=[ 0.01278928  0.01921902  0.01257724 ... -0.0127101   0.00537776\n",
      "  0.        ] as keyword args. From version 0.10 passing these as positional arguments will result in an error\n",
      "  spectral_centroids = librosa.feature.spectral_centroid(audio, sr=sr)\n",
      "/var/folders/x0/9kxl__ld5lg60zg21w2jnc2c0000gn/T/ipykernel_48346/3714470853.py:57: FutureWarning: Pass y=[ 0.01278928  0.01921902  0.01257724 ... -0.0127101   0.00537776\n",
      "  0.        ] as keyword args. From version 0.10 passing these as positional arguments will result in an error\n",
      "  rolloff = librosa.feature.spectral_rolloff(audio, sr=sr)\n"
     ]
    },
    {
     "name": "stdout",
     "output_type": "stream",
     "text": [
      "processing track  0RTxXGoOILalMZT2vM80Ul\n",
      "100% [............................................................................] 362861 / 362861"
     ]
    },
    {
     "name": "stderr",
     "output_type": "stream",
     "text": [
      "/Users/tejasbot/anaconda3/lib/python3.8/site-packages/librosa/util/decorators.py:88: UserWarning: PySoundFile failed. Trying audioread instead.\n",
      "  return f(*args, **kwargs)\n",
      "/var/folders/x0/9kxl__ld5lg60zg21w2jnc2c0000gn/T/ipykernel_48346/3714470853.py:56: FutureWarning: Pass y=[0.03445173 0.04615419 0.03814212 ... 0.03928538 0.03081763 0.03408078] as keyword args. From version 0.10 passing these as positional arguments will result in an error\n",
      "  spectral_centroids = librosa.feature.spectral_centroid(audio, sr=sr)\n",
      "/var/folders/x0/9kxl__ld5lg60zg21w2jnc2c0000gn/T/ipykernel_48346/3714470853.py:57: FutureWarning: Pass y=[0.03445173 0.04615419 0.03814212 ... 0.03928538 0.03081763 0.03408078] as keyword args. From version 0.10 passing these as positional arguments will result in an error\n",
      "  rolloff = librosa.feature.spectral_rolloff(audio, sr=sr)\n"
     ]
    },
    {
     "name": "stdout",
     "output_type": "stream",
     "text": [
      "processing track  40bY1ogKb5iacr3yI8gvWE\n",
      "100% [............................................................................] 362861 / 362861"
     ]
    },
    {
     "name": "stderr",
     "output_type": "stream",
     "text": [
      "/Users/tejasbot/anaconda3/lib/python3.8/site-packages/librosa/util/decorators.py:88: UserWarning: PySoundFile failed. Trying audioread instead.\n",
      "  return f(*args, **kwargs)\n",
      "/var/folders/x0/9kxl__ld5lg60zg21w2jnc2c0000gn/T/ipykernel_48346/3714470853.py:56: FutureWarning: Pass y=[-0.02680629 -0.0602428  -0.07299427 ...  0.03251379  0.02549187\n",
      "  0.04923239] as keyword args. From version 0.10 passing these as positional arguments will result in an error\n",
      "  spectral_centroids = librosa.feature.spectral_centroid(audio, sr=sr)\n",
      "/var/folders/x0/9kxl__ld5lg60zg21w2jnc2c0000gn/T/ipykernel_48346/3714470853.py:57: FutureWarning: Pass y=[-0.02680629 -0.0602428  -0.07299427 ...  0.03251379  0.02549187\n",
      "  0.04923239] as keyword args. From version 0.10 passing these as positional arguments will result in an error\n",
      "  rolloff = librosa.feature.spectral_rolloff(audio, sr=sr)\n"
     ]
    },
    {
     "name": "stdout",
     "output_type": "stream",
     "text": [
      "processing track  2Yjv7MOdst5y6fFsq4cKOL\n",
      "100% [............................................................................] 363885 / 363885"
     ]
    },
    {
     "name": "stderr",
     "output_type": "stream",
     "text": [
      "/Users/tejasbot/anaconda3/lib/python3.8/site-packages/librosa/util/decorators.py:88: UserWarning: PySoundFile failed. Trying audioread instead.\n",
      "  return f(*args, **kwargs)\n",
      "/var/folders/x0/9kxl__ld5lg60zg21w2jnc2c0000gn/T/ipykernel_48346/3714470853.py:56: FutureWarning: Pass y=[ 0.11669765  0.16663867  0.1488658  ... -0.17861405 -0.19289398\n",
      "  0.        ] as keyword args. From version 0.10 passing these as positional arguments will result in an error\n",
      "  spectral_centroids = librosa.feature.spectral_centroid(audio, sr=sr)\n",
      "/var/folders/x0/9kxl__ld5lg60zg21w2jnc2c0000gn/T/ipykernel_48346/3714470853.py:57: FutureWarning: Pass y=[ 0.11669765  0.16663867  0.1488658  ... -0.17861405 -0.19289398\n",
      "  0.        ] as keyword args. From version 0.10 passing these as positional arguments will result in an error\n",
      "  rolloff = librosa.feature.spectral_rolloff(audio, sr=sr)\n"
     ]
    },
    {
     "name": "stdout",
     "output_type": "stream",
     "text": [
      "processing track  3x6OMmjPcqkTk3q2Da6ixt\n",
      "100% [............................................................................] 362861 / 362861"
     ]
    },
    {
     "name": "stderr",
     "output_type": "stream",
     "text": [
      "/Users/tejasbot/anaconda3/lib/python3.8/site-packages/librosa/util/decorators.py:88: UserWarning: PySoundFile failed. Trying audioread instead.\n",
      "  return f(*args, **kwargs)\n",
      "/var/folders/x0/9kxl__ld5lg60zg21w2jnc2c0000gn/T/ipykernel_48346/3714470853.py:56: FutureWarning: Pass y=[-0.00823046 -0.02237012 -0.03518762 ...  0.06203314  0.06945439\n",
      "  0.06488776] as keyword args. From version 0.10 passing these as positional arguments will result in an error\n",
      "  spectral_centroids = librosa.feature.spectral_centroid(audio, sr=sr)\n",
      "/var/folders/x0/9kxl__ld5lg60zg21w2jnc2c0000gn/T/ipykernel_48346/3714470853.py:57: FutureWarning: Pass y=[-0.00823046 -0.02237012 -0.03518762 ...  0.06203314  0.06945439\n",
      "  0.06488776] as keyword args. From version 0.10 passing these as positional arguments will result in an error\n",
      "  rolloff = librosa.feature.spectral_rolloff(audio, sr=sr)\n"
     ]
    },
    {
     "name": "stdout",
     "output_type": "stream",
     "text": [
      "processing track  2FsKjaAz59zfg3eSfx8tah\n",
      "100% [............................................................................] 362861 / 362861"
     ]
    },
    {
     "name": "stderr",
     "output_type": "stream",
     "text": [
      "/Users/tejasbot/anaconda3/lib/python3.8/site-packages/librosa/util/decorators.py:88: UserWarning: PySoundFile failed. Trying audioread instead.\n",
      "  return f(*args, **kwargs)\n",
      "/var/folders/x0/9kxl__ld5lg60zg21w2jnc2c0000gn/T/ipykernel_48346/3714470853.py:56: FutureWarning: Pass y=[ 0.04314116  0.07116136  0.05692087 ... -0.01472229 -0.01442581\n",
      " -0.00684597] as keyword args. From version 0.10 passing these as positional arguments will result in an error\n",
      "  spectral_centroids = librosa.feature.spectral_centroid(audio, sr=sr)\n",
      "/var/folders/x0/9kxl__ld5lg60zg21w2jnc2c0000gn/T/ipykernel_48346/3714470853.py:57: FutureWarning: Pass y=[ 0.04314116  0.07116136  0.05692087 ... -0.01472229 -0.01442581\n",
      " -0.00684597] as keyword args. From version 0.10 passing these as positional arguments will result in an error\n",
      "  rolloff = librosa.feature.spectral_rolloff(audio, sr=sr)\n"
     ]
    },
    {
     "name": "stdout",
     "output_type": "stream",
     "text": [
      "processing track  5X9zItxq0F1rnsmcZzPQkT\n",
      "100% [............................................................................] 362861 / 362861"
     ]
    },
    {
     "name": "stderr",
     "output_type": "stream",
     "text": [
      "/Users/tejasbot/anaconda3/lib/python3.8/site-packages/librosa/util/decorators.py:88: UserWarning: PySoundFile failed. Trying audioread instead.\n",
      "  return f(*args, **kwargs)\n",
      "/var/folders/x0/9kxl__ld5lg60zg21w2jnc2c0000gn/T/ipykernel_48346/3714470853.py:56: FutureWarning: Pass y=[-0.00170185 -0.00354097 -0.00465914 ...  0.02473396  0.02658466\n",
      "  0.03000036] as keyword args. From version 0.10 passing these as positional arguments will result in an error\n",
      "  spectral_centroids = librosa.feature.spectral_centroid(audio, sr=sr)\n",
      "/var/folders/x0/9kxl__ld5lg60zg21w2jnc2c0000gn/T/ipykernel_48346/3714470853.py:57: FutureWarning: Pass y=[-0.00170185 -0.00354097 -0.00465914 ...  0.02473396  0.02658466\n",
      "  0.03000036] as keyword args. From version 0.10 passing these as positional arguments will result in an error\n",
      "  rolloff = librosa.feature.spectral_rolloff(audio, sr=sr)\n"
     ]
    },
    {
     "name": "stdout",
     "output_type": "stream",
     "text": [
      "processing track  5fqw2Wa9TKBSFAcY22SVbt\n",
      "100% [............................................................................] 362861 / 362861"
     ]
    },
    {
     "name": "stderr",
     "output_type": "stream",
     "text": [
      "/Users/tejasbot/anaconda3/lib/python3.8/site-packages/librosa/util/decorators.py:88: UserWarning: PySoundFile failed. Trying audioread instead.\n",
      "  return f(*args, **kwargs)\n",
      "/var/folders/x0/9kxl__ld5lg60zg21w2jnc2c0000gn/T/ipykernel_48346/3714470853.py:56: FutureWarning: Pass y=[ 0.00691864  0.005975   -0.00470192 ...  0.00320609  0.01193797\n",
      "  0.        ] as keyword args. From version 0.10 passing these as positional arguments will result in an error\n",
      "  spectral_centroids = librosa.feature.spectral_centroid(audio, sr=sr)\n",
      "/var/folders/x0/9kxl__ld5lg60zg21w2jnc2c0000gn/T/ipykernel_48346/3714470853.py:57: FutureWarning: Pass y=[ 0.00691864  0.005975   -0.00470192 ...  0.00320609  0.01193797\n",
      "  0.        ] as keyword args. From version 0.10 passing these as positional arguments will result in an error\n",
      "  rolloff = librosa.feature.spectral_rolloff(audio, sr=sr)\n"
     ]
    },
    {
     "name": "stdout",
     "output_type": "stream",
     "text": [
      "processing track  23kGXJBbWiBIzP4X5nc9OK\n",
      "100% [............................................................................] 361837 / 361837"
     ]
    },
    {
     "name": "stderr",
     "output_type": "stream",
     "text": [
      "/Users/tejasbot/anaconda3/lib/python3.8/site-packages/librosa/util/decorators.py:88: UserWarning: PySoundFile failed. Trying audioread instead.\n",
      "  return f(*args, **kwargs)\n",
      "/var/folders/x0/9kxl__ld5lg60zg21w2jnc2c0000gn/T/ipykernel_48346/3714470853.py:56: FutureWarning: Pass y=[ 0.08010145  0.13544631  0.12622897 ... -0.04711148 -0.05570887\n",
      " -0.06642263] as keyword args. From version 0.10 passing these as positional arguments will result in an error\n",
      "  spectral_centroids = librosa.feature.spectral_centroid(audio, sr=sr)\n",
      "/var/folders/x0/9kxl__ld5lg60zg21w2jnc2c0000gn/T/ipykernel_48346/3714470853.py:57: FutureWarning: Pass y=[ 0.08010145  0.13544631  0.12622897 ... -0.04711148 -0.05570887\n",
      " -0.06642263] as keyword args. From version 0.10 passing these as positional arguments will result in an error\n",
      "  rolloff = librosa.feature.spectral_rolloff(audio, sr=sr)\n"
     ]
    },
    {
     "name": "stdout",
     "output_type": "stream",
     "text": [
      "processing track  6SqmBvadma2WtHayotPstW\n",
      "100% [............................................................................] 362861 / 362861"
     ]
    },
    {
     "name": "stderr",
     "output_type": "stream",
     "text": [
      "/Users/tejasbot/anaconda3/lib/python3.8/site-packages/librosa/util/decorators.py:88: UserWarning: PySoundFile failed. Trying audioread instead.\n",
      "  return f(*args, **kwargs)\n",
      "/var/folders/x0/9kxl__ld5lg60zg21w2jnc2c0000gn/T/ipykernel_48346/3714470853.py:56: FutureWarning: Pass y=[-0.02956687 -0.06516586 -0.07012412 ... -0.0161353   0.00213466\n",
      "  0.        ] as keyword args. From version 0.10 passing these as positional arguments will result in an error\n",
      "  spectral_centroids = librosa.feature.spectral_centroid(audio, sr=sr)\n",
      "/var/folders/x0/9kxl__ld5lg60zg21w2jnc2c0000gn/T/ipykernel_48346/3714470853.py:57: FutureWarning: Pass y=[-0.02956687 -0.06516586 -0.07012412 ... -0.0161353   0.00213466\n",
      "  0.        ] as keyword args. From version 0.10 passing these as positional arguments will result in an error\n",
      "  rolloff = librosa.feature.spectral_rolloff(audio, sr=sr)\n"
     ]
    },
    {
     "name": "stdout",
     "output_type": "stream",
     "text": [
      "processing track  57R0alsNxKwC50KRFOE4R7\n",
      "100% [............................................................................] 362861 / 362861"
     ]
    },
    {
     "name": "stderr",
     "output_type": "stream",
     "text": [
      "/Users/tejasbot/anaconda3/lib/python3.8/site-packages/librosa/util/decorators.py:88: UserWarning: PySoundFile failed. Trying audioread instead.\n",
      "  return f(*args, **kwargs)\n",
      "/var/folders/x0/9kxl__ld5lg60zg21w2jnc2c0000gn/T/ipykernel_48346/3714470853.py:56: FutureWarning: Pass y=[-0.04934088 -0.07882266 -0.07079517 ...  0.02402618  0.01986775\n",
      "  0.01479157] as keyword args. From version 0.10 passing these as positional arguments will result in an error\n",
      "  spectral_centroids = librosa.feature.spectral_centroid(audio, sr=sr)\n",
      "/var/folders/x0/9kxl__ld5lg60zg21w2jnc2c0000gn/T/ipykernel_48346/3714470853.py:57: FutureWarning: Pass y=[-0.04934088 -0.07882266 -0.07079517 ...  0.02402618  0.01986775\n",
      "  0.01479157] as keyword args. From version 0.10 passing these as positional arguments will result in an error\n",
      "  rolloff = librosa.feature.spectral_rolloff(audio, sr=sr)\n"
     ]
    },
    {
     "name": "stdout",
     "output_type": "stream",
     "text": [
      "processing track  6wv6pQWMU6vxmP2aECDg2E\n",
      "100% [............................................................................] 362861 / 362861"
     ]
    },
    {
     "name": "stderr",
     "output_type": "stream",
     "text": [
      "/Users/tejasbot/anaconda3/lib/python3.8/site-packages/librosa/util/decorators.py:88: UserWarning: PySoundFile failed. Trying audioread instead.\n",
      "  return f(*args, **kwargs)\n",
      "/var/folders/x0/9kxl__ld5lg60zg21w2jnc2c0000gn/T/ipykernel_48346/3714470853.py:56: FutureWarning: Pass y=[0.00418147 0.00785879 0.00750192 ... 0.05824103 0.05766794 0.05922985] as keyword args. From version 0.10 passing these as positional arguments will result in an error\n",
      "  spectral_centroids = librosa.feature.spectral_centroid(audio, sr=sr)\n",
      "/var/folders/x0/9kxl__ld5lg60zg21w2jnc2c0000gn/T/ipykernel_48346/3714470853.py:57: FutureWarning: Pass y=[0.00418147 0.00785879 0.00750192 ... 0.05824103 0.05766794 0.05922985] as keyword args. From version 0.10 passing these as positional arguments will result in an error\n",
      "  rolloff = librosa.feature.spectral_rolloff(audio, sr=sr)\n"
     ]
    },
    {
     "name": "stdout",
     "output_type": "stream",
     "text": [
      "processing track  74xCCOC2I9UPJIIoVxd1nY\n",
      "100% [............................................................................] 362861 / 362861"
     ]
    },
    {
     "name": "stderr",
     "output_type": "stream",
     "text": [
      "/Users/tejasbot/anaconda3/lib/python3.8/site-packages/librosa/util/decorators.py:88: UserWarning: PySoundFile failed. Trying audioread instead.\n",
      "  return f(*args, **kwargs)\n",
      "/var/folders/x0/9kxl__ld5lg60zg21w2jnc2c0000gn/T/ipykernel_48346/3714470853.py:56: FutureWarning: Pass y=[0.00049267 0.00516786 0.00139011 ... 0.0649921  0.07550766 0.        ] as keyword args. From version 0.10 passing these as positional arguments will result in an error\n",
      "  spectral_centroids = librosa.feature.spectral_centroid(audio, sr=sr)\n",
      "/var/folders/x0/9kxl__ld5lg60zg21w2jnc2c0000gn/T/ipykernel_48346/3714470853.py:57: FutureWarning: Pass y=[0.00049267 0.00516786 0.00139011 ... 0.0649921  0.07550766 0.        ] as keyword args. From version 0.10 passing these as positional arguments will result in an error\n",
      "  rolloff = librosa.feature.spectral_rolloff(audio, sr=sr)\n"
     ]
    },
    {
     "name": "stdout",
     "output_type": "stream",
     "text": [
      "processing track  6PbpskoxcTc8xBSf7Iqd5f\n",
      "100% [............................................................................] 362861 / 362861"
     ]
    },
    {
     "name": "stderr",
     "output_type": "stream",
     "text": [
      "/Users/tejasbot/anaconda3/lib/python3.8/site-packages/librosa/util/decorators.py:88: UserWarning: PySoundFile failed. Trying audioread instead.\n",
      "  return f(*args, **kwargs)\n",
      "/var/folders/x0/9kxl__ld5lg60zg21w2jnc2c0000gn/T/ipykernel_48346/3714470853.py:56: FutureWarning: Pass y=[ 0.01656007  0.02511724  0.00305078 ... -0.00560135 -0.00455912\n",
      "  0.        ] as keyword args. From version 0.10 passing these as positional arguments will result in an error\n",
      "  spectral_centroids = librosa.feature.spectral_centroid(audio, sr=sr)\n",
      "/var/folders/x0/9kxl__ld5lg60zg21w2jnc2c0000gn/T/ipykernel_48346/3714470853.py:57: FutureWarning: Pass y=[ 0.01656007  0.02511724  0.00305078 ... -0.00560135 -0.00455912\n",
      "  0.        ] as keyword args. From version 0.10 passing these as positional arguments will result in an error\n",
      "  rolloff = librosa.feature.spectral_rolloff(audio, sr=sr)\n"
     ]
    },
    {
     "name": "stdout",
     "output_type": "stream",
     "text": [
      "processing track  7GfMa4sVDb5eDOpktiFfnj\n",
      "100% [............................................................................] 362861 / 362861"
     ]
    },
    {
     "name": "stderr",
     "output_type": "stream",
     "text": [
      "/Users/tejasbot/anaconda3/lib/python3.8/site-packages/librosa/util/decorators.py:88: UserWarning: PySoundFile failed. Trying audioread instead.\n",
      "  return f(*args, **kwargs)\n",
      "/var/folders/x0/9kxl__ld5lg60zg21w2jnc2c0000gn/T/ipykernel_48346/3714470853.py:56: FutureWarning: Pass y=[ 0.02672605  0.05753703  0.06871433 ... -0.05098382 -0.05581868\n",
      " -0.05962284] as keyword args. From version 0.10 passing these as positional arguments will result in an error\n",
      "  spectral_centroids = librosa.feature.spectral_centroid(audio, sr=sr)\n",
      "/var/folders/x0/9kxl__ld5lg60zg21w2jnc2c0000gn/T/ipykernel_48346/3714470853.py:57: FutureWarning: Pass y=[ 0.02672605  0.05753703  0.06871433 ... -0.05098382 -0.05581868\n",
      " -0.05962284] as keyword args. From version 0.10 passing these as positional arguments will result in an error\n",
      "  rolloff = librosa.feature.spectral_rolloff(audio, sr=sr)\n"
     ]
    },
    {
     "name": "stdout",
     "output_type": "stream",
     "text": [
      "processing track  1iv7leCmficI7hJCwhvtFE\n",
      "100% [............................................................................] 361837 / 361837"
     ]
    },
    {
     "name": "stderr",
     "output_type": "stream",
     "text": [
      "/Users/tejasbot/anaconda3/lib/python3.8/site-packages/librosa/util/decorators.py:88: UserWarning: PySoundFile failed. Trying audioread instead.\n",
      "  return f(*args, **kwargs)\n",
      "/var/folders/x0/9kxl__ld5lg60zg21w2jnc2c0000gn/T/ipykernel_48346/3714470853.py:56: FutureWarning: Pass y=[0.00036812 0.00066099 0.00068481 ... 0.02168493 0.01625523 0.01823804] as keyword args. From version 0.10 passing these as positional arguments will result in an error\n",
      "  spectral_centroids = librosa.feature.spectral_centroid(audio, sr=sr)\n",
      "/var/folders/x0/9kxl__ld5lg60zg21w2jnc2c0000gn/T/ipykernel_48346/3714470853.py:57: FutureWarning: Pass y=[0.00036812 0.00066099 0.00068481 ... 0.02168493 0.01625523 0.01823804] as keyword args. From version 0.10 passing these as positional arguments will result in an error\n",
      "  rolloff = librosa.feature.spectral_rolloff(audio, sr=sr)\n"
     ]
    },
    {
     "name": "stdout",
     "output_type": "stream",
     "text": [
      "processing track  58gq4X6RCEBf9P9Ef9F86p\n",
      "100% [............................................................................] 362861 / 362861"
     ]
    },
    {
     "name": "stderr",
     "output_type": "stream",
     "text": [
      "/Users/tejasbot/anaconda3/lib/python3.8/site-packages/librosa/util/decorators.py:88: UserWarning: PySoundFile failed. Trying audioread instead.\n",
      "  return f(*args, **kwargs)\n",
      "/var/folders/x0/9kxl__ld5lg60zg21w2jnc2c0000gn/T/ipykernel_48346/3714470853.py:56: FutureWarning: Pass y=[0.00791271 0.01500628 0.01759711 ... 0.10449702 0.10293017 0.        ] as keyword args. From version 0.10 passing these as positional arguments will result in an error\n",
      "  spectral_centroids = librosa.feature.spectral_centroid(audio, sr=sr)\n",
      "/var/folders/x0/9kxl__ld5lg60zg21w2jnc2c0000gn/T/ipykernel_48346/3714470853.py:57: FutureWarning: Pass y=[0.00791271 0.01500628 0.01759711 ... 0.10449702 0.10293017 0.        ] as keyword args. From version 0.10 passing these as positional arguments will result in an error\n",
      "  rolloff = librosa.feature.spectral_rolloff(audio, sr=sr)\n"
     ]
    },
    {
     "name": "stdout",
     "output_type": "stream",
     "text": [
      "processing track  05iURKvut2OWEzPHQUhDT5\n",
      "100% [............................................................................] 362861 / 362861"
     ]
    },
    {
     "name": "stderr",
     "output_type": "stream",
     "text": [
      "/Users/tejasbot/anaconda3/lib/python3.8/site-packages/librosa/util/decorators.py:88: UserWarning: PySoundFile failed. Trying audioread instead.\n",
      "  return f(*args, **kwargs)\n",
      "/var/folders/x0/9kxl__ld5lg60zg21w2jnc2c0000gn/T/ipykernel_48346/3714470853.py:56: FutureWarning: Pass y=[-0.00372745 -0.00812221 -0.00828594 ...  0.02234574  0.02701274\n",
      "  0.        ] as keyword args. From version 0.10 passing these as positional arguments will result in an error\n",
      "  spectral_centroids = librosa.feature.spectral_centroid(audio, sr=sr)\n",
      "/var/folders/x0/9kxl__ld5lg60zg21w2jnc2c0000gn/T/ipykernel_48346/3714470853.py:57: FutureWarning: Pass y=[-0.00372745 -0.00812221 -0.00828594 ...  0.02234574  0.02701274\n",
      "  0.        ] as keyword args. From version 0.10 passing these as positional arguments will result in an error\n",
      "  rolloff = librosa.feature.spectral_rolloff(audio, sr=sr)\n"
     ]
    },
    {
     "name": "stdout",
     "output_type": "stream",
     "text": [
      "processing track  2OZeNy9zRbzk6eQsO0Y0cq\n",
      "100% [............................................................................] 362861 / 362861"
     ]
    },
    {
     "name": "stderr",
     "output_type": "stream",
     "text": [
      "/Users/tejasbot/anaconda3/lib/python3.8/site-packages/librosa/util/decorators.py:88: UserWarning: PySoundFile failed. Trying audioread instead.\n",
      "  return f(*args, **kwargs)\n",
      "/var/folders/x0/9kxl__ld5lg60zg21w2jnc2c0000gn/T/ipykernel_48346/3714470853.py:56: FutureWarning: Pass y=[0.03967328 0.07228584 0.06501381 ... 0.074504   0.07460823 0.07030275] as keyword args. From version 0.10 passing these as positional arguments will result in an error\n",
      "  spectral_centroids = librosa.feature.spectral_centroid(audio, sr=sr)\n",
      "/var/folders/x0/9kxl__ld5lg60zg21w2jnc2c0000gn/T/ipykernel_48346/3714470853.py:57: FutureWarning: Pass y=[0.03967328 0.07228584 0.06501381 ... 0.074504   0.07460823 0.07030275] as keyword args. From version 0.10 passing these as positional arguments will result in an error\n",
      "  rolloff = librosa.feature.spectral_rolloff(audio, sr=sr)\n"
     ]
    },
    {
     "name": "stdout",
     "output_type": "stream",
     "text": [
      "processing track  4aZWys7JSvmXOkKDGSmH7t\n",
      "100% [............................................................................] 361837 / 361837"
     ]
    },
    {
     "name": "stderr",
     "output_type": "stream",
     "text": [
      "/Users/tejasbot/anaconda3/lib/python3.8/site-packages/librosa/util/decorators.py:88: UserWarning: PySoundFile failed. Trying audioread instead.\n",
      "  return f(*args, **kwargs)\n",
      "/var/folders/x0/9kxl__ld5lg60zg21w2jnc2c0000gn/T/ipykernel_48346/3714470853.py:56: FutureWarning: Pass y=[-0.00073762 -0.00271226 -0.00341767 ... -0.004747   -0.00590451\n",
      " -0.00591713] as keyword args. From version 0.10 passing these as positional arguments will result in an error\n",
      "  spectral_centroids = librosa.feature.spectral_centroid(audio, sr=sr)\n",
      "/var/folders/x0/9kxl__ld5lg60zg21w2jnc2c0000gn/T/ipykernel_48346/3714470853.py:57: FutureWarning: Pass y=[-0.00073762 -0.00271226 -0.00341767 ... -0.004747   -0.00590451\n",
      " -0.00591713] as keyword args. From version 0.10 passing these as positional arguments will result in an error\n",
      "  rolloff = librosa.feature.spectral_rolloff(audio, sr=sr)\n"
     ]
    },
    {
     "name": "stdout",
     "output_type": "stream",
     "text": [
      "processing track  7oUJCv29FnRtzcIoIqnW8c\n",
      "100% [............................................................................] 363885 / 363885"
     ]
    },
    {
     "name": "stderr",
     "output_type": "stream",
     "text": [
      "/Users/tejasbot/anaconda3/lib/python3.8/site-packages/librosa/util/decorators.py:88: UserWarning: PySoundFile failed. Trying audioread instead.\n",
      "  return f(*args, **kwargs)\n",
      "/var/folders/x0/9kxl__ld5lg60zg21w2jnc2c0000gn/T/ipykernel_48346/3714470853.py:56: FutureWarning: Pass y=[-0.02777809 -0.04475303 -0.04125424 ...  0.02171809  0.00549149\n",
      " -0.00881692] as keyword args. From version 0.10 passing these as positional arguments will result in an error\n",
      "  spectral_centroids = librosa.feature.spectral_centroid(audio, sr=sr)\n",
      "/var/folders/x0/9kxl__ld5lg60zg21w2jnc2c0000gn/T/ipykernel_48346/3714470853.py:57: FutureWarning: Pass y=[-0.02777809 -0.04475303 -0.04125424 ...  0.02171809  0.00549149\n",
      " -0.00881692] as keyword args. From version 0.10 passing these as positional arguments will result in an error\n",
      "  rolloff = librosa.feature.spectral_rolloff(audio, sr=sr)\n"
     ]
    },
    {
     "name": "stdout",
     "output_type": "stream",
     "text": [
      "processing track  35H0Fk1SFBNMp8YAY9KIsn\n",
      "100% [............................................................................] 362861 / 362861"
     ]
    },
    {
     "name": "stderr",
     "output_type": "stream",
     "text": [
      "/Users/tejasbot/anaconda3/lib/python3.8/site-packages/librosa/util/decorators.py:88: UserWarning: PySoundFile failed. Trying audioread instead.\n",
      "  return f(*args, **kwargs)\n",
      "/var/folders/x0/9kxl__ld5lg60zg21w2jnc2c0000gn/T/ipykernel_48346/3714470853.py:56: FutureWarning: Pass y=[-0.02083453 -0.04497837 -0.04927123 ... -0.01034514 -0.01753424\n",
      "  0.        ] as keyword args. From version 0.10 passing these as positional arguments will result in an error\n",
      "  spectral_centroids = librosa.feature.spectral_centroid(audio, sr=sr)\n",
      "/var/folders/x0/9kxl__ld5lg60zg21w2jnc2c0000gn/T/ipykernel_48346/3714470853.py:57: FutureWarning: Pass y=[-0.02083453 -0.04497837 -0.04927123 ... -0.01034514 -0.01753424\n",
      "  0.        ] as keyword args. From version 0.10 passing these as positional arguments will result in an error\n",
      "  rolloff = librosa.feature.spectral_rolloff(audio, sr=sr)\n"
     ]
    },
    {
     "name": "stdout",
     "output_type": "stream",
     "text": [
      "processing track  4zyY4J0D0RUQ79EmYHL5wU\n",
      "100% [............................................................................] 362861 / 362861"
     ]
    },
    {
     "name": "stderr",
     "output_type": "stream",
     "text": [
      "/Users/tejasbot/anaconda3/lib/python3.8/site-packages/librosa/util/decorators.py:88: UserWarning: PySoundFile failed. Trying audioread instead.\n",
      "  return f(*args, **kwargs)\n",
      "/var/folders/x0/9kxl__ld5lg60zg21w2jnc2c0000gn/T/ipykernel_48346/3714470853.py:56: FutureWarning: Pass y=[-0.00013387  0.00225879  0.0084273  ...  0.04403189  0.0532477\n",
      "  0.        ] as keyword args. From version 0.10 passing these as positional arguments will result in an error\n",
      "  spectral_centroids = librosa.feature.spectral_centroid(audio, sr=sr)\n",
      "/var/folders/x0/9kxl__ld5lg60zg21w2jnc2c0000gn/T/ipykernel_48346/3714470853.py:57: FutureWarning: Pass y=[-0.00013387  0.00225879  0.0084273  ...  0.04403189  0.0532477\n",
      "  0.        ] as keyword args. From version 0.10 passing these as positional arguments will result in an error\n",
      "  rolloff = librosa.feature.spectral_rolloff(audio, sr=sr)\n"
     ]
    },
    {
     "name": "stdout",
     "output_type": "stream",
     "text": [
      "processing track  1oPIgqeUqKUxornDZeLJ8Y\n",
      "100% [............................................................................] 362861 / 362861"
     ]
    },
    {
     "name": "stderr",
     "output_type": "stream",
     "text": [
      "/Users/tejasbot/anaconda3/lib/python3.8/site-packages/librosa/util/decorators.py:88: UserWarning: PySoundFile failed. Trying audioread instead.\n",
      "  return f(*args, **kwargs)\n",
      "/var/folders/x0/9kxl__ld5lg60zg21w2jnc2c0000gn/T/ipykernel_48346/3714470853.py:56: FutureWarning: Pass y=[-0.01588259 -0.02372234 -0.02341549 ...  0.01620398  0.01129428\n",
      "  0.00681434] as keyword args. From version 0.10 passing these as positional arguments will result in an error\n",
      "  spectral_centroids = librosa.feature.spectral_centroid(audio, sr=sr)\n",
      "/var/folders/x0/9kxl__ld5lg60zg21w2jnc2c0000gn/T/ipykernel_48346/3714470853.py:57: FutureWarning: Pass y=[-0.01588259 -0.02372234 -0.02341549 ...  0.01620398  0.01129428\n",
      "  0.00681434] as keyword args. From version 0.10 passing these as positional arguments will result in an error\n",
      "  rolloff = librosa.feature.spectral_rolloff(audio, sr=sr)\n"
     ]
    },
    {
     "name": "stdout",
     "output_type": "stream",
     "text": [
      "processing track  3tDAxYhHp2SiXxrpQQRohP\n",
      "100% [............................................................................] 362861 / 362861"
     ]
    },
    {
     "name": "stderr",
     "output_type": "stream",
     "text": [
      "/Users/tejasbot/anaconda3/lib/python3.8/site-packages/librosa/util/decorators.py:88: UserWarning: PySoundFile failed. Trying audioread instead.\n",
      "  return f(*args, **kwargs)\n",
      "/var/folders/x0/9kxl__ld5lg60zg21w2jnc2c0000gn/T/ipykernel_48346/3714470853.py:56: FutureWarning: Pass y=[-0.02590849 -0.06584845 -0.10144043 ...  0.00631741  0.0068867\n",
      "  0.        ] as keyword args. From version 0.10 passing these as positional arguments will result in an error\n",
      "  spectral_centroids = librosa.feature.spectral_centroid(audio, sr=sr)\n",
      "/var/folders/x0/9kxl__ld5lg60zg21w2jnc2c0000gn/T/ipykernel_48346/3714470853.py:57: FutureWarning: Pass y=[-0.02590849 -0.06584845 -0.10144043 ...  0.00631741  0.0068867\n",
      "  0.        ] as keyword args. From version 0.10 passing these as positional arguments will result in an error\n",
      "  rolloff = librosa.feature.spectral_rolloff(audio, sr=sr)\n"
     ]
    },
    {
     "name": "stdout",
     "output_type": "stream",
     "text": [
      "processing track  5z6TjuPzOK6JK8z8FvQatE\n",
      "100% [............................................................................] 362861 / 362861"
     ]
    },
    {
     "name": "stderr",
     "output_type": "stream",
     "text": [
      "/Users/tejasbot/anaconda3/lib/python3.8/site-packages/librosa/util/decorators.py:88: UserWarning: PySoundFile failed. Trying audioread instead.\n",
      "  return f(*args, **kwargs)\n",
      "/var/folders/x0/9kxl__ld5lg60zg21w2jnc2c0000gn/T/ipykernel_48346/3714470853.py:56: FutureWarning: Pass y=[-0.02147234 -0.01305956  0.00556521 ... -0.01549416 -0.02782696\n",
      " -0.04158952] as keyword args. From version 0.10 passing these as positional arguments will result in an error\n",
      "  spectral_centroids = librosa.feature.spectral_centroid(audio, sr=sr)\n",
      "/var/folders/x0/9kxl__ld5lg60zg21w2jnc2c0000gn/T/ipykernel_48346/3714470853.py:57: FutureWarning: Pass y=[-0.02147234 -0.01305956  0.00556521 ... -0.01549416 -0.02782696\n",
      " -0.04158952] as keyword args. From version 0.10 passing these as positional arguments will result in an error\n",
      "  rolloff = librosa.feature.spectral_rolloff(audio, sr=sr)\n"
     ]
    },
    {
     "name": "stdout",
     "output_type": "stream",
     "text": [
      "processing track  0bq1YDqSSYPqqqmjs6UBQE\n",
      "100% [............................................................................] 363885 / 363885"
     ]
    },
    {
     "name": "stderr",
     "output_type": "stream",
     "text": [
      "/Users/tejasbot/anaconda3/lib/python3.8/site-packages/librosa/util/decorators.py:88: UserWarning: PySoundFile failed. Trying audioread instead.\n",
      "  return f(*args, **kwargs)\n",
      "/var/folders/x0/9kxl__ld5lg60zg21w2jnc2c0000gn/T/ipykernel_48346/3714470853.py:56: FutureWarning: Pass y=[-0.00059595 -0.00435186 -0.0167158  ... -0.01426946 -0.01520252\n",
      " -0.01679326] as keyword args. From version 0.10 passing these as positional arguments will result in an error\n",
      "  spectral_centroids = librosa.feature.spectral_centroid(audio, sr=sr)\n",
      "/var/folders/x0/9kxl__ld5lg60zg21w2jnc2c0000gn/T/ipykernel_48346/3714470853.py:57: FutureWarning: Pass y=[-0.00059595 -0.00435186 -0.0167158  ... -0.01426946 -0.01520252\n",
      " -0.01679326] as keyword args. From version 0.10 passing these as positional arguments will result in an error\n",
      "  rolloff = librosa.feature.spectral_rolloff(audio, sr=sr)\n"
     ]
    },
    {
     "name": "stdout",
     "output_type": "stream",
     "text": [
      "processing track  4S0YZny9fg8ppeuDDxyHMV\n",
      "100% [............................................................................] 363885 / 363885"
     ]
    },
    {
     "name": "stderr",
     "output_type": "stream",
     "text": [
      "/Users/tejasbot/anaconda3/lib/python3.8/site-packages/librosa/util/decorators.py:88: UserWarning: PySoundFile failed. Trying audioread instead.\n",
      "  return f(*args, **kwargs)\n",
      "/var/folders/x0/9kxl__ld5lg60zg21w2jnc2c0000gn/T/ipykernel_48346/3714470853.py:56: FutureWarning: Pass y=[ 0.01552531  0.03104907  0.03768537 ... -0.00917973 -0.01395888\n",
      " -0.01268731] as keyword args. From version 0.10 passing these as positional arguments will result in an error\n",
      "  spectral_centroids = librosa.feature.spectral_centroid(audio, sr=sr)\n",
      "/var/folders/x0/9kxl__ld5lg60zg21w2jnc2c0000gn/T/ipykernel_48346/3714470853.py:57: FutureWarning: Pass y=[ 0.01552531  0.03104907  0.03768537 ... -0.00917973 -0.01395888\n",
      " -0.01268731] as keyword args. From version 0.10 passing these as positional arguments will result in an error\n",
      "  rolloff = librosa.feature.spectral_rolloff(audio, sr=sr)\n"
     ]
    },
    {
     "name": "stdout",
     "output_type": "stream",
     "text": [
      "processing track  65oi1nKE1LPyBIAeWNMiOX\n",
      "100% [............................................................................] 362861 / 362861"
     ]
    },
    {
     "name": "stderr",
     "output_type": "stream",
     "text": [
      "/Users/tejasbot/anaconda3/lib/python3.8/site-packages/librosa/util/decorators.py:88: UserWarning: PySoundFile failed. Trying audioread instead.\n",
      "  return f(*args, **kwargs)\n",
      "/var/folders/x0/9kxl__ld5lg60zg21w2jnc2c0000gn/T/ipykernel_48346/3714470853.py:56: FutureWarning: Pass y=[ 0.00750981  0.01550754  0.01233735 ... -0.00026494 -0.00053095\n",
      "  0.        ] as keyword args. From version 0.10 passing these as positional arguments will result in an error\n",
      "  spectral_centroids = librosa.feature.spectral_centroid(audio, sr=sr)\n",
      "/var/folders/x0/9kxl__ld5lg60zg21w2jnc2c0000gn/T/ipykernel_48346/3714470853.py:57: FutureWarning: Pass y=[ 0.00750981  0.01550754  0.01233735 ... -0.00026494 -0.00053095\n",
      "  0.        ] as keyword args. From version 0.10 passing these as positional arguments will result in an error\n",
      "  rolloff = librosa.feature.spectral_rolloff(audio, sr=sr)\n"
     ]
    },
    {
     "name": "stdout",
     "output_type": "stream",
     "text": [
      "processing track  7BMtJmBSLxYE4VsX8iKbj6\n",
      "100% [............................................................................] 362861 / 362861"
     ]
    },
    {
     "name": "stderr",
     "output_type": "stream",
     "text": [
      "/Users/tejasbot/anaconda3/lib/python3.8/site-packages/librosa/util/decorators.py:88: UserWarning: PySoundFile failed. Trying audioread instead.\n",
      "  return f(*args, **kwargs)\n",
      "/var/folders/x0/9kxl__ld5lg60zg21w2jnc2c0000gn/T/ipykernel_48346/3714470853.py:56: FutureWarning: Pass y=[0.00427087 0.01400695 0.01274943 ... 0.03246454 0.0208631  0.01426285] as keyword args. From version 0.10 passing these as positional arguments will result in an error\n",
      "  spectral_centroids = librosa.feature.spectral_centroid(audio, sr=sr)\n",
      "/var/folders/x0/9kxl__ld5lg60zg21w2jnc2c0000gn/T/ipykernel_48346/3714470853.py:57: FutureWarning: Pass y=[0.00427087 0.01400695 0.01274943 ... 0.03246454 0.0208631  0.01426285] as keyword args. From version 0.10 passing these as positional arguments will result in an error\n",
      "  rolloff = librosa.feature.spectral_rolloff(audio, sr=sr)\n"
     ]
    },
    {
     "name": "stdout",
     "output_type": "stream",
     "text": [
      "processing track  4l1PR1CemVizP45AowMDYf\n",
      "100% [............................................................................] 362861 / 362861"
     ]
    },
    {
     "name": "stderr",
     "output_type": "stream",
     "text": [
      "/Users/tejasbot/anaconda3/lib/python3.8/site-packages/librosa/util/decorators.py:88: UserWarning: PySoundFile failed. Trying audioread instead.\n",
      "  return f(*args, **kwargs)\n",
      "/var/folders/x0/9kxl__ld5lg60zg21w2jnc2c0000gn/T/ipykernel_48346/3714470853.py:56: FutureWarning: Pass y=[0.01017931 0.02481305 0.03684392 ... 0.01454523 0.01658688 0.        ] as keyword args. From version 0.10 passing these as positional arguments will result in an error\n",
      "  spectral_centroids = librosa.feature.spectral_centroid(audio, sr=sr)\n",
      "/var/folders/x0/9kxl__ld5lg60zg21w2jnc2c0000gn/T/ipykernel_48346/3714470853.py:57: FutureWarning: Pass y=[0.01017931 0.02481305 0.03684392 ... 0.01454523 0.01658688 0.        ] as keyword args. From version 0.10 passing these as positional arguments will result in an error\n",
      "  rolloff = librosa.feature.spectral_rolloff(audio, sr=sr)\n"
     ]
    },
    {
     "name": "stdout",
     "output_type": "stream",
     "text": [
      "processing track  22X6a1mwne2roGdTJ5i61L\n",
      "100% [............................................................................] 362861 / 362861"
     ]
    },
    {
     "name": "stderr",
     "output_type": "stream",
     "text": [
      "/Users/tejasbot/anaconda3/lib/python3.8/site-packages/librosa/util/decorators.py:88: UserWarning: PySoundFile failed. Trying audioread instead.\n",
      "  return f(*args, **kwargs)\n",
      "/var/folders/x0/9kxl__ld5lg60zg21w2jnc2c0000gn/T/ipykernel_48346/3714470853.py:56: FutureWarning: Pass y=[0.02259773 0.04181477 0.04085958 ... 0.02217999 0.02077142 0.0198981 ] as keyword args. From version 0.10 passing these as positional arguments will result in an error\n",
      "  spectral_centroids = librosa.feature.spectral_centroid(audio, sr=sr)\n",
      "/var/folders/x0/9kxl__ld5lg60zg21w2jnc2c0000gn/T/ipykernel_48346/3714470853.py:57: FutureWarning: Pass y=[0.02259773 0.04181477 0.04085958 ... 0.02217999 0.02077142 0.0198981 ] as keyword args. From version 0.10 passing these as positional arguments will result in an error\n",
      "  rolloff = librosa.feature.spectral_rolloff(audio, sr=sr)\n"
     ]
    },
    {
     "name": "stdout",
     "output_type": "stream",
     "text": [
      "processing track  4tqB8OZvbd608fBb80HIqh\n",
      "100% [............................................................................] 363885 / 363885"
     ]
    },
    {
     "name": "stderr",
     "output_type": "stream",
     "text": [
      "/Users/tejasbot/anaconda3/lib/python3.8/site-packages/librosa/util/decorators.py:88: UserWarning: PySoundFile failed. Trying audioread instead.\n",
      "  return f(*args, **kwargs)\n",
      "/var/folders/x0/9kxl__ld5lg60zg21w2jnc2c0000gn/T/ipykernel_48346/3714470853.py:56: FutureWarning: Pass y=[ 0.00211275  0.00137391 -0.0024517  ... -0.02722417 -0.0237371\n",
      " -0.0190178 ] as keyword args. From version 0.10 passing these as positional arguments will result in an error\n",
      "  spectral_centroids = librosa.feature.spectral_centroid(audio, sr=sr)\n",
      "/var/folders/x0/9kxl__ld5lg60zg21w2jnc2c0000gn/T/ipykernel_48346/3714470853.py:57: FutureWarning: Pass y=[ 0.00211275  0.00137391 -0.0024517  ... -0.02722417 -0.0237371\n",
      " -0.0190178 ] as keyword args. From version 0.10 passing these as positional arguments will result in an error\n",
      "  rolloff = librosa.feature.spectral_rolloff(audio, sr=sr)\n"
     ]
    },
    {
     "name": "stdout",
     "output_type": "stream",
     "text": [
      "processing track  4YaNEoqV4eBhshEAqu0V4Z\n",
      "100% [............................................................................] 362861 / 362861"
     ]
    },
    {
     "name": "stderr",
     "output_type": "stream",
     "text": [
      "/Users/tejasbot/anaconda3/lib/python3.8/site-packages/librosa/util/decorators.py:88: UserWarning: PySoundFile failed. Trying audioread instead.\n",
      "  return f(*args, **kwargs)\n",
      "/var/folders/x0/9kxl__ld5lg60zg21w2jnc2c0000gn/T/ipykernel_48346/3714470853.py:56: FutureWarning: Pass y=[-0.00035895 -0.00101688 -0.00130554 ... -0.00537639 -0.00676151\n",
      "  0.        ] as keyword args. From version 0.10 passing these as positional arguments will result in an error\n",
      "  spectral_centroids = librosa.feature.spectral_centroid(audio, sr=sr)\n",
      "/var/folders/x0/9kxl__ld5lg60zg21w2jnc2c0000gn/T/ipykernel_48346/3714470853.py:57: FutureWarning: Pass y=[-0.00035895 -0.00101688 -0.00130554 ... -0.00537639 -0.00676151\n",
      "  0.        ] as keyword args. From version 0.10 passing these as positional arguments will result in an error\n",
      "  rolloff = librosa.feature.spectral_rolloff(audio, sr=sr)\n"
     ]
    },
    {
     "name": "stdout",
     "output_type": "stream",
     "text": [
      "processing track  1OUjzOy46OhLL3M4L7Ff8m\n",
      "100% [............................................................................] 362861 / 362861"
     ]
    },
    {
     "name": "stderr",
     "output_type": "stream",
     "text": [
      "/Users/tejasbot/anaconda3/lib/python3.8/site-packages/librosa/util/decorators.py:88: UserWarning: PySoundFile failed. Trying audioread instead.\n",
      "  return f(*args, **kwargs)\n",
      "/var/folders/x0/9kxl__ld5lg60zg21w2jnc2c0000gn/T/ipykernel_48346/3714470853.py:56: FutureWarning: Pass y=[0.00783038 0.01215959 0.00878678 ... 0.00670503 0.00936646 0.0116593 ] as keyword args. From version 0.10 passing these as positional arguments will result in an error\n",
      "  spectral_centroids = librosa.feature.spectral_centroid(audio, sr=sr)\n",
      "/var/folders/x0/9kxl__ld5lg60zg21w2jnc2c0000gn/T/ipykernel_48346/3714470853.py:57: FutureWarning: Pass y=[0.00783038 0.01215959 0.00878678 ... 0.00670503 0.00936646 0.0116593 ] as keyword args. From version 0.10 passing these as positional arguments will result in an error\n",
      "  rolloff = librosa.feature.spectral_rolloff(audio, sr=sr)\n"
     ]
    },
    {
     "name": "stdout",
     "output_type": "stream",
     "text": [
      "processing track  7M5MoxFMcv0IyGQcz34JPm\n",
      "100% [............................................................................] 362861 / 362861"
     ]
    },
    {
     "name": "stderr",
     "output_type": "stream",
     "text": [
      "/Users/tejasbot/anaconda3/lib/python3.8/site-packages/librosa/util/decorators.py:88: UserWarning: PySoundFile failed. Trying audioread instead.\n",
      "  return f(*args, **kwargs)\n",
      "/var/folders/x0/9kxl__ld5lg60zg21w2jnc2c0000gn/T/ipykernel_48346/3714470853.py:56: FutureWarning: Pass y=[-0.06733552 -0.11494479 -0.10307264 ...  0.04406098  0.05607378\n",
      "  0.        ] as keyword args. From version 0.10 passing these as positional arguments will result in an error\n",
      "  spectral_centroids = librosa.feature.spectral_centroid(audio, sr=sr)\n",
      "/var/folders/x0/9kxl__ld5lg60zg21w2jnc2c0000gn/T/ipykernel_48346/3714470853.py:57: FutureWarning: Pass y=[-0.06733552 -0.11494479 -0.10307264 ...  0.04406098  0.05607378\n",
      "  0.        ] as keyword args. From version 0.10 passing these as positional arguments will result in an error\n",
      "  rolloff = librosa.feature.spectral_rolloff(audio, sr=sr)\n"
     ]
    },
    {
     "name": "stdout",
     "output_type": "stream",
     "text": [
      "processing track  17i5jLpzndlQhbS4SrTd0B\n",
      "100% [............................................................................] 362861 / 362861"
     ]
    },
    {
     "name": "stderr",
     "output_type": "stream",
     "text": [
      "/Users/tejasbot/anaconda3/lib/python3.8/site-packages/librosa/util/decorators.py:88: UserWarning: PySoundFile failed. Trying audioread instead.\n",
      "  return f(*args, **kwargs)\n",
      "/var/folders/x0/9kxl__ld5lg60zg21w2jnc2c0000gn/T/ipykernel_48346/3714470853.py:56: FutureWarning: Pass y=[0.09828128 0.13184355 0.10802258 ... 0.01166026 0.01113698 0.008935  ] as keyword args. From version 0.10 passing these as positional arguments will result in an error\n",
      "  spectral_centroids = librosa.feature.spectral_centroid(audio, sr=sr)\n",
      "/var/folders/x0/9kxl__ld5lg60zg21w2jnc2c0000gn/T/ipykernel_48346/3714470853.py:57: FutureWarning: Pass y=[0.09828128 0.13184355 0.10802258 ... 0.01166026 0.01113698 0.008935  ] as keyword args. From version 0.10 passing these as positional arguments will result in an error\n",
      "  rolloff = librosa.feature.spectral_rolloff(audio, sr=sr)\n"
     ]
    },
    {
     "name": "stdout",
     "output_type": "stream",
     "text": [
      "processing track  69YGQcPqbb7uwqNHKZcbiE\n",
      "100% [............................................................................] 362861 / 362861"
     ]
    },
    {
     "name": "stderr",
     "output_type": "stream",
     "text": [
      "/Users/tejasbot/anaconda3/lib/python3.8/site-packages/librosa/util/decorators.py:88: UserWarning: PySoundFile failed. Trying audioread instead.\n",
      "  return f(*args, **kwargs)\n",
      "/var/folders/x0/9kxl__ld5lg60zg21w2jnc2c0000gn/T/ipykernel_48346/3714470853.py:56: FutureWarning: Pass y=[-0.00104704 -0.00145117 -0.00032547 ...  0.04310301  0.04159019\n",
      "  0.04268988] as keyword args. From version 0.10 passing these as positional arguments will result in an error\n",
      "  spectral_centroids = librosa.feature.spectral_centroid(audio, sr=sr)\n",
      "/var/folders/x0/9kxl__ld5lg60zg21w2jnc2c0000gn/T/ipykernel_48346/3714470853.py:57: FutureWarning: Pass y=[-0.00104704 -0.00145117 -0.00032547 ...  0.04310301  0.04159019\n",
      "  0.04268988] as keyword args. From version 0.10 passing these as positional arguments will result in an error\n",
      "  rolloff = librosa.feature.spectral_rolloff(audio, sr=sr)\n"
     ]
    },
    {
     "name": "stdout",
     "output_type": "stream",
     "text": [
      "processing track  6iO65VrcAiAAfWa4Tbk6Db\n",
      "100% [............................................................................] 362861 / 362861"
     ]
    },
    {
     "name": "stderr",
     "output_type": "stream",
     "text": [
      "/Users/tejasbot/anaconda3/lib/python3.8/site-packages/librosa/util/decorators.py:88: UserWarning: PySoundFile failed. Trying audioread instead.\n",
      "  return f(*args, **kwargs)\n",
      "/var/folders/x0/9kxl__ld5lg60zg21w2jnc2c0000gn/T/ipykernel_48346/3714470853.py:56: FutureWarning: Pass y=[-0.02451252 -0.04477092 -0.03798674 ...  0.0106692   0.01901692\n",
      "  0.03173869] as keyword args. From version 0.10 passing these as positional arguments will result in an error\n",
      "  spectral_centroids = librosa.feature.spectral_centroid(audio, sr=sr)\n",
      "/var/folders/x0/9kxl__ld5lg60zg21w2jnc2c0000gn/T/ipykernel_48346/3714470853.py:57: FutureWarning: Pass y=[-0.02451252 -0.04477092 -0.03798674 ...  0.0106692   0.01901692\n",
      "  0.03173869] as keyword args. From version 0.10 passing these as positional arguments will result in an error\n",
      "  rolloff = librosa.feature.spectral_rolloff(audio, sr=sr)\n"
     ]
    },
    {
     "name": "stdout",
     "output_type": "stream",
     "text": [
      "processing track  57vAYHrdFI7AVw8TIzKqak\n",
      "100% [............................................................................] 363885 / 363885"
     ]
    },
    {
     "name": "stderr",
     "output_type": "stream",
     "text": [
      "/Users/tejasbot/anaconda3/lib/python3.8/site-packages/librosa/util/decorators.py:88: UserWarning: PySoundFile failed. Trying audioread instead.\n",
      "  return f(*args, **kwargs)\n",
      "/var/folders/x0/9kxl__ld5lg60zg21w2jnc2c0000gn/T/ipykernel_48346/3714470853.py:56: FutureWarning: Pass y=[-0.08448673 -0.14110895 -0.15338612 ... -0.04140903 -0.03645555\n",
      " -0.0350641 ] as keyword args. From version 0.10 passing these as positional arguments will result in an error\n",
      "  spectral_centroids = librosa.feature.spectral_centroid(audio, sr=sr)\n",
      "/var/folders/x0/9kxl__ld5lg60zg21w2jnc2c0000gn/T/ipykernel_48346/3714470853.py:57: FutureWarning: Pass y=[-0.08448673 -0.14110895 -0.15338612 ... -0.04140903 -0.03645555\n",
      " -0.0350641 ] as keyword args. From version 0.10 passing these as positional arguments will result in an error\n",
      "  rolloff = librosa.feature.spectral_rolloff(audio, sr=sr)\n"
     ]
    },
    {
     "name": "stdout",
     "output_type": "stream",
     "text": [
      "processing track  0g7TuAT11Xg9r8HErWW167\n",
      "100% [............................................................................] 362861 / 362861"
     ]
    },
    {
     "name": "stderr",
     "output_type": "stream",
     "text": [
      "/Users/tejasbot/anaconda3/lib/python3.8/site-packages/librosa/util/decorators.py:88: UserWarning: PySoundFile failed. Trying audioread instead.\n",
      "  return f(*args, **kwargs)\n",
      "/var/folders/x0/9kxl__ld5lg60zg21w2jnc2c0000gn/T/ipykernel_48346/3714470853.py:56: FutureWarning: Pass y=[-0.0218951  -0.04233421 -0.04141963 ...  0.12710935  0.14350191\n",
      "  0.        ] as keyword args. From version 0.10 passing these as positional arguments will result in an error\n",
      "  spectral_centroids = librosa.feature.spectral_centroid(audio, sr=sr)\n",
      "/var/folders/x0/9kxl__ld5lg60zg21w2jnc2c0000gn/T/ipykernel_48346/3714470853.py:57: FutureWarning: Pass y=[-0.0218951  -0.04233421 -0.04141963 ...  0.12710935  0.14350191\n",
      "  0.        ] as keyword args. From version 0.10 passing these as positional arguments will result in an error\n",
      "  rolloff = librosa.feature.spectral_rolloff(audio, sr=sr)\n"
     ]
    },
    {
     "name": "stdout",
     "output_type": "stream",
     "text": [
      "processing track  6LiIyOazFc4iAOPbqHNnDd\n",
      "100% [............................................................................] 362861 / 362861"
     ]
    },
    {
     "name": "stderr",
     "output_type": "stream",
     "text": [
      "/Users/tejasbot/anaconda3/lib/python3.8/site-packages/librosa/util/decorators.py:88: UserWarning: PySoundFile failed. Trying audioread instead.\n",
      "  return f(*args, **kwargs)\n",
      "/var/folders/x0/9kxl__ld5lg60zg21w2jnc2c0000gn/T/ipykernel_48346/3714470853.py:56: FutureWarning: Pass y=[0.02484724 0.06816367 0.08498937 ... 0.11432058 0.10100883 0.0618415 ] as keyword args. From version 0.10 passing these as positional arguments will result in an error\n",
      "  spectral_centroids = librosa.feature.spectral_centroid(audio, sr=sr)\n",
      "/var/folders/x0/9kxl__ld5lg60zg21w2jnc2c0000gn/T/ipykernel_48346/3714470853.py:57: FutureWarning: Pass y=[0.02484724 0.06816367 0.08498937 ... 0.11432058 0.10100883 0.0618415 ] as keyword args. From version 0.10 passing these as positional arguments will result in an error\n",
      "  rolloff = librosa.feature.spectral_rolloff(audio, sr=sr)\n"
     ]
    },
    {
     "name": "stdout",
     "output_type": "stream",
     "text": [
      "processing track  79kIfVc3ki3c9v9s3zHBlo\n",
      "100% [............................................................................] 362861 / 362861"
     ]
    },
    {
     "name": "stderr",
     "output_type": "stream",
     "text": [
      "/Users/tejasbot/anaconda3/lib/python3.8/site-packages/librosa/util/decorators.py:88: UserWarning: PySoundFile failed. Trying audioread instead.\n",
      "  return f(*args, **kwargs)\n",
      "/var/folders/x0/9kxl__ld5lg60zg21w2jnc2c0000gn/T/ipykernel_48346/3714470853.py:56: FutureWarning: Pass y=[-0.0199031  -0.05856029 -0.08146507 ... -0.04414273 -0.05291492\n",
      "  0.        ] as keyword args. From version 0.10 passing these as positional arguments will result in an error\n",
      "  spectral_centroids = librosa.feature.spectral_centroid(audio, sr=sr)\n",
      "/var/folders/x0/9kxl__ld5lg60zg21w2jnc2c0000gn/T/ipykernel_48346/3714470853.py:57: FutureWarning: Pass y=[-0.0199031  -0.05856029 -0.08146507 ... -0.04414273 -0.05291492\n",
      "  0.        ] as keyword args. From version 0.10 passing these as positional arguments will result in an error\n",
      "  rolloff = librosa.feature.spectral_rolloff(audio, sr=sr)\n"
     ]
    },
    {
     "name": "stdout",
     "output_type": "stream",
     "text": [
      "processing track  3sdrzlJmVJxQTC5gtfs4M4\n",
      "100% [............................................................................] 363885 / 363885"
     ]
    },
    {
     "name": "stderr",
     "output_type": "stream",
     "text": [
      "/Users/tejasbot/anaconda3/lib/python3.8/site-packages/librosa/util/decorators.py:88: UserWarning: PySoundFile failed. Trying audioread instead.\n",
      "  return f(*args, **kwargs)\n",
      "/var/folders/x0/9kxl__ld5lg60zg21w2jnc2c0000gn/T/ipykernel_48346/3714470853.py:56: FutureWarning: Pass y=[-0.02803533 -0.04915376 -0.04439196 ...  0.13980033  0.12854058\n",
      "  0.12280999] as keyword args. From version 0.10 passing these as positional arguments will result in an error\n",
      "  spectral_centroids = librosa.feature.spectral_centroid(audio, sr=sr)\n",
      "/var/folders/x0/9kxl__ld5lg60zg21w2jnc2c0000gn/T/ipykernel_48346/3714470853.py:57: FutureWarning: Pass y=[-0.02803533 -0.04915376 -0.04439196 ...  0.13980033  0.12854058\n",
      "  0.12280999] as keyword args. From version 0.10 passing these as positional arguments will result in an error\n",
      "  rolloff = librosa.feature.spectral_rolloff(audio, sr=sr)\n"
     ]
    },
    {
     "name": "stdout",
     "output_type": "stream",
     "text": [
      "processing track  3gJem1ky3SSSdBAkgHk5sA\n",
      "100% [............................................................................] 362861 / 362861"
     ]
    },
    {
     "name": "stderr",
     "output_type": "stream",
     "text": [
      "/Users/tejasbot/anaconda3/lib/python3.8/site-packages/librosa/util/decorators.py:88: UserWarning: PySoundFile failed. Trying audioread instead.\n",
      "  return f(*args, **kwargs)\n",
      "/var/folders/x0/9kxl__ld5lg60zg21w2jnc2c0000gn/T/ipykernel_48346/3714470853.py:56: FutureWarning: Pass y=[ 0.02579104  0.05205038  0.05061195 ... -0.04667203 -0.04312395\n",
      " -0.01980267] as keyword args. From version 0.10 passing these as positional arguments will result in an error\n",
      "  spectral_centroids = librosa.feature.spectral_centroid(audio, sr=sr)\n",
      "/var/folders/x0/9kxl__ld5lg60zg21w2jnc2c0000gn/T/ipykernel_48346/3714470853.py:57: FutureWarning: Pass y=[ 0.02579104  0.05205038  0.05061195 ... -0.04667203 -0.04312395\n",
      " -0.01980267] as keyword args. From version 0.10 passing these as positional arguments will result in an error\n",
      "  rolloff = librosa.feature.spectral_rolloff(audio, sr=sr)\n"
     ]
    },
    {
     "name": "stdout",
     "output_type": "stream",
     "text": [
      "processing track  5k89hpsgTdxmt2Y5m1lWGs\n",
      "100% [............................................................................] 362861 / 362861"
     ]
    },
    {
     "name": "stderr",
     "output_type": "stream",
     "text": [
      "/Users/tejasbot/anaconda3/lib/python3.8/site-packages/librosa/util/decorators.py:88: UserWarning: PySoundFile failed. Trying audioread instead.\n",
      "  return f(*args, **kwargs)\n",
      "/var/folders/x0/9kxl__ld5lg60zg21w2jnc2c0000gn/T/ipykernel_48346/3714470853.py:56: FutureWarning: Pass y=[-0.00088008  0.00302891  0.00836339 ... -0.00034269 -0.00104963\n",
      "  0.        ] as keyword args. From version 0.10 passing these as positional arguments will result in an error\n",
      "  spectral_centroids = librosa.feature.spectral_centroid(audio, sr=sr)\n",
      "/var/folders/x0/9kxl__ld5lg60zg21w2jnc2c0000gn/T/ipykernel_48346/3714470853.py:57: FutureWarning: Pass y=[-0.00088008  0.00302891  0.00836339 ... -0.00034269 -0.00104963\n",
      "  0.        ] as keyword args. From version 0.10 passing these as positional arguments will result in an error\n",
      "  rolloff = librosa.feature.spectral_rolloff(audio, sr=sr)\n"
     ]
    },
    {
     "name": "stdout",
     "output_type": "stream",
     "text": [
      "processing track  0ARbqSOdmaLUpvlY4EVIEM\n",
      "100% [............................................................................] 362861 / 362861"
     ]
    },
    {
     "name": "stderr",
     "output_type": "stream",
     "text": [
      "/Users/tejasbot/anaconda3/lib/python3.8/site-packages/librosa/util/decorators.py:88: UserWarning: PySoundFile failed. Trying audioread instead.\n",
      "  return f(*args, **kwargs)\n",
      "/var/folders/x0/9kxl__ld5lg60zg21w2jnc2c0000gn/T/ipykernel_48346/3714470853.py:56: FutureWarning: Pass y=[-0.01215395 -0.01112217  0.0025631  ... -0.00456184 -0.00789475\n",
      " -0.0151431 ] as keyword args. From version 0.10 passing these as positional arguments will result in an error\n",
      "  spectral_centroids = librosa.feature.spectral_centroid(audio, sr=sr)\n",
      "/var/folders/x0/9kxl__ld5lg60zg21w2jnc2c0000gn/T/ipykernel_48346/3714470853.py:57: FutureWarning: Pass y=[-0.01215395 -0.01112217  0.0025631  ... -0.00456184 -0.00789475\n",
      " -0.0151431 ] as keyword args. From version 0.10 passing these as positional arguments will result in an error\n",
      "  rolloff = librosa.feature.spectral_rolloff(audio, sr=sr)\n"
     ]
    },
    {
     "name": "stdout",
     "output_type": "stream",
     "text": [
      "processing track  2DEuiZEDbwtG0aQSam58xG\n",
      "100% [............................................................................] 362861 / 362861"
     ]
    },
    {
     "name": "stderr",
     "output_type": "stream",
     "text": [
      "/Users/tejasbot/anaconda3/lib/python3.8/site-packages/librosa/util/decorators.py:88: UserWarning: PySoundFile failed. Trying audioread instead.\n",
      "  return f(*args, **kwargs)\n",
      "/var/folders/x0/9kxl__ld5lg60zg21w2jnc2c0000gn/T/ipykernel_48346/3714470853.py:56: FutureWarning: Pass y=[-0.03284407 -0.05667915 -0.05232574 ...  0.00654817  0.00599665\n",
      "  0.0049452 ] as keyword args. From version 0.10 passing these as positional arguments will result in an error\n",
      "  spectral_centroids = librosa.feature.spectral_centroid(audio, sr=sr)\n",
      "/var/folders/x0/9kxl__ld5lg60zg21w2jnc2c0000gn/T/ipykernel_48346/3714470853.py:57: FutureWarning: Pass y=[-0.03284407 -0.05667915 -0.05232574 ...  0.00654817  0.00599665\n",
      "  0.0049452 ] as keyword args. From version 0.10 passing these as positional arguments will result in an error\n",
      "  rolloff = librosa.feature.spectral_rolloff(audio, sr=sr)\n"
     ]
    },
    {
     "name": "stdout",
     "output_type": "stream",
     "text": [
      "processing track  3xkQRO5lkQ0ObTOsnAyapU\n",
      "100% [............................................................................] 362861 / 362861"
     ]
    },
    {
     "name": "stderr",
     "output_type": "stream",
     "text": [
      "/Users/tejasbot/anaconda3/lib/python3.8/site-packages/librosa/util/decorators.py:88: UserWarning: PySoundFile failed. Trying audioread instead.\n",
      "  return f(*args, **kwargs)\n",
      "/var/folders/x0/9kxl__ld5lg60zg21w2jnc2c0000gn/T/ipykernel_48346/3714470853.py:56: FutureWarning: Pass y=[-0.04315829 -0.06135469 -0.04133391 ... -0.03765159 -0.05871574\n",
      "  0.        ] as keyword args. From version 0.10 passing these as positional arguments will result in an error\n",
      "  spectral_centroids = librosa.feature.spectral_centroid(audio, sr=sr)\n",
      "/var/folders/x0/9kxl__ld5lg60zg21w2jnc2c0000gn/T/ipykernel_48346/3714470853.py:57: FutureWarning: Pass y=[-0.04315829 -0.06135469 -0.04133391 ... -0.03765159 -0.05871574\n",
      "  0.        ] as keyword args. From version 0.10 passing these as positional arguments will result in an error\n",
      "  rolloff = librosa.feature.spectral_rolloff(audio, sr=sr)\n"
     ]
    },
    {
     "name": "stdout",
     "output_type": "stream",
     "text": [
      "processing track  4YJZGxNkKEsRRsh5t1Is7p\n",
      "100% [............................................................................] 362861 / 362861"
     ]
    },
    {
     "name": "stderr",
     "output_type": "stream",
     "text": [
      "/Users/tejasbot/anaconda3/lib/python3.8/site-packages/librosa/util/decorators.py:88: UserWarning: PySoundFile failed. Trying audioread instead.\n",
      "  return f(*args, **kwargs)\n",
      "/var/folders/x0/9kxl__ld5lg60zg21w2jnc2c0000gn/T/ipykernel_48346/3714470853.py:56: FutureWarning: Pass y=[0.02677732 0.03957145 0.03311888 ... 0.01831903 0.01475665 0.00891662] as keyword args. From version 0.10 passing these as positional arguments will result in an error\n",
      "  spectral_centroids = librosa.feature.spectral_centroid(audio, sr=sr)\n",
      "/var/folders/x0/9kxl__ld5lg60zg21w2jnc2c0000gn/T/ipykernel_48346/3714470853.py:57: FutureWarning: Pass y=[0.02677732 0.03957145 0.03311888 ... 0.01831903 0.01475665 0.00891662] as keyword args. From version 0.10 passing these as positional arguments will result in an error\n",
      "  rolloff = librosa.feature.spectral_rolloff(audio, sr=sr)\n"
     ]
    },
    {
     "name": "stdout",
     "output_type": "stream",
     "text": [
      "processing track  3J1pYulYoyhTav7fJvKNfM\n",
      "100% [............................................................................] 362861 / 362861"
     ]
    },
    {
     "name": "stderr",
     "output_type": "stream",
     "text": [
      "/Users/tejasbot/anaconda3/lib/python3.8/site-packages/librosa/util/decorators.py:88: UserWarning: PySoundFile failed. Trying audioread instead.\n",
      "  return f(*args, **kwargs)\n",
      "/var/folders/x0/9kxl__ld5lg60zg21w2jnc2c0000gn/T/ipykernel_48346/3714470853.py:56: FutureWarning: Pass y=[-0.01258476 -0.02793927 -0.03140425 ...  0.00190304  0.00160683\n",
      "  0.00078537] as keyword args. From version 0.10 passing these as positional arguments will result in an error\n",
      "  spectral_centroids = librosa.feature.spectral_centroid(audio, sr=sr)\n",
      "/var/folders/x0/9kxl__ld5lg60zg21w2jnc2c0000gn/T/ipykernel_48346/3714470853.py:57: FutureWarning: Pass y=[-0.01258476 -0.02793927 -0.03140425 ...  0.00190304  0.00160683\n",
      "  0.00078537] as keyword args. From version 0.10 passing these as positional arguments will result in an error\n",
      "  rolloff = librosa.feature.spectral_rolloff(audio, sr=sr)\n"
     ]
    },
    {
     "name": "stdout",
     "output_type": "stream",
     "text": [
      "processing track  7l3sa6uGWYwReNrGgQoSMm\n",
      "100% [............................................................................] 362861 / 362861"
     ]
    },
    {
     "name": "stderr",
     "output_type": "stream",
     "text": [
      "/Users/tejasbot/anaconda3/lib/python3.8/site-packages/librosa/util/decorators.py:88: UserWarning: PySoundFile failed. Trying audioread instead.\n",
      "  return f(*args, **kwargs)\n",
      "/var/folders/x0/9kxl__ld5lg60zg21w2jnc2c0000gn/T/ipykernel_48346/3714470853.py:56: FutureWarning: Pass y=[-0.04906115 -0.10394172 -0.12693784 ... -0.03218609 -0.01424022\n",
      "  0.        ] as keyword args. From version 0.10 passing these as positional arguments will result in an error\n",
      "  spectral_centroids = librosa.feature.spectral_centroid(audio, sr=sr)\n",
      "/var/folders/x0/9kxl__ld5lg60zg21w2jnc2c0000gn/T/ipykernel_48346/3714470853.py:57: FutureWarning: Pass y=[-0.04906115 -0.10394172 -0.12693784 ... -0.03218609 -0.01424022\n",
      "  0.        ] as keyword args. From version 0.10 passing these as positional arguments will result in an error\n",
      "  rolloff = librosa.feature.spectral_rolloff(audio, sr=sr)\n"
     ]
    },
    {
     "name": "stdout",
     "output_type": "stream",
     "text": [
      "processing track  2ddhCHZW8CT0ZVJG2lHyuM\n",
      "100% [............................................................................] 362861 / 362861"
     ]
    },
    {
     "name": "stderr",
     "output_type": "stream",
     "text": [
      "/Users/tejasbot/anaconda3/lib/python3.8/site-packages/librosa/util/decorators.py:88: UserWarning: PySoundFile failed. Trying audioread instead.\n",
      "  return f(*args, **kwargs)\n",
      "/var/folders/x0/9kxl__ld5lg60zg21w2jnc2c0000gn/T/ipykernel_48346/3714470853.py:56: FutureWarning: Pass y=[0.01085229 0.02702581 0.03758576 ... 0.12922898 0.11204145 0.0869234 ] as keyword args. From version 0.10 passing these as positional arguments will result in an error\n",
      "  spectral_centroids = librosa.feature.spectral_centroid(audio, sr=sr)\n",
      "/var/folders/x0/9kxl__ld5lg60zg21w2jnc2c0000gn/T/ipykernel_48346/3714470853.py:57: FutureWarning: Pass y=[0.01085229 0.02702581 0.03758576 ... 0.12922898 0.11204145 0.0869234 ] as keyword args. From version 0.10 passing these as positional arguments will result in an error\n",
      "  rolloff = librosa.feature.spectral_rolloff(audio, sr=sr)\n"
     ]
    },
    {
     "name": "stdout",
     "output_type": "stream",
     "text": [
      "processing track  1DeWXeOfjt3Hj3usUQfMYN\n",
      "100% [............................................................................] 362861 / 362861"
     ]
    },
    {
     "name": "stderr",
     "output_type": "stream",
     "text": [
      "/Users/tejasbot/anaconda3/lib/python3.8/site-packages/librosa/util/decorators.py:88: UserWarning: PySoundFile failed. Trying audioread instead.\n",
      "  return f(*args, **kwargs)\n",
      "/var/folders/x0/9kxl__ld5lg60zg21w2jnc2c0000gn/T/ipykernel_48346/3714470853.py:56: FutureWarning: Pass y=[0.02524064 0.04758297 0.05699204 ... 0.09006309 0.0926076  0.        ] as keyword args. From version 0.10 passing these as positional arguments will result in an error\n",
      "  spectral_centroids = librosa.feature.spectral_centroid(audio, sr=sr)\n",
      "/var/folders/x0/9kxl__ld5lg60zg21w2jnc2c0000gn/T/ipykernel_48346/3714470853.py:57: FutureWarning: Pass y=[0.02524064 0.04758297 0.05699204 ... 0.09006309 0.0926076  0.        ] as keyword args. From version 0.10 passing these as positional arguments will result in an error\n",
      "  rolloff = librosa.feature.spectral_rolloff(audio, sr=sr)\n"
     ]
    }
   ],
   "source": [
    "# create a dataframe with these extensive features\n",
    "\n",
    "features_all_tracks = []\n",
    "for t_id in trackids: \n",
    "    print('processing track ', t_id)\n",
    "    features_all_tracks.append(get_extensive_audio_features(sp, t_id, pvalues= [10,25,50,75,90], perform_dsp = True))\n",
    "\n",
    "df_audio_extra = pandas.DataFrame(features_all_tracks)\n",
    "\n"
   ]
  },
  {
   "cell_type": "code",
   "execution_count": 20,
   "id": "4444d15c",
   "metadata": {},
   "outputs": [
    {
     "data": {
      "text/html": [
       "<div>\n",
       "<style scoped>\n",
       "    .dataframe tbody tr th:only-of-type {\n",
       "        vertical-align: middle;\n",
       "    }\n",
       "\n",
       "    .dataframe tbody tr th {\n",
       "        vertical-align: top;\n",
       "    }\n",
       "\n",
       "    .dataframe thead th {\n",
       "        text-align: right;\n",
       "    }\n",
       "</style>\n",
       "<table border=\"1\" class=\"dataframe\">\n",
       "  <thead>\n",
       "    <tr style=\"text-align: right;\">\n",
       "      <th></th>\n",
       "      <th>id</th>\n",
       "      <th>loudness_0</th>\n",
       "      <th>loudness_25</th>\n",
       "      <th>loudness_50</th>\n",
       "      <th>loudness_75</th>\n",
       "      <th>loudness_100</th>\n",
       "      <th>tempo_0</th>\n",
       "      <th>tempo_25</th>\n",
       "      <th>tempo_50</th>\n",
       "      <th>tempo_75</th>\n",
       "      <th>...</th>\n",
       "      <th>key_10</th>\n",
       "      <th>key_4</th>\n",
       "      <th>key_9</th>\n",
       "      <th>key_8</th>\n",
       "      <th>key_3</th>\n",
       "      <th>key_11</th>\n",
       "      <th>key_6</th>\n",
       "      <th>key_1</th>\n",
       "      <th>key_-1</th>\n",
       "      <th>mode_-1</th>\n",
       "    </tr>\n",
       "  </thead>\n",
       "  <tbody>\n",
       "    <tr>\n",
       "      <th>0</th>\n",
       "      <td>1JSIWsJfxOji0FrxFcxdCK</td>\n",
       "      <td>-37.15</td>\n",
       "      <td>-24.38</td>\n",
       "      <td>-16.22</td>\n",
       "      <td>-11.01</td>\n",
       "      <td>-9.65</td>\n",
       "      <td>100.14</td>\n",
       "      <td>108.83</td>\n",
       "      <td>118.57</td>\n",
       "      <td>122.41</td>\n",
       "      <td>...</td>\n",
       "      <td>NaN</td>\n",
       "      <td>NaN</td>\n",
       "      <td>NaN</td>\n",
       "      <td>NaN</td>\n",
       "      <td>NaN</td>\n",
       "      <td>NaN</td>\n",
       "      <td>NaN</td>\n",
       "      <td>NaN</td>\n",
       "      <td>NaN</td>\n",
       "      <td>NaN</td>\n",
       "    </tr>\n",
       "    <tr>\n",
       "      <th>1</th>\n",
       "      <td>5QnJqzHud1dXiz0nohQtbv</td>\n",
       "      <td>-28.85</td>\n",
       "      <td>-28.55</td>\n",
       "      <td>-28.26</td>\n",
       "      <td>-24.71</td>\n",
       "      <td>-21.16</td>\n",
       "      <td>45.41</td>\n",
       "      <td>46.40</td>\n",
       "      <td>47.39</td>\n",
       "      <td>47.40</td>\n",
       "      <td>...</td>\n",
       "      <td>NaN</td>\n",
       "      <td>NaN</td>\n",
       "      <td>NaN</td>\n",
       "      <td>NaN</td>\n",
       "      <td>NaN</td>\n",
       "      <td>NaN</td>\n",
       "      <td>NaN</td>\n",
       "      <td>NaN</td>\n",
       "      <td>NaN</td>\n",
       "      <td>NaN</td>\n",
       "    </tr>\n",
       "    <tr>\n",
       "      <th>2</th>\n",
       "      <td>7LnCjHudaBcB7gprluL2jG</td>\n",
       "      <td>-33.94</td>\n",
       "      <td>-23.38</td>\n",
       "      <td>-18.88</td>\n",
       "      <td>-15.86</td>\n",
       "      <td>-10.38</td>\n",
       "      <td>98.10</td>\n",
       "      <td>98.97</td>\n",
       "      <td>100.37</td>\n",
       "      <td>101.27</td>\n",
       "      <td>...</td>\n",
       "      <td>0.17</td>\n",
       "      <td>0.17</td>\n",
       "      <td>NaN</td>\n",
       "      <td>NaN</td>\n",
       "      <td>NaN</td>\n",
       "      <td>NaN</td>\n",
       "      <td>NaN</td>\n",
       "      <td>NaN</td>\n",
       "      <td>NaN</td>\n",
       "      <td>NaN</td>\n",
       "    </tr>\n",
       "    <tr>\n",
       "      <th>3</th>\n",
       "      <td>1S1JlOrGDpkbVhWCsOjUIh</td>\n",
       "      <td>-15.84</td>\n",
       "      <td>-14.33</td>\n",
       "      <td>-12.82</td>\n",
       "      <td>-10.10</td>\n",
       "      <td>-7.37</td>\n",
       "      <td>126.25</td>\n",
       "      <td>127.29</td>\n",
       "      <td>128.34</td>\n",
       "      <td>129.05</td>\n",
       "      <td>...</td>\n",
       "      <td>NaN</td>\n",
       "      <td>NaN</td>\n",
       "      <td>0.33</td>\n",
       "      <td>NaN</td>\n",
       "      <td>NaN</td>\n",
       "      <td>NaN</td>\n",
       "      <td>NaN</td>\n",
       "      <td>NaN</td>\n",
       "      <td>NaN</td>\n",
       "      <td>NaN</td>\n",
       "    </tr>\n",
       "    <tr>\n",
       "      <th>4</th>\n",
       "      <td>1J8JRBcaJUPctNt6DM12iD</td>\n",
       "      <td>-22.08</td>\n",
       "      <td>-20.58</td>\n",
       "      <td>-18.01</td>\n",
       "      <td>-15.02</td>\n",
       "      <td>-12.28</td>\n",
       "      <td>88.55</td>\n",
       "      <td>90.99</td>\n",
       "      <td>92.15</td>\n",
       "      <td>92.86</td>\n",
       "      <td>...</td>\n",
       "      <td>NaN</td>\n",
       "      <td>NaN</td>\n",
       "      <td>NaN</td>\n",
       "      <td>NaN</td>\n",
       "      <td>NaN</td>\n",
       "      <td>NaN</td>\n",
       "      <td>NaN</td>\n",
       "      <td>NaN</td>\n",
       "      <td>NaN</td>\n",
       "      <td>NaN</td>\n",
       "    </tr>\n",
       "    <tr>\n",
       "      <th>5</th>\n",
       "      <td>69ai605TdgykOy3UTKuywI</td>\n",
       "      <td>-33.95</td>\n",
       "      <td>-27.29</td>\n",
       "      <td>-23.17</td>\n",
       "      <td>-19.82</td>\n",
       "      <td>-18.24</td>\n",
       "      <td>0.00</td>\n",
       "      <td>67.74</td>\n",
       "      <td>81.68</td>\n",
       "      <td>82.87</td>\n",
       "      <td>...</td>\n",
       "      <td>0.50</td>\n",
       "      <td>NaN</td>\n",
       "      <td>NaN</td>\n",
       "      <td>0.12</td>\n",
       "      <td>0.25</td>\n",
       "      <td>NaN</td>\n",
       "      <td>NaN</td>\n",
       "      <td>NaN</td>\n",
       "      <td>NaN</td>\n",
       "      <td>NaN</td>\n",
       "    </tr>\n",
       "    <tr>\n",
       "      <th>6</th>\n",
       "      <td>711sUHL5feGZQ4HZai697P</td>\n",
       "      <td>-23.46</td>\n",
       "      <td>-20.55</td>\n",
       "      <td>-16.85</td>\n",
       "      <td>-13.01</td>\n",
       "      <td>-10.89</td>\n",
       "      <td>108.52</td>\n",
       "      <td>109.38</td>\n",
       "      <td>111.54</td>\n",
       "      <td>116.88</td>\n",
       "      <td>...</td>\n",
       "      <td>0.14</td>\n",
       "      <td>NaN</td>\n",
       "      <td>0.29</td>\n",
       "      <td>NaN</td>\n",
       "      <td>NaN</td>\n",
       "      <td>NaN</td>\n",
       "      <td>NaN</td>\n",
       "      <td>NaN</td>\n",
       "      <td>NaN</td>\n",
       "      <td>NaN</td>\n",
       "    </tr>\n",
       "    <tr>\n",
       "      <th>7</th>\n",
       "      <td>5pLpGimrruc4qZSxHBScYz</td>\n",
       "      <td>-47.09</td>\n",
       "      <td>-37.80</td>\n",
       "      <td>-19.52</td>\n",
       "      <td>-16.91</td>\n",
       "      <td>-10.27</td>\n",
       "      <td>58.59</td>\n",
       "      <td>82.40</td>\n",
       "      <td>85.58</td>\n",
       "      <td>86.91</td>\n",
       "      <td>...</td>\n",
       "      <td>0.06</td>\n",
       "      <td>NaN</td>\n",
       "      <td>0.18</td>\n",
       "      <td>0.06</td>\n",
       "      <td>NaN</td>\n",
       "      <td>0.06</td>\n",
       "      <td>NaN</td>\n",
       "      <td>NaN</td>\n",
       "      <td>NaN</td>\n",
       "      <td>NaN</td>\n",
       "    </tr>\n",
       "    <tr>\n",
       "      <th>8</th>\n",
       "      <td>7igDc2V0gCwBYV5rBUw1g7</td>\n",
       "      <td>-30.93</td>\n",
       "      <td>-27.92</td>\n",
       "      <td>-21.31</td>\n",
       "      <td>-16.93</td>\n",
       "      <td>-15.60</td>\n",
       "      <td>69.14</td>\n",
       "      <td>74.56</td>\n",
       "      <td>100.69</td>\n",
       "      <td>101.27</td>\n",
       "      <td>...</td>\n",
       "      <td>0.20</td>\n",
       "      <td>NaN</td>\n",
       "      <td>NaN</td>\n",
       "      <td>NaN</td>\n",
       "      <td>NaN</td>\n",
       "      <td>NaN</td>\n",
       "      <td>NaN</td>\n",
       "      <td>NaN</td>\n",
       "      <td>NaN</td>\n",
       "      <td>NaN</td>\n",
       "    </tr>\n",
       "    <tr>\n",
       "      <th>9</th>\n",
       "      <td>777Em4kHDduR6HgVTKdwpf</td>\n",
       "      <td>-35.02</td>\n",
       "      <td>-28.04</td>\n",
       "      <td>-23.44</td>\n",
       "      <td>-20.81</td>\n",
       "      <td>-18.30</td>\n",
       "      <td>0.00</td>\n",
       "      <td>59.72</td>\n",
       "      <td>62.42</td>\n",
       "      <td>64.24</td>\n",
       "      <td>...</td>\n",
       "      <td>NaN</td>\n",
       "      <td>NaN</td>\n",
       "      <td>NaN</td>\n",
       "      <td>NaN</td>\n",
       "      <td>NaN</td>\n",
       "      <td>NaN</td>\n",
       "      <td>NaN</td>\n",
       "      <td>NaN</td>\n",
       "      <td>NaN</td>\n",
       "      <td>NaN</td>\n",
       "    </tr>\n",
       "  </tbody>\n",
       "</table>\n",
       "<p>10 rows × 153 columns</p>\n",
       "</div>"
      ],
      "text/plain": [
       "                       id  loudness_0  loudness_25  loudness_50  loudness_75  \\\n",
       "0  1JSIWsJfxOji0FrxFcxdCK      -37.15       -24.38       -16.22       -11.01   \n",
       "1  5QnJqzHud1dXiz0nohQtbv      -28.85       -28.55       -28.26       -24.71   \n",
       "2  7LnCjHudaBcB7gprluL2jG      -33.94       -23.38       -18.88       -15.86   \n",
       "3  1S1JlOrGDpkbVhWCsOjUIh      -15.84       -14.33       -12.82       -10.10   \n",
       "4  1J8JRBcaJUPctNt6DM12iD      -22.08       -20.58       -18.01       -15.02   \n",
       "5  69ai605TdgykOy3UTKuywI      -33.95       -27.29       -23.17       -19.82   \n",
       "6  711sUHL5feGZQ4HZai697P      -23.46       -20.55       -16.85       -13.01   \n",
       "7  5pLpGimrruc4qZSxHBScYz      -47.09       -37.80       -19.52       -16.91   \n",
       "8  7igDc2V0gCwBYV5rBUw1g7      -30.93       -27.92       -21.31       -16.93   \n",
       "9  777Em4kHDduR6HgVTKdwpf      -35.02       -28.04       -23.44       -20.81   \n",
       "\n",
       "   loudness_100  tempo_0  tempo_25  tempo_50  tempo_75  ...  key_10  key_4  \\\n",
       "0         -9.65   100.14    108.83    118.57    122.41  ...     NaN    NaN   \n",
       "1        -21.16    45.41     46.40     47.39     47.40  ...     NaN    NaN   \n",
       "2        -10.38    98.10     98.97    100.37    101.27  ...    0.17   0.17   \n",
       "3         -7.37   126.25    127.29    128.34    129.05  ...     NaN    NaN   \n",
       "4        -12.28    88.55     90.99     92.15     92.86  ...     NaN    NaN   \n",
       "5        -18.24     0.00     67.74     81.68     82.87  ...    0.50    NaN   \n",
       "6        -10.89   108.52    109.38    111.54    116.88  ...    0.14    NaN   \n",
       "7        -10.27    58.59     82.40     85.58     86.91  ...    0.06    NaN   \n",
       "8        -15.60    69.14     74.56    100.69    101.27  ...    0.20    NaN   \n",
       "9        -18.30     0.00     59.72     62.42     64.24  ...     NaN    NaN   \n",
       "\n",
       "   key_9  key_8  key_3  key_11  key_6  key_1  key_-1  mode_-1  \n",
       "0    NaN    NaN    NaN     NaN    NaN    NaN     NaN      NaN  \n",
       "1    NaN    NaN    NaN     NaN    NaN    NaN     NaN      NaN  \n",
       "2    NaN    NaN    NaN     NaN    NaN    NaN     NaN      NaN  \n",
       "3   0.33    NaN    NaN     NaN    NaN    NaN     NaN      NaN  \n",
       "4    NaN    NaN    NaN     NaN    NaN    NaN     NaN      NaN  \n",
       "5    NaN   0.12   0.25     NaN    NaN    NaN     NaN      NaN  \n",
       "6   0.29    NaN    NaN     NaN    NaN    NaN     NaN      NaN  \n",
       "7   0.18   0.06    NaN    0.06    NaN    NaN     NaN      NaN  \n",
       "8    NaN    NaN    NaN     NaN    NaN    NaN     NaN      NaN  \n",
       "9    NaN    NaN    NaN     NaN    NaN    NaN     NaN      NaN  \n",
       "\n",
       "[10 rows x 153 columns]"
      ]
     },
     "execution_count": 20,
     "metadata": {},
     "output_type": "execute_result"
    }
   ],
   "source": [
    "df_audio_extra.head(10)"
   ]
  },
  {
   "cell_type": "code",
   "execution_count": 24,
   "id": "edd1b495",
   "metadata": {},
   "outputs": [
    {
     "name": "stdout",
     "output_type": "stream",
     "text": [
      "id              object\n",
      "loudness_0     float64\n",
      "loudness_25    float64\n",
      "loudness_50    float64\n",
      "loudness_75    float64\n",
      "                ...   \n",
      "key_11         float64\n",
      "key_6          float64\n",
      "key_1          float64\n",
      "key_-1         float64\n",
      "mode_-1        float64\n",
      "Length: 153, dtype: object\n",
      "danceability        float64\n",
      "energy              float64\n",
      "loudness            float64\n",
      "speechiness         float64\n",
      "acousticness        float64\n",
      "instrumentalness    float64\n",
      "liveness            float64\n",
      "valence             float64\n",
      "tempo               float64\n",
      "duration_ms           int64\n",
      "key_1                 uint8\n",
      "key_10                uint8\n",
      "key_11                uint8\n",
      "key_2                 uint8\n",
      "key_4                 uint8\n",
      "key_5                 uint8\n",
      "key_6                 uint8\n",
      "key_7                 uint8\n",
      "key_8                 uint8\n",
      "key_9                 uint8\n",
      "mode_1                uint8\n",
      "id                   object\n",
      "dtype: object\n"
     ]
    }
   ],
   "source": [
    "df_audio_extra.columns.tolist()\n",
    "print(df_audio_extra.dtypes)\n",
    "print(feature_df.dtypes)"
   ]
  },
  {
   "cell_type": "code",
   "execution_count": 29,
   "id": "fc24e21d",
   "metadata": {},
   "outputs": [
    {
     "name": "stdout",
     "output_type": "stream",
     "text": [
      "['danceability', 'energy', 'loudness', 'speechiness', 'acousticness', 'instrumentalness', 'liveness', 'valence', 'tempo', 'duration_ms', 'key_1_x', 'key_10_x', 'key_11_x', 'key_2_x', 'key_4_x', 'key_5_x', 'key_6_x', 'key_7_x', 'key_8_x', 'key_9_x', 'mode_1_x', 'id', 'loudness_0', 'loudness_25', 'loudness_50', 'loudness_75', 'loudness_100', 'tempo_0', 'tempo_25', 'tempo_50', 'tempo_75', 'tempo_100', 'key_0', 'key_2_y', 'mode_1_y', 'mode_0', 'C_10', 'C_25', 'C_50', 'C_75', 'C_90', 'C#_10', 'C#_25', 'C#_50', 'C#_75', 'C#_90', 'D_10', 'D_25', 'D_50', 'D_75', 'D_90', 'D#_10', 'D#_25', 'D#_50', 'D#_75', 'D#_90', 'E_10', 'E_25', 'E_50', 'E_75', 'E_90', 'F_10', 'F_25', 'F_50', 'F_75', 'F_90', 'F#_10', 'F#_25', 'F#_50', 'F#_75', 'F#_90', 'G_10', 'G_25', 'G_50', 'G_75', 'G_90', 'G#_10', 'G#_25', 'G#_50', 'G#_75', 'G#_90', 'A_10', 'A_25', 'A_50', 'A_75', 'A_90', 'A#_10', 'A#_25', 'A#_50', 'A#_75', 'A#_90', 'B_10', 'B_25', 'B_50', 'B_75', 'B_90', 'timbre_0_10', 'timbre_0_25', 'timbre_0_50', 'timbre_0_75', 'timbre_0_90', 'timbre_1_10', 'timbre_1_25', 'timbre_1_50', 'timbre_1_75', 'timbre_1_90', 'timbre_2_10', 'timbre_2_25', 'timbre_2_50', 'timbre_2_75', 'timbre_2_90', 'timbre_3_10', 'timbre_3_25', 'timbre_3_50', 'timbre_3_75', 'timbre_3_90', 'timbre_4_10', 'timbre_4_25', 'timbre_4_50', 'timbre_4_75', 'timbre_4_90', 'timbre_5_10', 'timbre_5_25', 'timbre_5_50', 'timbre_5_75', 'timbre_5_90', 'timbre_6_10', 'timbre_6_25', 'timbre_6_50', 'timbre_6_75', 'timbre_6_90', 'timbre_7_10', 'timbre_7_25', 'timbre_7_50', 'timbre_7_75', 'timbre_7_90', 'timbre_8_10', 'timbre_8_25', 'timbre_8_50', 'timbre_8_75', 'timbre_8_90', 'timbre_9_10', 'timbre_9_25', 'timbre_9_50', 'timbre_9_75', 'timbre_9_90', 'timbre_10_10', 'timbre_10_25', 'timbre_10_50', 'timbre_10_75', 'timbre_10_90', 'timbre_11_10', 'timbre_11_25', 'timbre_11_50', 'timbre_11_75', 'timbre_11_90', 'zero_crossings_mean', 'zero_crossings_std', 'spectral_centroids_mean', 'spectral_centroids_std', 'rolloff_mean', 'rolloff_std', 'key_5_y', 'key_7_y', 'key_10_y', 'key_4_y', 'key_9_y', 'key_8_y', 'key_3', 'key_11_y', 'key_6_y', 'key_1_y', 'key_-1', 'mode_-1']\n"
     ]
    },
    {
     "data": {
      "text/html": [
       "<div>\n",
       "<style scoped>\n",
       "    .dataframe tbody tr th:only-of-type {\n",
       "        vertical-align: middle;\n",
       "    }\n",
       "\n",
       "    .dataframe tbody tr th {\n",
       "        vertical-align: top;\n",
       "    }\n",
       "\n",
       "    .dataframe thead th {\n",
       "        text-align: right;\n",
       "    }\n",
       "</style>\n",
       "<table border=\"1\" class=\"dataframe\">\n",
       "  <thead>\n",
       "    <tr style=\"text-align: right;\">\n",
       "      <th></th>\n",
       "      <th>danceability</th>\n",
       "      <th>energy</th>\n",
       "      <th>loudness</th>\n",
       "      <th>speechiness</th>\n",
       "      <th>acousticness</th>\n",
       "      <th>instrumentalness</th>\n",
       "      <th>liveness</th>\n",
       "      <th>valence</th>\n",
       "      <th>tempo</th>\n",
       "      <th>duration_ms</th>\n",
       "      <th>...</th>\n",
       "      <th>key_10_y</th>\n",
       "      <th>key_4_y</th>\n",
       "      <th>key_9_y</th>\n",
       "      <th>key_8_y</th>\n",
       "      <th>key_3</th>\n",
       "      <th>key_11_y</th>\n",
       "      <th>key_6_y</th>\n",
       "      <th>key_1_y</th>\n",
       "      <th>key_-1</th>\n",
       "      <th>mode_-1</th>\n",
       "    </tr>\n",
       "  </thead>\n",
       "  <tbody>\n",
       "    <tr>\n",
       "      <th>0</th>\n",
       "      <td>0.304</td>\n",
       "      <td>0.6570</td>\n",
       "      <td>-13.567</td>\n",
       "      <td>0.0824</td>\n",
       "      <td>0.787</td>\n",
       "      <td>0.954</td>\n",
       "      <td>0.113</td>\n",
       "      <td>0.1020</td>\n",
       "      <td>120.338</td>\n",
       "      <td>162133</td>\n",
       "      <td>...</td>\n",
       "      <td>NaN</td>\n",
       "      <td>NaN</td>\n",
       "      <td>NaN</td>\n",
       "      <td>NaN</td>\n",
       "      <td>NaN</td>\n",
       "      <td>NaN</td>\n",
       "      <td>NaN</td>\n",
       "      <td>NaN</td>\n",
       "      <td>NaN</td>\n",
       "      <td>NaN</td>\n",
       "    </tr>\n",
       "    <tr>\n",
       "      <th>1</th>\n",
       "      <td>0.295</td>\n",
       "      <td>0.0847</td>\n",
       "      <td>-25.278</td>\n",
       "      <td>0.0297</td>\n",
       "      <td>0.979</td>\n",
       "      <td>0.962</td>\n",
       "      <td>0.114</td>\n",
       "      <td>0.2790</td>\n",
       "      <td>47.056</td>\n",
       "      <td>75693</td>\n",
       "      <td>...</td>\n",
       "      <td>NaN</td>\n",
       "      <td>NaN</td>\n",
       "      <td>NaN</td>\n",
       "      <td>NaN</td>\n",
       "      <td>NaN</td>\n",
       "      <td>NaN</td>\n",
       "      <td>NaN</td>\n",
       "      <td>NaN</td>\n",
       "      <td>NaN</td>\n",
       "      <td>NaN</td>\n",
       "    </tr>\n",
       "    <tr>\n",
       "      <th>2</th>\n",
       "      <td>0.266</td>\n",
       "      <td>0.2130</td>\n",
       "      <td>-15.952</td>\n",
       "      <td>0.0383</td>\n",
       "      <td>0.991</td>\n",
       "      <td>0.878</td>\n",
       "      <td>0.110</td>\n",
       "      <td>0.0323</td>\n",
       "      <td>99.451</td>\n",
       "      <td>101867</td>\n",
       "      <td>...</td>\n",
       "      <td>0.17</td>\n",
       "      <td>0.17</td>\n",
       "      <td>NaN</td>\n",
       "      <td>NaN</td>\n",
       "      <td>NaN</td>\n",
       "      <td>NaN</td>\n",
       "      <td>NaN</td>\n",
       "      <td>NaN</td>\n",
       "      <td>NaN</td>\n",
       "      <td>NaN</td>\n",
       "    </tr>\n",
       "    <tr>\n",
       "      <th>3</th>\n",
       "      <td>0.326</td>\n",
       "      <td>0.5200</td>\n",
       "      <td>-10.204</td>\n",
       "      <td>0.0478</td>\n",
       "      <td>0.930</td>\n",
       "      <td>0.495</td>\n",
       "      <td>0.352</td>\n",
       "      <td>0.1320</td>\n",
       "      <td>128.029</td>\n",
       "      <td>67067</td>\n",
       "      <td>...</td>\n",
       "      <td>NaN</td>\n",
       "      <td>NaN</td>\n",
       "      <td>0.33</td>\n",
       "      <td>NaN</td>\n",
       "      <td>NaN</td>\n",
       "      <td>NaN</td>\n",
       "      <td>NaN</td>\n",
       "      <td>NaN</td>\n",
       "      <td>NaN</td>\n",
       "      <td>NaN</td>\n",
       "    </tr>\n",
       "    <tr>\n",
       "      <th>4</th>\n",
       "      <td>0.298</td>\n",
       "      <td>0.2170</td>\n",
       "      <td>-15.660</td>\n",
       "      <td>0.0321</td>\n",
       "      <td>0.941</td>\n",
       "      <td>0.388</td>\n",
       "      <td>0.109</td>\n",
       "      <td>0.1470</td>\n",
       "      <td>90.713</td>\n",
       "      <td>111933</td>\n",
       "      <td>...</td>\n",
       "      <td>NaN</td>\n",
       "      <td>NaN</td>\n",
       "      <td>NaN</td>\n",
       "      <td>NaN</td>\n",
       "      <td>NaN</td>\n",
       "      <td>NaN</td>\n",
       "      <td>NaN</td>\n",
       "      <td>NaN</td>\n",
       "      <td>NaN</td>\n",
       "      <td>NaN</td>\n",
       "    </tr>\n",
       "  </tbody>\n",
       "</table>\n",
       "<p>5 rows × 174 columns</p>\n",
       "</div>"
      ],
      "text/plain": [
       "   danceability  energy  loudness  speechiness  acousticness  \\\n",
       "0         0.304  0.6570   -13.567       0.0824         0.787   \n",
       "1         0.295  0.0847   -25.278       0.0297         0.979   \n",
       "2         0.266  0.2130   -15.952       0.0383         0.991   \n",
       "3         0.326  0.5200   -10.204       0.0478         0.930   \n",
       "4         0.298  0.2170   -15.660       0.0321         0.941   \n",
       "\n",
       "   instrumentalness  liveness  valence    tempo  duration_ms  ...  key_10_y  \\\n",
       "0             0.954     0.113   0.1020  120.338       162133  ...       NaN   \n",
       "1             0.962     0.114   0.2790   47.056        75693  ...       NaN   \n",
       "2             0.878     0.110   0.0323   99.451       101867  ...      0.17   \n",
       "3             0.495     0.352   0.1320  128.029        67067  ...       NaN   \n",
       "4             0.388     0.109   0.1470   90.713       111933  ...       NaN   \n",
       "\n",
       "   key_4_y  key_9_y  key_8_y  key_3  key_11_y  key_6_y  key_1_y  key_-1  \\\n",
       "0      NaN      NaN      NaN    NaN       NaN      NaN      NaN     NaN   \n",
       "1      NaN      NaN      NaN    NaN       NaN      NaN      NaN     NaN   \n",
       "2     0.17      NaN      NaN    NaN       NaN      NaN      NaN     NaN   \n",
       "3      NaN     0.33      NaN    NaN       NaN      NaN      NaN     NaN   \n",
       "4      NaN      NaN      NaN    NaN       NaN      NaN      NaN     NaN   \n",
       "\n",
       "   mode_-1  \n",
       "0      NaN  \n",
       "1      NaN  \n",
       "2      NaN  \n",
       "3      NaN  \n",
       "4      NaN  \n",
       "\n",
       "[5 rows x 174 columns]"
      ]
     },
     "execution_count": 29,
     "metadata": {},
     "output_type": "execute_result"
    }
   ],
   "source": [
    "## join the basic df with the extensive_audio df\n",
    "\n",
    "joined_df = pandas.merge(feature_df, df_audio_extra, how='inner', on='id')\n",
    "print(joined_df.columns.tolist())\n",
    "joined_df.head()\n"
   ]
  },
  {
   "cell_type": "code",
   "execution_count": 31,
   "id": "362ece6e",
   "metadata": {},
   "outputs": [
    {
     "name": "stdout",
     "output_type": "stream",
     "text": [
      "100 100 100 100\n"
     ]
    }
   ],
   "source": [
    "## sanity \n",
    "\n",
    "print(len(feature_df), len(df_audio_extra), len(joined_df), len(trackids))"
   ]
  },
  {
   "cell_type": "code",
   "execution_count": null,
   "id": "80c8c132",
   "metadata": {},
   "outputs": [],
   "source": []
  },
  {
   "cell_type": "code",
   "execution_count": null,
   "id": "5a48e467",
   "metadata": {},
   "outputs": [],
   "source": []
  },
  {
   "cell_type": "code",
   "execution_count": null,
   "id": "8fb590d0",
   "metadata": {},
   "outputs": [],
   "source": []
  },
  {
   "cell_type": "code",
   "execution_count": null,
   "id": "d0fca908",
   "metadata": {},
   "outputs": [],
   "source": []
  },
  {
   "cell_type": "code",
   "execution_count": null,
   "id": "76c4b529",
   "metadata": {},
   "outputs": [],
   "source": []
  },
  {
   "cell_type": "code",
   "execution_count": null,
   "id": "7df9f5ef",
   "metadata": {},
   "outputs": [],
   "source": []
  },
  {
   "cell_type": "code",
   "execution_count": null,
   "id": "61dbf7c3",
   "metadata": {},
   "outputs": [],
   "source": []
  }
 ],
 "metadata": {
  "kernelspec": {
   "display_name": "Python 3 (ipykernel)",
   "language": "python",
   "name": "python3"
  },
  "language_info": {
   "codemirror_mode": {
    "name": "ipython",
    "version": 3
   },
   "file_extension": ".py",
   "mimetype": "text/x-python",
   "name": "python",
   "nbconvert_exporter": "python",
   "pygments_lexer": "ipython3",
   "version": "3.8.3"
  }
 },
 "nbformat": 4,
 "nbformat_minor": 5
}
